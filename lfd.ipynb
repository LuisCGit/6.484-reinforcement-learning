{
  "cells": [
    {
      "cell_type": "markdown",
      "metadata": {
        "id": "view-in-github",
        "colab_type": "text"
      },
      "source": [
        "<a href=\"https://colab.research.google.com/github/LuisCGit/6.484-reinforcement-learning/blob/main/lfd.ipynb\" target=\"_parent\"><img src=\"https://colab.research.google.com/assets/colab-badge.svg\" alt=\"Open In Colab\"/></a>"
      ]
    },
    {
      "cell_type": "markdown",
      "metadata": {
        "id": "NcyVmjGrSE-C"
      },
      "source": [
        "# Spring 2022 6.484 Computational Sensorimotor Learning Assignment 4\n",
        "\n",
        "In this assignment, we will work on learning from demonstrations. \n",
        "\n",
        "You will need to **answer the bolded questions** and **fill in the missing code snippets** (marked by **TODO**).\n",
        "\n",
        "There are **130** total points to be had in this PSET.  `ctrl-f` for \"pts\" to ensure you don't miss questions.\n",
        "\n",
        "**_Please fill in your name below:_**\n",
        "\n",
        "**Name**: Luis Costa Laveron"
      ]
    },
    {
      "cell_type": "code",
      "execution_count": 1,
      "metadata": {
        "id": "fQNYcagOR0_D"
      },
      "outputs": [],
      "source": [
        "!pip install pybullet > /dev/null 2>&1\n",
        "!pip install git+https://github.com/taochenshh/easyrl.git > /dev/null 2>&1\n",
        "!pip install git+https://github.com/Improbable-AI/airobot.git > /dev/null 2>&1\n",
        "!pip install gym pyvirtualdisplay > /dev/null 2>&1\n",
        "!apt-get install -y xvfb python-opengl ffmpeg > /dev/null 2>&1"
      ]
    },
    {
      "cell_type": "code",
      "execution_count": 17,
      "metadata": {
        "id": "zyrsDfdwj_S1"
      },
      "outputs": [],
      "source": [
        "import os\n",
        "import torch\n",
        "import gym\n",
        "import pprint\n",
        "import time\n",
        "import pybullet as p\n",
        "import pybullet_data as pd\n",
        "import pybullet_envs\n",
        "import airobot as ar\n",
        "import numpy as np\n",
        "import matplotlib.pyplot as plt\n",
        "import torch.optim as optim\n",
        "import torch.nn.functional as F\n",
        "from typing import Any\n",
        "from matplotlib import animation\n",
        "from IPython.display import HTML\n",
        "from matplotlib import pylab\n",
        "from dataclasses import dataclass\n",
        "from airobot import Robot\n",
        "from airobot.utils.common import quat2euler\n",
        "from airobot.utils.common import euler2quat\n",
        "from gym import spaces\n",
        "from gym.envs.registration import registry, register\n",
        "from gym.wrappers import Monitor\n",
        "from tensorboard.backend.event_processing.event_accumulator import EventAccumulator\n",
        "from tqdm.notebook import tqdm\n",
        "from torch import nn\n",
        "from torch.utils.data import Dataset\n",
        "from torch.utils.data import DataLoader\n",
        "from pathlib import Path\n",
        "from copy import deepcopy\n",
        "from itertools import count\n",
        "from easyrl.agents.ppo_agent import PPOAgent\n",
        "from easyrl.utils.common import save_traj\n",
        "from easyrl.configs import cfg\n",
        "from easyrl.configs import set_config\n",
        "from easyrl.configs.command_line import cfg_from_cmd\n",
        "from easyrl.engine.ppo_engine import PPOEngine\n",
        "from easyrl.models.categorical_policy import CategoricalPolicy\n",
        "from easyrl.models.diag_gaussian_policy import DiagGaussianPolicy\n",
        "from easyrl.models.mlp import MLP\n",
        "from easyrl.models.value_net import ValueNet\n",
        "from easyrl.agents.base_agent import BaseAgent\n",
        "from easyrl.utils.torch_util import DictDataset\n",
        "from easyrl.utils.torch_util import load_state_dict\n",
        "from easyrl.utils.torch_util import load_torch_model\n",
        "from easyrl.runner.nstep_runner import EpisodicRunner\n",
        "from easyrl.utils.torch_util import save_model\n",
        "from easyrl.utils.torch_util import action_entropy\n",
        "from easyrl.utils.torch_util import action_from_dist\n",
        "from easyrl.utils.torch_util import action_log_prob\n",
        "from easyrl.utils.torch_util import clip_grad\n",
        "from easyrl.utils.common import set_random_seed\n",
        "from easyrl.utils.gym_util import make_vec_env\n",
        "from easyrl.utils.common import load_from_json\n",
        "from easyrl.utils.torch_util import freeze_model\n",
        "from easyrl.utils.torch_util import move_to\n",
        "from easyrl.utils.torch_util import torch_float\n",
        "from easyrl.utils.torch_util import torch_to_np\n",
        "from base64 import b64encode\n",
        "from IPython import display as ipythondisplay\n",
        "import seaborn as sns\n",
        "import pandas\n",
        "import pickle\n",
        "%matplotlib inline"
      ]
    },
    {
      "cell_type": "code",
      "execution_count": 3,
      "metadata": {
        "id": "G-jPEdR40oJx",
        "outputId": "1a4682d4-6dfd-4ccc-ad80-d8d9bb9f4afa",
        "colab": {
          "base_uri": "https://localhost:8080/"
        }
      },
      "outputs": [
        {
          "output_type": "execute_result",
          "data": {
            "text/plain": [
              "<pyvirtualdisplay.display.Display at 0x7fda65e67750>"
            ]
          },
          "metadata": {},
          "execution_count": 3
        }
      ],
      "source": [
        "from pyvirtualdisplay import Display\n",
        "display = Display(visible=0, size=(1400, 900))\n",
        "display.start()"
      ]
    },
    {
      "cell_type": "code",
      "execution_count": 4,
      "metadata": {
        "id": "D7rlsrslkGDK"
      },
      "outputs": [],
      "source": [
        "def play_video(video_dir, video_file=None, video_id=None):\n",
        "    if video_file is None:\n",
        "        video_dir = Path(video_dir)\n",
        "        video_files = list(video_dir.glob(f'**/render_video.mp4'))\n",
        "        if video_id is not None:\n",
        "            video_files = [x for x in video_files if f'{video_id:06d}' in x.as_posix()]\n",
        "        video_files.sort()\n",
        "        video_file = video_files[-1]\n",
        "    else:\n",
        "        video_file = Path(video_file)\n",
        "    compressed_file = video_file.parent.joinpath('comp.mp4')\n",
        "    os.system(f\"ffmpeg -i {video_file} -filter:v 'setpts=2.0*PTS' -vcodec libx264 {compressed_file.as_posix()}\")\n",
        "    mp4 = open(compressed_file.as_posix(),'rb').read()\n",
        "    data_url = \"data:video/mp4;base64,\" + b64encode(mp4).decode()\n",
        "    ipythondisplay.display(HTML(\"\"\"\n",
        "    <video width=400 controls>\n",
        "        <source src=\"%s\" type=\"video/mp4\">\n",
        "    </video>\n",
        "    \"\"\" % data_url))\n",
        "\n",
        "# read tf log file\n",
        "def read_tf_log(log_dir):\n",
        "    log_dir = Path(log_dir)\n",
        "    log_files = list(log_dir.glob(f'**/events.*'))\n",
        "    if len(log_files) < 1:\n",
        "        return None\n",
        "    log_file = log_files[0]\n",
        "    event_acc = EventAccumulator(log_file.as_posix())\n",
        "    event_acc.Reload()\n",
        "    tags = event_acc.Tags()\n",
        "    try:\n",
        "        scalar_success = event_acc.Scalars('train/episode_success')\n",
        "        success_rate = [x.value for x in scalar_success]\n",
        "        steps = [x.step for x in scalar_success]\n",
        "        scalar_return = event_acc.Scalars('train/episode_return/mean')\n",
        "        returns = [x.value for x in scalar_return]\n",
        "    except:\n",
        "        return None\n",
        "    return steps, returns, success_rate\n",
        "\n",
        "\n",
        "def plot_curves(data_dict, title):\n",
        "    # {label: [x, y]}\n",
        "    fig, ax = plt.subplots(figsize=(4, 3))\n",
        "    labels = data_dict.keys()\n",
        "    for label, data in data_dict.items():\n",
        "        x = data[0]\n",
        "        y = data[1]\n",
        "        ax.plot(x, y, label=label)\n",
        "    ax.set_title(title)\n",
        "    ax.legend()\n",
        "\n",
        "def set_random_seed(seed):\n",
        "    np.random.seed(seed)\n",
        "    torch.manual_seed(seed)\n",
        "\n",
        "# set random seed\n",
        "seed = 0\n",
        "set_random_seed(seed=seed)\n"
      ]
    },
    {
      "cell_type": "markdown",
      "metadata": {
        "id": "TzsXGdpQ0Lno"
      },
      "source": [
        "# Environment (Pusher)\n",
        "\n",
        "In this assignment, we will use the Pusher environment that we used in HW3. We modified the environment so that the goal locations are randomly sampled within a small region."
      ]
    },
    {
      "cell_type": "code",
      "execution_count": 5,
      "metadata": {
        "id": "rjjLgXclGC1k"
      },
      "outputs": [],
      "source": [
        "class URRobotPusherGym(gym.Env):\n",
        "    def __init__(self,\n",
        "                 action_repeat=10,\n",
        "                 gui=False,\n",
        "                 max_episode_length=30,\n",
        "                 dist_threshold=0.05):\n",
        "        self._action_repeat = action_repeat\n",
        "        self._max_episode_length = max_episode_length\n",
        "        self._dist_threshold = dist_threshold\n",
        "\n",
        "        self._xy_bounds = np.array([[0.23, 0.78],  # [xmin, xmax]\n",
        "                                    [-0.35, 0.3]])  # [ymin, ymax]\n",
        "        self._goal_bounds = np.array([[0.3, 0.65],  # [xmin, xmax]\n",
        "                                      [0.0, 0.25]])  # [ymin, ymax]\n",
        "        self.robot = Robot('ur5e_stick',\n",
        "                           pb_cfg={'gui': gui,\n",
        "                                   'realtime': False,\n",
        "                                   'opengl_render': torch.cuda.is_available()})\n",
        "        self._arm_reset_pos = np.array([-0.38337763,\n",
        "                                        -2.02650575,\n",
        "                                        -2.01989619,\n",
        "                                        -0.64477803,\n",
        "                                        1.571439041,\n",
        "                                        -0.38331266])\n",
        "        self._table_id = self.robot.pb_client.load_urdf('table/table.urdf',\n",
        "                                                        [.5, 0, 0.4],\n",
        "                                                        euler2quat([0, 0, np.pi / 2]),\n",
        "                                                        scaling=0.9)\n",
        "\n",
        "        # create a ball at the start location (for visualization purpose)\n",
        "        self._start_pos = np.array([0.45, -0.32, 1.0])\n",
        "        self._start_urdf_id = self.robot.pb_client.load_geom('sphere', size=0.04, mass=0,\n",
        "                                                             base_pos=self._start_pos,\n",
        "                                                             rgba=[1, 1, 0, 0.8])\n",
        "\n",
        "        # create a ball at the goal location\n",
        "        self._goal_pos = np.array([0.5, 0.2, 1.0])\n",
        "        self._goal_urdf_id = self.robot.pb_client.load_geom('sphere', size=0.04, mass=0,\n",
        "                                                            base_pos=self._goal_pos,\n",
        "                                                            rgba=[1, 0, 0, 0.8])\n",
        "\n",
        "        # disable the collision checking between the robot and the ball at the goal location\n",
        "        for i in range(self.robot.pb_client.getNumJoints(self.robot.arm.robot_id)):\n",
        "            self.robot.pb_client.setCollisionFilterPair(self.robot.arm.robot_id,\n",
        "                                                        self._goal_urdf_id,\n",
        "                                                        i,\n",
        "                                                        -1,\n",
        "                                                        enableCollision=0)\n",
        "        # disable the collision checking between the robot and the ball at the start location\n",
        "        for i in range(self.robot.pb_client.getNumJoints(self.robot.arm.robot_id)):\n",
        "            self.robot.pb_client.setCollisionFilterPair(self.robot.arm.robot_id,\n",
        "                                                        self._start_urdf_id,\n",
        "                                                        i,\n",
        "                                                        -1,\n",
        "                                                        enableCollision=0)\n",
        "\n",
        "        self._box_pos = np.array([0.45, -0.1, 0.996])\n",
        "        self._box_id = self.robot.pb_client.load_geom('cylinder', size=[0.05, 0.05], mass=1.,\n",
        "                                                      base_pos=self._box_pos,\n",
        "                                                      rgba=[1., 0.6, 0.6, 1])\n",
        "\n",
        "        self.robot.pb_client.changeDynamics(self._box_id, -1, lateralFriction=0.9)\n",
        "\n",
        "        self.robot.pb_client.setCollisionFilterPair(self._box_id,\n",
        "                                                    self._start_urdf_id,\n",
        "                                                    -1,\n",
        "                                                    -1,\n",
        "                                                    enableCollision=0)\n",
        "        self.robot.pb_client.setCollisionFilterPair(self._box_id,\n",
        "                                                    self._goal_urdf_id,\n",
        "                                                    -1,\n",
        "                                                    -1,\n",
        "                                                    enableCollision=0)\n",
        "\n",
        "        self._action_bound = 1.0\n",
        "        self._ee_pos_scale = 0.04\n",
        "        self._action_high = np.array([self._action_bound] * 2)\n",
        "        self.action_space = spaces.Box(low=-self._action_high,\n",
        "                                       high=self._action_high,\n",
        "                                       dtype=np.float32)\n",
        "        state_low = np.full(len(self._get_obs()), -float('inf'))\n",
        "        state_high = np.full(len(self._get_obs()), float('inf'))\n",
        "        self.observation_space = spaces.Box(state_low,\n",
        "                                            state_high,\n",
        "                                            dtype=np.float32)\n",
        "        self.reset()\n",
        "\n",
        "    def reset(self):\n",
        "        self.robot.arm.set_jpos(self._arm_reset_pos, ignore_physics=True)\n",
        "        self.robot.pb_client.reset_body(self._box_id, base_pos=self._box_pos)\n",
        "\n",
        "        starts = self._goal_bounds[:, 0]\n",
        "        ends = self._goal_bounds[:, 1]\n",
        "        width = ends - starts\n",
        "        # different from HW3, we are setting the goal to a random location\n",
        "        ran = np.random.random(2)\n",
        "        goal_pos = starts + width * ran\n",
        "        goal_pos = np.append(goal_pos, 1)\n",
        "        self._goal_pos = goal_pos\n",
        "        self.robot.pb_client.reset_body(self._goal_urdf_id, base_pos=self._goal_pos)\n",
        "\n",
        "        self._t = 0\n",
        "        self._ref_ee_pos = self.robot.arm.get_ee_pose()[0]\n",
        "        self._ref_ee_ori = self.robot.arm.get_ee_pose()[1]\n",
        "        return self._get_obs()\n",
        "\n",
        "    def step(self, action):\n",
        "        previous_state = self._get_obs()\n",
        "        collision = self._apply_action(action)\n",
        "        self._t += 1\n",
        "        state = self._get_obs()\n",
        "\n",
        "        reward, info = self._get_reward(state=state, action=action, previous_state=previous_state)\n",
        "        done = self._t >= self._max_episode_length or info['success']\n",
        "        info['collision'] = collision\n",
        "        return state, reward, done, info\n",
        "\n",
        "    def _get_reward(self, state, action, previous_state):\n",
        "        object_pos = state[2:4]\n",
        "        dist_to_goal = np.linalg.norm(object_pos - self._goal_pos[:2])\n",
        "        success = dist_to_goal < self._dist_threshold\n",
        "        gripper_pos = state[:2]\n",
        "        prev_object_pos = previous_state[2:4]\n",
        "        prev_dist_to_goal = np.linalg.norm(prev_object_pos - self._goal_pos[:2])\n",
        "\n",
        "        gripper_obj_dist = np.linalg.norm(gripper_pos - object_pos)\n",
        "        reach_reward = -gripper_obj_dist\n",
        "        touch_reward = int(gripper_obj_dist < 0.08) * 0.03 if dist_to_goal < prev_dist_to_goal else 0\n",
        "\n",
        "        push_reward = np.exp(-dist_to_goal * 8) * 1. if touch_reward > 0 else 0\n",
        "        if success:\n",
        "            push_reward += 10\n",
        "        reward = touch_reward + push_reward + reach_reward\n",
        "        info = dict(success=success)\n",
        "        return reward, info\n",
        "\n",
        "    def _get_obs(self):\n",
        "        gripper_pos = self.robot.arm.get_ee_pose()[0][:2]\n",
        "        object_pos, object_quat = self.robot.pb_client.get_body_state(self._box_id)[:2]\n",
        "        state = np.concatenate([gripper_pos, object_pos[:2], self._goal_pos[:2]])\n",
        "        return state\n",
        "\n",
        "    def _apply_action(self, action):\n",
        "        if not isinstance(action, np.ndarray):\n",
        "            action = np.array(action).flatten()\n",
        "        if action.size != 2:\n",
        "            raise ValueError('Action should be [d_x, d_y].')\n",
        "        # we set dz=0\n",
        "        action = np.append(action, 0)\n",
        "        pos, quat, rot_mat, euler = self.robot.arm.get_ee_pose()\n",
        "        pos += action[:3] * self._ee_pos_scale\n",
        "        pos[2] = self._ref_ee_pos[2]\n",
        "        # if the new position is out of the bounds, then we don't apply the action\n",
        "        if not np.logical_and(np.all(pos[:2] >= self._xy_bounds[:, 0]),\n",
        "                              np.all(pos[:2] <= self._xy_bounds[:, 1])):\n",
        "            return False\n",
        "\n",
        "        # move the end-effector to the new position\n",
        "        jnt_pos = self.robot.arm.compute_ik(pos, ori=self._ref_ee_ori)\n",
        "        for step in range(self._action_repeat):\n",
        "            self.robot.arm.set_jpos(jnt_pos)\n",
        "            self.robot.pb_client.stepSimulation()\n",
        "\n",
        "        return False\n",
        "\n",
        "    def render(self, mode='human', **kwargs):\n",
        "        robot_base = self.robot.arm.robot_base_pos\n",
        "        self.robot.cam.setup_camera(focus_pt=robot_base,\n",
        "                                    dist=2,\n",
        "                                    yaw=85,\n",
        "                                    pitch=-20,\n",
        "                                    roll=0)\n",
        "        rgb, _ = self.robot.cam.get_images(get_rgb=True,\n",
        "                                           get_depth=False)\n",
        "        return rgb\n",
        "\n",
        "\n",
        "module_name = __name__\n",
        "\n",
        "env_name = 'URPusher-v1'\n",
        "if env_name in registry.env_specs:\n",
        "    del registry.env_specs[env_name]\n",
        "register(\n",
        "    id=env_name,\n",
        "    entry_point=f'{module_name}:URRobotPusherGym',\n",
        ")"
      ]
    },
    {
      "cell_type": "markdown",
      "metadata": {
        "id": "qShYr_NlkKEl"
      },
      "source": [
        "# Learning from Demonstrations\n",
        "\n",
        "To generate a dataset of demonstrations to learn from, we've provided you a pre-trained expert model."
      ]
    },
    {
      "cell_type": "code",
      "execution_count": 6,
      "metadata": {
        "id": "BQxMB7CslEY8",
        "outputId": "bc49e106-d595-4aeb-a14f-dfc83da22eb3",
        "colab": {
          "base_uri": "https://localhost:8080/"
        }
      },
      "outputs": [
        {
          "output_type": "stream",
          "name": "stdout",
          "text": [
            "WARNING: combining -O with -r or -p will mean that all downloaded content\n",
            "will be placed in the single file you specified.\n",
            "\n",
            "--2022-03-03 05:07:40--  https://docs.google.com/uc?export=download&id=1vlOBeo3caEbl17JEEyxRWbCnFZ--dyXH\n",
            "Resolving docs.google.com (docs.google.com)... 74.125.195.100, 74.125.195.139, 74.125.195.113, ...\n",
            "Connecting to docs.google.com (docs.google.com)|74.125.195.100|:443... connected.\n",
            "HTTP request sent, awaiting response... 303 See Other\n",
            "Location: https://doc-0k-00-docs.googleusercontent.com/docs/securesc/ha0ro937gcuc7l7deffksulhg5h7mbp1/uocu88npdhn0co2pbg69eo28v0vp04r3/1646284050000/13713566268573616286/*/1vlOBeo3caEbl17JEEyxRWbCnFZ--dyXH?e=download [following]\n",
            "Warning: wildcards not supported in HTTP.\n",
            "--2022-03-03 05:07:40--  https://doc-0k-00-docs.googleusercontent.com/docs/securesc/ha0ro937gcuc7l7deffksulhg5h7mbp1/uocu88npdhn0co2pbg69eo28v0vp04r3/1646284050000/13713566268573616286/*/1vlOBeo3caEbl17JEEyxRWbCnFZ--dyXH?e=download\n",
            "Resolving doc-0k-00-docs.googleusercontent.com (doc-0k-00-docs.googleusercontent.com)... 74.125.142.132, 2607:f8b0:400e:c08::84\n",
            "Connecting to doc-0k-00-docs.googleusercontent.com (doc-0k-00-docs.googleusercontent.com)|74.125.142.132|:443... connected.\n",
            "HTTP request sent, awaiting response... 200 OK\n",
            "Length: 167875 (164K) [application/x-zip]\n",
            "Saving to: ‘pusher_expert_model.pt’\n",
            "\n",
            "pusher_expert_model 100%[===================>] 163.94K  --.-KB/s    in 0.002s  \n",
            "\n",
            "2022-03-03 05:07:41 (74.7 MB/s) - ‘pusher_expert_model.pt’ saved [167875/167875]\n",
            "\n",
            "FINISHED --2022-03-03 05:07:41--\n",
            "Total wall clock time: 1.0s\n",
            "Downloaded: 1 files, 164K in 0.002s (74.7 MB/s)\n"
          ]
        }
      ],
      "source": [
        "# Download the expert model\n",
        "!wget --no-check-certificate -r 'https://docs.google.com/uc?export=download&id=1vlOBeo3caEbl17JEEyxRWbCnFZ--dyXH' -O pusher_expert_model.pt"
      ]
    },
    {
      "cell_type": "markdown",
      "metadata": {
        "id": "NYdWirh62l56"
      },
      "source": [
        "## Utility functions"
      ]
    },
    {
      "cell_type": "code",
      "execution_count": 7,
      "metadata": {
        "id": "FySbQl8brSF8"
      },
      "outputs": [],
      "source": [
        "def create_actor(env):\n",
        "    ob_dim = env.observation_space.shape[0]\n",
        "    action_dim = env.action_space.shape[0]\n",
        "    actor_body = MLP(input_size=ob_dim,\n",
        "                    hidden_sizes=[64],\n",
        "                    output_size=64,\n",
        "                    hidden_act=nn.Tanh,\n",
        "                    output_act=nn.Tanh)\n",
        "    actor = DiagGaussianPolicy(actor_body,\n",
        "                               in_features=64,\n",
        "                               action_dim=action_dim)\n",
        "    return actor\n",
        "\n",
        "def load_expert_agent(env, device, expert_model_path='pusher_expert_model.pt'):\n",
        "    expert_actor = create_actor(env=env)\n",
        "    expert_agent = BasicAgent(actor=expert_actor)\n",
        "    print(f'Loading expert model from: {expert_model_path}.')\n",
        "    ckpt_data = torch.load(expert_model_path, map_location=torch.device(f'{device}'))\n",
        "    load_state_dict(expert_agent.actor,\n",
        "                    ckpt_data['actor_state_dict'])\n",
        "    freeze_model(expert_agent.actor)\n",
        "    return expert_agent\n",
        "\n",
        "def generate_demonstration_data(expert_agent, env, num_trials):\n",
        "    return run_inference(expert_agent, env, num_trials, return_on_done=True)\n",
        "\n",
        "def run_inference(agent, env, num_trials, return_on_done=False, sample=True, disable_tqdm=False, render=False):\n",
        "    runner = EpisodicRunner(agent=agent, env=env)\n",
        "    trajs = []\n",
        "    for trial_id in tqdm(range(num_trials), desc='Run', disable=disable_tqdm):\n",
        "        env.reset()\n",
        "        traj = runner(time_steps=cfg.alg.episode_steps,\n",
        "                      sample=sample,\n",
        "                      return_on_done=return_on_done,\n",
        "                      evaluation=True,\n",
        "                      render_image=render)\n",
        "        trajs.append(traj)\n",
        "    return trajs\n",
        "\n",
        "def eval_agent(agent, env, num_trials, disable_tqdm=False, render=False):\n",
        "    trajs = run_inference(agent, env, num_trials, return_on_done=True, \n",
        "                          disable_tqdm=disable_tqdm, render=render)\n",
        "    tsps = []\n",
        "    successes = []\n",
        "    rets = []\n",
        "    for traj in trajs:\n",
        "        tsps = traj.steps_til_done.copy().tolist()\n",
        "        rewards = traj.raw_rewards\n",
        "        infos = traj.infos\n",
        "        for ej in range(rewards.shape[1]):\n",
        "            ret = np.sum(rewards[:tsps[ej], ej])\n",
        "            rets.append(ret)\n",
        "            successes.append(infos[tsps[ej] - 1][ej]['success'])\n",
        "        if render:\n",
        "            save_traj(traj, 'tmp')\n",
        "    ret_mean = np.mean(rets)\n",
        "    ret_std = np.std(rets)\n",
        "    success_rate = np.mean(successes)\n",
        "    return success_rate, ret_mean, ret_std, rets, successes"
      ]
    },
    {
      "cell_type": "code",
      "execution_count": 8,
      "metadata": {
        "id": "uVQB5rzR75r5"
      },
      "outputs": [],
      "source": [
        "@dataclass\n",
        "class BasicAgent:\n",
        "    actor: nn.Module\n",
        "\n",
        "    def __post_init__(self):\n",
        "        move_to([self.actor],\n",
        "                device=cfg.alg.device)\n",
        "\n",
        "    @torch.no_grad()\n",
        "    def get_action(self, ob, sample=True, *args, **kwargs):\n",
        "        t_ob = torch_float(ob, device=cfg.alg.device)\n",
        "        # the policy returns a multi-variate gaussian distribution\n",
        "        act_dist, _ = self.actor(t_ob)\n",
        "        # sample from the distribution\n",
        "        action = action_from_dist(act_dist,\n",
        "                                  sample=sample)\n",
        "        # get the log-probability of the sampled actions\n",
        "        log_prob = action_log_prob(action, act_dist)\n",
        "        # get the entropy of the action distribution\n",
        "        entropy = action_entropy(act_dist, log_prob)\n",
        "        action_info = dict(\n",
        "            log_prob=torch_to_np(log_prob),\n",
        "            entropy=torch_to_np(entropy),\n",
        "        )\n",
        "        return torch_to_np(action), action_info\n"
      ]
    },
    {
      "cell_type": "code",
      "execution_count": 9,
      "metadata": {
        "id": "UMppa3Af84Jt"
      },
      "outputs": [],
      "source": [
        "def set_configs(exp_name='bc'):\n",
        "    set_config('ppo')\n",
        "    cfg.alg.seed = seed\n",
        "    cfg.alg.num_envs = 1\n",
        "    cfg.alg.episode_steps = 150\n",
        "    cfg.alg.max_steps = 600000\n",
        "    cfg.alg.device = 'cuda' if torch.cuda.is_available() else 'cpu'\n",
        "    cfg.alg.env_name = 'URPusher-v1'\n",
        "    cfg.alg.save_dir = Path.cwd().absolute().joinpath('data').as_posix()\n",
        "    cfg.alg.save_dir += f'/{exp_name}'\n",
        "    setattr(cfg.alg, 'diff_cfg', dict(save_dir=cfg.alg.save_dir))\n",
        "\n",
        "    print(f'====================================')\n",
        "    print(f'      Device:{cfg.alg.device}')\n",
        "    print(f'====================================')"
      ]
    },
    {
      "cell_type": "markdown",
      "metadata": {
        "id": "1LTmNxX-176i"
      },
      "source": [
        "## Generating demonstrations\n",
        "\n",
        "Now that you've downloaded the expert policy model, let's load the expert agent."
      ]
    },
    {
      "cell_type": "code",
      "execution_count": 10,
      "metadata": {
        "id": "aIepfAR0pzuy",
        "outputId": "6cb857fc-2a28-436a-d9db-0b1e17ca5235",
        "colab": {
          "base_uri": "https://localhost:8080/"
        }
      },
      "outputs": [
        {
          "output_type": "stream",
          "name": "stderr",
          "text": [
            "\u001b[32m[INFO]\u001b[0m[2022-03-03 05:07:41]: \u001b[32mAlogrithm type:<class 'easyrl.configs.ppo_config.PPOConfig'>\u001b[0m\n",
            "\u001b[32m[INFO]\u001b[0m[2022-03-03 05:07:41]: \u001b[32mCreating 1 environments.\u001b[0m\n",
            "\u001b[32m[INFO]\u001b[0m[2022-03-03 05:07:41]: \u001b[32mLoad in OpenGL!\u001b[0m\n"
          ]
        },
        {
          "output_type": "stream",
          "name": "stdout",
          "text": [
            "====================================\n",
            "      Device:cuda\n",
            "====================================\n"
          ]
        },
        {
          "output_type": "stream",
          "name": "stderr",
          "text": [
            "/usr/local/lib/python3.7/dist-packages/gym/logger.py:30: UserWarning: \u001b[33mWARN: Box bound precision lowered by casting to float32\u001b[0m\n",
            "  warnings.warn(colorize('%s: %s'%('WARN', msg % args), 'yellow'))\n"
          ]
        },
        {
          "output_type": "stream",
          "name": "stdout",
          "text": [
            "Loading expert model from: pusher_expert_model.pt.\n"
          ]
        }
      ],
      "source": [
        "# load the expert agent\n",
        "set_configs()\n",
        "env = make_vec_env(cfg.alg.env_name,\n",
        "                   cfg.alg.num_envs,\n",
        "                   seed=cfg.alg.seed)\n",
        "expert_agent = load_expert_agent(env, device=cfg.alg.device)"
      ]
    },
    {
      "cell_type": "markdown",
      "metadata": {
        "id": "f9STNFnFyJJi"
      },
      "source": [
        "Let's check how good the expert policy is and visualize its performance using `eval_agent` which takes an agent and evaluates it in a specified environment. This function will return to you the succes rate over all trajectories, the mean and standard deviation of total returns, the total returns of each trajectory, and the success of each trajectory."
      ]
    },
    {
      "cell_type": "code",
      "execution_count": 12,
      "metadata": {
        "id": "aOJmhwpmyJJj",
        "outputId": "e999ff9b-397d-4196-e338-44ab08cf8511",
        "colab": {
          "base_uri": "https://localhost:8080/",
          "height": 67,
          "referenced_widgets": [
            "6c77f09baaba45adb645cc9057f39fdd",
            "8327016d798f4390a589afba91b9bb8e",
            "f665988718cb4bc7b4936274317aee29",
            "5a26147741884afb976e3a387d128bda",
            "b2a61c2b2c604020ac8d924f21def2d1",
            "8d20becaf0ed409b9f33a921341e107a",
            "7fd5d99f75fe4282a72cbdd3056b43c7",
            "3078f0e5571446ecbf1ce8e7a87bec29",
            "b388bcc7ba2241e9a6adb07824631d2b",
            "ff93d6a18f3b401ea8d4d69277a32fcf",
            "a20835c8c32344a29b8b4e40e8f02df4"
          ]
        }
      },
      "outputs": [
        {
          "output_type": "display_data",
          "data": {
            "application/vnd.jupyter.widget-view+json": {
              "model_id": "6c77f09baaba45adb645cc9057f39fdd",
              "version_minor": 0,
              "version_major": 2
            },
            "text/plain": [
              "Run:   0%|          | 0/500 [00:00<?, ?it/s]"
            ]
          },
          "metadata": {}
        },
        {
          "output_type": "stream",
          "name": "stdout",
          "text": [
            "Expert policy success rate:0.868\n"
          ]
        }
      ],
      "source": [
        "success_rate, ret_mean, ret_std, rets, successes = eval_agent(expert_agent, env, 500)\n",
        "# you might see some variance in the success rate here, \n",
        "# if you rollout the policies more times, the success rate will be more stable\n",
        "print(f'Expert policy success rate:{success_rate}')"
      ]
    },
    {
      "cell_type": "code",
      "execution_count": 13,
      "metadata": {
        "id": "i_j_Nd4FyxUM",
        "outputId": "3f911e11-a52b-4076-bfe4-fb24497bb216",
        "colab": {
          "base_uri": "https://localhost:8080/",
          "height": 49,
          "referenced_widgets": [
            "e858af0f5c4b405a83f948f2e561f6ee",
            "16e3adfa4d3d48ecb7b8d9e19c0d6175",
            "2e7d9b8d041d4d0bb16a1f1d9793b116",
            "5bb1f2b94b5945f399a4c51c7372bf35",
            "33db875dac6640799dbb29afd27aaa60",
            "3d3a467df9594a58bac41fd7d8b3899f",
            "a0a0f2fca613452188ed826c6b5d6a3d",
            "e7b05e6ac05b476da1ca19e5ac8661fc",
            "b0ba26f2521449d2bc489525c7c0af8a",
            "d15d24b0a8bc45788e638c19d27c68a0",
            "e2f4675364734c75977644c361f04c2f"
          ]
        }
      },
      "outputs": [
        {
          "output_type": "display_data",
          "data": {
            "application/vnd.jupyter.widget-view+json": {
              "model_id": "e858af0f5c4b405a83f948f2e561f6ee",
              "version_minor": 0,
              "version_major": 2
            },
            "text/plain": [
              "Run:   0%|          | 0/5 [00:00<?, ?it/s]"
            ]
          },
          "metadata": {}
        }
      ],
      "source": [
        "# if you set `render=True`, it will save each evaluation trajectory in `tmp`\n",
        "# and you can use `play_video` to visually check the trajectory\n",
        "success_rate, ret_mean, ret_std, rets, successes = eval_agent(expert_agent, env, 5, render=True)"
      ]
    },
    {
      "cell_type": "code",
      "execution_count": null,
      "metadata": {
        "id": "fzdpunm85f9G",
        "outputId": "b2a28019-934e-40f0-c253-89e69821377f",
        "colab": {
          "base_uri": "https://localhost:8080/",
          "height": 321
        }
      },
      "outputs": [
        {
          "output_type": "display_data",
          "data": {
            "text/html": [
              "\n",
              "    <video width=400 controls>\n",
              "        <source src=\"data:video/mp4;base64,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\" type=\"video/mp4\">\n",
              "    </video>\n",
              "    "
            ],
            "text/plain": [
              "<IPython.core.display.HTML object>"
            ]
          },
          "metadata": {}
        }
      ],
      "source": [
        "play_video('tmp', video_id=2)"
      ]
    },
    {
      "cell_type": "markdown",
      "metadata": {
        "id": "43jIXtG82l5-"
      },
      "source": [
        "Finally, let's generate a dataset of 50 expert demonstrations."
      ]
    },
    {
      "cell_type": "code",
      "execution_count": 15,
      "metadata": {
        "id": "StpJmhoHrfSl",
        "outputId": "85a50033-155c-4359-d54f-2187bdf524f7",
        "colab": {
          "base_uri": "https://localhost:8080/",
          "height": 49,
          "referenced_widgets": [
            "6d9f5482707f48479fcacca2f37cb9cc",
            "b485246bcdea4b77bf77e4be2e894e61",
            "360f0ead0bc44dad8f3340a33204b76f",
            "2f2ec7bc15cc4b6b8da9905b8806be88",
            "8fe957a5128945f5a9660f87253f078b",
            "b17fbf4ab610436fb9013c0c8fd65324",
            "dead1d3ab7054962969a872037e68e13",
            "e74ad1b288e5463094bcae8f4d1a1d2e",
            "1e7db46d319d47cc954c8f308bc76c57",
            "6b2f757baf9a415fb69308352de969bf",
            "bb3bfa81ce134ad3939e3ff15c9b412f"
          ]
        }
      },
      "outputs": [
        {
          "output_type": "display_data",
          "data": {
            "application/vnd.jupyter.widget-view+json": {
              "model_id": "6d9f5482707f48479fcacca2f37cb9cc",
              "version_minor": 0,
              "version_major": 2
            },
            "text/plain": [
              "Run:   0%|          | 0/50 [00:00<?, ?it/s]"
            ]
          },
          "metadata": {}
        }
      ],
      "source": [
        "expert_trajs = generate_demonstration_data(expert_agent=expert_agent,\n",
        "                                           env=env,\n",
        "                                           num_trials=50)"
      ]
    },
    {
      "cell_type": "markdown",
      "metadata": {
        "id": "8oc16tBF2qbS"
      },
      "source": [
        "## Behavior Cloning (BC)\n",
        "\n",
        "Now that we have expert demonstrations, let's use supervised learning (behavior cloning) to clone expert behavior. "
      ]
    },
    {
      "cell_type": "code",
      "execution_count": 19,
      "metadata": {
        "id": "llNeMbYH1vB7"
      },
      "outputs": [],
      "source": [
        "class TrajDataset(Dataset):\n",
        "    def __init__(self, trajs):\n",
        "        states = []\n",
        "        actions = []\n",
        "        for traj in trajs:\n",
        "            states.append(traj.obs)\n",
        "            actions.append(traj.actions)\n",
        "        self.states = np.concatenate(states, axis=0)\n",
        "        self.actions = np.concatenate(actions, axis=0)\n",
        "\n",
        "    def __len__(self):\n",
        "        return self.states.shape[0]\n",
        "\n",
        "    def __getitem__(self, idx):\n",
        "        sample = dict()\n",
        "        sample['state'] = self.states[idx]\n",
        "        sample['action'] = self.actions[idx]\n",
        "        return sample\n",
        "    \n",
        "    def add_traj(self, traj=None, states=None, actions=None):\n",
        "        if traj is not None:\n",
        "            self.states = np.concatenate((self.states, traj.obs), axis=0)\n",
        "            self.actions = np.concatenate((self.actions, traj.actions), axis=0)\n",
        "        else:\n",
        "            self.states = np.concatenate((self.states, states), axis=0)\n",
        "            self.actions = np.concatenate((self.actions, actions), axis=0)            \n",
        "\n",
        "def train_bc_agent(agent, trajs, max_epochs=5000, batch_size=256, lr=0.0005, disable_tqdm=True):\n",
        "    dataset = TrajDataset(trajs)\n",
        "    dataloader = DataLoader(dataset, \n",
        "                            batch_size=batch_size, \n",
        "                            shuffle=True)\n",
        "    optimizer = optim.Adam(agent.actor.parameters(),\n",
        "                           lr=lr)\n",
        "    pbar = tqdm(range(max_epochs), desc='Epoch', disable=disable_tqdm)\n",
        "    logs = dict(loss=[], epoch=[])\n",
        "    for iter in pbar:\n",
        "        avg_loss = []\n",
        "        for batch_idx, sample in enumerate(dataloader):\n",
        "            states = sample['state'].float().to(cfg.alg.device)\n",
        "            expert_actions = sample['action'].float().to(cfg.alg.device)\n",
        "            #### TODO: optimize the policy with the expert data,\n",
        "            #### save the loss in a variable named as 'loss'\n",
        "            action_dist, body_x = agent.actor.forward(states)\n",
        "            logps = action_dist.log_prob(expert_actions)\n",
        "            loss = logps.sum()*-1\n",
        "            optimizer.zero_grad()\n",
        "            loss.backward()\n",
        "            optimizer.step()\n",
        "            ####\n",
        "            pbar.set_postfix({'loss': loss.item()})\n",
        "            avg_loss.append(loss.item())\n",
        "\n",
        "        logs['loss'].append(np.mean(avg_loss))\n",
        "        logs['epoch'].append(iter)\n",
        "\n",
        "    return agent, logs, len(dataset)"
      ]
    },
    {
      "cell_type": "markdown",
      "metadata": {
        "id": "iissIMPP3em1"
      },
      "source": [
        "**Q1 (30 pts)**: In the real-world collecting expert demonstrations can be expensive. It would be ideal if we can learn a good policy with only a few demonstrations. To gain an understanding of how much data is necessary, lets measure the performance of the learned policy with varying amounts of expert data. Fill in the missing code and train a BC policy using `train_bc_agent` (the default hyperparameters should be sufficient) with $1, 3, 15, 25, 50$ expert trajectories (note that we've already generated 50 trajectories above so you can just index into these!). You should store each of the trained agents (as well as the mean and std of return) for future comparison against in future parts of this assignment. \n",
        "\n",
        "Once you have trained the BC policy, evaluate your policy on $200$ episodes and plot the average success rate (returned by 'eval_agent') as a function of the number of expert transitions used in training. Note that not all trajectories have the same length. We can think of the number of expert transitions as the number of supervised learning examples or in other words, dataset size (which is returned by `train_bc_agent`). "
      ]
    },
    {
      "cell_type": "code",
      "execution_count": 20,
      "metadata": {
        "id": "r82rPZFqaJfE",
        "outputId": "e27f1c8f-7a34-437f-9980-2d5fb58309e9",
        "colab": {
          "base_uri": "https://localhost:8080/",
          "height": 177,
          "referenced_widgets": [
            "09641c863ba5466791da8ec5e72ffaf7",
            "89d87033ed9341b5af1a28bec7d09fd6",
            "c2c02bbfd4ff41ae8afcb2dcfdc2f64c",
            "a0f6da604ee947cb8062864704936442",
            "daf7e2160d1043ee9cbec01d1eb21f3c",
            "7c2eacb6f4b64356a84a8250d2e842f9",
            "ebd6286d8c4c406c83ea6865a48d3a50",
            "6c44eda844bb45e0bd5f1d6cc8bb7a7d",
            "ead1243b87884b47b58d7916f82902bd",
            "1726da63391546018cc84017a016f287",
            "73d2186ab16f4115b44a2aaf5386f7b4",
            "2b36f42622814b09a85e4cddb7d90820",
            "1c61fe32bb1643fd80219de46c9e9f76",
            "70f4727bd83b4848bdc073dc0001ff94",
            "dfaece9766974451aad1f4a1b936c55c",
            "b26f63b61d45409e87479331c8cfda6b",
            "e709fea983f14df88f95985b766e8da5",
            "13b1f3ab291744f981118521ed9b938a",
            "f7cca85e007640319eb3a802b3fa8a91",
            "9a5e0830f34a426190c30e54e765ea4d",
            "116030d182694473936ad6a03b36e126",
            "a01052e9d2af4585a22e720313654159",
            "4467109fe3a84614a3a0a2f4adb3900a",
            "fe4e19ba50064df8b7e7dfad2b2a033a",
            "fbab05424754463fbd3e017ccf28f698",
            "3bb856a12634422e9f18befee9f1d341",
            "b7a8ee55456e4150b58ea8fffa8531b9",
            "f506ed0587b04ab9a49dc9bab7dae418",
            "5a795561caf249df8cf1d688ac2bbd0f",
            "cbc5930a20ef409896022dfa75b4dac7",
            "69cc0b8a2e4248ac9a35ca34c220f5fb",
            "5c546bf1cec34eccaff8c73a40db1631",
            "c6576257053041c6b947ecd504a38c5e",
            "4dba28ae76d041c1beb53d98572c4b40",
            "3e605ea4d8304d31b40957b2cae3a9c7",
            "f1f73e9835394f6a909ea16b2ab9c58c",
            "ab5403d4b9a348069b1f4f06b021523a",
            "1f21a57142c841079b15846214a8911b",
            "e38734950ba749f1aad365feafa2e221",
            "bfc7d11097754adf85b8a7b112564c14",
            "6a1a3cba796443169adc0addcad6d28b",
            "a3ec6da1694e47cabb68ce66f910ecfb",
            "ff85662b7778443784b8437c5bd82309",
            "81017b3da3b54e76b15dfbc20343b2ae",
            "5232e25c860d447eb666b8430ac6b8e8",
            "4ac7580fafd24ae8951fccdf2ba5ed9a",
            "e792c376bf09435186a6f5d23f8b0f8b",
            "ea79f681bdd94489a7bd023826f6e2d2",
            "21b4f9494e8548ff89bc420a245ded9f",
            "61a670d5d1184166829730cfa7dda5e1",
            "3d9d56fd718442fa97dfe09dfb1ca90e",
            "d35705d5661f40ecbfb0fe3a3f6f48f3",
            "3b8607d5e6a0454780d73b83c61f8130",
            "a86e521120d14508b22512c209cdbc9f",
            "eaf26d4355cf4a9faf3f99c5837f6e61"
          ]
        }
      },
      "outputs": [
        {
          "output_type": "display_data",
          "data": {
            "application/vnd.jupyter.widget-view+json": {
              "model_id": "09641c863ba5466791da8ec5e72ffaf7",
              "version_minor": 0,
              "version_major": 2
            },
            "text/plain": [
              "Run:   0%|          | 0/200 [00:00<?, ?it/s]"
            ]
          },
          "metadata": {}
        },
        {
          "output_type": "display_data",
          "data": {
            "application/vnd.jupyter.widget-view+json": {
              "model_id": "2b36f42622814b09a85e4cddb7d90820",
              "version_minor": 0,
              "version_major": 2
            },
            "text/plain": [
              "Run:   0%|          | 0/200 [00:00<?, ?it/s]"
            ]
          },
          "metadata": {}
        },
        {
          "output_type": "display_data",
          "data": {
            "application/vnd.jupyter.widget-view+json": {
              "model_id": "4467109fe3a84614a3a0a2f4adb3900a",
              "version_minor": 0,
              "version_major": 2
            },
            "text/plain": [
              "Run:   0%|          | 0/200 [00:00<?, ?it/s]"
            ]
          },
          "metadata": {}
        },
        {
          "output_type": "display_data",
          "data": {
            "application/vnd.jupyter.widget-view+json": {
              "model_id": "4dba28ae76d041c1beb53d98572c4b40",
              "version_minor": 0,
              "version_major": 2
            },
            "text/plain": [
              "Run:   0%|          | 0/200 [00:00<?, ?it/s]"
            ]
          },
          "metadata": {}
        },
        {
          "output_type": "display_data",
          "data": {
            "application/vnd.jupyter.widget-view+json": {
              "model_id": "5232e25c860d447eb666b8430ac6b8e8",
              "version_minor": 0,
              "version_major": 2
            },
            "text/plain": [
              "Run:   0%|          | 0/200 [00:00<?, ?it/s]"
            ]
          },
          "metadata": {}
        }
      ],
      "source": [
        "#### TODO: run BC with 1, 3, 15, 25, 50 demonstrations respectively and plot success\n",
        "num_trajs = [1, 3, 15, 25, 50]\n",
        "agents = []\n",
        "rows_list = []\n",
        "for n in num_trajs:\n",
        "  actor = create_actor(env=env)\n",
        "  agent = BasicAgent(actor=actor)\n",
        "  agent, logs, N = train_bc_agent(agent, expert_trajs[:n])\n",
        "  #Q num episodes is last arg of eval_agent?\n",
        "  success_rate, ret_mean, ret_std, rets, successes = eval_agent(agent, env, 200)\n",
        "  dic = {'succes_rate':success_rate,'ret_mean':ret_mean,'ret_std':ret_std,'N':N}\n",
        "  rows_list.append(dic)\n",
        "  agents.append(agent);\n",
        "df = pandas.DataFrame(rows_list)"
      ]
    },
    {
      "cell_type": "code",
      "source": [
        "with open('q1_agents','wb') as f:\n",
        "  pickle.dump(agents,f)"
      ],
      "metadata": {
        "id": "ynWnfCrkNfpa"
      },
      "execution_count": 21,
      "outputs": []
    },
    {
      "cell_type": "code",
      "source": [
        "with open('q1_agents','rb') as f:\n",
        "  aye = pickle.load(f)"
      ],
      "metadata": {
        "id": "kUqiv_y-NxJF"
      },
      "execution_count": 22,
      "outputs": []
    },
    {
      "cell_type": "code",
      "source": [
        "sns.lineplot(x = \"N\", y = \"succes_rate\", data=df)"
      ],
      "metadata": {
        "id": "gZZAxbPAS4wh",
        "outputId": "1e797d82-923c-434e-d2b8-4f96ca596ca0",
        "colab": {
          "base_uri": "https://localhost:8080/",
          "height": 297
        }
      },
      "execution_count": 24,
      "outputs": [
        {
          "output_type": "execute_result",
          "data": {
            "text/plain": [
              "<matplotlib.axes._subplots.AxesSubplot at 0x7fd906dd7dd0>"
            ]
          },
          "metadata": {},
          "execution_count": 24
        },
        {
          "output_type": "display_data",
          "data": {
            "image/png": "[encoded data removed]",
            "text/plain": [
              "<Figure size 432x288 with 1 Axes>"
            ]
          },
          "metadata": {
            "needs_background": "light"
          }
        }
      ]
    },
    {
      "cell_type": "markdown",
      "metadata": {
        "id": "rggQT1s8yJJm"
      },
      "source": [
        "## DAgger\n",
        "\n",
        "As we have learned in the class, behavior cloning suffers from co-variate shift. One way to mitigate this issue is using DAgger. The key idea of DAgger is as follows: \n",
        "1. Train a behavior cloned policy $\\pi_{\\theta_k}$ by using an expert dataset $D$\n",
        "2. Rollout the current policy $\\pi_{\\theta_k}$ and get a trajectory $(s_0, a_0, s_1, a_1, ...)$.\n",
        "3. Query the expert again and get the expert actions $(a^*_0, a^*_1, ...)$. We can add these extra expert demonstration data $D_k=(s_0, a^*_0, s_1, a^*_1, ...)$ to $D$: $D=D\\cup D_k$. \n",
        "4. Optimize the current policy again with the aggregated dataset $D$.\n",
        "5. Repeat step 2 to 4.\n",
        "\n",
        "In the following section, you will implement DAgger algorithm."
      ]
    },
    {
      "cell_type": "code",
      "execution_count": 25,
      "metadata": {
        "id": "vjKKIPqxyJJm"
      },
      "outputs": [],
      "source": [
        "@dataclass\n",
        "class DaggerAgent:\n",
        "    actor: nn.Module\n",
        "    expert_actor: nn.Module\n",
        "    lr: float\n",
        "\n",
        "    def __post_init__(self):\n",
        "        move_to([self.actor, self.expert_actor],\n",
        "                device=cfg.alg.device)\n",
        "        freeze_model(self.expert_actor)\n",
        "        self.optimizer = optim.Adam(self.actor.parameters(),\n",
        "                                    lr=self.lr)\n",
        "    \n",
        "    @torch.no_grad()\n",
        "    def get_action(self, ob, sample=True, *args, **kwargs):\n",
        "        t_ob = torch_float(ob, device=cfg.alg.device)\n",
        "        # the policy returns a multi-variate gaussian distribution\n",
        "        act_dist, _ = self.actor(t_ob)\n",
        "        # sample from the distribution\n",
        "        action = action_from_dist(act_dist,\n",
        "                                  sample=sample)\n",
        "        # get the log-probability of the sampled actions\n",
        "        log_prob = action_log_prob(action, act_dist)\n",
        "        # get the entropy of the action distribution\n",
        "        entropy = action_entropy(act_dist, log_prob)\n",
        "        action_info = dict(\n",
        "            log_prob=torch_to_np(log_prob),\n",
        "            entropy=torch_to_np(entropy),\n",
        "        )\n",
        "        # get the expert action from the expert policy\n",
        "        exp_act_dist, _ = self.expert_actor(t_ob)\n",
        "        action_info['exp_act'] = exp_act_dist.mean\n",
        "        return torch_to_np(action), action_info\n",
        "\n",
        "    def optimize(self, data, **kwargs):\n",
        "        for key, val in data.items():\n",
        "            data[key] = torch_float(val, device=cfg.alg.device)\n",
        "        ob = data['state']\n",
        "        exp_act = data['action']\n",
        "        #### TODO: optimize the policy\n",
        "        action_dist, body_x = self.actor.forward(ob)\n",
        "        logps = action_dist.log_prob(exp_act)\n",
        "        loss = logps.sum()*-1\n",
        "        self.optimizer.zero_grad()\n",
        "        loss.backward()\n",
        "        ####\n",
        "        \n",
        "        grad_norm = clip_grad(self.actor.parameters(),\n",
        "                              cfg.alg.max_grad_norm)\n",
        "        self.optimizer.step()\n",
        "\n",
        "        optim_info = dict(\n",
        "            loss=loss.item(),\n",
        "            grad_norm=grad_norm,\n",
        "        )\n",
        "        return optim_info\n",
        "    \n",
        "    def save_model(self, is_best=False, step=None):\n",
        "        data_to_save = {\n",
        "            'actor_state_dict': self.actor.state_dict()\n",
        "        }\n",
        "        save_model(data_to_save, cfg.alg, is_best=is_best, step=step)"
      ]
    },
    {
      "cell_type": "code",
      "execution_count": 26,
      "metadata": {
        "id": "Mi2w-7rMyJJm"
      },
      "outputs": [],
      "source": [
        "@dataclass\n",
        "class DaggerEngine:\n",
        "    agent: Any\n",
        "    runner: Any\n",
        "    env: Any\n",
        "    trajs: Any\n",
        "\n",
        "    def __post_init__(self):\n",
        "        self.dataset = TrajDataset(self.trajs)\n",
        "        \n",
        "    def train(self):\n",
        "        success_rates = []\n",
        "        dataset_sizes = []\n",
        "        self.cur_step = 0\n",
        "        for iter_t in count():\n",
        "            if iter_t % cfg.alg.eval_interval == 0:\n",
        "                success_rate, ret_mean, ret_std, rets, successes = eval_agent(self.agent, \n",
        "                                                                              self.env, \n",
        "                                                                              200,\n",
        "                                                                              disable_tqdm=True)\n",
        "                success_rates.append(success_rate)\n",
        "                dataset_sizes.append(len(self.dataset))\n",
        "            # rollout the current policy and get a trajectory\n",
        "            traj = self.runner(sample=True, get_last_val=False, time_steps=cfg.alg.episode_steps)\n",
        "            # optimize the policy\n",
        "            self.train_once(traj)\n",
        "            if self.cur_step > cfg.alg.max_steps:\n",
        "                break\n",
        "        return dataset_sizes, success_rates\n",
        "\n",
        "    def train_once(self, traj):\n",
        "        self.cur_step += traj.total_steps\n",
        "\n",
        "        action_infos = traj.action_infos\n",
        "        exp_act = torch.stack([ainfo['exp_act'] for ainfo in action_infos])\n",
        "\n",
        "        self.dataset.add_traj(states=traj.obs,\n",
        "                              actions=exp_act.cpu())\n",
        "        rollout_dataloader = DataLoader(self.dataset,\n",
        "                                        batch_size=cfg.alg.batch_size,\n",
        "                                        shuffle=True,\n",
        "                                       )\n",
        "        optim_infos = []\n",
        "        for oe in range(cfg.alg.opt_epochs):\n",
        "            for batch_ndx, batch_data in enumerate(rollout_dataloader):\n",
        "                optim_info = self.agent.optimize(batch_data)\n",
        "                optim_infos.append(optim_info)        "
      ]
    },
    {
      "cell_type": "code",
      "execution_count": 27,
      "metadata": {
        "id": "dmR9pws5yJJm"
      },
      "outputs": [],
      "source": [
        "def train_dagger(expert_actor, trajs, actor=None):\n",
        "    expert_actor = deepcopy(expert_actor)\n",
        "    actor = deepcopy(actor)\n",
        "    set_configs('dagger')\n",
        "    cfg.alg.episode_steps = 30\n",
        "    cfg.alg.max_steps = 1200\n",
        "    cfg.alg.eval_interval = 1\n",
        "    cfg.alg.log_interval = 1\n",
        "    cfg.alg.batch_size = 256\n",
        "    cfg.alg.opt_epochs = 500\n",
        "    set_random_seed(cfg.alg.seed)\n",
        "    env = make_vec_env(cfg.alg.env_name,\n",
        "                       cfg.alg.num_envs,\n",
        "                       seed=cfg.alg.seed)\n",
        "    env.reset()\n",
        "    if actor is None:\n",
        "        actor = create_actor(env=env)\n",
        "    dagger_agent = DaggerAgent(actor=actor, expert_actor=expert_actor, lr=0.001)\n",
        "    runner = EpisodicRunner(agent=dagger_agent, env=env)\n",
        "    engine = DaggerEngine(agent=dagger_agent,\n",
        "                          env=env,\n",
        "                          runner=runner,\n",
        "                          trajs=trajs)\n",
        "    dataset_sizes, success_rates = engine.train()\n",
        "    return dagger_agent, dataset_sizes, success_rates"
      ]
    },
    {
      "cell_type": "markdown",
      "metadata": {
        "id": "eiCsY4bfLuK4"
      },
      "source": [
        "**Q2 (30 pts)**: Complete the missing code for `DaggerAgent` (define the loss function and optimize the policy). Train a DAgger agent using `train_dagger` with the behaviorally cloned agent that was trained on just one demonstration as the initial policy, $\\pi_{\\theta_k}$, the same demonstration as the initial dataset, $D$, and the expert that will provide expert actions as our pre-trained expert model.\n",
        "\n",
        "Similar to Q1, plot the success rate curves for both DAgger and BC as a function of the number of expert transitions (e.g., dataset size) available at training. Your DAgger and BC curves should reach similarly high performance with enough data while DAgger will reach a high success rate earlier."
      ]
    },
    {
      "cell_type": "code",
      "execution_count": 28,
      "metadata": {
        "id": "bUu6sO9VyJJn",
        "outputId": "45e88268-ebfa-4027-f604-d3ef131a77f3",
        "colab": {
          "base_uri": "https://localhost:8080/"
        }
      },
      "outputs": [
        {
          "output_type": "stream",
          "name": "stderr",
          "text": [
            "\u001b[32m[INFO]\u001b[0m[2022-03-03 05:19:45]: \u001b[32mAlogrithm type:<class 'easyrl.configs.ppo_config.PPOConfig'>\u001b[0m\n",
            "\u001b[32m[INFO]\u001b[0m[2022-03-03 05:19:45]: \u001b[32mCreating 1 environments.\u001b[0m\n",
            "\u001b[32m[INFO]\u001b[0m[2022-03-03 05:19:45]: \u001b[32mLoad in OpenGL!\u001b[0m\n"
          ]
        },
        {
          "output_type": "stream",
          "name": "stdout",
          "text": [
            "====================================\n",
            "      Device:cuda\n",
            "====================================\n"
          ]
        },
        {
          "output_type": "stream",
          "name": "stderr",
          "text": [
            "/usr/local/lib/python3.7/dist-packages/gym/logger.py:30: UserWarning: \u001b[33mWARN: Box bound precision lowered by casting to float32\u001b[0m\n",
            "  warnings.warn(colorize('%s: %s'%('WARN', msg % args), 'yellow'))\n"
          ]
        }
      ],
      "source": [
        "#### TODO: train DAgger agent and plot the success rate curves for BC and DAgger together\n",
        "dagger_agent, dataset_sizes, success_rates = train_dagger(expert_agent.actor, expert_trajs, agents[0].actor)"
      ]
    },
    {
      "cell_type": "code",
      "source": [
        "sns.lineplot(dataset_sizes, success_rates)"
      ],
      "metadata": {
        "id": "xGMPi1cuUsLq",
        "outputId": "45a78ef9-f1b8-462d-be86-c3f876e3d43c",
        "colab": {
          "base_uri": "https://localhost:8080/",
          "height": 338
        }
      },
      "execution_count": 29,
      "outputs": [
        {
          "output_type": "stream",
          "name": "stderr",
          "text": [
            "/usr/local/lib/python3.7/dist-packages/seaborn/_decorators.py:43: FutureWarning: Pass the following variables as keyword args: x, y. From version 0.12, the only valid positional argument will be `data`, and passing other arguments without an explicit keyword will result in an error or misinterpretation.\n",
            "  FutureWarning\n"
          ]
        },
        {
          "output_type": "execute_result",
          "data": {
            "text/plain": [
              "<matplotlib.axes._subplots.AxesSubplot at 0x7fd906ecf2d0>"
            ]
          },
          "metadata": {},
          "execution_count": 29
        },
        {
          "output_type": "display_data",
          "data": {
            "image/png": "[encoded data removed]",
            "text/plain": [
              "<Figure size 432x288 with 1 Axes>"
            ]
          },
          "metadata": {
            "needs_background": "light"
          }
        }
      ]
    },
    {
      "cell_type": "code",
      "source": [
        "with open('q2_dagger_data','wb') as f:\n",
        "  pickle.dump([dagger_agent, dataset_sizes, success_rates],f)"
      ],
      "metadata": {
        "id": "SWE9-spGVXEj"
      },
      "execution_count": 30,
      "outputs": []
    },
    {
      "cell_type": "code",
      "source": [
        "with open('q2_dagger_data','rb') as f:\n",
        "  aye = pickle.load(f)"
      ],
      "metadata": {
        "id": "uPeV9nbVVgfM"
      },
      "execution_count": 31,
      "outputs": []
    },
    {
      "cell_type": "markdown",
      "metadata": {
        "id": "USXTaSC-yJJo"
      },
      "source": [
        "# RL Finetune\n",
        "\n",
        "In DAgger, an expert is required to query the optimal action at every step during training time. However, an expert may not always be available. In the context of autonomous vehicles, for behavior cloning an expert driver is only required to collect the initial dataset of expert demonstrations while for DAgger we would need an expert to see everything the vehicle does and relabel the data in a continuous cycle during all of training. Clearly this approach does not scale, especially if obtaining these expert labels is costly.\n",
        "\n",
        "In such cases where an expert is unavailable during the training process, if we have access to the reward function in addition to a few demonstrations, then we can combine RL and behavior cloning to improve performance. \n",
        "\n",
        "In the following section, we will use PPO to finetune the behavior-cloned policy. We have provided you with a `train_ppo` function that you are free to modify. Note that typically we use multi-process to roll out many agents in parallel in PPO. It typically leads to faster and more stable learning. One way to get around parallelization is to have one policy update step after collecting many rollouts with the same policy. Here, our environment terminates after $30$ steps and gets reset, but `episode_steps` is set to 900, so we will have $30$ agents' rollout experience for every single step of policy optimization."
      ]
    },
    {
      "cell_type": "code",
      "execution_count": null,
      "metadata": {
        "id": "lG9_a5WtyJJo"
      },
      "outputs": [],
      "source": [
        "def train_ppo(actor=None, save_dir=None, max_steps=1000000):\n",
        "    set_config('ppo')\n",
        "    cfg.alg.num_envs = 1\n",
        "    cfg.alg.episode_steps = 900\n",
        "    cfg.alg.max_steps = max_steps\n",
        "    cfg.alg.deque_size = 20\n",
        "    cfg.alg.eval_interval = 10\n",
        "    cfg.alg.log_interval = 1\n",
        "    cfg.alg.device = 'cuda' if torch.cuda.is_available() else 'cpu'\n",
        "    cfg.alg.env_name = 'URPusher-v1'\n",
        "    cfg.alg.save_dir = Path.cwd().absolute().joinpath('data').as_posix()\n",
        "    cfg.alg.save_dir += '/rl_finetune' if save_dir is None else f'/{save_dir}'\n",
        "    setattr(cfg.alg, 'diff_cfg', dict(save_dir=cfg.alg.save_dir))\n",
        "\n",
        "    print(f'====================================')\n",
        "    print(f'      Device:{cfg.alg.device}')\n",
        "    print(f'      Total number of steps:{cfg.alg.max_steps}')\n",
        "    print(f'====================================')\n",
        "\n",
        "    set_random_seed(cfg.alg.seed)\n",
        "    env = make_vec_env(cfg.alg.env_name,\n",
        "                       cfg.alg.num_envs,\n",
        "                       seed=cfg.alg.seed)\n",
        "    env.reset()\n",
        "    ob_size = env.observation_space.shape[0]\n",
        "\n",
        "    if actor is None:\n",
        "        actor = create_actor(env=env)\n",
        "    actor = deepcopy(actor)\n",
        "\n",
        "    critic_body = MLP(input_size=ob_size,\n",
        "                     hidden_sizes=[64],\n",
        "                     output_size=64,\n",
        "                     hidden_act=nn.Tanh,\n",
        "                     output_act=nn.Tanh)\n",
        "\n",
        "    critic = ValueNet(critic_body, in_features=64)\n",
        "    agent = PPOAgent(actor=actor, critic=critic, env=env)\n",
        "    runner = EpisodicRunner(agent=agent, env=env)\n",
        "    engine = PPOEngine(agent=agent,\n",
        "                       runner=runner)\n",
        "    engine.train()\n",
        "    return agent, engine, cfg.alg.save_dir"
      ]
    },
    {
      "cell_type": "markdown",
      "metadata": {
        "id": "jLbAZ37RyJJo"
      },
      "source": [
        "**Q3 (20 pts)**: Compare the learning curves (both the return curve and the success rate curve) of the following two cases. Train both for 600K steps.\n",
        "* train a policy from scratch for the pusher environment\n",
        "* finetune a behavior-cloned policies with RL (specifically here, use the BC agent trained with 3 demonstration trajectories from Q1)\n",
        "\n",
        "On the return and success rate curves, also plot the average return with its uncertainty as well as the average success rate for the BC agent trained on 3 demonstrations without any fine-turning (you should've cached this from Q1)."
      ]
    },
    {
      "cell_type": "code",
      "execution_count": null,
      "metadata": {
        "id": "NbSvSvCWyJJo"
      },
      "outputs": [],
      "source": [
        "#### TODO: use PPO to (1) train a policy from scratch and (2) finetune the behavior cloned policy \n",
        "#### trained with 3 demonstration trajectories\n"
      ]
    },
    {
      "cell_type": "markdown",
      "source": [
        "**Q (20 pts):** Do you see any difference in performance at the end of training? How about in learning or convergence rate? What about in comparison to the BC agent without fine-tuning? If so, describe them in detail.\n",
        "\n",
        "**A:**"
      ],
      "metadata": {
        "id": "Tg1dXaEI3_zO"
      }
    },
    {
      "cell_type": "markdown",
      "metadata": {
        "id": "3XKefZnUkhn9"
      },
      "source": [
        "# Suboptimal Demonstrations\n",
        "\n",
        "In many cases, we might not have a good expert model available. Thus, the demonstrations we get from the expert will not be optimal. In the following section, we will use a sub-optimal expert model to generate the demonstration data, use such data to train a BC agent, and see if the policy can be improved by RL."
      ]
    },
    {
      "cell_type": "code",
      "execution_count": null,
      "metadata": {
        "id": "D_rn4MTlkgwd"
      },
      "outputs": [],
      "source": [
        "# Download the suboptimal expert model\n",
        "!wget --no-check-certificate -r 'https://docs.google.com/uc?export=download&id=1AzWwGkOcZxrx43kNhD-7TPj06bIKRSXX' -O pusher_suboptimal_expert_model.pt"
      ]
    },
    {
      "cell_type": "code",
      "execution_count": null,
      "metadata": {
        "id": "lm6zsswIk-GG"
      },
      "outputs": [],
      "source": [
        "# same as before, let's load a suboptimal expert model\n",
        "set_configs()\n",
        "env = make_vec_env(cfg.alg.env_name,\n",
        "                   cfg.alg.num_envs,\n",
        "                   seed=cfg.alg.seed)\n",
        "sub_expert_agent = load_expert_agent(env, device=cfg.alg.device, expert_model_path='pusher_suboptimal_expert_model.pt')"
      ]
    },
    {
      "cell_type": "code",
      "execution_count": null,
      "metadata": {
        "id": "46UVq87olOtp"
      },
      "outputs": [],
      "source": [
        "# let's see how good the expert model is\n",
        "success_rate, ret_mean, ret_std, rets, successes = eval_agent(sub_expert_agent, env, 500)\n",
        "print(f'Expert policy success rate:{success_rate}')"
      ]
    },
    {
      "cell_type": "code",
      "execution_count": null,
      "metadata": {
        "id": "NSKBXNkemyvr"
      },
      "outputs": [],
      "source": [
        "# let's use this suboptimal expert model to generate some demonstrations\n",
        "sub_expert_trajs = generate_demonstration_data(expert_agent=sub_expert_agent,\n",
        "                                               env=env,\n",
        "                                               num_trials=50)"
      ]
    },
    {
      "cell_type": "markdown",
      "metadata": {
        "id": "2hkjfWp22l6F"
      },
      "source": [
        "**Q4.1 (10 pts)**: Similar to Q1, train a BC policy using `train_bc_agent` with $1, 3, 15, 25, 50$ suboptimal trajectories. Once you have trained the BC policy (cloned on suboptimal data), evaluate your policy on $200$ episodes and plot the average success rate (returned by 'eval_agent') as a function of the number of expert transitions used in training."
      ]
    },
    {
      "cell_type": "code",
      "execution_count": null,
      "metadata": {
        "id": "CZDHchoCmfRQ"
      },
      "outputs": [],
      "source": [
        "### TODO run BC with 1, 3, 15, 25, 50 demonstrations respectively and plot success\n"
      ]
    },
    {
      "cell_type": "markdown",
      "metadata": {
        "id": "M70CtVFNFKwN"
      },
      "source": [
        "**Q4.2 (20 pts)**: Similar to in Q3, run RL-finetune with the behavior-cloned policy trained from 3 suboptimal demonstration trajectories. Plot the return and success rate of the agent. On the same graph, also plot the same values for the from scratch and RL-finetune'd on 3 optimal demonstrations policies. Does RL-finetune help improve the policy performance?\n",
        "\n",
        "**A**:"
      ]
    },
    {
      "cell_type": "code",
      "execution_count": null,
      "metadata": {
        "id": "T5Zt-D0gtXuv"
      },
      "outputs": [],
      "source": [
        "### TODO finetune bc policy trained on 3 suboptimal demonstrations. \n",
        "### plot in comparison with from scratch and finetune on optimal demonstrations"
      ]
    },
    {
      "cell_type": "markdown",
      "metadata": {
        "id": "PKnGJE7JqE2K"
      },
      "source": [
        "# More Advanced Ideas (Bonus, Optional)\n",
        "\n",
        "So far, we have seen how behavior cloning, DAgger, and behavior cloning with RL finetuning work. There are many more ideas one can try to make use of the demonstration data. For example, we can optimize the policy with the RL loss and behavior-cloning loss together as done in this work - [Learning Complex Dexterous Manipulation with\n",
        "Deep Reinforcement Learning and Demonstrations, Equation (6)](https://arxiv.org/pdf/1709.10087.pdf) - discussed in lecture.\n",
        " \n",
        "Try to implement it yourself on the Pusher environment. You are free to use any publicly avaiable RL library. You can also try out a sparse-reward setting for the Pusher environment with expert demonstrations. \n",
        "\n",
        "**Q (20 pts)**: Plot the return as well as the success rate curves. Compare the curves with the curves from the RL-scratch (training with RL from scratch) experiment.\n",
        "\n",
        "**A**:\n"
      ]
    },
    {
      "cell_type": "markdown",
      "metadata": {
        "id": "HvRqdXaKVtcL"
      },
      "source": [
        "# Survey (bonus points, 10 pts)\n",
        "Please fill out [this anonymous survey](https://forms.gle/WLqXaptTV22wbKdC8) and enter the code below to receive credit. Thanks!"
      ]
    },
    {
      "cell_type": "markdown",
      "metadata": {
        "id": "5IJcl7M8yJJp"
      },
      "source": [
        "**Code:** "
      ]
    },
    {
      "cell_type": "code",
      "execution_count": null,
      "metadata": {
        "id": "20q_lA3F2l6I"
      },
      "outputs": [],
      "source": [
        ""
      ]
    }
  ],
  "metadata": {
    "colab": {
      "name": "lfd.ipynb",
      "provenance": [],
      "collapsed_sections": [],
      "include_colab_link": true
    },
    "kernelspec": {
      "display_name": "Python 3 (ipykernel)",
      "language": "python",
      "name": "python3"
    },
    "language_info": {
      "codemirror_mode": {
        "name": "ipython",
        "version": 3
      },
      "file_extension": ".py",
      "mimetype": "text/x-python",
      "name": "python",
      "nbconvert_exporter": "python",
      "pygments_lexer": "ipython3",
      "version": "3.8.6"
    },
    "accelerator": "GPU",
    "widgets": {
      "application/vnd.jupyter.widget-state+json": {
        "6c77f09baaba45adb645cc9057f39fdd": {
          "model_module": "@jupyter-widgets/controls",
          "model_name": "HBoxModel",
          "model_module_version": "1.5.0",
          "state": {
            "_view_name": "HBoxView",
            "_dom_classes": [],
            "_model_name": "HBoxModel",
            "_view_module": "@jupyter-widgets/controls",
            "_model_module_version": "1.5.0",
            "_view_count": null,
            "_view_module_version": "1.5.0",
            "box_style": "",
            "layout": "IPY_MODEL_8327016d798f4390a589afba91b9bb8e",
            "_model_module": "@jupyter-widgets/controls",
            "children": [
              "IPY_MODEL_f665988718cb4bc7b4936274317aee29",
              "IPY_MODEL_5a26147741884afb976e3a387d128bda",
              "IPY_MODEL_b2a61c2b2c604020ac8d924f21def2d1"
            ]
          }
        },
        "8327016d798f4390a589afba91b9bb8e": {
          "model_module": "@jupyter-widgets/base",
          "model_name": "LayoutModel",
          "model_module_version": "1.2.0",
          "state": {
            "_view_name": "LayoutView",
            "grid_template_rows": null,
            "right": null,
            "justify_content": null,
            "_view_module": "@jupyter-widgets/base",
            "overflow": null,
            "_model_module_version": "1.2.0",
            "_view_count": null,
            "flex_flow": null,
            "width": null,
            "min_width": null,
            "border": null,
            "align_items": null,
            "bottom": null,
            "_model_module": "@jupyter-widgets/base",
            "top": null,
            "grid_column": null,
            "overflow_y": null,
            "overflow_x": null,
            "grid_auto_flow": null,
            "grid_area": null,
            "grid_template_columns": null,
            "flex": null,
            "_model_name": "LayoutModel",
            "justify_items": null,
            "grid_row": null,
            "max_height": null,
            "align_content": null,
            "visibility": null,
            "align_self": null,
            "height": null,
            "min_height": null,
            "padding": null,
            "grid_auto_rows": null,
            "grid_gap": null,
            "max_width": null,
            "order": null,
            "_view_module_version": "1.2.0",
            "grid_template_areas": null,
            "object_position": null,
            "object_fit": null,
            "grid_auto_columns": null,
            "margin": null,
            "display": null,
            "left": null
          }
        },
        "f665988718cb4bc7b4936274317aee29": {
          "model_module": "@jupyter-widgets/controls",
          "model_name": "HTMLModel",
          "model_module_version": "1.5.0",
          "state": {
            "_view_name": "HTMLView",
            "style": "IPY_MODEL_8d20becaf0ed409b9f33a921341e107a",
            "_dom_classes": [],
            "description": "",
            "_model_name": "HTMLModel",
            "placeholder": "​",
            "_view_module": "@jupyter-widgets/controls",
            "_model_module_version": "1.5.0",
            "value": "Run: 100%",
            "_view_count": null,
            "_view_module_version": "1.5.0",
            "description_tooltip": null,
            "_model_module": "@jupyter-widgets/controls",
            "layout": "IPY_MODEL_7fd5d99f75fe4282a72cbdd3056b43c7"
          }
        },
        "5a26147741884afb976e3a387d128bda": {
          "model_module": "@jupyter-widgets/controls",
          "model_name": "FloatProgressModel",
          "model_module_version": "1.5.0",
          "state": {
            "_view_name": "ProgressView",
            "style": "IPY_MODEL_3078f0e5571446ecbf1ce8e7a87bec29",
            "_dom_classes": [],
            "description": "",
            "_model_name": "FloatProgressModel",
            "bar_style": "success",
            "max": 500,
            "_view_module": "@jupyter-widgets/controls",
            "_model_module_version": "1.5.0",
            "value": 500,
            "_view_count": null,
            "_view_module_version": "1.5.0",
            "orientation": "horizontal",
            "min": 0,
            "description_tooltip": null,
            "_model_module": "@jupyter-widgets/controls",
            "layout": "IPY_MODEL_b388bcc7ba2241e9a6adb07824631d2b"
          }
        },
        "b2a61c2b2c604020ac8d924f21def2d1": {
          "model_module": "@jupyter-widgets/controls",
          "model_name": "HTMLModel",
          "model_module_version": "1.5.0",
          "state": {
            "_view_name": "HTMLView",
            "style": "IPY_MODEL_ff93d6a18f3b401ea8d4d69277a32fcf",
            "_dom_classes": [],
            "description": "",
            "_model_name": "HTMLModel",
            "placeholder": "​",
            "_view_module": "@jupyter-widgets/controls",
            "_model_module_version": "1.5.0",
            "value": " 500/500 [00:50&lt;00:00, 11.10it/s]",
            "_view_count": null,
            "_view_module_version": "1.5.0",
            "description_tooltip": null,
            "_model_module": "@jupyter-widgets/controls",
            "layout": "IPY_MODEL_a20835c8c32344a29b8b4e40e8f02df4"
          }
        },
        "8d20becaf0ed409b9f33a921341e107a": {
          "model_module": "@jupyter-widgets/controls",
          "model_name": "DescriptionStyleModel",
          "model_module_version": "1.5.0",
          "state": {
            "_view_name": "StyleView",
            "_model_name": "DescriptionStyleModel",
            "description_width": "",
            "_view_module": "@jupyter-widgets/base",
            "_model_module_version": "1.5.0",
            "_view_count": null,
            "_view_module_version": "1.2.0",
            "_model_module": "@jupyter-widgets/controls"
          }
        },
        "7fd5d99f75fe4282a72cbdd3056b43c7": {
          "model_module": "@jupyter-widgets/base",
          "model_name": "LayoutModel",
          "model_module_version": "1.2.0",
          "state": {
            "_view_name": "LayoutView",
            "grid_template_rows": null,
            "right": null,
            "justify_content": null,
            "_view_module": "@jupyter-widgets/base",
            "overflow": null,
            "_model_module_version": "1.2.0",
            "_view_count": null,
            "flex_flow": null,
            "width": null,
            "min_width": null,
            "border": null,
            "align_items": null,
            "bottom": null,
            "_model_module": "@jupyter-widgets/base",
            "top": null,
            "grid_column": null,
            "overflow_y": null,
            "overflow_x": null,
            "grid_auto_flow": null,
            "grid_area": null,
            "grid_template_columns": null,
            "flex": null,
            "_model_name": "LayoutModel",
            "justify_items": null,
            "grid_row": null,
            "max_height": null,
            "align_content": null,
            "visibility": null,
            "align_self": null,
            "height": null,
            "min_height": null,
            "padding": null,
            "grid_auto_rows": null,
            "grid_gap": null,
            "max_width": null,
            "order": null,
            "_view_module_version": "1.2.0",
            "grid_template_areas": null,
            "object_position": null,
            "object_fit": null,
            "grid_auto_columns": null,
            "margin": null,
            "display": null,
            "left": null
          }
        },
        "3078f0e5571446ecbf1ce8e7a87bec29": {
          "model_module": "@jupyter-widgets/controls",
          "model_name": "ProgressStyleModel",
          "model_module_version": "1.5.0",
          "state": {
            "_view_name": "StyleView",
            "_model_name": "ProgressStyleModel",
            "description_width": "",
            "_view_module": "@jupyter-widgets/base",
            "_model_module_version": "1.5.0",
            "_view_count": null,
            "_view_module_version": "1.2.0",
            "bar_color": null,
            "_model_module": "@jupyter-widgets/controls"
          }
        },
        "b388bcc7ba2241e9a6adb07824631d2b": {
          "model_module": "@jupyter-widgets/base",
          "model_name": "LayoutModel",
          "model_module_version": "1.2.0",
          "state": {
            "_view_name": "LayoutView",
            "grid_template_rows": null,
            "right": null,
            "justify_content": null,
            "_view_module": "@jupyter-widgets/base",
            "overflow": null,
            "_model_module_version": "1.2.0",
            "_view_count": null,
            "flex_flow": null,
            "width": null,
            "min_width": null,
            "border": null,
            "align_items": null,
            "bottom": null,
            "_model_module": "@jupyter-widgets/base",
            "top": null,
            "grid_column": null,
            "overflow_y": null,
            "overflow_x": null,
            "grid_auto_flow": null,
            "grid_area": null,
            "grid_template_columns": null,
            "flex": null,
            "_model_name": "LayoutModel",
            "justify_items": null,
            "grid_row": null,
            "max_height": null,
            "align_content": null,
            "visibility": null,
            "align_self": null,
            "height": null,
            "min_height": null,
            "padding": null,
            "grid_auto_rows": null,
            "grid_gap": null,
            "max_width": null,
            "order": null,
            "_view_module_version": "1.2.0",
            "grid_template_areas": null,
            "object_position": null,
            "object_fit": null,
            "grid_auto_columns": null,
            "margin": null,
            "display": null,
            "left": null
          }
        },
        "ff93d6a18f3b401ea8d4d69277a32fcf": {
          "model_module": "@jupyter-widgets/controls",
          "model_name": "DescriptionStyleModel",
          "model_module_version": "1.5.0",
          "state": {
            "_view_name": "StyleView",
            "_model_name": "DescriptionStyleModel",
            "description_width": "",
            "_view_module": "@jupyter-widgets/base",
            "_model_module_version": "1.5.0",
            "_view_count": null,
            "_view_module_version": "1.2.0",
            "_model_module": "@jupyter-widgets/controls"
          }
        },
        "a20835c8c32344a29b8b4e40e8f02df4": {
          "model_module": "@jupyter-widgets/base",
          "model_name": "LayoutModel",
          "model_module_version": "1.2.0",
          "state": {
            "_view_name": "LayoutView",
            "grid_template_rows": null,
            "right": null,
            "justify_content": null,
            "_view_module": "@jupyter-widgets/base",
            "overflow": null,
            "_model_module_version": "1.2.0",
            "_view_count": null,
            "flex_flow": null,
            "width": null,
            "min_width": null,
            "border": null,
            "align_items": null,
            "bottom": null,
            "_model_module": "@jupyter-widgets/base",
            "top": null,
            "grid_column": null,
            "overflow_y": null,
            "overflow_x": null,
            "grid_auto_flow": null,
            "grid_area": null,
            "grid_template_columns": null,
            "flex": null,
            "_model_name": "LayoutModel",
            "justify_items": null,
            "grid_row": null,
            "max_height": null,
            "align_content": null,
            "visibility": null,
            "align_self": null,
            "height": null,
            "min_height": null,
            "padding": null,
            "grid_auto_rows": null,
            "grid_gap": null,
            "max_width": null,
            "order": null,
            "_view_module_version": "1.2.0",
            "grid_template_areas": null,
            "object_position": null,
            "object_fit": null,
            "grid_auto_columns": null,
            "margin": null,
            "display": null,
            "left": null
          }
        },
        "e858af0f5c4b405a83f948f2e561f6ee": {
          "model_module": "@jupyter-widgets/controls",
          "model_name": "HBoxModel",
          "model_module_version": "1.5.0",
          "state": {
            "_view_name": "HBoxView",
            "_dom_classes": [],
            "_model_name": "HBoxModel",
            "_view_module": "@jupyter-widgets/controls",
            "_model_module_version": "1.5.0",
            "_view_count": null,
            "_view_module_version": "1.5.0",
            "box_style": "",
            "layout": "IPY_MODEL_16e3adfa4d3d48ecb7b8d9e19c0d6175",
            "_model_module": "@jupyter-widgets/controls",
            "children": [
              "IPY_MODEL_2e7d9b8d041d4d0bb16a1f1d9793b116",
              "IPY_MODEL_5bb1f2b94b5945f399a4c51c7372bf35",
              "IPY_MODEL_33db875dac6640799dbb29afd27aaa60"
            ]
          }
        },
        "16e3adfa4d3d48ecb7b8d9e19c0d6175": {
          "model_module": "@jupyter-widgets/base",
          "model_name": "LayoutModel",
          "model_module_version": "1.2.0",
          "state": {
            "_view_name": "LayoutView",
            "grid_template_rows": null,
            "right": null,
            "justify_content": null,
            "_view_module": "@jupyter-widgets/base",
            "overflow": null,
            "_model_module_version": "1.2.0",
            "_view_count": null,
            "flex_flow": null,
            "width": null,
            "min_width": null,
            "border": null,
            "align_items": null,
            "bottom": null,
            "_model_module": "@jupyter-widgets/base",
            "top": null,
            "grid_column": null,
            "overflow_y": null,
            "overflow_x": null,
            "grid_auto_flow": null,
            "grid_area": null,
            "grid_template_columns": null,
            "flex": null,
            "_model_name": "LayoutModel",
            "justify_items": null,
            "grid_row": null,
            "max_height": null,
            "align_content": null,
            "visibility": null,
            "align_self": null,
            "height": null,
            "min_height": null,
            "padding": null,
            "grid_auto_rows": null,
            "grid_gap": null,
            "max_width": null,
            "order": null,
            "_view_module_version": "1.2.0",
            "grid_template_areas": null,
            "object_position": null,
            "object_fit": null,
            "grid_auto_columns": null,
            "margin": null,
            "display": null,
            "left": null
          }
        },
        "2e7d9b8d041d4d0bb16a1f1d9793b116": {
          "model_module": "@jupyter-widgets/controls",
          "model_name": "HTMLModel",
          "model_module_version": "1.5.0",
          "state": {
            "_view_name": "HTMLView",
            "style": "IPY_MODEL_3d3a467df9594a58bac41fd7d8b3899f",
            "_dom_classes": [],
            "description": "",
            "_model_name": "HTMLModel",
            "placeholder": "​",
            "_view_module": "@jupyter-widgets/controls",
            "_model_module_version": "1.5.0",
            "value": "Run: 100%",
            "_view_count": null,
            "_view_module_version": "1.5.0",
            "description_tooltip": null,
            "_model_module": "@jupyter-widgets/controls",
            "layout": "IPY_MODEL_a0a0f2fca613452188ed826c6b5d6a3d"
          }
        },
        "5bb1f2b94b5945f399a4c51c7372bf35": {
          "model_module": "@jupyter-widgets/controls",
          "model_name": "FloatProgressModel",
          "model_module_version": "1.5.0",
          "state": {
            "_view_name": "ProgressView",
            "style": "IPY_MODEL_e7b05e6ac05b476da1ca19e5ac8661fc",
            "_dom_classes": [],
            "description": "",
            "_model_name": "FloatProgressModel",
            "bar_style": "success",
            "max": 5,
            "_view_module": "@jupyter-widgets/controls",
            "_model_module_version": "1.5.0",
            "value": 5,
            "_view_count": null,
            "_view_module_version": "1.5.0",
            "orientation": "horizontal",
            "min": 0,
            "description_tooltip": null,
            "_model_module": "@jupyter-widgets/controls",
            "layout": "IPY_MODEL_b0ba26f2521449d2bc489525c7c0af8a"
          }
        },
        "33db875dac6640799dbb29afd27aaa60": {
          "model_module": "@jupyter-widgets/controls",
          "model_name": "HTMLModel",
          "model_module_version": "1.5.0",
          "state": {
            "_view_name": "HTMLView",
            "style": "IPY_MODEL_d15d24b0a8bc45788e638c19d27c68a0",
            "_dom_classes": [],
            "description": "",
            "_model_name": "HTMLModel",
            "placeholder": "​",
            "_view_module": "@jupyter-widgets/controls",
            "_model_module_version": "1.5.0",
            "value": " 5/5 [00:03&lt;00:00,  1.64it/s]",
            "_view_count": null,
            "_view_module_version": "1.5.0",
            "description_tooltip": null,
            "_model_module": "@jupyter-widgets/controls",
            "layout": "IPY_MODEL_e2f4675364734c75977644c361f04c2f"
          }
        },
        "3d3a467df9594a58bac41fd7d8b3899f": {
          "model_module": "@jupyter-widgets/controls",
          "model_name": "DescriptionStyleModel",
          "model_module_version": "1.5.0",
          "state": {
            "_view_name": "StyleView",
            "_model_name": "DescriptionStyleModel",
            "description_width": "",
            "_view_module": "@jupyter-widgets/base",
            "_model_module_version": "1.5.0",
            "_view_count": null,
            "_view_module_version": "1.2.0",
            "_model_module": "@jupyter-widgets/controls"
          }
        },
        "a0a0f2fca613452188ed826c6b5d6a3d": {
          "model_module": "@jupyter-widgets/base",
          "model_name": "LayoutModel",
          "model_module_version": "1.2.0",
          "state": {
            "_view_name": "LayoutView",
            "grid_template_rows": null,
            "right": null,
            "justify_content": null,
            "_view_module": "@jupyter-widgets/base",
            "overflow": null,
            "_model_module_version": "1.2.0",
            "_view_count": null,
            "flex_flow": null,
            "width": null,
            "min_width": null,
            "border": null,
            "align_items": null,
            "bottom": null,
            "_model_module": "@jupyter-widgets/base",
            "top": null,
            "grid_column": null,
            "overflow_y": null,
            "overflow_x": null,
            "grid_auto_flow": null,
            "grid_area": null,
            "grid_template_columns": null,
            "flex": null,
            "_model_name": "LayoutModel",
            "justify_items": null,
            "grid_row": null,
            "max_height": null,
            "align_content": null,
            "visibility": null,
            "align_self": null,
            "height": null,
            "min_height": null,
            "padding": null,
            "grid_auto_rows": null,
            "grid_gap": null,
            "max_width": null,
            "order": null,
            "_view_module_version": "1.2.0",
            "grid_template_areas": null,
            "object_position": null,
            "object_fit": null,
            "grid_auto_columns": null,
            "margin": null,
            "display": null,
            "left": null
          }
        },
        "e7b05e6ac05b476da1ca19e5ac8661fc": {
          "model_module": "@jupyter-widgets/controls",
          "model_name": "ProgressStyleModel",
          "model_module_version": "1.5.0",
          "state": {
            "_view_name": "StyleView",
            "_model_name": "ProgressStyleModel",
            "description_width": "",
            "_view_module": "@jupyter-widgets/base",
            "_model_module_version": "1.5.0",
            "_view_count": null,
            "_view_module_version": "1.2.0",
            "bar_color": null,
            "_model_module": "@jupyter-widgets/controls"
          }
        },
        "b0ba26f2521449d2bc489525c7c0af8a": {
          "model_module": "@jupyter-widgets/base",
          "model_name": "LayoutModel",
          "model_module_version": "1.2.0",
          "state": {
            "_view_name": "LayoutView",
            "grid_template_rows": null,
            "right": null,
            "justify_content": null,
            "_view_module": "@jupyter-widgets/base",
            "overflow": null,
            "_model_module_version": "1.2.0",
            "_view_count": null,
            "flex_flow": null,
            "width": null,
            "min_width": null,
            "border": null,
            "align_items": null,
            "bottom": null,
            "_model_module": "@jupyter-widgets/base",
            "top": null,
            "grid_column": null,
            "overflow_y": null,
            "overflow_x": null,
            "grid_auto_flow": null,
            "grid_area": null,
            "grid_template_columns": null,
            "flex": null,
            "_model_name": "LayoutModel",
            "justify_items": null,
            "grid_row": null,
            "max_height": null,
            "align_content": null,
            "visibility": null,
            "align_self": null,
            "height": null,
            "min_height": null,
            "padding": null,
            "grid_auto_rows": null,
            "grid_gap": null,
            "max_width": null,
            "order": null,
            "_view_module_version": "1.2.0",
            "grid_template_areas": null,
            "object_position": null,
            "object_fit": null,
            "grid_auto_columns": null,
            "margin": null,
            "display": null,
            "left": null
          }
        },
        "d15d24b0a8bc45788e638c19d27c68a0": {
          "model_module": "@jupyter-widgets/controls",
          "model_name": "DescriptionStyleModel",
          "model_module_version": "1.5.0",
          "state": {
            "_view_name": "StyleView",
            "_model_name": "DescriptionStyleModel",
            "description_width": "",
            "_view_module": "@jupyter-widgets/base",
            "_model_module_version": "1.5.0",
            "_view_count": null,
            "_view_module_version": "1.2.0",
            "_model_module": "@jupyter-widgets/controls"
          }
        },
        "e2f4675364734c75977644c361f04c2f": {
          "model_module": "@jupyter-widgets/base",
          "model_name": "LayoutModel",
          "model_module_version": "1.2.0",
          "state": {
            "_view_name": "LayoutView",
            "grid_template_rows": null,
            "right": null,
            "justify_content": null,
            "_view_module": "@jupyter-widgets/base",
            "overflow": null,
            "_model_module_version": "1.2.0",
            "_view_count": null,
            "flex_flow": null,
            "width": null,
            "min_width": null,
            "border": null,
            "align_items": null,
            "bottom": null,
            "_model_module": "@jupyter-widgets/base",
            "top": null,
            "grid_column": null,
            "overflow_y": null,
            "overflow_x": null,
            "grid_auto_flow": null,
            "grid_area": null,
            "grid_template_columns": null,
            "flex": null,
            "_model_name": "LayoutModel",
            "justify_items": null,
            "grid_row": null,
            "max_height": null,
            "align_content": null,
            "visibility": null,
            "align_self": null,
            "height": null,
            "min_height": null,
            "padding": null,
            "grid_auto_rows": null,
            "grid_gap": null,
            "max_width": null,
            "order": null,
            "_view_module_version": "1.2.0",
            "grid_template_areas": null,
            "object_position": null,
            "object_fit": null,
            "grid_auto_columns": null,
            "margin": null,
            "display": null,
            "left": null
          }
        },
        "6d9f5482707f48479fcacca2f37cb9cc": {
          "model_module": "@jupyter-widgets/controls",
          "model_name": "HBoxModel",
          "model_module_version": "1.5.0",
          "state": {
            "_view_name": "HBoxView",
            "_dom_classes": [],
            "_model_name": "HBoxModel",
            "_view_module": "@jupyter-widgets/controls",
            "_model_module_version": "1.5.0",
            "_view_count": null,
            "_view_module_version": "1.5.0",
            "box_style": "",
            "layout": "IPY_MODEL_b485246bcdea4b77bf77e4be2e894e61",
            "_model_module": "@jupyter-widgets/controls",
            "children": [
              "IPY_MODEL_360f0ead0bc44dad8f3340a33204b76f",
              "IPY_MODEL_2f2ec7bc15cc4b6b8da9905b8806be88",
              "IPY_MODEL_8fe957a5128945f5a9660f87253f078b"
            ]
          }
        },
        "b485246bcdea4b77bf77e4be2e894e61": {
          "model_module": "@jupyter-widgets/base",
          "model_name": "LayoutModel",
          "model_module_version": "1.2.0",
          "state": {
            "_view_name": "LayoutView",
            "grid_template_rows": null,
            "right": null,
            "justify_content": null,
            "_view_module": "@jupyter-widgets/base",
            "overflow": null,
            "_model_module_version": "1.2.0",
            "_view_count": null,
            "flex_flow": null,
            "width": null,
            "min_width": null,
            "border": null,
            "align_items": null,
            "bottom": null,
            "_model_module": "@jupyter-widgets/base",
            "top": null,
            "grid_column": null,
            "overflow_y": null,
            "overflow_x": null,
            "grid_auto_flow": null,
            "grid_area": null,
            "grid_template_columns": null,
            "flex": null,
            "_model_name": "LayoutModel",
            "justify_items": null,
            "grid_row": null,
            "max_height": null,
            "align_content": null,
            "visibility": null,
            "align_self": null,
            "height": null,
            "min_height": null,
            "padding": null,
            "grid_auto_rows": null,
            "grid_gap": null,
            "max_width": null,
            "order": null,
            "_view_module_version": "1.2.0",
            "grid_template_areas": null,
            "object_position": null,
            "object_fit": null,
            "grid_auto_columns": null,
            "margin": null,
            "display": null,
            "left": null
          }
        },
        "360f0ead0bc44dad8f3340a33204b76f": {
          "model_module": "@jupyter-widgets/controls",
          "model_name": "HTMLModel",
          "model_module_version": "1.5.0",
          "state": {
            "_view_name": "HTMLView",
            "style": "IPY_MODEL_b17fbf4ab610436fb9013c0c8fd65324",
            "_dom_classes": [],
            "description": "",
            "_model_name": "HTMLModel",
            "placeholder": "​",
            "_view_module": "@jupyter-widgets/controls",
            "_model_module_version": "1.5.0",
            "value": "Run: 100%",
            "_view_count": null,
            "_view_module_version": "1.5.0",
            "description_tooltip": null,
            "_model_module": "@jupyter-widgets/controls",
            "layout": "IPY_MODEL_dead1d3ab7054962969a872037e68e13"
          }
        },
        "2f2ec7bc15cc4b6b8da9905b8806be88": {
          "model_module": "@jupyter-widgets/controls",
          "model_name": "FloatProgressModel",
          "model_module_version": "1.5.0",
          "state": {
            "_view_name": "ProgressView",
            "style": "IPY_MODEL_e74ad1b288e5463094bcae8f4d1a1d2e",
            "_dom_classes": [],
            "description": "",
            "_model_name": "FloatProgressModel",
            "bar_style": "success",
            "max": 50,
            "_view_module": "@jupyter-widgets/controls",
            "_model_module_version": "1.5.0",
            "value": 50,
            "_view_count": null,
            "_view_module_version": "1.5.0",
            "orientation": "horizontal",
            "min": 0,
            "description_tooltip": null,
            "_model_module": "@jupyter-widgets/controls",
            "layout": "IPY_MODEL_1e7db46d319d47cc954c8f308bc76c57"
          }
        },
        "8fe957a5128945f5a9660f87253f078b": {
          "model_module": "@jupyter-widgets/controls",
          "model_name": "HTMLModel",
          "model_module_version": "1.5.0",
          "state": {
            "_view_name": "HTMLView",
            "style": "IPY_MODEL_6b2f757baf9a415fb69308352de969bf",
            "_dom_classes": [],
            "description": "",
            "_model_name": "HTMLModel",
            "placeholder": "​",
            "_view_module": "@jupyter-widgets/controls",
            "_model_module_version": "1.5.0",
            "value": " 50/50 [00:05&lt;00:00,  9.38it/s]",
            "_view_count": null,
            "_view_module_version": "1.5.0",
            "description_tooltip": null,
            "_model_module": "@jupyter-widgets/controls",
            "layout": "IPY_MODEL_bb3bfa81ce134ad3939e3ff15c9b412f"
          }
        },
        "b17fbf4ab610436fb9013c0c8fd65324": {
          "model_module": "@jupyter-widgets/controls",
          "model_name": "DescriptionStyleModel",
          "model_module_version": "1.5.0",
          "state": {
            "_view_name": "StyleView",
            "_model_name": "DescriptionStyleModel",
            "description_width": "",
            "_view_module": "@jupyter-widgets/base",
            "_model_module_version": "1.5.0",
            "_view_count": null,
            "_view_module_version": "1.2.0",
            "_model_module": "@jupyter-widgets/controls"
          }
        },
        "dead1d3ab7054962969a872037e68e13": {
          "model_module": "@jupyter-widgets/base",
          "model_name": "LayoutModel",
          "model_module_version": "1.2.0",
          "state": {
            "_view_name": "LayoutView",
            "grid_template_rows": null,
            "right": null,
            "justify_content": null,
            "_view_module": "@jupyter-widgets/base",
            "overflow": null,
            "_model_module_version": "1.2.0",
            "_view_count": null,
            "flex_flow": null,
            "width": null,
            "min_width": null,
            "border": null,
            "align_items": null,
            "bottom": null,
            "_model_module": "@jupyter-widgets/base",
            "top": null,
            "grid_column": null,
            "overflow_y": null,
            "overflow_x": null,
            "grid_auto_flow": null,
            "grid_area": null,
            "grid_template_columns": null,
            "flex": null,
            "_model_name": "LayoutModel",
            "justify_items": null,
            "grid_row": null,
            "max_height": null,
            "align_content": null,
            "visibility": null,
            "align_self": null,
            "height": null,
            "min_height": null,
            "padding": null,
            "grid_auto_rows": null,
            "grid_gap": null,
            "max_width": null,
            "order": null,
            "_view_module_version": "1.2.0",
            "grid_template_areas": null,
            "object_position": null,
            "object_fit": null,
            "grid_auto_columns": null,
            "margin": null,
            "display": null,
            "left": null
          }
        },
        "e74ad1b288e5463094bcae8f4d1a1d2e": {
          "model_module": "@jupyter-widgets/controls",
          "model_name": "ProgressStyleModel",
          "model_module_version": "1.5.0",
          "state": {
            "_view_name": "StyleView",
            "_model_name": "ProgressStyleModel",
            "description_width": "",
            "_view_module": "@jupyter-widgets/base",
            "_model_module_version": "1.5.0",
            "_view_count": null,
            "_view_module_version": "1.2.0",
            "bar_color": null,
            "_model_module": "@jupyter-widgets/controls"
          }
        },
        "1e7db46d319d47cc954c8f308bc76c57": {
          "model_module": "@jupyter-widgets/base",
          "model_name": "LayoutModel",
          "model_module_version": "1.2.0",
          "state": {
            "_view_name": "LayoutView",
            "grid_template_rows": null,
            "right": null,
            "justify_content": null,
            "_view_module": "@jupyter-widgets/base",
            "overflow": null,
            "_model_module_version": "1.2.0",
            "_view_count": null,
            "flex_flow": null,
            "width": null,
            "min_width": null,
            "border": null,
            "align_items": null,
            "bottom": null,
            "_model_module": "@jupyter-widgets/base",
            "top": null,
            "grid_column": null,
            "overflow_y": null,
            "overflow_x": null,
            "grid_auto_flow": null,
            "grid_area": null,
            "grid_template_columns": null,
            "flex": null,
            "_model_name": "LayoutModel",
            "justify_items": null,
            "grid_row": null,
            "max_height": null,
            "align_content": null,
            "visibility": null,
            "align_self": null,
            "height": null,
            "min_height": null,
            "padding": null,
            "grid_auto_rows": null,
            "grid_gap": null,
            "max_width": null,
            "order": null,
            "_view_module_version": "1.2.0",
            "grid_template_areas": null,
            "object_position": null,
            "object_fit": null,
            "grid_auto_columns": null,
            "margin": null,
            "display": null,
            "left": null
          }
        },
        "6b2f757baf9a415fb69308352de969bf": {
          "model_module": "@jupyter-widgets/controls",
          "model_name": "DescriptionStyleModel",
          "model_module_version": "1.5.0",
          "state": {
            "_view_name": "StyleView",
            "_model_name": "DescriptionStyleModel",
            "description_width": "",
            "_view_module": "@jupyter-widgets/base",
            "_model_module_version": "1.5.0",
            "_view_count": null,
            "_view_module_version": "1.2.0",
            "_model_module": "@jupyter-widgets/controls"
          }
        },
        "bb3bfa81ce134ad3939e3ff15c9b412f": {
          "model_module": "@jupyter-widgets/base",
          "model_name": "LayoutModel",
          "model_module_version": "1.2.0",
          "state": {
            "_view_name": "LayoutView",
            "grid_template_rows": null,
            "right": null,
            "justify_content": null,
            "_view_module": "@jupyter-widgets/base",
            "overflow": null,
            "_model_module_version": "1.2.0",
            "_view_count": null,
            "flex_flow": null,
            "width": null,
            "min_width": null,
            "border": null,
            "align_items": null,
            "bottom": null,
            "_model_module": "@jupyter-widgets/base",
            "top": null,
            "grid_column": null,
            "overflow_y": null,
            "overflow_x": null,
            "grid_auto_flow": null,
            "grid_area": null,
            "grid_template_columns": null,
            "flex": null,
            "_model_name": "LayoutModel",
            "justify_items": null,
            "grid_row": null,
            "max_height": null,
            "align_content": null,
            "visibility": null,
            "align_self": null,
            "height": null,
            "min_height": null,
            "padding": null,
            "grid_auto_rows": null,
            "grid_gap": null,
            "max_width": null,
            "order": null,
            "_view_module_version": "1.2.0",
            "grid_template_areas": null,
            "object_position": null,
            "object_fit": null,
            "grid_auto_columns": null,
            "margin": null,
            "display": null,
            "left": null
          }
        },
        "09641c863ba5466791da8ec5e72ffaf7": {
          "model_module": "@jupyter-widgets/controls",
          "model_name": "HBoxModel",
          "model_module_version": "1.5.0",
          "state": {
            "_view_name": "HBoxView",
            "_dom_classes": [],
            "_model_name": "HBoxModel",
            "_view_module": "@jupyter-widgets/controls",
            "_model_module_version": "1.5.0",
            "_view_count": null,
            "_view_module_version": "1.5.0",
            "box_style": "",
            "layout": "IPY_MODEL_89d87033ed9341b5af1a28bec7d09fd6",
            "_model_module": "@jupyter-widgets/controls",
            "children": [
              "IPY_MODEL_c2c02bbfd4ff41ae8afcb2dcfdc2f64c",
              "IPY_MODEL_a0f6da604ee947cb8062864704936442",
              "IPY_MODEL_daf7e2160d1043ee9cbec01d1eb21f3c"
            ]
          }
        },
        "89d87033ed9341b5af1a28bec7d09fd6": {
          "model_module": "@jupyter-widgets/base",
          "model_name": "LayoutModel",
          "model_module_version": "1.2.0",
          "state": {
            "_view_name": "LayoutView",
            "grid_template_rows": null,
            "right": null,
            "justify_content": null,
            "_view_module": "@jupyter-widgets/base",
            "overflow": null,
            "_model_module_version": "1.2.0",
            "_view_count": null,
            "flex_flow": null,
            "width": null,
            "min_width": null,
            "border": null,
            "align_items": null,
            "bottom": null,
            "_model_module": "@jupyter-widgets/base",
            "top": null,
            "grid_column": null,
            "overflow_y": null,
            "overflow_x": null,
            "grid_auto_flow": null,
            "grid_area": null,
            "grid_template_columns": null,
            "flex": null,
            "_model_name": "LayoutModel",
            "justify_items": null,
            "grid_row": null,
            "max_height": null,
            "align_content": null,
            "visibility": null,
            "align_self": null,
            "height": null,
            "min_height": null,
            "padding": null,
            "grid_auto_rows": null,
            "grid_gap": null,
            "max_width": null,
            "order": null,
            "_view_module_version": "1.2.0",
            "grid_template_areas": null,
            "object_position": null,
            "object_fit": null,
            "grid_auto_columns": null,
            "margin": null,
            "display": null,
            "left": null
          }
        },
        "c2c02bbfd4ff41ae8afcb2dcfdc2f64c": {
          "model_module": "@jupyter-widgets/controls",
          "model_name": "HTMLModel",
          "model_module_version": "1.5.0",
          "state": {
            "_view_name": "HTMLView",
            "style": "IPY_MODEL_7c2eacb6f4b64356a84a8250d2e842f9",
            "_dom_classes": [],
            "description": "",
            "_model_name": "HTMLModel",
            "placeholder": "​",
            "_view_module": "@jupyter-widgets/controls",
            "_model_module_version": "1.5.0",
            "value": "Run: 100%",
            "_view_count": null,
            "_view_module_version": "1.5.0",
            "description_tooltip": null,
            "_model_module": "@jupyter-widgets/controls",
            "layout": "IPY_MODEL_ebd6286d8c4c406c83ea6865a48d3a50"
          }
        },
        "a0f6da604ee947cb8062864704936442": {
          "model_module": "@jupyter-widgets/controls",
          "model_name": "FloatProgressModel",
          "model_module_version": "1.5.0",
          "state": {
            "_view_name": "ProgressView",
            "style": "IPY_MODEL_6c44eda844bb45e0bd5f1d6cc8bb7a7d",
            "_dom_classes": [],
            "description": "",
            "_model_name": "FloatProgressModel",
            "bar_style": "success",
            "max": 200,
            "_view_module": "@jupyter-widgets/controls",
            "_model_module_version": "1.5.0",
            "value": 200,
            "_view_count": null,
            "_view_module_version": "1.5.0",
            "orientation": "horizontal",
            "min": 0,
            "description_tooltip": null,
            "_model_module": "@jupyter-widgets/controls",
            "layout": "IPY_MODEL_ead1243b87884b47b58d7916f82902bd"
          }
        },
        "daf7e2160d1043ee9cbec01d1eb21f3c": {
          "model_module": "@jupyter-widgets/controls",
          "model_name": "HTMLModel",
          "model_module_version": "1.5.0",
          "state": {
            "_view_name": "HTMLView",
            "style": "IPY_MODEL_1726da63391546018cc84017a016f287",
            "_dom_classes": [],
            "description": "",
            "_model_name": "HTMLModel",
            "placeholder": "​",
            "_view_module": "@jupyter-widgets/controls",
            "_model_module_version": "1.5.0",
            "value": " 200/200 [00:21&lt;00:00,  8.93it/s]",
            "_view_count": null,
            "_view_module_version": "1.5.0",
            "description_tooltip": null,
            "_model_module": "@jupyter-widgets/controls",
            "layout": "IPY_MODEL_73d2186ab16f4115b44a2aaf5386f7b4"
          }
        },
        "7c2eacb6f4b64356a84a8250d2e842f9": {
          "model_module": "@jupyter-widgets/controls",
          "model_name": "DescriptionStyleModel",
          "model_module_version": "1.5.0",
          "state": {
            "_view_name": "StyleView",
            "_model_name": "DescriptionStyleModel",
            "description_width": "",
            "_view_module": "@jupyter-widgets/base",
            "_model_module_version": "1.5.0",
            "_view_count": null,
            "_view_module_version": "1.2.0",
            "_model_module": "@jupyter-widgets/controls"
          }
        },
        "ebd6286d8c4c406c83ea6865a48d3a50": {
          "model_module": "@jupyter-widgets/base",
          "model_name": "LayoutModel",
          "model_module_version": "1.2.0",
          "state": {
            "_view_name": "LayoutView",
            "grid_template_rows": null,
            "right": null,
            "justify_content": null,
            "_view_module": "@jupyter-widgets/base",
            "overflow": null,
            "_model_module_version": "1.2.0",
            "_view_count": null,
            "flex_flow": null,
            "width": null,
            "min_width": null,
            "border": null,
            "align_items": null,
            "bottom": null,
            "_model_module": "@jupyter-widgets/base",
            "top": null,
            "grid_column": null,
            "overflow_y": null,
            "overflow_x": null,
            "grid_auto_flow": null,
            "grid_area": null,
            "grid_template_columns": null,
            "flex": null,
            "_model_name": "LayoutModel",
            "justify_items": null,
            "grid_row": null,
            "max_height": null,
            "align_content": null,
            "visibility": null,
            "align_self": null,
            "height": null,
            "min_height": null,
            "padding": null,
            "grid_auto_rows": null,
            "grid_gap": null,
            "max_width": null,
            "order": null,
            "_view_module_version": "1.2.0",
            "grid_template_areas": null,
            "object_position": null,
            "object_fit": null,
            "grid_auto_columns": null,
            "margin": null,
            "display": null,
            "left": null
          }
        },
        "6c44eda844bb45e0bd5f1d6cc8bb7a7d": {
          "model_module": "@jupyter-widgets/controls",
          "model_name": "ProgressStyleModel",
          "model_module_version": "1.5.0",
          "state": {
            "_view_name": "StyleView",
            "_model_name": "ProgressStyleModel",
            "description_width": "",
            "_view_module": "@jupyter-widgets/base",
            "_model_module_version": "1.5.0",
            "_view_count": null,
            "_view_module_version": "1.2.0",
            "bar_color": null,
            "_model_module": "@jupyter-widgets/controls"
          }
        },
        "ead1243b87884b47b58d7916f82902bd": {
          "model_module": "@jupyter-widgets/base",
          "model_name": "LayoutModel",
          "model_module_version": "1.2.0",
          "state": {
            "_view_name": "LayoutView",
            "grid_template_rows": null,
            "right": null,
            "justify_content": null,
            "_view_module": "@jupyter-widgets/base",
            "overflow": null,
            "_model_module_version": "1.2.0",
            "_view_count": null,
            "flex_flow": null,
            "width": null,
            "min_width": null,
            "border": null,
            "align_items": null,
            "bottom": null,
            "_model_module": "@jupyter-widgets/base",
            "top": null,
            "grid_column": null,
            "overflow_y": null,
            "overflow_x": null,
            "grid_auto_flow": null,
            "grid_area": null,
            "grid_template_columns": null,
            "flex": null,
            "_model_name": "LayoutModel",
            "justify_items": null,
            "grid_row": null,
            "max_height": null,
            "align_content": null,
            "visibility": null,
            "align_self": null,
            "height": null,
            "min_height": null,
            "padding": null,
            "grid_auto_rows": null,
            "grid_gap": null,
            "max_width": null,
            "order": null,
            "_view_module_version": "1.2.0",
            "grid_template_areas": null,
            "object_position": null,
            "object_fit": null,
            "grid_auto_columns": null,
            "margin": null,
            "display": null,
            "left": null
          }
        },
        "1726da63391546018cc84017a016f287": {
          "model_module": "@jupyter-widgets/controls",
          "model_name": "DescriptionStyleModel",
          "model_module_version": "1.5.0",
          "state": {
            "_view_name": "StyleView",
            "_model_name": "DescriptionStyleModel",
            "description_width": "",
            "_view_module": "@jupyter-widgets/base",
            "_model_module_version": "1.5.0",
            "_view_count": null,
            "_view_module_version": "1.2.0",
            "_model_module": "@jupyter-widgets/controls"
          }
        },
        "73d2186ab16f4115b44a2aaf5386f7b4": {
          "model_module": "@jupyter-widgets/base",
          "model_name": "LayoutModel",
          "model_module_version": "1.2.0",
          "state": {
            "_view_name": "LayoutView",
            "grid_template_rows": null,
            "right": null,
            "justify_content": null,
            "_view_module": "@jupyter-widgets/base",
            "overflow": null,
            "_model_module_version": "1.2.0",
            "_view_count": null,
            "flex_flow": null,
            "width": null,
            "min_width": null,
            "border": null,
            "align_items": null,
            "bottom": null,
            "_model_module": "@jupyter-widgets/base",
            "top": null,
            "grid_column": null,
            "overflow_y": null,
            "overflow_x": null,
            "grid_auto_flow": null,
            "grid_area": null,
            "grid_template_columns": null,
            "flex": null,
            "_model_name": "LayoutModel",
            "justify_items": null,
            "grid_row": null,
            "max_height": null,
            "align_content": null,
            "visibility": null,
            "align_self": null,
            "height": null,
            "min_height": null,
            "padding": null,
            "grid_auto_rows": null,
            "grid_gap": null,
            "max_width": null,
            "order": null,
            "_view_module_version": "1.2.0",
            "grid_template_areas": null,
            "object_position": null,
            "object_fit": null,
            "grid_auto_columns": null,
            "margin": null,
            "display": null,
            "left": null
          }
        },
        "2b36f42622814b09a85e4cddb7d90820": {
          "model_module": "@jupyter-widgets/controls",
          "model_name": "HBoxModel",
          "model_module_version": "1.5.0",
          "state": {
            "_view_name": "HBoxView",
            "_dom_classes": [],
            "_model_name": "HBoxModel",
            "_view_module": "@jupyter-widgets/controls",
            "_model_module_version": "1.5.0",
            "_view_count": null,
            "_view_module_version": "1.5.0",
            "box_style": "",
            "layout": "IPY_MODEL_1c61fe32bb1643fd80219de46c9e9f76",
            "_model_module": "@jupyter-widgets/controls",
            "children": [
              "IPY_MODEL_70f4727bd83b4848bdc073dc0001ff94",
              "IPY_MODEL_dfaece9766974451aad1f4a1b936c55c",
              "IPY_MODEL_b26f63b61d45409e87479331c8cfda6b"
            ]
          }
        },
        "1c61fe32bb1643fd80219de46c9e9f76": {
          "model_module": "@jupyter-widgets/base",
          "model_name": "LayoutModel",
          "model_module_version": "1.2.0",
          "state": {
            "_view_name": "LayoutView",
            "grid_template_rows": null,
            "right": null,
            "justify_content": null,
            "_view_module": "@jupyter-widgets/base",
            "overflow": null,
            "_model_module_version": "1.2.0",
            "_view_count": null,
            "flex_flow": null,
            "width": null,
            "min_width": null,
            "border": null,
            "align_items": null,
            "bottom": null,
            "_model_module": "@jupyter-widgets/base",
            "top": null,
            "grid_column": null,
            "overflow_y": null,
            "overflow_x": null,
            "grid_auto_flow": null,
            "grid_area": null,
            "grid_template_columns": null,
            "flex": null,
            "_model_name": "LayoutModel",
            "justify_items": null,
            "grid_row": null,
            "max_height": null,
            "align_content": null,
            "visibility": null,
            "align_self": null,
            "height": null,
            "min_height": null,
            "padding": null,
            "grid_auto_rows": null,
            "grid_gap": null,
            "max_width": null,
            "order": null,
            "_view_module_version": "1.2.0",
            "grid_template_areas": null,
            "object_position": null,
            "object_fit": null,
            "grid_auto_columns": null,
            "margin": null,
            "display": null,
            "left": null
          }
        },
        "70f4727bd83b4848bdc073dc0001ff94": {
          "model_module": "@jupyter-widgets/controls",
          "model_name": "HTMLModel",
          "model_module_version": "1.5.0",
          "state": {
            "_view_name": "HTMLView",
            "style": "IPY_MODEL_e709fea983f14df88f95985b766e8da5",
            "_dom_classes": [],
            "description": "",
            "_model_name": "HTMLModel",
            "placeholder": "​",
            "_view_module": "@jupyter-widgets/controls",
            "_model_module_version": "1.5.0",
            "value": "Run: 100%",
            "_view_count": null,
            "_view_module_version": "1.5.0",
            "description_tooltip": null,
            "_model_module": "@jupyter-widgets/controls",
            "layout": "IPY_MODEL_13b1f3ab291744f981118521ed9b938a"
          }
        },
        "dfaece9766974451aad1f4a1b936c55c": {
          "model_module": "@jupyter-widgets/controls",
          "model_name": "FloatProgressModel",
          "model_module_version": "1.5.0",
          "state": {
            "_view_name": "ProgressView",
            "style": "IPY_MODEL_f7cca85e007640319eb3a802b3fa8a91",
            "_dom_classes": [],
            "description": "",
            "_model_name": "FloatProgressModel",
            "bar_style": "success",
            "max": 200,
            "_view_module": "@jupyter-widgets/controls",
            "_model_module_version": "1.5.0",
            "value": 200,
            "_view_count": null,
            "_view_module_version": "1.5.0",
            "orientation": "horizontal",
            "min": 0,
            "description_tooltip": null,
            "_model_module": "@jupyter-widgets/controls",
            "layout": "IPY_MODEL_9a5e0830f34a426190c30e54e765ea4d"
          }
        },
        "b26f63b61d45409e87479331c8cfda6b": {
          "model_module": "@jupyter-widgets/controls",
          "model_name": "HTMLModel",
          "model_module_version": "1.5.0",
          "state": {
            "_view_name": "HTMLView",
            "style": "IPY_MODEL_116030d182694473936ad6a03b36e126",
            "_dom_classes": [],
            "description": "",
            "_model_name": "HTMLModel",
            "placeholder": "​",
            "_view_module": "@jupyter-widgets/controls",
            "_model_module_version": "1.5.0",
            "value": " 200/200 [00:22&lt;00:00,  8.71it/s]",
            "_view_count": null,
            "_view_module_version": "1.5.0",
            "description_tooltip": null,
            "_model_module": "@jupyter-widgets/controls",
            "layout": "IPY_MODEL_a01052e9d2af4585a22e720313654159"
          }
        },
        "e709fea983f14df88f95985b766e8da5": {
          "model_module": "@jupyter-widgets/controls",
          "model_name": "DescriptionStyleModel",
          "model_module_version": "1.5.0",
          "state": {
            "_view_name": "StyleView",
            "_model_name": "DescriptionStyleModel",
            "description_width": "",
            "_view_module": "@jupyter-widgets/base",
            "_model_module_version": "1.5.0",
            "_view_count": null,
            "_view_module_version": "1.2.0",
            "_model_module": "@jupyter-widgets/controls"
          }
        },
        "13b1f3ab291744f981118521ed9b938a": {
          "model_module": "@jupyter-widgets/base",
          "model_name": "LayoutModel",
          "model_module_version": "1.2.0",
          "state": {
            "_view_name": "LayoutView",
            "grid_template_rows": null,
            "right": null,
            "justify_content": null,
            "_view_module": "@jupyter-widgets/base",
            "overflow": null,
            "_model_module_version": "1.2.0",
            "_view_count": null,
            "flex_flow": null,
            "width": null,
            "min_width": null,
            "border": null,
            "align_items": null,
            "bottom": null,
            "_model_module": "@jupyter-widgets/base",
            "top": null,
            "grid_column": null,
            "overflow_y": null,
            "overflow_x": null,
            "grid_auto_flow": null,
            "grid_area": null,
            "grid_template_columns": null,
            "flex": null,
            "_model_name": "LayoutModel",
            "justify_items": null,
            "grid_row": null,
            "max_height": null,
            "align_content": null,
            "visibility": null,
            "align_self": null,
            "height": null,
            "min_height": null,
            "padding": null,
            "grid_auto_rows": null,
            "grid_gap": null,
            "max_width": null,
            "order": null,
            "_view_module_version": "1.2.0",
            "grid_template_areas": null,
            "object_position": null,
            "object_fit": null,
            "grid_auto_columns": null,
            "margin": null,
            "display": null,
            "left": null
          }
        },
        "f7cca85e007640319eb3a802b3fa8a91": {
          "model_module": "@jupyter-widgets/controls",
          "model_name": "ProgressStyleModel",
          "model_module_version": "1.5.0",
          "state": {
            "_view_name": "StyleView",
            "_model_name": "ProgressStyleModel",
            "description_width": "",
            "_view_module": "@jupyter-widgets/base",
            "_model_module_version": "1.5.0",
            "_view_count": null,
            "_view_module_version": "1.2.0",
            "bar_color": null,
            "_model_module": "@jupyter-widgets/controls"
          }
        },
        "9a5e0830f34a426190c30e54e765ea4d": {
          "model_module": "@jupyter-widgets/base",
          "model_name": "LayoutModel",
          "model_module_version": "1.2.0",
          "state": {
            "_view_name": "LayoutView",
            "grid_template_rows": null,
            "right": null,
            "justify_content": null,
            "_view_module": "@jupyter-widgets/base",
            "overflow": null,
            "_model_module_version": "1.2.0",
            "_view_count": null,
            "flex_flow": null,
            "width": null,
            "min_width": null,
            "border": null,
            "align_items": null,
            "bottom": null,
            "_model_module": "@jupyter-widgets/base",
            "top": null,
            "grid_column": null,
            "overflow_y": null,
            "overflow_x": null,
            "grid_auto_flow": null,
            "grid_area": null,
            "grid_template_columns": null,
            "flex": null,
            "_model_name": "LayoutModel",
            "justify_items": null,
            "grid_row": null,
            "max_height": null,
            "align_content": null,
            "visibility": null,
            "align_self": null,
            "height": null,
            "min_height": null,
            "padding": null,
            "grid_auto_rows": null,
            "grid_gap": null,
            "max_width": null,
            "order": null,
            "_view_module_version": "1.2.0",
            "grid_template_areas": null,
            "object_position": null,
            "object_fit": null,
            "grid_auto_columns": null,
            "margin": null,
            "display": null,
            "left": null
          }
        },
        "116030d182694473936ad6a03b36e126": {
          "model_module": "@jupyter-widgets/controls",
          "model_name": "DescriptionStyleModel",
          "model_module_version": "1.5.0",
          "state": {
            "_view_name": "StyleView",
            "_model_name": "DescriptionStyleModel",
            "description_width": "",
            "_view_module": "@jupyter-widgets/base",
            "_model_module_version": "1.5.0",
            "_view_count": null,
            "_view_module_version": "1.2.0",
            "_model_module": "@jupyter-widgets/controls"
          }
        },
        "a01052e9d2af4585a22e720313654159": {
          "model_module": "@jupyter-widgets/base",
          "model_name": "LayoutModel",
          "model_module_version": "1.2.0",
          "state": {
            "_view_name": "LayoutView",
            "grid_template_rows": null,
            "right": null,
            "justify_content": null,
            "_view_module": "@jupyter-widgets/base",
            "overflow": null,
            "_model_module_version": "1.2.0",
            "_view_count": null,
            "flex_flow": null,
            "width": null,
            "min_width": null,
            "border": null,
            "align_items": null,
            "bottom": null,
            "_model_module": "@jupyter-widgets/base",
            "top": null,
            "grid_column": null,
            "overflow_y": null,
            "overflow_x": null,
            "grid_auto_flow": null,
            "grid_area": null,
            "grid_template_columns": null,
            "flex": null,
            "_model_name": "LayoutModel",
            "justify_items": null,
            "grid_row": null,
            "max_height": null,
            "align_content": null,
            "visibility": null,
            "align_self": null,
            "height": null,
            "min_height": null,
            "padding": null,
            "grid_auto_rows": null,
            "grid_gap": null,
            "max_width": null,
            "order": null,
            "_view_module_version": "1.2.0",
            "grid_template_areas": null,
            "object_position": null,
            "object_fit": null,
            "grid_auto_columns": null,
            "margin": null,
            "display": null,
            "left": null
          }
        },
        "4467109fe3a84614a3a0a2f4adb3900a": {
          "model_module": "@jupyter-widgets/controls",
          "model_name": "HBoxModel",
          "model_module_version": "1.5.0",
          "state": {
            "_view_name": "HBoxView",
            "_dom_classes": [],
            "_model_name": "HBoxModel",
            "_view_module": "@jupyter-widgets/controls",
            "_model_module_version": "1.5.0",
            "_view_count": null,
            "_view_module_version": "1.5.0",
            "box_style": "",
            "layout": "IPY_MODEL_fe4e19ba50064df8b7e7dfad2b2a033a",
            "_model_module": "@jupyter-widgets/controls",
            "children": [
              "IPY_MODEL_fbab05424754463fbd3e017ccf28f698",
              "IPY_MODEL_3bb856a12634422e9f18befee9f1d341",
              "IPY_MODEL_b7a8ee55456e4150b58ea8fffa8531b9"
            ]
          }
        },
        "fe4e19ba50064df8b7e7dfad2b2a033a": {
          "model_module": "@jupyter-widgets/base",
          "model_name": "LayoutModel",
          "model_module_version": "1.2.0",
          "state": {
            "_view_name": "LayoutView",
            "grid_template_rows": null,
            "right": null,
            "justify_content": null,
            "_view_module": "@jupyter-widgets/base",
            "overflow": null,
            "_model_module_version": "1.2.0",
            "_view_count": null,
            "flex_flow": null,
            "width": null,
            "min_width": null,
            "border": null,
            "align_items": null,
            "bottom": null,
            "_model_module": "@jupyter-widgets/base",
            "top": null,
            "grid_column": null,
            "overflow_y": null,
            "overflow_x": null,
            "grid_auto_flow": null,
            "grid_area": null,
            "grid_template_columns": null,
            "flex": null,
            "_model_name": "LayoutModel",
            "justify_items": null,
            "grid_row": null,
            "max_height": null,
            "align_content": null,
            "visibility": null,
            "align_self": null,
            "height": null,
            "min_height": null,
            "padding": null,
            "grid_auto_rows": null,
            "grid_gap": null,
            "max_width": null,
            "order": null,
            "_view_module_version": "1.2.0",
            "grid_template_areas": null,
            "object_position": null,
            "object_fit": null,
            "grid_auto_columns": null,
            "margin": null,
            "display": null,
            "left": null
          }
        },
        "fbab05424754463fbd3e017ccf28f698": {
          "model_module": "@jupyter-widgets/controls",
          "model_name": "HTMLModel",
          "model_module_version": "1.5.0",
          "state": {
            "_view_name": "HTMLView",
            "style": "IPY_MODEL_f506ed0587b04ab9a49dc9bab7dae418",
            "_dom_classes": [],
            "description": "",
            "_model_name": "HTMLModel",
            "placeholder": "​",
            "_view_module": "@jupyter-widgets/controls",
            "_model_module_version": "1.5.0",
            "value": "Run: 100%",
            "_view_count": null,
            "_view_module_version": "1.5.0",
            "description_tooltip": null,
            "_model_module": "@jupyter-widgets/controls",
            "layout": "IPY_MODEL_5a795561caf249df8cf1d688ac2bbd0f"
          }
        },
        "3bb856a12634422e9f18befee9f1d341": {
          "model_module": "@jupyter-widgets/controls",
          "model_name": "FloatProgressModel",
          "model_module_version": "1.5.0",
          "state": {
            "_view_name": "ProgressView",
            "style": "IPY_MODEL_cbc5930a20ef409896022dfa75b4dac7",
            "_dom_classes": [],
            "description": "",
            "_model_name": "FloatProgressModel",
            "bar_style": "success",
            "max": 200,
            "_view_module": "@jupyter-widgets/controls",
            "_model_module_version": "1.5.0",
            "value": 200,
            "_view_count": null,
            "_view_module_version": "1.5.0",
            "orientation": "horizontal",
            "min": 0,
            "description_tooltip": null,
            "_model_module": "@jupyter-widgets/controls",
            "layout": "IPY_MODEL_69cc0b8a2e4248ac9a35ca34c220f5fb"
          }
        },
        "b7a8ee55456e4150b58ea8fffa8531b9": {
          "model_module": "@jupyter-widgets/controls",
          "model_name": "HTMLModel",
          "model_module_version": "1.5.0",
          "state": {
            "_view_name": "HTMLView",
            "style": "IPY_MODEL_5c546bf1cec34eccaff8c73a40db1631",
            "_dom_classes": [],
            "description": "",
            "_model_name": "HTMLModel",
            "placeholder": "​",
            "_view_module": "@jupyter-widgets/controls",
            "_model_module_version": "1.5.0",
            "value": " 200/200 [00:19&lt;00:00,  9.96it/s]",
            "_view_count": null,
            "_view_module_version": "1.5.0",
            "description_tooltip": null,
            "_model_module": "@jupyter-widgets/controls",
            "layout": "IPY_MODEL_c6576257053041c6b947ecd504a38c5e"
          }
        },
        "f506ed0587b04ab9a49dc9bab7dae418": {
          "model_module": "@jupyter-widgets/controls",
          "model_name": "DescriptionStyleModel",
          "model_module_version": "1.5.0",
          "state": {
            "_view_name": "StyleView",
            "_model_name": "DescriptionStyleModel",
            "description_width": "",
            "_view_module": "@jupyter-widgets/base",
            "_model_module_version": "1.5.0",
            "_view_count": null,
            "_view_module_version": "1.2.0",
            "_model_module": "@jupyter-widgets/controls"
          }
        },
        "5a795561caf249df8cf1d688ac2bbd0f": {
          "model_module": "@jupyter-widgets/base",
          "model_name": "LayoutModel",
          "model_module_version": "1.2.0",
          "state": {
            "_view_name": "LayoutView",
            "grid_template_rows": null,
            "right": null,
            "justify_content": null,
            "_view_module": "@jupyter-widgets/base",
            "overflow": null,
            "_model_module_version": "1.2.0",
            "_view_count": null,
            "flex_flow": null,
            "width": null,
            "min_width": null,
            "border": null,
            "align_items": null,
            "bottom": null,
            "_model_module": "@jupyter-widgets/base",
            "top": null,
            "grid_column": null,
            "overflow_y": null,
            "overflow_x": null,
            "grid_auto_flow": null,
            "grid_area": null,
            "grid_template_columns": null,
            "flex": null,
            "_model_name": "LayoutModel",
            "justify_items": null,
            "grid_row": null,
            "max_height": null,
            "align_content": null,
            "visibility": null,
            "align_self": null,
            "height": null,
            "min_height": null,
            "padding": null,
            "grid_auto_rows": null,
            "grid_gap": null,
            "max_width": null,
            "order": null,
            "_view_module_version": "1.2.0",
            "grid_template_areas": null,
            "object_position": null,
            "object_fit": null,
            "grid_auto_columns": null,
            "margin": null,
            "display": null,
            "left": null
          }
        },
        "cbc5930a20ef409896022dfa75b4dac7": {
          "model_module": "@jupyter-widgets/controls",
          "model_name": "ProgressStyleModel",
          "model_module_version": "1.5.0",
          "state": {
            "_view_name": "StyleView",
            "_model_name": "ProgressStyleModel",
            "description_width": "",
            "_view_module": "@jupyter-widgets/base",
            "_model_module_version": "1.5.0",
            "_view_count": null,
            "_view_module_version": "1.2.0",
            "bar_color": null,
            "_model_module": "@jupyter-widgets/controls"
          }
        },
        "69cc0b8a2e4248ac9a35ca34c220f5fb": {
          "model_module": "@jupyter-widgets/base",
          "model_name": "LayoutModel",
          "model_module_version": "1.2.0",
          "state": {
            "_view_name": "LayoutView",
            "grid_template_rows": null,
            "right": null,
            "justify_content": null,
            "_view_module": "@jupyter-widgets/base",
            "overflow": null,
            "_model_module_version": "1.2.0",
            "_view_count": null,
            "flex_flow": null,
            "width": null,
            "min_width": null,
            "border": null,
            "align_items": null,
            "bottom": null,
            "_model_module": "@jupyter-widgets/base",
            "top": null,
            "grid_column": null,
            "overflow_y": null,
            "overflow_x": null,
            "grid_auto_flow": null,
            "grid_area": null,
            "grid_template_columns": null,
            "flex": null,
            "_model_name": "LayoutModel",
            "justify_items": null,
            "grid_row": null,
            "max_height": null,
            "align_content": null,
            "visibility": null,
            "align_self": null,
            "height": null,
            "min_height": null,
            "padding": null,
            "grid_auto_rows": null,
            "grid_gap": null,
            "max_width": null,
            "order": null,
            "_view_module_version": "1.2.0",
            "grid_template_areas": null,
            "object_position": null,
            "object_fit": null,
            "grid_auto_columns": null,
            "margin": null,
            "display": null,
            "left": null
          }
        },
        "5c546bf1cec34eccaff8c73a40db1631": {
          "model_module": "@jupyter-widgets/controls",
          "model_name": "DescriptionStyleModel",
          "model_module_version": "1.5.0",
          "state": {
            "_view_name": "StyleView",
            "_model_name": "DescriptionStyleModel",
            "description_width": "",
            "_view_module": "@jupyter-widgets/base",
            "_model_module_version": "1.5.0",
            "_view_count": null,
            "_view_module_version": "1.2.0",
            "_model_module": "@jupyter-widgets/controls"
          }
        },
        "c6576257053041c6b947ecd504a38c5e": {
          "model_module": "@jupyter-widgets/base",
          "model_name": "LayoutModel",
          "model_module_version": "1.2.0",
          "state": {
            "_view_name": "LayoutView",
            "grid_template_rows": null,
            "right": null,
            "justify_content": null,
            "_view_module": "@jupyter-widgets/base",
            "overflow": null,
            "_model_module_version": "1.2.0",
            "_view_count": null,
            "flex_flow": null,
            "width": null,
            "min_width": null,
            "border": null,
            "align_items": null,
            "bottom": null,
            "_model_module": "@jupyter-widgets/base",
            "top": null,
            "grid_column": null,
            "overflow_y": null,
            "overflow_x": null,
            "grid_auto_flow": null,
            "grid_area": null,
            "grid_template_columns": null,
            "flex": null,
            "_model_name": "LayoutModel",
            "justify_items": null,
            "grid_row": null,
            "max_height": null,
            "align_content": null,
            "visibility": null,
            "align_self": null,
            "height": null,
            "min_height": null,
            "padding": null,
            "grid_auto_rows": null,
            "grid_gap": null,
            "max_width": null,
            "order": null,
            "_view_module_version": "1.2.0",
            "grid_template_areas": null,
            "object_position": null,
            "object_fit": null,
            "grid_auto_columns": null,
            "margin": null,
            "display": null,
            "left": null
          }
        },
        "4dba28ae76d041c1beb53d98572c4b40": {
          "model_module": "@jupyter-widgets/controls",
          "model_name": "HBoxModel",
          "model_module_version": "1.5.0",
          "state": {
            "_view_name": "HBoxView",
            "_dom_classes": [],
            "_model_name": "HBoxModel",
            "_view_module": "@jupyter-widgets/controls",
            "_model_module_version": "1.5.0",
            "_view_count": null,
            "_view_module_version": "1.5.0",
            "box_style": "",
            "layout": "IPY_MODEL_3e605ea4d8304d31b40957b2cae3a9c7",
            "_model_module": "@jupyter-widgets/controls",
            "children": [
              "IPY_MODEL_f1f73e9835394f6a909ea16b2ab9c58c",
              "IPY_MODEL_ab5403d4b9a348069b1f4f06b021523a",
              "IPY_MODEL_1f21a57142c841079b15846214a8911b"
            ]
          }
        },
        "3e605ea4d8304d31b40957b2cae3a9c7": {
          "model_module": "@jupyter-widgets/base",
          "model_name": "LayoutModel",
          "model_module_version": "1.2.0",
          "state": {
            "_view_name": "LayoutView",
            "grid_template_rows": null,
            "right": null,
            "justify_content": null,
            "_view_module": "@jupyter-widgets/base",
            "overflow": null,
            "_model_module_version": "1.2.0",
            "_view_count": null,
            "flex_flow": null,
            "width": null,
            "min_width": null,
            "border": null,
            "align_items": null,
            "bottom": null,
            "_model_module": "@jupyter-widgets/base",
            "top": null,
            "grid_column": null,
            "overflow_y": null,
            "overflow_x": null,
            "grid_auto_flow": null,
            "grid_area": null,
            "grid_template_columns": null,
            "flex": null,
            "_model_name": "LayoutModel",
            "justify_items": null,
            "grid_row": null,
            "max_height": null,
            "align_content": null,
            "visibility": null,
            "align_self": null,
            "height": null,
            "min_height": null,
            "padding": null,
            "grid_auto_rows": null,
            "grid_gap": null,
            "max_width": null,
            "order": null,
            "_view_module_version": "1.2.0",
            "grid_template_areas": null,
            "object_position": null,
            "object_fit": null,
            "grid_auto_columns": null,
            "margin": null,
            "display": null,
            "left": null
          }
        },
        "f1f73e9835394f6a909ea16b2ab9c58c": {
          "model_module": "@jupyter-widgets/controls",
          "model_name": "HTMLModel",
          "model_module_version": "1.5.0",
          "state": {
            "_view_name": "HTMLView",
            "style": "IPY_MODEL_e38734950ba749f1aad365feafa2e221",
            "_dom_classes": [],
            "description": "",
            "_model_name": "HTMLModel",
            "placeholder": "​",
            "_view_module": "@jupyter-widgets/controls",
            "_model_module_version": "1.5.0",
            "value": "Run: 100%",
            "_view_count": null,
            "_view_module_version": "1.5.0",
            "description_tooltip": null,
            "_model_module": "@jupyter-widgets/controls",
            "layout": "IPY_MODEL_bfc7d11097754adf85b8a7b112564c14"
          }
        },
        "ab5403d4b9a348069b1f4f06b021523a": {
          "model_module": "@jupyter-widgets/controls",
          "model_name": "FloatProgressModel",
          "model_module_version": "1.5.0",
          "state": {
            "_view_name": "ProgressView",
            "style": "IPY_MODEL_6a1a3cba796443169adc0addcad6d28b",
            "_dom_classes": [],
            "description": "",
            "_model_name": "FloatProgressModel",
            "bar_style": "success",
            "max": 200,
            "_view_module": "@jupyter-widgets/controls",
            "_model_module_version": "1.5.0",
            "value": 200,
            "_view_count": null,
            "_view_module_version": "1.5.0",
            "orientation": "horizontal",
            "min": 0,
            "description_tooltip": null,
            "_model_module": "@jupyter-widgets/controls",
            "layout": "IPY_MODEL_a3ec6da1694e47cabb68ce66f910ecfb"
          }
        },
        "1f21a57142c841079b15846214a8911b": {
          "model_module": "@jupyter-widgets/controls",
          "model_name": "HTMLModel",
          "model_module_version": "1.5.0",
          "state": {
            "_view_name": "HTMLView",
            "style": "IPY_MODEL_ff85662b7778443784b8437c5bd82309",
            "_dom_classes": [],
            "description": "",
            "_model_name": "HTMLModel",
            "placeholder": "​",
            "_view_module": "@jupyter-widgets/controls",
            "_model_module_version": "1.5.0",
            "value": " 200/200 [00:19&lt;00:00,  9.60it/s]",
            "_view_count": null,
            "_view_module_version": "1.5.0",
            "description_tooltip": null,
            "_model_module": "@jupyter-widgets/controls",
            "layout": "IPY_MODEL_81017b3da3b54e76b15dfbc20343b2ae"
          }
        },
        "e38734950ba749f1aad365feafa2e221": {
          "model_module": "@jupyter-widgets/controls",
          "model_name": "DescriptionStyleModel",
          "model_module_version": "1.5.0",
          "state": {
            "_view_name": "StyleView",
            "_model_name": "DescriptionStyleModel",
            "description_width": "",
            "_view_module": "@jupyter-widgets/base",
            "_model_module_version": "1.5.0",
            "_view_count": null,
            "_view_module_version": "1.2.0",
            "_model_module": "@jupyter-widgets/controls"
          }
        },
        "bfc7d11097754adf85b8a7b112564c14": {
          "model_module": "@jupyter-widgets/base",
          "model_name": "LayoutModel",
          "model_module_version": "1.2.0",
          "state": {
            "_view_name": "LayoutView",
            "grid_template_rows": null,
            "right": null,
            "justify_content": null,
            "_view_module": "@jupyter-widgets/base",
            "overflow": null,
            "_model_module_version": "1.2.0",
            "_view_count": null,
            "flex_flow": null,
            "width": null,
            "min_width": null,
            "border": null,
            "align_items": null,
            "bottom": null,
            "_model_module": "@jupyter-widgets/base",
            "top": null,
            "grid_column": null,
            "overflow_y": null,
            "overflow_x": null,
            "grid_auto_flow": null,
            "grid_area": null,
            "grid_template_columns": null,
            "flex": null,
            "_model_name": "LayoutModel",
            "justify_items": null,
            "grid_row": null,
            "max_height": null,
            "align_content": null,
            "visibility": null,
            "align_self": null,
            "height": null,
            "min_height": null,
            "padding": null,
            "grid_auto_rows": null,
            "grid_gap": null,
            "max_width": null,
            "order": null,
            "_view_module_version": "1.2.0",
            "grid_template_areas": null,
            "object_position": null,
            "object_fit": null,
            "grid_auto_columns": null,
            "margin": null,
            "display": null,
            "left": null
          }
        },
        "6a1a3cba796443169adc0addcad6d28b": {
          "model_module": "@jupyter-widgets/controls",
          "model_name": "ProgressStyleModel",
          "model_module_version": "1.5.0",
          "state": {
            "_view_name": "StyleView",
            "_model_name": "ProgressStyleModel",
            "description_width": "",
            "_view_module": "@jupyter-widgets/base",
            "_model_module_version": "1.5.0",
            "_view_count": null,
            "_view_module_version": "1.2.0",
            "bar_color": null,
            "_model_module": "@jupyter-widgets/controls"
          }
        },
        "a3ec6da1694e47cabb68ce66f910ecfb": {
          "model_module": "@jupyter-widgets/base",
          "model_name": "LayoutModel",
          "model_module_version": "1.2.0",
          "state": {
            "_view_name": "LayoutView",
            "grid_template_rows": null,
            "right": null,
            "justify_content": null,
            "_view_module": "@jupyter-widgets/base",
            "overflow": null,
            "_model_module_version": "1.2.0",
            "_view_count": null,
            "flex_flow": null,
            "width": null,
            "min_width": null,
            "border": null,
            "align_items": null,
            "bottom": null,
            "_model_module": "@jupyter-widgets/base",
            "top": null,
            "grid_column": null,
            "overflow_y": null,
            "overflow_x": null,
            "grid_auto_flow": null,
            "grid_area": null,
            "grid_template_columns": null,
            "flex": null,
            "_model_name": "LayoutModel",
            "justify_items": null,
            "grid_row": null,
            "max_height": null,
            "align_content": null,
            "visibility": null,
            "align_self": null,
            "height": null,
            "min_height": null,
            "padding": null,
            "grid_auto_rows": null,
            "grid_gap": null,
            "max_width": null,
            "order": null,
            "_view_module_version": "1.2.0",
            "grid_template_areas": null,
            "object_position": null,
            "object_fit": null,
            "grid_auto_columns": null,
            "margin": null,
            "display": null,
            "left": null
          }
        },
        "ff85662b7778443784b8437c5bd82309": {
          "model_module": "@jupyter-widgets/controls",
          "model_name": "DescriptionStyleModel",
          "model_module_version": "1.5.0",
          "state": {
            "_view_name": "StyleView",
            "_model_name": "DescriptionStyleModel",
            "description_width": "",
            "_view_module": "@jupyter-widgets/base",
            "_model_module_version": "1.5.0",
            "_view_count": null,
            "_view_module_version": "1.2.0",
            "_model_module": "@jupyter-widgets/controls"
          }
        },
        "81017b3da3b54e76b15dfbc20343b2ae": {
          "model_module": "@jupyter-widgets/base",
          "model_name": "LayoutModel",
          "model_module_version": "1.2.0",
          "state": {
            "_view_name": "LayoutView",
            "grid_template_rows": null,
            "right": null,
            "justify_content": null,
            "_view_module": "@jupyter-widgets/base",
            "overflow": null,
            "_model_module_version": "1.2.0",
            "_view_count": null,
            "flex_flow": null,
            "width": null,
            "min_width": null,
            "border": null,
            "align_items": null,
            "bottom": null,
            "_model_module": "@jupyter-widgets/base",
            "top": null,
            "grid_column": null,
            "overflow_y": null,
            "overflow_x": null,
            "grid_auto_flow": null,
            "grid_area": null,
            "grid_template_columns": null,
            "flex": null,
            "_model_name": "LayoutModel",
            "justify_items": null,
            "grid_row": null,
            "max_height": null,
            "align_content": null,
            "visibility": null,
            "align_self": null,
            "height": null,
            "min_height": null,
            "padding": null,
            "grid_auto_rows": null,
            "grid_gap": null,
            "max_width": null,
            "order": null,
            "_view_module_version": "1.2.0",
            "grid_template_areas": null,
            "object_position": null,
            "object_fit": null,
            "grid_auto_columns": null,
            "margin": null,
            "display": null,
            "left": null
          }
        },
        "5232e25c860d447eb666b8430ac6b8e8": {
          "model_module": "@jupyter-widgets/controls",
          "model_name": "HBoxModel",
          "model_module_version": "1.5.0",
          "state": {
            "_view_name": "HBoxView",
            "_dom_classes": [],
            "_model_name": "HBoxModel",
            "_view_module": "@jupyter-widgets/controls",
            "_model_module_version": "1.5.0",
            "_view_count": null,
            "_view_module_version": "1.5.0",
            "box_style": "",
            "layout": "IPY_MODEL_4ac7580fafd24ae8951fccdf2ba5ed9a",
            "_model_module": "@jupyter-widgets/controls",
            "children": [
              "IPY_MODEL_e792c376bf09435186a6f5d23f8b0f8b",
              "IPY_MODEL_ea79f681bdd94489a7bd023826f6e2d2",
              "IPY_MODEL_21b4f9494e8548ff89bc420a245ded9f"
            ]
          }
        },
        "4ac7580fafd24ae8951fccdf2ba5ed9a": {
          "model_module": "@jupyter-widgets/base",
          "model_name": "LayoutModel",
          "model_module_version": "1.2.0",
          "state": {
            "_view_name": "LayoutView",
            "grid_template_rows": null,
            "right": null,
            "justify_content": null,
            "_view_module": "@jupyter-widgets/base",
            "overflow": null,
            "_model_module_version": "1.2.0",
            "_view_count": null,
            "flex_flow": null,
            "width": null,
            "min_width": null,
            "border": null,
            "align_items": null,
            "bottom": null,
            "_model_module": "@jupyter-widgets/base",
            "top": null,
            "grid_column": null,
            "overflow_y": null,
            "overflow_x": null,
            "grid_auto_flow": null,
            "grid_area": null,
            "grid_template_columns": null,
            "flex": null,
            "_model_name": "LayoutModel",
            "justify_items": null,
            "grid_row": null,
            "max_height": null,
            "align_content": null,
            "visibility": null,
            "align_self": null,
            "height": null,
            "min_height": null,
            "padding": null,
            "grid_auto_rows": null,
            "grid_gap": null,
            "max_width": null,
            "order": null,
            "_view_module_version": "1.2.0",
            "grid_template_areas": null,
            "object_position": null,
            "object_fit": null,
            "grid_auto_columns": null,
            "margin": null,
            "display": null,
            "left": null
          }
        },
        "e792c376bf09435186a6f5d23f8b0f8b": {
          "model_module": "@jupyter-widgets/controls",
          "model_name": "HTMLModel",
          "model_module_version": "1.5.0",
          "state": {
            "_view_name": "HTMLView",
            "style": "IPY_MODEL_61a670d5d1184166829730cfa7dda5e1",
            "_dom_classes": [],
            "description": "",
            "_model_name": "HTMLModel",
            "placeholder": "​",
            "_view_module": "@jupyter-widgets/controls",
            "_model_module_version": "1.5.0",
            "value": "Run: 100%",
            "_view_count": null,
            "_view_module_version": "1.5.0",
            "description_tooltip": null,
            "_model_module": "@jupyter-widgets/controls",
            "layout": "IPY_MODEL_3d9d56fd718442fa97dfe09dfb1ca90e"
          }
        },
        "ea79f681bdd94489a7bd023826f6e2d2": {
          "model_module": "@jupyter-widgets/controls",
          "model_name": "FloatProgressModel",
          "model_module_version": "1.5.0",
          "state": {
            "_view_name": "ProgressView",
            "style": "IPY_MODEL_d35705d5661f40ecbfb0fe3a3f6f48f3",
            "_dom_classes": [],
            "description": "",
            "_model_name": "FloatProgressModel",
            "bar_style": "success",
            "max": 200,
            "_view_module": "@jupyter-widgets/controls",
            "_model_module_version": "1.5.0",
            "value": 200,
            "_view_count": null,
            "_view_module_version": "1.5.0",
            "orientation": "horizontal",
            "min": 0,
            "description_tooltip": null,
            "_model_module": "@jupyter-widgets/controls",
            "layout": "IPY_MODEL_3b8607d5e6a0454780d73b83c61f8130"
          }
        },
        "21b4f9494e8548ff89bc420a245ded9f": {
          "model_module": "@jupyter-widgets/controls",
          "model_name": "HTMLModel",
          "model_module_version": "1.5.0",
          "state": {
            "_view_name": "HTMLView",
            "style": "IPY_MODEL_a86e521120d14508b22512c209cdbc9f",
            "_dom_classes": [],
            "description": "",
            "_model_name": "HTMLModel",
            "placeholder": "​",
            "_view_module": "@jupyter-widgets/controls",
            "_model_module_version": "1.5.0",
            "value": " 200/200 [00:19&lt;00:00, 10.86it/s]",
            "_view_count": null,
            "_view_module_version": "1.5.0",
            "description_tooltip": null,
            "_model_module": "@jupyter-widgets/controls",
            "layout": "IPY_MODEL_eaf26d4355cf4a9faf3f99c5837f6e61"
          }
        },
        "61a670d5d1184166829730cfa7dda5e1": {
          "model_module": "@jupyter-widgets/controls",
          "model_name": "DescriptionStyleModel",
          "model_module_version": "1.5.0",
          "state": {
            "_view_name": "StyleView",
            "_model_name": "DescriptionStyleModel",
            "description_width": "",
            "_view_module": "@jupyter-widgets/base",
            "_model_module_version": "1.5.0",
            "_view_count": null,
            "_view_module_version": "1.2.0",
            "_model_module": "@jupyter-widgets/controls"
          }
        },
        "3d9d56fd718442fa97dfe09dfb1ca90e": {
          "model_module": "@jupyter-widgets/base",
          "model_name": "LayoutModel",
          "model_module_version": "1.2.0",
          "state": {
            "_view_name": "LayoutView",
            "grid_template_rows": null,
            "right": null,
            "justify_content": null,
            "_view_module": "@jupyter-widgets/base",
            "overflow": null,
            "_model_module_version": "1.2.0",
            "_view_count": null,
            "flex_flow": null,
            "width": null,
            "min_width": null,
            "border": null,
            "align_items": null,
            "bottom": null,
            "_model_module": "@jupyter-widgets/base",
            "top": null,
            "grid_column": null,
            "overflow_y": null,
            "overflow_x": null,
            "grid_auto_flow": null,
            "grid_area": null,
            "grid_template_columns": null,
            "flex": null,
            "_model_name": "LayoutModel",
            "justify_items": null,
            "grid_row": null,
            "max_height": null,
            "align_content": null,
            "visibility": null,
            "align_self": null,
            "height": null,
            "min_height": null,
            "padding": null,
            "grid_auto_rows": null,
            "grid_gap": null,
            "max_width": null,
            "order": null,
            "_view_module_version": "1.2.0",
            "grid_template_areas": null,
            "object_position": null,
            "object_fit": null,
            "grid_auto_columns": null,
            "margin": null,
            "display": null,
            "left": null
          }
        },
        "d35705d5661f40ecbfb0fe3a3f6f48f3": {
          "model_module": "@jupyter-widgets/controls",
          "model_name": "ProgressStyleModel",
          "model_module_version": "1.5.0",
          "state": {
            "_view_name": "StyleView",
            "_model_name": "ProgressStyleModel",
            "description_width": "",
            "_view_module": "@jupyter-widgets/base",
            "_model_module_version": "1.5.0",
            "_view_count": null,
            "_view_module_version": "1.2.0",
            "bar_color": null,
            "_model_module": "@jupyter-widgets/controls"
          }
        },
        "3b8607d5e6a0454780d73b83c61f8130": {
          "model_module": "@jupyter-widgets/base",
          "model_name": "LayoutModel",
          "model_module_version": "1.2.0",
          "state": {
            "_view_name": "LayoutView",
            "grid_template_rows": null,
            "right": null,
            "justify_content": null,
            "_view_module": "@jupyter-widgets/base",
            "overflow": null,
            "_model_module_version": "1.2.0",
            "_view_count": null,
            "flex_flow": null,
            "width": null,
            "min_width": null,
            "border": null,
            "align_items": null,
            "bottom": null,
            "_model_module": "@jupyter-widgets/base",
            "top": null,
            "grid_column": null,
            "overflow_y": null,
            "overflow_x": null,
            "grid_auto_flow": null,
            "grid_area": null,
            "grid_template_columns": null,
            "flex": null,
            "_model_name": "LayoutModel",
            "justify_items": null,
            "grid_row": null,
            "max_height": null,
            "align_content": null,
            "visibility": null,
            "align_self": null,
            "height": null,
            "min_height": null,
            "padding": null,
            "grid_auto_rows": null,
            "grid_gap": null,
            "max_width": null,
            "order": null,
            "_view_module_version": "1.2.0",
            "grid_template_areas": null,
            "object_position": null,
            "object_fit": null,
            "grid_auto_columns": null,
            "margin": null,
            "display": null,
            "left": null
          }
        },
        "a86e521120d14508b22512c209cdbc9f": {
          "model_module": "@jupyter-widgets/controls",
          "model_name": "DescriptionStyleModel",
          "model_module_version": "1.5.0",
          "state": {
            "_view_name": "StyleView",
            "_model_name": "DescriptionStyleModel",
            "description_width": "",
            "_view_module": "@jupyter-widgets/base",
            "_model_module_version": "1.5.0",
            "_view_count": null,
            "_view_module_version": "1.2.0",
            "_model_module": "@jupyter-widgets/controls"
          }
        },
        "eaf26d4355cf4a9faf3f99c5837f6e61": {
          "model_module": "@jupyter-widgets/base",
          "model_name": "LayoutModel",
          "model_module_version": "1.2.0",
          "state": {
            "_view_name": "LayoutView",
            "grid_template_rows": null,
            "right": null,
            "justify_content": null,
            "_view_module": "@jupyter-widgets/base",
            "overflow": null,
            "_model_module_version": "1.2.0",
            "_view_count": null,
            "flex_flow": null,
            "width": null,
            "min_width": null,
            "border": null,
            "align_items": null,
            "bottom": null,
            "_model_module": "@jupyter-widgets/base",
            "top": null,
            "grid_column": null,
            "overflow_y": null,
            "overflow_x": null,
            "grid_auto_flow": null,
            "grid_area": null,
            "grid_template_columns": null,
            "flex": null,
            "_model_name": "LayoutModel",
            "justify_items": null,
            "grid_row": null,
            "max_height": null,
            "align_content": null,
            "visibility": null,
            "align_self": null,
            "height": null,
            "min_height": null,
            "padding": null,
            "grid_auto_rows": null,
            "grid_gap": null,
            "max_width": null,
            "order": null,
            "_view_module_version": "1.2.0",
            "grid_template_areas": null,
            "object_position": null,
            "object_fit": null,
            "grid_auto_columns": null,
            "margin": null,
            "display": null,
            "left": null
          }
        }
      }
    }
  },
  "nbformat": 4,
  "nbformat_minor": 0
}