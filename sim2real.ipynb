{
  "cells": [
    {
      "cell_type": "markdown",
      "metadata": {
        "id": "view-in-github",
        "colab_type": "text"
      },
      "source": [
        "<a href=\"https://colab.research.google.com/github/LuisCGit/6.484-reinforcement-learning/blob/main/sim2real.ipynb\" target=\"_parent\"><img src=\"https://colab.research.google.com/assets/colab-badge.svg\" alt=\"Open In Colab\"/></a>"
      ]
    },
    {
      "cell_type": "markdown",
      "metadata": {
        "id": "rhR66MOXFg_P"
      },
      "source": [
        "# Spring 2022 6.484 Computational Sensorimotor Learning Assignment 5\n",
        "\n",
        "In this assignment, we will tackle the sim2real gap in deep reinforcement learning. Since we don't have access to a real-world system, we will mimic sim-to-real transfer via sim-to-sim transfer (where one simulator is a replacement for the physical world).\n",
        "\n",
        "There are 290 total points on this problem set.\n",
        "\n",
        "**_Please fill in your name below:_**\n",
        "\n",
        "**Name**: Luis Costa Laveron"
      ]
    },
    {
      "cell_type": "markdown",
      "metadata": {
        "id": "2AZMNnT3GPJ5"
      },
      "source": [
        "## Setup\n",
        "\n",
        "The following code sets up requirements, imports, and helper functions (you can ignore this)."
      ]
    },
    {
      "cell_type": "code",
      "execution_count": 1,
      "metadata": {
        "id": "ptnCdKRYxo02"
      },
      "outputs": [],
      "source": [
        "!apt-get install -y xvfb python-opengl ffmpeg > /dev/null 2>&1\n",
        "!pip install gym pyvirtualdisplay > /dev/null 2>&1\n",
        "!pip install git+https://github.com/taochenshh/easyrl.git@sac > /dev/null 2>&1"
      ]
    },
    {
      "cell_type": "code",
      "execution_count": 10,
      "metadata": {
        "id": "AZA8OkuBx5KN"
      },
      "outputs": [],
      "source": [
        "%matplotlib inline\n",
        "\n",
        "import gym\n",
        "from gym import spaces\n",
        "from gym import logger as gymlogger\n",
        "from gym.wrappers import Monitor\n",
        "gymlogger.set_level(40) #error only\n",
        "import torch\n",
        "from tqdm import tqdm\n",
        "import numpy as np\n",
        "import random\n",
        "import matplotlib\n",
        "import matplotlib.pyplot as plt\n",
        "from torch import nn\n",
        "from pathlib import Path\n",
        "import math\n",
        "import glob\n",
        "import io\n",
        "import base64\n",
        "from IPython.display import HTML\n",
        "from tensorboard.backend.event_processing.event_accumulator import EventAccumulator\n",
        "from easyrl.agents.ppo_agent import PPOAgent\n",
        "from easyrl.configs import cfg\n",
        "from easyrl.configs import set_config\n",
        "from easyrl.configs.command_line import cfg_from_cmd\n",
        "from easyrl.engine.ppo_engine import PPOEngine\n",
        "from easyrl.models.categorical_policy import CategoricalPolicy\n",
        "from easyrl.models.diag_gaussian_policy import DiagGaussianPolicy\n",
        "from easyrl.models.mlp import MLP\n",
        "from easyrl.models.value_net import ValueNet\n",
        "from easyrl.runner.nstep_runner import EpisodicRunner\n",
        "from easyrl.utils.common import set_random_seed\n",
        "from easyrl.utils.gym_util import make_vec_env\n",
        "from easyrl.utils.common import load_from_json\n",
        "from gym.envs.classic_control.acrobot import AcrobotEnv\n",
        "from gym.envs.registration import registry, register\n",
        "from IPython import display as ipythondisplay\n",
        "import torch.nn.functional as F"
      ]
    },
    {
      "cell_type": "code",
      "execution_count": 3,
      "metadata": {
        "id": "X5pWMC9hx6VF",
        "outputId": "d6e47710-46d7-4254-eb58-c4a72d22a9fa",
        "colab": {
          "base_uri": "https://localhost:8080/"
        }
      },
      "outputs": [
        {
          "output_type": "execute_result",
          "data": {
            "text/plain": [
              "<pyvirtualdisplay.display.Display at 0x7f729c0e0bd0>"
            ]
          },
          "metadata": {},
          "execution_count": 3
        }
      ],
      "source": [
        "if 'setup_display' in locals():\n",
        "    raise RuntimeError(\"Don't run this cell twice!\")\n",
        "\n",
        "setup_display = True\n",
        "from pyvirtualdisplay import Display\n",
        "display = Display(visible=False, size=(1400, 900))\n",
        "display.start()"
      ]
    },
    {
      "cell_type": "code",
      "execution_count": 4,
      "metadata": {
        "id": "QWq4UpXWx7Vb"
      },
      "outputs": [],
      "source": [
        "\"\"\"\n",
        "Utility functions to enable video recording of gym environment and displaying it\n",
        "To enable video, just do \"env = wrap_env(env)\"\"\n",
        "stolen from https://colab.research.google.com/drive/1flu31ulJlgiRL1dnN2ir8wGh9p7Zij2t#scrollTo=8nj5sjsk15IT\n",
        "\"\"\"\n",
        "\n",
        "def show_video():\n",
        "    mp4list = glob.glob('video/*.mp4')\n",
        "    if len(mp4list) > 0:\n",
        "        mp4 = mp4list[0]\n",
        "        video = io.open(mp4, 'r+b').read()\n",
        "        encoded = base64.b64encode(video)\n",
        "        ipythondisplay.display(HTML(data='''<video alt=\"test\" autoplay \n",
        "                    loop controls style=\"height: 400px;\">\n",
        "                    <source src=\"data:video/mp4;base64,{0}\" type=\"video/mp4\" />\n",
        "                </video>'''.format(encoded.decode('ascii'))))\n",
        "    else: \n",
        "        print(\"Could not find video\")\n",
        "    \n",
        "\n",
        "def wrap_env(env):\n",
        "    env = Monitor(env, './video', force=True)\n",
        "    return env\n",
        "\n",
        "def read_tf_log(log_dir, scalar='train/episode_return/mean'):\n",
        "    log_dir = Path(log_dir)\n",
        "    log_files = list(log_dir.glob(f'**/events.*'))\n",
        "    if len(log_files) < 1:\n",
        "        return None\n",
        "    log_file = log_files[0]\n",
        "\n",
        "    event_acc = EventAccumulator(log_file.as_posix())\n",
        "    event_acc.Reload()\n",
        "    tags = event_acc.Tags()\n",
        "\n",
        "    scalar_return = event_acc.Scalars(scalar)\n",
        "    returns = [x.value for x in scalar_return]\n",
        "    steps = [x.step for x in scalar_return]\n",
        "\n",
        "    return steps, returns\n",
        "\n",
        "class AcrobotTargetEnv(AcrobotEnv):\n",
        "    book_or_nips = \"nips\"\n",
        "\n",
        "\n",
        "env_name = 'AcrobotTargetEnv-v0'\n",
        "if env_name in registry.env_specs:\n",
        "    del registry.env_specs[env_name]\n",
        "register(\n",
        "    id=env_name,\n",
        "    entry_point=f'{__name__}:AcrobotTargetEnv',\n",
        ")"
      ]
    },
    {
      "cell_type": "markdown",
      "metadata": {
        "id": "OlctfcIvGxuX"
      },
      "source": [
        "# Experiment Running\n",
        "\n",
        "We've provided the below code as-is to run your experiments using PPO.  Please do not modify this function."
      ]
    },
    {
      "cell_type": "code",
      "execution_count": 5,
      "metadata": {
        "id": "p2qx-TwFyy5T"
      },
      "outputs": [],
      "source": [
        "# DO NOT MODIFY THIS\n",
        "def train_ppo(env_name='Acrobot-v1', max_steps=100000):    \n",
        "    set_config('ppo')\n",
        "    cfg.alg.num_envs = 1\n",
        "    cfg.alg.episode_steps = 1024\n",
        "    cfg.alg.log_interval = 1\n",
        "    cfg.alg.eval_interval = 20\n",
        "    \n",
        "    cfg.alg.max_steps = max_steps\n",
        "    cfg.alg.device = 'cuda' if torch.cuda.is_available() else 'cpu'\n",
        "    cfg.alg.env_name = env_name\n",
        "    cfg.alg.save_dir = Path.cwd().absolute().joinpath('data').as_posix()\n",
        "    cfg.alg.save_dir += '/' + env_name\n",
        "\n",
        "    setattr(cfg.alg, 'diff_cfg', dict(save_dir=cfg.alg.save_dir))\n",
        "\n",
        "    print(f'====================================')\n",
        "    print(f'      Device:{cfg.alg.device}')\n",
        "    print(f'      Total number of steps:{cfg.alg.max_steps}')\n",
        "    print(f'====================================')\n",
        "\n",
        "    set_random_seed(cfg.alg.seed)\n",
        "\n",
        "    env = make_vec_env(cfg.alg.env_name,\n",
        "                       cfg.alg.num_envs,\n",
        "                       seed=cfg.alg.seed)\n",
        "    env.reset()\n",
        "    ob_size = env.observation_space.shape[0]\n",
        "\n",
        "    actor_body = MLP(input_size=ob_size,\n",
        "                     hidden_sizes=[64, 64],\n",
        "                     output_size=64,\n",
        "                     hidden_act=nn.Tanh,\n",
        "                     output_act=nn.Tanh)\n",
        "\n",
        "    critic_body = MLP(input_size=ob_size,\n",
        "                     hidden_sizes=[64, 64],\n",
        "                     output_size=64,\n",
        "                     hidden_act=nn.Tanh,\n",
        "                     output_act=nn.Tanh)\n",
        "    \n",
        "    if isinstance(env.action_space, gym.spaces.Discrete):\n",
        "        act_size = env.action_space.n\n",
        "        actor = CategoricalPolicy(actor_body,\n",
        "                                 in_features=64,\n",
        "                                 action_dim=act_size)\n",
        "    elif isinstance(env.action_space, gym.spaces.Box):\n",
        "        act_size = env.action_space.shape[0]\n",
        "        actor = DiagGaussianPolicy(actor_body,\n",
        "                                   in_features=64,\n",
        "                                   action_dim=act_size,\n",
        "                                   tanh_on_dist=cfg.alg.tanh_on_dist,\n",
        "                                   std_cond_in=cfg.alg.std_cond_in)\n",
        "    else:\n",
        "        raise TypeError(f'Unknown action space type: {env.action_space}')\n",
        "\n",
        "    critic = ValueNet(critic_body, in_features=64)\n",
        "    agent = PPOAgent(actor=actor, critic=critic, env=env)\n",
        "    runner = EpisodicRunner(agent=agent, env=env)\n",
        "    engine = PPOEngine(agent=agent,\n",
        "                       runner=runner)\n",
        "    engine.train()\n",
        "\n",
        "    return agent, cfg.alg.save_dir\n"
      ]
    },
    {
      "cell_type": "markdown",
      "metadata": {
        "id": "ddqbjTGaHEah"
      },
      "source": [
        "# Acrobot Introduction\n",
        "\n",
        "Ben Bitdiddle just started his graduate program studying the *Acrobot*: a double pendulum commonly used as a benchmark in continuous control.  The goal of the benchmark is to find a policy that can swing the tip of the pendulum above the plane defined by the first joint (see the figure below), while only exerting torques on the second joint.  The sooner you hit the termination plane, the higher the reward.\n",
        "\n",
        "Lab time on the Acrobot is highly contested: Ben can only book 20 minute slots of physical time with the device. Thankfully, OpenAI gym provides a simulation environment for the Acrobot with the exact same physical parameters!\n",
        "\n",
        "Run the below cell to train a PPO policy in this simulation environment, and report whether Ben Bitdiddle should expect to be able to use the same method to train a policy on the real Acrobot.\n",
        "\n",
        "![](https://www.researchgate.net/publication/332779048/figure/fig8/AS:753590863937537@1556681471025/Acrobot-environment.ppm)"
      ]
    },
    {
      "cell_type": "code",
      "execution_count": 6,
      "metadata": {
        "id": "igNYlqTNzSzh",
        "colab": {
          "base_uri": "https://localhost:8080/"
        },
        "outputId": "61a98f97-e6fd-4298-b5f4-2e8346432043"
      },
      "outputs": [
        {
          "output_type": "stream",
          "name": "stderr",
          "text": [
            "\u001b[32m[INFO]\u001b[0m[2022-03-11 03:24:02]: \u001b[32mAlogrithm type:<class 'easyrl.configs.ppo_config.PPOConfig'>\u001b[0m\n",
            "\u001b[32m[INFO]\u001b[0m[2022-03-11 03:24:02]: \u001b[32mCreating 1 environments.\u001b[0m\n"
          ]
        },
        {
          "output_type": "stream",
          "name": "stdout",
          "text": [
            "====================================\n",
            "      Device:cuda\n",
            "      Total number of steps:100000\n",
            "====================================\n"
          ]
        },
        {
          "output_type": "stream",
          "name": "stderr",
          "text": [
            "\u001b[31m[ERROR]\u001b[0m[2022-03-11 03:24:11]: \u001b[31mNot a valid git repo: /usr/local/lib/python3.7/dist-packages\u001b[0m\n",
            "\u001b[32m[INFO]\u001b[0m[2022-03-11 03:24:17]: \u001b[32mExploration steps: 0\u001b[0m\n",
            "\u001b[32m[INFO]\u001b[0m[2022-03-11 03:24:17]: \u001b[32mSaving checkpoint: /content/data/Acrobot-v1/seed_0/model/ckpt_000000000000.pt.\u001b[0m\n",
            "\u001b[32m[INFO]\u001b[0m[2022-03-11 03:24:17]: \u001b[32mSaving checkpoint: /content/data/Acrobot-v1/seed_0/model/model_best.pt.\u001b[0m\n",
            "\u001b[32m[INFO]\u001b[0m[2022-03-11 03:24:53]: \u001b[32mExploration steps: 20480\u001b[0m\n",
            "\u001b[32m[INFO]\u001b[0m[2022-03-11 03:24:53]: \u001b[32mSaving checkpoint: /content/data/Acrobot-v1/seed_0/model/ckpt_000000020480.pt.\u001b[0m\n",
            "\u001b[32m[INFO]\u001b[0m[2022-03-11 03:24:53]: \u001b[32mSaving checkpoint: /content/data/Acrobot-v1/seed_0/model/model_best.pt.\u001b[0m\n",
            "\u001b[32m[INFO]\u001b[0m[2022-03-11 03:25:29]: \u001b[32mExploration steps: 40960\u001b[0m\n",
            "\u001b[32m[INFO]\u001b[0m[2022-03-11 03:25:29]: \u001b[32mSaving checkpoint: /content/data/Acrobot-v1/seed_0/model/ckpt_000000040960.pt.\u001b[0m\n",
            "\u001b[32m[INFO]\u001b[0m[2022-03-11 03:25:29]: \u001b[32mSaving checkpoint: /content/data/Acrobot-v1/seed_0/model/model_best.pt.\u001b[0m\n",
            "\u001b[32m[INFO]\u001b[0m[2022-03-11 03:26:04]: \u001b[32mExploration steps: 61440\u001b[0m\n",
            "\u001b[32m[INFO]\u001b[0m[2022-03-11 03:26:04]: \u001b[32mSaving checkpoint: /content/data/Acrobot-v1/seed_0/model/ckpt_000000061440.pt.\u001b[0m\n",
            "\u001b[32m[INFO]\u001b[0m[2022-03-11 03:26:04]: \u001b[32mSaving checkpoint: /content/data/Acrobot-v1/seed_0/model/model_best.pt.\u001b[0m\n",
            "\u001b[32m[INFO]\u001b[0m[2022-03-11 03:26:40]: \u001b[32mExploration steps: 81920\u001b[0m\n",
            "\u001b[32m[INFO]\u001b[0m[2022-03-11 03:26:40]: \u001b[32mSaving checkpoint: /content/data/Acrobot-v1/seed_0/model/ckpt_000000081920.pt.\u001b[0m\n",
            "\u001b[32m[INFO]\u001b[0m[2022-03-11 03:26:40]: \u001b[32mSaving checkpoint: /content/data/Acrobot-v1/seed_0/model/model_best.pt.\u001b[0m\n"
          ]
        }
      ],
      "source": [
        "agent, save_dir = train_ppo(env_name=\"Acrobot-v1\")"
      ]
    },
    {
      "cell_type": "code",
      "execution_count": 7,
      "metadata": {
        "id": "Ry8pk56D62H2",
        "colab": {
          "base_uri": "https://localhost:8080/",
          "height": 282
        },
        "outputId": "a72090ee-6150-4626-9be6-8778e299c23a"
      },
      "outputs": [
        {
          "output_type": "execute_result",
          "data": {
            "text/plain": [
              "[<matplotlib.lines.Line2D at 0x7fc87a85f750>]"
            ]
          },
          "metadata": {},
          "execution_count": 7
        },
        {
          "output_type": "display_data",
          "data": {
            "image/png": "[encoded data removed]",
            "text/plain": [
              "<Figure size 432x288 with 1 Axes>"
            ]
          },
          "metadata": {
            "needs_background": "light"
          }
        }
      ],
      "source": [
        "steps, returns = read_tf_log(save_dir)\n",
        "plt.plot(steps, returns)"
      ]
    },
    {
      "cell_type": "code",
      "execution_count": 8,
      "metadata": {
        "id": "Q-wup9HqLTcI",
        "colab": {
          "base_uri": "https://localhost:8080/",
          "height": 439
        },
        "outputId": "1b69c732-ba14-49f8-f63c-ecc24fe43ab0"
      },
      "outputs": [
        {
          "output_type": "stream",
          "name": "stdout",
          "text": [
            "Num steps: [88, 92, 80, 90, 92, 75, 76, 85, 80, 71]\n"
          ]
        },
        {
          "output_type": "display_data",
          "data": {
            "text/html": [
              "<video alt=\"test\" autoplay \n",
              "                    loop controls style=\"height: 400px;\">\n",
              "                    <source src=\"data:video/mp4;base64,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\" type=\"video/mp4\" />\n",
              "                </video>"
            ],
            "text/plain": [
              "<IPython.core.display.HTML object>"
            ]
          },
          "metadata": {}
        }
      ],
      "source": [
        "# Displays a video of the policy.\n",
        "# Feel free to use this as a template for debugging.\n",
        "\n",
        "env = wrap_env(gym.make('Acrobot-v1'))\n",
        "\n",
        "num_steps = []\n",
        "for _ in range(10):\n",
        "    observation = env.reset()\n",
        "    step = 0\n",
        "    for i in range(1024):    \n",
        "        action = agent.get_action(observation)[0].tolist()\n",
        "        observation, reward, done, info = env.step(action)    \n",
        "        if done:\n",
        "            step = i\n",
        "            break\n",
        "    num_steps.append(step)\n",
        "\n",
        "env.close()\n",
        "\n",
        "print('Num steps:', num_steps)\n",
        "show_video()"
      ]
    },
    {
      "cell_type": "markdown",
      "metadata": {
        "id": "JydJYRtqJuun"
      },
      "source": [
        "**Question (10 pts):** Will Ben Bitdittle have enough time to train a policy on the real robot using the same PPO implementation as above? Note that each simulation step is equivalent to 0.2 seconds of time on the real robot.\n",
        "\n",
        "**Answer:** The policy takes ~ 50,000 steps to converge, which would require $50,000\\times0.2 = 10,000$ seconds, which amounts to about 167 minutes. Since Ben can only book 20 minute slots, he will not have enough time. "
      ]
    },
    {
      "cell_type": "markdown",
      "metadata": {
        "id": "wsihixQ1Kb9l"
      },
      "source": [
        "# The Sim2Real Gap\n",
        "\n",
        "Ben is devastated by the above result; how will he train a policy for the Acrobot if it won't converge in his allocated lab time?  \n",
        "\n",
        "One idea is to simply train a policy in simulation, then evaluate that policy on the real robot (which takes far less time than training from scratch).  Let's try this out, using the environment `AcrobotTargetEnv-v0` as a stand-in for the real world."
      ]
    },
    {
      "cell_type": "code",
      "execution_count": 6,
      "metadata": {
        "id": "FPGpKByoyLih"
      },
      "outputs": [],
      "source": [
        "### TODO: evaluate the agent from the simulation environment (\"Acrobot-v1\") in\n",
        "### the real world environment (\"AcrobotTargetEnv-v0\"). Be sure to run at least 10 trials\n",
        "### Report mean and standard deviation. (10 pts)\n",
        "def eval_agent(agent,environment,num_trials=10):\n",
        "  num_steps = []\n",
        "  for _ in range(num_trials):\n",
        "      observation = environment.reset()\n",
        "      step = 0\n",
        "      for i in range(1024):    \n",
        "          action = agent.get_action(observation)[0].tolist()\n",
        "          observation, reward, done, info = environment.step(action)    \n",
        "          if done:\n",
        "              step = i\n",
        "              break\n",
        "      num_steps.append(step)\n",
        "      environment.close()\n",
        "\n",
        "  print(\"Mean number of steps: \", np.mean(num_steps))\n",
        "  print(\"Standard deviation of number of steps: \", np.std(num_steps))\n",
        "  #show_video()\n",
        "\n",
        "target_env = wrap_env(gym.make('AcrobotTargetEnv-v0'))\n",
        "eval_agent(agent,target_env)"
      ]
    },
    {
      "cell_type": "markdown",
      "metadata": {
        "id": "G8V27--aLto7"
      },
      "source": [
        "**Question (10 pts):** How does the policy trained in simulation perform when evaluated on the \"real\" robot?  If there's a difference in performance, postulate why that might be.\n",
        "\n",
        "**Answer**: When evaluated on the real robot, the policy performs worse, with the mean number of steps to completion being more than twice the mean for the `Acrobot-v1` environment. This difference is due to the fact that the policy is optimized for a different environment than the one it was trained on. The actions taken by the agent in the new environment are therefore further from optimal and reaching the goal takes longer as a result."
      ]
    },
    {
      "cell_type": "markdown",
      "metadata": {
        "id": "rqFbqFqcNDlE"
      },
      "source": [
        "# System Identification\n",
        "\n",
        "One reason for the gap Ben observed is a mismatch between physical parameters in the simulation and in the real world.  If you look at the [code for the Acrobot simulation](https://github.com/openai/gym/blob/master/gym/envs/classic_control/acrobot.py), you'll notice a series of parameters on lines 138-149 that define the simulator dynamics.  Perhaps a measurement error was made for one or more of these values, leading to a simulation that does not reflect reality.  One family of solutions for fixing these sorts of issues is *system identification*, which provides us tools for finding the correct values of these parameters from data. \n",
        "\n",
        "In this section, you will use a gradient-free numerical optimizer of choice to improve upon the parameters in the Acrobot simulation, with the goal of most closely matching the real world `AcrobotTargetEnv-v0` environment.\n",
        "\n",
        "Start by generating data of tuples (`env.state`, action, obs) from the real world environment, `AcrobotTargetEnv-v0`, over which to perform your system identification. Later, we'll want the best robot parameters such that when we apply the recorded action when the environment state is the recorded `env.state`, we get as close to the recorded obs as possible.\n",
        "\n",
        "You can generate as much data as you'd like as long as you don't use more than 20 minutes of robot time (e.g., $\\frac{20\\text{ minutes}}{0.2\\text{ seconds/timestep}} =6000\\text{ timesteps}$ )."
      ]
    },
    {
      "cell_type": "code",
      "execution_count": 13,
      "metadata": {
        "id": "chxmu_KBPUsu"
      },
      "outputs": [],
      "source": [
        "q_shape = 4\n",
        "u_shape = 1\n",
        "obs_shape = 6\n",
        "dataset = {\n",
        "    \"env_state\": np.zeros((6000,q_shape)),\n",
        "    \"action\": np.zeros((6000,u_shape)),\n",
        "    \"new_obs\": np.zeros((6000,obs_shape)),\n",
        "}\n",
        "\n",
        "### TODO: generate your data for system ID (10 pts)\n",
        "\n",
        "#use bad agent to get more varied samples of environment\n",
        "#crude_agent, _ = train_ppo(env_name=\"Acrobot-v1\", max_steps=5000)\n",
        "\n",
        "target_env = wrap_env(gym.make('AcrobotTargetEnv-v0'))\n",
        "step = 0 \n",
        "while step < 6000:\n",
        "    observation = target_env.reset()\n",
        "    for i in range(1000):    \n",
        "        dataset['env_state'][step,:] = np.copy(target_env.state)\n",
        "        action = np.random.randint(3)\n",
        "        dataset['action'][step,:] = action\n",
        "        observation, reward, done, info = target_env.step(action)    \n",
        "        dataset['new_obs'][step,:] = observation\n",
        "        step += 1\n",
        "        if (done) or (step == 6000):\n",
        "            break\n",
        "    target_env.close()"
      ]
    },
    {
      "cell_type": "markdown",
      "metadata": {
        "id": "9_nKxSPDWrgE"
      },
      "source": [
        "Now, try to find parameters that yield new observations that best match your dataset.  There are a number of optimization methods to do this, but for our purposes let's do a simple random search of values in the neighborhood of those that we already have. Specifically, let's randomly and individually scale these parameters from 90% to 110% of their default values and see what combination yields the best performance.\n",
        "\n",
        "To evaluate your randomly sampled parameters, load the parameters into your `AcrobatSystemIDEnv` and see if for the same environment state and action, how much the next observations differ in terms of L2-norm."
      ]
    },
    {
      "cell_type": "code",
      "execution_count": 14,
      "metadata": {
        "id": "PIVuqN-0QxLk"
      },
      "outputs": [],
      "source": [
        "class AcrobotSystemIDEnv(AcrobotEnv):\n",
        "    def __init__(self, *args, **kwargs):\n",
        "        for param in ['dt', 'LINK_LENGTH_1', 'LINK_LENGTH_2', 'LINK_MASS_1', \n",
        "                      'LINK_MASS_2', 'LINK_COM_POS_1', 'LINK_COM_POS_2', \n",
        "                      'LINK_MOI', 'MAX_VEL_1', 'MAX_VEL_2']:\n",
        "            if param in kwargs:\n",
        "                setattr(self, param, kwargs[param])\n",
        "                del kwargs[param]\n",
        "\n",
        "        super().__init__(*args, **kwargs)\n",
        "\n",
        "best_params = {\n",
        "    'dt' : 0,\n",
        "    'LINK_LENGTH_1' : 0,\n",
        "    'LINK_LENGTH_2' : 0,\n",
        "    'LINK_MASS_1' : 0,\n",
        "    'LINK_MASS_2' : 0,\n",
        "    'LINK_COM_POS_1' : 0,\n",
        "    'LINK_COM_POS_2' : 0,\n",
        "    'LINK_MOI' : 0,\n",
        "    'MAX_VEL_1' : 0,\n",
        "    'MAX_VEL_2' : 0,    \n",
        "}\n",
        "\n",
        "\n",
        "\n",
        "### TODO: find parameters of AcrobotSystemIDEnv that match the data in `dataset`,\n",
        "### and populate them into `best_params` (30 pts)\n",
        "default_params = {\n",
        "    'dt' : 0.2,\n",
        "    'LINK_LENGTH_1' : 1.0,  # [m]\n",
        "    'LINK_LENGTH_2' : 1.0,  # [m]\n",
        "    'LINK_MASS_1' : 1.0,  #: [kg] mass of link 1\n",
        "    'LINK_MASS_2' : 1.0,  #: [kg] mass of link 2\n",
        "    'LINK_COM_POS_1' : 0.5,  #: [m] position of the center of mass of link 1\n",
        "    'LINK_COM_POS_2' : 0.5,  #: [m] position of the center of mass of link 2\n",
        "    'LINK_MOI' : 1.0,  #: moments of inertia for both links\n",
        "    'MAX_VEL_1' : 4 * np.pi,\n",
        "    'MAX_VEL_2' : 9 * np.pi\n",
        "}\n",
        "\n",
        "def gen_random_params(params,lb=0.9,ub=1.1):\n",
        "  out = dict(params) \n",
        "  for key in out:\n",
        "    scale_factor = np.random.uniform(low = lb, high = ub)\n",
        "    out[key] = out[key]*scale_factor\n",
        "  return out\n",
        "\n",
        "def find_best_params(default_params,trials=1000):\n",
        "  state_data, action_data, obs_data = dataset['env_state'], dataset['action'], dataset['new_obs']\n",
        "  T = len(action_data)\n",
        "  O = obs_data.shape[1]\n",
        "  min_diff = np.inf\n",
        "  for _ in range(trials):\n",
        "    random_params = gen_random_params(default_params)\n",
        "    random_env = AcrobotSystemIDEnv(**random_params)\n",
        "    preds = np.zeros((T,O))\n",
        "    for i, tup in enumerate(zip(state_data, action_data)):\n",
        "      state, action = tup\n",
        "      random_env.state = state\n",
        "      pred, _, _, _ = random_env.step(int(action[0]))\n",
        "      preds[i,:] = pred\n",
        "    diff = np.linalg.norm(preds-obs_data)\n",
        "    if diff < min_diff:\n",
        "      min_diff = diff\n",
        "      best_params = dict(random_params)\n",
        "    return best_params\n",
        "\n",
        "best_params = find_best_params(default_params, trials = 10**7)"
      ]
    },
    {
      "cell_type": "markdown",
      "metadata": {
        "id": "uNW1yYwyVm2i"
      },
      "source": [
        "Awesome!  Let's now try to train a policy in a simulation environment with those params loaded, `AcrobotSystemIDSolvedEnv`, and see if we do any better."
      ]
    },
    {
      "cell_type": "code",
      "execution_count": 15,
      "metadata": {
        "id": "OGlDEVt2VFJu",
        "outputId": "6116e29f-59f8-4797-fadc-41e69827e834",
        "colab": {
          "base_uri": "https://localhost:8080/"
        }
      },
      "outputs": [
        {
          "output_type": "stream",
          "name": "stderr",
          "text": [
            "\u001b[32m[INFO]\u001b[0m[2022-03-11 03:39:52]: \u001b[32mAlogrithm type:<class 'easyrl.configs.ppo_config.PPOConfig'>\u001b[0m\n",
            "\u001b[32m[INFO]\u001b[0m[2022-03-11 03:39:52]: \u001b[32mCreating 1 environments.\u001b[0m\n",
            "\u001b[31m[ERROR]\u001b[0m[2022-03-11 03:39:52]: \u001b[31mNot a valid git repo: /usr/local/lib/python3.7/dist-packages\u001b[0m\n"
          ]
        },
        {
          "output_type": "stream",
          "name": "stdout",
          "text": [
            "====================================\n",
            "      Device:cpu\n",
            "      Total number of steps:100000\n",
            "====================================\n",
            "Setting dt to 0.21789678074359065\n",
            "Setting LINK_LENGTH_1 to 1.0729281676913638\n",
            "Setting LINK_LENGTH_2 to 1.023210809887444\n",
            "Setting LINK_MASS_1 to 1.068281447350042\n",
            "Setting LINK_MASS_2 to 0.9419384289442977\n",
            "Setting LINK_COM_POS_1 to 0.5374028822863437\n",
            "Setting LINK_COM_POS_2 to 0.5367307509674641\n",
            "Setting LINK_MOI to 0.9496224496960126\n",
            "Setting MAX_VEL_1 to 12.587415048411202\n",
            "Setting MAX_VEL_2 to 30.704650088563636\n"
          ]
        },
        {
          "output_type": "stream",
          "name": "stderr",
          "text": [
            "\u001b[32m[INFO]\u001b[0m[2022-03-11 03:39:54]: \u001b[32mExploration steps: 0\u001b[0m\n",
            "\u001b[32m[INFO]\u001b[0m[2022-03-11 03:39:54]: \u001b[32mSaving checkpoint: /content/data/AcrobotSystemIDSolvedEnv-v0/seed_0/model/ckpt_000000000000.pt.\u001b[0m\n",
            "\u001b[32m[INFO]\u001b[0m[2022-03-11 03:39:54]: \u001b[32mSaving checkpoint: /content/data/AcrobotSystemIDSolvedEnv-v0/seed_0/model/model_best.pt.\u001b[0m\n",
            "\u001b[32m[INFO]\u001b[0m[2022-03-11 03:40:19]: \u001b[32mExploration steps: 20480\u001b[0m\n",
            "\u001b[32m[INFO]\u001b[0m[2022-03-11 03:40:19]: \u001b[32mSaving checkpoint: /content/data/AcrobotSystemIDSolvedEnv-v0/seed_0/model/ckpt_000000020480.pt.\u001b[0m\n",
            "\u001b[32m[INFO]\u001b[0m[2022-03-11 03:40:44]: \u001b[32mExploration steps: 40960\u001b[0m\n",
            "\u001b[32m[INFO]\u001b[0m[2022-03-11 03:40:44]: \u001b[32mSaving checkpoint: /content/data/AcrobotSystemIDSolvedEnv-v0/seed_0/model/ckpt_000000040960.pt.\u001b[0m\n",
            "\u001b[32m[INFO]\u001b[0m[2022-03-11 03:40:44]: \u001b[32mSaving checkpoint: /content/data/AcrobotSystemIDSolvedEnv-v0/seed_0/model/model_best.pt.\u001b[0m\n",
            "\u001b[32m[INFO]\u001b[0m[2022-03-11 03:41:08]: \u001b[32mExploration steps: 61440\u001b[0m\n",
            "\u001b[32m[INFO]\u001b[0m[2022-03-11 03:41:08]: \u001b[32mSaving checkpoint: /content/data/AcrobotSystemIDSolvedEnv-v0/seed_0/model/ckpt_000000061440.pt.\u001b[0m\n",
            "\u001b[32m[INFO]\u001b[0m[2022-03-11 03:41:08]: \u001b[32mSaving checkpoint: /content/data/AcrobotSystemIDSolvedEnv-v0/seed_0/model/model_best.pt.\u001b[0m\n",
            "\u001b[32m[INFO]\u001b[0m[2022-03-11 03:41:33]: \u001b[32mExploration steps: 81920\u001b[0m\n",
            "\u001b[32m[INFO]\u001b[0m[2022-03-11 03:41:33]: \u001b[32mSaving checkpoint: /content/data/AcrobotSystemIDSolvedEnv-v0/seed_0/model/ckpt_000000081920.pt.\u001b[0m\n",
            "\u001b[32m[INFO]\u001b[0m[2022-03-11 03:41:33]: \u001b[32mSaving checkpoint: /content/data/AcrobotSystemIDSolvedEnv-v0/seed_0/model/model_best.pt.\u001b[0m\n"
          ]
        }
      ],
      "source": [
        "class AcrobotSystemIDSolvedEnv(AcrobotEnv):\n",
        "    def __init__(self, *args, **kwargs):\n",
        "        for param in best_params:\n",
        "            print('Setting', param, 'to', best_params[param])\n",
        "            setattr(self, param, best_params[param])\n",
        "\n",
        "        super().__init__(*args, **kwargs)\n",
        "\n",
        "env_name = 'AcrobotSystemIDSolvedEnv-v0'\n",
        "if env_name in registry.env_specs:\n",
        "    del registry.env_specs[env_name]\n",
        "register(\n",
        "    id=env_name,\n",
        "    entry_point=f'{__name__}:AcrobotSystemIDSolvedEnv',\n",
        ")\n",
        "\n",
        "sysid_agent, sysid_save_dir = train_ppo(env_name='AcrobotSystemIDSolvedEnv-v0', max_steps=100000)"
      ]
    },
    {
      "cell_type": "code",
      "execution_count": 16,
      "metadata": {
        "id": "Adcgdryusph8",
        "outputId": "56637945-a34e-47f2-ea5f-390f062f2b10",
        "colab": {
          "base_uri": "https://localhost:8080/",
          "height": 282
        }
      },
      "outputs": [
        {
          "output_type": "execute_result",
          "data": {
            "text/plain": [
              "[<matplotlib.lines.Line2D at 0x7f1ba6e9fbd0>]"
            ]
          },
          "metadata": {},
          "execution_count": 16
        },
        {
          "output_type": "display_data",
          "data": {
            "image/png": "[encoded data removed]",
            "text/plain": [
              "<Figure size 432x288 with 1 Axes>"
            ]
          },
          "metadata": {
            "needs_background": "light"
          }
        }
      ],
      "source": [
        "sysid_steps, sysid_returns = read_tf_log(sysid_save_dir)\n",
        "plt.plot(sysid_steps, sysid_returns)\n",
        "#This performance achieved when OG agent only trained on 5k steps"
      ]
    },
    {
      "cell_type": "code",
      "execution_count": 17,
      "metadata": {
        "id": "KDG9bsMlWQXW",
        "outputId": "1003af49-f956-4cd7-ba9d-9d5d0f510b15",
        "colab": {
          "base_uri": "https://localhost:8080/"
        }
      },
      "outputs": [
        {
          "output_type": "stream",
          "name": "stdout",
          "text": [
            "Mean number of steps:  177.4\n",
            "Standard deviation of number of steps:  42.27363244387688\n"
          ]
        }
      ],
      "source": [
        "### TODO: evaluate the agent from the sysid simulation environment \n",
        "### (\"AcrobotSystemIDSolvedEnv-v0\") in the real world environment\n",
        "### (\"AcrobotTargetEnv-v0\"). Be sure to run at least 10 trials.\n",
        "### Report mean and standard deviation. (10 pts)\n",
        "target_env = wrap_env(gym.make('AcrobotTargetEnv-v0'))\n",
        "eval_agent(sysid_agent,target_env,num_trials=100)"
      ]
    },
    {
      "cell_type": "code",
      "source": [
        " #evaluate sysid agent on training environment \n",
        "training_env = AcrobotSystemIDSolvedEnv()\n",
        "eval_agent(sysid_agent,training_env)"
      ],
      "metadata": {
        "id": "7r7dUgeE902p",
        "outputId": "cf72794a-a8ee-45b7-f84e-4fc95e064642",
        "colab": {
          "base_uri": "https://localhost:8080/"
        }
      },
      "execution_count": 18,
      "outputs": [
        {
          "output_type": "stream",
          "name": "stdout",
          "text": [
            "Setting dt to 0.21789678074359065\n",
            "Setting LINK_LENGTH_1 to 1.0729281676913638\n",
            "Setting LINK_LENGTH_2 to 1.023210809887444\n",
            "Setting LINK_MASS_1 to 1.068281447350042\n",
            "Setting LINK_MASS_2 to 0.9419384289442977\n",
            "Setting LINK_COM_POS_1 to 0.5374028822863437\n",
            "Setting LINK_COM_POS_2 to 0.5367307509674641\n",
            "Setting LINK_MOI to 0.9496224496960126\n",
            "Setting MAX_VEL_1 to 12.587415048411202\n",
            "Setting MAX_VEL_2 to 30.704650088563636\n",
            "Mean number of steps:  83.8\n",
            "Standard deviation of number of steps:  17.29624236647949\n"
          ]
        }
      ]
    },
    {
      "cell_type": "markdown",
      "metadata": {
        "id": "hCbqafVCXNfT"
      },
      "source": [
        "**Question (10 pts):** How does the sysid agent perform when transferred on the \"real\" robot in comparison to our baseline agent trained in the \"sim\" (`Acrobot-v1`)?\n",
        "\n",
        "**Answer:** The sysid agent performs significantly better than the baseline agent. The mean number of steps taken to complete the task is 101.1 (compared to 193.5 for the baseline agent) and the standard deviation is 18.6 (compared to 45.2 for the baseline agent)\n",
        "\n",
        "**Question (10 pts):** How does the sysid agent perform when evaluated in its training env, `AcrobotSystemIDSolvedEnv-v0`. You may find plotting the returns during training to be helpful using `read_tf_log`? \n",
        "\n",
        "**Answer:** \n",
        "The sysid agent actually performs worse in its training environment than the baseline agent. The baseline agent converges to a reward of around -100, whilst the sysid agent converges to a reward of about -200.\n",
        "\n",
        "**Question (10 pts):** Do you still observe a sim2real gap?  If so, why might that be, and how could it be further minimized? \n",
        "\n",
        "**Answer:** Yes there is a still a gap, since the agent obtains a much lower reward of XX in its training environment. To reduce the gap, we could regularize the training procedure or apply domain randomization."
      ]
    },
    {
      "cell_type": "markdown",
      "metadata": {
        "id": "jnHlR3QxME1B"
      },
      "source": [
        "# Domain Randomization\n",
        "\n",
        "Fortunately, Ben's professor has another solution to improve the quality of transfer between simulation and reality: *domain randomization*.  A good summary of the concept can be found in the [original paper](https://arxiv.org/abs/1710.06537)'s abstract:\n",
        "\n",
        "> Due to modeling error, strategies that are successful in simulation may not transfer to their real world counterparts. In this paper, we demonstrate a simple method to bridge this \"reality gap\". By randomizing the dynamics of the simulator during training, we are able to develop policies that are capable of adapting to very different dynamics, including ones that differ significantly from the dynamics on which the policies were trained. This adaptivity enables the policies to generalize to the dynamics of the real world without any training on the physical system.\n",
        "\n",
        "Let's now implement dynamics randomization for Acrobot. \n"
      ]
    },
    {
      "cell_type": "code",
      "execution_count": 19,
      "metadata": {
        "id": "E2z9JFBdDR5i"
      },
      "outputs": [],
      "source": [
        "class AcrobotDREnv(AcrobotEnv):\n",
        "    def reset(self):\n",
        "        obs = super().reset()\n",
        "\n",
        "        ### TODO: randomize the dynamics parameters from the defaults slightly\n",
        "        ### similar to the sysid section (invidually and randomly scale 80% to 120%) (30 pts)\n",
        "        for key in best_params:\n",
        "          scale_factor = np.random.uniform(low=0.8,high=1.2)\n",
        "          setattr(self ,key, scale_factor*getattr(self,key))\n",
        "        ### ENDTODO\n",
        "\n",
        "        return obs\n",
        "\n",
        "env_name = 'AcrobotDREnv-v0'\n",
        "if env_name in registry.env_specs:\n",
        "    del registry.env_specs[env_name]\n",
        "register(\n",
        "    id=env_name,\n",
        "    entry_point=f'{__name__}:AcrobotDREnv',\n",
        ")"
      ]
    },
    {
      "cell_type": "code",
      "execution_count": 20,
      "metadata": {
        "id": "ot_4MYCV4s8u",
        "outputId": "9516efc1-6734-4559-f9ca-78a4b3a536af",
        "colab": {
          "base_uri": "https://localhost:8080/"
        }
      },
      "outputs": [
        {
          "output_type": "stream",
          "name": "stderr",
          "text": [
            "\u001b[32m[INFO]\u001b[0m[2022-03-11 03:42:36]: \u001b[32mAlogrithm type:<class 'easyrl.configs.ppo_config.PPOConfig'>\u001b[0m\n",
            "\u001b[32m[INFO]\u001b[0m[2022-03-11 03:42:36]: \u001b[32mCreating 1 environments.\u001b[0m\n",
            "\u001b[31m[ERROR]\u001b[0m[2022-03-11 03:42:36]: \u001b[31mNot a valid git repo: /usr/local/lib/python3.7/dist-packages\u001b[0m\n"
          ]
        },
        {
          "output_type": "stream",
          "name": "stdout",
          "text": [
            "====================================\n",
            "      Device:cpu\n",
            "      Total number of steps:100000\n",
            "====================================\n"
          ]
        },
        {
          "output_type": "stream",
          "name": "stderr",
          "text": [
            "\u001b[32m[INFO]\u001b[0m[2022-03-11 03:42:38]: \u001b[32mExploration steps: 0\u001b[0m\n",
            "\u001b[32m[INFO]\u001b[0m[2022-03-11 03:42:38]: \u001b[32mSaving checkpoint: /content/data/AcrobotDREnv-v0/seed_0/model/ckpt_000000000000.pt.\u001b[0m\n",
            "\u001b[32m[INFO]\u001b[0m[2022-03-11 03:42:38]: \u001b[32mSaving checkpoint: /content/data/AcrobotDREnv-v0/seed_0/model/model_best.pt.\u001b[0m\n",
            "\u001b[32m[INFO]\u001b[0m[2022-03-11 03:43:06]: \u001b[32mExploration steps: 20480\u001b[0m\n",
            "\u001b[32m[INFO]\u001b[0m[2022-03-11 03:43:06]: \u001b[32mSaving checkpoint: /content/data/AcrobotDREnv-v0/seed_0/model/ckpt_000000020480.pt.\u001b[0m\n",
            "\u001b[32m[INFO]\u001b[0m[2022-03-11 03:43:32]: \u001b[32mExploration steps: 40960\u001b[0m\n",
            "\u001b[32m[INFO]\u001b[0m[2022-03-11 03:43:32]: \u001b[32mSaving checkpoint: /content/data/AcrobotDREnv-v0/seed_0/model/ckpt_000000040960.pt.\u001b[0m\n",
            "\u001b[32m[INFO]\u001b[0m[2022-03-11 03:43:32]: \u001b[32mSaving checkpoint: /content/data/AcrobotDREnv-v0/seed_0/model/model_best.pt.\u001b[0m\n",
            "\u001b[32m[INFO]\u001b[0m[2022-03-11 03:43:59]: \u001b[32mExploration steps: 61440\u001b[0m\n",
            "\u001b[32m[INFO]\u001b[0m[2022-03-11 03:43:59]: \u001b[32mSaving checkpoint: /content/data/AcrobotDREnv-v0/seed_0/model/ckpt_000000061440.pt.\u001b[0m\n",
            "\u001b[32m[INFO]\u001b[0m[2022-03-11 03:44:25]: \u001b[32mExploration steps: 81920\u001b[0m\n",
            "\u001b[32m[INFO]\u001b[0m[2022-03-11 03:44:25]: \u001b[32mSaving checkpoint: /content/data/AcrobotDREnv-v0/seed_0/model/ckpt_000000081920.pt.\u001b[0m\n"
          ]
        }
      ],
      "source": [
        "dr_agent, dr_save_dir = train_ppo(env_name='AcrobotDREnv-v0')"
      ]
    },
    {
      "cell_type": "code",
      "execution_count": 21,
      "metadata": {
        "id": "cYXzH_7Msph-",
        "outputId": "cb2d707c-8cf7-4727-fce2-8351439d6d38",
        "colab": {
          "base_uri": "https://localhost:8080/",
          "height": 282
        }
      },
      "outputs": [
        {
          "output_type": "execute_result",
          "data": {
            "text/plain": [
              "[<matplotlib.lines.Line2D at 0x7f1b2cbf9990>]"
            ]
          },
          "metadata": {},
          "execution_count": 21
        },
        {
          "output_type": "display_data",
          "data": {
            "image/png": "[encoded data removed]",
            "text/plain": [
              "<Figure size 432x288 with 1 Axes>"
            ]
          },
          "metadata": {
            "needs_background": "light"
          }
        }
      ],
      "source": [
        "dr_steps, dr_returns = read_tf_log(dr_save_dir)\n",
        "plt.plot(dr_steps, dr_returns)"
      ]
    },
    {
      "cell_type": "code",
      "execution_count": 22,
      "metadata": {
        "id": "9whnEtC_aKik",
        "outputId": "b5ec3d12-1fcd-407e-8610-eee4e8366da1",
        "colab": {
          "base_uri": "https://localhost:8080/"
        }
      },
      "outputs": [
        {
          "output_type": "stream",
          "name": "stdout",
          "text": [
            "Mean number of steps:  229.0\n",
            "Standard deviation of number of steps:  92.575374695434\n"
          ]
        }
      ],
      "source": [
        "### TODO: evaluate the agent from the DR simulation environment \n",
        "### (\"AcrobotDREnv-v0\") in the real world environment\n",
        "### (\"AcrobotTargetEnv-v0\").  Make sure to run at least 10 trials.\n",
        "### Report mean and standard deviation. (10 pts)\n",
        "target_env = wrap_env(gym.make('AcrobotTargetEnv-v0'))\n",
        "eval_agent(dr_agent,target_env,num_trials=10)"
      ]
    },
    {
      "cell_type": "markdown",
      "metadata": {
        "id": "VRvqbOi1ajx-"
      },
      "source": [
        "**Question (10 pts):** How does the DR agent perform when evaluated in its training env, `AcrobotDREnv-v0`. You may find plotting the returns during training to be helpful using `read_tf_log`?\n",
        "\n",
        "**Answer:** \n",
        "\n",
        "**Question (10 pts):**:  How does the DR agent perform in comparison to the sysid agent when transferred to our real world environment? Why is this so?\n",
        "\n",
        "**Answer**: The DR agent performs worse. This is probably because our system identification was close enough to the real world, so that training on this environment prepared the agent better than training on many random environments."
      ]
    },
    {
      "cell_type": "markdown",
      "metadata": {
        "id": "VI7eLLlTrHcY"
      },
      "source": [
        "## Robustness vs Performance Tradeoff\n",
        "\n",
        "Next, try making your domain randomization less varied by narrowing the distributions of parameters you sample from. Perhaps we introduced too much randomization last round to train a more robust policy in exchange for some potential performance. Instead of scaling the parameters by 80% to 110%, only scale them from 95% to 105%."
      ]
    },
    {
      "cell_type": "code",
      "execution_count": 24,
      "metadata": {
        "id": "O2zl9vrRrfkK",
        "colab": {
          "base_uri": "https://localhost:8080/",
          "height": 684
        },
        "outputId": "1d6d8762-2632-42c8-bb2d-b93361f516de"
      },
      "outputs": [
        {
          "output_type": "stream",
          "name": "stderr",
          "text": [
            "\u001b[32m[INFO]\u001b[0m[2022-03-11 03:45:17]: \u001b[32mAlogrithm type:<class 'easyrl.configs.ppo_config.PPOConfig'>\u001b[0m\n",
            "\u001b[32m[INFO]\u001b[0m[2022-03-11 03:45:17]: \u001b[32mCreating 1 environments.\u001b[0m\n",
            "\u001b[31m[ERROR]\u001b[0m[2022-03-11 03:45:17]: \u001b[31mNot a valid git repo: /usr/local/lib/python3.7/dist-packages\u001b[0m\n"
          ]
        },
        {
          "output_type": "stream",
          "name": "stdout",
          "text": [
            "====================================\n",
            "      Device:cpu\n",
            "      Total number of steps:100000\n",
            "====================================\n"
          ]
        },
        {
          "output_type": "stream",
          "name": "stderr",
          "text": [
            "\u001b[32m[INFO]\u001b[0m[2022-03-11 03:45:19]: \u001b[32mExploration steps: 0\u001b[0m\n",
            "\u001b[32m[INFO]\u001b[0m[2022-03-11 03:45:19]: \u001b[32mSaving checkpoint: /content/data/AcrobotDRCompareEnv-v0/seed_0/model/ckpt_000000000000.pt.\u001b[0m\n",
            "\u001b[32m[INFO]\u001b[0m[2022-03-11 03:45:19]: \u001b[32mSaving checkpoint: /content/data/AcrobotDRCompareEnv-v0/seed_0/model/model_best.pt.\u001b[0m\n",
            "\u001b[32m[INFO]\u001b[0m[2022-03-11 03:45:47]: \u001b[32mExploration steps: 20480\u001b[0m\n",
            "\u001b[32m[INFO]\u001b[0m[2022-03-11 03:45:47]: \u001b[32mSaving checkpoint: /content/data/AcrobotDRCompareEnv-v0/seed_0/model/ckpt_000000020480.pt.\u001b[0m\n",
            "\u001b[32m[INFO]\u001b[0m[2022-03-11 03:45:47]: \u001b[32mSaving checkpoint: /content/data/AcrobotDRCompareEnv-v0/seed_0/model/model_best.pt.\u001b[0m\n",
            "\u001b[32m[INFO]\u001b[0m[2022-03-11 03:46:13]: \u001b[32mExploration steps: 40960\u001b[0m\n",
            "\u001b[32m[INFO]\u001b[0m[2022-03-11 03:46:13]: \u001b[32mSaving checkpoint: /content/data/AcrobotDRCompareEnv-v0/seed_0/model/ckpt_000000040960.pt.\u001b[0m\n",
            "\u001b[32m[INFO]\u001b[0m[2022-03-11 03:46:13]: \u001b[32mSaving checkpoint: /content/data/AcrobotDRCompareEnv-v0/seed_0/model/model_best.pt.\u001b[0m\n",
            "\u001b[32m[INFO]\u001b[0m[2022-03-11 03:46:38]: \u001b[32mExploration steps: 61440\u001b[0m\n",
            "\u001b[32m[INFO]\u001b[0m[2022-03-11 03:46:38]: \u001b[32mSaving checkpoint: /content/data/AcrobotDRCompareEnv-v0/seed_0/model/ckpt_000000061440.pt.\u001b[0m\n",
            "\u001b[32m[INFO]\u001b[0m[2022-03-11 03:46:38]: \u001b[32mSaving checkpoint: /content/data/AcrobotDRCompareEnv-v0/seed_0/model/model_best.pt.\u001b[0m\n",
            "\u001b[32m[INFO]\u001b[0m[2022-03-11 03:47:04]: \u001b[32mExploration steps: 81920\u001b[0m\n",
            "\u001b[32m[INFO]\u001b[0m[2022-03-11 03:47:04]: \u001b[32mSaving checkpoint: /content/data/AcrobotDRCompareEnv-v0/seed_0/model/ckpt_000000081920.pt.\u001b[0m\n",
            "\u001b[32m[INFO]\u001b[0m[2022-03-11 03:47:04]: \u001b[32mSaving checkpoint: /content/data/AcrobotDRCompareEnv-v0/seed_0/model/model_best.pt.\u001b[0m\n"
          ]
        },
        {
          "output_type": "execute_result",
          "data": {
            "text/plain": [
              "[<matplotlib.lines.Line2D at 0x7f1b2cd39610>]"
            ]
          },
          "metadata": {},
          "execution_count": 24
        },
        {
          "output_type": "display_data",
          "data": {
            "image/png": "[encoded data removed]",
            "text/plain": [
              "<Figure size 432x288 with 1 Axes>"
            ]
          },
          "metadata": {
            "needs_background": "light"
          }
        }
      ],
      "source": [
        "class AcrobotDRCompareEnv(AcrobotEnv):\n",
        "    def reset(self):\n",
        "        obs = super().reset()\n",
        "\n",
        "        ### TODO: randomize the dynamics parameters (10 pts)\n",
        "        for key in best_params:\n",
        "          scale_factor = np.random.uniform(low=0.95,high=1.05)\n",
        "          setattr(self ,key, scale_factor*getattr(self,key))\n",
        "        ### ENDTODO\n",
        "        return obs\n",
        "\n",
        "env_name = 'AcrobotDRCompareEnv-v0'\n",
        "if env_name in registry.env_specs:\n",
        "    del registry.env_specs[env_name]\n",
        "register(\n",
        "    id=env_name,\n",
        "    entry_point=f'{__name__}:AcrobotDRCompareEnv',\n",
        ")\n",
        "\n",
        "dr_compare_agent, dr_compare_save_dir = train_ppo(env_name='AcrobotDRCompareEnv-v0')\n",
        "dr_compare_steps, dr_compare_returns = read_tf_log(dr_compare_save_dir)\n",
        "plt.plot(dr_compare_steps, dr_compare_returns)"
      ]
    },
    {
      "cell_type": "code",
      "execution_count": 25,
      "metadata": {
        "id": "D8KDRY6tr_p5",
        "colab": {
          "base_uri": "https://localhost:8080/"
        },
        "outputId": "ed56c42a-5f9c-4fb8-d858-3cbe983e1d09"
      },
      "outputs": [
        {
          "output_type": "stream",
          "name": "stdout",
          "text": [
            "Mean number of steps:  170.2\n",
            "Standard deviation of number of steps:  60.98819557914466\n"
          ]
        }
      ],
      "source": [
        "### TODO: evaluate the dr_compare_agent in the real world environment\n",
        "### (\"AcrobotTargetEnv-v0\").  Make sure to run at least 10 trials.\n",
        "### Report mean and standard deviation. (10 pts)\n",
        "target_env = wrap_env(gym.make('AcrobotTargetEnv-v0'))\n",
        "eval_agent(dr_compare_agent,target_env,num_trials=10)"
      ]
    },
    {
      "cell_type": "markdown",
      "metadata": {
        "id": "hyK6vjIqsVsN"
      },
      "source": [
        "**Question (10 pts):** Does narrowing the range of domain randomization help with transfer to reality? Why?\n",
        "\n",
        "**Answer**: Narrowing the range helps because the values we sample are close to the ones observed in the real world. Having a narrower range opens you up to being less robust, but it seems that for this application the [0.8,1.2] range was trading off too much performance."
      ]
    },
    {
      "cell_type": "markdown",
      "metadata": {
        "id": "KHWNqcwSspiF"
      },
      "source": [
        "# Knowledge Distillation \n",
        "\n",
        "Unfortunately, the velocity sensors on the lab's Acrobat broke and are no longer usable. Thus, all of Ben's agents trained thus far that account for velocity in the state space can no longer function.\n",
        "\n",
        "Fortunately, Ben's professor has yet another idea to allow for transfer between simulation and reality: *knowledge distillation*. A summary of this idea can be found [here](https://intellabs.github.io/distiller/knowledge_distillation.html):\n",
        "\n",
        "> Knowledge distillation is model compression method in which a small model is trained to mimic a pre-trained, larger model (or ensemble of models). This training setting is sometimes referred to as \"teacher-student\", where the large model is the teacher and the small model is the student (we'll be using these terms interchangeably).\n",
        "\n",
        "This scenario is common when in simulation, we can have privileged information that may not be possible in reality (more sensors, perfect state estimation, etc.).\n",
        "\n",
        "In our case, we could train a teacher network in simulation with full access to a simulated robot with working velocity sensors. We would then train our student network with a more limited state space to predict actions that match that of the teacher. Let's try to implement this."
      ]
    },
    {
      "cell_type": "code",
      "execution_count": 15,
      "metadata": {
        "id": "nZcyZPdHspiG"
      },
      "outputs": [],
      "source": [
        "# defining our environments\n",
        "class NoVelocityAcrobotEnv(AcrobotEnv):\n",
        "    book_or_nips = \"book\"    \n",
        "    \n",
        "    def __init__(self):\n",
        "        AcrobotEnv.__init__(self)\n",
        "        high = np.array(\n",
        "            [1.0, 1.0, 1.0, 1.0], dtype=np.float32\n",
        "        )\n",
        "        low = -high\n",
        "        self.observation_space = spaces.Box(low=low, high=high, dtype=np.float32)\n",
        "        \n",
        "    def _get_ob(self):\n",
        "        s = self.state\n",
        "        assert s is not None, \"Call reset before using AcrobotEnv object.\"\n",
        "\n",
        "        obs = np.array(\n",
        "            [\n",
        "                np.cos(s[0]), np.sin(s[0]), np.cos(s[1]), np.sin(s[1]), # no velocity\n",
        "            ], dtype=np.float32\n",
        "        )\n",
        "                    \n",
        "        return obs\n",
        "\n",
        "class NoVelocityAcrobotTargetEnv(NoVelocityAcrobotEnv):\n",
        "    book_or_nips = \"nips\"    \n",
        "    \n",
        "        \n",
        "env_name = 'NoVelocityAcrobot-v0'\n",
        "if env_name in registry.env_specs:\n",
        "    del registry.env_specs[env_name]\n",
        "register(\n",
        "    id=env_name,\n",
        "    entry_point=f'{__name__}:NoVelocityAcrobotEnv',\n",
        ")\n",
        "\n",
        "env_name = 'NoVelocityAcrobotTarget-v0'\n",
        "if env_name in registry.env_specs:\n",
        "    del registry.env_specs[env_name]\n",
        "register(\n",
        "    id=env_name,\n",
        "    entry_point=f'{__name__}:NoVelocityAcrobotTargetEnv',\n",
        ")"
      ]
    },
    {
      "cell_type": "code",
      "execution_count": 8,
      "metadata": {
        "id": "FhZlocC8spiG",
        "colab": {
          "base_uri": "https://localhost:8080/",
          "height": 667
        },
        "outputId": "20b8e2d4-2149-46be-9116-13e83c2a152f"
      },
      "outputs": [
        {
          "output_type": "stream",
          "name": "stderr",
          "text": [
            "\u001b[32m[INFO]\u001b[0m[2022-03-11 04:47:36]: \u001b[32mAlogrithm type:<class 'easyrl.configs.ppo_config.PPOConfig'>\u001b[0m\n",
            "\u001b[32m[INFO]\u001b[0m[2022-03-11 04:47:36]: \u001b[32mCreating 1 environments.\u001b[0m\n"
          ]
        },
        {
          "output_type": "stream",
          "name": "stdout",
          "text": [
            "====================================\n",
            "      Device:cuda\n",
            "      Total number of steps:100000\n",
            "====================================\n"
          ]
        },
        {
          "output_type": "stream",
          "name": "stderr",
          "text": [
            "\u001b[31m[ERROR]\u001b[0m[2022-03-11 04:47:45]: \u001b[31mNot a valid git repo: /usr/local/lib/python3.7/dist-packages\u001b[0m\n",
            "\u001b[32m[INFO]\u001b[0m[2022-03-11 04:47:51]: \u001b[32mExploration steps: 0\u001b[0m\n",
            "\u001b[32m[INFO]\u001b[0m[2022-03-11 04:47:51]: \u001b[32mSaving checkpoint: /content/data/Acrobot-v1/seed_0/model/ckpt_000000000000.pt.\u001b[0m\n",
            "\u001b[32m[INFO]\u001b[0m[2022-03-11 04:47:51]: \u001b[32mSaving checkpoint: /content/data/Acrobot-v1/seed_0/model/model_best.pt.\u001b[0m\n",
            "\u001b[32m[INFO]\u001b[0m[2022-03-11 04:48:26]: \u001b[32mExploration steps: 20480\u001b[0m\n",
            "\u001b[32m[INFO]\u001b[0m[2022-03-11 04:48:26]: \u001b[32mSaving checkpoint: /content/data/Acrobot-v1/seed_0/model/ckpt_000000020480.pt.\u001b[0m\n",
            "\u001b[32m[INFO]\u001b[0m[2022-03-11 04:49:00]: \u001b[32mExploration steps: 40960\u001b[0m\n",
            "\u001b[32m[INFO]\u001b[0m[2022-03-11 04:49:00]: \u001b[32mSaving checkpoint: /content/data/Acrobot-v1/seed_0/model/ckpt_000000040960.pt.\u001b[0m\n",
            "\u001b[32m[INFO]\u001b[0m[2022-03-11 04:49:00]: \u001b[32mSaving checkpoint: /content/data/Acrobot-v1/seed_0/model/model_best.pt.\u001b[0m\n",
            "\u001b[32m[INFO]\u001b[0m[2022-03-11 04:49:34]: \u001b[32mExploration steps: 61440\u001b[0m\n",
            "\u001b[32m[INFO]\u001b[0m[2022-03-11 04:49:34]: \u001b[32mSaving checkpoint: /content/data/Acrobot-v1/seed_0/model/ckpt_000000061440.pt.\u001b[0m\n",
            "\u001b[32m[INFO]\u001b[0m[2022-03-11 04:49:34]: \u001b[32mSaving checkpoint: /content/data/Acrobot-v1/seed_0/model/model_best.pt.\u001b[0m\n",
            "\u001b[32m[INFO]\u001b[0m[2022-03-11 04:50:08]: \u001b[32mExploration steps: 81920\u001b[0m\n",
            "\u001b[32m[INFO]\u001b[0m[2022-03-11 04:50:08]: \u001b[32mSaving checkpoint: /content/data/Acrobot-v1/seed_0/model/ckpt_000000081920.pt.\u001b[0m\n",
            "\u001b[32m[INFO]\u001b[0m[2022-03-11 04:50:08]: \u001b[32mSaving checkpoint: /content/data/Acrobot-v1/seed_0/model/model_best.pt.\u001b[0m\n"
          ]
        },
        {
          "output_type": "execute_result",
          "data": {
            "text/plain": [
              "[<matplotlib.lines.Line2D at 0x7f70d5600f90>]"
            ]
          },
          "metadata": {},
          "execution_count": 8
        },
        {
          "output_type": "display_data",
          "data": {
            "image/png": "[encoded data removed]",
            "text/plain": [
              "<Figure size 432x288 with 1 Axes>"
            ]
          },
          "metadata": {
            "needs_background": "light"
          }
        }
      ],
      "source": [
        "# get our vanilla agent trained on the full simulated basic env\n",
        "# if you have this cached from Q1 no need to re-train, just run `teacher_agent = agent`\n",
        "# in practice, we could use one of our better agents (e.g., the agent trained on domain randomization\n",
        "# or sysid) but let's use the basic agent for simplicity\n",
        "\n",
        "teacher_agent, teacher_save_dir = train_ppo(env_name=\"Acrobot-v1\")\n",
        "teacher_steps, teacher_returns = read_tf_log(teacher_save_dir)\n",
        "plt.plot(teacher_steps, teacher_returns)\n",
        "\n",
        "#teacher_agent = agent"
      ]
    },
    {
      "cell_type": "markdown",
      "metadata": {
        "id": "_VI85BBTspiG"
      },
      "source": [
        "Now that we have our teacher, let's generate a dataset of observations and policy outputs that we'll try to get our student to later match. Note that solely training on executed *actions* is insufficient, so we'll need to store the parameters of our `Categorical` distribution (the logits representing each of the 3 discrete actions) for every given observation."
      ]
    },
    {
      "cell_type": "code",
      "execution_count": 9,
      "metadata": {
        "id": "mA1Jpj4BspiG"
      },
      "outputs": [],
      "source": [
        "num_transitions = 20000\n",
        "\n",
        "stud_dataset = {\n",
        "    'obs': np.zeros((num_transitions, 6)),\n",
        "    'dist_params': np.zeros((num_transitions, 3)),   \n",
        "}\n",
        "\n",
        "class StudentObsActionDataset(torch.utils.data.Dataset):\n",
        "    def __init__(self, stud_dataset):\n",
        "        self.states = stud_dataset['obs']\n",
        "        self.params = stud_dataset['dist_params']\n",
        "        \n",
        "    def __len__(self):\n",
        "        return self.states.shape[0]\n",
        "\n",
        "    def __getitem__(self, idx):\n",
        "        sample = dict()\n",
        "        sample['state'] = self.states[idx][:4] # no velocity information\n",
        "        sample['dist_params'] = self.params[idx]\n",
        "        return sample\n",
        "\n",
        "\n",
        "### TODO: Collect offline dataset of teacher observations and policy outputs\n",
        "###       from our simulated environment, `Acrobot-v1` which has access to the velocity (30 pts)\n",
        "'''\n",
        "note: to get an action out of our `PPOAgent` object, you can pass an observation as a \n",
        "tensor to the teacher_agent's actor to get a `Categorical` distribution\n",
        "'''\n",
        "env = wrap_env(gym.make('Acrobot-v1'))\n",
        "\n",
        "step = 0\n",
        "while step < num_transitions:\n",
        "    observation = env.reset()\n",
        "    for i in range(1024):\n",
        "        stud_dataset['obs'][step,:] = observation\n",
        "        observation = torch.tensor(observation).float().cuda()\n",
        "        dist, _ = teacher_agent.actor.forward(observation)\n",
        "        stud_dataset['dist_params'][step,:] = np.array(dist.logits.cpu().detach())\n",
        "        action = teacher_agent.get_action(observation)[0].tolist()\n",
        "        observation, reward, done, info = env.step(action)    \n",
        "        step += 1\n",
        "        if done or step == num_transitions:\n",
        "            break\n",
        "    env.close()\n",
        "#####################################\n",
        "\n",
        "dset = StudentObsActionDataset(stud_dataset)"
      ]
    },
    {
      "cell_type": "markdown",
      "metadata": {
        "id": "MEpK6eU3spiG"
      },
      "source": [
        "Awesome, now that we have our offline dataset, we just need our student policy (which will take in observations without velocities) to output the same distribution over discrete actions! Note that our `StudentObsActionDataset` wrapper is removing velocities for you already."
      ]
    },
    {
      "cell_type": "code",
      "execution_count": 48,
      "metadata": {
        "id": "0DmRuMj1spiH",
        "colab": {
          "base_uri": "https://localhost:8080/",
          "height": 300
        },
        "outputId": "0fbe8902-60a7-408e-9a3d-6868c0f1aa75"
      },
      "outputs": [
        {
          "output_type": "stream",
          "name": "stderr",
          "text": [
            "Epoch: 100%|██████████| 50/50 [00:22<00:00,  2.25it/s, loss=12.2]\n"
          ]
        },
        {
          "output_type": "execute_result",
          "data": {
            "text/plain": [
              "[<matplotlib.lines.Line2D at 0x7f70c37d9e50>]"
            ]
          },
          "metadata": {},
          "execution_count": 48
        },
        {
          "output_type": "display_data",
          "data": {
            "image/png": "[encoded data removed]",
            "text/plain": [
              "<Figure size 432x288 with 1 Axes>"
            ]
          },
          "metadata": {
            "needs_background": "light"
          }
        }
      ],
      "source": [
        "# model \n",
        "student_body = MLP(\n",
        "    input_size=4, # no more angular velocity\n",
        "    hidden_sizes=[64, 64],\n",
        "    output_size=64,\n",
        "    hidden_act=nn.Tanh,\n",
        "    output_act=nn.Tanh\n",
        ")\n",
        "act_size = env.action_space.n\n",
        "student = CategoricalPolicy(\n",
        "    student_body,\n",
        "    in_features=64,\n",
        "    action_dim=act_size\n",
        ").to(cfg.alg.device)\n",
        "\n",
        "# setup\n",
        "optimizer = torch.optim.Adam(student.parameters(), lr=0.0005)\n",
        "max_epochs = 50\n",
        "dataloader = torch.utils.data.DataLoader(dset, batch_size=256, shuffle=True)\n",
        "criterion = torch.nn.MSELoss()\n",
        "\n",
        "# train loop\n",
        "pbar = tqdm(range(max_epochs), desc='Epoch')\n",
        "losses = []\n",
        "for iter in pbar:\n",
        "    avg_loss = []\n",
        "    for batch_idx, sample in enumerate(dataloader):\n",
        "        states = sample['state'].float().to(cfg.alg.device)\n",
        "        expert_logits = sample['dist_params'].float().to(cfg.alg.device)\n",
        "\n",
        "        ### TODO: optimize the student outputs with respect to the data (10 pts)\n",
        "        student_dist, _ = student(states)\n",
        "        student_logits = student_dist.logits\n",
        "        #loss = F.cross_entropy(student_logits, expert_logits)\n",
        "        L = nn.CrossEntropyLoss()\n",
        "        loss =L(student_logits, expert_logits)*-1\n",
        "        optimizer.zero_grad()\n",
        "        loss.backward()\n",
        "        optimizer.step()\n",
        "        ####\n",
        "        \n",
        "        pbar.set_postfix({'loss': loss.item()})\n",
        "        losses.append(loss.item())\n",
        "\n",
        "plt.plot(losses)\n"
      ]
    },
    {
      "cell_type": "markdown",
      "metadata": {
        "id": "jZ96V-Y9spiH"
      },
      "source": [
        "Let's evaluate the performance of our trained student in a simulated environment with no velocity in the state before we try evaluating it on our real robot with broken velocity sensors."
      ]
    },
    {
      "cell_type": "code",
      "execution_count": null,
      "metadata": {
        "id": "2Dr769ZTspiH"
      },
      "outputs": [],
      "source": [
        "student.eval()\n",
        "\n",
        "### TODO: Evaluate the student on `NoVelocityAcrobot-v0`. Be sure to run at least 10 trials\n",
        "### Report mean and standard deviation. (10 pts)\n",
        "# target_env = wrap_env(gym.make('NoVelocityAcrobot-v0'))\n",
        "# student_agent = PPOAgent(actor=student.eval(),critic=teacher_agent.critic, env=target_env)\n",
        "# eval_agent(student_agent,target_env)\n",
        "\n",
        "env = wrap_env(gym.make('NoVelocityAcrobot-v0'))\n",
        "\n",
        "num_steps = []\n",
        "for _ in range(10):\n",
        "    observation = env.reset()\n",
        "    step = 0\n",
        "    for i in range(1024):    \n",
        "        action = student(torch.tensor(observation).cuda())[0].sample()\n",
        "        observation, reward, done, info = env.step(action.tolist())    \n",
        "        if done:\n",
        "            step = i\n",
        "            break\n",
        "    num_steps.append(step)\n",
        "    env.close()\n"
      ]
    },
    {
      "cell_type": "code",
      "source": [
        "print(np.mean(num_steps))"
      ],
      "metadata": {
        "id": "s-kxJWiPefTN",
        "outputId": "0e6d025e-0793-4454-f461-ee405b79f652",
        "colab": {
          "base_uri": "https://localhost:8080/",
          "height": 166
        }
      },
      "execution_count": 1,
      "outputs": [
        {
          "output_type": "error",
          "ename": "NameError",
          "evalue": "ignored",
          "traceback": [
            "\u001b[0;31m---------------------------------------------------------------------------\u001b[0m",
            "\u001b[0;31mNameError\u001b[0m                                 Traceback (most recent call last)",
            "\u001b[0;32m<ipython-input-1-b292097055f6>\u001b[0m in \u001b[0;36m<module>\u001b[0;34m\u001b[0m\n\u001b[0;32m----> 1\u001b[0;31m \u001b[0mprint\u001b[0m\u001b[0;34m(\u001b[0m\u001b[0mnp\u001b[0m\u001b[0;34m.\u001b[0m\u001b[0mmean\u001b[0m\u001b[0;34m(\u001b[0m\u001b[0mnum_steps\u001b[0m\u001b[0;34m)\u001b[0m\u001b[0;34m)\u001b[0m\u001b[0;34m\u001b[0m\u001b[0;34m\u001b[0m\u001b[0m\n\u001b[0m",
            "\u001b[0;31mNameError\u001b[0m: name 'np' is not defined"
          ]
        }
      ]
    },
    {
      "cell_type": "code",
      "execution_count": null,
      "metadata": {
        "id": "PfxWvstvspiH"
      },
      "outputs": [],
      "source": [
        "student.eval()\n",
        "\n",
        "### TODO: Evaluate the student on `NoVelocityAcrobotTarget-v0`. Be sure to run at least 10 trials.\n",
        "### Report mean and standard deviation. (10 pts)\n"
      ]
    },
    {
      "cell_type": "markdown",
      "metadata": {
        "id": "NKJr8rCispiH"
      },
      "source": [
        "**Question (10 pts):**:  How does the student agent perform in the simulated environment without velocity (`NoVelocityAcrobot-v0`) in comparison to the teacher on the same environment with velocity measurements (`Acrobot-v1`)? \n",
        "\n",
        "**Answer**: \n",
        "\n",
        "**Question (10 pts):**:  How does the student agent perform in the target environment without velocity (`NoVelocityAcrobotTarget-v0`) in comparison to the other agents we've trained so far? Why is this so?\n",
        "\n",
        "**Answer**: "
      ]
    },
    {
      "cell_type": "markdown",
      "metadata": {
        "id": "67SxHujFbDFA"
      },
      "source": [
        "# Results Comparison\n",
        "\n",
        "Make a single plot comparing the results of transferring an agent using our three methods to reality: the naive simulation (`Acrobot-v1`), system identification (`AcrobotSystemIDSolvedEnv`), and domain randomization (`AcrobotDREnv-v0` and `AcrobotDRCompareEnv-v0`). We won't include our knowledge distillation method as the student uses a different state space which makes it a different comparison.\n",
        "\n",
        "As always, be sure to communicate both the mean and variance of your results. Be creative in how you present these results; what is the best way of illustrating the relative strengths and weaknesses of these methods, and making the plot clearly communicate the experiments that were run?\n",
        "\n",
        "(30 pts)"
      ]
    },
    {
      "cell_type": "code",
      "execution_count": null,
      "metadata": {
        "id": "QqdzcGzcbhS7"
      },
      "outputs": [],
      "source": [
        "### todo: make pretty plots.\n"
      ]
    },
    {
      "cell_type": "markdown",
      "metadata": {
        "id": "QLcgjC1HcNFe"
      },
      "source": [
        "# Survey (bonus points, 10 pts)\n",
        "Please fill out [this anonymous survey](https://docs.google.com/forms/d/e/1FAIpQLSeG6LstBLYq61NeFfhXja6Lu9-roPpEiIFP8gkJ-5fNygwrKw/viewform?usp=sf_link) and enter the code below to receive credit. Thanks!\n",
        "\n",
        "**Bonus code:** "
      ]
    },
    {
      "cell_type": "code",
      "execution_count": null,
      "metadata": {
        "id": "vyChpYKvspiI"
      },
      "outputs": [],
      "source": [
        ""
      ]
    },
    {
      "cell_type": "markdown",
      "source": [
        "# Submission\n",
        "Generate an HTML for submission by running the cell below, ensuring that your plots/code/figures show up nicely and modifying the notebook path as needed to match your Google Drive set up. Alternatively you can run the `jupyer nbconvert` commands on your local machine after downloading this notebook as an `ipynb`."
      ],
      "metadata": {
        "id": "yGpo3i1r6rBr"
      }
    },
    {
      "cell_type": "code",
      "source": [
        "from google.colab import drive\n",
        "\n",
        "drive.mount('/content/drive/')\n",
        "!jupyter nbconvert --to html '/content/drive/My Drive/path_to_notebook.ipynb'"
      ],
      "metadata": {
        "id": "E-eI8oQG68mf"
      },
      "execution_count": null,
      "outputs": []
    }
  ],
  "metadata": {
    "accelerator": "GPU",
    "colab": {
      "collapsed_sections": [],
      "name": "sim2real.ipynb",
      "provenance": [],
      "machine_shape": "hm",
      "include_colab_link": true
    },
    "kernelspec": {
      "display_name": "Python 3 (ipykernel)",
      "language": "python",
      "name": "python3"
    },
    "language_info": {
      "codemirror_mode": {
        "name": "ipython",
        "version": 3
      },
      "file_extension": ".py",
      "mimetype": "text/x-python",
      "name": "python",
      "nbconvert_exporter": "python",
      "pygments_lexer": "ipython3",
      "version": "3.8.6"
    }
  },
  "nbformat": 4,
  "nbformat_minor": 0
}