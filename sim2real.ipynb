{
  "cells": [
    {
      "cell_type": "markdown",
      "metadata": {
        "id": "view-in-github",
        "colab_type": "text"
      },
      "source": [
        "<a href=\"https://colab.research.google.com/github/LuisCGit/6.484-reinforcement-learning/blob/main/sim2real.ipynb\" target=\"_parent\"><img src=\"https://colab.research.google.com/assets/colab-badge.svg\" alt=\"Open In Colab\"/></a>"
      ]
    },
    {
      "cell_type": "markdown",
      "metadata": {
        "id": "rhR66MOXFg_P"
      },
      "source": [
        "# Spring 2022 6.484 Computational Sensorimotor Learning Assignment 5\n",
        "\n",
        "In this assignment, we will tackle the sim2real gap in deep reinforcement learning. Since we don't have access to a real-world system, we will mimic sim-to-real transfer via sim-to-sim transfer (where one simulator is a replacement for the physical world).\n",
        "\n",
        "There are 290 total points on this problem set.\n",
        "\n",
        "**_Please fill in your name below:_**\n",
        "\n",
        "**Name**: Luis Costa Laveron"
      ]
    },
    {
      "cell_type": "markdown",
      "metadata": {
        "id": "2AZMNnT3GPJ5"
      },
      "source": [
        "## Setup\n",
        "\n",
        "The following code sets up requirements, imports, and helper functions (you can ignore this)."
      ]
    },
    {
      "cell_type": "code",
      "execution_count": 2,
      "metadata": {
        "id": "ptnCdKRYxo02"
      },
      "outputs": [],
      "source": [
        "!apt-get install -y xvfb python-opengl ffmpeg > /dev/null 2>&1\n",
        "!pip install gym pyvirtualdisplay > /dev/null 2>&1\n",
        "!pip install git+https://github.com/taochenshh/easyrl.git@sac > /dev/null 2>&1"
      ]
    },
    {
      "cell_type": "code",
      "execution_count": 3,
      "metadata": {
        "id": "AZA8OkuBx5KN"
      },
      "outputs": [],
      "source": [
        "%matplotlib inline\n",
        "\n",
        "import gym\n",
        "from gym import spaces\n",
        "from gym import logger as gymlogger\n",
        "from gym.wrappers import Monitor\n",
        "gymlogger.set_level(40) #error only\n",
        "import torch\n",
        "from tqdm import tqdm\n",
        "import numpy as np\n",
        "import pandas as pd\n",
        "import random\n",
        "import matplotlib\n",
        "import matplotlib.pyplot as plt\n",
        "import seaborn as sns\n",
        "from torch import nn\n",
        "from pathlib import Path\n",
        "import math\n",
        "import glob\n",
        "import io\n",
        "import base64\n",
        "from IPython.display import HTML\n",
        "from tensorboard.backend.event_processing.event_accumulator import EventAccumulator\n",
        "from easyrl.agents.ppo_agent import PPOAgent\n",
        "from easyrl.configs import cfg\n",
        "from easyrl.configs import set_config\n",
        "from easyrl.configs.command_line import cfg_from_cmd\n",
        "from easyrl.engine.ppo_engine import PPOEngine\n",
        "from easyrl.models.categorical_policy import CategoricalPolicy\n",
        "from easyrl.models.diag_gaussian_policy import DiagGaussianPolicy\n",
        "from easyrl.models.mlp import MLP\n",
        "from easyrl.models.value_net import ValueNet\n",
        "from easyrl.runner.nstep_runner import EpisodicRunner\n",
        "from easyrl.utils.common import set_random_seed\n",
        "from easyrl.utils.gym_util import make_vec_env\n",
        "from easyrl.utils.common import load_from_json\n",
        "from gym.envs.classic_control.acrobot import AcrobotEnv\n",
        "from gym.envs.registration import registry, register\n",
        "from IPython import display as ipythondisplay\n",
        "import torch.nn.functional as F"
      ]
    },
    {
      "cell_type": "code",
      "execution_count": 4,
      "metadata": {
        "id": "X5pWMC9hx6VF",
        "outputId": "dec7cda1-78dd-428c-fc2f-eeb6e9817a67",
        "colab": {
          "base_uri": "https://localhost:8080/"
        }
      },
      "outputs": [
        {
          "output_type": "execute_result",
          "data": {
            "text/plain": [
              "<pyvirtualdisplay.display.Display at 0x7f8346b6c250>"
            ]
          },
          "metadata": {},
          "execution_count": 4
        }
      ],
      "source": [
        "if 'setup_display' in locals():\n",
        "    raise RuntimeError(\"Don't run this cell twice!\")\n",
        "\n",
        "setup_display = True\n",
        "from pyvirtualdisplay import Display\n",
        "display = Display(visible=False, size=(1400, 900))\n",
        "display.start()"
      ]
    },
    {
      "cell_type": "code",
      "execution_count": 5,
      "metadata": {
        "id": "QWq4UpXWx7Vb"
      },
      "outputs": [],
      "source": [
        "\"\"\"\n",
        "Utility functions to enable video recording of gym environment and displaying it\n",
        "To enable video, just do \"env = wrap_env(env)\"\"\n",
        "stolen from https://colab.research.google.com/drive/1flu31ulJlgiRL1dnN2ir8wGh9p7Zij2t#scrollTo=8nj5sjsk15IT\n",
        "\"\"\"\n",
        "\n",
        "def show_video():\n",
        "    mp4list = glob.glob('video/*.mp4')\n",
        "    if len(mp4list) > 0:\n",
        "        mp4 = mp4list[0]\n",
        "        video = io.open(mp4, 'r+b').read()\n",
        "        encoded = base64.b64encode(video)\n",
        "        ipythondisplay.display(HTML(data='''<video alt=\"test\" autoplay \n",
        "                    loop controls style=\"height: 400px;\">\n",
        "                    <source src=\"data:video/mp4;base64,{0}\" type=\"video/mp4\" />\n",
        "                </video>'''.format(encoded.decode('ascii'))))\n",
        "    else: \n",
        "        print(\"Could not find video\")\n",
        "    \n",
        "\n",
        "def wrap_env(env):\n",
        "    env = Monitor(env, './video', force=True)\n",
        "    return env\n",
        "\n",
        "def read_tf_log(log_dir, scalar='train/episode_return/mean'):\n",
        "    log_dir = Path(log_dir)\n",
        "    log_files = list(log_dir.glob(f'**/events.*'))\n",
        "    if len(log_files) < 1:\n",
        "        return None\n",
        "    log_file = log_files[0]\n",
        "\n",
        "    event_acc = EventAccumulator(log_file.as_posix())\n",
        "    event_acc.Reload()\n",
        "    tags = event_acc.Tags()\n",
        "\n",
        "    scalar_return = event_acc.Scalars(scalar)\n",
        "    returns = [x.value for x in scalar_return]\n",
        "    steps = [x.step for x in scalar_return]\n",
        "\n",
        "    return steps, returns\n",
        "\n",
        "class AcrobotTargetEnv(AcrobotEnv):\n",
        "    book_or_nips = \"nips\"\n",
        "\n",
        "\n",
        "env_name = 'AcrobotTargetEnv-v0'\n",
        "if env_name in registry.env_specs:\n",
        "    del registry.env_specs[env_name]\n",
        "register(\n",
        "    id=env_name,\n",
        "    entry_point=f'{__name__}:AcrobotTargetEnv',\n",
        ")"
      ]
    },
    {
      "cell_type": "markdown",
      "metadata": {
        "id": "OlctfcIvGxuX"
      },
      "source": [
        "# Experiment Running\n",
        "\n",
        "We've provided the below code as-is to run your experiments using PPO.  Please do not modify this function."
      ]
    },
    {
      "cell_type": "code",
      "execution_count": 6,
      "metadata": {
        "id": "p2qx-TwFyy5T"
      },
      "outputs": [],
      "source": [
        "# DO NOT MODIFY THIS\n",
        "def train_ppo(env_name='Acrobot-v1', max_steps=100000):    \n",
        "    set_config('ppo')\n",
        "    cfg.alg.num_envs = 1\n",
        "    cfg.alg.episode_steps = 1024\n",
        "    cfg.alg.log_interval = 1\n",
        "    cfg.alg.eval_interval = 20\n",
        "    \n",
        "    cfg.alg.max_steps = max_steps\n",
        "    cfg.alg.device = 'cpu' #'cuda' if torch.cuda.is_available() else \n",
        "    cfg.alg.env_name = env_name\n",
        "    cfg.alg.save_dir = Path.cwd().absolute().joinpath('data').as_posix()\n",
        "    cfg.alg.save_dir += '/' + env_name\n",
        "\n",
        "    setattr(cfg.alg, 'diff_cfg', dict(save_dir=cfg.alg.save_dir))\n",
        "\n",
        "    print(f'====================================')\n",
        "    print(f'      Device:{cfg.alg.device}')\n",
        "    print(f'      Total number of steps:{cfg.alg.max_steps}')\n",
        "    print(f'====================================')\n",
        "\n",
        "    set_random_seed(cfg.alg.seed)\n",
        "\n",
        "    env = make_vec_env(cfg.alg.env_name,\n",
        "                       cfg.alg.num_envs,\n",
        "                       seed=cfg.alg.seed)\n",
        "    env.reset()\n",
        "    ob_size = env.observation_space.shape[0]\n",
        "\n",
        "    actor_body = MLP(input_size=ob_size,\n",
        "                     hidden_sizes=[64, 64],\n",
        "                     output_size=64,\n",
        "                     hidden_act=nn.Tanh,\n",
        "                     output_act=nn.Tanh)\n",
        "\n",
        "    critic_body = MLP(input_size=ob_size,\n",
        "                     hidden_sizes=[64, 64],\n",
        "                     output_size=64,\n",
        "                     hidden_act=nn.Tanh,\n",
        "                     output_act=nn.Tanh)\n",
        "    \n",
        "    if isinstance(env.action_space, gym.spaces.Discrete):\n",
        "        act_size = env.action_space.n\n",
        "        actor = CategoricalPolicy(actor_body,\n",
        "                                 in_features=64,\n",
        "                                 action_dim=act_size)\n",
        "    elif isinstance(env.action_space, gym.spaces.Box):\n",
        "        act_size = env.action_space.shape[0]\n",
        "        actor = DiagGaussianPolicy(actor_body,\n",
        "                                   in_features=64,\n",
        "                                   action_dim=act_size,\n",
        "                                   tanh_on_dist=cfg.alg.tanh_on_dist,\n",
        "                                   std_cond_in=cfg.alg.std_cond_in)\n",
        "    else:\n",
        "        raise TypeError(f'Unknown action space type: {env.action_space}')\n",
        "\n",
        "    critic = ValueNet(critic_body, in_features=64)\n",
        "    agent = PPOAgent(actor=actor, critic=critic, env=env)\n",
        "    runner = EpisodicRunner(agent=agent, env=env)\n",
        "    engine = PPOEngine(agent=agent,\n",
        "                       runner=runner)\n",
        "    engine.train()\n",
        "\n",
        "    return agent, cfg.alg.save_dir\n"
      ]
    },
    {
      "cell_type": "markdown",
      "metadata": {
        "id": "ddqbjTGaHEah"
      },
      "source": [
        "# Acrobot Introduction\n",
        "\n",
        "Ben Bitdiddle just started his graduate program studying the *Acrobot*: a double pendulum commonly used as a benchmark in continuous control.  The goal of the benchmark is to find a policy that can swing the tip of the pendulum above the plane defined by the first joint (see the figure below), while only exerting torques on the second joint.  The sooner you hit the termination plane, the higher the reward.\n",
        "\n",
        "Lab time on the Acrobot is highly contested: Ben can only book 20 minute slots of physical time with the device. Thankfully, OpenAI gym provides a simulation environment for the Acrobot with the exact same physical parameters!\n",
        "\n",
        "Run the below cell to train a PPO policy in this simulation environment, and report whether Ben Bitdiddle should expect to be able to use the same method to train a policy on the real Acrobot.\n",
        "\n",
        "![](https://www.researchgate.net/publication/332779048/figure/fig8/AS:753590863937537@1556681471025/Acrobot-environment.ppm)"
      ]
    },
    {
      "cell_type": "code",
      "execution_count": 36,
      "metadata": {
        "id": "igNYlqTNzSzh",
        "colab": {
          "base_uri": "https://localhost:8080/"
        },
        "outputId": "b2a5f0f1-cb0a-4ef8-bc68-8727b965fa8e"
      },
      "outputs": [
        {
          "metadata": {
            "tags": null
          },
          "name": "stderr",
          "output_type": "stream",
          "text": [
            "\u001b[32m[INFO]\u001b[0m[2022-03-12 23:48:36]: \u001b[32mAlogrithm type:<class 'easyrl.configs.ppo_config.PPOConfig'>\u001b[0m\n",
            "\u001b[32m[INFO]\u001b[0m[2022-03-12 23:48:36]: \u001b[32mCreating 1 environments.\u001b[0m\n",
            "\u001b[31m[ERROR]\u001b[0m[2022-03-12 23:48:36]: \u001b[31mNot a valid git repo: /usr/local/lib/python3.7/dist-packages\u001b[0m\n"
          ]
        },
        {
          "metadata": {
            "tags": null
          },
          "name": "stdout",
          "output_type": "stream",
          "text": [
            "====================================\n",
            "      Device:cpu\n",
            "      Total number of steps:100000\n",
            "====================================\n"
          ]
        },
        {
          "output_type": "stream",
          "name": "stderr",
          "text": [
            "\u001b[32m[INFO]\u001b[0m[2022-03-12 23:48:38]: \u001b[32mExploration steps: 0\u001b[0m\n",
            "\u001b[32m[INFO]\u001b[0m[2022-03-12 23:48:38]: \u001b[32mSaving checkpoint: /content/data/Acrobot-v1/seed_0/model/ckpt_000000000000.pt.\u001b[0m\n",
            "\u001b[32m[INFO]\u001b[0m[2022-03-12 23:48:38]: \u001b[32mSaving checkpoint: /content/data/Acrobot-v1/seed_0/model/model_best.pt.\u001b[0m\n",
            "\u001b[32m[INFO]\u001b[0m[2022-03-12 23:49:08]: \u001b[32mExploration steps: 20480\u001b[0m\n",
            "\u001b[32m[INFO]\u001b[0m[2022-03-12 23:49:08]: \u001b[32mSaving checkpoint: /content/data/Acrobot-v1/seed_0/model/ckpt_000000020480.pt.\u001b[0m\n",
            "\u001b[32m[INFO]\u001b[0m[2022-03-12 23:49:08]: \u001b[32mSaving checkpoint: /content/data/Acrobot-v1/seed_0/model/model_best.pt.\u001b[0m\n",
            "\u001b[32m[INFO]\u001b[0m[2022-03-12 23:49:37]: \u001b[32mExploration steps: 40960\u001b[0m\n",
            "\u001b[32m[INFO]\u001b[0m[2022-03-12 23:49:37]: \u001b[32mSaving checkpoint: /content/data/Acrobot-v1/seed_0/model/ckpt_000000040960.pt.\u001b[0m\n",
            "\u001b[32m[INFO]\u001b[0m[2022-03-12 23:49:37]: \u001b[32mSaving checkpoint: /content/data/Acrobot-v1/seed_0/model/model_best.pt.\u001b[0m\n",
            "\u001b[32m[INFO]\u001b[0m[2022-03-12 23:50:06]: \u001b[32mExploration steps: 61440\u001b[0m\n",
            "\u001b[32m[INFO]\u001b[0m[2022-03-12 23:50:06]: \u001b[32mSaving checkpoint: /content/data/Acrobot-v1/seed_0/model/ckpt_000000061440.pt.\u001b[0m\n",
            "\u001b[32m[INFO]\u001b[0m[2022-03-12 23:50:06]: \u001b[32mSaving checkpoint: /content/data/Acrobot-v1/seed_0/model/model_best.pt.\u001b[0m\n",
            "\u001b[32m[INFO]\u001b[0m[2022-03-12 23:50:35]: \u001b[32mExploration steps: 81920\u001b[0m\n",
            "\u001b[32m[INFO]\u001b[0m[2022-03-12 23:50:35]: \u001b[32mSaving checkpoint: /content/data/Acrobot-v1/seed_0/model/ckpt_000000081920.pt.\u001b[0m\n",
            "\u001b[32m[INFO]\u001b[0m[2022-03-12 23:50:35]: \u001b[32mSaving checkpoint: /content/data/Acrobot-v1/seed_0/model/model_best.pt.\u001b[0m\n"
          ]
        }
      ],
      "source": [
        "agent, save_dir = train_ppo(env_name=\"Acrobot-v1\")"
      ]
    },
    {
      "cell_type": "code",
      "execution_count": 37,
      "metadata": {
        "id": "Ry8pk56D62H2",
        "colab": {
          "base_uri": "https://localhost:8080/",
          "height": 282
        },
        "outputId": "f7c5cd44-fcb5-4f8e-a430-9ab5ff211268"
      },
      "outputs": [
        {
          "output_type": "execute_result",
          "data": {
            "text/plain": [
              "[<matplotlib.lines.Line2D at 0x7f81a5ae8c90>]"
            ]
          },
          "metadata": {},
          "execution_count": 37
        },
        {
          "output_type": "display_data",
          "data": {
            "text/plain": [
              "<Figure size 432x288 with 1 Axes>"
            ],
            "image/png": "[encoded data removed]"
          },
          "metadata": {
            "needs_background": "light"
          }
        }
      ],
      "source": [
        "steps, returns = read_tf_log(save_dir)\n",
        "plt.plot(steps, returns)"
      ]
    },
    {
      "cell_type": "code",
      "execution_count": 38,
      "metadata": {
        "id": "Q-wup9HqLTcI",
        "colab": {
          "base_uri": "https://localhost:8080/",
          "height": 439
        },
        "outputId": "06d3a4a7-8e92-4602-973d-fd646e223cec"
      },
      "outputs": [
        {
          "output_type": "stream",
          "name": "stdout",
          "text": [
            "Num steps: [72, 91, 79, 93, 79, 77, 92, 124, 96, 71]\n"
          ]
        },
        {
          "output_type": "display_data",
          "data": {
            "text/plain": [
              "<IPython.core.display.HTML object>"
            ],
            "text/html": [
              "<video alt=\"test\" autoplay \n",
              "                    loop controls style=\"height: 400px;\">\n",
              "                    <source src=\"data:video/mp4;base64,AAAAIGZ0eXBpc29tAAACAGlzb21pc28yYXZjMW1wNDEAAAAIZnJlZQABEeRtZGF0AAACrgYF//+q3EXpvebZSLeWLNgg2SPu73gyNjQgLSBjb3JlIDE1MiByMjg1NCBlOWE1OTAzIC0gSC4yNjQvTVBFRy00IEFWQyBjb2RlYyAtIENvcHlsZWZ0IDIwMDMtMjAxNyAtIGh0dHA6Ly93d3cudmlkZW9sYW4ub3JnL3gyNjQuaHRtbCAtIG9wdGlvbnM6IGNhYmFjPTEgcmVmPTMgZGVibG9jaz0xOjA6MCBhbmFseXNlPTB4MzoweDExMyBtZT1oZXggc3VibWU9NyBwc3k9MSBwc3lfcmQ9MS4wMDowLjAwIG1peGVkX3JlZj0xIG1lX3JhbmdlPTE2IGNocm9tYV9tZT0xIHRyZWxsaXM9MSA4eDhkY3Q9MSBjcW09MCBkZWFkem9uZT0yMSwxMSBmYXN0X3Bza2lwPTEgY2hyb21hX3FwX29mZnNldD0tMiB0aHJlYWRzPTYgbG9va2FoZWFkX3RocmVhZHM9MSBzbGljZWRfdGhyZWFkcz0wIG5yPTAgZGVjaW1hdGU9MSBpbnRlcmxhY2VkPTAgYmx1cmF5X2NvbXBhdD0wIGNvbnN0cmFpbmVkX2ludHJhPTAgYmZyYW1lcz0zIGJfcHlyYW1pZD0yIGJfYWRhcHQ9MSBiX2JpYXM9MCBkaXJlY3Q9MSB3ZWlnaHRiPTEgb3Blbl9nb3A9MCB3ZWlnaHRwPTIga2V5aW50PTI1MCBrZXlpbnRfbWluPTE1IHNjZW5lY3V0PTQwIGludHJhX3JlZnJlc2g9MCByY19sb29rYWhlYWQ9NDAgcmM9Y3JmIG1idHJlZT0xIGNyZj0yMy4wIHFjb21wPTAuNjAgcXBtaW49MCBxcG1heD02OSBxcHN0ZXA9NCBpcF9yYXRpbz0xLjQwIGFxPTE6MS4wMACAAAAFUmWIhAA///73aJ8Cm1pDeoDklcUl20+B/6tncHyP6QMAAAMAAAMAJAL8x7+hB0M0IAAAT0AEJEjJqcBdJhn7Yf3/EAJhXfSNtQK5ZuDViILtqECD7/8hhKd5qfVz9CDIAAADAADvtAAAZwBWoVMAFHMFH5zEXL43e9tRQ+ELRNHgqJ+KSFTBGuH5UDKNUsjEzlR36iPYdiVmdDxoP3UBQ90CZlGidrlzGn63tagAlkhMJTH0efuFKKa3MReweWfA92H9lTETWl3S4A4mrJwZ+5oqeueIA/e664xEjX3MWqKZ1+rLAY0kqrNIt6882K/t9jrkXdC60NBZrpaVkPVaApIfQJC85jfF2q1bpgR2dMH6if3f7+te5NuR9TWfjoluDgKtXZgsFLzQfYH4OEDOpRkRaqNp/cimF4ADZUlDwrPyswg3xc7UvgZCut3t01MaTBskq1lFH2K9QLJ7toiGB+42/r3zbY1nj22ozq5xhyePDVngcetcX856+mzfhfgB7gprIOgUPRW5EX2PC9J10e5zX2+R2pUPU1gv3GttJHQlNZ4mf7ECxUDom3HFCmVViWCExAF6CMxv+aqOmz9qULA/fjRpmfpaVFeHmlzB1kJXsa+SwedPiEB7jnLPTvx0AcLrsgRJZNvVWsW9zoqEXFjBqDBLGMWHVVeftgRSVKCQfO9qBeEGNkF1KDO86is9ZEQMO5JkRAo0oQOr/RZW3g1p6fSxl92yHnrmLNUpuqLClcKTYZmTTqvFybEchEk/m5+A9RooQb9/mMI7gzsgG752BKYOkk2It3R73EAHRQwU7Ob1F+W1frVPe57wGSJ6cqo5VfGpzLmES4HAvV/viNJ8A2nEkPqsPwVNHzf36uVEQnF5rxh9zsrAZsYvUicJQWWGXCIkPk3T3ZaKiHF1IGP9gxRMuqtCzHTQRAKCF7r8kwoUWS8drhMxZulyhucjJ9zCU1cM4l0hqnuSI7R5+cGsw65/V0QN8NO2cwaI113Gt+ezzDwEL/0z9GZMPP5HvIYcTrJEPPtQIB4aX86YL+r3EB0vsnlbDPoMvdS4MMTCT4bqWkSlZ5FtdywVj2N0icua4nhMc233ht4Gw7+HOPMAYyhbL7Ld5DDDsQUL4wABFTbRbscXBYNXIq2sQgmwYICInAaQU5jxN66VCZHS57fHN+QMxpOyFOcdL5QYwNtrmpESc/Ja9zL1uLcKWsXat2KDH1UCEyAWCDU6NIB2cJeqxeYXz3ELeGujEPFeExNKu4WzYZxHAXUo+t3piKryNwEzIlwQuzy16FGm+34Ao9uaHfZgCe0gAxm52QLITRC/1Ei/Kq24HQpVaPYpbzKID2+v4OcmFuYGC7ZRsfcKzNAv4J2WAp1JhdoUc/Yne2UvZgVykjDSd54vOVloQaICs0QHoQW1+0gxUMM16ahdnINcK5625EZGuj0XAjChcTIcYdCKGOFAOkbUCTFdWfett0QLTRWF2TqF0dUXrQXgPmxit92TCgZIsessfPjN7m383f1Nc2HIAf7TMUfuCHY9cKZBBs+PElfICV9CnJ9aZP9JNBddo14O+YYecElrBbnaaGhlUgAGdeM3OudKcptuVYhjT+3VknD+6EipQoO0BrRiSAacBXhzaVgGQTVhcBxHOvcAmGKYizQPy2MTNeUiwJPEHAY5QG5ibqAAnOvmo8YU9CnmkH6F/nhcuDnamaaLI+3kp92xzAzo3VWkXOhpBn/kdhmOlNh93axoPy9+MW7gDT+Tf9yRtG6Ek1kRKqaFiceE+EnszbbGr4LmKguEJv2Z5N8tYBWmA0tjJMmwACxGHQAAAopBmiJsQ//+qZYAAAMAxjxH8xhAJm+5D9qvL8K3zlA/0w1x7ouP31Wy9Ol082c/c7MWMhypL37R1erblFLf31u5r6BC9aWPXsKV0rRWEJ49VOyVPkIAMxGU8nix9UKf/57wedYdPLXq2jiomr/una010+QuRYuFU0J3BxorQU7vsZ0tJ1r72ipI97F025WP0MRNILrjElc5rchKRheC8PizNnNFZ/5u9OnVXCJLR7CAg2ucP+slFZuf4XR5YsT+YX5NUnrz1AXuFZMESDfNoJ7JsJEgzmFMVBzq9Ztm88rQzTxde7hqoAo95H9QjEYdoNFNlNT9zo57AHzNiXUXY1cRgkaVYmXm6C4ikIqls27C7rkIOVZHfapA9gs2QlQuqAdYwBRbaTSkFCbW9AX0YYWELmmW+0e03PR7nW7Jsb6lVda7uU//ivz26nGfxdbC9mRWXcrxpGxss/00abfLlp3uzAmxOg/gi37uq3JBgMrH+G8W7veoZ9kuKI6p/qaSnSg9b5gpZsjLqnqrmTWdP2snl7XruLWVjN4W1MO3Dnw2abx2sCHfWWTQp+gQQiSTNu3sEUPglmNAQZsA11XMBIm6p6g6599VGEwGr3evVUyb8HXXx8J/5axLInbMOe6yCARamPH+z4IemQ+Fblm6n2lznmYzaNLOoilrlvm/7zOvuIwKqOpW0+drCcTburXHKk7hGwDuk9s2MfVYYMdmVjjh9Duwu+sLpvhF9OOacGTiAJgkX42nPBlCccbeCW+0IUwtC1nR4kWaoduebCEZiOrNQCHhXFwmOPOow7TYhuBPKyT4CL0/TpfC7wKEQV07T/T3uj37a2eJ3TMna8gkwWmPZeX5P3+09kongAAAAM4BnkF5C/8AAAMA533qWEpws+NcsAF01UwRNj2DGa8tlVhoHV+Dsra6uwCfkK5/dVuw4HrB+SkTqP6aHEW7Vc5FPczfaitYH0QXfJHNMq/JrPyQUtxi9w0sqQU3oFCCPSXJViFZ4apy0gxnoLZdqXMZLHY2BYLDqnYuE5WeYHXLNmSqar9UODUdIxBG0uHkiRTf66iwqzrskim2vXabgBy5Vz/nB/BMy4p0q95oGDwYKECza6YWK4ifgNVNmXmVTZcEnhQWuUs9MC1BlsSVYQAAA7RBmkQ8IZMphD///qmWAAADAMBcwTV1ABcnztDuKGeZodKP1/7MjHU7HTGZLDnHkyVX/rpKHgMK2o4EAP50ijHKQgkPvK3K8GDUZiF3xe2GF3jqqVrLGR/KbMbJNJ9Ti2p+XAIKzfXjO3124QzbXmdZ6n/DWtTv16moDsLzRF01peo8Jy8JX9KL5O4zh0r2tztbji2LOPuH7JbifK71vrdOmbAa4TEQIeCOFah7UnYFF5CbVDOYo++xNQE9rX9qTvcvpw8GOQJpmAoIcZrQe1pAVrUck0SmrKXF0emmkEAdreCltsAcbUmIvE2badJUCm2AbaBI7DXDnyIIoVklWuvlyTBAOVw6RQcyFibRa/P7Ut9Pco3VPU2vuPwJSC7Y+sS+hQDWD3BLodqziBuYZOYYLCDc1DI5fgq4qTIMDoClZhkYD9wPnywxjmJMQSNRu6azDPq/idzQuu2cybWtzjV54oLzEE1TvBFsyTeUy0dD9JUCU7mZuO7ugeNQHAmjF57kty6sDDk9GgB/s/VxFIDVltTFoX0NxySNUqXh4IXx9e/3Y4bS1lUpDTLHMSMrYygKbvknB/Twc6nKv0F+Yr/6s7BHxwZMgWlIaFKBnAFyOHgRDUgCklYnGW2CI5ZieMxlRL3V63FV2XPFzo7sPz8EpAP24Yvqp974uK41LBqMnx2jKPCkfdDHumXdn4yXbZgp7SvezhvBWok+73zzVb2hQCtiCwR7eR0rLH21Ht26pqRfz3mu2hFUWenDmJR5ORY7nhm+3E7HZvmfyM7Czq5IxKzl/o/xegFSX7oOE2QcW1RiEQCYUyAl3sHlOuMK9kO7zYbUaZhY0A8LvuRV0mz4JWZodXEcBqzi0iUbvJ1yWhaUlnfZH3XKG0+3l4PwbEVrB0H5vlUolEMjDvuufVHkxV6qZ+Zceb/BxFI6qMNxhHVxRX9KCDjbbzspdUieIdElDe81v+g1hLF03iOoNiT19c23M06KPSO5D8UvJztQjGIltD9VqwAiFSUj/IPXU/eVtBnBN/iSmAW4eNL/pJ8WJls2SQGNqBVwdxnvPaxqROsU0KuYjJV4aReYQkoxH/MdxhJDXNW9FhsqXLYC6oLaXCGrU11dsOzDpv2286x17zwZQ6nEyjoC4992NXAM12NM5KiDqsdnPFIsT/Q7jHxR8wG0dWrDB5bdqKxrenqPrMfZV4a9Iiih6eW2oLMxbYqD/z27QRpo6vynshzLEchlzcNucGTMmhNfS9zMKdVMZvONlKAAAAF3AZ5jakL/AAADAN39bsALBkH+AIWJvhaL3eGrDCszoFJX7a8iV2gwKd+e7qdfAcQZCT30373nvZAthkykVcLzjVzhG7P6CPjEKZqf5Hikpnvk4b/oBHRJCHghfCav3IGTX6dtkya4/5xJ3Oo14Pu6v/BlsSH+O0RkORskKzl+6TBOOnmU55jlFKWvbOxg8QE92YQDMF0EaQiZXoFzezDjYUHiJAC6364C0LJ/B2lODhjrt2LBwKNBZBAb6gmruyMRNLonJiDzmzzxOvU0IcyXx2+bVNL4l8mA16MzmlJjzCoqi79yZ1MWGlp/fQg3VloNCJ3A6qc0PZo6r0rqwg+jv2sD74R8IhX8Gr6PWWkE5FXznnkt4wFbtdF7k6IO1LYRWCYWcje94ZBZUAChdxBYbQLOBmbcyDmRJw7N6ENiLpGvrSUolmJPPg4pdMjIlrHebnbWotugCdM5OEdEdH1jfdJnxCukGuD83xaqog7VMbbpvwuF5VJPAAABp0GaaEnhDyZTAh///qmWAAADAMYcdFbYAVMRdoddDXsZ/a4ISm71XLIFSphqu9Gxs+ETL0gPtcPGFsPXgzv9M8XuQMy84hNu94glvARkf7+7+AkfwaynZb1S4Z7+EK/9LD0ec4+IqLt6jqiFQNHTcSZjSy1a5aUb9EE5JRHEyQBsBwhdXyoLNV5YWL8DfpEOJz8fj+BIgUz0PodLmrknQTZkRFfL4eAckAeMDNOFSQ+UG7R3lybgEFyab9sPJfPHoa2G29MrMqDsYwqWPp1efM5UEe0ub41SOgMk3Lr0WVkkWH5iugQwhFLmmuz01CVPLYRozBBEe93JUSnouaGg8P/oikokueDHmsGefjxTYTDbkA8a9ZR5yiXx62VCRfcC5sWuiM2MXyFtXlmdbQBFhtZGe9dMKnt5xT6XuNct2sY9Xam9rBuZX5ittlFnhPSFz3LnNLhZS5zfKHMfMrn6sZKOiFxkG2SMb0kCcxpdOfgmyen5yI5yoAEeVj+5Fn9jLHUL/9GKowlHronGDuooy0IpZbnrp+mpJOEhc7TAtLqAXhnSsIuJ5QAAAfVBnoZFETw3/wAAAwCK18S2kzHgBWmrj8r57YnTj6lYBLwrH35pjEoaZZvjvKgSbonWMwZyIZuZRs/Yqv/J5q38PDgQGS4ft3Fih1+zIq48SnLftF7JYteHEdR09xE/lk1pb82g000gWCve/FH+zfUGIlaGY0iewljBE3DCaOsZUqlmvKU4j0he0N7ciHoNuw3ZGE5NroF7Cn4vjgwLghom48B/6DG0nelUZskGs6OJRRNb0O/210tU/pIbhb+1enn7Vs6kUO3mNIp3ALK06nIHYDZwlg267Xqa1H0qpcT34PQ8NaEmCCntCP35X4Cj07UljDUHt6rDFnlQjtS3i+xSRPg8Di+lfbNltqlTMLVwj/Th08pfiGvBPdIlQyFgNyMmivP4NACO0sqs7vMSvfuvsuk/Pd9WSYYHLiK26Bi4JfCF7UTJhEZ9K8A1cB1yTPmRuYRpxnAaeINd+3pmW8kYGK1eNFUBev5yOku1nHX+7hvncK/nvafSSSD0QV57kDtqcgoQSzeQ9Xpb4cpbqg8mFYUl/yf/nhgd/OUv17KErZC6jKNp58F8G9CJtBKkhVb+ZCzo51VVXc3xoamIOuKzffgE/CrrPPYW7GzxLwtoqD9phS6qY/Y4u19aRa2bPFlbQbU9ukqcK7IBxBxqLc/Vpq+pdsEAAAEZAZ6ldEL/AAADAOeSGSbcU2wBQtQuVF6Sfl7LyMMixdpkxpIzk9JrjRKwDHQBUVJDvE2TW7d+Rsj4mAxQ2rkKEHsHOXVxFI9XSfpjAWnmKL+vV6NUNoYgvPmruVvbuOaoBOrezHe2Avq6MWODUKZ6P2so7+fENTsS0rKRrrjLehSk7kaIwmTgCxkS9c352D9Ok/v87RYrVNT6Hx6NEipt3Z27sCgsMr5ZrYJekgAF8vagJjs9RxV4f5g7+Uj6qZe/kpM5Exwjs2W9QPu+xv+2YwYwav34kNOP3qv/MAYjFoNx63UdU4v0rOIRwdTXF1izWZWPXojGGIt2fUJsJWLYHDcXvXc8ckQKs/ZuhPzdq+30sZRHW49plOEAAAH3AZ6nakL/AAADAOgmc0CpGmZ9zjamoAT8TyxjeLx5MzUhqCgHAnhBYMY+qRMjYpLBAgsBkJwbK3YNW40XJG0r1E72X4PwItOdiNFjjYx+LKoV2gdfaCuxf4JS7KQqtxAoSY0KdVx427PwT1WRXS83u8khcPc3rMSWlyL1g5qyWEi/KLhugjqvb464eVNYQbLfgOknhIiiSYMz8RW7nK0HpzfGeMve8UvIQn5FvG8CFMJfZFEoE3SWnTXcV2oSf3diULxo6vRMYUadHK1uEwDbS9hw0xiJa3zNxhpP3m4gQAGW+bWc6uPR7RYaHREW1Bf/Ajre9CQmZDhwLUv6WPErFLKaCKajiBh/bUu7UzeIU9FzAb21ZkkgkqoCd3VHkoyFgFkF6io3WWGuQHNd3l1ybk0tZ8hRW6ezlSdAXQC3CWMJ8Xqt0fqxu6SkRrFa2INiwg0poxSWTDe07af+klv9SKjkfRZN2FoAut1pLSqsSagM2Avkj0tkhQXs8Z3tFYihDQ877iL1UlrPYd8TfUGSiAwzcoMXkl7oogLbEw1sSl4H1dg1oo02AHpdQ7Z8FLWOnX8zaXaQQBVVIEv7wMgI+dnrcJ8irgLzCur+c4of1X6HbrEMFhTtaFe9Yg72SkATg/8F/F5+fCTHhg7mK6Kkkj3SE+4fauMAAAUFQZqqSahBaJlMFPD//qmWAAADAMYlUJaZQATZfeN67tHA5ThZuceQDwViJxmHmtyMmfLGROpJk8LRt0MjvO2RSIGVAZZ/FrhK6FCkl3i170GVo/TtAKd4gJe8rgUSwQ8J3N/JpTH4OAncveGolfJNE9dNC/tZG99/pOPEd5sJoBBscXazD17MfnSQ8PEnEKxZ7MqH5cfdod6zOScZbk6JyjFENdPLZJqmwEVtN5w9bNn+KhGrQ9636ocn4Jk41dAJG62PLclk2jajtKe4fOoYsOVZudnKkfKqYkXFJijEkx5i8JsQ4oUGfcrKr+NcDAzPEZV3KhtJcfYnTi7uG8ckVvixEmpow6wCDv8FS8aqpiirgJhEelpN65eANADkmNHSR+rc//lToHq5k8Bu8iTgs0WLIqtVUol85oNFr42LeE1NYX54ZLv8Gg9bvQ/9w/K/AoFu1lldcBwuKhCopfAFYUkgvNK2T/rHCcejoQnTwNtpyooyOp+PrhluCOYT7rRn+TbaqSX990EJUuILlw/AKnJgPnNJBDXPmQABx6ha0YWdxpIBFjs0rrtfh5P5a225lzPj3hPVhNAKRTyQLAIqCxcElATbNaQ6WSKthjIwdvch0C6pinmpWEJQDvNkojISdNywWPcMEOQeeBMdXKzqhayElq0zccsXHi1oMtJ2tokNUUW8Z6iSA8QqLZfbEZY0XTCS2nLKsoh1ZboHr0+WrR/bDABjiX/z0Azg5gV1nKSJzw6hu2hZCI3w211tCaqtNI27ESK+OCD4jnZkQuvby3I/CycsrUgPqgpWEMEM3RHYDr0RwlXh43FzBPjQZIilg1Wr6j8lixCERFxswI5656UM155Jor+LKb0T9ZeCV03qRYd6GXqQ7FSEIQg6r1SRFTu/paoFGIN2r9Txu68Vqz42WktcXMJRHsWb5VIg6MSEyyrqRG00cgQRmF8e6O9f9HtscgWsN8zu19TznmqY6p8kSBFX5Z6B+7Z0IpDF2WfV5eIFsRVpgptgoe8XgpGNFw7mWu7qwMIDK6jOE/w/I/PkrI6PrM+o4yxRxSNDxV03S8rc6TRaCQ0r3dTrxRigN5k54zlUyvmSU2nnMRer/5mB1840b7X0sh1ZnZqY04Qf273Utwka20dmZtARJavKUPU1CG57nGXF+9zqlcOca8l62rKyAQtEVWoRNbzz9n/kWo3/933jhqvJKIhD6uTHfJ5dIg4fSAX8Q1VCw5OwEuhRFKpeQvTNknQrHrLOWgQszR42mZFnQCogGejtryubRW4ir+1vC67Vdk+HPqY2qJM5MMLSeHF3ZHx9aL8tt/+OCsdEGlERPfHgqu3wZaLgsOawPmKmssr+dvLfnuvI1pJxhTMOMOqe3yp3CKPub2BhHTDI8TPQ/sG6Sc2104y8r9wzOLriHWv3OA9BbrOoD4J/uAb557NhlU6go1CiWrAEvm9i39WtL2r6eGTgQyRq4pdkzF+e1roohI/N9ATSSRwpJcBOJ7NAkUIVyKYBHSathD7CNzHDknaPmOjCbCIi4HYyn47EuBdzbQ4gB3WuWBXTGmLMgSHwMRnw/8YL/c6ufcdIv3OM2CbJz0YrQa8NpuuGWHBc/KJECPZ906RvStphlob95AqU2Al4whBkdiyQhfcyTncn1HGMearz3Z8bCXmWhsw0UkopmFek1kI+Zm9oACPvus6PZHmGvZLN6NfkIW8GYAAAAsABnslqQv8AAAMA6Jn4AOCV9iA3OXKymV2w2jqANJzmJKiygYAYMn6q44TWzVMXuxO7YKXmQZJVsFd4hhZjdnGCmmfoF2ePACV7KUZywwdA1oi9bBOSmb8vXfCG54L6pOZhbg8H4VVY2Pp77JltzbcS0m/IvryjdVZ31tmCWGdge7Hqb5xzv96Ft8lhqP+uowMX4MOZYlsRFwO6pX87bd2vCU9prs7Waeh4j1LsvfWT8ts6maiCHBI2v07XM3ArscpcXC09V3AU3r4smLeghFFysROJxNowGm5jfobQQv7Lqhv3c4jgr1QBYR9zp66A6kIbqKn5yWnGSUm5+HORpxUeyzLQ/8VzUv7uP6jvLRVxXIdbz+efUsIXQ9ESRzeNAiIan5kkxrqK8NifI/IPVLP7fVdXAwl1lvDlA9BZMlazE7wVqSj0Za8rFK4b24ZaabIIcnC7u1bITBpwwUMMLnMpj+gJS/ES5VmECL6K3j3O5buqrlv5tG/vhfuZNM84PPwicVf5B+LJwyFqWeoZxYUN34ntLzCgvqJeBKqL5aY4nFftCZBH0rgkjW8UX9NRj6mxk97oHFFIA17D9GiLeDsQG03YLzDUqSUpE9r+bKkSWYAEr1HhllrPfOG6heUqJdS4q6rgZm6NHGcaBREwX9mJZYWzMC2WNZd0GBTTxXgishe8p+y4VnNSCIWtAqHbxAFXKdpXYBjPFghl2ST4eNGdSBQsF9e8eEeSuxYLNqLtAhddcHXq2bXVvKIPumuipo1wTROMoSbcU2AobiR4Otr1iFnpkyXtKIlIpIy33qEQQ1IqrS9YVlZy5493rYcyRs+pcLlfe7N48chrobLdau37aHGdZqaHABKsn130EtmoD8GSf29HUIEqvZ0E9E0u7AzdKNuvo+he6INoY+4xydDsIJJsJCpbhW3TmjQNAUW/gQAAAd9Bms1J4QpSZTAh//6plgAAAwDGGNF7e0v6OABq0FXhWY8UzFSJ/PYYFHt7ZyQy8bGjphCkY3Cw0UA7dRDvrNbcodXLcXlkhGLuQpb3jfdzdV7N+hCdCbUD5Z65cERxnZAVpbhVeS/1lMXMoa9z65e/FoLo2a0cDz0nk/50VzlLjcIiAI7yoIjquM2Vg3t0JRKgwH/4CwDf+MDJ0G2OWDzk5hXEPjlC9RHlqFK1vE3oKOGLVnLGhTI3KbLKlo33VQg70KvIlsBoPAqfwZwGMP6n7ZdNn0YwCQXIEfoVlrqWN/z8u4sSYvl29jq8yIQGyrU+yP8kkN+UojTBOC6dgrS2oLVsEFrs7sPny2NnHTvapaU+kFACm2wNngiialg/yNnFVrfaRPEwl2tqxJAas738lIyq0jQg5TEOcFi1NInVk0JMcYwgOnHJW7lYjf8s2fhug5Igdp/K0z31Rci+Pu5lFf/jGsaful3Ec8+30xZHa2vEXDivP/5rSInENvy1k/SqMi8NivBGw+a567jypbLSDU+rkylJlAH914xwBBPwcZqIat15gQTANPfYhRLtprRR/uby4fIQ/qEGKSOrrrYP0srMCoWEzOAtp0JOaZ8RZJQgBNqePy8AbowM4tOVQAAAAphBnutFNEwz/wAAAwFwokKtqB+wA4Nbu9wPRZaunXuUvM/6BpXKXfyfQyL0aGebq909Z9xh5sjiFzjU8eZbkUSoj9H3oIjeLg/o8xCMzHumonbcUAbFlnYZB5+Hd2NmH++kFuJciNPDnOaIqTrjFaGk0QAwhCb6wWjSWQ5fuNW33PfJjQmHlujwwRT0LdMnqOK2y0yXKslV9Ke+3P1QxSe4qGmfkTa9VT8rtPmYPDfEPVRMjD9zsLk+eOkxBWjATGFPebwtyXjpsn70PQ7EZw4k+38yzCXhiDKSa245onfbI8sdyZOKiEpFjPnksGgdXP6iCY063eK/rByEPmNZ8JscpJQIG7jCxwKzUtjIehe9HqTBaHM005f/T4vj2sf6TOwC//1fJT0IvXcOGiJ7oFCCo4e2SuViCm3P3FjzWMZ6golr0W1HnwIDiW95zJyQzrv54tT2nE1V3kSI3ZN23v95cYEMS4WqDMJSx6r23Dh8UDuSVGk4QJgL6fIVig3y7xYLMdPsJ7csv77PsVE8tPbgzuNi8hcbMYqzSousv8L6ON8Bldpma/cW87mB25GbZe0M57PM1gc3gkZeszW2M0tAfWhfIaBXsdWKtPmaP4YvXa9xwoMcLe93M3FrjKQPqm+ZdpauwHlLL+IJy+xIa6kl6YCGgAW2KBc7YP1PyNZhV4qsJ7EPE+egDjQwJtPobTWZvUUJjSr+A7i6FrVbxRRn+t2IIaOpS8bLl6R7tsv+VFN0vFVSAqFyXhf46UUdZXxyAkJ+YZ2CITJRN6viZpjvGq+4QYpxQEr6voML8rHW8sJ3Sm0d1W2Bv2m1yjtSmU9uGpQX2kWId/G8JdIj9SVNmK6J8snVwYRbi91BKyA727tQww8uQBa9AAAB5QGfDGpC/wAAAwDokxgA3u016iUze7hZBPfWRVcPlwFQG7Vcep3ZEpVQbPiGvJ8Sgp2/NT18fcU9soZxqAks5zWAYfoCnfsSW/1BrFFZsjPyYjdqyi1lCfogFF3crlgAB/y9DJ/9l0PEpthH5OWUB6f23cnDMTbs/5aIicq9ULfNAZFWRhqzmQ78uLUUwurTiGRnMcBgHPc4OCuNGa8iUiE+bGHmars444lGPfBUKaLs0e7T7acvSqmtwzJ8LJIGQWpBvL6adt7I1I45chsSYSXjQ2C/jMrekmBhnQIcs+P3RAqXnf7LvZzqXV3rZBSWXBnK1hjei1+UJlF2EUzCkZTPSaHHcRbSPDBpiQ8wkz1Mir4o+F6mesM6rgdLl/Cf19PlgNuiBXNtUZqv5TvKvoLlf5PssyEE2dd/9tw7rnVcQLNgEdk8CZjMQLijU6mgJIVLMUnh4sWTk1XwBQhnnSw6AXlu5cQepQ7nwJCPOwFFmRqXHK3bvTg5qaC7m7Hcw4oAiNjSfhGYbgbAeyMCiYccTWAtUWXfnYR2FRUOtOuVrmfHN9wuaGOyW/KQWweX7r7B4Cff4tuDUC51Zx1aDaIbWUvygqVpMehxKnOHPWNVv9OMUg0soS8nkmqB0Juu1astMNTBAAAEz0GbEEmoQWiZTAh///6plgAAAwDGF7PpckAVaXD5uGxWgfRGlS8GlcEFm9UMGvozWsu3cvbReFgI8mLXKQq7/8EOeWhFY8F/iPiWyuxKdqWJ++rPVYXXdrTnmKLCwYefivwHJzwVUhidza2cwq1b7pzFbX216Cj5DGvpvFUHNjFNtWXeh84RanwbzSgispwKm79G7dvhJkTnl7N0T5OA0Ygx+tg8GpjSaCXBhOBGswvozdESYsOfKsxni78xscqtMdlxuYO+2eIK9ZortuOYp5Zw/3dQx2wlJwSM1B1GorynQAGvImCgjYCqg6bJLtxb7WBMDpmUmp7ytnC7N46Bw7F3FPsbRz2pQkO5PH3+MPVVDJisIaVDfhwU4fwJOdhieUiC3+QmLmGVnnJSkcovX4F6uAVHsFpOUoBH3QAxj85tDhT0EFKOy03A5rKPIfvMYXow6X3xpuqcK+weZ8Z+WJRxUuPtyhOiIYwU5ehh+Vso00wwAQnsG4hCUl22Z/vRhscsDvFkMsXOUWXgtEu2+2AQweetmVI6K8jtE0nJ8j7KzPFpmTDqGul2TC2peLL1A2N0R5sSRSicUCISzdhd1YMCuQ54SIaOvbV9R/w6dwxnCykRAf8pOklwzq7tUxIZnjFcRuVPe79lHUnndYXsrAGVhy9USPA36WZVODIAJ/o1Mcvjk0tnJ1KrBpe03NTmavPAetYOTXFpHR7XVsHMBnm2MamR+mRauqGzF0q0vsr/h2kv/WZ5BK4yDCUlVvT17PjyVZsYagVsOavu1rY5+eF+0zLUzBrqdmM6X+4Zg2QvLQqpoNUp3WXmCzSTFZXD+VvijKC17Nlig3LyelbPXhtAgBhRENThhZizxB2dXvTLhYN5eYBAmmX5FIR84OMqCkBbB6F89r+kp404Gm43yOqWyCYvQREp+H+wi46Ko0uF1efu/vPH93TrPr+DGZjKC0lB7Tz1hG79nC2fmWcuZe7d/WLMB88u4emUREndT10cLjbBCGoXrVAkiL1awosznpi8GM80XtTMta1gA8uHstjk+KlbxJn/VFEPR4ekYtAlw5FoEHKN5wfRdX/as9G0yarz+EJJLL9KxoDx5CKVsMCx0aY/Vczz4zulDuFw2m00J676eSEh2sONwTXO0F33khKQEsPuoSt7W9AZnYWo8sBE1yWEOtRQXHJqFh6mApX16oCE1Z89Qt/SLI+Klmysvpf/C5hr2uGJZHvvPoiaF5hdaXlWL/p0/lj3UxEwkk/spPgISfFL5pV0SW/wJqnCXSy+zfVMmoNzPE+gvCtiVDhf/fD8TnYP5dufjjOxW42b5n8W628pr2FTeCuTbI3rdRfGDcpxdibWzUv/MBgeJ03a99gCOLoJ8xmRppo7a0xB4an9rh2tQ4xezC/snt2zVJfBBdM86nLD816BdZjFhtBxQEGMdoFrSuzIMC7sqYred5RGI0b2iCS0ykB8vCTmF+ttvA8quBWW8Nxe5oI2I0Vn7A/Q8jr9BxiD52C9x5jjcbk8ObeJmj7wpRLpgllbegPUXDMS5Q7yZUYPvXI0I5uKw4NviQiopt2e6poJIIrcwlfzK68WKai35bB5ng8wHtbn+1qlJ1B5cuCz8WTvGG6+yZf46nik3H932SJ7T4kAAAPbQZ8uRREsM/8AAAMBdKap2tkQXAARkb4TFeWS1Bz0fFFqCK/gx3/QgTRIqrMx6tZvgNe5MHp3nKI3CZHJ7WBgKhkG3thh9Or3f+at1GKgtNsiB/3hmip5Xyq70BFNSH1SazzMtmU4jR36ZUCm7QCXGXesuYraavKC3hlsbWIgxI5inxosqwp6hGqqTvRZUtUwYjCBa0V4I6cxhkExZbbSpAneksFNlFF/wqRYrzBz2Xn+0g1YQ88vVUZfb3pfhjG6OMTC/ZA1t1O+0GIuagAEjlvqZOmDcjl64SVmsP5kO9T6MicHHEAVbJHOVH+bBOzhUw7Hy38gjcUg7H9FGlSB55s3gTsqFEy6oJLNRekNjdXKpPCc5qXcYBqqiCSJGC+I6MzII8Hq6/SVd6GaOua7wt3K3RExNlA3uXDQRP79wMJCod6VtJd1kYgaF4qHExWlNSRHILz8XqnsMAbg+TMDgknMZnjwZ31o66gMKO9U55KUhTRTwVbrm3mrpZr0eBlYySpXDjdQI5rCxPLT+lGK4hN/NmVLSkKoORKT1f7H3CKQbbYiTBVlAPVIKF6unlwOTrpvNK1uS1m+HXePmLzQ8L02cmmgkV001ttAszu5cKjnjfJikkQFH45TQEYVHIk4pasbtWdJl/0iVfr1APHRpW1zubJFwJzaFC+aTjkNcpjaFCuQrAbiC6s0hYejwxklkVT2QzvpCYP7jtw/GHhWyWvydpC73078G7SR23uKYJ1gAjuAtecc8ogfJogdt9Bzy8+jwYoieUcrdJ/Pb4536yVQpISZUQYLjdwPTjD/HyMCnLJLond1nw9+Id6B3DhG+n8y1g8ZteHWwucExZdEctJGo6BAg/QnAZF1jU9AeobZAFYlgIf1//+Pugjj24FZRfo6c7r+pHOvd3TLhveQXTwfRsNsl4EkXY1zRrLv4cA01+YisiBGFiWoniVJ7T536zcxmDLKIkANJAyrPTPIS52v2SAuiZ6pRFnbQjF2qvkKo0EuvGUT9+a5feyWQI6lb/CkCmyfhtAABgkgSxogOu9GBMac2MaOBZKPlRmAS1nosq/D6jthZJVMQwzD2qxwBAWYOI9yaSRlq0eMnbZbWFv3BnJRSqAFmNIed3dU8RZj/Bh+QWXZG+Yc0zWAV2zbGluQNQKVVOmYw8x6tP/r1NhXE/POL+8jV3CD3JBII84rYVCzA5WOVV7p1czqThfo4G9l1VabDAObSb0tpyMjJZUt/kvXC7Gps+HGzEVi//xiTNLrjUfQL68x0++mA7mDc35WjpGDefG/YIPOY3H6gaCjpxI/CEpA9eUdAAACmAGfT2pC/wAAAwDn+6Lcw6AFI1GZ4oNVhHkTcvznUJwU78TW5dPwVHH2qS3WSQotFHWyHUA506ZtqOSkDdRneXvkPN9tkgnRXsqhPYtrCLYtINoaYmGzFOucq73G/nfwaV9ChKi8OtvN24GAXHqyMLIAav5Z3CCp/F7Vmz5jGlDnPw4Yq3PjeUuHzZC6lvieG3hyoR4bbxmNWqXAEbIQpW5V38P4J6vrxxk1vt3g3b/Q9WYznWfxSosW99iuLA2fC7XJO/VL25jEUo3PgCiwxKGsVAbyZxyLa637PrdNVHSHaC4gDml+rY+E2Yh65BVbZA8PN8hWiwxHcu/vnjPknXhwe7mssDGe9JB4y7/KxrOLQk1lqNK8bVKYLC5yM7UQ5VxmkNC380W6on5JcQwCZXOs+IIEp3P0It1DuyV2HFRdUgAGeaIeYMIxRollegcUgDSiLbIBdTWLIoxmw2PHwrbUV+xMFFVimuy50h4regXqoEM1lOkJ1MHqiWqE6uqiMbetqGYG3Xydq14/yHP9174QhEqzK5+WMR2aL++ygxJcROGNYmnaInyWMQvenTAqxhOBP+bi3ChzbS5Kcs3EQIlHlSVkusvNkY0AuNjBGcORnGl6z6YOm/hwwOguTgjeREiC0KTDHIHpkKfgAnbbVD/V0zXCFlaabdQ1uznxeCzCLT3JrbOc90ukroUzuhQfawipHDq0vD3tc7cBlk8z0vAj+9YV4M7JCjoBWNC0pWF5x3skobzFZcX8cbe62o7MkDlSye+SXNkWAJmLWW0YZtI3ZpO31ICaz535w3PAqCPFK96tv5rXOJSroyZgXvMv08f7NqWbhHot9kqxFNQvEHXdjquYgkpGIqavR41hhV+AzspzMvTgadAAAAS2QZtSSahBbJlMFEw7//6plgAAAwDAJ4URHcgEf6krCR+QrLAq+FhdVu5tjdhTqqchQOPM4BZCrVUU5PfZ4p0BuE8yENZwyz4VL0P+i/Er3w6hWWzyIDQr3zhRW/tgHACmwSZb9h6+jZa9vok0URaAIyGoGa96qnc4z2hKkAOIgGe8KrtV/D2Jn84MB5RcYVBpC7RqXLlcfm1ie3ZAPK7TE7jTp5o4UFbNReXHwTssKVL6PfHcvhZRrXYxqToe53KCh8I0qGUOgkFvNtNnOJCN9U3NLOQR2t+TgnYLWBi4cG+HYvOCjoHRSRqEitCVRkidREdKezdoZGfR9aDhcWRs/Ib/qcy9IwoPmG1W4sxv1MnAkieB3FXSCTVAun6xF3yEFRVO/YMbwjMHSBspBv91l07YXHQXdT729qGchscUM/lYELLrsS8nfSOFCJCdgSUcIb+ZYefS+oiSVXBGDMyHWo94BSaKtpY0U8khvioTurDkSacb5kQtxxa7xHZ9aava0vk641b4/3BMuiyRq4Nt7Xn/RbFWb75FO4PhoVHx8YS9aXbxyXGlPIrV3ISNcHP4Vwu9GRwQEfEh1py2iVuN1/mO9NZi/B4OGD0FJMu9yGDldLzVc71byQX4A8K0gr3JhgWoY4odimUj8I7RujYdgO+s+A0ojmjVKPgTeiBQR2Y+8kmC8pPcsGHwJ2zAlCvGJjyKJYRreTjoi6YUYKbqSPsUsdvdskntdA3x88CcMZsfbaakWCIARLxnzRJo4EMINgT4Lqc4aO/+luR2sd67RfGReXIMq5wtW0pjZ7lviJb5f29tf9SlnL9wkZ7IMw5THGMXyHg+SLHlwnyaNkelVwu3Xhs7UKn0PsvTc+uTNPdYBFDApgMmqCYvKLf28reJZRdVcpx6lhuz0OHAMTNtSbgXgdAUFRsDDfDY6222v5xQxjl17Si3o6i2LZZgHN4hlXppXLn7YpFED+wVBbUTrx2lbcxK6r8MR9y+FObBzbFRXJ6CcRkPq5xMeWnQ60FFdXK077r4eqzv8fQ+2wwwTPT8KB0MoO3PKaoF/Ci/B0XGGA5aJaPzn8gQyCkcCqyOk9Vf7Jxd6e6NSRdFUAtZ97if2FQ+Ays7uTd0iEQQysUlYbnanFZCK+5F7WV4QVdzNCxbgMkwOO/7tCjK4mupLW34NN/1t9Y7CoBOQX5qrn8hMG/Bri+EdzYmvPpdiczVqPkmZc1Vt8K+06X5QSjQ2bimGYf9Tes3gZFX142QbHqHh+vElZKNVd+B6MO4CHStQ9luiyCSFf+ylSd4lF3IglWekkT1wRk3muUaueCOGL3OwrW9y5QVcbsw10YjSbt4OiNf9alGXCQBS6BGNoIbKOAY8oaCHROsSA/Rkm7acOD3VxrebIwUo5yGqC2wLxgOXoDv7GLPTEsdLuGSttwJljjkcPOSM3cdKZ0g7MF3D1AZpkd25YRMssKlZ89xbid4yxzyzJz4iOYxxcfc/vqv1eR6Ce0FEuBQNJE2tngv5j8iqU9V0puE05dUUTQH0fVXhWhNClYLrP8wMUr5kVXIULukyCfahEik7nNVFJTNYS8+lBpZ1dvSGAc8ljPdttsZ4eu2CJ0oAAACZgGfcWpC/wAAAwHxiMHrofU8BNAAnbigfCdqI18MHte2kklJRo4ALAdPbWPhKnA6ccpawGVfK0wkMwr6BgHNKYXaLySRzQPzwFXu+D+OCLawODyn4PQdz+ztuH69kcBV0i788EuqAdZxoYXrdLphxKQhjJEXvzLyCW+tAulECBLN/odU5B0uVb1xZe6VFpgjTngcW/90LAiuhLMUbBKgbEvbH2E0Abd1E2NvmCwZcDjR2Maj06jvvfpaZpPJ7PzF/3b78IhAUM1PDlT1Xc1+zSxSdbURTmF0FP2z5vOTTmdkhxiGCiKGGWSkeoUPG+55uUcdReyKt4N3O6GCMnCoMEe5BlqGwfM5oyorqXlh/adHcSlitgKV3AngIjwkfY25GD6ioDUOcj1BjAXt+8loe4uR5lQ0jwYWUGgUhUBY0cG2CrocTU27AVatOkKPjRo6CnvFP8rNRtBmz7CcmY0p9v7dOsGP2Y5insCqFSy/cMlBR/b0Pt44kK8WPbmpidZNu9/dBnW0Vif7Y6k0N0lOyOrl0+yiohNZUS7ZA9Vs1aaezoe2YRr4GFdP5uf6ltz9U3YQxnLnErZYCs4xPwWs0kRnRZG8kqtxOr9+/vksgE7pjlRkX8o8r4urlIRkPHPzVMCWVkQwc6aHsmdAjiWK7Hz4vkGWlL8rjBQWJ5KCHKKerJpOQc88gCldbJcJ/3jPqWm5cEDU1q8qQoCj387a4pF05jAlG9vpYSZwxAqk6RxIJiWrChxoeqvAyD1kTL//VgoFnltHwHdTIz1lzZJ0P+w3CWSIHYNiYB/jEAZkqiQZQWdEydUvAAABzEGbc0nhClJlMCH//qmWAAADAMVjY2AGx4vHefR92thWfPzd6eSx6BbtRAtKznVHyx9fp70krjSi2cXDdHL4x1ubeehGNR/ps+KGnZF6uGJKaBGW/Cp1N+APPjn8Oi0i6QLl8d1On46fzUd161KtZvsWmo8BLZw/f9GrIU9Ee+PrYdUX153dLOD5RVXjrxKMFvmcObuQVOaxURCAN8+QuVInNI3dJlWRQKMu+ItQeR8J/8Pa1rfR2vOuOd1Z5mk4Zgwek3Wzt2TkUpbfzrhmQx1cPTqpL/3qUKF85VFDU0fDRNILG2QES4LazzcOjYbcLcPcPHGZ7sTIAol2s1TDOtRaR/Ku2OsKKamlqis4b73L9E7hYZMaSL1gIZ7DQ9UQOx4TlCLH1G/vHJg3bTY0FSOk7s3piSsKQqzybMLAAu9kg1dUmr+bvOToESCupVdq64G91rMTqPhsqo0ZcGFA2OVLJ/+FjGDI/lsjdukcltSvm7B7iuhByGjJO1IL2pliWX412YCyUuNIwLxcemcg1iQ3ABhTVxQ48cebtvjBUP5xLHD/+QQxXqK0EZZwRQAFfa8ISpMu1G7OWMYlwq5kH4SSTBmjoYV14aB2jwgAAASOQZuWSeEOiZTAh3/+qZYAAAMAxmz/ivgYywAf0d63e6vFSRg7IZHrWm6aiHSEcKgfbrs9apU5GzWa/A8RdffNnwd6Z7olsYGHefnBxx3SZJ5CEESbzzWvm4aFqaHn/rhW/QkMhE+jlv1fO8cvYhdpHe3oYeGAXhwjuM6Rpc2PGxFtl2kvbx7Jhr7kmYzo9eGQlA+nS38EA3WHjpQE058uckvvu9v/YzZkqGRKlk7Q/Ko/m9lIDP7LOyJ35oHZuUEV6p7C2iM/0HQUHoKp6IhaSWw4BJM7+OzJDQd0U9WLIzSmAgvwVcpg0hxfpw75Wz4B88GtJx9cZSA+E14uWgxsjmnMSgWTKlWIUzJF5AeO6WnZ/BzZpg39jDbF/TAqdv9o6fGwSHI1DuIU9wipKZTcCrNHvpqLPwoUNbZVzraNrPgctY2++lmncsNvOkyXkbyeFe0sh/8ukOgM/iKXEzjbuLo5sMwXCDKbN6VVokQ7DeJM4IbxGi8HDQiCI9M4YoX78lQ4Gtf/pkdoC/THwiTxjv/F2pjpU58I8ZRzfi1VdWEBmwgexnmDaUt9hn7GxhVI/UCQKGcaj91eUZ4uJ/g9kczlBaDZNlUbvXgaqVNcFoeQweuEPvXawG9f/y/vs/6BJMpFhQRzrMpDZJJPxXore8KIxgw88+MGpuKjqwIf4QywDoxk9aS/+bObmaWabbDjngmSG7feKAuQE8LBtRJd313cxelOTZe8riv93DYxfHQc+qa+QE6BCTk1bv91Ip83Wa6/+OveI5UzBSCmmAcdH0KnPNUk0U9KQQ4f+j+DykCW++OXsXQ0OTDAA/UmUVukTe1apRe5VdWLeZH6ZAk2JXLwOfhlI0H5ZeqB52yi8No1nvRzDjiR23yhc7c4ROYuwjkdFi+83ugKb2MgLRe9+EeVnlY0+rB4mgBsGqNqV+32Q+jQ7ByZk+0mAi9YinOVsT0itdH89M5wZmizBhKTgFInyOHUreMp89mVGwS1FyA3gsEvNl+tq1+leubzOxqqhG24dk53xP8mWfG9mCRmWPMZvinTFulTlOUbSoeqf5Pa7eP5cSrsGCmJscSFOORGxF0Lb0GgGhjImVK+k5GTMrpH21KyE3LFFvXWDPkz0I86niVC9JxetZogUPnBc+SeYqXxEJAF6fVfcI45yy1bsmeIpXHbSS7dJYOLTsWkESQva3nGZmWLNXpENJzoDRl2Qlu6fPKRZedxR8KbnNfHbSQTDyZXXVtxO+adUOaPNt7YFXOGG3w0Wx+RMX+Qkvk8B/SmvNhxZqtlWPBMpJv2DYez3ZdHysfds68rqVhncVK26ENs+YDcQK2GV7mEQE2S6z2dTZgJaAlXUCZ9wFN5tHj67ldgUtwfGZ8NuDvsihmTjtrpj3ax/zIK9D51DqfBeYAseV6ePI6hciyzc06Y/MtScPsvO7iFXxy4HhLIHkaWdMhlhnOLhGW5/imaCq5tiE/6gDEZ2zQg5+YoCJpiNnDLZZX8LvttbO0IQfXnBe0W5UwNf/wc1Ws6RAWqD8hsQ/XxrDJ1YpMcDhnYMiAAAAR/QZ+0RRE8M/8AAAMBdJW3PRmFKhbWAFlVcTSiwnn3kLWyZEiP3hgK2EK5xOhkDz0tS3Icflr1sdQAIMYjsNDldPALIUVQAYRV3tEkbCKbfmAhz4fv8fQMAtYlqc0ny/+NRNAoLFcT+uu05ZKJuS/8X/XhbeRJyh8fdKCI0zxGMRLwFHe5qW9fCwGWyCV/CN/1DMsCwpWGEn0kSaLGxCmK4pGY9NxwSBns0ms+/6mqabeIndWXzQC5+OEaxmcZW8xXvOi8l+807uSD337vNbUVxzIIJ6kGyIxy4Hki6MoKPksLtUiIapj94twNCLYaGHocE12DNYPwuNG+jlNYKB3AXY6HNuYqEAvxBQBQ8hJ3inbHo2oljxTFMl1JVJUOze/G8aJPEpPy4NF+4UpcA0EJYEDLOVOhIXtk6joX8x8YN6gY5JyZ1MYP5fwaQzhJF3Hd7NyMpFwKsIJR9pTHjgNolo21m/Uiv9mTBu5EWPbo/2hEvFoqFkcXiPtAkYmsrmMAEyGB0gL8xJqJFY+aWWLjZoXUVkzP0lazslunZ7Q5gJwikBvJHhJ4f3NDwWNHtGZ3JJ8S7/gLEBjHZBbIkIVgYVreyiJB7Vnmv2DMWW3v2nmIPwJJPLFzRUODYKaGWMzznb9HYDIM5+UdLg9PxOCoFqAZu6bxSXy64802/bFeAEEPyB5reijBG7VV2bBEd++cFCxvWDavxEL7i3jNsFD0hq11MrOPTC39GQBTK4uLgbaKkoXYvCAcoCHRZhjrgPoHtiFRSiBTOgAFVrdwgi+gwKHPoguQly6NaIdPV9t+Ykuib4QCrl3qVN3/gfWSDPA+VYjaI+EUinwi0urfEe32GH5dCu5/5BOpAvx0sUIAl/b9PzCn+xN6RJ11DLNqN4Mxv1ppjgCConKbC8q32gtlMTloOa0YXYG6TxOqiMwqwY4kYwzS140TwDWr01phMgkBnuLbljqRn7gGnVAYHi0AOQhZ31ujEbQEoRzROEceuCu9cv18KAnluN6KqYj8nEv41gnD1NFgNLqgVFYChRjmwNfeCAAAB/+Z+lRVJd+jbMDlMPOhu9s49jgAM4y5KPRrWXoYKSEfFyL9xhx7wdBjLWSbOyAn/WySVXwSyhHOFTPf5NXv+YAbrupSbQD0RhfdXyF/70nuO4KoVLkPJIdOFLogAd9Af5ug9hjecBaE4gJen8YBcKUnUky7ksub9Bf614ibFdcgupMK+JsqkTxMmJTJ7uTdrzq2iKEdqcs7VfwiDtTKz4Och6CqunKwTalUftTfzvfhetbJrcMohabgSFhePCKZB5Ws3mpSpzuPsDS9SCvaUqgU6Lz6AIPgYp6oWqo09E0/0BY13VjVWlMG8lQFmNPd+ugDqp5I2Z9j0EemL11FJqTQiDIf1Mw0FtX+ExL4EkaB7JAbiASdCSNU7djyPNqb4q11GjwjLvbPEeot5ePJPITOduJwzM4gfLKx9uAVJdBkZE5O2laEU0oMTJdRBHq6R43AAAXpUz1K0ibH0iR7Pv+P0ccu6iEaJYEAAAQ4AZ/VakL/AAADAOUX4ah5EJR90pmQASyv7meO1GiSlCHW/jOWSvxYEvdkeQ+PCaDSMHqCyK8O32KNnqUTlE+ePzzvqGQ+1jB5zIfmORfOmN5fYgmNvZi0nzJRQAbgZfh8IN/npQSYeiyMH8OPnUjLYjcmNPGHHthGuHMjMb1mdX5GDOJ1G1hoQTwia0gDeqGmqSvDWBtBGYUB4orPZ/2einJqIQ4b+Bn6AvuNRThp/BJM14A6tDOTRmSvtLE9/eOhyYE9g+Jthm6wpzmCDbJiOJew/vB6xYclqK/CWzGgdmCO5F9dKYR4lN69ZlHdxNvtXetWVoWgvxlTjgIEdzyfinmq64cOsAvMEh3IDN0OApWfgir3K+ck0hUfEfUCzsdR7Eu6EqrHE0FyD3GIQTpqXwN1FDxMCXgQfoJJJfqH+NFRPrJaDWCLYMY2CTIVWNldY2NWcs7ZgjG7CxklfuiT1G31wEyXs1Z6n3a2kY7WMbBNkk9egQf1FeoH1WA2P6AhHzLJBtfTiMNpBpZM4uh1/fcS6b4A194K8fDf3nO8BpZKCzpEdKGa2kIuXCOXZWhg3pzAa4KR83WFMg9b5fbzOrepMXhDMyY4JSAu25ZeO3+jYaF8PsguI6rILlyVOIupyiDQjDDnGPVTsebOb997eMq92P/Skbe+VeMAKLb7aE6aEHL3pCbGRp7F5/Ds8Zrj+VSeqSBGj6vbaislnquglIb7cLwFX4SkQA3LcHn5SxS3vH/xg1KK+8lLxYUCEn2c9JyrbaO+0jqGiLpUIKGcmbJNE2KHzxHOZeaKK7tbarizeM2rtb3K3ndKkjh/2ml9e99mEtrvToiYHnSJ42CBWl3hY4209ZBhjNLXG3YaEvNnnepMR0dGNdedW1M31Vfpw2NbfaLksfX16tQJbzP5lYP2vInIwaOD9VmtcCnpK0M8PngDeoSIxhYnOK8byTc8dEAAbDeuroi5DvEfiKHICacuDX6nM8GHvxHMZ/VPLD99O6ryzV2DIYgH5IAXuKeiCZ5nPKcSnrPPeRpXn8LBMV5T3vziatUvLuuVbwy2IKRlBrth8TQ8FEM5UHJAdpGXizbO1eh03q1pbQmTO/fbz/qBQlLBa7bNJ0qb/8PZ0Uu4dxDuJdyYAj/hvf5wLjR9/iETOlLfCJbkRN3KMRQUGkh/wW8xKPTa6zp747EJfi3SA5AVff566rGilrJcEJlhWryIvkekYgASEXXXzTRvrEizVdauAjyhEJc3e7tVIzD5OOQp6S+WUiTar0yOLxoyjK26b13bL/l6PtL2HupUOKSDF6y3i/hUDp0O+q4uwNAyPzBw/ebYo3ENTNmijLF78hIweSn5IpR2xH+2MSG4+81T5B9bJPbb5skhBqewtLHyz0KZuYprvMu2MYEPfSRP7glDVedvBXNzXBFHNuxB4s7KiXM+uFOOAAADHEGb10moQWiZTAh///6plgAAAwDFuftzeAC7L5cvwBj907ngK2/CY2e7V4R3PddJKJp7dtDgH8lJUgUYiSFYsaJJeaPQnIP7YEnsZ5DMDPwbwwY3JINP3+KXgJNnvi68R66MFHGwhNSsjT5zmPbWLPz9YMqvWi6Ew0TJVPnI48kgTPYi+BprPxruM/LL0T3+M4kNMYOwlu7GCKfJBJ/LQWliynxw65KvFGLV9GruP/XHIQHrdPKzeKwC77uhEqFWLuZ2x+wFcosdAXqPt17gB78VcERsMLzffa0huWnzEQKS+CV0qg5S+8OH0fVGQgqB/j1EYh0ylvPmUMXaSlntBSW2GJjnfla/C4Ev/kRIdI9ltQwPEt1kg+qwlSm8I36m9u4hkvbqEplZaxS2IDvYJF9CgoZEOEL6cV5c/0ShysW9wSStehPDZ051ELyOmC2RD7rqtBe3N/mopoDzqbAcLoIAcBtp+qQ6EpqHKcW/MKT1nY+vKM7GWJtXV/aizXtn83BkVRtlGIZl6tYUueKDE4O3BieZcWBPw7h4hrBaWm/6XDKt8BukK2qd6SFQ1Yj87/vXzDJm5U4LRO1ZSABhS4FO266ZhthUpEt97mP3FqAM4pqdrU0uWBB90XKb4DzK9+EwwI4zxLucwMqZ9uqNQTJPbhxW2ZCWkD++Kes+HLh0+GGd4kYyIe0POqCGewawE1nR91m+0yvgz9132UMr8A/XSm7tcd+QLNwjrW0UnmHx+oio+0O4BQdZr3YPlzbqtgJHJjLSWLtIJGPfPu4Wpl0996PJpuo8ztNRMw67N2UYpaSR0qO804tx1MDbJTaKsQ/fbxWTF/fQ4tZTYFIpCKEPsZ6ISXtnX4ZZku1jvtCSEt/cIwGassnmgZpdwOXG/RiYi3S2qAGZvbflPeCsjM98NM8nMKEMsO5cyvIrmROyFkhXu6FR4i8VNKjnTe5i8HB9yyIowBW0vSJjFpVcwtuknrT6elWoTtbOvIAkum6VpNSIWVgU35wPYD3k+xRrxHZw4Tjo7PFb0bKj+lw64ecnhhnupvfNxVouioUAAAPDQZv5SeEKUmUwURLDv/6plgAAAwDFY67QARB2yoNaB6f4LL2PuDJm3ViuIyc+JZ3BkIvrEt0tr9G80Proa7ewREfv+xcKbpuNKW944CF02c5aG4VXC9mSaHkRbw9E/ie2HCinu4moJ8shgL/9r4ezEfnG3plppZiYCi29CHLGL4YjJdK6pzB1mFJUYM6vP6DwDaxpVkdL4Ny7MfwYWgmxNO1MmCy53SZzapu7Xe3yBX+WzwCR4yaeJeIQaa6Rwf+I5J5BjC0s7NnNqSSy4PN6YG+d8PVzfnbo7N2kgKKPJC6EimyIXB/AuA/55lFA2C20ERHHykg7IZ77wptajKk+fHqHSLxRg+k9PXZ9pCxFxJ7GR8OOC6hLWhSMJVlGTq/YbwAuMizbBIx6l0fOvmQH/JMPZszmY+TTRxelDKG17YGMYSdA4ILelYNhzjvOIfiL1VVl8M7/K/wuyGez3rmVEoeWYXDGB+lFFl4SkIpu2F+709ca0UgWqG2e6NU2KOQnAyP5vhHyNAHT2Bdevx7H397f5B2JUKtuRGxzmwwq+ZqeRBhmrX0a+miLwexpazhH1/cpuFYUkRlovQP62eRtYa4fFwPsG/PzZGHXX3ZYVU5DURGsDlLD7CWTL57/xDqWHrzpfBvjmGj2YYp2N01dvShvqXl2RMcdfflTd7Qv1d4S/jloQoymz4b+nt1Uw3RA10m6ef8RcdZsN7aNrEy+93R2xM5BAovDdWmXIzRNP35SRYS68384SHVjc2OzyiIwAqRv6CTrNUoMkgdE0nE7PcW7RWNHwTm6Y31wxW84LUyhwA1G6D1udSJ10ngzFaUKaelfLGDLUR0GLmPD4byRf8cVfv8EZmuVwUYz+x4sjWiko55uKG4UPOEmZAUgFbzCDULnqKI3rgMAHIlKoLo7dkB1pdryZfUBX6U5+9Azggy+W9z0fguVzJcoygd/KwYOIZczIfXo1083FaJhk8mP0NOVD/6iVpoygJMIVWRb7DbrRn9JSWo9UB6xKa/879KR41ye9twjdEw+H8pdWH8sccDG/njz5w1lkDcplOGj4jlMdmuDk739rWEsVIdFOdR+q0sf5RapI92ojZjI88duP0x/FkJ959OxgClVWiniK6jTcKHnALqHolYqcomZ9mow9Lhxg299NqKAGiT5rmI9V5XamdB1TOejm9fIduWDuOGeu455enjJ74b9NN3q8xGR4wYmZSnl7fktkbVp3auY/JEDsTrERAVvCismYqluT5/kfNnrDYrc15YCpi4nRYUf0dyjAAACsgGeGGpC/wAAAwDlBRY2m436PfkAEs0rFCTONSFlTxKqEzE2jJgEkPUMTegeoIgSW4vGDMzisAbTzWIg14dlViyV39c0/lfOSPXeyQvoXvy/shnXUmG4AYZeKRN+EW9EgmfCf8qqSR4Ccg1KBYgJ7RKXtkIA3X79T4lHqeQDHQeq38qCkoQDQFoF/fz8YBgGfD0SjXxndgIKczPcGmjvkbRpw473IUNVfY+HaLRToy88kyRLaYbRAFUij9Mqr8nWku2n2l6VsOQal1cbVGspwZ05nwgxdJatMLeY6x4sFX+AHCJEaCE74mzhQRCqzvmSY+ZJltKJoqAR7vKHAsdszFKxmMcET9RQtQbTURhocjFE8Q+Qn+VBZCc9AQzsV/nnZs5Hyc2vpynQ5PWcliW2AULqOAlq5cSfCjOjD6cbeDwdOuH9+pEBR9u6Eq0XWoGpyZB7zIlnrxgPjGKtrx8aCXZ1P2jqHdp9azs83xUj0t32vDzoQPRQeVAlLVLhvPlfs069iNNumCPUNzcNnKcZ0G726epj5jFutkC4nPKVHzyDEYs5mkD364aam2JEV3q5W6ljrjQWiJrZRmZi3Y82JIm4rL9hCA7966kBZP0uAOFjYA6yoUc/j7AKEJ2HSLGQUk9TRmMk8CODmCQ3Mzob5NFJ01BwSm6YsYGS+8vcf4t3gvXzEthfvVSenynt+077k1ZNSXWKQqyg98FwMCwkBw25tiuDqXBwxBBLszftG/aLpPkcrNNCowXeFcLG6kSzdXkvloUTjPJNXsMMdrTd/TNZeuDfhaLJQ15ncLomop9OtAJ/RxCiRmfv5IU9myf8LMR9/APFDIjgyhdFeuMLsyvNPwJ+9t1G/oxA6/mtFAT8zsqAnAXvStzRv8/VsCzDqTAuJZNnPsy6KRrfFNRkEBBJWAAABepBmhtJ4Q6JlMFEw7/+qZYAAAMAxgrUK+gCByt/DusrRYBGXKLPAttMg+Z4j/NUNSxtYiWN5HOz5R1zLt4E60aTDzCOjpOAWAYnWRLXhmVNqz+OQdgpJyXzPivXvhi0o8L3JOlJ+HpOrtz4URFnRu/KjBSLGnRmsH9Gvk5jWzrNU6cc232vVv4HGMKLcWHPajH2fzr/qmiLZ8BGi49OZvTBhO17ncunYDLsHd4si7S+HWogoswnOzJ/LTlYuxVZyIJX5wrMYElxCdNltAXmapD/xk0mdr3poiBN1g/C6/P5Er7n+6bAylv2HNY5XMsMYEpVLpf49HCLWgSpeIydWgKYhOpPZSPJtZGF0Ssp08Zbso8zD9sKzAQLjiFYMQvkMcBnNKuW4d6eQTxOY8nAevuofIRZCe0hmOpfa+uTvF9jWXVIlujMLMpXMdxDAG1GdpCHW5mLhwbuYCbZ/5CWZbSvF3DCmXb3AfKy02UINQfs0bdKlVJFdCSMs/smJWkjjlJZEWlOGPt8HRXicki8pQiv1gdg4gtPSq6UZBALvxpphh20qn50j03Ikyqjj/Ok0AVeyvlwwcRcXuHi7bLeJGSXZFW1+RnzEt4pu6hzg4RMnPCiAmdK8/RxkBlQbRVrM7jJj2N2jRoJ3C93jS0jF3XTEryAOSlvVo3eB/DzSAEHaz8EiUhNtI3lrEKy3OHFN3IEgez50jlDODlxif6Q3j61UZjMlot7g4IDDsrap80ZNxj0ouVIO5Ispkoj+p4S8TwcLwg1/N0tt+K9MK+muMv/+q+yDSLLQGSxFc4bVELCh8xhkbeV/mnXg1q+jzQ4ra38hnRHANWz2wzjioxO5VrSmqZ5bBgx8/MIoJzuwhdtXdfOVBaHAKW8ZkRduqsJAx9bxzs384NUtET5XgfyyhDz1/kiiHysiVagfbjUUwy2gnWp/id6Cxp+rUFqX1PqoEUH5E+CMF/ntUjydGCgWuGZ0Rk21LeP1nNM4u9yD54I2bEKhj/UN8hnzGuXKRYqLakgDjOlGzcBV7RlRaORuDE2Mp+L3oQCmaemTrxyR7Xp+k2kceu4iT32sQQbFRk3cZvTOJ+DcEcVgCh1FQCyFdYV9W/zNIYkMamOPxSCuF1SZ8BnavVDc4kTcY4egeZGJBX52u5qCJH/B1IZxI1jUxsB1RZ7QOknrgmAfiBJtokDCfgi9XHawx4vdlTThzof09x1SNeIPj1y+u4ctD755wroTSWl6LIJkwW9OwsauR66n3eFIgDTzbt7a56lPL8pbIYLIxOgDfdX18v/QiD2Tkok1XSF8AYZ4EFcf+rgQYPukVuRUIYlygt1EOJ40TANdResb+ZYAxGFMz7v6LdEV2ycN/4oZtZKobxdSX0U+b9ybtI4Le9Rm/2YAAa7hjrxGU6Ej9Qv6Gm8EDP/iET1JjtaE6TkkQF6/YotqtPI8x4o6kunY6J9xLc5Ir/60EjT3P9Y360wuHxZY4OLr/6SN1LUJGyo68Sx2ohLCFSEyQOH9gZYyqZftL9azWAux/2RoNULwsxUsehtdwosbikCHdzuI0HHfDVdqgqeq7/If5oJomZak3Z2Ti9qz+lKbz1ChJO9FmMJFETFwHCpv9AGzQcJuJ05HhoweCTpa9T0n1P1M5KZWoHbBUBAgJFHkd4hjlnnuZ6AnK627EDeupuycEGrip0MU5px43nzrNccR9MUcirDQucCnQyEgAKXKbprVrC/CUAj2AFPzM0m6V0BsxYSJQXqb3VBdZIi7AA1fHSmgPq3TZc7NfbeS6aa3jFmuRisUBvr/adDmhmjNpZKXwb9cewy7NW15jjsSYVdyBmj6LvR/ON5SFx62LbYmaQbr9xME4OeEuOrH3Dz7vGyaULcLTxKOJKXdtNFgJ2uRCY3f3FWaMmsGfegP90T+qnKUh5lKl5oqjQgwBQlStBPdP/d/fz8GXMgOMHKTxkni5VUj8L/jXCDRznfrPvJTvJtEJDVYrwMJAf9pRzWj378oT3jGaI33gxjhuURywAAA+UBnjpqQv8AAAMA57HR9/ABYfGvT6d9n+wMJ5zjfxl8Yp3bLvXpIliPgH8X0SMQI9n+LrAGewnVb5ay44D+pquJkth0hg/cfJ/ETsTdxTtrrlkB9Wmp+MVoeyEZG0r1PmwE6gqCxjvLrudoNbnUMkfxyBuYl4gCPkSqTEjGGquLgKYdos/y1hd3h7NPjEwjWT407+bX82+MCgjufwyxdUi5sl3ZvVXJe1gC7yrQiJpnyPe0I9faMEe7qooq0Ge+BjsQMiO+aJ4tu88dr0hAn+RlXvz6VjbCbS2nz3IxPgvU/P0B1tro42V8iA1NsJw7PoYw0zuK5CYiIO8Hilq0MJlatQepMFM0rq5S+dZsDju9JSaRMghsSC2cMvF8USE/VpasWMtx6ph8oYekL5BuT7G6akUx7WBEyjNHjbJVJirJfbTqueJKRS5NzEIpeJggKY4MPHX+Rbi5/I3s3NUDJRgf3KXzfcyFQ1+QLN4Mzkklkrwrai0gpuK0mU5bW9S2hDuWAGZ7VVdu76E4mOYZhi0gcFQ1JO5zuVXZv3xYdpINNxtw4uUaGDgcEPQCA/uhdMdxGFFPJhskpq4c6yupENHOhsTLiTKPmzegRO425VoOO1FZ89mrOReXVzd27LT65aHIxquQDuiDBaTN/Jx4luzg6IqN0bDJBEseE8woPpI2gs5GXHvHikbGJwoVqgeX/5HKz6TEcyiFihb5Hiib79N6dzxUgVFhVWpdtya/jfgHOVv9REAVg2wTPaMJ+r03spIMtGiygwbLwvbDXSbUQSSk5LAZSwWE3HSFrBkV+76/LIBV8Le//5msQ6qxgQjKs0ZU4VwvDa40wQsr4n1gLGROV7yh0s7gshevJaaeLy72Vox+3BIOGPCAs/RDEDqQ1pDMNlfnRjCWhH4hRbnrjQNR8stqef6ULeAiviM+fShFDoOWXolzg59lYaQt96FZL5XXLoukpEo7KFKoWvaaIU+8qfdigZ7hSUKHQ5BjwJuovScE3w5ydo+SZ+NcnqlkApUMGNUc2oT8KR4tEerw6tB8Gq4x5ClBhdJg6HhotLWmfI+fQ74c1eLdyQX9eQ/Lw64qMQMCXLVWGw/uCB+EP3Ezz/0tM7ZTSmsLVQRM8VqoZraPelHjh/PRBQVlgk+UHwWyJjIyHSq2BmFMLiGtjKUC4udxlpdFfs0J/ePH7ODf+7/t57/wfUGev8ESqd3gC470sCXbx5MWL5MLnEqxHImECNuimw8QZ761gIkPbWfS7ecenDA2TxT07j5cjhM9kYr0E8c0dQCvxrtCg15oz8bkV8N+nUc7H2ZaklnKozmsZJmWXp2AAAADr0GaPEnhDyZTAh3//qmWAAADAMBfHnEBNgAvuiCicyujDzX/oODDS5WXnW3qo6eztvlPJ+sG0JvLDI1rtdF0xGg80OuP2q99m0PAWva6cGQI6ozE+6fzaSWAS9fxUPsB6UHy4PA5kemi8vInDYVX0CGDJFwwY345qYy8F+u8BVE7HeS2uq3aDWz82/WUDI1fz/L2CVmcbk3dSlOV6p8UQwhD7N2LJRTg7gVdnjBeYe7cZfX543o+IT1nyGEks+iLQfuP2pqmDEF5BnDuUZ/Oy8lscnLgfQLnZ2qzw/0MBGlv4a+o6g7usE6Y308+hMDBLiSXqryoiF2Y9npfzNdNGGht12TjmPIanpxzpPmFuseEDEt9JHWRzD2iOAvQxssHxVV0vQzlzzbKnQ7+bQ+QjIVfEOukNlXnWiuf4TVFymSdOUBJmZVNtZ5IiU9Uv6BGejxa1M4hhemxPCKcm6Jo+9eim2+1KQmIcWiXF4VjP4BVT5PT+l9TvSJiuiONjggPE3pG3uK6o4HY+pb4aG7JhCKpmpEeBbgs9cpp1aJU6bvUsqI1m7eudEHYiEmyxhCayp6FnWccPAy2L3Qie8dxIeyKXQj7rvNeR+BYpN83YF9vHsbQol69ekb3PN4cW3oyYLrXjKHk6kO4DWhIT2eL96x7ybERGl+3iS2YHHZUGkX+clCV+gQquQ0Z2DLB8vQd58k7QoUExEu8NS3vBvdDfifhEeRj54R9non1N/sccwvt/VIenDQGMN50Ji5334FX2NhaRX5wRyQiW8rnqOkDvWduXWiLU0PyVzfwnQ6OutvCYlZjStlFVA6TDqWA0n+yJqIJchQwGAYx5s06gO7v/qKsq6L8h4TjTn9Tugm89cDJ/bJ/h26qXYxRag9dReBUlb7nycOITHs4xfG4YE4fM47YxLDFsg1Q5xFCaeNr0qf4HSFtCgEUwmhLdZSN+hYD6dNbM0yXPy4yEp70vhYybsviD/kntOJ0s274yfD+iBNrfGRT6TwZ6Ly6FFDl05KNpLP7LTtBlpBSUT5QutA9vnH8ewVnBoW9+PHrQaxFJ3Vdv+Kfz3aiRW3AjKeofct/TnwG17coIcq+kqv6AiV1Ixy8X7alDl07rD6WAnZfsHIU9u8sRELUzZH0gj1pbXe0lrR2N8HDTKCJ1qeYP5R1UBPkdlEIPO2GqITFL2v37X6kYRQXfHwE05CJTqdmf6//ZOxx+KNo+m/nPpc5n1jA5O4zoXS35gEAroTh6891XjkAAAOWQZpeSeEPJlMFETw7//6plgAAAwC7o0P8URoAGQg2KIeBRGJVToxu1Ao3dDxwvddk6XYB3aMHoujvqU42edmB+xNp6j03ENDt90/CqpDK3Agh+Dkkeix2LcrRwQ+57jNr+4MTr79/+5293cO3GLQehddUWkIMCGSuCpqAhFdmtThm9dimtYK71LQq7iaX7veZWthM1BESj4HOcchEaMbz004CtRfu1KnBGee0ro9C5pIVr0yRY+D9feVtxmctAQqLzPSwIkPEZKat7Bw6EEOAVazeGPN+2mz1q/qWQO58K8ezYxzSLG+EyNCc/DB6AFr2PJGQVGD74i1VVCManhn9eIluauroWGEOGJGXrqPjfhX8NZXtIMitorkJs6Fdg8L4N57v9iB/4CqcGK7WAPezr1fRbt9rrKq5z/41/7Um7v7AgiiWOJG3G6kXYnc8jK4cVzwmLhA9S4cmUs7kNd4R/e7DBKLTofIl17MZ/vFKkAlt+2H1RxPd26cq8g6A5Q3ZQ1DF62I54z+4crAGn+nkQqLGmZq4hL1Vaqx5agTX/A/DGWZ465GOLw7whqNjZ+lDzPCmF0zYQharRHSkViKFc5NJuexrbeXbLf7p4EOsqngXvOaQ8MyYNqjgmhRsl/ymjfTxBecNYmowkLOsqpvVQfkcVpmdd0ajCDxVRF2iHllQLU9z3VtwoNnYnDOcoKd00K6YHwEYgcYIYJYh5qEsy3AXAt+YdnrZJwwssW9J2SUcM6LfewOiObTUh7yvkwmFftBssajVZITO21pWy3YlKeQu60gCQML6t3Eu2IljKm9DXV7vR0S6fZ33Y3xhb+TrvIDS0IBYqj0XzKzg+E/RtvMnQA2FsXK86hqvZgB1RPo3cVdf5We9U3LRX9ZguxEIt8DvV4Av5EppRLZ7+4U+u3/T/KHLM6AxCp3GLkZL9jvgWn98n+euLxlq9bMat4HcsSiQ1ms2OJ+duzVLE4DLWAKGPZz29fSUu2/OP2vSs/fwbDtYTBiij1gFb9Fj/1Mv2aKRdDqG/AVcFCZdTY3Om8CHFBYt4fGudX0y1i2inDi0TCcjsGHRpxODuacFgicAX3CN/rBVsCfTJ/8zMF8gSOWg1m9qMwn//Lt0un42GNamQhKqsWKWQfufE99e280kSMK+HPWhz+y+l/YA0Jvche7mt6BtnafagOol3HHuD/kQ2/TDvlNvxX4zucowPZRulrv+Hr8dAAADPgGefWpC/wAAAwDjfmGAKNl5pbTAVHEkd1NsD8bwuPMNvAHdm7aMk2NMMbPscrQAPYFb/yesEtOUis0Z7MascO//d46+HM9pOCRiJVq03MOTFnZnnEnrb4jVkIDqWpQJH6MfC6wQRE3MBpqQgIAJcdFeK6cjm6oytvbxjHktz2i90f3O0/9MT34MyX3M/OxkLh8U6hm2NSQm2wjy8vSWibZ/qAlILuuOH2FgpBAkV3iQt1nY5iv8KstdGVUweOiOLnymrjvFBkDeG/BJtdMI78zunlSrxSRsJpKxd2iic4sJ/6atdUm2lI7U5g+wAeYIsYoqwnkYhb8L/81bXQU+qzvXvpsDi/MJUncfoBJvEU4wP+yHQZi3chXN683EgTg2eAVnS7Jw20w61q/qTEXspw/vsrHVqLsn+Qtk7jn70U0FlJMpKegoIq9B8sOtMRIm0+8NX7+RDc0K7cesHZphJnS3PMTYnmYiMdUqPr/BtY8gKZkVEuu3JP+QpYvsWrOGeF/takS0GOwtVM5AMZlk520q07mLYb+mzPgsrq9+zql2cWt2efLpmSmn0cp44oGng5A1Qsp1wSNJhgjTOo7ye+NUpAipRvpcMvuMUNPwSvE01xb8gueHjJjOdyyndVqWASKYjqwtjlFNZaCqTJCtOqmG2IlHfW8U6HC8jmLJFrOeiMuTx8FlSn5n8n3OB3/l8QsIbv8HSVF/MV60d/uPbhjpLfwcUVrBBZyRkuhcYmDg8MXp3R3NoH52LYrpwQsRkL8HfUNm9LUpu+TMe+yPZZgvbKGv7hvagLqUqwYDYTIl/S7RtY5CfwwVx2AeMlFkIXklB3hDOZrwyWAXj0MtHmGQWdIz6FWF2Wk00j/o3/f+BLxg6OOxTGBb850U6m4MH8KLWGsNgKGrpHs/2zLfGL7mDVGxZE+aJBwtIAm19fzkchHIcqP5WofgDV2vKyMtsG9ls/YpCLAaEnDNuCmrpSEzLrUiKNVDV/o9tmkmJs12P6x1ozploQazPeUCVQb+d+OIdmdDnLkr1f5dHcG4G5tzDRRo0sPKXLe6eqvjPuj18FwPV+DlITZCsMlV6ugwla7O2Fzhl3pbLOVa1Yh4AAACuUGaf0nhDyZTAh3//qmWAAADALvr2Pd+ziABo2oZPQ6hhC9AmNVt9EBK7fnMVXJmkL0cb+us01eS5GXDKfcAZC283VZfxen2BqxLBhugzzty4Avhc6fVz5etF8c2JbCTqyK6R7yj+FNUBbyCrjADzm0uGjHwgpqvqQKRtovQnZvNSA8luwDVo1s/oGxrWxBfVgPE/+W3THGbeucWG4plDRaAyxa8Upn98Qjlv0TdRbSjRcFr8M+TzNpekdykO3d4HNapxFPQwc5cb3tQNOMQNrfeoSBNUyzeXapTW+SSEYZQon56jVo+yVmRjkmmjoCMPBan8T5QPzlZujYzVXTB8ntW2QsVwQXVB3xgDN7YBcZO58HlTcJZ92gm09idSpjjdFQI1C5JxcK77/mxWiqHZENlTE5EBOqHfjULMrFg3/ZDt4GwWOVGZ0zdgBDfsANkSjYESVZAzvoStcaw6fxtzDW9/7P85EjMcSOrEvnE1O6jx7Y7nihMyU/bKBPJboG8jAUe0lqJzSpm98KbxnSwz4W6HU2VmQIXxs0qY9sGrrzMNBrbY05YOeYXv/JpuUpR1hXt9/1Ja8KvEZpJcCpde3x7F1XhQLiYA5MOESHYqvpUVOQ+MMHC0u93BdIDOG7Q+OiIsu1j6sgo4p+w2bMKnKCKdd6qsydJCA8c3hL3q5lHAfafUiFsX76nRE7GArY6RZPVrobx7vmPTEQewyG8wLAMxT6ic5vVYsiOTl+hACtF9uACcs+W43M+i9f2QErEB+EydLlcrpfPsAGUvASBG+GP3Xokrbt41AZ8EWHjjU4wdagKCbNlEY4uvlvU9W496uuy7NLk+OMRCHv+PS53Mw3omzLZq7zcl0cZcGAwSLHRTFHw6I/1xUCH7aCDESJmekym8dZ7PX4J758TbGPJyg9M5Vy2MW7HrYAAAANbQZqASeEPJlMCHf/+qZYAAAMAxUmCQAto8Fs7z99NC/qgrBywKQC4O5vlI+VRO/MkjTo7C1tZyeYraXuL5LdN2QF8bhPGWTLniub3rwP/+qzdFI27yiGHMAgUd05PqPjqELlULgpqiWgn5/VtDuzDf2kWGuftSr3orkjYFpEXGtcTE35YwCw7c1JPVSPfX5CcPt9Q+uJ2kHvHYPYeKNiDzeEzgtKU+WSosZOVfJ1FqmOWa0uDNfUupW7VPCotXouKnN+7Kp0FJwQYiMgP3waswu10OJnNgTb7jmdQIJEIgRDpamYYuraXpb7TC0ZOaEycQaolbHXIdh6vs8tSqoTGHQimHyxSXYkQ3mwSsz7DnXmdKH0Wr33Sn+eWE8YsYkjOYrL/o0dyV/H4PRVfgUpGXpCfYHVR9T4AcGxRYUit25YnMLTP1V+9mmutsalztvw9YpEgLF41Q7PcQdZXVq/sAYurce/HeHFoXxsKhrWZAK9czXDyGSBGNKfWxcTB2LZQ3ftYGyE3NxElNd0I1ier+7MojoSBhxaVKPvGqkWht0/VaW6vrujbkezJi8j8XpWvl1sS5vUuTEGK3LwOBhJ3bRFefNXSQBSl1hnX0SAhpwucr3RH8if4Nge3kKIWPhieKxWSXgzpD7Ms9zi4cTYUsxp9MnWCC1jMkLuU5UPAQzfV8nck6BaQRUU9OEzweqZ+mIM7oBwLs2pj7jUIoAurUj5yLKymmRbAz/edAF8xJ775Kuge4JG11x4td/GoZMsC885hYGTQQ3SWRoYcBrbT5tIbiNq53DYavyGqVqOsF/0uE2RGLsaRO4dq3A9rcS3pnqflaDYJfew4jmF2GPh0jLLCevQzLvSTF2BBNgz3vS781gIK35SeBd2ipcjbKkgqUg52XQBhpDq8gsuMF/AGk+BWG5hprdhLBc2PFgdSE8hU4mDwRYuReIoGNDoQ5rAUGYP+D4ysXFwv5an/OkuW+nq/LIwi81gwSczi6+GB/YrXKjt7t30RcQgUdmCoCwF0IyaKkMv0BPSUGTfLDeqWejpbaBBE3mvE+V7tZsZG/u5JTQYihxiOGuFHq44o3+GLAQGjV0/AhO7VaeXzmwaZd9vN/2GXX759vZfhVqi9vxLi4sAlStla71tBwQAABDxBmqFJ4Q8mUwId//6plgAAAwDGCqv01EoAIbk6t/3siguxMqsKRUfEi9eNM+EbHhrQl/7PREHf3bXbhIMd28Vq/qRWhkfFp/x7+8aTsm5AzgiHgWQ1jldUAdobiIZsbzrIhlHKakxT+9m1t4BksEMN5dfoeb/7Tb8cHDqW4rifX6vt+bEI1MbWgzbXnZqowp1qBM0aPJXjZU5M7zeQmjE7O3SyACnOU41zWFBu+5dKK/3MkcHQaxDPEFT3tLvIVQ1GnTlUmEZUe2wJegEJSRaZHVJ0rq496MJy3VqwFtDlos7qeN5THt1f94pvaQ0YfGd2DNEmqIOw9SKihBLW4JOzZpYTRGZPdWDW2eFu8TAlPVvyQPGATWfmHaXwCybT1C7ixoooRuAWT/c3l2D6sbeC/CVuM2pGxrg0PxnRArb7XXbvisZPYycZ65+BdsFrjpgK/3l6DRdt+N/NdbnjvAb+G1fs/NM/tx5yN8J9Ts3PSJ2fh8jWewEBg5Ds3O9hJxAP663wSEDbufWsnItUVmgkxs6TG8DjDgbQtUqNrIrfv9ZojCxlcOim9KGrWKnB+VxWajS2LS42/S9GFf9hDawpwLEH5aot1n2/D1SiqHQhqIARHLNmzl74qwYffSMP/w/05uPvdUkSMW0M+Eeraqkb4HZjp+gISqeBGoL1VdhtFNLa634D5giyCPbn51DQbPbJaJ1Lq/hNsTM/hoLe0lsoOQ9jWlKSbZdR2AeYHM1M87e/Sih/DFlAdYOoeTFfFiHtXqzLm1sFzSDfs1u7sNQNeWjY/1lkXhtS40bUTg9zfje6EWAMoaxrSirjY3wOQ8g/eXFASto09QeLE1XAOw5hDjqvp3OYOrlCF/a87vTAvmPQTxuuINvawtTRdRXHPy3E831fMSRnX8uXQ1pjg0ztfIFQWEdj1HujThzPoqsoSEyD/V0y/SgD6mXDRhZpJWRZh0/qNI3FKl+CvqK5CmpjEZ3lI6bPsCTNrGfU7VD1QE5i1YK3gxEaow4sB0QpcJApeRf61eK86qLvObU6vXcELNLg5wJgOXaCLB5YGQNjMQBTUvalgUQLa+oW/nHK2YMeEtkdCfA9FshK3QZLPhgQClBDNGIAQmkkif1eHJGZ3GTtV6CF6ANHNe1TTagNT1VWGUZhAWQ2/nlVJ2qRDnvlZloo76azZ1NWJH5SoWSGU4troJhiZ+q0YDzLK3GqDW3BlpRFWoWj88nGC5qhEgYVMUuARvSe+JtgSr5C8FINYu3aCWtRVAx7bNQ2R5Ndvy8yGfDqJj3kOikWLvCqql3/2L5y5hADrGpBoSeWP5mScG89iv3IdvShrp3uxs9S8OXa0Ftt/p6ZcaanDxrPhYJCMOlcGpGjrQRJpR2w4R0m2XPTndxuEES2gjibjQVl07pXPx4HJmmb3Rd7xtMBCWPmR2MGaLAxd8WBYWLwAAAEfEGawknhDyZTAh///qmWAAADAMts/+CdvgAuq7Al4OFQ3WxiwXoFuDpcNhzQEAV1YZBWq87X0Ookhgvku6IjbZ18lVnDRb0yL94G2IUWeCT8DcPnlAGUpsHgLDigTvD3HvkRNAGKMDkEFFXceKV6/9hGQ8t4vFQ+Rpzr42eguOOAc+MjpK3YkG9fnb2ac21VcDKEtYejICc+lKjPlgjmIeKygyCHb90J6BkVv68HGHF42oxpvHOgplbtjHMEx/97y4YtVABmEQYDGn8ots1a7W8l7yBVsXAgH5WSUNZm8gBW3zIMu09RZKFTBPBY6YOk7TIh4j21JCEm5q/K8T7gkL/Wefd+s228BlEQXx42skdVK/SRkXhKBXGL/+SAgDnQxwlEkmFrIxvoXlbkdWEbXK0IbFrMrM1MjEiRmBbLjFaBDXehyU+Lp+8QJR1qMINB5mXDqmjmL1x/ngIsfsmacAnS8qDdZ+VQ9tQhSTiGOCjoEQJDjuDb/Xpr12/OnYaPgo1IEiB64l8W/F1DoqP9L9/1iJhPYj49sF0bUeqcZVYx64pQmJecoNkGj8X0my/pH2gY1E4In9iHIVUQjXh1ZSN6RPa3kSI1Eiy/i3oZB/LiIQIyuplCbmP5xqaDINREm1gEkEOUgemALUiRGWNiR1vab0lcxECYsvRBQdVt6Wfc0I/nD7fkY2dmgrzEdurobEMUukrE5wOrEpdSIE8gzAll6doo4t22XL9aNHosqbSZP5/BhE/q+3M6JB6dbw0CgDu/5qHDamgH6E57KQxGfm9u4pwN3xmVOSsZdIfliGRSseTPWncF97luldMHI6cUAzbMjv1WSN72awZ/7mRAC4yGs13uMCDH9despGn3ybjlbHcAA5mgFNVfh5IbviXYMrw1ZsNKMJum4OwsZGCGiaaJKY2Lt2hYus6RJXRJYa7yxAX1dpscjAfIES06+pJHQS8GRtwNgWZgkyiJxH6JoYd7VjJyawsdVQ4rhztiquE9dcFOfTCyZmM/E7niIudryPQgul/+2sObA3Wavlzv9byvcylT+HIpFT24KUUFb2Huy8vb0BFlNVkdgQ9zTEt/03qQw+Or2NZMBjCAeS4oDV1VSoOyuQ8+hPZhUwllzwBDZZjr7QGI5dVyE3ZTxMCjBp14LvH/vO7+9AnwKjfmzG22LAP8YKxykjd/cP1bwyldcDiH1Wtf9YzDip7OJ/j2vZQdjV2/i5DW3Ic37eg9kkOa6bdRH6MpLqZUppNhjkJhBuzBLN72tYfnV53Z/42UBX0n5haVSXze18M/lL/Rq0Jxvu6JaeyzEYTVxYa1BrFvrr+itO9ZiN5Rbxak8S4+9xqVtpyrqcjwS2f5JNYZtMZJvnCG6s2jcKaEFVpOGNf4Ch/zbb0ua1exgbRH3aU0Kz/I/ZNgH7BMSqHNlThmnfvzmM7f86Iot7wH7/oFGOkKoexmwPGfCEkcHR5GOmyFMRiWGpuc3omWMP+u1xvoAYJdennB+Gz2KH4J000btG+/DauedidXMBf330SjAAAEn0Ga5knhDyZTAh3//qmWAAADAMt7ZYvjLlUphshvTgAvrO4XTAXySaFXWpiGwHKUO8B7jph+1IHXh2n6DX5zsMfIETxZUS8AypOrlZ6DHzR1PrSa29ZB8yLka8+t9Dcn7v2BC6qNZfAKrVJCFxCcnpwMLABvEcDi9XWRQZ2Tc/aPWzl7gAwfH1YH4zRxxaxFbTIVI/2dcJ+lhEmg0WnNImmFk081Udk89sEtFQtkhgcvl3y4jH+C2tWxKJvqtEoTL6rnxUHDNCC6NyXZy8BiMC6w/O5vYa6YbeETEjGSxuyJ9ex8jX56SoGsvTDjmwOGo5Iblyutn3EIj5JttyX7JbCf1L8mVdkpvPM5yo28FvAKymkLH1A6JfB7XLGU5BbJsmQy+mkt+FhpsFbIZ7ezE3URZ8FU+vl1f+VFuq+8+lZXqpGwRu1hwhQRTsLNo7fQqxPrH1OTUNndt02m88FTkQh/pXM3fHqbzpcWtGP5FkCXe9PAZseZNFnnvpNCt+wiFENgLJ6Xf2DVBhL+jZ/a1TGPGfy1xIw5D4Qb2qAOsGiRXnA4RUxaNR2qUsKq3eEmHqdFBMuoZdqcXhh2DqhIK/KEM1y09EFRA18qNl4FyfWk0xU3FwA5pJvepKE2s/+YZ0xs6y20va37NiBGpzOY6eq6e0VdVu+bsbbvts0555Fkx7VwV/u9/VvMLaIhVyFlyklSweeAIAOFVPN3FPZULCdyA6uL2dg9e/zF57ZNoteVh8VrIkK2OJ8j/ARA1amEDFPvaniXaVs7Ki2FrPuh7LR+5paVZ2bEsEZgWMUqr5/gF8YTvE4K65Cy8GK9IKtGMMrPQtasy+1BIrbMdSrNQnpRbPlvQGDk51+TaC0rcsGKHe49d6j7HMvPxfubeCovLx7Hmfg8tJpL1Ad9ZoImZClcfH8HEreIx/cF9ByyOlqtI/44wk7rYU5KLTvfzp5yq7eff1i9ro0tYAaLxafeReYMdUBDS7Am5fy/s+HTf7t4GuQKnULLH/3oRNHkFPvE5N3DwpBsY52wLqAkwWaMnK2m8hREGK+8ufrk+8s/8QGOUQbhLovjL04Cdn0kGiZKAPOAYt1Y+NOerdgG8UZfs/3d07ZixRga88P1tYOtrnaivNkJ8H2tP+F2Il2JUBlm2E1SzsGozhj4mqmqU7CJN7WcejVEZbnvYXRwwxbOSo9wdGMjLAnpjqTHGwwsqutBwO3u30C5guL7Kd6nLeqPVCkVm2jsLNCtJxQsgAgT4M44PjnJZoCBNH4vFnUjSBPmp6n6VWdL01ha6izBNecDEN8u24EHn3/0qjL8P8NVWAuCCpnGmoq6wOD7/mvmOxwlZHhyvUMdJyc+5aeLqWW8jloQDC0mACjR24HeB15pGSiAQulg9ThBsED/daDKcPh1CGvD3+PaO/1khnUl/ROSai2CYP145RBpRoEJZC/6lrGOmsyc5pNkud0i9Eeoq/Dwvm4sEIRXee7/9YqogjnmBfqgN0ZAkljx0eOost2jpFx2eRY8SR+O5h2tRKwGoEYJBCUwORTHmWHVEiK5RZCLQBEILTx5+tk1fApEpLrIa0AAAAVhQZ8ERRE8N/8AAAMBPpdzIGLPc/dm5yUCwBYfeZyvWzmlxpfwuJXcJ35d5phwOeHi84NoPnhFN2RpX98NQ8ScYFcKwPvuNo4iTIOLX8gN2bXBafc3AkM/0xRzmz3WHkKvnx2HzQDkpOB8S8fkJTOtPL3qH+r0Zs31KuvC4RWJLgK/Se3ev9Sr//bYc2Sq3AKx20DHXdO3q0vUJNRF31kxkcEF40OkwWacNTyTvNp7/w8uspQ+etZ0Esi2NV5PwXe8UMgR2BhC7ikDvWo4Jkc011/rOhTzJhInsZozzdab7CaC+0eug3p+DNDaonw75S2lgN9fSVni+OcfvJ90bkM+y1UQKsHHPYdYVHMdKMMyA8TWTfKoy+qYSWUDBdzk29Yd4a4zKw4Nm+UCb0ruuEmSPtz65Uvj8mBqWWxzYlEpwbl2PyLeqlrSD64+SvWTJy+z8wrGnW6MnMCeBic0Bb4zR6S44YaJk+1S0AC+psWrcVFHOuGn1VLgrcfE5WRzqfeG9kkI8Hkl4eE533y1sHEzjT+ft0ERqimWuhGCw1agpIoE4deTQ6aSeiuQsWatkpthEqO48/tTh/qXGAIZda7D+iUoDLzKUF+Kb+BEWlK82y5gN1/mscXTFbRzdiitfnQmp7xTZ5dpEGhFGjg8MY0M0t+rjiZClEKRLOODrK0BQFMcxADvGRyJvq3Fggle1o7ewpOb6kZH8ClNCA7xOREk4ZidTJaQBZu6GMTrA4VNpJlT6f9w3vtTp1cBdBi9ZyLyQKe02gi1GkDmQNswz3sk79GXO9/EWEiXqdPiK283s2fUj1KUaCK5PmO7JDU416IdhJds98ixw2Dp15T+pVpdOXTgW8LaGmRC7DjAazFro9H2DxH8tuzJ/XGNS7b57U7eaK6AMCZ1bzmZ/+vqPuHevYQQnx95q51vCvJpRmNphGW53n814McWtoJWDw8zuKxeS7cD4balr/ZUQjw5jsAKVqWgZsg/XVg1RkU/9Zp8jeze0zjWvjrNSXD1KFGSup8WAcjbuTOVsbGqPCUO70cdoa8uE84/uyb07cz9stmT/2SPL/5HPEa36BHNemoNnJrxdr6kQxu/8bLjOnjbPHJPS58Rszb+VhzjjRQyRV/PzvPLltc//GveLRKJzGRf3SYdJNr2p5/kxHHf/qhYnt6w+91CUg+I/eKl/PDSv+eNCTit8pXxSLl+FMMqW/fiWANZO1DPbA1KbPgGdIiYgV393TVFqfIKvxmNDOZ0xw0XAnFIdxKzAcAE+K0Y7wsICAEvBfgmCWqnl0RoLZ6Qbdm7Zn8Xm8/ysZwwiy6n3tOFPTT1oJGfnKM8mvKLThw28P7JNseM0gFRKl0i+KOwPQ4zAYbZ1cdoYlvs27+eRiA8BEkdc7kBC3oBfCH/IszW5GNLY/7yrbKc3ZyPjohBO9Eth/NbDZH1IzFvbqEJwoWEHSjOMGbjtTrvmrwVgIabI4MIEYJLN8+/h2g2+UJWei0Glm05283HvTdO44fh8nTNAdwIJJ92o0f+E7Qr/F/pWD1mNo+kQebYgHb7gJAlf+dz6hnYEz6DjMRRZFizIqxmfBuDrWb0B/kLEum7kER6H2WSrWEgoTrk5dpAUI6XtAS+9ppOyD7V6GrM3eyb7Vn79ZpzC25Jlp+UbP1p0uK+kpSn+oJiO9gtOpYevWg7GDOIPVkDZqm6du2gNq2Rjd5jhK72+HYKggzdWOM1KNiCu6jwB/D9/p7TQN3vA9F/7FMCkOXvTnfof4VyGru7sMQQuczWfbxafWb2S3u4KZnmSSAcXS/1lX445sRRKoFZXZFCa6zqhxWj5c8R/JxddEQhue0FAAACrgGfI3RC/wAAAwILvhFjKtpFqeaABGQDT7z+6ZNe20OYwOBrLe7hWtWOR0fvrILdT2zfD6BI3TORSVdM1c/ZO6xs5yt0e5MPwiSlu24yDRrdbgCvR+qgLFDV5paBwn8RXGRn0pcWUYxKn4PetaVvvG1/q/9Lx5E/6iaiKql7TwIg3t+H/8zRwbFwc3LZryAsrNbMMclW+RwQeHDAavhLcuP1kCkEZEtGKb2QSas1cqM50vriE6PHBKB6idAvVnMHxowpLJJio1ROVgI8Pq61MVq1tmpR/vMVt3RYxIEJ3Va7tIeyDxKU/HOa0ydLMhiBftFUJWyHGh69RrIaZpl7LbgdIjdXrIBOJLkc5jDZPgQITTzL3OMxHybLRDK9oTD6eYYG4RlKtDALeNLTtp6QXAZGuB0m8IMXa+TBHHcxE26t7PlXJc//Kpllv2UGD1wGbtcSQRsS8tQ/QMipdpS+dJTyt+UsIdGvVO8lvf6ncM5BdPXabZ0XlCbV+gPH3CnCGmnviANSNR21xor6EptvMbk3VWlSvydHtNilnOtjplFNU6xNhuH/I5Z64/ctFxSjQJJfaSt/sTyncvCNe+lQe/5lSOlk6ekdPO9ykNuRRRG4YGzR6e6diTrOakaI99I/nl4WYFtIj7z4JoDA1kEQw+95Zx5xt4qbzk1OHcOca2PMqS0MnwK5F6M6BtaZGBQ2NwTED9LLRNjQW8xE7tzXjp5pLbxAkkFocuaCxAPOc/AnkfeOa1gT6P9kIzLD8NRnGSdKoskTH7R9vHleAS7odgPDRGS1M0sM7ngsKvAA8lBthO3sUT3wMck3omFoOFPq1G4CG7ImmZXwH8NO+TQX9Hw7XZXnOUQuV8/eMRCXeAC0A3XFoJrRJi93bYBXyKulqbetb8HgNceTqoQ5vUBNAAAC3AGfJWpC/wAAAwIFDUpFQ3+fSTheoX2gu/gPyAFzOokqZDvmGuiy7IqOR6Gvkgc+qBvtptKMG+K2snsPfWpZ/idG8IJYV042e1GHgkz9usfC6lPrwRTiAI/cIqLRJllMpK5JreLl0dkYoU25KVtuDBtwZjSd9d+TN9KQe7BTvTXpeUtL0eTuoiLsZyZ+WBRgUb2aCVevgF6cqOGGTnyA1Uz+AISH/RlUHZb+TGZGzLpxvhnFJpq5aokaXLJoYglovtkZEiv3rdR9/KTM1Wf+g9f9KUbrJH396ttAWl39h2ajXIvbjugINcmixfYX5b3zu3DCSzB8JwDsugimTSjW4t4V48HCImB0NrcsJKq1quEUHpEWwAPUWO29sROKtVFY9V9AJUgrNUd65d6epRBGt/nrH7sQm8bUlFUFuTV+BuFlBvUNxu2NDwudFGtKhKcjtsvcEZlnaCb+UGPGIadRV2BinIaa2CCFpcu/zHFCCi9gExeNohXkIwMVMf/vWQ1jAXY+TchgE/feMcl+Wn7MPklQVUjONli8/V0TgIihppUEliUtXj+L3lwtl6LkDfQ6Goz3il7+5gK8ldKdMpC4XpVHJggf/GMCyI0otTytvyQuPSDuq95NR81zTNvBRSM0WV8+24rLD/K2UNuDMk86NEghFBHQUVGPxygiB664x+VgKLCfedqIO4lO5eU7j0BElClT9mqJGXOrbWjPb7kx3N5tvdfgOLINDkl6tYmV4vEUhiAW9uP8+7Z9eT4IVZGDaUMrT36cSBYFoLqIDIcQq72bG8YSAX/h9IGFAqvPDBUrzLHBD3ubkMff7koj1fyVW7RNkQqlraesjnK4E6luhh4o0jc8P6iXw5EorLExzegAAgwhone2aDOE742YH+bJau9m1OFfT0r/qo3vACXycOAencIxcl0GTrR7AcTTcEN/p3zCJgugq1m1vZjtJ7YtimI+nSbMekrme/zWwQAAAxZBmydJqEFomUwId//+qZYAAAMAxmz/hi6AkAE7em91XrLhIvpPy7GLTQFW6pg2U6TsIVVRx5tLcoOt0bA1MnQX5aZXLxMlYjTLYqx4kUDex7HzpjwhXMY2tJ/f6vbEzHWZePpztWYCbv67besdAx8MW55jpkQoxwFYcYKQ/pDr15LHouo2/ypkFSIXuT7xj8/KJfXpWxY9bm/wdkb15G6gaa35f6Wfed730q75KbvrOEtAO2TXH+PTm6EYpTsO+mKEf5ZqZurWSjmw81g+9rzMbNVYaxt3HXi0XDYUeAMvm5/IFt7Mo1NiGhXBSzoRsJJ5mfk/jO2a0x/lkKFZDdyqq9DjtYvSzzL9TJFrGW6TvZZxId0mYPR4W035nRKz6aV+AkbUh7/7GK4LL937PYUX9nlH6/rOrYTuCyRm6rEF1H6HAJd8TwwSkPd49dcL2i2Ra88WAdrQWSJM2ip3XWyY/EgiAUmGX3kr7QXFMyykmGThHEOARyRqNezSe8Ez6NMi3Abnyw2lFvK9McnfYxDcTQ47XFa9FLYav8RA+wwkBkg263nW4VnjxQR0vs5rkFZutoZr0QTIZwzQuQr9CL0rX8c7+VhqXKc9ghxJBFJcTMb+wZK/aY0/wukSIuBvpiGvxSCQJj2uCaoFcw970wYmeG3Ij5MhrhGTGVVttZjhpl5AGreVNVfMqsQd2YGsS1JoCKoep8dqNpMpb6w4uwbe8tEOvB4rE/nyT6FXAVDQcTI/mgmGrwp4D80oKo9knUH/lj+RhoGBAuDCTenROPKpPxB1WPpUCkiv3skNBLihT/EXNt0Rf2kmJ1VIA84SXb6O/xQUlngITrjwAb6nHE3HBoUSDQHRd6B0i08gXu4Pf64KlsSkMx1QJEOjsoTrbcQDGvJtt7ZM+646hiql0gfbmp1MAYOAuNsifg89zN25VpfQ7ySfQdD+0Rlt59h/GjXPJRp+UQ7h6eiY0DhCUqoDPN3V3paFp7uuHFeMryoMu3gabvS697C4KI1LWoQbE7QqfYAJxUG1x4uVgPHHUccAE3Hd63ChAAAEbkGbSEnhClJlMCHf/qmWAAADAMYKwXfoAsoYH5wcaimuwZB79Mqn7RYG1Er2uUk0VA3UQ38ONTaU3HHX+wIwUUtPr/JlLs42JcoklAFKKC2yoQKv4AbtckMeOjf17sfzdpoH8G5tgX1JtmF0cmPXg0SsgABY86oHWltMhEE8CUMC0BEKoyL6mYG1b9bLfyZVbxMKUu8ppKAN8z+Zhdf+1Aha6ehZ6aY+dOKJpZTn457kCWhlqLRFgBmviiCUquBQDm/8nWo6D/HBoUwkfQEvu3n83U1fNUzxyw/NhmPwvAsFW+UONkQSvGgtjkk2ZhgPvjuxG9eCPvhLhh4nbTlVBB3H0MhNvF46ykW0Jku7CcBks6JlMnROYirYY3jM+kEspyYJo51XS23YDcDthwPDprEGL3ohIoY2EQqWlqCQOVDBaudDXDuorRVJMvMR1WXFZOmzowemato8BdKIQWs00p6OXGxn1ROb25HAHqJP3f7qEsc9WKJGeM6mlsT26PMYH7GCZ+9i4Xad0ZinsE4Haxer40D7qfHv3+YaiRShUYEmyhlw1SHRO/EL9TYLTcR2TjMHUuFU3PpCD0ZyRkikIv1D7jO29r3L1bycdnGnKGn4l/VHDuOhuJjuidhw04YbQmM4YEtNE+pHByiGGKrgXh4uLGQ7AbzPE+V6HFXYhuio52s7B1H7NbH/riZGV5u4RfMs7qalogM4JXXUZhmEUZgb+jlQu/jcG1RCjtaRKm+/7GqA7brOptBJzHFm1kqKQSj95YAsQ1Jxp2caE6RW7vC5iP4+sOCSrqVS7F/Lqhz+nDAybspDU85lxCOUJqgQqEsNtZi7H6CGQev2JPttY5XMfg19Jif5DFxm4+lTry3AuhXEnUXfuoInrrxStoY1236nGcvWAjFr/bC9lR67s0LIjpY82N59HkhQtxSnMI+qGO43jXE2nXbNoNHagt4LQc4MglZ3e272FzeqlcOB5GXTxGuXxxg2N02hY3+dF8M0ImOmptQZoHBdJZszNi4t10ER//CpdhXtUhJNvncvw9zHRx9TiXenpK73dn86RUDkSk5HF8avESbtDGnEO3/QM4zt8cEc8KO4NFwXMTWEIVcpXzkC8lokQVxe2snXBEGxZ2b3mwBq1lS2Ks0YKBDkLVvSf9ZTH32+u1Bgt605q+qeHLgodeNfkKUg7TZk3LH/dIMPqGP7kMsEFtvH0EGvie+hgR9Pjx9NKGz/faXoAbx0OwELIZj12ozSfGtOcpUsCr9YZybu1CnDtdgLtFVJu11SvC7nRrSnhc9M8ldlWgE+1bnVAmtxQ2ttnNxqOsAJWVYSgGjJgWU81r4VEnlacXk5FX+tFmqTXwkyMKTNe64OkQ/gzNY5J3MLLw3SQO/VxDlhQB8vsNc2E3ehobj9s0kK/rczbyvtWQv4UIMxJGK3Y4pVd9gSHRpXjdP+/YO2Z2NxPsF1f1M/Kv6l8N97fBJlA15L+Sj5/3Y5wrT1ABBPEyc5BfypG7KbxbnKQAAABMFBm2lJ4Q6JlMCHf/6plgAAAwDAXNAQCbxVjXPFtVy23AAw/lMzfdyjV7QW/Nmp1ih3j15B90XoQwndsCDvtzbKhBrtP7Bm288kBcO5uoKEODujgcE1B2QyE5/yzFWnthSoKdKAOOfA9Rx1J7NVrLkgCIybUrPv4TWGqFvmP3TFDO/eEcAuL8dLs2RyMnWTZZPQvGu/NLMdCxc2ddBobqDSmvyOciaRA+WHxm6KjMn8jeff21Pj0L3Hz6is6IGgJdMyaElvSIOPigFZhBdHpNjZhK2Q1ivXIkTMtQqqN2nqPz1avFYF4N+youDRnMdL5AI13Y+LgiT+SnpjdCSMT2xxS5grxRjRoqSNc/8KEIY2XUj8c0qUIdoZ+OSUT44elsd6madISsJ6WqdPz+SldK3Uc7Ix+HoeOK2P875uv/oSMBpfvImZ5MlmCmRRVLcth/aqgW/5lhj8y6zNjLjLJmW1SZ+L41+UEcFd6YBwKnjT8vdv4pa8skv82P04H1PfYM7BP65b7z83/sbCozHNF3vHvCVvyfC4MtRoRiNDob18AFXaVdy9a810Tx6vFESfckawAz43qKysIhIIOSlJHlOsvaSBedZYU8DB/AyhbSDBf2ozL3XBazN6HvvVL/GVPu7lSYxDEk9fguDW6ajKjy0gfMGtXgcb/jsgHbSkK2Rp0S07bl8GnkMsL5gXo5j7IHxshiNOwil02KGJFnFWUOtCMCBcz2OIXwBeLl5j0R5p6ZAnztywx6Z7VYauyL3BwxjGgX4/GjG7/uE/5axwCO/qMtgGPywMUhJMF3PNs8u56mfPUihozSgwcN9EBCh/P07EZTnfWFYBl+/aDqpz7CfMLWxE84P2MScxQCcEu58VnKus8+nX3GtmKba+Xx/s/0K0LznqY3Ao9fkGGn4msLbB5heFfbH9KXdcS19XOu3h56fjbGIQfl8dRYkdRbtXMDdUio24qfGWgTEu0ArZ/9LkidvFRCFIoE/Tte8M5M5BAzm84LGi/35ryCphI+xiMg9Bzn9YIxQd8A0ZAuoj1oTegfUFMNY6nStRkbqC+oN5AxmzeBoG4H9du5MCQrOMdfzHiYXAqiOTXea9+yg8MjB8VQrJAZbWJv1H9ZACYjDVANqzrCQdKPgxBnItSL2c9ALSSHRQCzVjHdCaN0R6cdS4EPfdc2krQIbNUF3A7LSp/JLSaDQyM9oWiyFqU7B8AvrPM76lKOuS4BsrZQ6DFFd8TttMsI/jZfs6rZ77wnJMlhSqwSh0qzEXcpMAg2Xcxjv9lHEUj2guzPDRmTNKXtd2zpKCTjb5/NhRYdbjlOm28QVhgUdBb3I1HO7KMI2O8+8ZxxgWg8tldZ38TfbVNpS59qO3SPHx6wt1Hdr2wX2W6KMFsKuJtIXRpA1k1G61xXagZT456aIost9q9JrKKooXOnzvXpItObH0y8eIlXnTVWhjvb0I1zzmcJZ7npMvns1UCLOlrFSqS9hYtxboV9kMnApQI0ihFdPlwNaiC5TYbDii2eaBMS3QNbmLJh4lN74Vg1spbLBLg+J8l+jPfQ/m1MtMPYdNSQ5ZugpRr9xmwg3RR1PHSlkyRLjHxXI2QxOWH1uGlMPbvHkl5hQZ1FcUYAAAA/ZBm4tJ4Q8mUwURPDv//qmWAAADAbKTBIAW0dWAQNaJP3piXoKiZumsW8Z8Q3427/R7gdUBFWzXQBKWGVf9wLk1bp8trf7m+bwRb3yKW12C7dadZsfrKr1+IPyXzGuAo/xzAm2aWpZ26g8IAj4GL1v3SLsPj1q4qQ2kXCHgsX6gd0WqVhXlZYv+VtzymjsUvgbfSlw8C+zHWF9qBL9HhsuIh8qM28V7KND4uQk+c5PHBAIOKcPc9dx96bO9+B4weaf7aWH1d/XOUncA6ukzaB8op6rb+5at0JjA2YTHpjdnA+t96CNAvDxdzwTd7Qw6Zx9eeIE1KhzAqEG+weAtpCFV7jIs6vpf71nIjZK3g+seV5N4cFVk9OMH+2alWjXIUT1Zn8+3pRqq9RUAl8s8WlHknXY1nO8JCHdl1wYoUZVZ20EONTZONoQDU9RM7TupwTUlc2AlSpJMg5Ihp6kgH1sFJT7A/t9MrQfWt49poOMMFvS0BOkbS1krvsQdRghyaSoOTXZcL7LZ0vnK5jEffBfm3dcsabYsYXzZY1ryguA1GlbZCi122T1jHyCjCceEreg2Wl90yFSb+Y/0RCuUwT5inn2Et8+zTjjlTcpdmFATOYrb0j9vskSouQJNOxBnyp+3Ovhrtv10/JjOfUL5XIUIXLxALWuK9gpajtXREyGv3siVy0H9eb1jX8AgVQ6Yfwt/krSBIgK5lbIGwXRatEk52voTXCxd54tXZP/8LH4YwrYh4FuUpFLA0CpAxOiQbHyzoeR5eQdoBfVjfezKC+0H57ClVxHhhnj+aHYUUFRpveN1ke7HP3fgwJ+rUqZ7vsfzRXwm/hzsDFVa3cJVGOJqu6m33rUVc5s2/6YRGN4Fsc1KTrGqciUpHR9z+JVPaURwc2+7YyyaPMbYgpqsA9nzvc6yHKHJTUsU1nRMwnV9Yn98gwkQhdwaQt+7iNjAI3TIhs/kNLPWVbX0kQDqa7bsJmAvGYj40mdjLMMtSZ8DyPamb463Md3yE6tkwxIR2Xb8jZVK/CsUOhrZMMQySLTyrRtrpE4r6vCwWAnfodfvz+w6qQ+z3iBJC1M64ZmwPJnbEW+khSAJQtO/zmoK5JdYOpin653h4HBKfgpm9P2oftcF8vje6iQBXlDsVo8OnS/1Bb/5k1e9Kr43NqPPr2gdEi2Zne5g626UKskFpzvfHL4U3SWSyRdn8GE525cqUl8w8SULNFs+Se0uDBn1UWAZaXYRQ3FROMrZwzZvjiFEHDNZRVVR8nGPcXRPG/cVEOAPVUrk7UKBVmgGMB0MoT3O15zGps65E3FLOoORF2/LNaw4NjnHu+ylE9ubTffam8KXwpdLkWEAAALSAZ+qakL/AAADAf0mMALCgzJTw1K9ICh48jynuHJH8PB+P8+1iLrnRcU5SZ2Q/KDMQKqY0OyGgRfO0hQr7s8aUrPQNOk+KBJZdEuMwMBLlpPlr7nfGcWwjYy2XTx98ZaEqyr6UdBQgSx+9Tpnn1OBktVt+N84LANTq2vw2oSucVQtKJbHZzMQQksuOKuK1AobXPg7aeO3BMnq9dPk8dFvdYC+gRE5jgYBCWoRR7Zene1Fy3g3vS3C0v3wronAx0HEsIFZZsXR1ZkYIpj3foCXLsi17pAiYqdjo+Rswefb001hrHrXEY1bCzmFIsPOt95ZE42nM8vVECfc5O9w7EXKXYJIz4/JlEOfZB6FZ6C+grQN5Xd3T1NGs3/eash/kA3CYpBJ7g7l9IZ8SzKfpze7J9UTM8NUp7lD/56Z9NTcCgXqcPmflPZicFVY1TQBXaY7VknY/ZK3g/niHtzItNgF5lpSD8AoctbBXNk/GAfvqPfGIuN28MeVywOGfipjfSOMVFPXF3RoWPBIzngDNMxP2e6FhXZGabbnGBPye5OGm5WIsEvIqSaSJkzwUgfwtBYIRsP1ut22jiV1W3+9P1QfU/ckLghwdZm8QedCtnG+Vuj79eCAReZ0q2qQkXT3AlohftKUmyVu+V8sHb4yt9/OumUav2bH8i9cdoj3jZFyv5N1Kedg+KBIKVEixAC2N/OFjLe4cgimpiL23jRZ4+I6GjaqwndZ7BmMQvlUNwiHzOghNCl8MQRmU9Ym2l557SvBZTFljuDJs+/Xe9lVOOGq4qSbtu67s/96YCb3RuErawt7jkjWMlcEHHhj/Qr3nD30DHnqtcv4rM8PwWl44r0SudtUeOGLmF4Xr0KwmbpREd1DYNNGhu8heBncH5j0txG9oKn5BqhYXYrPQJhIH7+DkXB7m9PDNTt8msievLTAq0bWmjlDA3qTGzRGwkJyDd424GAAAAQZQZutSeEPJlMFPDv//qmWAAADAbK51NzXBOXCbzp8OxvwYP3L0AaDNugZe4fCJHrpji5mjK/3QMpQS9+P0S/rlnCRcL8TaO8NDkMy37VLJiitKDmOKLyzuPzfimLDVYuqocKKW7sq+5UAnvy+gHf3txE6+tvzRNSd2j4ao+ezpdDxklxQA1NnQ4fv4aWYzffMXcnQsqyDp98QRElyLxsVuQNJ6jpg8HZxQMvbbEa6TMNxv56XV52eKZ6FCF2xyujlABtZwC/048oEhj9yOgZvpxArOv5FXi4o0RoXdPFcIYzKGKlTZDHP8czdhGTrupZISDJntmgGKTJ5zydS3tOnKZKUySDBJf170oUjtvlzckdyc6Y/acAHhbncVSLY4kIEodOUPcJzARwX1GSuiasTWGFebEiE5xFqDHYVMjV0ySm7b7waKQAcLZopTPjqNv7the/0T1KF6ztoVJ/nHgQsAeJbZHay8hNT+Ej6j9V1qQOld2484dleffydgdosVNmJ0pxfR8eF7+yuL1VHoqIdiaKMU4/ETHJc/jqrFBCTbolhTx2vPHD35U1l6DYOoUOiQ/+thQviZrUuZQB/+24jXSJfPbM3MrZOyC5NgEEtob20wcs6UUqQquT2fCWy5mhydltb1jn9iap+c7TVMxPb3uocuhCvYvlH2FidyYZf9UvaElXXAlLuqcb+WXbnE418tYdzIaVnvvEkTMUafL0/bnfHGQQzKICpOyoZ/KmqpRv7dDApSMvENT85xqQASS/vTaNcJ+L+PFBsLpMTdlgBJ3fORNk+Jg8M5SCJDQwu7NaS5fQQLMR1Hos820iNS3qyZ/4dOl36Cbavbyu1s40wenGyMVk75I0pHVw02PqTAh7nPtsoY/sgv75bj101jcbMDo5oaWQerkJCFBoqQCAS72GBTI67YL35KqqYeVSt1t2oT041Xbmjbc2fdDO9mv4mzHaDzCVsTBJ2rBF/oUsk/T12sY+9Gj6yy0MpBzw7aWEW5ekn9u0CeoUPiIMMTvtdX+f5X5Wfq0bhiCef/A/fI8KnRK22DKBW7yR9w2WAvnGU+ojofQxaF/SfXV+q9vuCNZSA47dA6WU5naIc3jKh/VAIKNJBRRX/SPitFXWKxIqn0YuSz5YozXdjtRK4GdgtPO4H5XqcRutXRFUgPwVNmaf9zpx/Abkjiyp/DH13xWpgHsSBd1twYAmdwfqMmIrhlu+H04nxY0ViBFed7rDmBMrr1CdiaYgeaU3At9tSU+WN+b78yHgFpJU8d/I+E03kbMEr7arHgH1A7quJ/6EtPQltJssbfb7wxUC3vHC7Wx/0axoMh2vzIhbPcoizlVgajgrnG1XBJif9uOQyVvDexXjkOMwN8ToXx2KIZsTMvtT0bC1ab31xhv4AAALvAZ/MakL/AAADAf0mMALCgzJTw1LC//qFZtOpprONwHoFxi+7fZZgen3p94q9TKTU0Xj+IaBlxV4/ZsRrpG0XjuAnPS0O6Km1sQrKS3fMEU8wdxAi75DDj8dpsbFT0at6ZReIhra3n5ruFt5bNaiIyTColXk9KijxWXqDDsqa/rwaqYPZ8BicLgWD3M4h6UXjxlfEZOzuL25sMY7qnAsfln1j8NHDQMnyQCVaN0GELa7DcbbplFFHQGuGUwBVgwgP4IkX7dWvNVrm2jznaAuh4bfCXbL9JFWXAbG8rjGLMuuKHfe9Efn9Z1NRpnhqNpq0jQCNYvkeDeD0z/CUbkT6CxElfBB/iFkmmziuEmK6rITeDdAjhBoC/2FVb9Nf4wm2wgDQeAHWGXzkmVhVSXEwnqlHFKdyGmOlpo5s57Kb2JDeHkGRyHzh7obzuopkoQQybCE5wTHIJ2/z6kv/pGsx7P1MoPSkL0ZLP3C7iMOYry3tsBWZhyNWneMl9iV3MSyYLoUWPY1kXBgqyjEqB3cSAyb9AuUToIIKLQbTJDJZVY9F+V7Dsx5FT7g1un4uBZwGKFpOu0KHlM8hQa2eVYBoPsq8VYRRDNzJyQKjlJyrdAo+TQQMPjmYdENqPkhLuE5Z1dbdSOxvopyci8l44b7EDvWBbNYw/JatG+eabcSWnb/rZnuNwimRvbVrYEJWN70YAjtxGF2CwsUW+f9L7khVTmBwm4bd8tNakG17uBXbEjZ1vm8Ja9QH5wbMtMOiFc+yYAVWqBjUa1xFQa27dN8Mcl6X8kOSbmvXGSRT1MKOR2J+59IElnMbKO23sCy29z2BDBI+7ovxA8xWydi1s4CJqXUdXZ3LjT38/JAehbfRdL5fsDNEqSB5H4zWmQHIs6cH2RqUNylOZSakqr0bPZKY6K8lTNQE41dIpNdDScZw+vT44l51xpoi0WlRVyVM91tCcypJIfo9mJrV/7o0GJkhlJgdkkaZt+BsxDzhZsVF9wAABQlBm85J4Q8mUwId//6plgAAAwDGDrEheqveGi6S68YAD+V5eU0sslP+OYlmM58Ds00SVJxFrhfTsQ2lobP1Z3GrIWJZR9dy+skt9xWiIrEhXiEvrGqvbziX/4aTPX9lV569NA/rXsLIpXPlK3c3QnAf//JLHXB17IPTiYssiQCyF3cYS0lHrWN8e3KSdj/B6+W00m+XfMXVtTsPf8qLDEQyGWt3NyeCAilBCboN4l4FVWFzGPEKHTTfiPUKPWZ1QGtM2Y0C9eRJFD30+uNcbM3vKEhm2gmB4kYlBeF+9yJr9Bivthu/RdBeE4wGZD4qhCoC1On92a+H3ffGpc7E2s8U68BaAjNOKS8S/qTKixU3l4W6/cbjGYz3INbYXOzLRP/JS3AF7XWHzpLzq4HZcTKxwxlIh5N0wGIf1Fe1gU/23lRZBzEtxaMBKEXJWbou6UrSCqq4cdTRVwv5aH0mZ+mDDYqVWm7BxtFwC7NQ+0PIGCr3FBn8uVaFpJbd4fZt/Ymzs6zbEUeXAiZ96Z8dVrj/OFm5RdmMKb1NTbyRTrt/7V3+xTzUsdXy1Hk9OtOJlQ/y4CneUj6QHBmlT4q1mjiRBL3FiRmCwHnqTTcxaeGQnfn85Q++xJC4bF7yuRcOjcgMTD1tnfmuqY5e8n0tqR87zq4cFmWHtGKZKK09eu5vCzFk3lAmd0daL1DfqmXj/NwiEF1pKGS6Z+s6LXUwmvmxVWjeKOEXCmiZWN2igHUTfpkSuqHyVel7nH4uj5/cP58HBkOwCFpcnrwPz0V2ZDYw2cf3pDyjKuw8rp0+6JGLl6e1XquT4KECEoKXmM8B6uEMtMm1CmEyV8HQwSGNb7SRLEr56N8i1O4mX922d8g9uEtTkmPh6WYnPYqgFzQTxZN5LyYi4O2SklHmGDmscDf2sah8iAXUBS8oJwpx/h69LZupi4nyXinxkW9VCCZjsU9Vy9y4lg4451tYRZJX1713kSSMrBIR475VkQns6HQp0C5wVkqGxiqLvmluGw4G4qY8E0sWQzd/qPExBfMuHJq7whXMvFoKWfb0VFShJw7YO0W4kXyp4d/2CjPi3RPhav2xpWEv+OsQ1aksuqBxw8Pv1x+YWgNQ6dIimAAyD1bD1gSutBHL1qcTg8np/qjAKJp+O/M5kjo1b9hDvEa8xCsYBEnjyi/EtIhGf7dB7Czg/vn7d8X57V7hoimEx4Qw1R6XRQf4KxfkMpqsO826Ub1Fi3p7FKSlpvQK0swWtLBe045X3fzIXVJhgg/rJPMd3sTMMpuhVVpZrirBWUJNgifpFV6aR/h2FsTbiMCorKKXBu9qiavMTN/Mj74dlkedN9c9L2UYwxngpN+9WwU0/NuhmpuJUt+hMg0GVzVcOK4YUKaAGL2uoxd03DccxQ+uOcSBAMx9VCC1zuTtiNKFclCnz7lZFZih0HlFvlcpXePXj6WKMPu9OzhLAcGlIBXaJ2Yymy9Jz9Ptt9OutSTYxO0yXqJg0kFWyU2rJYbunoLqClTYzQgdjLiJX8ypw2BRfFXvJgvVeCp14uG4Yx9DfoqABgLeR6Mw72yJ4CP5tvdwYsiJZs/CWbA7pojJtdwkFABaHMBPryM8v5oiWiQFr+DoHWD8K/ELG25tzZgOUXs4jCnjj+8R3jFsUFMlYv7Z1Rg03tK4CV2vm90/a9wu6oRBeTd4tdbv/J+DUExXLMzhUn+VmO2R3ln2wQAABdlBm+9J4Q8mUwId//6plgAAAwGoqfoc3wt8M0R/eADarjcl1K9CGL3UnpI9krkq5bdsI2njLnRuaT0t2RXrFvO5Wx3PEcrtd/DPYDY2XXNZePtY6dbEgpncpL2bDqy11xTbeNLFY5fYBq80GYRuWk0F+tRV6x2X28wCT8k7QQOcbscU1EYUtQ4avvbNvNQydxnw1xWA/YsfdGiDZxiVFyHiF3OxDsAPVsoG7nE302VzWj3Sj8dDLocbRi59YG6h8KcfcW2XLL2C4Btvxb+fYudluVHZqTjRb6NiTnF+d8AjveG7lKProSNwe/2uhb4U2Y9GJYIbqdA6EQEP+jTJylwa+2cAU0ADz0xJQuqFu4fU5ByMl4kyXfg/Be5ICwQkAgkhPtDIROENzjLGpXkNT/PywyDsp3GJwwLN9f5m2X1pKGr4q738H0ZmJwuJw2yL+WsNPDuhZc8r1reht6+DYteEKYsvv9m0OFVGSH77MBq7RptcKXE4x4PGuFaRSqvVvdXG5bXH8vUPzws5ITKXDgmKHVt1SCTRF0gTuBI14ekdPnds9vExK89bxj4J/dF2IJf9lAeqHGhWhxMWaVSDBDqr1ojcNEOeO2O6bLBH7FA4eRoH3jevz4kHDtX/cFoU3Nm09q2iH7spo8pjrDmQZ/iK1MwIHAXvyCGKX8JP4i00n1gZJPATdbxD75aSN0OkMut0b7N/j0+w5TX4dendWrI5YmD1u2mb3uRJA/hKcuEjxm7d5Nfg1M2XZu1M5+EYCF/0n3GWXLlZRnmVkZBW1hvIFIkYqT9N7BEn4LBIBlIIxoqmUnIOCJ4PmVU3Wa0Ny2lWeOUkozcaspqNbRGgDDx9ZHy0Bhnq9kAvhF7dT9YagxZwrbR5bdyYgQai8ADTaw3MVvauZQc0YbqWhrXEwll+JcZax1Z3fPGssxIOjTOnXyV3ZBeCrPd6ci2Mc0y5o4nRzEJHD415+KlkJtm2PmTl9gjeHQbWAuPv5jEu61zALvqzUctOgxHLl2AWbCG6L5p3qFTUzzba0VAV9GSu1P/dUeoqgt/zkHduUrmmMcgILiSabe/5nq3mg6I0AIU7f2u6wMaXd8dtJAtgZaGdWVn+36PCVOrICrVl14jVMcPEZ2lSujCWMr2AtU98SAtc7Tr9MGdcllPq8yNEyW2AO/8fbO7Uq03truE0LBrNqKqfSNdbVK0SWTnWRUI7RJXOiboVLkRYNqPQxgngLARekxTdkjNLNsSxpyn5JQ5y7+CrRXSsnfEa12StcTUoAACo+6cBx7nynE0YM+IGlrjNKiq30P22hO6QIuyTQDmD+S1q4MJywKOpxGCHDZ/s/p8S0Sp0smDXSbw2FTL/zBtl50Vxn8jIJS1BDrhACz7UYJhqqgQvvEawqqNVAAC0zTKnqrXXH6bJWkf3doh7k0oviQeVnVkf6aq5sIAMbjJSNPBnA0zrykdHU1vDttdDXmMK138Droa3W0qnbVjaV0vfb+IWBmxPAiOXFL6osNrDFMlT/2+3fxXAoNsvy1wsHGjB5do3sbGuU10/XsItwkIj45CgYHoGL6o1G4+8retdQIswVOGB0SkWR2fpLOSd5bAkxeksNwJm24LIeVCZVJfbSkKoqrwqgcvIKv5EfneO3dh2XOihpoc4cXlFepzV7Fh1Eyedt+J5His+iahomApzLVOzJUDkhukx3248dQPwKB8YuMr5hc0KjnIZ7zWg/1P3nf7sxDpTkgPuOjVp3oUqiIVssor07C1npD0llAO+P7ynKMaGEm+BECMJc0T8+ZRoZlSrz+IKAHAXAWOAMaveU5IQK+SQ+ojM1boT3EKV+02d8IxRrPAAi2WnC6J0Gt00jo9Ff+WfiIR04VCokSTcoCAjc+Gel9ITRerVSKViCVar/o3dxh3+dpPLou3qaRemanHRvtOZqOT0R65h+F5StSKdDF4IvIVgDWTrjHwKWdxScr9SIZ/Vvtxpzqvcu4k6xMSDfWzm0p0Q2I8AAATzQZoQSeEPJlMCHf/+qZYAAAMAz0mCQAtpDEre9qXZQue2urswS2AZK39kAasYusJpGAJO2YbS+6mZyT8gN73kXPWz16C4HDOiKQtvUWhizWpxkfUSRmu57I2nAcJl/j4mPe11mvHqJuFJIOtbXKKBmx3hZSwq7Zigb4geIKs5enpWyrb/UpyoxkvyNVZIf/z4KMb5zU2ApP77XZQ1a3ePBKFpzle1zRWdHR5ZVxZzFAt3K58D/91dUVZyp7zTXoAU58rXX7hjqkUIsmYPFHXWHsXkycEd3LdEnjFmPTrD/clIIa/ynsdSc/ptWmX3RxJQXor6o08YglhDbt7ZMuwR/QhH7UvAsfw3CtZepq41tdvyiWFlnD+anztX94l4qSJUPFkjeBXO9b74+tpSeWFq/RWgxCxKLSovs+D6jb/GpgmMQUDcUGJiHAFCNM8u/IB1M6l6NDUNYLBtBjJ6DfrtdObjlY3c2dVaazTtcxTSvaLZL5ZlfkaSD8QCVS2MtxL/OZRWyQEUiZ69UE9DWV4SK733qMn/mObuXVHjaFSx/y5A42LiSzMs4A9JdVHpIr0E6WjEUJ6c+dz9sqzAE6U0YNzD6iB6VdQZB5OisYra0ZV4s2wOWimbf0p0ncMw8ZaSZBQw36R+z4zuDNGhoAx5zebCBWAkMY45y1SedNGs8kFQG8DJBron/vGbyuRmINOgbRAJIAVbeuPWoHuIrpvgM+KpBtcAvhYtZauYzm+p9nitl95Zf4cXU+8YkNiNMbPu+K//G4gclMcre8WD63qcEqytuir8to4OW2rwdNqkV7hwG+BCMniFToWPz7BrwPVXvp3lnWrgeEFgt5C5u3WPQ9li5G69+6pyDy9jIsO0lDoMAQSEYonSaJLMkkauZ6eBws7bKId6rBQBWwWLE9LsUxNE7yU/VRsBVqQZT5H2od1DRS4erhwr/EUQquwAq8C2q5QDHSXYTJpuudylXwH9JZ/S6UUpipsUoWSMFDa3oGrRU6ZallLNSstb4suWr88n1F740SDQB1D5bmbqtcqPMEwjhMm9+gEXTvU3HAkLOy24opeo4wwDd7FZ/Tr4UI7dW9sR7MuvILjQWTy346WB8ad1eqliFupFgnFrXjqstKEDDq2Nb/rTVi3e+mqdkXK1r1Qljq2rp4/zFlsJgqbKbCZfSIfpYKHksll4vP6JmXdvZEaaCSCLhvFhYIe1ktvGU1hnS+VMLfWYfMOEyxgTAv22U25B6N8qGUlfoUuLn3OoXw9jHJKHfkL2HHukEFFwoXgSR7cydacR6SPDY7/6V3+BQOdT5i6ZlyYg3g7LgRBbbnpl9lW0Nj0MPWgtqkUr9lmopTB6Z1C2gcZTXwVoKMLc3KVFIHmOJ+T/QRTZLSXfodwAIwdrqG/mToOdPvic2Hb6Crt08tcYlFFH6oA0j8Kw7LA+HpfVfjCw7OTjvtg6H/DUzIjqD3t+hNS4yAGBsTVUBiy8C3OI3Xj5TNHKjaA5N/ezOWFnd7PUxdCEJENFGfZZivglu+yS6gpI6vKzntRef0TgyGjByxw53TeR6sdkg5nIUD4yFacAjYGXa/Op2et/Byb2YB2a6J5DXOf0X2K0jF3HlbTpxTDHWKJp4Iwo+f64dPRL7sNvZ03WPSBSl60R+UpLlOb2XAb9oEfxmDX3k7vpqH0gywyr7tOpsZDHTgAABGlBmjFJ4Q8mUwId//6plgAAAwIQa+UAOla2UDb76aGXts5w80oDOz/bZO39TA9Fr5WpZu6W2rN1/5YPVk1s9pbTUyELH5lOC941vEze6N3HtDU3ZXRlmDT8kHTHYiwGDlOS+xS2gRKQMvrEBKEdCJffw55LigJxPLKzrJqXVh7tByXuFt1hucv/OabwneFwt/62oGF2jCvsOLSTcHYhS+K6RfDsbvRbYS6c3cqXpAaxfIeKvVgSkD8CXdrj6H5qjFt2lQJ+ufDxjGRFQBojK+O8/T68LLRMtdob54IwTAm7KrwOzhUL3lntojGg6VFNjkoTXEOt+fmUOs/7ZDuT7pqkebuqWXs4NEUGS09J9prVGOvxaVD4KR8L7NP3mFylfI2FYx1XXCRtuECGX3oBd7Q95bG7wl5hr7onHKRl7ICHTSwwOD9bMXw85X9bPgYEAu6CbPUWB7x/vHJ645Bi/htQGcBOFZBbzfrCkgyHYW0yoOvokqe7ZjHdPXDqsPEOoSyH6BdwApDwwWmSLrYIQKLT4q5h3ItbCLPnm3NYo644jtL6RswQLLkLhQ+mdqFVJIfFB6TvYhKtSze+JZOTPuu+eyb87Z+zSpn6aAT0fL6brM8bYkR2jcBq3i9wrUBaS72jXjoVCCL/z1uDuvEz9L4/2Xezz8hXUJWxY7GC1AoZvh6XgigGKSkjdMfRS/1DzaQeIr1pYGenXNpomM+NXAFk+3KlXPqnLMAgq/RBkk0JZkOT4htjv1CMR00lUYTEaSH41j510PKV748fIsOTIl8cITO1rXnB2W91JK7QI+HycgXuKUHNuTzagVTc7Br7M6D1sf4RNd6N30yyPlG2OeJF481ZYIvf2mBjAjgnZ8mtYXCzI6Smc6uSncmzBfAfcp0oTdL80fkAbHx/MKUT7TW85M5Gt4e8wtWHMN92hETNl2btkOMOvc/nU+56V0t5lzZ6M7hM5eRZyRLreubcXpIg4BID2mhzjz8YaW33B0uXm43dcpOoq1etcmmD2A28NvssGKUXAap7eO8SgCQtwtuz10EiUz6jnUMAv2oqhdW6atuQIWj/ONNieiO31e+CVOl+nJYz22/spdZOZEmc75o30aHBsyZvDcIDLG4kZMEmbhS+OxbK37dnU8Lhv/Ov7suBLu3dY3WQY9Q2JodimC3UTUgRI2xuR1twUY5DIhsHik0hj5lmUMz45r3zNM+yMganmjVSxlxatgSS26U+Vw0pulxnTDx03d4oQNPn6YbquYY5L718b2ZqIyDDi4xbufXAk3eq1fektlqSMq5ujmfQr23+00Oc+8s7QoiRwre59+Sxf8W3RlglCxP5gv3Gu7AkRjSYse10vsuPT26JE++ccxrrQYJS7jAhnE7iAZiY6yNny6dg9ZJXszkW6bAnK+4ebyQvU9hZqZGh+mKGkPKs8EyujZBt2mUbO2jIUkeIX9OIT6jE2JQp1LBBniDOSIZgeRIQz7dDX12tSN38BtsfTu8u6thEcoZfAAADYkGaUknhDyZTAh///qmWAAAEpYlChoqtQAdCSkIQ7P8hCvhQvC6gq9eTprJKDUc5kyqb59JLtex944ojamlh54Fwh0Veyl+M0IV5kW1ut/pRhozTZAj1ODatIFpqza3OEoujkjBgjIr5fqN2LfMSLLmUfKc+IpRkhr4F+aNJr3+OKqBzfBu0rOituEtH4BKhedxC85vURb0flMQgMK3kPeu87mS2KDTSbVQ4XrGNQVj7B1NFB0XQ3o3fRSUvdDXnTuv2WEJNn3Th3QKXIauX2vEZtOfp19CSmhsCvteYxduI7FPOBx8do0eQUL0MbvbZAjjIyBhAX+H42gFAghL4bAEuwXQruZzomYoZJ7DQDy6pVPNAUfPD/2bK2x5Yi62MRTW/lCoXBrm8Q1mgRWX9lqIsoDBizvQXa9iv54M3K/3RfBENAybLBdxmoG6WP/I8AqhWb7Romy8649P43dueFH1kIMXS2AD/RfOwHjpV2astQe7ZjJAoCjNKFI49VP07yyBuEQwQTydH5eV998P4U1Vlb5NVsinnSlA8ypak6OtjtAfX3V+uE/FfVv2bEAlRSlTjIzSDOElqtgkEWBpl+Dy6GCRy0iSzRuAsslthDodQ+MS7rhD8RBDt1VTNT9e02nNXNC5SKh31Kw+Ni+/xEOpuRemxkOgt7PYL2muK3y30mLw8vGWhk2eKicVEBr7cFpolHWPjzTM2iz7Y7Jzcu5NJ/eknDUVhOLNlT+b1Hxe6ugKa6Q8mlr+DCB++WRVL24mZ2YJCOyGzyBwBtIsG6+EdWwKDkwVI1plfypj4M2I3POar1Oiz8O+3ZSB4Ku/RLiaXWMdE/CcrH51OobKcG0WA5cxiOQIIvMkOrRmrZbpD8pIJpGelywKhKeqN6xH6CJsH5GTHej6ftXbRF/Zkih8Rdr6NDgrkc2GDG6LCAMJ58iQiGa4S5vZlXMjvd7tA+qAF12Cq8azb0zVdc6TY1fHF8ypf2dgu9pxoQ2IIRQRqqPMZ5D7fLSbpf6lxVB34eMdX4RODj/vEKdtkrry1s83RYwwBWAMZJy/PNzywjEYzs6xfTPC3t0QjiTFZrgjTh1mmMA8ZiRUSwGNpi6yRDAs8To9T7ionPePy0rAGZ1G+vHB+kU/Tu6H0lkBAumFzYHrBAAAEEUGadUnhDyZTAh3//qmWAAAEp+R1oLHdC2OR+sRHzzG8uyz5TmuOrTsNQT8VpQihgA7S1gW+0rzt73xVWERmGwZii2O+LGBouPPkGeAexRJheTI2vIbjpWv95cBHFpcpq0f5cqZdemBj+Z/BzulEru6WazoYYlSZtJ+dfe4aLaGu53trQMovjrYAFww2xPNyH8zvaQu4N59PJ+NsRWdh5dWjweXeTP6DvUnf9/Wwt2UXY84oDAj+gQlUSpUsiugPZNMevGMFpnMbTup/ysAp+N8h3J2yubm+AdmDuVGBcnDQ1gB53XHeC5gkcKRF0nh60mc/rnIzFRe8Y/pw3VHDsSfmXPE7G8LjDRZxjOQ7xHs/L+qfHXntuBfFdy0OAhRP9JI0jCP0K/v/VCuzq25bUlRsj1Rhk/3XTX+VRd2J6tIu/6ZjEM8L++XpNs1M2SWMAVJX4aKCoVovF+RXQFK8CDLCxPoJto9mATagINAsKvpikcw6H+GU3m4li2MeuUopRke5JHTKeK9pBD5gu1aMNjiCF8YZEltbZ3QORZYT+60SpY+rb4ryXZKV3cmURxDsTgOZ804KyO4Ip9pIwotcffzzA6NoO10Yd+lX/hIaXOhD+OaJeKT+3GMdDOpcHPi5AJUgAGDc+ovx6GGEAGqhBQcWNySdXwS4dG/t8sdcI3mHRPpb9TR+wp0R5padkY/K6vX2O1/d6hmSu+S2WYnhMSeHVdm3fRezXBAR1M8L02CmFGS18ppZ3ERwwxmF6mf6V2wiOvu9Sr6RP4CyDW+s5/zzjaAAO5yj0ofZSO2q04zf4xv/4YU7CtcvEbsm2D0sI4BGhBlzPR80Sb8R3hz+vNCBqiG9ZFmAZpYiVaL8/EnoeisgbMpgxR7VF+6UjlnGbvmKrvkebqIlENiwIQvBRuqgBpAPMnaWEZrZ+W2YT3K1v1r8A1HYqJQNoZd+prW7xBhhy2y/QCsfd8Hev60zTwWcnhZGf/9Fi2Y0DB+TmEZTTL7LwmMCGhPlMG1mU03hsOAWiaPOFe6ZQ2HXihnCKWYMk8pgsobKDqOd0UWnGF6xyyXkqQhg39WBv/urLoTTY25Sh0AQDsnv32MUawqFm79QG7sw4NfuAmVIBZt10oXkpVRK6Z9SqGLR8a8fY6DuaHfCx3L/QNQsEeDucwJasNJSq8fBo/b1UzVf456k6njMALFTOUvcuZN2ypXLfmIlzNszTikJi8KS2NetSzoq1LhIUDCpBOoy3KhQhPSlIIXSXHJs1yxf2AXRl+6OmMPyE80WvAFGaYuO9FVZwbUuTJ1vzX+KkUUah9fdVKnKKIOh8Ai1x02vy4HSpRTHlsRuFFASurZCk0U5PkEGQ9phZIKLWnNVPm+0hZkfXCpMYjeruAAAAZtBnpNFETwz/wAABBddh2LfdWEhiDI9BQA+2QyN0kymvWW4A7DhsyWFBS8lPWKj9TtPSkVd9XHYtqjHsJn7rbnwnpN0mldO6zS0WbMqGCRG7ZkRYfPSMyiFhDiHAO8WmHGYp33GQAf+VSZe1qhRxWTNCAYtYpg+9h0NVrQ3mRpISVU9gbYHBJ1g9YEfGWDgpBuE5igVOKORXrm9vRzjqs9ZSCXD5DzZWiFiSd/ECxkzBuVnKzgnexmzXT3Xk7+vC31CTrP6uj3iqZaOzlfHi5Thr0cZCxfsML8lCbuBV+soISKMh2xPp6CZUYaHWrydOwtM5G/zxy1cpiUJFUYak/NJptjuTDHMKsX6DvzyGcwpJiJDEEefaMBQj6oE8k8YFMJQxEmLw8bKj0XR60eKZAKIvRO3j1+B2aeZWgFxkAEIq3PleRN1Y6aS18ZxfFvrj+03pTurTta0c4WCOy8L91yrdCpNldpV9FMkBpYNJ3l5MLGFyEl5RaEBPM7kczs0SUZmAGN8samt5fe+bYliUlLk4UmAgHQo4aDjGBQAAALFAZ60akL/AAAFrnlaDu2SdGo2X6IACDbfsFJcSB/HLVXwQmsoajHeT65Fm6yj3AfHZW8gfArvyUPdlf39DA9qkhVv9dvBbh4a5HS5qn5n54rs+SQ+qh58VcW/aEts+BXW3cQCaFS0sgQDdmVZKYQpxV/yi2HHrueuqtJ27x4MNjlKBUlin6OcVpWjJ5x0StSY35eiyR346TrG1REjH+Z5QIRUjItLx0uhnWmv4+Xbwx1vmiiB/rgU3e9mEOBg0ymg8mngujv533aC6o2Q1TgwNrhaOOy0IesD2d/fXwJApw3abhs9Ev94j/R6hiNy5ffNNrqYHOSbyBy3wI0B27yfIhzeO8nLKCkaO9zQr8hFGbkMIPuy4mmJcw49ZXTOREtsNtyMLzBLjZAfUnm3JmseZFS0XtKOsKnzLjL2sr3VVH7RBXyKLT4QeofqAq5BMe2vOEIL+F+LpeyzZ3x0qYoxuv/K+PpW8BuEyh3QjyArltaTPscUmCplGqPDwioqTftisgnqX+KeeaizxL7cz26l5PxVt52Y0UN4q8BjfBRAT9g2Wu44HSjkmzu4G7FRa+repXkAPWuSr+HhvQn/Ih+PKAYRIL7mI8rBr+88QhHwm0igZLqfAzPWvxINrau8cpzhgccQypYLhF58rDsanJOeV5kpBlI0hh40XBIUBXOXpmA7v7Pb+xrdfiEVPt8nPFGb5C6hTqaRWrDZd5mW6PhODzg8VhoXXFZIC7tKG5hRc/JQ7Xq5OZbFRP4z78SpfbZbPuE8g14gpc2hRgBjVH4L9Xb7oUe2u6ECOQy0I7mcamtNMkd9G+5brKKuVpStEaW71pYeqKF+V+CTo9tvGYFrXJb7Ifsc5InlXUthaZxVf08t9oLTsEbzN6zAD4kNMW5xROJMuwZiHk1+YM3LC+aYf8iAw0wrfpbyFKL381DkI6RgEbgPSQAAA9BBmrZJqEFomUwId//+qZYAAAMAxmz/hNWfgC/2tlCdeV40MvqXz8PJK67tzo/NUPOZHCbaA4IamgdO0/lEUruT/WyG8CFYVeYGIRW85pIC1GMb2i6CdcGHsjtx5sVzBzSP/exaOJ0VAB3YXSl1ZfpRAm+PWWSyeE8Waq0+t/d2u1mw7EHgAVD7RJSQPeld7nwMajDtO4P3nD9nCCe+yWwKqV/sp81UmwZ9+yxIiKrpC0/UHR0de51xl5jVVOAeMfry1trvjZGza55zRGBW15CoSitRsZcoTXgmLPoB/5wDne9mKU7ZtZS0cqYf6wJMhzO/hVUrDriX3eqXh8izSwNcwvX9rdpeOP6VTnIHNEsHCDN8DgDA4rbQOLqLX7kJnYMKfg/fCTh6b7eFKP6UDS7SkUGUJMwl656IjBGHBF1SqUFsNAiTPzblPo0CHB4SA6dLvYuytEJ892Pw9BCuoFCfrpCEsQpyBMJXPafKmL+LdxNTrrS9kjV/XvETnPmTwPdwMAIuajwjkdnItpZX2nKO57fCpCDxPnlT+m/rS6K3CEkmRDjpDBkGpUwKI6JTS9NSJBfBbTlkQpLDj5ZnikJxa7fpk0G9k5zDjYnu+77J7V3222HEIho+RQKkxnUqn+3AcCOSAKsq/G5R9k7tShxg3PnEqozdrOCDAAXMjSzX1AAHq4UH6GD3ge/S5v8RmvX/e6tCXCRmMeC318Snty/ixCbjV4dxhoKVdtrbDeubMGivX1gmrbBoJLs4pkbVTvIY84sutnuZOmN9/18k0pXcYNT4cvmu1bEl80yVBIIByIId1OeiZ9VZBHPsq4NUD4c/kL3fxoUXaz63oYx4NXjynoLYdDuabCwhKlhS9meAhc4dYyoJQFKfEFrNerocGFr5QXgp0Kk1PnvyE7PYNiUCKjV0yb1SkeaRvfr/+/hLcFN7CMxgxjr5jWHoXVN62Ic78MYGWMA9te0xG1M8vtHNzA4HI7mDdvfvb5VNl5xcjMc7fgljXeqKcgZtVbLLwJpt3fsN4dhHyIbJ4Jvz8lfk/ROWqLRlSWcsSk8AMMxrdAQdTmew2+vc2qaA9Hi7YQwmsA81F/Knkc6V8dj1SGWLYEMxWT5DHIAFPUemrFGfvPX31s+oPTdwjt6tanorRvelDaQOVKY/ewuEoX+59+q5to4shj9WppgtymvpX+1pPuobMNO+Idu8eFo+QQLxXRrBvV1stYrlUIsk1HExhpMYN5n0pQbc7MjV16zLWXosNQPDPF/aOPdz/9rEiFMPqeLYbO+6tt9/W8UiraaxcOuAAAAFgUGa10nhClJlMCHf/qmWAAADAMVJgkAtdrZQwH0+gWz1VdcftKglHnozAUnqYodvRXRwqcHURKmO6ong2nWN/Vv33p5hGIvEA698rFOI1Sv7SuAU8Hq+MYSzT/sodUJNcC6dghgKmNTjbgnmWHGl4WCR5mgLn11L6KRXHt3tCpK2kWea6q/fRCS46KsjLraW6uQiCeGsUjfHx+cpIMSPIea10j+c8tVQ/f9Zl25qqjJ/JzcsQTvIiyzpt1ATl9O7eYDCdecrIf6NZA1XEA7FRVecs+aBrhv2ufvAmZmlkeFjPB0DAp/A+ZF+NLaJQQSq2woHmUPzJuGaNfumsShxwuwN4NBGwcWw9VJRJM+Kvvz+Cuv2dFDVZiqo0cvYiNgYngQicX0mI9wvKqdmMECouoSzNUdX9ndNU1zXX/nKtF+dK1Z1R6s3Hy7hybmgvH0nRMrfqi5vlmucHIpVQ421A1fS/IB33QIeoFdmp/2ym9ptRG6ajyKW8bhah22H8sBSuVmWDswlgvTG0drhfdFqncIu11vXFokCt15JhFIOLmjCCJsqxinSNIiMLdpZA8kg/+8DcAHZB2mkFqnyUY+LD9hfv/kfEEOiNqhgYQ3akg43SozZUOof1EOqu5ynZZUsk3olEx1kCqIGZ0bqqbuWSJUsNJMDsmUf3uaKFt22rfZQbtV80ZcG5oRuRK+QClfK8gWp+JMZUQ/UQg3eN1TpO/+YI6glTVTSVLBq7oZ5+vUESOtN5G2MZmCNaxHLoO6S/tSxii5mlUNsAxdS7AzsPTWbNO4kJTF6SQTyTRHNmLIk2YJ7wY/xkxr2ov0hxRYMD3PqdsugQzg0RE4tk6Q4W3fbeYA416mJKMw5R4PBLaQ/eTzLqk1hp3fGziu+0A2gDwDzXqFuFI7mvci3k73WJ0JsODGgHfmedLRE8NwbuT5mtHl+xNUT+ae2AhbDz5nWLiRSLpp9eYCxz2XK2jGw8zI3tfjo2byXXYT43fYEZQGQmwwRwtaHyHfg2gsh6YuCAkxtHD7ab5eo1wh4q9od3vvJfoP8NVf9MzO1OeHK6XlRmY1bNQDyq0l0rcrPvZzqm6PF7seGB/zYFtbZBDMpL3XD1cHP8fgYBsP2ZbW+w6McO7WtAJrTeEBYJRPMJiigKQb+ebhxj0CjxxK7FdYtyEIb9XLYGVnJ4zOVBOqvEjN5Gsl6oOIsPm5A0mHjnV4GWmlpj5juaPCjPMo59Aa7sQ8WhoBfzv/B7al21BBktP5RzseF8IjENL+WoXElSdfv7iLzZX3lZguiYG/tA6cGFymQwwt3WbLoBOuYMiKLxbIxxHtRCEiTqUy8IhPW7NXNJepbPnzlQUxlksGg2sL0SapX8eruBqBlMcCZfN8Vobbisyo7MtFiP0To6aNqUKC02u7jzUNtSm9+9qb2Fxn5lapz/MDz8FSCd3qgfJpi3vFzoKReueL1ZvM172hbwWv3FtYNo+0H0wCWj4ycRKF+i7McScvCzFffCaPE/yDy3lGT5fyLmcGlZt7G9BkJgQnWcr215wJErQiBIna9lq/+MhacZvAOOG+Zb6gMwhBPMZwBJ5zGpSwMwYNzJjNfmogHeDWl+Bn6DTuNWjyeGfSdw2ZQ9So7l5w1EFr0KTPZR7GhSRnH+oVoRcgYbi3cuBYgrSW0u/WpJw46aMuRG0ZB7wBr9KhRG47M6PbLyhh5atlM2MUV175H0vXH3cpqwjEfrZi04SSpv1cvdLy7HYk1bXNXSJS8g3yyOFZG9QNHVjHq2nZ8ZqMLRYPaZMv/6ggSajgvDDcbimjrMN49lg5xMfJwW03M9ZcDqUh9/4EtX7lEK9zJoycgCPsqP3p3xAhdzuDBRXmLAcF4AC15iigaeCdNAAAGfGWIggAEf/73iB8yy2n5OtdyEeetLq0fUO5GcV6kvf4gAAADAAAEdRzR55qyO2y7AAAFnAA9hISfF9TiFf+2H9/zACGGf43pi3HeMhDzNMIE94Cwb/90G8UV3Ge4/I/9AAADAAAEYEUAAEEAK5CmgAoGX7VnZV79dq6JxiUXYK7jDA9Yf/+NCyiZKBBjVCNNUCKjM8grMLsMyVZ9T6wRMib6V7uqyIsS1xXGACAxE6zixhrhcx97gUZQJEk3cRsJBhPhXthyO5p+3u1t6rS7SkErGqDlJF2kxmyiexMlK3CSZzpJzwz6tu/IL86T2t1+429wrTcLGw2dmTICDogwOj6wCmJPi4F/Y4/2dV8zy0QLZgunnW1x7CX+GkQdcN5xFQDu47v9b3CkmjK76URoEr7CsRJkEzui0J9UULoGKuPlX7A7wOLzsXmFQEr88aNBQpEjBESlOTxK2/t4YC99NsV7Teg2/wIVVFe4hujAUeObSbJWuvmOxcMA9reDWkAcY0icM+wJ87vBJQxbng5rSmTV4vgQU96Atd8/ioLdD9beORgaYZxyywDYjXfPTSdlNLxUIarzukoTWbaRtPOsElq6aIw29IDLvrXG9S/wSW0ZEjo2FDGK3RKnAQajj8uwYy25C560T8wgD5fo09Qdygnqnz6TpGtaKmCbELLuPaH/zA0r7HV/4B3scTjO+7u7r0Dc6S/sk2VSXTFrTRfPPfo60V6+iHtqQ5ND9PsZoxSOPtqpOOBx/jC/FilitDnm1ogzkFraC44qEBj7S64yMn2vnBoV59jUpr0z4FenppbIGT1zctD24SBZd5YfKQqQhIChmxT0kwHJed8BrniW1du0AvUH9s75QzxVi06jg1TJ/PYboZQ0eimtMm+TX1yhd8HlY7L/OA68hW3OqfjzL/0EVcTlNh3n4aLMDzMgt3RClHLZqXOqUi8WO4+e0w+v9XhLC9yU/QWqfbgZ7fkhRifAYCvSMaFVi/6eBA2nFo5MYeES42VFKorin4M7wOnAdEvCXSM8LxMkV6NDO8A5sJQSgqiaorFeSnE9DmRFiIKd9ktpnb113ZMapaJNybrb6krqyJPS4u38FSWuoXaFF3bSmc74Zds4Lft/Ec99HvU2oZQ13C/SNdCpfuDvwLIkHYtS5qpz9aEo53IMNju0iu4C6OU0KDY0H2/VqezOyXw1N6lbfsBnlvV+o4OltCKJb5z/WStFy6qGY6hDtXljIKbb3QMOvlPsNVr4sbUYJqn/6022TyBdxO6Y/FCoscszFnlYwARq8lOyg0SKDeQ/1cXFnYJOx/HAAI9QSDxy2jo1AU+bnjrzEEyJcxCkFnIshuKB2bQmr5GOJY1lbaiGAvW7MZvp4eodHSiqLh2XMSLMd7smPLvvw9+GFPG/KGm6r1TpG19BmFxuKDrVcsC+mBwL6phlDtMHDYkW9/wjRZVu/tM2AaQIemcJ0gwWpW4EOFFfXyd1rJFd4tGSXxS9zPRCt1sVVLf178pPSBz82Hr86hod9CqgWcIIUsRAONA/p5ve2kfBaV+NizPCN7lua2H810lva3OfQjV5Mc16OeBJaSZZ3RJqfmJ1Szpr8/d3ofFprfTgrmQqOJPS0AIJbsPxDt9gUCcB8eV+1G3kaOEK+0wG+ydZpLVefk4u2+G5OUkLqcM5xBG9+wsSsNlSRm/mAPgmUAuCx0PNMKRkSjIffTDLPq8aJfHnC79LdKp+H6h+p/8gC1dTyLnggIXE1Me4B+mgF7hXp75TfCNEzCTGkPs7oRiXvCzzXnGh/tIJmeynH6K5tW/cma/FLtmJ2AMsYTJGmqZOHqV0jlQ49/nFTW6pOg+p464N0zhDJ3M0lbNrxxGs21wZoYZMOA2fLmKfIp6QqF8UNhK6el/gDwdm3xGtRb27eMu9vrJRBp9jAaz+K7FBfP0uSeHtbKbaIN5lkQ9QN8a4ufGXOceg6P86xT0E4xRjXqTNO4yyohRgREkmcZEi4B5gUyh9hs5gy9A2dvuOg0M7DhuipfJeuspV5KMpfy4s0HYJ3GV3gH31D7N0pexfKdpFshc5k/kTW+bXtQTtxZHwTuUu2dh/enMwtfcu6g0ZJgS9wJWV/9fNpJ1Uy+NulZOR0YEsvp/od+KKD10Yb6HtFLCwn18cWkKBn6UBn9lLT5dGAf2us85UooQYAjYFQAAAAwAAAwAAAwAAAwAAAwAAAwAAGPEAAAVSQZohbEO//qmWAAADA3lvq3E2KzTn4R3bTARldAL3yHgepVhGxf1JzlxHYXikYhFPa0v/ZrkXst+WbXXKvA/RpG15bA5q3XkuYbuw3+J8RehgAy0qsu5BtTILKi0JD+NvFufm3/Pv8Q3mXyqKgF/+zzOlRLsV89zCCxZQTPNOmZLfn7zvFNadSRtx/lhYjUr8ry4E4BLLKWk1BpaV4EB/NazO5DrJ1H6ZGI9EcKW/EWVF/+sGAKACOxS5GlDLGU+CwIi221IqvqcnhV3vg3Ht9RTbVzG0RJgnTVqxPA93nrG/gfV2xVNXYdmi1F3I4StnEGHkrJlK6okrS2Edh7Fvt1OEoj4ck2WXyABOyAJwz/rAALnVFXzfVASOCN0Lq63ykhnVK920yKY19ouSZaggAgxntDcK85cMjHUt3BNrJFrwao65w6IkYu4X2hTgs/ZMUDdbBuShsXjU10bsZBxS9KYYJ/YOa6KvjHBuKZUZWAWGXTqCNpm0IOWssSvp6nlug3VcuNJc3qRKivMHOh0NmQRnLTbklbS/gey3kC8zqFkGclY7VjuRVsG1Od0rfq0oWeMrrCxxdN5NTF5lg5Z7IHBhPVmQkTiNFkrbHWtAktK7nLfgNs/9xXEyPJMVPlAvm46fVRDm6pgkQTbDTi1tGmCYzQMTPiMt419IJNeeo/pR/cAWrmvobzJ11ApUsacmppPi5cCOxpq7KGVwdaVvM4TfC5oFw+B10VKljnvfjZQ23EIDBr1yCqnITRppCkDVu8FbsHk3/PnYxEtbvYAXO1T66UdRBTFJmc/OLDKOokX29T96vc8LjvMoJMnJQUPbBr2kKJgha6Nhnx3einqeEz1MTG68Sx3lBUUPhqAqyZQmJthMQbzlFW8YFc4rlz9ttFATYKSRNvQe866Sb1a8aCZUe0ann3/wQ438iW9mOkrPo8+mJU4Sroq4tv0G0YcBuwV4yXw4AEVB9Q0DwFIhmVfm5b2Xj5ILq8+dzrinekVSf1X15m8JhVOZhbmH/q3gV3/HG2CUGmd8N0615e4aGnbANC/6KxEVbnjy2oHWNzg+LH4JOIyubS0DUrANc/efknRyeqwdmVcmQp+XHOETyGpJD7bwQ4t/9Hz/sGzVHbhvwalQZn6XGjkfZc66UprkfPaREidTOSoRHWwzaJMWNFOhVxLLA6mc7EC+BuQKpT+vIj1CsujT14yzGb17FyAUd0u10vNjdc4ZmkOwX1vT7pji3dOWmoBg/zJdvHl7Lq+0zmoX6SMhJoT0eUj90TQjEuNhUv8uzOtIHSN5FqXOpHD20Oxp3YK3p4EShKEONDmCpJpPdLLvCQehvRewDDGPK/WGP7pvcy1ZtOMjxNRWq0w4gwMe5WolrtdeynpXFWkeE3AzdM0SuT4GvPFwGi2SdQSAPKC7OL4jq8NPF0nl3/cUGBmwqctZFOWs08fBrmpdnENFIu6rX7EoN1/XM+f4D0jwjZfoAV6/mBJ6wvUmFJSl2KyJVxi68lC7cfIeb6rxhmIHqmKQPWO6Dv/F2+0gQVLFcpU0FNIf/LNsaQjZ3SjK+X1JUHKfwlk9xHGuADUyL4HztGeVwgcpUHbaXb1eNrhd7HG0atktyZi4Y3rz3YFtdKTQlNSAeNFRqxm+hsvzQgrdyKw/pcjATSq+9sbHaPBqtzKh3A9KdeQnQuM7QFkez5yYEdkL+ZnEwCteJczO/EUYubnrOyOLD892GAWa4O0OYGLY6I4yHpXkW5dNUBRLhObMdTFZnoTbNDSitxRlHQZXxEQMxSQNtFC6rsgDImkdSRLQeTIWwGmDKPbCRHjpAAACqUGaQjwhkymEO//+qZYAAAdKrjyj+1SAEsXiEcL9uc0bL9w139DG9mAF+muowiF5AQLo6U/PI38nxbhxoe7srdGF5buQvUAeJn+X66g2R8MtuRzoMAjYFEVezzgyGXJhwEkVhK2F6a3blAnwcA8lIA0l4HDdCYPhe3xcrJlVBlMZtw4hIjm6vUGhpqiivtcsS1CttyF9wLC+437g3znrvlYh3CnKEKpLCZCIVr99CWQ4lXdsaZTQuDBcKzv/vPSC5jBmF2ZY/0+a7U/kJgQE7b1yqw/zZl/xUZOwNdAnX0K6ZitRasUbTcVRyVe4RyfowoQ/C0A36dKqsYj0sGASxrRWpKHeoOit9gPlmIDIWoKYgb//4rXUHnh4UpRTlakUbHDsqXg/7ccZabMZYW2mypmrte2NXZx6Z+i9BML7ZLetW+HBkW/rYdR9Yfob9DQw80W3Cl7gdyb9RL8PN3wR+gaoHD6F55cBNQJf6undSfr0EXP7fLHsTGG/qzJPoX3VCJc8SDn/Ejw9CGb8yaQSip4au743RkGvrBB6zV/CM39DKQUq8fPECIo0R4lQnzlPC9hrWhF60wmULK56uNIWOSdi/ox9KTJYTKo5WY8sme8buisQzXg0V8fKenEoEOyXhJ4y1yC40NyzsGUTHjM/uuJwjUJzTmYkz4YcSdZVHiwt6K4XycYzae+dKtgdyk81SfMeGSVGb6+cnb2NDj695IxkFza/R3qjZTvmdWKo5cl53OssE02HaONRvGv6dSD+OFWSCAcZGrQMTrYGtlyUWPEtLF8Di5VLEPVGDfITJtF4sya0g45nUCPx8AN054e6pN1U52RR2OjYSJqonGEzurQNmDPLzfpbN4wecG8gjr4F3TQtd0g0m6uvkSkzKNjGlkiKnIzYnjXPgQAAA6RBmmNJ4Q8mUwIb//6nhAAADnp4ti9lMQUm20+W08ZF8LnuAHHtN91gsrxkLDXpqc9h3WwOkxiV4YMCYka+oAr8MfQAAapPn3dWsEytLk2LdWS/y0UnFSQUJFeT40zBrLulUrkyDKRPb0Q55FBW1eR7Dix6OQxqC37cXm+ddsxDRFuOYN6kKfYwFO6M3qy5otZWwueIiijW47RpyckQSh+BP/B5kxF5bXIOSiI3GjQIUf3ckbijN2fmYm5pz4/2OV7OB9hmVOTBQGZ6gcVnvews7pGbnjc8zs1ohnUiLJoLf0zyr90EpuH+cAwZpKCctbw9gNxtCcydM3xlbtqxHWMqEkd9cSuvoO7FBiyHqodLg87kHWwabeCZvBBJVq8kB29YRYZM0UUI3rjZsXwLeCKIpinZ687rvpbusd9ily96q11C+iFKh0VckXzcgTdL/r/TkIRTD/WfyxhD1xfb4DitVAFBDP0dV1v7WX446RPj0176vdoBRTtV8hrwBp+XKxcxF6PRAkRX9DFQKxRg+UJ3vjO5t/i70Iptf+cU7q6bQ4EGopYdRHa7JvUH1ZmlSYoYn+aPGH/AZxs2KvYjKWwPJ01s39KbGHiZ43Lija55dBmMeMyE4yTZ1jJWwQ5fn+X+8HZyv8JRIwfr5aLNPiWlFIelbWub2km/wtRTrupwqLkWMAn1kWSyjBhQ3PkcFqoqnDNy3T+ObQFoN8pkfr3jx1KmlamvJLkg8EhnmwPKlafH76gzGA624B4OM5nbsALRr2Cb0IypcKZvwJ4DW6V6pK0RfQ8BKpwPDM8nE1VxE0X5ioJLTwNJ+LjcucOFOPAtGlsFZ3ZKaKkDvPR9HHpcjyORG21R3YkU5UM7keDmJGRhc8YO0DsLlvGKqxPKtJmqEsuSYXufcdvp1cFe2RpoDV2UdWYIYAE4L/5Dc+jlCpnBY5bnpz/Ft2/NiluGcVgTUjIH7q02GkDeqngSlRJ14q0iyxHFid6c/b0FDBzjyUqf9QXhsFi8le8UHudxd7DAB0DLTohchiZ22/mDbV8NqTkJ1XGf5sB9jhDSdthe8kYYSIK+iFtnMpatgf5gBVEPz9tOsWgNjIpTCuOXZp2OdkS75/Txx2YD2fdkhjAxpxmyGyv6O+0QskYAY5Hh4jYFUk678wsZitJ4tTXxlvEDc16OXMSEvlcs15g4tbUg4wyxNwTXfIzFRGauf3oF73x+KTmCI2LW1KZ6ZZTSyMlDqfSHdAAABBhBmoRJ4Q8mUwIb//6nhAAAAwNgKSRGQAn+oHiOCJax11MYJ+lFtr/EgbSL9Efoxeut7cTCxT+o+bHcLMiCs/M6AA2/iyyZRNI5wEck6l0014C5WiJku6WAvsR4JaxMzOGgAL0ZdIEqzof6sRY/EUNHkxG6obGKLZ1RWv/X5U9+p3Z/Qhu8TsuUgfv4M3/5RXxtq0/q8MBUXQU92PQbvuvEDkRoIUP0JulL1TPDZ55vh2LS49yOjqDcITLl52IoCZoNN8GgPt6T/0yI6mhLTkFEJE47HD9yiM1eyR2mfQtwYAcaWdIS3OHoRDkhOMk64dhITDMzR70ZkDfPGABpX8241kbtZpu0e0eYWlA1hQSLS2CSkx8CAFqRgQts9lIaVWc7EIVsr2XZgYZnU1B8YDBZt4NwBECOkfXLGca6e12wB4IrvMBlDg2qoIQD0/ApOdH4ADsVaaIWp/cqGEdRWPjhtSkbTma/ozPpij9kpvHkm4QwSu9I1mBJEpa1Vs8bYrdnZsxLWjxL2LxXF5drpfElj+7enKeEn2INaqS6NJ94/OXWo3Ohl1I5gnH3yd3CAMEFh7Duyc4BpKUNd0P0HGsf3G4iiljfx3lR6151AJQ6Top9W6zB2JK0fiok3vDSm1OhwGf95UwO0WGyt5F5LEQ1UdubOf4TVWEABn+FLunzE/tzRRdZCQYugol6GF3E16kZAoulE8fhPAuTqJDz00u9asm1+I7GA3WcHGACdobNPzrc3AGFZRdijDhzC/4/rZOilQWjnARZBjlcL+edLAvfaSbg8JRsLmj2j9+jmaPshQHTD16bs/aAZS+3Cbx6mE/noL+0PdTyG1Is7uctcHGdUqD2Y9cCvyvIfSt5CWfYr5KKQI3W52VnO+gyIBNMK5it6dL0ymWXxmXa+WkEmxWnaesC0fFTxSMHgc0Xp3HgYkY8F+AGD/X/aDNaYQj5xnG9BlsQ5nnqCfdkoi2jJ1NtB9++vYu7JnojbSUaiEzXyJobJZ1qU18WQ9PnyXrViHJMP0pUosqTz5Yp5g8S4Mtsom02TAv28hBsd5t96vl5vvW2mgUkSc8rC8BELow7iP4GhGHWgex1HFYUWGx/JL45HM7YsULjov0FcdzWbLHv0IaGYZBTmhS2jO57nwBFgRU+OQffJnVfIWdSCsmvUQ2Abteu8sTEWbjLYkAjRauppHvPipakOWEo0swyJnPxg30pkSJJ82jdHLQzAnL+N5w8PHrdZjYg0YP/K46X1qo6X8kBxRirAKEq+FxFOSlB5hn9vn19pX1mN8rXpzh6lHV1DVqhLZabqn7jKlwZaVMtsvM4QmPPvTjfuPWt2JCKdwnMUMJx76l21ZmKRPzf4aqSgPgYNPBlOhgNmpzK9TXXnKESgGz7/rqtAAAE8UGapUnhDyZTAhv//qeEAAADAYeKWoAia033KP30yFhr01OexUenoc13wy0kjLz+CpuKghWRvK1EuPaJKWqLNTUDA1iTJrkU1JpvVLFzweH1nod0Aof9UVkQ4VK8Y0ZUVIww4+u9hXUAAJzxyz8lg3Wv8KQlzmM3mY56Xme1j0dxXfYDswk3ZOC2ncIlWxprgzUh1tIH4C3zTEk80nl5tzknStighp+PQSV55iIbzDdgUxxIEQ7PZZiSyL/QcG9nHl3T6NQD8ItgCatzC5G9CXEDwIamUWGTWK++bt1lxj4R6ZCTLTAIEt71PpFhFjfwtbWssjnlgHDfI0471jRYGuJRwwhXHv3aItd9egyOMD1y8SXSELy6Q8FiU/Z8Zntm0s4PXP8NeMWGYs5J3L36GzX7T2wxLXj7Wme7EIij6rVjp8iMQ+lH382vn35aAcpuoJftk4gYRx2BDCL6iq0MZLwg8AYwqxOJgkLJPetEaRlbteup5LnAqxPBp1E27Bim/22PsKhSFAlZRyU07cL+fGADa7dZ1YMGvRXTgBbgvdK5OY2RsazIl/SDSe7tasU9UH74dTmIEI4F9iPTf2g+Pkb7Qxsur1T67aoys44n0ptkeDbE1ChE4sDIzB3j057c4lRer45RKp1eHyvz968JbdoOfNmZ90RbrVjJycibVCrk036h1Lj473wjOtgWAqkRc1i+GAH48qBYn/8Z/zBM0EmnW+iP2rHeVrlcZqkkJw3aNYjITZyTDr+sBQgqeXUbz0+3SKeR2dO60rkkCpiXulcgfDPvADEgGocCOAT0kH4UgBIHCW/NqNSFbm20k5zP3omOk7o+TA0Eu10OwyM2ulekmfGd4WVQttbgt51PlM7mN2esUjDNyjz6qMw6Kv7oG5/nN1B7PZCKN5OEmdTs8Ivg9UwBnslGzpMEt4z04NEJxWs8ePDwHvAmF9Z5K/wuWK8S6vxEwcuaDyM2B+U+jtBAA/8reM6gOVBqO9Ob5D465u316Eh5kfra7lu90/xpf7PZt89RvVXa13t16V3W8wiBHOdpoPMoLbbjZopwhW8//XAmXLtgFUdS7uKgKsAeI8Ymxmd6mKLWffKkt3DoB8nYyFd0Bni9TIxafoPbTHE4PYklqjktl8CMD5dUT5iU8n4j8GM3DUMvrzqxWFNxmUuFhsxp/rNxX+6bX+X/ZuJxYeqpK3PZMwy7wQg+jwdfsJl9Y9gKm8vKgy6v2C0/6VcJj2bVoPZXJZMWDZRFziwFWlQRgtu7v6FB4XK9C3ewP71vHYl4Xc8kJHiAzUVfSTIO9AJ/Q4M2uvw5F+Tn+UeYT5xd1D0myyr2NBrfvRoc3txx/eUOeXa8U+m1R88Imwm3yBh0Bu5Ykkcv4SlRk02sfQkCW2n/RNWYnGAxcaYz1IWuYCSfQQTIB4lL+NZIxK7Ee/urY8TdYTLXG2Qgk0uyi/CalYNED0efh/tR9hAMpTMmG0cd+rYAC0eYixFIyOhySXFsgZYxlgToZUnofBGOJDyneNHAO+D1diw2tKoAM9CesIPL5oaGPN/nx9m4EnaGvhvCr+9YFqcNA+wTUnrFaa+YubN+1tfoqrbJMyB7yaK+3H2FovqZP4fN1MjZwSBOeVLmo1c0w+jOboLWn7saw69qayCyV3b+7c5G2K/iwRCfL4mJ8q4+LGw+kzpAAGNBAAAEAUGaxknhDyZTAhf//oywAAAM9gJp+QQdifHSiXHoALqNluC4ZDDLSyPMx5r89/xOJwsM5AtKCsucHCznngPJHybeO5qgfBgiEhRAxTCLTGTVe5WdGPC38F6tBi+S0AqQ2jkxaXeqcpIYOgXPgbLzMjvOiAAqO6HO/bP0QRLux1nIyXaX/p90h5ZIk21v/IRVo6cyoWiOWk2Icp/SCxtJa38t67ei/VCOMIrIcK4p0AqBc4hEjR2LoXBGmgq8CMh4TWJtgTc0iS997Z8FcVQULJEb2A7KevMyP2hEqgbOKPBQMyz99FzQc/niQdke9VHGlbNXN0CJNrVPpIkmLWLfmRMSCtON1XEruvugufX/r21KOs2766/dzLnloZPUicfvxaV+lgqvwNrreZOtgLArLzDx6cxrJHE0DvZUQYZS9scVZ5HVvQegCkbu9KEfCWQ34Nov5da9MLnuEoj4bAeHxNpevSMBWNawTVPxYLbrqv/i2QQ5y63dxiK3VXq//n6BDxaZcKiqSIxITAbibIVTPh76Q/rV0IXAVkVdYZNVAWl8ZR+NEOUcpdZdUSTJT1wMeu7TwDn3M0n3Nwsh2rb8T8/hDqQs/zU563FIgEMVXzZcwqg8dxhY1UWWLLOksjg/VJcg7O38QlAkHnX0uOtYMfPpwJUcZbLm/TICSVgkFpXc6R6pCLppu6LjicqE9eZNX7DzfOiw4/11fcCzdpmjjJVOpI+U4B1vDirT+HgxdK64RMU7To0A9CFoKkuN5Ho1LlChpLtnsioRC39MZ5dsLjsOAl7g54TyzMhEimx1J6EN1Z4rj9lZLCArXmbIBAEHXrZ/Iba8Swt59/LEmjPcojOJuDpL8oAr62fLEMxKlfTb5R8ikbcpFx9IP3vNQycPFcbI2THjLYluboCi/lWqqQJ3jYuNnuPxpuUfMVu3DFbfqXHj8hShkJFECX6o+UbGKALfQ7kAItD3cgobMPzneAIIo0bMCJypugHy97jeyn+p9jyJj4YAhHiN8e925zCkZW6B0ZvgVjadS+5ZEcpFoP2J8h5a/kFmOvSLBRWmoHqC1ElCpdQwfVvsb/kYyfpaWIc7H8c/CQHy4DPsWrXAuqofvPpZ01FV9+IjABvD6OUxGBlmKJiE2n0H8PUVUJxwtcqeHiJLvESMV219MXmGukupOBZld8/idvVp21HPI0CDnP+dothpvYZj0Y30wLDSFKHvUrtuY5Bqv46AM/1D8mJx0AfrwvycXUKoTepn7D4l2ffjJSbjDPJ0USQPgrKwVL/xRkx9kLLLUefNI1XaeYqVPV3ZadEpOHDQ2+tPoBpLowNhNjOnoggwehpmTf9+/D2vCi+HsvdV5iTc68KpDZp2AAADfEGa50nhDyZTAhf//oywAAANk59gkUrd9ejI3guouEv8jN08xpdmZxBWmg3mBtfzqc1ss56HQ9vqaYaJjMeqrvtRxh1buOxzKc78j4lBp5pH1cPPSUkMtFOgb3Jc1Qgx1farrdv8/weUoZVP3/gV20aAsfcAsHEn0ULWUsP4+7BIqHI1sWTam1iegl0ovv9MBIUHrnNXiEBS94Z/e7bjxVwcOBtt1gTnNNmt3BjPuHkoX1TFW1pLXpfL0gSrPHNJvW1M+mcXLQ4XQCmjNJBZ/crIyhmcL94h8hDc4iuRgQZbw+a8XswUxtPCLZJqazkHouUurO7kW4LTsQu1J0zCsxlCzaI7asV3+RWPVATqAaAbSJeX0LB7l+ClHPEr4Wq4DWx4cQJf3qK5vGcjPrdOBYoTB9WJxQN+NE1pQrVex+v41c4QTrr0VHBpmhpX2aYrwiuNHcLq7fduFp748pAmPfneK8SVaqBZQjCcmMQBAPiKdAPBYNJyUJxsl/NQGmtHI0UlO5yjw1MEOOgYcUmGK4wmmltkOwP5AnXIuSWmXVCZeneu99BTQq+hw3TH8HA6+xeVan17UvVkERQ1EN9kTtdju+bGheRwIV0pDIy0MGB+WZp1b/DlvSuDHQbe8KDQ8xM2piJTRi8y3/ENVFPm8zJ6VtYcK6u1gGZxE/ezwY17QuRjxpNoFm99m1yXCmZ+dhSRqMfl+iFlSVOIHChHgCfmBSETT6IwHpinUZ5ZBgtmOKejs7BaSCJlctrinDy2dOY4/vlild3ZrofMFdTaaxw2raHcDg3SlhtN9J1zUwq7DZlZFKYtizANxpu6NgO39bw8ld9fEaVcp/V/hyIw9xzCmdACLRIW1pjQZ18B+J7dQbXAFKjpWPGmF/4PFIwr9UTbElzF8zr5AYZNNHLI6XZ26nrEy2i5YevNbgsA8NRW2HdujBcCVQ/KLKBAPV5P9/r66CCPu2JltcmiJRXbGtqdrYuh4g6as01L+Sd27UxhhWFfsuxMwsNsgkevj0b4dmFkDWtTYlcynM543tBFjBZ2CULGFcquOZVAlnx67f4LHMWiltCU2SmKalU+LenW5ZcDoEKnDsy/2uelU7iRsd9OoOhJD3rcgjyc6kV6cpL2w3uuCgZ1D6iZcmwZYgeQFGrbR+WFET/zsADWe22zrTX9ACougBCICXmwu4AAAAYAQZsISeEPJlMCHf/+qZYAABgtn/AznwAbsfmgYS24AT7Ag4eaodmQwHZ0PN9jZ4Ggx2E2aNBfxctsL+eQ2tMqaMlRHM0K/gA76NvJxPMX07UKKO6e+IAtDq6JpIUzt5JRMow1cyZI/OnXeXV1YZmfQSSY2Vj92y27GTxuOGbwPX1MuwBRf2DG29Sm4Dm3OKekO3bqW8IGoX2zXVcltXwA0ju6k6EaXucbUb51xl6LUySTrAnWlHdhn9Ro1tpYrsldj/+N0+npJiULhT5MYXyMHWGWzmnFNkQ/7nYVi8ZTrw4L9RS1bhNB07rRfTN+D2JIEkWG6gFd8H2Qev3S0LN2E7BAbdzpUE6WSYn/nD4a/F4wjuSgJue7g5K5HossumNFs9X6G9TIqniLeM0YsPbUT5MmWMZ1avx9ivrd7JcJzMuQ4s/T2ZMEasQup/lifBb5rUbhgKXUbU5L0uFJ2lWDExYDfSJfI0J84RbKvCoCSdtinZOHtZ8ZmkXoAHMEqpireWaB07NnvNZjD/8rKduY1mNpTtmsRFTEmC2fYulS5d/hwXvt5jPVffRtCgAaiOJZtp3oCQFGTlp08u2NbEqnRdx5/1KxoGR+HGvl9+WalyrVogB4bpm+TcBIKByCKQ32PpdvYrSK89sqMeMjtlLjB2b7eKyA0BNk6I3xtfv+yIgIIq9G8LObXY/f3Y1l+SzLt09DQMdIdhjrkwuSn2f0Folicqd9JWZXQFETGsvFfcxP6RcrSLbPm0ioUgbD2PH2EbUk51Py8/ExbRKnA3gfPDN0Da5qyH6LuRk1Ve4oTe6/6mG9ky1DjPEAnkcW1Eu25y77ZkRTc1EHrgMB6BJZ104J06YKezRBN3EPR2X2xtiaikjK+irArhCYTZBj98P8gkhUr+qMStAHHIt9ReLTHe3TpUQhF32B9M2znMAFEo83yaDO/fQ1yqq4ZOUZyJFoq1pPhSdgCw/Z7oJv1QZ2JkizU8+SBUlcAcsIplM2ydUuY1iulXFI7HYPACWfVAvT9Tu6OkunQJeXfTLTfDab0YQHR4kRNgDkDkCHRyANFU+69Mg/ae/EYFzb+xXS2ZjQyriXUrudS7toWZUoaZLLkbmpxo1pcbZesXkdHudTZ0iBI0HwiD3qFj/3r57VcP8Ir9nrbzchLAPR/AdPXTVs3bXmEeRSrFMvJxtEzWxFuaoYAshXNSmWVKxPUJIRnc2oTSGeJ8Uwkx6UD7/AXjIBituRs58KT4rZ1u99WFNOWuO8Iga1N7B1Olot6D6eg+zC1jaguykyafzEV8qKSOPZTg3hWYDsfPDs7ZmJOV/oSV9l3YcXEtEmZeR1HLw9bI/KI0WG46RZM+wqesAXyti9y7YOdWkfCGB5m3jnB6MBJrmSEBF4P8w4lJb4z3V1dtu1Itcv5VAv/HMd85ym7k2IS7IMWYM7qkxFUMM1u5kZ7K42c3e56MJrWdTgi/ajnSblDBiRlJhS56mDPj7uCPFk5c4Q1oyLm06rbjBdW+xqtW+idB0vUE3fNF45eYXXLa/nyBIZtHJUdSJZIhVZx5+p985aPCPGeA+KMNjYDXBk537/0q6+NXyUAo2BUY19r2zkLCOXW8ig5XRRAXHwHy2t8syctY/1nYh/SqdpudWsyBrw3MOpWu3Ma750QCjfnso0VfQ5+/XDORBqHjkkxQFst5HvjY3Fg4zYmqA1BU6ZcpLuzz1Zjo4lJo2LqjXo8zXWp2z00C2WlHMv+bTV9GQiRqIN/ygLDiW0mKML7HdqjDuTRfoWa0w8HUplnRMPrznIU6Bd8VGiHD32yKCAVk97g0jcSvDsdm9xub5mZVoa4s4+49IInpOSv0HBan7anX+FfEcGy2opb+XImCN5NXrTiHRgabXYnTfB5KN5nSIreL6L8fXbkvM02q7X8L18JdFXjhsWBjqPaJ3rWh6YfCtv5wCULR6Tb6mDEduZ9krfB8Di2LQ0YCbT5WQFvpPu2sXmuSDF1bfQnMKB1Imu6OV39O1xR6d6ds1nlfFONPmrhNH19SfC7IJMTGGescQhyfThAAAFS0GbKUnhDyZTAh3//qmWAAB0i02XDdl/1lLb4+YTtz8XmBw6AF1XDRvgs8l8/0lLnPPn9nFv0iARjbXBj3Zf0qXhuvo4vDgrj31MIzVWMmLjFjHzw/yZmTpJoxpBrITbzkxiyIgAHYCCWuCnjr9PpMJ/PjtvRHQc0asw+c6iQt1WuED2tfpRPX4cMWMu09u1C4nM9/eV7+qRJPDDol0KLyGTJQ7Yo2H6M/8KkD4e5845b+MwrlBX7R+LvD3bQFnE+DVtk1RPvEo6cE0m2EaORyOSrik2cgvK87yRQdGxWTE+vdwZdsXRC4hZ6e+0Qr4oRSS2gqvnj/vdJOoOsJe/ZrJJgvDiIT+99w2UbnGbbMpkgasQx4mWR4VPLTlde2eYMC9pKkd9KDy3HseDeGzZ1Nq9J34daEuOnLPZIKUtLr1JmAwIXM1IsIjzsEt/jydjU7/4rRT832Zvg0XARF9+fwQJvGQebnLAa+AheoQAjL4xhHf2+DnmbrYP73RkKXT6XzFvH2QrvEk2xTF/D8HRXuQmuxFTUpTldop0hFezb0aa74HnLia0QiOt5YjEkWqM4cvMtTJZRmWQCzrbtIaII+S76E5R5q77bB60VDEEK+gQbjoFMxfBIYW3FomHOKOYu+4W+xOMiW+Pd3SkBnnPS6sIbgYlBN4y1/1TgU6jhnCRBzD7B1tJx6GZ7Ucv7A2+mJ4wnq3Oo+3rmOvsv8zY7nI+3g7HcuVtNX+Ao0GibW+HdSeA0igmevBCWKLp1PbknwpHfAoT/+jc7HHTQ720fm+JBHCKpr3sQoVgYa0C3OVI/bVCyXI4msPzw3iAa+mfn1oqB9Cf+ArHPPuTSGPEs4gZIiEaX0cSRdMEON1njBSBVj6j0XimLa40yVlL6i7qjZwbJoP0DNLk9fftUCZNH3WSeArloaN86GuPYckFBnn0MwXMFTiySx2VvL4zxnBF2ESpRSJotLGcL3X4ykBLIDh05TD/defuaENn6cN8OiWGD52vhphDAhMypq+VweIuI4EojwHh10Ifa9g/2hm+Uh6jWIeYObscsQVGx92HOkws4I6vheJBUEqg5wEYgig1dw+aCH7LzlMUg17UC8qQvE85dMl9AqNB0gbOC1ZrtB3kdHMR9jGoRu5hrUcfna+/uF8NjnC0UURQynZgCqfonYR83X01mjIejr3RrFOby9SjIUNjkJx6Qg7sfzBQETo5+JS6WFJq8tl8sPewiyKlEigOfwpVZS7aG8JaZ/LZKDxJkzD9brCrpBZVDccNf7nH9r7Ycfg22YgGIcZrgrK4KUhU8AHkliczEpkTPAq7ObCACbPKyYNvycQKd0wTD18TVnlgPEVYC/EWOB8rBfLuMJYqvL2xtOzlHJiXtLCpED8fIBrR/uVOjOd1Dgs/CJFgi2yNJCWGOpVK6OF9Ri0w2jbF383jzRGkqFlcNF7BciIpYmNrYM4OtJZhz5GajwpvxoCEgkaI2roLE5J3wGK+ojkZISpa3Kkrd31kaG3Lfo1ZdXiI2BHjJJh/mtI54MivtsH1rNMDGI4KX7z/9DynoLZOIrMtkoRG1t0A0Z3ZvfW+X0HxRUeCPCA6QqD0QxD5OV1Rp/BwAveHVfkJ3018YwWxAD5tGW2orwZGENaIH0s93csL+d7BzsNj5u5qdHA6B5vuF7mZIZaj+/R9d2DpyZ+nsSFsKo6rfH9t+884sG6Dvn/YvvuVoQU/Wko50fEUHuBvdXhvfbp1Uv6ZlRU8W44zt5GhwDtoD/zB9ia9Ws35jZbOArYagsrbDwTuUmaZ69Vtk6xKIxHa5ptAAAADNUGbSknhDyZTAh3//qmWAAB0rCkuA7ZZJKauSDSgA/kPjptTIUjlQvAwOqWwSD5acHGV83lU6wikPYAFPnE19CpjmMsF++1HwChB4pgFel4sBs2yqWTMqnPB+2kWqYLlttrebrum9h8suDGYQvmtT55aG9O3nXzvbbcmGrFl0tRuBJjU62hFtLXo2QWpBG/JvI+wDtk5rfXwhapyRGCBPRknvwGGr/pPJDFAWfjYIQ+nVPGiWA3N3faiPbc5ulJB5w0M1btEuZtaHea170/1J7jLoHRHIeJxvdnMr2VKh24W4z1OJ+9t9/A87EYe84SKq+thj7DKjO2Vv3ML8amPZ8h59NHdqvUcA+aCrnHENRd9NlkVl+rlhiOnn7aKYmHtme3o65NcOE6ZOO0MopTYSiehKTnD1luss8I3x+6bitNNNXhHpcJ8K1XDyjGWfcjJznhkgSvUeN1WSLEaH5dyqkRlSa0X3ffl78G8mKldWycHSDSwIv7e2ltk3/hIN7UplOD0AY9+7Yz+qTf4j0kBQZXXSGJX5JFLVMZfQRwd6lkGo/ki4EMxrnhlanOtzI1Rcg/qypxcJk9tRp0ZLlyeuIJ81AvGekpZ6Q5+IoR6V0x3N0/9vq+5/GqfKbgi+8nupl9Hl5F3eUjsL3vXPDTvdhyxIMcm24xkAWPHV4dKhxS+baLPLAUOvPcCRMbr1Mz1IM7wpsRw7a2nrjtgMCpEgOIvwXlydhTJ1Xvgayaup8aO6vOVfYKwLYrx+jAzYpxIzwcOXUbY8/JvYbKxTdvzc5ojIU2s36RNUBtCfguySynnMEUGP6OWHRWHL5rBojm+Hqct0ENSRW2fk+Mxl8XVCp/9LgUo4iIvpLFX8S8GTEeEZ+MK7d0mX8YFLp8gaZPE1x7Sb+/zuG05mq0bwLMJBOGv4+JYlq1ILAYvdVLlMrSqWUmgE0mwdQkL8hNLCq5RJn56GAu5ZdbNrv/No7hDkwMABnxl9Po7Eec8xnxHwRSWy1dWhZBODznL4w2LFl/4V9YKWkn8hhk7DTZm24Iu3AjPYZz7ykL0+78pFCIIVtEYlnhJRnTWb+q6r40SSQE9XEwqOysLAAACvUGbbEnhDyZTBRE8O//+qZYAAHU9c2fDmz7cr35SaO0tNJcuhZOSVdJiAzKU8fW2v8Fnrn4eIcKkH89CK4elYZspyISSNqowfZiUfCZtG4YEQEIxh6ytM7i/lF3JLEM2+02wvfl3Om2pubKY9Yix8GZL+WeKfgkD0uFXWJOrhHcetvxdDBtjAQlAPb7e4YZuzvGVPfWnLKhUNnasXZ769UwcucRGz5DRLj8BDKkeEZGNRMlE9ZRqCjJDC4XwL5iPteumgCUM/iV3nAIpqBQ8MguwixSfiYIEzNFe2HqOp0YXBUPnqSjLNhfBSXZP4idjl51Q8v9PohOUeQmkI6a0Pjl0V1Q7uyrT2xBuEdcIq8WK8DF2ze7IUiUsSGDtvpMvIGc/nteUKBQ4xvpqM/EyD9L180tJq5tOsd19/cfuiAoLazs5KLaIfsrxT/nqtBeV1JVnoJazbzmXOfuwErVzyd1dLA9Xy/fnnBv5vhRlR9xRcNjgyLgHuFsMS+INnsTDKxf0CfPXhHxixPoXnBwxpEai3dEHr4vwYNV4vheIH5GGQNpLyd6sTECSHF6hJpHcMCZs+iAgIEkqRc+WYBZAs6Nw0pkjcp4Wj5j8yBjG+hSxxIJ/qMZkha8iR1Ey++3brz+7o3y+doaLq9WCN8sXwrub/ILWbzIL6Cb2EZgjZHg1mqZSN88RDIessqTSAEvIcmuHgjINHFC66LqlJ1nOjtUKFzcoE4Cb+N2LYmuVJS7jZ/MVm7VrIDckwCUJVnmiufv+TOP3KhaGReyPuw99WRitjFqZ259s3ntLZi3T63jCJyXP8r8gEDyj0+HCl5t8rIihmohi8EGytWKC29o4g97Q0lHIDY2c6N2OaQY6vjtaWI2EbERuGkbNUITQ9J7aaVKsxUS8Otk54wYrrsN+76QiABCiRrHSOKYYkAYEAAACLAGfi2pC/wAAis7Dzgyr+zbNiruXThgBWKtF3NvKpkzUgq+hEq42rg9iDrupixhUuwlwFa2AJcAi1p1C7J4px8RTF6Ww4aknF8NR6RFvcWLgA6pBS+qMimFLnDQvul1Bfw0/5n2iOSotkRki+rY2DKDII5ZeXChOhSXuDWYUcEOJkJNur+RU2ge7gWrIwBvMfMc1y+VRKV4zndkerB3bPkiwJn2cDWZ2Mo+B76jQQwPKMzc2Aa4DTL38V+dGAqfRLUWvGFnMWqDPvyglSsf4e7Jk2rzMcXtbDS7hbGEHLxdqbKW/dtRrQlawWify94MjHhUceBY0xBJ8kJhVteIAdtdRaGj4BSq5iB+Sm6rEB6bp3doUTA4Irso/IQ0vpiKOQIaL2AviUHae3lM2VTSj+OMvxVaBRCoHzgsT55AfOcnz8LEhYjA1qd3HtnOTOr7SZ3iN/nVwUY6sZY97aIMRCrALJiyLoM0sFpMTtUzCvLqL7XPLOHvjvOBPgSye+w82pIfs+wtVDKQ3lFFyuI3hufu7+Bl5NwCcjFf9YHUIcvq483nMuH0Wghl4SsJDWw8HTCBq1SS0T2T64wuX1iU/1Oa3cPUyiTBikPb9p0oglGOz0hw/73EwtTZPJ0U1FuXwAlAfIjSuPPWb+X+0v6HMHvP/Dyh3QryENj3wCeOttF1ucO+r5eJCMcIyL5nJLHSDysPiZa56po3L2YyVNxCqrK/NS0iI7z9ftJdAN6EAAAO8QZuNSeEPJlMCHf/+qZYAAASH5HWgsd0KNd2sKbGLCoZKUwfgE1sAJq9EmQVSjwYVswqa2QIpGxh+UnOONNHpU9visnzVgYHWblsWaEueqCrDkh0T41sBzG3UdSpMwJZdNjCBJq57pxDDDAYKqVHZLxLWekySmszYEKisNz0EqddT4cnwuoxf2IbQO4wQfZj8+oTBezLwC8TigWX3EdlUwRMnsqKkwc2d9bObhVhh/YixTGxNTSMOSQxZtsQrLTDwhnCB+EqfAPU0BkDH6WRWeDtovnaXzNbjaGlvnl28/IXkL9h6ucn/xI+PXAjVcCw9CK3uhbDWsIxUiqW4HEn5wCF2bMtnw5tS9StrmRiNWBp2j6M+KLJE0w67IZ2/R0UnMWwwmWEcnk8ErpY71gLlYU1mCi9RiXSHMF4aCIC4vWK5AtvKbD5iWT0XQ04Spc2f5is4xl/IJEiuj1w1mqo20DytoG8ZcnnSPJlAnn5NXJGIIRUW6s8BuhHP2NWTnnvtk+LidPID2FBr5c/CxJ8XKYdFCCT3q8qmASvhDhrP5N95D7h6GoRj4reDZIHFKJwXru/QrJOuMYvVzJ0bnSnCBy3SUPchgOiL46OW6aLa80mebNIwdArTIIDeOcLQAtNj6auaWSFakTt9b2qDjOJ6LlDRQoqTC8zuq9dxNAUyO6ertGl8Hx9ObjQxILIdGbbX7qMnRMxuxQNTOZVwjnWVrkkX9pmvVwk+J0chA2Fga+V+BrpPTv4Mgwe2H9MOPyT7ZJREo8Y1PzjB0YQwaMadFY+T5/NPC0pIHhMa2/i5n5TSyZlklBhkEgGJv2RMD+ciPjmiT5fsb8/LGkjpJaklda+saDjfP0IzEAS7H7RVsXUiULFicduYUS6hKX3umF7FpTY7Il2ZGfbL0TvePBfhgkYUKSluSr+I81Qi6o2+qTVOsGur0AiI1Lx66F11qpqFgQHgdbHQYmHf8v+N3j6+zU+bDmEWNMg9mN0ymLXpHOHCYgUXUaERJBT0Po1ZTvoehCWUxS8Zi6HaghNS5clPChTHV3v3YvX3n/1yuTvuP8P+gelFU4scEXUjqC7f/3d7QF0cqRsWHECyJz1N3WVBZPSNxitcxbExFL9xcId+K5IYV6j8Al9Um83vEVsiDFmCq2oIuhHQpANXK3TRI7MqI3isZBxC91lkXmiCMr16maoEIdzUOw33wjkRRa5PI0Syo3jrH6HHzVk7mi8gYamWriApnc3qWGVr2m/Q//sTVXuDCTM4Uzk+syPahB0AAAM+QZuuSeEPJlMCG//+p4QAAAMDjeyn4aERQLVrQB9riS6WDFBq9jk1F5pXz/Ei0ToUL8DRPjmR8VTUNEKJzgWJ5v+iLeOO9160x/ucpaFDICr9pRVAuMgSS2p3L7IIG89x8XrQyJ/soFhaIqT6LUc9fIyirpUUqEp9lzEC27M2fokhJE7mmgTt+tppu8XjngtjIriHlx3NO8C3lvAmYaT5BcBpRC7GqM3e0Luu2v3hshlGwmJ/nF2LnCHRAjGpjDv78PTn629QHgKux6M23GuxqTSXGssYYRg5NFSGqufk6zwiWYnxAt3c0v1zMpSCAugM7e0RIIejPe1cUI386OhMuof8Am8JHV1vLRWYwiNhARN5eWQSJX+QA7oS0C5HAqdrnqnZ8/bk0xFWDNNUFOaAbDi0zvVcXFFtz/QsvjUaTMwRGYAeGICY2Y2ZtXHHJxIczJ6Dy6vQappPj0Iq10vmi/MMB5gjYMzCiQXWH6lEsKR9HLyIkxCKJe7C88Qd26QKXi2HV8QQfsX69MW4nQukSYWYKANKjdG2KkXvTDVJdBTkVf4EnchbRO19cpHEretgPuhTev+EnZKFUE8PzgDh+FHZ2r6xHj4zHx0MDYRA9g82BhgUmHWvOtwWR48gSJWZAnD7B2Tes8hf8Gb1lQpRfm2GVtk5rvYAONRfH1Nk2Efdoq+wNOYQ3VeV2Vz+vFUb7F15Gl3rBYyvD8vLbioaECUKB5fysZNxbEHjlrTq0XEEt7xAc565A1KDotXOzXOLveVUJhnrMETIUVzw3P+EkuxyQyP5f/+Tzy6z7Q7obKw5J3NyzH190HRv9aPv+ReQIPK8WKta7eP1+r0BIfRKxsUWBXLnh+8G7nvgtXVLe3vvWFff7NZ8cEbZD2P2/bWWQoe7+WLPOVxi0aItqGyjJ1rxJzJQY73TDokrj/KjACPAWeRnhu06Kl55ueXFY26EWSOYF2E1HWjlPXeeR4HIsE6olpIzZ4mVTEoYNskbyjW25rtyaoMCuZCRbDV5TglzCnSxYH/M7bMG5i+UG3r6yeRaP2SlcTRJNgz0L3eWnPWCD+SQM9bzeG7y9f7Sv6lZzVQyNUsyYLzofvtOhF0AAAS0QZvPSeEPJlMCG//+p4QAAAcbXvw0mqQATt7zUaPtuLK8Dm/a3ro/U74hmgY9BkgI+Q5H+j1LsA0nC4iYJEHIoEuXSD/5CfW2ijocql+px1YMKrmkSNCtqLCn8SJ6jPks1e0KX4jwH/T+2w7LHg4HeLEbujWCzC71DICzU97PKxLm+z+AdEOCwQboS0Tf/5F6EwUm4xGj156HYDGdyJA1MY0UDuI7ao/iz0SSbDX1abpaNNRG5M2dXPIWmDfCfr9Tpe1Q7plPxTAwb+T3vVkwbMh0HFtE5fDo/5Jxl7c9vHkG7tQOo9Oxa7JwvwHpH53GcKIGqKszJ598TV9VndpV9Ld274USfw2aMNTZjR+oqngN10qVvagFQQcLSaa7JWjr4YdfaRtri0rSnE0067zkCNf27RRcYPZrrxXDKLwRnuLz56WGNG3NBAz7T4shad3ksw965EPFaNjuoLWWftedK+O1rwz31ObACioDR36vW2YmbNqte+csBqWwfxX7I4TnkNML1mTOtKyaapbfJgD7GWKBcl8VIN99B/USLTkwjX4SH3E275f/5Mj1JHVYwHajeW3vt9pnyyQGjB5+lB3WVBc0VxhEA1r2GV3URYBzs4g1+PYVKUUAHjfitKwsexyMQYI8vDrWS3Jq71qW/Ajc46GVRdXsdtYLxwL/zrH7lGeqdH/M39OC9NbKztL00sz6hnmXiKMLcDNwU4BimKIzfHxQrl+1km7BE5UuCe0orBJv7KZmha0qnOBwIh98NNxNx+AGMoKQRJrbo+n4fTuIo0BlRVi2mATwa2KEIdh9dRwZ5as11p3ciTfjH6EHF/4Z8M+EFTaF+0ru/mWJ5VhHKFzhX5hem3nIx/43Vyb6FYZGHXpF9DXMOKIifamKPR3T60iLCOXLW+VnQSenXQPkifpY8IkweK8kjDcTD/cMp725AdjqoporFshmRV2X37F+mAdTqxfvOr8JmSQ7Vp+iQOwN0xOU2Qzk9N2yW8D+7QBH1hDoqiPRM1fgLd3e3rgK/InEQfQYWdG8Yho19AOeMmW7YSAUmfmKvSwD3fvnbpsonM7qcUqVfq/Yr+DGrEeqXsPVpSE+IZ4eRUYJb7MD6w5NKZMidQN+hj1jZwtchfppk3pwEMmI3K430sMUaTLjPFUdB0DSCZ+wfxgiG1BhvclZpb02dyO7UQEeRO9Zgs+0q7XO4qPwQxr3rVmrRNcEFPTJMaCtjeWSBjVhPMvPw7d4x/YWF/vB/EIdUIpKI6q18mwF9R0hPvrCwhbEHwhmR9ocAP/PjUnmydl2PVrMbXSzGMuM6i2LZUjB+RBcYzrOPorY+dsZgoLQsx8b9rHgAtTK3KweWcd4TTiiM4qPeT05DlDljyklvjGhKgBeSNLdrdlFwDXsRm3w2pOjdH4ws1YLRktd1IW/akr3gByDexBuxA6cZlAnMrbCnDa4UmGdVXnPXYOR/nvz0rxpAZXsxb7wT1g6qAdkWRH+uQyFs5Mgg70ECfPOcGjfb2APTPs/9BKhD+L+wnad054qrjeHWorb1q5VbwtC9PoafafDxHn5rg57AMAAnjYEGi5mqvl8W2zMS5MlkQbfshJNYoLWGeXiZwAAA5dBm/BJ4Q8mUwIb//6nhAAAv+vfg/yRwAhT3mcnxiF2rSSJsPO7EKiq3pKNivYexodC54mDM/sCJ4G4LGP+e4sM5P+E3ns/5axg5IWFQ2qOdWJlzwcJqtH8gsy+EXuZ5szZY7okkWn7tOhLHueUTx01cjHtPGmq0htrIeeauueuKRzvxi25U7wY3j0UO42O1EUv0sDXUKvHh6qeJzANMjRAvA1wa2MlbDWlSbx/Tcs7pQcQRrHXVrz08PuaE0/gx0X2IeIjRmsl/ARs5DsGwVdGOFxGqDDq2NEVAHZn2/y5HQzoBNmUlYzNlVY5JlelTiT1ity3br+4oEcrRD6bnEZ9CNuQAV5kRY46ibR9gWqdrvGHq/taaKpyXp4fE23tKzIrUdL7FrlMY0MnjnhwdiBeBfOYzit5du2j9YVNEbMdt68P5SkQLb6fAFcPTpFolDKcGpDQek86EY3DR9PVpvOwVK/7cwhY6r5pCQHMnu/RpRGVjohxTXcMus8KSqGYkkenpDI0By+Ug+9nUWrbvPeOwQ0gc1+JuXktzuKytUJJAk0a1/x1wF+24ExDObut5MFxPW+fSQhYVKu7RyfQLe+iu7j6uigc4UpjB4snZErCIcMhK/oC6b+snsD7mxJXu1oz42L+sKmIJ5P2JMO97UardgnQUcw75CzZI/eMdtdXBUgRQJ1jGrryPQOne7i2ciFXHoUDeuAmmn0BA16p9J7Flo54NEkqG2ouPn71qbDd2z3Vf+LNiQ6KpilIzxglcAgKHpiLAGYp1ztWI8Ty/0kRA0OSgsMe9u0v6LZtOMkqnOjo/eeg+h/uQ23G10S/XRa4ZzFdjw9ja72wgyeEF34PquX31D+aMfVJOqIysAuF/cLilG7kS/y2pjxU7PgUpzGtvRxMzZjiIabWlSHhQaj0MDs6/R28TGLSO3G8WSfmf99XChwVX7+6M3WYts4xawHnK+00VYzdAu/DNoxMWGQi2JL8LMDoOtlJZjhWA4FzvPTqOP7O1UeKngrPx18GZBcrC4BpZB4ri8yyb/nJKYzjXv71cd2BXZbb+4A1cAT/ubOywxTCJGUSo4uaQZX7uH70rtyqn4RGMvC9+A3ZhhP6v/VKDht76e2cWgtYOPbtM6JKcv2UeJvZ3XPlLrU3tqxsmsbSM65EO3rQ/4iSSA4nDKn6KCqHPrFui0hpGfgSRpnlsLpfq8QTvNsBoKJKFg2FnE2KLoHTAAAE8kGaEUnhDyZTAhf//oywACM8b/fTC2FyAAJUpRjqFxIMwsMdiOEcUOTWIYPFbgTwsK4GKv3CIA8DAltM1q+YTcUTLlbWTcnVYnYp3/ymrym8++IwTIhzTZ3bzmd87lD1j6imD/kKPE/LKfhg0ZhMCQSOQvBUD6qETA9J89wy95dUSsDfaX8PjHsuD/bPbk/Kqyd/Zi0OX719BYmByNwmlNNBebPAXQdlv6d7f8TVZsJ44hqflQjvDOdc68sZG1hOYXV8LyL+iFkqpU/RVfAqaIl0ySrpBBVOek3h7QRUiBN3GGt9LhijGuv/OQSUEuhHO/D9zukttjV0s+ZeQfGBBUeU74wq8q5YMzr0Rj3sDW+z4pBDrS5vN2jKA8RH/uS/xo42xYLb1r3D9q0GBrkImtiz6Ra+xcvbgz4FFxWH2uFf+82062mamQrXqzE1BscZgTGKk8DwpW+cznS5xgoLN8+F4s/59JDrxGS5X8/ZG1DzgQKNTj44E1X/5ok3dWBi3Xee0KV6StntBiVNAELUh7h+IiGlO/F/DX1DKK4htikGSep0XujIr8cMjiRdmq3qjJ4i9mS7BVhFAP3EvlPmlJxDqBhKIJh0zM+2ZSCKndBJEYqpmlsSAWdxAcLaex+j2ANpMk+9rla9xUORtMjWK91IKQGBpKtcoIXYLpekfHhW//0x6cw2dbtXbfOKxvOUIemxODWFvKciQ+hm+G0OJ6EsPCpWgg6fYfgT/17QDM78YlFOPvriZ800BaKTFjYLhRJUHfolVgDySigW2+nxXbMzNblb6SPXhHR78CZ6bAtGmjYlY772lMeSdvlQ0UZG9+8XVLeHZ3Kc+GpYxxq5m3Afte7ZISKceOdQAmQwLkHxe+ogepZmzXqxFl1HafxqHWnxJsa1ZJBNxL4Jig6O2mcqUW+buRsm+jLJY5PrSgSv5suxCA34huytrvYYLrqwuKKlLyL8Az1UVM/4vw3JbzR8O1Loolv1dT9ijnanBZ8Ojn5wFrKNQKVCnnRE7dXgWIUJdt+yDW4KaTcSapTwtaVN8i/4Ddytp+2Nd0KXvZ7NFinV0wkcmWaBNeyHGvEECloM2rYs2rjFsS8uo1g6HT92SUWaed8/XF35B9Vqpum6SVCru1mjBwbAwXOo37Hz+GZ7FKQysjq1YR+L/VkKKo6+4oEyg+kBo+y0+lDUyGozeKNsmdiGeRz4vfOTOAsw6S95rmLfTYI7N4xyRMcm50k0newlP2hmPrEkznI6gPkgJ9JXgnNlYO7nv4lB0WyfDKOXRGdy/iC4NX5fZxkZ4X/UYC7MhMK8PuE7eqt2T/IOrZjBmsFA24oCD2ExP129PQ90a//+QomEabjpJZfaY8HfHVjj5clgd9J9Wv9AYfmwviuwYLPkVac2024u4YELe2GxSqliUPUcGov3p8Z1now1IyKb0m9ysQgqUe3Za72lnlVSflPIoJ36EvtQTMPzEd9uscoEADKQMv/hHCX+JIqhQzFyluxKkCQ0j7eT2/SgsOAv1bpGZb86Q13B1ZrPl+8L1kX7Pbw7lmZ3Fae2CK1KqpuF8u6c9XsPg91qr/VZ0cvTsbJvF1CdTVPECCxTB4BgoJwNvfQ0jEzol1qzhfEDKfmSxYeIyn1G96kJqbhBDTXGz0ICb+92kcR8htEGRRHK4CN5/IIArW/Cr+nMwwM0gAAABahtb292AAAAbG12aGQAAAAAAAAAAAAAAAAAAAPoAAATRgABAAABAAAAAAAAAAAAAAAAAQAAAAAAAAAAAAAAAAAAAAEAAAAAAAAAAAAAAAAAAEAAAAAAAAAAAAAAAAAAAAAAAAAAAAAAAAAAAAAAAAACAAAE0nRyYWsAAABcdGtoZAAAAAMAAAAAAAAAAAAAAAEAAAAAAAATRgAAAAAAAAAAAAAAAAAAAAAAAQAAAAAAAAAAAAAAAAAAAAEAAAAAAAAAAAAAAAAAAEAAAAAB9AAAAfQAAAAAACRlZHRzAAAAHGVsc3QAAAAAAAAAAQAAE0YAAAgAAAEAAAAABEptZGlhAAAAIG1kaGQAAAAAAAAAAAAAAAAAADwAAAEoAFXEAAAAAAAtaGRscgAAAAAAAAAAdmlkZQAAAAAAAAAAAAAAAFZpZGVvSGFuZGxlcgAAAAP1bWluZgAAABR2bWhkAAAAAQAAAAAAAAAAAAAAJGRpbmYAAAAcZHJlZgAAAAAAAAABAAAADHVybCAAAAABAAADtXN0YmwAAACZc3RzZAAAAAAAAAABAAAAiWF2YzEAAAAAAAAAAQAAAAAAAAAAAAAAAAAAAAAB9AH0AEgAAABIAAAAAAAAAAEAAAAAAAAAAAAAAAAAAAAAAAAAAAAAAAAAAAAAAAAAAAAY//8AAAAzYXZjQwFkABb/4QAaZ2QAFqzZQIAQeeeEAAADAAQAAAMAeDxYtlgBAAZo6+PLIsAAAAAYc3R0cwAAAAAAAAABAAAASgAABAAAAAAYc3RzcwAAAAAAAAACAAAAAQAAADkAAAF4Y3R0cwAAAAAAAAAtAAAAAQAACAAAAAABAAAMAAAAAAEAAAQAAAAAAQAADAAAAAABAAAEAAAAAAEAABQAAAAAAQAACAAAAAABAAAAAAAAAAEAAAQAAAAAAQAADAAAAAABAAAEAAAAAAEAABAAAAAAAgAABAAAAAABAAAQAAAAAAIAAAQAAAAAAQAADAAAAAABAAAEAAAAAAEAAAgAAAAAAQAAEAAAAAACAAAEAAAAAAEAAAgAAAAAAQAADAAAAAABAAAEAAAAAAEAAAwAAAAAAQAABAAAAAABAAAIAAAAAAEAAAwAAAAAAQAABAAAAAAEAAAIAAAAAAEAABQAAAAAAQAACAAAAAABAAAAAAAAAAEAAAQAAAAAAwAACAAAAAABAAAMAAAAAAEAAAQAAAAAAQAADAAAAAABAAAEAAAAAAUAAAgAAAAAAQAAEAAAAAACAAAEAAAAAA0AAAgAAAAAAQAADAAAAAABAAAEAAAAAAUAAAgAAAAAHHN0c2MAAAAAAAAAAQAAAAEAAABKAAAAAQAAATxzdHN6AAAAAAAAAAAAAABKAAAICAAAAo4AAADSAAADuAAAAXsAAAGrAAAB+QAAAR0AAAH7AAAFCQAAAsQAAAHjAAACnAAAAekAAATTAAAD3wAAApwAAAS6AAACagAAAdAAAASSAAAEgwAABDwAAAMgAAADxwAAArYAAAXuAAAD6QAAA7MAAAOaAAADQgAAAr0AAANfAAAEQAAABIAAAASjAAAFZQAAArIAAALgAAADGgAABHIAAATFAAAD+gAAAtYAAAQdAAAC8wAABQ0AAAXdAAAE9wAABG0AAANmAAAEFQAAAZ8AAALJAAAD1AAABYUAAAaAAAAFVgAAAq0AAAOoAAAEHAAABPUAAAQFAAADgAAABgQAAAVPAAADOQAAAsEAAAIwAAADwAAAA0IAAAS4AAADmwAABPYAAAAUc3RjbwAAAAAAAAABAAAAMAAAAGJ1ZHRhAAAAWm1ldGEAAAAAAAAAIWhkbHIAAAAAAAAAAG1kaXJhcHBsAAAAAAAAAAAAAAAALWlsc3QAAAAlqXRvbwAAAB1kYXRhAAAAAQAAAABMYXZmNTcuODMuMTAw\" type=\"video/mp4\" />\n",
              "                </video>"
            ]
          },
          "metadata": {}
        }
      ],
      "source": [
        "# Displays a video of the policy.\n",
        "# Feel free to use this as a template for debugging.\n",
        "\n",
        "env = wrap_env(gym.make('Acrobot-v1'))\n",
        "\n",
        "num_steps = []\n",
        "for _ in range(10):\n",
        "    observation = env.reset()\n",
        "    step = 0\n",
        "    for i in range(1024):    \n",
        "        action = agent.get_action(observation)[0].tolist()\n",
        "        observation, reward, done, info = env.step(action)    \n",
        "        if done:\n",
        "            step = i\n",
        "            break\n",
        "    num_steps.append(step)\n",
        "\n",
        "env.close()\n",
        "\n",
        "print('Num steps:', num_steps)\n",
        "show_video()"
      ]
    },
    {
      "cell_type": "markdown",
      "metadata": {
        "id": "JydJYRtqJuun"
      },
      "source": [
        "**Question (10 pts):** Will Ben Bitdittle have enough time to train a policy on the real robot using the same PPO implementation as above? Note that each simulation step is equivalent to 0.2 seconds of time on the real robot.\n",
        "\n",
        "**Answer:** The policy takes ~ 40,000 steps to converge, which would require $40,000\\times0.2 = 8,000$ seconds, which amounts to about 133 minutes. Since Ben can only book 20 minute slots, he will not have enough time. "
      ]
    },
    {
      "cell_type": "markdown",
      "metadata": {
        "id": "wsihixQ1Kb9l"
      },
      "source": [
        "# The Sim2Real Gap\n",
        "\n",
        "Ben is devastated by the above result; how will he train a policy for the Acrobot if it won't converge in his allocated lab time?  \n",
        "\n",
        "One idea is to simply train a policy in simulation, then evaluate that policy on the real robot (which takes far less time than training from scratch).  Let's try this out, using the environment `AcrobotTargetEnv-v0` as a stand-in for the real world."
      ]
    },
    {
      "cell_type": "code",
      "execution_count": 99,
      "metadata": {
        "id": "FPGpKByoyLih",
        "colab": {
          "base_uri": "https://localhost:8080/"
        },
        "outputId": "32b7af28-425b-424e-f701-a3781283451f"
      },
      "outputs": [
        {
          "output_type": "stream",
          "name": "stdout",
          "text": [
            "Mean number of steps:  197.0\n",
            "Standard deviation of number of steps:  68.48211445333737\n"
          ]
        }
      ],
      "source": [
        "### TODO: evaluate the agent from the simulation environment (\"Acrobot-v1\") in\n",
        "### the real world environment (\"AcrobotTargetEnv-v0\"). Be sure to run at least 10 trials\n",
        "### Report mean and standard deviation. (10 pts)\n",
        "def eval_agent(agent,environment,num_trials=10):\n",
        "  num_steps = []\n",
        "  for _ in range(num_trials):\n",
        "      observation = environment.reset()\n",
        "      step = 0\n",
        "      for i in range(1024):    \n",
        "          action = agent.get_action(observation)[0].tolist()\n",
        "          observation, reward, done, info = environment.step(action)    \n",
        "          if done:\n",
        "              step = i\n",
        "              break\n",
        "      num_steps.append(step)\n",
        "      environment.close()\n",
        "\n",
        "  print(\"Mean number of steps: \", np.mean(num_steps))\n",
        "  print(\"Standard deviation of number of steps: \", np.std(num_steps))\n",
        "  return np.mean(num_steps), np.std(num_steps)\n",
        "  #show_video()\n",
        "\n",
        "target_env = wrap_env(gym.make('AcrobotTargetEnv-v0'))\n",
        "naive_mean_target, naive_std_target = eval_agent(agent,target_env)"
      ]
    },
    {
      "cell_type": "code",
      "source": [
        "training_env = wrap_env(gym.make('Acrobot-v1'))\n",
        "naive_mean_sim, naive_std_sim = eval_agent(agent,training_env)"
      ],
      "metadata": {
        "colab": {
          "base_uri": "https://localhost:8080/"
        },
        "id": "7uu-OEhRfbFV",
        "outputId": "09a338c4-9981-4662-eb30-02d6f88f83d9"
      },
      "execution_count": 96,
      "outputs": [
        {
          "output_type": "stream",
          "name": "stdout",
          "text": [
            "Mean number of steps:  74.5\n",
            "Standard deviation of number of steps:  6.15223536610881\n"
          ]
        }
      ]
    },
    {
      "cell_type": "markdown",
      "metadata": {
        "id": "G8V27--aLto7"
      },
      "source": [
        "**Question (10 pts):** How does the policy trained in simulation perform when evaluated on the \"real\" robot?  If there's a difference in performance, postulate why that might be.\n",
        "\n",
        "**Answer**: When evaluated on the real robot, the policy performs worse, with the mean number of steps to completion being more than twice the mean for the `Acrobot-v1` environment. This difference is due to the fact that the policy is optimized for a different environment than the one it was trained on. The actions taken by the agent in the new environment are therefore further from optimal and reaching the goal takes longer as a result."
      ]
    },
    {
      "cell_type": "markdown",
      "metadata": {
        "id": "rqFbqFqcNDlE"
      },
      "source": [
        "# System Identification\n",
        "\n",
        "One reason for the gap Ben observed is a mismatch between physical parameters in the simulation and in the real world.  If you look at the [code for the Acrobot simulation](https://github.com/openai/gym/blob/master/gym/envs/classic_control/acrobot.py), you'll notice a series of parameters on lines 138-149 that define the simulator dynamics.  Perhaps a measurement error was made for one or more of these values, leading to a simulation that does not reflect reality.  One family of solutions for fixing these sorts of issues is *system identification*, which provides us tools for finding the correct values of these parameters from data. \n",
        "\n",
        "In this section, you will use a gradient-free numerical optimizer of choice to improve upon the parameters in the Acrobot simulation, with the goal of most closely matching the real world `AcrobotTargetEnv-v0` environment.\n",
        "\n",
        "Start by generating data of tuples (`env.state`, action, obs) from the real world environment, `AcrobotTargetEnv-v0`, over which to perform your system identification. Later, we'll want the best robot parameters such that when we apply the recorded action when the environment state is the recorded `env.state`, we get as close to the recorded obs as possible.\n",
        "\n",
        "You can generate as much data as you'd like as long as you don't use more than 20 minutes of robot time (e.g., $\\frac{20\\text{ minutes}}{0.2\\text{ seconds/timestep}} =6000\\text{ timesteps}$ )."
      ]
    },
    {
      "cell_type": "code",
      "execution_count": 9,
      "metadata": {
        "id": "chxmu_KBPUsu"
      },
      "outputs": [],
      "source": [
        "q_shape = 4\n",
        "u_shape = 1\n",
        "obs_shape = 6\n",
        "dataset = {\n",
        "    \"env_state\": np.zeros((6000,q_shape)),\n",
        "    \"action\": np.zeros((6000,u_shape)),\n",
        "    \"new_obs\": np.zeros((6000,obs_shape)),\n",
        "}\n",
        "\n",
        "### TODO: generate your data for system ID (10 pts)\n",
        "\n",
        "#use bad agent to get more varied samples of environment\n",
        "#crude_agent, _ = train_ppo(env_name=\"Acrobot-v1\", max_steps=5000)\n",
        "\n",
        "target_env = wrap_env(gym.make('AcrobotTargetEnv-v0'))\n",
        "step = 0 \n",
        "while step < 6000:\n",
        "    observation = target_env.reset()\n",
        "    for i in range(1000):    \n",
        "        dataset['env_state'][step,:] = np.copy(target_env.state)\n",
        "        action = np.random.randint(3)\n",
        "        dataset['action'][step,:] = action\n",
        "        observation, reward, done, info = target_env.step(action)    \n",
        "        dataset['new_obs'][step,:] = observation\n",
        "        step += 1\n",
        "        if (done) or (step == 6000):\n",
        "            break\n",
        "    target_env.close()"
      ]
    },
    {
      "cell_type": "markdown",
      "metadata": {
        "id": "9_nKxSPDWrgE"
      },
      "source": [
        "Now, try to find parameters that yield new observations that best match your dataset.  There are a number of optimization methods to do this, but for our purposes let's do a simple random search of values in the neighborhood of those that we already have. Specifically, let's randomly and individually scale these parameters from 90% to 110% of their default values and see what combination yields the best performance.\n",
        "\n",
        "To evaluate your randomly sampled parameters, load the parameters into your `AcrobatSystemIDEnv` and see if for the same environment state and action, how much the next observations differ in terms of L2-norm."
      ]
    },
    {
      "cell_type": "code",
      "execution_count": 108,
      "metadata": {
        "id": "PIVuqN-0QxLk"
      },
      "outputs": [],
      "source": [
        "class AcrobotSystemIDEnv(AcrobotEnv):\n",
        "    def __init__(self, *args, **kwargs):\n",
        "        for param in ['dt', 'LINK_LENGTH_1', 'LINK_LENGTH_2', 'LINK_MASS_1', \n",
        "                      'LINK_MASS_2', 'LINK_COM_POS_1', 'LINK_COM_POS_2', \n",
        "                      'LINK_MOI', 'MAX_VEL_1', 'MAX_VEL_2']:\n",
        "            if param in kwargs:\n",
        "                setattr(self, param, kwargs[param])\n",
        "                del kwargs[param]\n",
        "\n",
        "        super().__init__(*args, **kwargs)\n",
        "\n",
        "best_params = {\n",
        "    'dt' : 0,\n",
        "    'LINK_LENGTH_1' : 0,\n",
        "    'LINK_LENGTH_2' : 0,\n",
        "    'LINK_MASS_1' : 0,\n",
        "    'LINK_MASS_2' : 0,\n",
        "    'LINK_COM_POS_1' : 0,\n",
        "    'LINK_COM_POS_2' : 0,\n",
        "    'LINK_MOI' : 0,\n",
        "    'MAX_VEL_1' : 0,\n",
        "    'MAX_VEL_2' : 0,    \n",
        "}\n",
        "\n",
        "\n",
        "\n",
        "### TODO: find parameters of AcrobotSystemIDEnv that match the data in `dataset`,\n",
        "### and populate them into `best_params` (30 pts)\n",
        "default_params = {\n",
        "    'dt' : 0.2,\n",
        "    'LINK_LENGTH_1' : 1.0,  # [m]\n",
        "    'LINK_LENGTH_2' : 1.0,  # [m]\n",
        "    'LINK_MASS_1' : 1.0,  #: [kg] mass of link 1\n",
        "    'LINK_MASS_2' : 1.0,  #: [kg] mass of link 2\n",
        "    'LINK_COM_POS_1' : 0.5,  #: [m] position of the center of mass of link 1\n",
        "    'LINK_COM_POS_2' : 0.5,  #: [m] position of the center of mass of link 2\n",
        "    'LINK_MOI' : 1.0,  #: moments of inertia for both links\n",
        "    'MAX_VEL_1' : 4 * np.pi,\n",
        "    'MAX_VEL_2' : 9 * np.pi\n",
        "}\n",
        "\n",
        "def gen_random_params(params,lb=0.9,ub=1.1):\n",
        "  out = dict(params) \n",
        "  for key in out:\n",
        "    scale_factor = np.random.uniform(low = lb, high = ub)\n",
        "    out[key] = out[key]*scale_factor\n",
        "  return out\n",
        "\n",
        "def find_best_params(default_params,trials=1000):\n",
        "  state_data, action_data, obs_data = dataset['env_state'], dataset['action'], dataset['new_obs']\n",
        "  T = len(action_data)\n",
        "  O = obs_data.shape[1]\n",
        "  min_diff = np.inf\n",
        "  for _ in range(trials):\n",
        "    random_params = gen_random_params(default_params)\n",
        "    random_env = AcrobotSystemIDEnv(**random_params)\n",
        "    preds = np.zeros((T,O))\n",
        "    for i, tup in enumerate(zip(state_data, action_data)):\n",
        "      state, action = tup\n",
        "      random_env.state = state\n",
        "      pred, _, _, _ = random_env.step(int(action[0]))\n",
        "      preds[i,:] = pred\n",
        "    diff = np.linalg.norm(preds-obs_data)\n",
        "    if diff < min_diff:\n",
        "      min_diff = diff\n",
        "      best_params = dict(random_params)\n",
        "    return best_params\n",
        "\n",
        "best_params = find_best_params(default_params, trials = 10**7)"
      ]
    },
    {
      "cell_type": "markdown",
      "metadata": {
        "id": "uNW1yYwyVm2i"
      },
      "source": [
        "Awesome!  Let's now try to train a policy in a simulation environment with those params loaded, `AcrobotSystemIDSolvedEnv`, and see if we do any better."
      ]
    },
    {
      "cell_type": "code",
      "execution_count": 109,
      "metadata": {
        "id": "OGlDEVt2VFJu",
        "outputId": "b0af144a-110d-4662-ca1c-0bb8fa2d7d63",
        "colab": {
          "base_uri": "https://localhost:8080/"
        }
      },
      "outputs": [
        {
          "output_type": "stream",
          "name": "stderr",
          "text": [
            "\u001b[32m[INFO]\u001b[0m[2022-03-13 00:52:28]: \u001b[32mAlogrithm type:<class 'easyrl.configs.ppo_config.PPOConfig'>\u001b[0m\n",
            "\u001b[32m[INFO]\u001b[0m[2022-03-13 00:52:28]: \u001b[32mCreating 1 environments.\u001b[0m\n",
            "\u001b[31m[ERROR]\u001b[0m[2022-03-13 00:52:28]: \u001b[31mNot a valid git repo: /usr/local/lib/python3.7/dist-packages\u001b[0m\n"
          ]
        },
        {
          "output_type": "stream",
          "name": "stdout",
          "text": [
            "====================================\n",
            "      Device:cpu\n",
            "      Total number of steps:100000\n",
            "====================================\n",
            "Setting dt to 0.20195254015709302\n",
            "Setting LINK_LENGTH_1 to 1.043037873274484\n",
            "Setting LINK_LENGTH_2 to 1.0205526752143288\n",
            "Setting LINK_MASS_1 to 1.0089766365993795\n",
            "Setting LINK_MASS_2 to 0.984730959867781\n",
            "Setting LINK_COM_POS_1 to 0.5145894113066657\n",
            "Setting LINK_COM_POS_2 to 0.4937587211262693\n",
            "Setting LINK_MOI to 1.0783546001564162\n",
            "Setting MAX_VEL_1 to 13.731682232065733\n",
            "Setting MAX_VEL_2 to 27.6152111996012\n"
          ]
        },
        {
          "output_type": "stream",
          "name": "stderr",
          "text": [
            "\u001b[32m[INFO]\u001b[0m[2022-03-13 00:52:31]: \u001b[32mExploration steps: 0\u001b[0m\n",
            "\u001b[32m[INFO]\u001b[0m[2022-03-13 00:52:31]: \u001b[32mSaving checkpoint: /content/data/AcrobotSystemIDSolvedEnv-v0/seed_0/model/ckpt_000000000000.pt.\u001b[0m\n",
            "\u001b[32m[INFO]\u001b[0m[2022-03-13 00:52:31]: \u001b[32mSaving checkpoint: /content/data/AcrobotSystemIDSolvedEnv-v0/seed_0/model/model_best.pt.\u001b[0m\n",
            "\u001b[32m[INFO]\u001b[0m[2022-03-13 00:53:04]: \u001b[32mExploration steps: 20480\u001b[0m\n",
            "\u001b[32m[INFO]\u001b[0m[2022-03-13 00:53:04]: \u001b[32mSaving checkpoint: /content/data/AcrobotSystemIDSolvedEnv-v0/seed_0/model/ckpt_000000020480.pt.\u001b[0m\n",
            "\u001b[32m[INFO]\u001b[0m[2022-03-13 00:53:35]: \u001b[32mExploration steps: 40960\u001b[0m\n",
            "\u001b[32m[INFO]\u001b[0m[2022-03-13 00:53:35]: \u001b[32mSaving checkpoint: /content/data/AcrobotSystemIDSolvedEnv-v0/seed_0/model/ckpt_000000040960.pt.\u001b[0m\n",
            "\u001b[32m[INFO]\u001b[0m[2022-03-13 00:53:35]: \u001b[32mSaving checkpoint: /content/data/AcrobotSystemIDSolvedEnv-v0/seed_0/model/model_best.pt.\u001b[0m\n",
            "\u001b[32m[INFO]\u001b[0m[2022-03-13 00:54:05]: \u001b[32mExploration steps: 61440\u001b[0m\n",
            "\u001b[32m[INFO]\u001b[0m[2022-03-13 00:54:05]: \u001b[32mSaving checkpoint: /content/data/AcrobotSystemIDSolvedEnv-v0/seed_0/model/ckpt_000000061440.pt.\u001b[0m\n",
            "\u001b[32m[INFO]\u001b[0m[2022-03-13 00:54:05]: \u001b[32mSaving checkpoint: /content/data/AcrobotSystemIDSolvedEnv-v0/seed_0/model/model_best.pt.\u001b[0m\n",
            "\u001b[32m[INFO]\u001b[0m[2022-03-13 00:54:34]: \u001b[32mExploration steps: 81920\u001b[0m\n",
            "\u001b[32m[INFO]\u001b[0m[2022-03-13 00:54:34]: \u001b[32mSaving checkpoint: /content/data/AcrobotSystemIDSolvedEnv-v0/seed_0/model/ckpt_000000081920.pt.\u001b[0m\n",
            "\u001b[32m[INFO]\u001b[0m[2022-03-13 00:54:34]: \u001b[32mSaving checkpoint: /content/data/AcrobotSystemIDSolvedEnv-v0/seed_0/model/model_best.pt.\u001b[0m\n"
          ]
        }
      ],
      "source": [
        "class AcrobotSystemIDSolvedEnv(AcrobotEnv):\n",
        "    def __init__(self, *args, **kwargs):\n",
        "        for param in best_params:\n",
        "            print('Setting', param, 'to', best_params[param])\n",
        "            setattr(self, param, best_params[param])\n",
        "\n",
        "        super().__init__(*args, **kwargs)\n",
        "\n",
        "env_name = 'AcrobotSystemIDSolvedEnv-v0'\n",
        "if env_name in registry.env_specs:\n",
        "    del registry.env_specs[env_name]\n",
        "register(\n",
        "    id=env_name,\n",
        "    entry_point=f'{__name__}:AcrobotSystemIDSolvedEnv',\n",
        ")\n",
        "\n",
        "sysid_agent, sysid_save_dir = train_ppo(env_name='AcrobotSystemIDSolvedEnv-v0', max_steps=100000)"
      ]
    },
    {
      "cell_type": "code",
      "execution_count": null,
      "metadata": {
        "id": "Adcgdryusph8",
        "outputId": "a4566a6b-ee3e-470c-83aa-d20301fba988",
        "colab": {
          "base_uri": "https://localhost:8080/",
          "height": 283
        }
      },
      "outputs": [
        {
          "output_type": "execute_result",
          "data": {
            "text/plain": [
              "[<matplotlib.lines.Line2D at 0x7fdec3800f10>]"
            ]
          },
          "metadata": {},
          "execution_count": 50
        },
        {
          "output_type": "display_data",
          "data": {
            "text/plain": [
              "<Figure size 432x288 with 1 Axes>"
            ],
            "image/png": "[encoded data removed]"
          },
          "metadata": {
            "needs_background": "light"
          }
        }
      ],
      "source": [
        "sysid_steps, sysid_returns = read_tf_log(sysid_save_dir)\n",
        "plt.plot(sysid_steps, sysid_returns)\n",
        "#This performance achieved when OG agent only trained on 5k steps"
      ]
    },
    {
      "cell_type": "code",
      "execution_count": 110,
      "metadata": {
        "id": "KDG9bsMlWQXW",
        "outputId": "092075c5-0112-4dc3-9620-675167eaf316",
        "colab": {
          "base_uri": "https://localhost:8080/"
        }
      },
      "outputs": [
        {
          "output_type": "stream",
          "name": "stdout",
          "text": [
            "Mean number of steps:  142.4\n",
            "Standard deviation of number of steps:  37.425125250291416\n"
          ]
        }
      ],
      "source": [
        "### TODO: evaluate the agent from the sysid simulation environment \n",
        "### (\"AcrobotSystemIDSolvedEnv-v0\") in the real world environment\n",
        "### (\"AcrobotTargetEnv-v0\"). Be sure to run at least 10 trials.\n",
        "### Report mean and standard deviation. (10 pts)\n",
        "target_env = wrap_env(gym.make('AcrobotTargetEnv-v0'))\n",
        "sysid_mean_target, sysid_std_target = eval_agent(sysid_agent,target_env,num_trials=10)"
      ]
    },
    {
      "cell_type": "code",
      "source": [
        " #evaluate sysid agent on training environment \n",
        "training_env = AcrobotSystemIDSolvedEnv()\n",
        "sysid_mean_sim, sysid_std_sim = eval_agent(sysid_agent,training_env,num_trials=10)"
      ],
      "metadata": {
        "id": "7r7dUgeE902p",
        "outputId": "434f604b-b4b9-4b30-9233-31206428d8e5",
        "colab": {
          "base_uri": "https://localhost:8080/"
        }
      },
      "execution_count": 103,
      "outputs": [
        {
          "output_type": "stream",
          "name": "stdout",
          "text": [
            "Setting dt to 0.1978710881182292\n",
            "Setting LINK_LENGTH_1 to 1.0341095443802042\n",
            "Setting LINK_LENGTH_2 to 1.0950688868117326\n",
            "Setting LINK_MASS_1 to 0.9850922457237149\n",
            "Setting LINK_MASS_2 to 1.04183699414664\n",
            "Setting LINK_COM_POS_1 to 0.47743901456091037\n",
            "Setting LINK_COM_POS_2 to 0.49868965190557113\n",
            "Setting LINK_MOI to 0.9299494836780188\n",
            "Setting MAX_VEL_1 to 11.508391405149577\n",
            "Setting MAX_VEL_2 to 30.17502548201248\n",
            "Mean number of steps:  92.1\n",
            "Standard deviation of number of steps:  26.78973684081275\n"
          ]
        }
      ]
    },
    {
      "cell_type": "markdown",
      "metadata": {
        "id": "hCbqafVCXNfT"
      },
      "source": [
        "**Question (10 pts):** How does the sysid agent perform when transferred on the \"real\" robot in comparison to our baseline agent trained in the \"sim\" (`Acrobot-v1`)?\n",
        "\n",
        "**Answer:** The sysid agent performs significantly better than the baseline agent. The mean number of steps taken to complete the task is 162.8 (compared to 211.0 for the baseline agent) and the standard deviation is 37.5 (compared to 57.5 for the baseline agent)\n",
        "\n",
        "**Question (10 pts):** How does the sysid agent perform when evaluated in its training env, `AcrobotSystemIDSolvedEnv-v0`. You may find plotting the returns during training to be helpful using `read_tf_log`? \n",
        "\n",
        "**Answer:** \n",
        "The sysid agent actually performs better in its training environment than the baseline agent. We see that the returns during training converge faster for the sysid agent. Additionally, the mean and standard deviation of the number of steps required to reach the goal are lower. \n",
        "\n",
        "**Question (10 pts):** Do you still observe a sim2real gap?  If so, why might that be, and how could it be further minimized? \n",
        "\n",
        "**Answer:** Yes there is a still a gap, since the agent takes much longer to reach the goal in the target environment than in the simulated environment. To reduce the gap, we could regularize the training procedure (e.g. weight decay) or apply domain randomization. Collecting more data on the real environmnet may also help improve performance."
      ]
    },
    {
      "cell_type": "markdown",
      "metadata": {
        "id": "jnHlR3QxME1B"
      },
      "source": [
        "# Domain Randomization\n",
        "\n",
        "Fortunately, Ben's professor has another solution to improve the quality of transfer between simulation and reality: *domain randomization*.  A good summary of the concept can be found in the [original paper](https://arxiv.org/abs/1710.06537)'s abstract:\n",
        "\n",
        "> Due to modeling error, strategies that are successful in simulation may not transfer to their real world counterparts. In this paper, we demonstrate a simple method to bridge this \"reality gap\". By randomizing the dynamics of the simulator during training, we are able to develop policies that are capable of adapting to very different dynamics, including ones that differ significantly from the dynamics on which the policies were trained. This adaptivity enables the policies to generalize to the dynamics of the real world without any training on the physical system.\n",
        "\n",
        "Let's now implement dynamics randomization for Acrobot. \n"
      ]
    },
    {
      "cell_type": "code",
      "execution_count": 44,
      "metadata": {
        "id": "E2z9JFBdDR5i"
      },
      "outputs": [],
      "source": [
        "class AcrobotDREnv(AcrobotEnv):\n",
        "    def reset(self):\n",
        "        obs = super().reset()\n",
        "\n",
        "        ### TODO: randomize the dynamics parameters from the defaults slightly\n",
        "        ### similar to the sysid section (invidually and randomly scale 80% to 120%) (30 pts)\n",
        "        for key in default_params:\n",
        "          scale_factor = np.random.uniform(low=0.8,high=1.2)\n",
        "          setattr(self ,key, scale_factor*default_params[key])\n",
        "        ### ENDTODO\n",
        "\n",
        "        return obs\n",
        "\n",
        "env_name = 'AcrobotDREnv-v0'\n",
        "if env_name in registry.env_specs:\n",
        "    del registry.env_specs[env_name]\n",
        "register(\n",
        "    id=env_name,\n",
        "    entry_point=f'{__name__}:AcrobotDREnv',\n",
        ")"
      ]
    },
    {
      "cell_type": "code",
      "execution_count": 45,
      "metadata": {
        "id": "ot_4MYCV4s8u",
        "outputId": "95405ef0-583e-4fd6-b7ab-c4ba49d70049",
        "colab": {
          "base_uri": "https://localhost:8080/"
        }
      },
      "outputs": [
        {
          "output_type": "stream",
          "name": "stderr",
          "text": [
            "\u001b[32m[INFO]\u001b[0m[2022-03-13 00:07:53]: \u001b[32mAlogrithm type:<class 'easyrl.configs.ppo_config.PPOConfig'>\u001b[0m\n",
            "\u001b[32m[INFO]\u001b[0m[2022-03-13 00:07:53]: \u001b[32mCreating 1 environments.\u001b[0m\n",
            "\u001b[31m[ERROR]\u001b[0m[2022-03-13 00:07:53]: \u001b[31mNot a valid git repo: /usr/local/lib/python3.7/dist-packages\u001b[0m\n"
          ]
        },
        {
          "output_type": "stream",
          "name": "stdout",
          "text": [
            "====================================\n",
            "      Device:cpu\n",
            "      Total number of steps:100000\n",
            "====================================\n"
          ]
        },
        {
          "output_type": "stream",
          "name": "stderr",
          "text": [
            "\u001b[32m[INFO]\u001b[0m[2022-03-13 00:07:55]: \u001b[32mExploration steps: 0\u001b[0m\n",
            "\u001b[32m[INFO]\u001b[0m[2022-03-13 00:07:55]: \u001b[32mSaving checkpoint: /content/data/AcrobotDREnv-v0/seed_0/model/ckpt_000000000000.pt.\u001b[0m\n",
            "\u001b[32m[INFO]\u001b[0m[2022-03-13 00:07:55]: \u001b[32mSaving checkpoint: /content/data/AcrobotDREnv-v0/seed_0/model/model_best.pt.\u001b[0m\n",
            "\u001b[32m[INFO]\u001b[0m[2022-03-13 00:08:26]: \u001b[32mExploration steps: 20480\u001b[0m\n",
            "\u001b[32m[INFO]\u001b[0m[2022-03-13 00:08:26]: \u001b[32mSaving checkpoint: /content/data/AcrobotDREnv-v0/seed_0/model/ckpt_000000020480.pt.\u001b[0m\n",
            "\u001b[32m[INFO]\u001b[0m[2022-03-13 00:08:55]: \u001b[32mExploration steps: 40960\u001b[0m\n",
            "\u001b[32m[INFO]\u001b[0m[2022-03-13 00:08:55]: \u001b[32mSaving checkpoint: /content/data/AcrobotDREnv-v0/seed_0/model/ckpt_000000040960.pt.\u001b[0m\n",
            "\u001b[32m[INFO]\u001b[0m[2022-03-13 00:08:55]: \u001b[32mSaving checkpoint: /content/data/AcrobotDREnv-v0/seed_0/model/model_best.pt.\u001b[0m\n",
            "\u001b[32m[INFO]\u001b[0m[2022-03-13 00:09:25]: \u001b[32mExploration steps: 61440\u001b[0m\n",
            "\u001b[32m[INFO]\u001b[0m[2022-03-13 00:09:25]: \u001b[32mSaving checkpoint: /content/data/AcrobotDREnv-v0/seed_0/model/ckpt_000000061440.pt.\u001b[0m\n",
            "\u001b[32m[INFO]\u001b[0m[2022-03-13 00:09:25]: \u001b[32mSaving checkpoint: /content/data/AcrobotDREnv-v0/seed_0/model/model_best.pt.\u001b[0m\n",
            "\u001b[32m[INFO]\u001b[0m[2022-03-13 00:09:55]: \u001b[32mExploration steps: 81920\u001b[0m\n",
            "\u001b[32m[INFO]\u001b[0m[2022-03-13 00:09:55]: \u001b[32mSaving checkpoint: /content/data/AcrobotDREnv-v0/seed_0/model/ckpt_000000081920.pt.\u001b[0m\n",
            "\u001b[32m[INFO]\u001b[0m[2022-03-13 00:09:55]: \u001b[32mSaving checkpoint: /content/data/AcrobotDREnv-v0/seed_0/model/model_best.pt.\u001b[0m\n"
          ]
        }
      ],
      "source": [
        "dr_agent, dr_save_dir = train_ppo(env_name='AcrobotDREnv-v0')"
      ]
    },
    {
      "cell_type": "code",
      "execution_count": 46,
      "metadata": {
        "id": "cYXzH_7Msph-",
        "outputId": "a536d118-1a65-4f1b-fc2e-f2389b5e651e",
        "colab": {
          "base_uri": "https://localhost:8080/",
          "height": 284
        }
      },
      "outputs": [
        {
          "output_type": "execute_result",
          "data": {
            "text/plain": [
              "[<matplotlib.lines.Line2D at 0x7f81a5847fd0>]"
            ]
          },
          "metadata": {},
          "execution_count": 46
        },
        {
          "output_type": "display_data",
          "data": {
            "text/plain": [
              "<Figure size 432x288 with 1 Axes>"
            ],
            "image/png": "[encoded data removed]"
          },
          "metadata": {
            "needs_background": "light"
          }
        }
      ],
      "source": [
        "dr_steps, dr_returns = read_tf_log(dr_save_dir)\n",
        "plt.plot(dr_steps, dr_returns)"
      ]
    },
    {
      "cell_type": "code",
      "execution_count": 55,
      "metadata": {
        "id": "9whnEtC_aKik",
        "outputId": "97c53056-4e9e-4ed7-b40d-581288974d2c",
        "colab": {
          "base_uri": "https://localhost:8080/"
        }
      },
      "outputs": [
        {
          "output_type": "stream",
          "name": "stdout",
          "text": [
            "Mean number of steps:  183.5\n",
            "Standard deviation of number of steps:  29.41173235292338\n"
          ]
        }
      ],
      "source": [
        "### TODO: evaluate the agent from the DR simulation environment \n",
        "### (\"AcrobotDREnv-v0\") in the real world environment\n",
        "### (\"AcrobotTargetEnv-v0\").  Make sure to run at least 10 trials.\n",
        "### Report mean and standard deviation. (10 pts)\n",
        "target_env = wrap_env(gym.make('AcrobotTargetEnv-v0'))\n",
        "dr_mean_target, dr_std_target = eval_agent(dr_agent,target_env,num_trials=10)"
      ]
    },
    {
      "cell_type": "code",
      "source": [
        "training_env = wrap_env(gym.make('AcrobotDREnv-v0'))\n",
        "dr_mean_sim, dr_std_sim = eval_agent(dr_agent,training_env,num_trials=10)"
      ],
      "metadata": {
        "colab": {
          "base_uri": "https://localhost:8080/"
        },
        "id": "NLDLtNd9Yw-U",
        "outputId": "36636cb9-f1fc-499c-af92-bddfa5a9bebc"
      },
      "execution_count": 52,
      "outputs": [
        {
          "output_type": "stream",
          "name": "stdout",
          "text": [
            "Mean number of steps:  78.4\n",
            "Standard deviation of number of steps:  11.976643937263894\n"
          ]
        }
      ]
    },
    {
      "cell_type": "markdown",
      "metadata": {
        "id": "VRvqbOi1ajx-"
      },
      "source": [
        "**Question (10 pts):** How does the DR agent perform when evaluated in its training env, `AcrobotDREnv-v0`. You may find plotting the returns during training to be helpful using `read_tf_log`?\n",
        "\n",
        "**Answer:** We see a very quick convergence of returns and a similar number of steps required to reach the goal (compared to the baseline).\n",
        "\n",
        "**Question (10 pts):**:  How does the DR agent perform in comparison to the sysid agent when transferred to our real world environment? Why is this so?\n",
        "\n",
        "**Answer**: The DR agent performs worse. This is probably because our system identification was close enough to the real world, so that training on this environment prepared the agent better than training on many random environments. Range for the DR agent was too broad and we lost performance by being robust against too many scenarios."
      ]
    },
    {
      "cell_type": "markdown",
      "metadata": {
        "id": "VI7eLLlTrHcY"
      },
      "source": [
        "## Robustness vs Performance Tradeoff\n",
        "\n",
        "Next, try making your domain randomization less varied by narrowing the distributions of parameters you sample from. Perhaps we introduced too much randomization last round to train a more robust policy in exchange for some potential performance. Instead of scaling the parameters by 80% to 110%, only scale them from 95% to 105%."
      ]
    },
    {
      "cell_type": "code",
      "execution_count": 88,
      "metadata": {
        "id": "O2zl9vrRrfkK",
        "colab": {
          "base_uri": "https://localhost:8080/",
          "height": 647
        },
        "outputId": "b1746451-aa6b-4c1e-8a85-664773e0c587"
      },
      "outputs": [
        {
          "output_type": "stream",
          "name": "stderr",
          "text": [
            "\u001b[32m[INFO]\u001b[0m[2022-03-13 00:38:56]: \u001b[32mAlogrithm type:<class 'easyrl.configs.ppo_config.PPOConfig'>\u001b[0m\n",
            "\u001b[32m[INFO]\u001b[0m[2022-03-13 00:38:56]: \u001b[32mCreating 1 environments.\u001b[0m\n",
            "\u001b[31m[ERROR]\u001b[0m[2022-03-13 00:38:56]: \u001b[31mNot a valid git repo: /usr/local/lib/python3.7/dist-packages\u001b[0m\n"
          ]
        },
        {
          "output_type": "stream",
          "name": "stdout",
          "text": [
            "====================================\n",
            "      Device:cpu\n",
            "      Total number of steps:100000\n",
            "====================================\n"
          ]
        },
        {
          "output_type": "stream",
          "name": "stderr",
          "text": [
            "\u001b[32m[INFO]\u001b[0m[2022-03-13 00:38:59]: \u001b[32mExploration steps: 0\u001b[0m\n",
            "\u001b[32m[INFO]\u001b[0m[2022-03-13 00:38:59]: \u001b[32mSaving checkpoint: /content/data/AcrobotDRCompareEnv-v0/seed_0/model/ckpt_000000000000.pt.\u001b[0m\n",
            "\u001b[32m[INFO]\u001b[0m[2022-03-13 00:38:59]: \u001b[32mSaving checkpoint: /content/data/AcrobotDRCompareEnv-v0/seed_0/model/model_best.pt.\u001b[0m\n",
            "\u001b[32m[INFO]\u001b[0m[2022-03-13 00:39:29]: \u001b[32mExploration steps: 20480\u001b[0m\n",
            "\u001b[32m[INFO]\u001b[0m[2022-03-13 00:39:29]: \u001b[32mSaving checkpoint: /content/data/AcrobotDRCompareEnv-v0/seed_0/model/ckpt_000000020480.pt.\u001b[0m\n",
            "\u001b[32m[INFO]\u001b[0m[2022-03-13 00:39:59]: \u001b[32mExploration steps: 40960\u001b[0m\n",
            "\u001b[32m[INFO]\u001b[0m[2022-03-13 00:39:59]: \u001b[32mSaving checkpoint: /content/data/AcrobotDRCompareEnv-v0/seed_0/model/ckpt_000000040960.pt.\u001b[0m\n",
            "\u001b[32m[INFO]\u001b[0m[2022-03-13 00:39:59]: \u001b[32mSaving checkpoint: /content/data/AcrobotDRCompareEnv-v0/seed_0/model/model_best.pt.\u001b[0m\n",
            "\u001b[32m[INFO]\u001b[0m[2022-03-13 00:40:29]: \u001b[32mExploration steps: 61440\u001b[0m\n",
            "\u001b[32m[INFO]\u001b[0m[2022-03-13 00:40:29]: \u001b[32mSaving checkpoint: /content/data/AcrobotDRCompareEnv-v0/seed_0/model/ckpt_000000061440.pt.\u001b[0m\n",
            "\u001b[32m[INFO]\u001b[0m[2022-03-13 00:40:29]: \u001b[32mSaving checkpoint: /content/data/AcrobotDRCompareEnv-v0/seed_0/model/model_best.pt.\u001b[0m\n",
            "\u001b[32m[INFO]\u001b[0m[2022-03-13 00:40:59]: \u001b[32mExploration steps: 81920\u001b[0m\n",
            "\u001b[32m[INFO]\u001b[0m[2022-03-13 00:40:59]: \u001b[32mSaving checkpoint: /content/data/AcrobotDRCompareEnv-v0/seed_0/model/ckpt_000000081920.pt.\u001b[0m\n",
            "\u001b[32m[INFO]\u001b[0m[2022-03-13 00:40:59]: \u001b[32mSaving checkpoint: /content/data/AcrobotDRCompareEnv-v0/seed_0/model/model_best.pt.\u001b[0m\n"
          ]
        },
        {
          "output_type": "execute_result",
          "data": {
            "text/plain": [
              "[<matplotlib.lines.Line2D at 0x7f81a5cd19d0>]"
            ]
          },
          "metadata": {},
          "execution_count": 88
        },
        {
          "output_type": "display_data",
          "data": {
            "text/plain": [
              "<Figure size 432x288 with 1 Axes>"
            ],
            "image/png": "[encoded data removed]"
          },
          "metadata": {
            "needs_background": "light"
          }
        }
      ],
      "source": [
        "class AcrobotDRCompareEnv(AcrobotEnv):\n",
        "    def reset(self):\n",
        "        obs = super().reset()\n",
        "\n",
        "        ### TODO: randomize the dynamics parameters (10 pts)\n",
        "        for key in best_params:\n",
        "          scale_factor = np.random.uniform(low=0.95,high=1.05)\n",
        "          setattr(self ,key, scale_factor*getattr(self,key))\n",
        "        ### ENDTODO\n",
        "        return obs\n",
        "\n",
        "env_name = 'AcrobotDRCompareEnv-v0'\n",
        "if env_name in registry.env_specs:\n",
        "    del registry.env_specs[env_name]\n",
        "register(\n",
        "    id=env_name,\n",
        "    entry_point=f'{__name__}:AcrobotDRCompareEnv',\n",
        ")\n",
        "\n",
        "dr_compare_agent, dr_compare_save_dir = train_ppo(env_name='AcrobotDRCompareEnv-v0')\n",
        "dr_compare_steps, dr_compare_returns = read_tf_log(dr_compare_save_dir)\n",
        "plt.plot(dr_compare_steps, dr_compare_returns)"
      ]
    },
    {
      "cell_type": "code",
      "execution_count": 87,
      "metadata": {
        "id": "D8KDRY6tr_p5",
        "colab": {
          "base_uri": "https://localhost:8080/"
        },
        "outputId": "d74e7105-f11c-4f90-8db4-c441261cd7ab"
      },
      "outputs": [
        {
          "output_type": "stream",
          "name": "stdout",
          "text": [
            "Mean number of steps:  150.8\n",
            "Standard deviation of number of steps:  53.456150254203685\n"
          ]
        }
      ],
      "source": [
        "### TODO: evaluate the dr_compare_agent in the real world environment\n",
        "### (\"AcrobotTargetEnv-v0\").  Make sure to run at least 10 trials.\n",
        "### Report mean and standard deviation. (10 pts)\n",
        "target_env = wrap_env(gym.make('AcrobotTargetEnv-v0'))\n",
        "dr_compare_mean_target, dr_compare_std_target = eval_agent(dr_compare_agent,target_env,num_trials=10)"
      ]
    },
    {
      "cell_type": "code",
      "source": [
        "training_env = wrap_env(gym.make('AcrobotDRCompareEnv-v0'))\n",
        "dr_compare_mean_sim, dr_compare_std_sim = eval_agent(dr_compare_agent,training_env,num_trials=10)"
      ],
      "metadata": {
        "colab": {
          "base_uri": "https://localhost:8080/"
        },
        "id": "9HFsIGvXZ5iU",
        "outputId": "b223da80-ead4-4062-f2c9-3a6ae9365c4a"
      },
      "execution_count": 94,
      "outputs": [
        {
          "output_type": "stream",
          "name": "stdout",
          "text": [
            "Mean number of steps:  77.8\n",
            "Standard deviation of number of steps:  8.1706792863262\n"
          ]
        }
      ]
    },
    {
      "cell_type": "markdown",
      "metadata": {
        "id": "hyK6vjIqsVsN"
      },
      "source": [
        "**Question (10 pts):** Does narrowing the range of domain randomization help with transfer to reality? Why?\n",
        "\n",
        "**Answer**: Narrowing the range helps because the values we sample are close to the ones observed in the real world. Having a narrower range opens you up to being less robust, but it seems that for this application the [0.8,1.2] range was trading off too much performance. (Given benchmark reliable)"
      ]
    },
    {
      "cell_type": "markdown",
      "metadata": {
        "id": "KHWNqcwSspiF"
      },
      "source": [
        "# Knowledge Distillation \n",
        "\n",
        "Unfortunately, the velocity sensors on the lab's Acrobat broke and are no longer usable. Thus, all of Ben's agents trained thus far that account for velocity in the state space can no longer function.\n",
        "\n",
        "Fortunately, Ben's professor has yet another idea to allow for transfer between simulation and reality: *knowledge distillation*. A summary of this idea can be found [here](https://intellabs.github.io/distiller/knowledge_distillation.html):\n",
        "\n",
        "> Knowledge distillation is model compression method in which a small model is trained to mimic a pre-trained, larger model (or ensemble of models). This training setting is sometimes referred to as \"teacher-student\", where the large model is the teacher and the small model is the student (we'll be using these terms interchangeably).\n",
        "\n",
        "This scenario is common when in simulation, we can have privileged information that may not be possible in reality (more sensors, perfect state estimation, etc.).\n",
        "\n",
        "In our case, we could train a teacher network in simulation with full access to a simulated robot with working velocity sensors. We would then train our student network with a more limited state space to predict actions that match that of the teacher. Let's try to implement this."
      ]
    },
    {
      "cell_type": "code",
      "execution_count": 8,
      "metadata": {
        "id": "nZcyZPdHspiG"
      },
      "outputs": [],
      "source": [
        "# defining our environments\n",
        "class NoVelocityAcrobotEnv(AcrobotEnv):\n",
        "    book_or_nips = \"book\"    \n",
        "    \n",
        "    def __init__(self):\n",
        "        AcrobotEnv.__init__(self)\n",
        "        high = np.array(\n",
        "            [1.0, 1.0, 1.0, 1.0], dtype=np.float32\n",
        "        )\n",
        "        low = -high\n",
        "        self.observation_space = spaces.Box(low=low, high=high, dtype=np.float32)\n",
        "        \n",
        "    def _get_ob(self):\n",
        "        s = self.state\n",
        "        assert s is not None, \"Call reset before using AcrobotEnv object.\"\n",
        "\n",
        "        obs = np.array(\n",
        "            [\n",
        "                np.cos(s[0]), np.sin(s[0]), np.cos(s[1]), np.sin(s[1]), # no velocity\n",
        "            ], dtype=np.float32\n",
        "        )\n",
        "                    \n",
        "        return obs\n",
        "\n",
        "class NoVelocityAcrobotTargetEnv(NoVelocityAcrobotEnv):\n",
        "    book_or_nips = \"nips\"    \n",
        "    \n",
        "        \n",
        "env_name = 'NoVelocityAcrobot-v0'\n",
        "if env_name in registry.env_specs:\n",
        "    del registry.env_specs[env_name]\n",
        "register(\n",
        "    id=env_name,\n",
        "    entry_point=f'{__name__}:NoVelocityAcrobotEnv',\n",
        ")\n",
        "\n",
        "env_name = 'NoVelocityAcrobotTarget-v0'\n",
        "if env_name in registry.env_specs:\n",
        "    del registry.env_specs[env_name]\n",
        "register(\n",
        "    id=env_name,\n",
        "    entry_point=f'{__name__}:NoVelocityAcrobotTargetEnv',\n",
        ")"
      ]
    },
    {
      "cell_type": "code",
      "execution_count": 40,
      "metadata": {
        "id": "FhZlocC8spiG"
      },
      "outputs": [],
      "source": [
        "# get our vanilla agent trained on the full simulated basic env\n",
        "# if you have this cached from Q1 no need to re-train, just run `teacher_agent = agent`\n",
        "# in practice, we could use one of our better agents (e.g., the agent trained on domain randomization\n",
        "# or sysid) but let's use the basic agent for simplicity\n",
        "\n",
        "# teacher_agent, teacher_save_dir = train_ppo(env_name=\"Acrobot-v1\")\n",
        "# teacher_steps, teacher_returns = read_tf_log(teacher_save_dir)\n",
        "# plt.plot(teacher_steps, teacher_returns)\n",
        "\n",
        "teacher_agent = agent"
      ]
    },
    {
      "cell_type": "markdown",
      "metadata": {
        "id": "_VI85BBTspiG"
      },
      "source": [
        "Now that we have our teacher, let's generate a dataset of observations and policy outputs that we'll try to get our student to later match. Note that solely training on executed *actions* is insufficient, so we'll need to store the parameters of our `Categorical` distribution (the logits representing each of the 3 discrete actions) for every given observation."
      ]
    },
    {
      "cell_type": "code",
      "execution_count": null,
      "metadata": {
        "id": "mA1Jpj4BspiG"
      },
      "outputs": [],
      "source": [
        "num_transitions = 20000\n",
        "\n",
        "stud_dataset = {\n",
        "    'obs': np.zeros((num_transitions, 6)),\n",
        "    'dist_params': np.zeros((num_transitions, 3)),   \n",
        "}\n",
        "\n",
        "class StudentObsActionDataset(torch.utils.data.Dataset):\n",
        "    def __init__(self, stud_dataset):\n",
        "        self.states = stud_dataset['obs']\n",
        "        self.params = stud_dataset['dist_params']\n",
        "        \n",
        "    def __len__(self):\n",
        "        return self.states.shape[0]\n",
        "\n",
        "    def __getitem__(self, idx):\n",
        "        sample = dict()\n",
        "        sample['state'] = self.states[idx][:4] # no velocity information\n",
        "        sample['dist_params'] = self.params[idx]\n",
        "        return sample\n",
        "\n",
        "\n",
        "### TODO: Collect offline dataset of teacher observations and policy outputs\n",
        "###       from our simulated environment, `Acrobot-v1` which has access to the velocity (30 pts)\n",
        "'''\n",
        "note: to get an action out of our `PPOAgent` object, you can pass an observation as a \n",
        "tensor to the teacher_agent's actor to get a `Categorical` distribution\n",
        "'''\n",
        "env = wrap_env(gym.make('Acrobot-v1'))\n",
        "\n",
        "step = 0\n",
        "while step < num_transitions:\n",
        "    observation = env.reset()\n",
        "    for i in range(1024):\n",
        "        stud_dataset['obs'][step,:] = observation\n",
        "        observation = torch.tensor(observation).float()\n",
        "        dist, _ = teacher_agent.actor.forward(observation)\n",
        "        stud_dataset['dist_params'][step,:] = np.array(dist.logits.cpu().detach())\n",
        "        action = teacher_agent.get_action(observation)[0].tolist()\n",
        "        observation, reward, done, info = env.step(action)    \n",
        "        step += 1\n",
        "        if done or step == num_transitions:\n",
        "            break\n",
        "    env.close()\n",
        "#####################################\n",
        "\n",
        "dset = StudentObsActionDataset(stud_dataset)"
      ]
    },
    {
      "cell_type": "markdown",
      "metadata": {
        "id": "MEpK6eU3spiG"
      },
      "source": [
        "Awesome, now that we have our offline dataset, we just need our student policy (which will take in observations without velocities) to output the same distribution over discrete actions! Note that our `StudentObsActionDataset` wrapper is removing velocities for you already."
      ]
    },
    {
      "cell_type": "code",
      "execution_count": null,
      "metadata": {
        "id": "0DmRuMj1spiH",
        "colab": {
          "base_uri": "https://localhost:8080/",
          "height": 304
        },
        "outputId": "5d792002-427a-4326-a019-62bf078e5cac"
      },
      "outputs": [
        {
          "output_type": "stream",
          "name": "stderr",
          "text": [
            "Epoch: 100%|██████████| 50/50 [00:31<00:00,  1.57it/s, loss=9.02]\n"
          ]
        },
        {
          "output_type": "execute_result",
          "data": {
            "text/plain": [
              "[<matplotlib.lines.Line2D at 0x7fdec68c1650>]"
            ]
          },
          "metadata": {},
          "execution_count": 14
        },
        {
          "output_type": "display_data",
          "data": {
            "text/plain": [
              "<Figure size 432x288 with 1 Axes>"
            ],
            "image/png": "[encoded data removed]"
          },
          "metadata": {
            "needs_background": "light"
          }
        }
      ],
      "source": [
        "# model \n",
        "student_body = MLP(\n",
        "    input_size=4, # no more angular velocity\n",
        "    hidden_sizes=[64, 64],\n",
        "    output_size=64,\n",
        "    hidden_act=nn.Tanh,\n",
        "    output_act=nn.Tanh\n",
        ")\n",
        "act_size = env.action_space.n\n",
        "student = CategoricalPolicy(\n",
        "    student_body,\n",
        "    in_features=64,\n",
        "    action_dim=act_size\n",
        ").to(cfg.alg.device)\n",
        "\n",
        "# setup\n",
        "optimizer = torch.optim.Adam(student.parameters(), lr=0.0005)\n",
        "max_epochs = 50\n",
        "dataloader = torch.utils.data.DataLoader(dset, batch_size=256, shuffle=True)\n",
        "criterion = torch.nn.MSELoss()\n",
        "\n",
        "# train loop\n",
        "pbar = tqdm(range(max_epochs), desc='Epoch')\n",
        "losses = []\n",
        "for iter in pbar:\n",
        "    avg_loss = []\n",
        "    for batch_idx, sample in enumerate(dataloader):\n",
        "        states = sample['state'].float().to(cfg.alg.device)\n",
        "        expert_logits = sample['dist_params'].float().to(cfg.alg.device)\n",
        "\n",
        "        ### TODO: optimize the student outputs with respect to the data (10 pts)\n",
        "        student_dist, _ = student(states)\n",
        "        student_logits = student_dist.logits\n",
        "        #loss = F.cross_entropy(student_logits, expert_logits)\n",
        "        #L = nn.CrossEntropyLoss()\n",
        "        #loss = L(student_logits, expert_logits)*-1\n",
        "        loss = criterion(student_logits,expert_logits)\n",
        "        optimizer.zero_grad()\n",
        "        loss.backward()\n",
        "        optimizer.step()\n",
        "        ####\n",
        "        \n",
        "        pbar.set_postfix({'loss': loss.item()})\n",
        "        losses.append(loss.item())\n",
        "\n",
        "plt.plot(losses)\n"
      ]
    },
    {
      "cell_type": "markdown",
      "metadata": {
        "id": "jZ96V-Y9spiH"
      },
      "source": [
        "Let's evaluate the performance of our trained student in a simulated environment with no velocity in the state before we try evaluating it on our real robot with broken velocity sensors."
      ]
    },
    {
      "cell_type": "code",
      "execution_count": null,
      "metadata": {
        "id": "2Dr769ZTspiH"
      },
      "outputs": [],
      "source": [
        "student.eval()\n",
        "\n",
        "### TODO: Evaluate the student on `NoVelocityAcrobot-v0`. Be sure to run at least 10 trials\n",
        "### Report mean and standard deviation. (10 pts)\n",
        "# target_env = wrap_env(gym.make('NoVelocityAcrobot-v0'))\n",
        "# student_agent = PPOAgent(actor=student.eval(),critic=teacher_agent.critic, env=target_env)\n",
        "# eval_agent(student_agent,target_env)\n",
        "\n",
        "env = wrap_env(gym.make('NoVelocityAcrobot-v0'))\n",
        "\n",
        "num_steps_student_sim = []\n",
        "for i in range(50):\n",
        "    observation = env.reset()\n",
        "    step = 0\n",
        "    for i in range(1024):    \n",
        "        action = student(torch.tensor(observation))[0].sample()\n",
        "        observation, reward, done, info = env.step(action.tolist())    \n",
        "        if done:\n",
        "            step = i\n",
        "            break\n",
        "    num_steps_student_sim.append(step)\n",
        "    env.close()\n"
      ]
    },
    {
      "cell_type": "code",
      "source": [
        "student_mean_sim, student_sdt_sim = np.mean(num_steps_student_sim), np.std(num_steps_student_sim)\n",
        "print(\"Average number of steps (Student, NoVelocityAcrobot-v0): \", student_mean_sim) #mean = 136, std = 80\n",
        "print(\"Standard Deviation of number of steps (Student, NoVelocityAcrobot-v0): \", student_sdt_sim)"
      ],
      "metadata": {
        "id": "s-kxJWiPefTN",
        "outputId": "fa13a93c-0cb5-4924-a906-379ce632b264",
        "colab": {
          "base_uri": "https://localhost:8080/"
        }
      },
      "execution_count": null,
      "outputs": [
        {
          "output_type": "stream",
          "name": "stdout",
          "text": [
            "Average number of steps (Student, NoVelocityAcrobot-v0):  144.0\n",
            "Standard Deviation of number of steps (Student, NoVelocityAcrobot-v0):  105.54866176318865\n"
          ]
        }
      ]
    },
    {
      "cell_type": "code",
      "execution_count": null,
      "metadata": {
        "id": "PfxWvstvspiH"
      },
      "outputs": [],
      "source": [
        "student.eval()\n",
        "\n",
        "### TODO: Evaluate the student on `NoVelocityAcrobotTarget-v0`. Be sure to run at least 10 trials.\n",
        "### Report mean and standard deviation. (10 pts)\n",
        "env = wrap_env(gym.make('NoVelocityAcrobotTarget-v0'))\n",
        "\n",
        "num_steps_student_target = []\n",
        "for i in range(50):\n",
        "    observation = env.reset()\n",
        "    step = 0\n",
        "    for i in range(1024):    \n",
        "        action = student(torch.tensor(observation))[0].sample()\n",
        "        observation, reward, done, info = env.step(action.tolist())    \n",
        "        if done:\n",
        "            step = i\n",
        "            break\n",
        "    num_steps_student_target.append(step)\n",
        "    env.close()"
      ]
    },
    {
      "cell_type": "code",
      "source": [
        "#np.mean(num_steps) #mean = 389, std = 166\n",
        "student_mean_target, student_std_target = np.mean(num_steps_student_target), np.std(num_steps_student_target)\n",
        "print(\"Average number of steps (Student, NoVelocityAcrobotTarget-v0): \",student_mean_target) \n",
        "print(\"Standard Deviation of number of steps (Student, NoVelocityAcrobotTarget-v0): \",student_std_target)"
      ],
      "metadata": {
        "id": "LDUFra0rMTHC",
        "outputId": "54e6499b-51a2-430b-838f-427ab74e08bd",
        "colab": {
          "base_uri": "https://localhost:8080/"
        }
      },
      "execution_count": null,
      "outputs": [
        {
          "output_type": "stream",
          "name": "stdout",
          "text": [
            "Average number of steps (Student, NoVelocityAcrobotTarget-v0):  382.92\n",
            "Standard Deviation of number of steps (Student, NoVelocityAcrobotTarget-v0):  133.99579694900882\n"
          ]
        }
      ]
    },
    {
      "cell_type": "code",
      "source": [
        "env = wrap_env(gym.make('Acrobot-v1'))\n",
        "eval_agent(teacher_agent,env)"
      ],
      "metadata": {
        "id": "la7T9afjhxkz",
        "outputId": "cc211120-afd6-4ffe-b436-bd5cbcfa3752",
        "colab": {
          "base_uri": "https://localhost:8080/"
        }
      },
      "execution_count": 41,
      "outputs": [
        {
          "output_type": "stream",
          "name": "stdout",
          "text": [
            "Mean number of steps:  86.9\n",
            "Standard deviation of number of steps:  14.57703673590761\n"
          ]
        },
        {
          "output_type": "execute_result",
          "data": {
            "text/plain": [
              "(86.9, 14.57703673590761)"
            ]
          },
          "metadata": {},
          "execution_count": 41
        }
      ]
    },
    {
      "cell_type": "markdown",
      "metadata": {
        "id": "NKJr8rCispiH"
      },
      "source": [
        "**Question (10 pts):**:  How does the student agent perform in the simulated environment without velocity (`NoVelocityAcrobot-v0`) in comparison to the teacher on the same environment with velocity measurements (`Acrobot-v1`)? \n",
        "\n",
        "**Answer**: The student performs significantly worse than the teacher, which is expected since it has access to less information.\n",
        "\n",
        "**Question (10 pts):**:  How does the student agent perform in the target environment without velocity (`NoVelocityAcrobotTarget-v0`) in comparison to the other agents we've trained so far? Why is this so?\n",
        "\n",
        "**Answer**: It performs worse than all of the other agents, because it has access to less state information. Additionally, it is a cloned policy of the teacher, meaning it is highly unlikely that it can perfom better than the teacher."
      ]
    },
    {
      "cell_type": "markdown",
      "source": [
        "## Knowledge Distillation + Domain Randomization (bonus, 20 pts)\n",
        "Instead of reducing the state space from reality, `AcrobotTargetEnv-v0` for knowledge distillation, let's augment the state space in simulation with priviliged information. This will also allow us to compare knowledge distillation to some of the other methods that we've examined so far (sys ID and DR).\n",
        "\n",
        "In this final scenario, the priviliged information that the teacher network can access is the model parameters of our simulation (specifically, link masses and lengths). We'll train a teacher network that leverages this additional information and is trained on a wide range of configurations, while the student network will not have access to this information and must act with the same observation space as our past methods.\n",
        "\n",
        "We define an environment below for you that includes link lengths and masses in the state space. Modify the environment to do randomization of these parameters, train your teacher in this environment, collect an offline dataset using the teacher, and then train your student with that dataset."
      ],
      "metadata": {
        "id": "8uM9PYArq1Wl"
      }
    },
    {
      "cell_type": "code",
      "source": [
        "from re import S\n",
        "# defining our environments\n",
        "class TeacherMassLengthAcrobotEnv(AcrobotEnv):\n",
        "    book_or_nips = \"book\"    \n",
        "\n",
        "    def __init__(self, *args, **kwargs):\n",
        "        super().__init__(*args, **kwargs)\n",
        "        high = np.array(\n",
        "            [1.0, 1.0, 1.0, 1.0, self.MAX_VEL_1, self.MAX_VEL_2, 2.0, 2.0, 2.0, 2.0], dtype=np.float32\n",
        "        ) # added length 1, length 2, mass 1, mass 2 to state space\n",
        "        low = -high\n",
        "        self.observation_space = spaces.Box(low=low, high=high, dtype=np.float32)\n",
        "        \n",
        "    def _get_ob(self):\n",
        "        s = self.state\n",
        "        assert s is not None, \"Call reset before using AcrobotEnv object.\"\n",
        "\n",
        "        ### TODO: modify me to include link lengths and masses at the end of the state space\n",
        "        obs = np.array(\n",
        "            [\n",
        "                np.cos(s[0]), np.sin(s[0]), np.cos(s[1]), np.sin(s[1]), s[2], s[3],\n",
        "            ], dtype=np.float32\n",
        "        )\n",
        "\n",
        "        obs = np.concatenate((obs,s.copy()))\n",
        "        ### ENDTODO\n",
        "        \n",
        "        return obs\n",
        "    \n",
        "    def reset(\n",
        "        self,\n",
        "        return_info: bool = False,\n",
        "    ):\n",
        "        super().reset()\n",
        "        self.state = self.np_random.uniform(low=-0.1, high=0.1, size=(4,)).astype(\n",
        "            np.float32\n",
        "        )\n",
        "        \n",
        "        ### TODO: randomize just the link lengths and masses from the defaults slightly\n",
        "        ### similar to the sysid section (invidually and randomly scale 80% to 120%)\n",
        "        for key in ['LINK_LENGTH_1','LINK_LENGTH_2','LINK_MASS_1','LINK_MASS_2']:\n",
        "          scale_factor = np.random.uniform(low=0.95,high=1.05)\n",
        "          setattr(self ,key, scale_factor*getattr(self,key))\n",
        "        ### ENDTODO\n",
        "\n",
        "        if not return_info:\n",
        "            return self._get_ob()\n",
        "        else:\n",
        "            return self._get_ob(), {}\n",
        "\n",
        "        \n",
        "env_name = 'TeacherMassLengthAcrobot-v0'\n",
        "if env_name in registry.env_specs:\n",
        "    del registry.env_specs[env_name]\n",
        "register(\n",
        "    id=env_name,\n",
        "    entry_point=f'{__name__}:TeacherMassLengthAcrobotEnv',\n",
        ")"
      ],
      "metadata": {
        "id": "BvK4qVBbq2qt"
      },
      "execution_count": 11,
      "outputs": []
    },
    {
      "cell_type": "code",
      "source": [
        "teacher_ml_agent, teacher_ml_save_dir = train_ppo(env_name=\"TeacherMassLengthAcrobot-v0\")\n",
        "teacher_ml_steps, teacher_ml_returns = read_tf_log(teacher_ml_save_dir)\n",
        "plt.plot(teacher_ml_steps, teacher_ml_returns)"
      ],
      "metadata": {
        "id": "EwT8mfsoq7wJ",
        "outputId": "6c53e9ed-c0ba-40f4-815f-f5ca2d8019a9",
        "colab": {
          "base_uri": "https://localhost:8080/",
          "height": 647
        }
      },
      "execution_count": 12,
      "outputs": [
        {
          "output_type": "stream",
          "name": "stderr",
          "text": [
            "\u001b[32m[INFO]\u001b[0m[2022-03-12 22:18:58]: \u001b[32mAlogrithm type:<class 'easyrl.configs.ppo_config.PPOConfig'>\u001b[0m\n",
            "\u001b[32m[INFO]\u001b[0m[2022-03-12 22:18:58]: \u001b[32mCreating 1 environments.\u001b[0m\n",
            "\u001b[31m[ERROR]\u001b[0m[2022-03-12 22:18:58]: \u001b[31mNot a valid git repo: /usr/local/lib/python3.7/dist-packages\u001b[0m\n"
          ]
        },
        {
          "output_type": "stream",
          "name": "stdout",
          "text": [
            "====================================\n",
            "      Device:cpu\n",
            "      Total number of steps:100000\n",
            "====================================\n"
          ]
        },
        {
          "output_type": "stream",
          "name": "stderr",
          "text": [
            "\u001b[32m[INFO]\u001b[0m[2022-03-12 22:19:03]: \u001b[32mExploration steps: 0\u001b[0m\n",
            "\u001b[32m[INFO]\u001b[0m[2022-03-12 22:19:03]: \u001b[32mSaving checkpoint: /content/data/TeacherMassLengthAcrobot-v0/seed_0/model/ckpt_000000000000.pt.\u001b[0m\n",
            "\u001b[32m[INFO]\u001b[0m[2022-03-12 22:19:03]: \u001b[32mSaving checkpoint: /content/data/TeacherMassLengthAcrobot-v0/seed_0/model/model_best.pt.\u001b[0m\n",
            "\u001b[32m[INFO]\u001b[0m[2022-03-12 22:19:31]: \u001b[32mExploration steps: 20480\u001b[0m\n",
            "\u001b[32m[INFO]\u001b[0m[2022-03-12 22:19:31]: \u001b[32mSaving checkpoint: /content/data/TeacherMassLengthAcrobot-v0/seed_0/model/ckpt_000000020480.pt.\u001b[0m\n",
            "\u001b[32m[INFO]\u001b[0m[2022-03-12 22:19:59]: \u001b[32mExploration steps: 40960\u001b[0m\n",
            "\u001b[32m[INFO]\u001b[0m[2022-03-12 22:19:59]: \u001b[32mSaving checkpoint: /content/data/TeacherMassLengthAcrobot-v0/seed_0/model/ckpt_000000040960.pt.\u001b[0m\n",
            "\u001b[32m[INFO]\u001b[0m[2022-03-12 22:19:59]: \u001b[32mSaving checkpoint: /content/data/TeacherMassLengthAcrobot-v0/seed_0/model/model_best.pt.\u001b[0m\n",
            "\u001b[32m[INFO]\u001b[0m[2022-03-12 22:20:27]: \u001b[32mExploration steps: 61440\u001b[0m\n",
            "\u001b[32m[INFO]\u001b[0m[2022-03-12 22:20:27]: \u001b[32mSaving checkpoint: /content/data/TeacherMassLengthAcrobot-v0/seed_0/model/ckpt_000000061440.pt.\u001b[0m\n",
            "\u001b[32m[INFO]\u001b[0m[2022-03-12 22:20:27]: \u001b[32mSaving checkpoint: /content/data/TeacherMassLengthAcrobot-v0/seed_0/model/model_best.pt.\u001b[0m\n",
            "\u001b[32m[INFO]\u001b[0m[2022-03-12 22:20:54]: \u001b[32mExploration steps: 81920\u001b[0m\n",
            "\u001b[32m[INFO]\u001b[0m[2022-03-12 22:20:54]: \u001b[32mSaving checkpoint: /content/data/TeacherMassLengthAcrobot-v0/seed_0/model/ckpt_000000081920.pt.\u001b[0m\n",
            "\u001b[32m[INFO]\u001b[0m[2022-03-12 22:20:54]: \u001b[32mSaving checkpoint: /content/data/TeacherMassLengthAcrobot-v0/seed_0/model/model_best.pt.\u001b[0m\n"
          ]
        },
        {
          "output_type": "execute_result",
          "data": {
            "text/plain": [
              "[<matplotlib.lines.Line2D at 0x7f81ab7bbb50>]"
            ]
          },
          "metadata": {},
          "execution_count": 12
        },
        {
          "output_type": "display_data",
          "data": {
            "text/plain": [
              "<Figure size 432x288 with 1 Axes>"
            ],
            "image/png": "[encoded data removed]"
          },
          "metadata": {
            "needs_background": "light"
          }
        }
      ]
    },
    {
      "cell_type": "code",
      "source": [
        "num_transitions = 20000\n",
        "\n",
        "other_stud_dataset = {\n",
        "    'obs': np.zeros((num_transitions, 10)),\n",
        "    'dist_params': np.zeros((num_transitions, 3)),   \n",
        "}\n",
        "\n",
        "class NoMassLengthStudentObsActionDataset(torch.utils.data.Dataset):\n",
        "    def __init__(self, stud_dataset):\n",
        "        self.states = stud_dataset['obs']\n",
        "        self.params = stud_dataset['dist_params']\n",
        "        \n",
        "    def __len__(self):\n",
        "        return self.states.shape[0]\n",
        "\n",
        "    def __getitem__(self, idx):\n",
        "        sample = dict()\n",
        "        sample['state'] = self.states[idx][:6] # no mass or length information\n",
        "        sample['dist_params'] = self.params[idx]\n",
        "        return sample\n",
        "\n",
        "\n",
        "### TODO: Collect offline dataset of teacher observations and policy outputs\n",
        "###       from our simulated environment, `TeacherMassLengthAcrobot-v0` \n",
        "###       which randomizes link parameters but also includes this priliged info\n",
        "###       in the observation space\n",
        "\n",
        "env = wrap_env(gym.make('TeacherMassLengthAcrobot-v0'))\n",
        "\n",
        "step = 0\n",
        "while step < num_transitions:\n",
        "    observation = env.reset()\n",
        "    for i in range(1024):\n",
        "        other_stud_dataset['obs'][step,:] = observation\n",
        "        observation = torch.tensor(observation).float()\n",
        "        dist, _ = teacher_ml_agent.actor.forward(observation)\n",
        "        other_stud_dataset['dist_params'][step,:] = np.array(dist.logits.cpu().detach())\n",
        "        action = teacher_ml_agent.get_action(observation)[0].tolist()\n",
        "        observation, reward, done, info = env.step(action)    \n",
        "        step += 1\n",
        "        if done or step == num_transitions:\n",
        "            break\n",
        "    env.close()\n",
        "\n",
        "#####################################\n",
        "\n",
        "no_ml_dset = NoMassLengthStudentObsActionDataset(other_stud_dataset)"
      ],
      "metadata": {
        "id": "kT9RFukzq9gq"
      },
      "execution_count": 13,
      "outputs": []
    },
    {
      "cell_type": "code",
      "source": [
        "# model \n",
        "no_ml_student_body = MLP(\n",
        "    input_size=6,\n",
        "    hidden_sizes=[64, 64],\n",
        "    output_size=64,\n",
        "    hidden_act=nn.Tanh,\n",
        "    output_act=nn.Tanh\n",
        ")\n",
        "act_size = env.action_space.n\n",
        "no_ml_student = CategoricalPolicy(\n",
        "    no_ml_student_body,\n",
        "    in_features=64,\n",
        "    action_dim=act_size\n",
        ").to(cfg.alg.device)\n",
        "\n",
        "# setup\n",
        "optimizer = torch.optim.Adam(no_ml_student.parameters(), lr=0.0005)\n",
        "max_epochs = 50\n",
        "dataloader = torch.utils.data.DataLoader(no_ml_dset, batch_size=256, shuffle=True)\n",
        "criterion = torch.nn.MSELoss()\n",
        "\n",
        "# train loop\n",
        "pbar = tqdm(range(max_epochs), desc='Epoch')\n",
        "losses = []\n",
        "for iter in pbar:\n",
        "    avg_loss = []\n",
        "    for batch_idx, sample in enumerate(dataloader):\n",
        "        states = sample['state'].float().to(cfg.alg.device)\n",
        "        expert_logits = sample['dist_params'].float().to(cfg.alg.device)\n",
        "        ### TODO: optimize the student with respect to the data (10 pts)\n",
        "        student_dist, _ = no_ml_student(states)\n",
        "        student_logits = student_dist.logits\n",
        "        loss = criterion(student_logits,expert_logits)\n",
        "        optimizer.zero_grad()\n",
        "        loss.backward()\n",
        "        optimizer.step()\n",
        "        ####\n",
        "        \n",
        "        pbar.set_postfix({'loss': loss.item()})\n",
        "        losses.append(loss.item())\n",
        "\n",
        "plt.plot(losses)\n"
      ],
      "metadata": {
        "id": "pjl2Kk-Eq_hR",
        "outputId": "784f2b09-9634-4e39-d6af-c70edfcac44e",
        "colab": {
          "base_uri": "https://localhost:8080/",
          "height": 300
        }
      },
      "execution_count": 14,
      "outputs": [
        {
          "output_type": "stream",
          "name": "stderr",
          "text": [
            "Epoch: 100%|██████████| 50/50 [00:35<00:00,  1.39it/s, loss=0.00433]\n"
          ]
        },
        {
          "output_type": "execute_result",
          "data": {
            "text/plain": [
              "[<matplotlib.lines.Line2D at 0x7f81aa59b890>]"
            ]
          },
          "metadata": {},
          "execution_count": 14
        },
        {
          "output_type": "display_data",
          "data": {
            "text/plain": [
              "<Figure size 432x288 with 1 Axes>"
            ],
            "image/png": "[encoded data removed]"
          },
          "metadata": {
            "needs_background": "light"
          }
        }
      ]
    },
    {
      "cell_type": "code",
      "source": [
        "no_ml_student.eval()\n",
        "\n",
        "### TODO: Evaluate the student on `Acrobot-v1`. Be sure to run at least 10 trials.\n",
        "### Report mean and standard deviation. (10 pts)\n",
        "\n",
        "### TODO: Evaluate the student on `AcrobotTargetEnv-v0`. Be sure to run at least 10 trials.\n",
        "### Report mean and standard deviation. (10 pts)\n",
        "\n",
        "env = wrap_env(gym.make('AcrobotTargetEnv-v0'))\n",
        "\n",
        "num_steps_no_ml_student_target = []\n",
        "for i in range(50):\n",
        "    observation = env.reset()\n",
        "    step = 0\n",
        "    for i in range(1024):    \n",
        "        action = no_ml_student(torch.tensor(observation).float())[0].sample()\n",
        "        observation, reward, done, info = env.step(action.tolist())    \n",
        "        if done:\n",
        "            step = i\n",
        "            break\n",
        "    num_steps_no_ml_student_target.append(step)\n",
        "    env.close()\n",
        "\n",
        "env = wrap_env(gym.make('Acrobot-v1'))\n",
        "\n",
        "num_steps_no_ml_student_sim = []\n",
        "for i in range(50):\n",
        "    observation = env.reset()\n",
        "    step = 0\n",
        "    for i in range(1024):    \n",
        "        action = no_ml_student(torch.tensor(observation).float())[0].sample()\n",
        "        observation, reward, done, info = env.step(action.tolist())    \n",
        "        if done:\n",
        "            step = i\n",
        "            break\n",
        "    num_steps_no_ml_student_sim.append(step)\n",
        "    env.close()"
      ],
      "metadata": {
        "id": "UaiDj4hErCKd"
      },
      "execution_count": 26,
      "outputs": []
    },
    {
      "cell_type": "code",
      "source": [
        "student_no_ml_mean_target, student_no_ml_std_target = np.mean(num_steps_no_ml_student_target), np.std(num_steps_no_ml_student_target)\n",
        "print(\"Average number of steps (Student no ml, AcrobotTargetEnv-v0): \",student_no_ml_mean_target) \n",
        "print(\"Standard Deviation of number of steps (Student no ml, AcrobotTargetEnv-v0): \",student_no_ml_std_target)\n",
        "\n",
        "student_no_ml_mean_sim, student_no_ml_std_sim = np.mean(num_steps_no_ml_student_sim), np.std(num_steps_no_ml_student_sim)\n",
        "print(\"Average number of steps (Student no ml, 'Acrobot-v1'): \",student_no_ml_mean_sim) \n",
        "print(\"Standard Deviation of number of steps (Student no ml, 'Acrobot-v1'): \",student_no_ml_std_sim)"
      ],
      "metadata": {
        "id": "KJRuNJ1TOtNY",
        "outputId": "f611bd89-e519-45f1-81f1-1622dd152494",
        "colab": {
          "base_uri": "https://localhost:8080/"
        }
      },
      "execution_count": 32,
      "outputs": [
        {
          "output_type": "stream",
          "name": "stdout",
          "text": [
            "Average number of steps (Student no ml, AcrobotTargetEnv-v0):  246.76\n",
            "Standard Deviation of number of steps (Student no ml, AcrobotTargetEnv-v0):  74.63499447310224\n",
            "Average number of steps (Student no ml, 'Acrobot-v1'):  83.38\n",
            "Standard Deviation of number of steps (Student no ml, 'Acrobot-v1'):  20.758506690029513\n"
          ]
        }
      ]
    },
    {
      "cell_type": "code",
      "source": [
        "teacher_ml_evnv = wrap_env(gym.make('TeacherMassLengthAcrobot-v0'))\n",
        "m, s = eval_agent(teacher_ml_agent, teacher_ml_evnv)"
      ],
      "metadata": {
        "id": "yA4W8JzkTcji",
        "outputId": "3f990793-2989-4fa1-ea03-b5143fa80479",
        "colab": {
          "base_uri": "https://localhost:8080/"
        }
      },
      "execution_count": 31,
      "outputs": [
        {
          "output_type": "stream",
          "name": "stdout",
          "text": [
            "Mean number of steps:  83.8\n",
            "Standard deviation of number of steps:  32.72246934447338\n"
          ]
        }
      ]
    },
    {
      "cell_type": "markdown",
      "source": [
        "**Questions:** How does the teacher perform in our parameter randomization environment, `TeacherMassLengthAcrobot-v0`? How does this compare to our baseline PPO agent trained on `Acrobot-v1`? How does the student perform in the `Acrobot-v1` which is just a fixed version of the teacher environment without parameter randomization? How does the student perform when transferred to reality on `AcrobotTargetEnv-v0` in comparison to our other methods?\n",
        "\n",
        "**Answers:** \n",
        "* The teacher performs well in the `TeacherMassLengthAcrobot-v0` environment, with its performance considerably exceeding that of the baseline PPO agent.\n",
        "* The student performs almost as well as the teacher on the `Acrobot-v1` environment.\n",
        "* When we transfer to reality, the student performs worse than a lot of our other methods. It does perform better than knowledge distillation without DR, though."
      ],
      "metadata": {
        "id": "6YWI7AXorERU"
      }
    },
    {
      "cell_type": "markdown",
      "metadata": {
        "id": "67SxHujFbDFA"
      },
      "source": [
        "# Results Comparison\n",
        "\n",
        "Make a single plot comparing the results of transferring an agent using our three methods to reality: the naive simulation (`Acrobot-v1`), system identification (`AcrobotSystemIDSolvedEnv`), and domain randomization (`AcrobotDREnv-v0` and `AcrobotDRCompareEnv-v0`). We won't include our knowledge distillation method as the student uses a different state space which makes it a different comparison.\n",
        "\n",
        "As always, be sure to communicate both the mean and variance of your results. Be creative in how you present these results; what is the best way of illustrating the relative strengths and weaknesses of these methods, and making the plot clearly communicate the experiments that were run?\n",
        "\n",
        "(30 pts)"
      ]
    },
    {
      "cell_type": "code",
      "execution_count": 111,
      "metadata": {
        "id": "QqdzcGzcbhS7"
      },
      "outputs": [],
      "source": [
        "### todo: make pretty plots.\n",
        "df = pd.DataFrame({\n",
        "    'Environment' : ['Training','Target']*4,\n",
        "    'Agent' : ['Naive']*2 + ['SysID']*2 + ['DR']*2 + ['DR_Compare']*2,\n",
        "    'mean_steps': [naive_mean_sim, naive_mean_target,sysid_mean_sim, sysid_mean_target,\n",
        "                   dr_mean_sim, dr_mean_target, dr_compare_mean_sim, dr_compare_mean_target],\n",
        "    'std_steps': [naive_std_sim, naive_std_target,sysid_std_sim,sysid_std_target,\n",
        "                  dr_std_sim, dr_std_target, dr_compare_std_sim, dr_compare_std_target]\n",
        "})"
      ]
    },
    {
      "cell_type": "code",
      "source": [
        "ax = sns.barplot(x=\"Agent\", y=\"mean_steps\", hue=\"Environment\", data=df, ci = \"std_steps\")\n",
        "conc2=[0,0,1,1,2,2,3,3]\n",
        "width = .2\n",
        "add = [-1*width , width]*4\n",
        "x = np.array(conc2)+np.array(add)\n",
        "\n",
        "plt.errorbar(x = x, y = df['mean_steps'],\n",
        "            yerr=df['std_steps'], fmt='none', c= 'black', capsize = 4)\n",
        "plt.show()\n"
      ],
      "metadata": {
        "colab": {
          "base_uri": "https://localhost:8080/",
          "height": 280
        },
        "id": "QF-dfdSEh_MJ",
        "outputId": "ee9093c0-79a3-439a-a973-307fe3633421"
      },
      "execution_count": 112,
      "outputs": [
        {
          "output_type": "display_data",
          "data": {
            "text/plain": [
              "<Figure size 432x288 with 1 Axes>"
            ],
            "image/png": "[encoded data removed]"
          },
          "metadata": {
            "needs_background": "light"
          }
        }
      ]
    },
    {
      "cell_type": "markdown",
      "metadata": {
        "id": "QLcgjC1HcNFe"
      },
      "source": [
        "# Survey (bonus points, 10 pts)\n",
        "Please fill out [this anonymous survey](https://docs.google.com/forms/d/e/1FAIpQLSeG6LstBLYq61NeFfhXja6Lu9-roPpEiIFP8gkJ-5fNygwrKw/viewform?usp=sf_link) and enter the code below to receive credit. Thanks!\n",
        "\n",
        "**Bonus code:** copy_sim_paste_reality"
      ]
    },
    {
      "cell_type": "markdown",
      "source": [
        "# Submission\n",
        "Generate an HTML for submission by running the cell below, ensuring that your plots/code/figures show up nicely and modifying the notebook path as needed to match your Google Drive set up. Alternatively you can run the `jupyer nbconvert` commands on your local machine after downloading this notebook as an `ipynb`."
      ],
      "metadata": {
        "id": "yGpo3i1r6rBr"
      }
    },
    {
      "cell_type": "code",
      "source": [
        "from google.colab import drive\n",
        "\n",
        "drive.mount('/content/drive/')\n",
        "!jupyter nbconvert --to html '/content/drive/My Drive/path_to_notebook.ipynb'"
      ],
      "metadata": {
        "id": "E-eI8oQG68mf",
        "outputId": "9ffcb69f-1005-4424-aaee-51398e29df09",
        "colab": {
          "base_uri": "https://localhost:8080/"
        }
      },
      "execution_count": 113,
      "outputs": [
        {
          "output_type": "stream",
          "name": "stdout",
          "text": [
            "Mounted at /content/drive/\n",
            "[NbConvertApp] WARNING | pattern '/content/drive/My Drive/path_to_notebook.ipynb' matched no files\n",
            "This application is used to convert notebook files (*.ipynb)\n",
            "        to various other formats.\n",
            "\n",
            "        WARNING: THE COMMANDLINE INTERFACE MAY CHANGE IN FUTURE RELEASES.\n",
            "\n",
            "Options\n",
            "=======\n",
            "The options below are convenience aliases to configurable class-options,\n",
            "as listed in the \"Equivalent to\" description-line of the aliases.\n",
            "To see all configurable class-options for some <cmd>, use:\n",
            "    <cmd> --help-all\n",
            "\n",
            "--debug\n",
            "    set log level to logging.DEBUG (maximize logging output)\n",
            "    Equivalent to: [--Application.log_level=10]\n",
            "--show-config\n",
            "    Show the application's configuration (human-readable format)\n",
            "    Equivalent to: [--Application.show_config=True]\n",
            "--show-config-json\n",
            "    Show the application's configuration (json format)\n",
            "    Equivalent to: [--Application.show_config_json=True]\n",
            "--generate-config\n",
            "    generate default config file\n",
            "    Equivalent to: [--JupyterApp.generate_config=True]\n",
            "-y\n",
            "    Answer yes to any questions instead of prompting.\n",
            "    Equivalent to: [--JupyterApp.answer_yes=True]\n",
            "--execute\n",
            "    Execute the notebook prior to export.\n",
            "    Equivalent to: [--ExecutePreprocessor.enabled=True]\n",
            "--allow-errors\n",
            "    Continue notebook execution even if one of the cells throws an error and include the error message in the cell output (the default behaviour is to abort conversion). This flag is only relevant if '--execute' was specified, too.\n",
            "    Equivalent to: [--ExecutePreprocessor.allow_errors=True]\n",
            "--stdin\n",
            "    read a single notebook file from stdin. Write the resulting notebook with default basename 'notebook.*'\n",
            "    Equivalent to: [--NbConvertApp.from_stdin=True]\n",
            "--stdout\n",
            "    Write notebook output to stdout instead of files.\n",
            "    Equivalent to: [--NbConvertApp.writer_class=StdoutWriter]\n",
            "--inplace\n",
            "    Run nbconvert in place, overwriting the existing notebook (only \n",
            "            relevant when converting to notebook format)\n",
            "    Equivalent to: [--NbConvertApp.use_output_suffix=False --NbConvertApp.export_format=notebook --FilesWriter.build_directory=]\n",
            "--clear-output\n",
            "    Clear output of current file and save in place, \n",
            "            overwriting the existing notebook.\n",
            "    Equivalent to: [--NbConvertApp.use_output_suffix=False --NbConvertApp.export_format=notebook --FilesWriter.build_directory= --ClearOutputPreprocessor.enabled=True]\n",
            "--no-prompt\n",
            "    Exclude input and output prompts from converted document.\n",
            "    Equivalent to: [--TemplateExporter.exclude_input_prompt=True --TemplateExporter.exclude_output_prompt=True]\n",
            "--no-input\n",
            "    Exclude input cells and output prompts from converted document. \n",
            "            This mode is ideal for generating code-free reports.\n",
            "    Equivalent to: [--TemplateExporter.exclude_output_prompt=True --TemplateExporter.exclude_input=True]\n",
            "--log-level=<Enum>\n",
            "    Set the log level by value or name.\n",
            "    Choices: any of [0, 10, 20, 30, 40, 50, 'DEBUG', 'INFO', 'WARN', 'ERROR', 'CRITICAL']\n",
            "    Default: 30\n",
            "    Equivalent to: [--Application.log_level]\n",
            "--config=<Unicode>\n",
            "    Full path of a config file.\n",
            "    Default: ''\n",
            "    Equivalent to: [--JupyterApp.config_file]\n",
            "--to=<Unicode>\n",
            "    The export format to be used, either one of the built-in formats\n",
            "            ['asciidoc', 'custom', 'html', 'latex', 'markdown', 'notebook', 'pdf', 'python', 'rst', 'script', 'slides']\n",
            "            or a dotted object name that represents the import path for an\n",
            "            `Exporter` class\n",
            "    Default: 'html'\n",
            "    Equivalent to: [--NbConvertApp.export_format]\n",
            "--template=<Unicode>\n",
            "    Name of the template file to use\n",
            "    Default: ''\n",
            "    Equivalent to: [--TemplateExporter.template_file]\n",
            "--writer=<DottedObjectName>\n",
            "    Writer class used to write the \n",
            "                                        results of the conversion\n",
            "    Default: 'FilesWriter'\n",
            "    Equivalent to: [--NbConvertApp.writer_class]\n",
            "--post=<DottedOrNone>\n",
            "    PostProcessor class used to write the\n",
            "                                        results of the conversion\n",
            "    Default: ''\n",
            "    Equivalent to: [--NbConvertApp.postprocessor_class]\n",
            "--output=<Unicode>\n",
            "    overwrite base name use for output files.\n",
            "                can only be used when converting one notebook at a time.\n",
            "    Default: ''\n",
            "    Equivalent to: [--NbConvertApp.output_base]\n",
            "--output-dir=<Unicode>\n",
            "    Directory to write output(s) to. Defaults\n",
            "                                  to output to the directory of each notebook. To recover\n",
            "                                  previous default behaviour (outputting to the current \n",
            "                                  working directory) use . as the flag value.\n",
            "    Default: ''\n",
            "    Equivalent to: [--FilesWriter.build_directory]\n",
            "--reveal-prefix=<Unicode>\n",
            "    The URL prefix for reveal.js (version 3.x).\n",
            "            This defaults to the reveal CDN, but can be any url pointing to a copy \n",
            "            of reveal.js. \n",
            "            For speaker notes to work, this must be a relative path to a local \n",
            "            copy of reveal.js: e.g., \"reveal.js\".\n",
            "            If a relative path is given, it must be a subdirectory of the\n",
            "            current directory (from which the server is run).\n",
            "            See the usage documentation\n",
            "            (https://nbconvert.readthedocs.io/en/latest/usage.html#reveal-js-html-slideshow)\n",
            "            for more details.\n",
            "    Default: ''\n",
            "    Equivalent to: [--SlidesExporter.reveal_url_prefix]\n",
            "--nbformat=<Enum>\n",
            "    The nbformat version to write.\n",
            "            Use this to downgrade notebooks.\n",
            "    Choices: any of [1, 2, 3, 4]\n",
            "    Default: 4\n",
            "    Equivalent to: [--NotebookExporter.nbformat_version]\n",
            "\n",
            "Examples\n",
            "--------\n",
            "\n",
            "    The simplest way to use nbconvert is\n",
            "\n",
            "            > jupyter nbconvert mynotebook.ipynb\n",
            "\n",
            "            which will convert mynotebook.ipynb to the default format (probably HTML).\n",
            "\n",
            "            You can specify the export format with `--to`.\n",
            "            Options include ['asciidoc', 'custom', 'html', 'latex', 'markdown', 'notebook', 'pdf', 'python', 'rst', 'script', 'slides'].\n",
            "\n",
            "            > jupyter nbconvert --to latex mynotebook.ipynb\n",
            "\n",
            "            Both HTML and LaTeX support multiple output templates. LaTeX includes\n",
            "            'base', 'article' and 'report'.  HTML includes 'basic' and 'full'. You\n",
            "            can specify the flavor of the format used.\n",
            "\n",
            "            > jupyter nbconvert --to html --template basic mynotebook.ipynb\n",
            "\n",
            "            You can also pipe the output to stdout, rather than a file\n",
            "\n",
            "            > jupyter nbconvert mynotebook.ipynb --stdout\n",
            "\n",
            "            PDF is generated via latex\n",
            "\n",
            "            > jupyter nbconvert mynotebook.ipynb --to pdf\n",
            "\n",
            "            You can get (and serve) a Reveal.js-powered slideshow\n",
            "\n",
            "            > jupyter nbconvert myslides.ipynb --to slides --post serve\n",
            "\n",
            "            Multiple notebooks can be given at the command line in a couple of \n",
            "            different ways:\n",
            "\n",
            "            > jupyter nbconvert notebook*.ipynb\n",
            "            > jupyter nbconvert notebook1.ipynb notebook2.ipynb\n",
            "\n",
            "            or you can specify the notebooks list in a config file, containing::\n",
            "\n",
            "                c.NbConvertApp.notebooks = [\"my_notebook.ipynb\"]\n",
            "\n",
            "            > jupyter nbconvert --config mycfg.py\n",
            "\n",
            "To see all available configurables, use `--help-all`.\n",
            "\n"
          ]
        }
      ]
    },
    {
      "cell_type": "code",
      "source": [
        ""
      ],
      "metadata": {
        "id": "i8EQK2OVyJxo"
      },
      "execution_count": null,
      "outputs": []
    }
  ],
  "metadata": {
    "colab": {
      "collapsed_sections": [],
      "name": "sim2real.ipynb",
      "provenance": [],
      "machine_shape": "hm",
      "include_colab_link": true
    },
    "kernelspec": {
      "display_name": "Python 3 (ipykernel)",
      "language": "python",
      "name": "python3"
    },
    "language_info": {
      "codemirror_mode": {
        "name": "ipython",
        "version": 3
      },
      "file_extension": ".py",
      "mimetype": "text/x-python",
      "name": "python",
      "nbconvert_exporter": "python",
      "pygments_lexer": "ipython3",
      "version": "3.8.6"
    }
  },
  "nbformat": 4,
  "nbformat_minor": 0
}