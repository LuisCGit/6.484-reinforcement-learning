{
  "cells": [
    {
      "cell_type": "markdown",
      "metadata": {
        "id": "view-in-github",
        "colab_type": "text"
      },
      "source": [
        "<a href=\"https://colab.research.google.com/github/LuisCGit/6.484-reinforcement-learning/blob/main/sim2real.ipynb\" target=\"_parent\"><img src=\"https://colab.research.google.com/assets/colab-badge.svg\" alt=\"Open In Colab\"/></a>"
      ]
    },
    {
      "cell_type": "markdown",
      "metadata": {
        "id": "rhR66MOXFg_P"
      },
      "source": [
        "# Spring 2022 6.484 Computational Sensorimotor Learning Assignment 5\n",
        "\n",
        "In this assignment, we will tackle the sim2real gap in deep reinforcement learning. Since we don't have access to a real-world system, we will mimic sim-to-real transfer via sim-to-sim transfer (where one simulator is a replacement for the physical world).\n",
        "\n",
        "There are 290 total points on this problem set.\n",
        "\n",
        "**_Please fill in your name below:_**\n",
        "\n",
        "**Name**: Luis Costa Laveron"
      ]
    },
    {
      "cell_type": "markdown",
      "metadata": {
        "id": "2AZMNnT3GPJ5"
      },
      "source": [
        "## Setup\n",
        "\n",
        "The following code sets up requirements, imports, and helper functions (you can ignore this)."
      ]
    },
    {
      "cell_type": "code",
      "execution_count": 2,
      "metadata": {
        "id": "ptnCdKRYxo02"
      },
      "outputs": [],
      "source": [
        "!apt-get install -y xvfb python-opengl ffmpeg > /dev/null 2>&1\n",
        "!pip install gym pyvirtualdisplay > /dev/null 2>&1\n",
        "!pip install git+https://github.com/taochenshh/easyrl.git@sac > /dev/null 2>&1"
      ]
    },
    {
      "cell_type": "code",
      "execution_count": 3,
      "metadata": {
        "id": "AZA8OkuBx5KN"
      },
      "outputs": [],
      "source": [
        "%matplotlib inline\n",
        "\n",
        "import gym\n",
        "from gym import spaces\n",
        "from gym import logger as gymlogger\n",
        "from gym.wrappers import Monitor\n",
        "gymlogger.set_level(40) #error only\n",
        "import torch\n",
        "from tqdm import tqdm\n",
        "import numpy as np\n",
        "import random\n",
        "import matplotlib\n",
        "import matplotlib.pyplot as plt\n",
        "from torch import nn\n",
        "from pathlib import Path\n",
        "import math\n",
        "import glob\n",
        "import io\n",
        "import base64\n",
        "from IPython.display import HTML\n",
        "from tensorboard.backend.event_processing.event_accumulator import EventAccumulator\n",
        "from easyrl.agents.ppo_agent import PPOAgent\n",
        "from easyrl.configs import cfg\n",
        "from easyrl.configs import set_config\n",
        "from easyrl.configs.command_line import cfg_from_cmd\n",
        "from easyrl.engine.ppo_engine import PPOEngine\n",
        "from easyrl.models.categorical_policy import CategoricalPolicy\n",
        "from easyrl.models.diag_gaussian_policy import DiagGaussianPolicy\n",
        "from easyrl.models.mlp import MLP\n",
        "from easyrl.models.value_net import ValueNet\n",
        "from easyrl.runner.nstep_runner import EpisodicRunner\n",
        "from easyrl.utils.common import set_random_seed\n",
        "from easyrl.utils.gym_util import make_vec_env\n",
        "from easyrl.utils.common import load_from_json\n",
        "from gym.envs.classic_control.acrobot import AcrobotEnv\n",
        "from gym.envs.registration import registry, register\n",
        "from IPython import display as ipythondisplay\n",
        "import torch.nn.functional as F"
      ]
    },
    {
      "cell_type": "code",
      "execution_count": 4,
      "metadata": {
        "id": "X5pWMC9hx6VF",
        "outputId": "c49c67a7-5365-48e9-a3c8-bcf64b726d7e",
        "colab": {
          "base_uri": "https://localhost:8080/"
        }
      },
      "outputs": [
        {
          "output_type": "execute_result",
          "data": {
            "text/plain": [
              "<pyvirtualdisplay.display.Display at 0x7f98351e3d90>"
            ]
          },
          "metadata": {},
          "execution_count": 4
        }
      ],
      "source": [
        "if 'setup_display' in locals():\n",
        "    raise RuntimeError(\"Don't run this cell twice!\")\n",
        "\n",
        "setup_display = True\n",
        "from pyvirtualdisplay import Display\n",
        "display = Display(visible=False, size=(1400, 900))\n",
        "display.start()"
      ]
    },
    {
      "cell_type": "code",
      "execution_count": 5,
      "metadata": {
        "id": "QWq4UpXWx7Vb"
      },
      "outputs": [],
      "source": [
        "\"\"\"\n",
        "Utility functions to enable video recording of gym environment and displaying it\n",
        "To enable video, just do \"env = wrap_env(env)\"\"\n",
        "stolen from https://colab.research.google.com/drive/1flu31ulJlgiRL1dnN2ir8wGh9p7Zij2t#scrollTo=8nj5sjsk15IT\n",
        "\"\"\"\n",
        "\n",
        "def show_video():\n",
        "    mp4list = glob.glob('video/*.mp4')\n",
        "    if len(mp4list) > 0:\n",
        "        mp4 = mp4list[0]\n",
        "        video = io.open(mp4, 'r+b').read()\n",
        "        encoded = base64.b64encode(video)\n",
        "        ipythondisplay.display(HTML(data='''<video alt=\"test\" autoplay \n",
        "                    loop controls style=\"height: 400px;\">\n",
        "                    <source src=\"data:video/mp4;base64,{0}\" type=\"video/mp4\" />\n",
        "                </video>'''.format(encoded.decode('ascii'))))\n",
        "    else: \n",
        "        print(\"Could not find video\")\n",
        "    \n",
        "\n",
        "def wrap_env(env):\n",
        "    env = Monitor(env, './video', force=True)\n",
        "    return env\n",
        "\n",
        "def read_tf_log(log_dir, scalar='train/episode_return/mean'):\n",
        "    log_dir = Path(log_dir)\n",
        "    log_files = list(log_dir.glob(f'**/events.*'))\n",
        "    if len(log_files) < 1:\n",
        "        return None\n",
        "    log_file = log_files[0]\n",
        "\n",
        "    event_acc = EventAccumulator(log_file.as_posix())\n",
        "    event_acc.Reload()\n",
        "    tags = event_acc.Tags()\n",
        "\n",
        "    scalar_return = event_acc.Scalars(scalar)\n",
        "    returns = [x.value for x in scalar_return]\n",
        "    steps = [x.step for x in scalar_return]\n",
        "\n",
        "    return steps, returns\n",
        "\n",
        "class AcrobotTargetEnv(AcrobotEnv):\n",
        "    book_or_nips = \"nips\"\n",
        "\n",
        "\n",
        "env_name = 'AcrobotTargetEnv-v0'\n",
        "if env_name in registry.env_specs:\n",
        "    del registry.env_specs[env_name]\n",
        "register(\n",
        "    id=env_name,\n",
        "    entry_point=f'{__name__}:AcrobotTargetEnv',\n",
        ")"
      ]
    },
    {
      "cell_type": "markdown",
      "metadata": {
        "id": "OlctfcIvGxuX"
      },
      "source": [
        "# Experiment Running\n",
        "\n",
        "We've provided the below code as-is to run your experiments using PPO.  Please do not modify this function."
      ]
    },
    {
      "cell_type": "code",
      "execution_count": 6,
      "metadata": {
        "id": "p2qx-TwFyy5T"
      },
      "outputs": [],
      "source": [
        "# DO NOT MODIFY THIS\n",
        "def train_ppo(env_name='Acrobot-v1', max_steps=100000):    \n",
        "    set_config('ppo')\n",
        "    cfg.alg.num_envs = 1\n",
        "    cfg.alg.episode_steps = 1024\n",
        "    cfg.alg.log_interval = 1\n",
        "    cfg.alg.eval_interval = 20\n",
        "    \n",
        "    cfg.alg.max_steps = max_steps\n",
        "    cfg.alg.device = 'cpu' #'cuda' if torch.cuda.is_available() else \n",
        "    cfg.alg.env_name = env_name\n",
        "    cfg.alg.save_dir = Path.cwd().absolute().joinpath('data').as_posix()\n",
        "    cfg.alg.save_dir += '/' + env_name\n",
        "\n",
        "    setattr(cfg.alg, 'diff_cfg', dict(save_dir=cfg.alg.save_dir))\n",
        "\n",
        "    print(f'====================================')\n",
        "    print(f'      Device:{cfg.alg.device}')\n",
        "    print(f'      Total number of steps:{cfg.alg.max_steps}')\n",
        "    print(f'====================================')\n",
        "\n",
        "    set_random_seed(cfg.alg.seed)\n",
        "\n",
        "    env = make_vec_env(cfg.alg.env_name,\n",
        "                       cfg.alg.num_envs,\n",
        "                       seed=cfg.alg.seed)\n",
        "    env.reset()\n",
        "    ob_size = env.observation_space.shape[0]\n",
        "\n",
        "    actor_body = MLP(input_size=ob_size,\n",
        "                     hidden_sizes=[64, 64],\n",
        "                     output_size=64,\n",
        "                     hidden_act=nn.Tanh,\n",
        "                     output_act=nn.Tanh)\n",
        "\n",
        "    critic_body = MLP(input_size=ob_size,\n",
        "                     hidden_sizes=[64, 64],\n",
        "                     output_size=64,\n",
        "                     hidden_act=nn.Tanh,\n",
        "                     output_act=nn.Tanh)\n",
        "    \n",
        "    if isinstance(env.action_space, gym.spaces.Discrete):\n",
        "        act_size = env.action_space.n\n",
        "        actor = CategoricalPolicy(actor_body,\n",
        "                                 in_features=64,\n",
        "                                 action_dim=act_size)\n",
        "    elif isinstance(env.action_space, gym.spaces.Box):\n",
        "        act_size = env.action_space.shape[0]\n",
        "        actor = DiagGaussianPolicy(actor_body,\n",
        "                                   in_features=64,\n",
        "                                   action_dim=act_size,\n",
        "                                   tanh_on_dist=cfg.alg.tanh_on_dist,\n",
        "                                   std_cond_in=cfg.alg.std_cond_in)\n",
        "    else:\n",
        "        raise TypeError(f'Unknown action space type: {env.action_space}')\n",
        "\n",
        "    critic = ValueNet(critic_body, in_features=64)\n",
        "    agent = PPOAgent(actor=actor, critic=critic, env=env)\n",
        "    runner = EpisodicRunner(agent=agent, env=env)\n",
        "    engine = PPOEngine(agent=agent,\n",
        "                       runner=runner)\n",
        "    engine.train()\n",
        "\n",
        "    return agent, cfg.alg.save_dir\n"
      ]
    },
    {
      "cell_type": "markdown",
      "metadata": {
        "id": "ddqbjTGaHEah"
      },
      "source": [
        "# Acrobot Introduction\n",
        "\n",
        "Ben Bitdiddle just started his graduate program studying the *Acrobot*: a double pendulum commonly used as a benchmark in continuous control.  The goal of the benchmark is to find a policy that can swing the tip of the pendulum above the plane defined by the first joint (see the figure below), while only exerting torques on the second joint.  The sooner you hit the termination plane, the higher the reward.\n",
        "\n",
        "Lab time on the Acrobot is highly contested: Ben can only book 20 minute slots of physical time with the device. Thankfully, OpenAI gym provides a simulation environment for the Acrobot with the exact same physical parameters!\n",
        "\n",
        "Run the below cell to train a PPO policy in this simulation environment, and report whether Ben Bitdiddle should expect to be able to use the same method to train a policy on the real Acrobot.\n",
        "\n",
        "![](https://www.researchgate.net/publication/332779048/figure/fig8/AS:753590863937537@1556681471025/Acrobot-environment.ppm)"
      ]
    },
    {
      "cell_type": "code",
      "execution_count": 20,
      "metadata": {
        "id": "igNYlqTNzSzh",
        "colab": {
          "base_uri": "https://localhost:8080/"
        },
        "outputId": "4c4e80f6-e42e-421b-8d83-dff6bc71f8ca"
      },
      "outputs": [
        {
          "output_type": "stream",
          "name": "stderr",
          "text": [
            "\u001b[32m[INFO]\u001b[0m[2022-03-11 22:31:36]: \u001b[32mAlogrithm type:<class 'easyrl.configs.ppo_config.PPOConfig'>\u001b[0m\n",
            "\u001b[32m[INFO]\u001b[0m[2022-03-11 22:31:36]: \u001b[32mCreating 1 environments.\u001b[0m\n",
            "\u001b[31m[ERROR]\u001b[0m[2022-03-11 22:31:36]: \u001b[31mNot a valid git repo: /usr/local/lib/python3.7/dist-packages\u001b[0m\n"
          ]
        },
        {
          "output_type": "stream",
          "name": "stdout",
          "text": [
            "====================================\n",
            "      Device:cpu\n",
            "      Total number of steps:10000\n",
            "====================================\n"
          ]
        },
        {
          "output_type": "stream",
          "name": "stderr",
          "text": [
            "\u001b[32m[INFO]\u001b[0m[2022-03-11 22:31:37]: \u001b[32mExploration steps: 0\u001b[0m\n",
            "\u001b[32m[INFO]\u001b[0m[2022-03-11 22:31:37]: \u001b[32mSaving checkpoint: /content/data/Acrobot-v1/seed_0/model/ckpt_000000000000.pt.\u001b[0m\n",
            "\u001b[32m[INFO]\u001b[0m[2022-03-11 22:31:37]: \u001b[32mSaving checkpoint: /content/data/Acrobot-v1/seed_0/model/model_best.pt.\u001b[0m\n",
            "Exception ignored in: <function Monitor.__del__ at 0x7f9519348440>\n",
            "Traceback (most recent call last):\n",
            "  File \"/usr/local/lib/python3.7/dist-packages/gym/wrappers/monitor.py\", line 226, in __del__\n",
            "    self.close()\n",
            "  File \"/usr/local/lib/python3.7/dist-packages/gym/wrappers/monitor.py\", line 137, in close\n",
            "    self._close_video_recorder()\n",
            "  File \"/usr/local/lib/python3.7/dist-packages/gym/wrappers/monitor.py\", line 209, in _close_video_recorder\n",
            "    self.video_recorder.close()\n",
            "  File \"/usr/local/lib/python3.7/dist-packages/gym/wrappers/monitoring/video_recorder.py\", line 129, in close\n",
            "    os.remove(self.path)\n",
            "FileNotFoundError: [Errno 2] No such file or directory: '/content/video/openaigym.video.0.665.video000000.mp4'\n",
            "Exception ignored in: <function Monitor.__del__ at 0x7f9519348440>\n",
            "Traceback (most recent call last):\n",
            "  File \"/usr/local/lib/python3.7/dist-packages/gym/wrappers/monitor.py\", line 226, in __del__\n",
            "    self.close()\n",
            "  File \"/usr/local/lib/python3.7/dist-packages/gym/wrappers/monitor.py\", line 137, in close\n",
            "    self._close_video_recorder()\n",
            "  File \"/usr/local/lib/python3.7/dist-packages/gym/wrappers/monitor.py\", line 209, in _close_video_recorder\n",
            "    self.video_recorder.close()\n",
            "  File \"/usr/local/lib/python3.7/dist-packages/gym/wrappers/monitoring/video_recorder.py\", line 129, in close\n",
            "    os.remove(self.path)\n",
            "FileNotFoundError: [Errno 2] No such file or directory: '/content/video/openaigym.video.3.665.video000000.mp4'\n"
          ]
        }
      ],
      "source": [
        "agent, save_dir = train_ppo(env_name=\"Acrobot-v1\",max_steps=10000)"
      ]
    },
    {
      "cell_type": "code",
      "execution_count": 7,
      "metadata": {
        "id": "Ry8pk56D62H2",
        "colab": {
          "base_uri": "https://localhost:8080/",
          "height": 283
        },
        "outputId": "ea7f0187-a7f8-48d0-8e86-5153159d0818"
      },
      "outputs": [
        {
          "output_type": "execute_result",
          "data": {
            "text/plain": [
              "[<matplotlib.lines.Line2D at 0x7fe83a0eb6d0>]"
            ]
          },
          "metadata": {},
          "execution_count": 7
        },
        {
          "output_type": "display_data",
          "data": {
            "text/plain": [
              "<Figure size 432x288 with 1 Axes>"
            ],
            "image/png": "[encoded data removed]"
          },
          "metadata": {
            "needs_background": "light"
          }
        }
      ],
      "source": [
        "steps, returns = read_tf_log(save_dir)\n",
        "plt.plot(steps, returns)"
      ]
    },
    {
      "cell_type": "code",
      "execution_count": 19,
      "metadata": {
        "id": "Q-wup9HqLTcI",
        "colab": {
          "base_uri": "https://localhost:8080/",
          "height": 389
        },
        "outputId": "18f88d83-12f6-437b-903b-56a23935ed18"
      },
      "outputs": [
        {
          "output_type": "error",
          "ename": "NameError",
          "evalue": "ignored",
          "traceback": [
            "\u001b[0;31m---------------------------------------------------------------------------\u001b[0m",
            "\u001b[0;31mNameError\u001b[0m                                 Traceback (most recent call last)",
            "\u001b[0;32m<ipython-input-19-26ef9edf402e>\u001b[0m in \u001b[0;36m<module>\u001b[0;34m\u001b[0m\n\u001b[1;32m      6\u001b[0m \u001b[0mnum_steps\u001b[0m \u001b[0;34m=\u001b[0m \u001b[0;34m[\u001b[0m\u001b[0;34m]\u001b[0m\u001b[0;34m\u001b[0m\u001b[0;34m\u001b[0m\u001b[0m\n\u001b[1;32m      7\u001b[0m \u001b[0;32mfor\u001b[0m \u001b[0m_\u001b[0m \u001b[0;32min\u001b[0m \u001b[0mrange\u001b[0m\u001b[0;34m(\u001b[0m\u001b[0;36m10\u001b[0m\u001b[0;34m)\u001b[0m\u001b[0;34m:\u001b[0m\u001b[0;34m\u001b[0m\u001b[0;34m\u001b[0m\u001b[0m\n\u001b[0;32m----> 8\u001b[0;31m     \u001b[0mobservation\u001b[0m \u001b[0;34m=\u001b[0m \u001b[0menv\u001b[0m\u001b[0;34m.\u001b[0m\u001b[0mreset\u001b[0m\u001b[0;34m(\u001b[0m\u001b[0;34m)\u001b[0m\u001b[0;34m\u001b[0m\u001b[0;34m\u001b[0m\u001b[0m\n\u001b[0m\u001b[1;32m      9\u001b[0m     \u001b[0mstep\u001b[0m \u001b[0;34m=\u001b[0m \u001b[0;36m0\u001b[0m\u001b[0;34m\u001b[0m\u001b[0;34m\u001b[0m\u001b[0m\n\u001b[1;32m     10\u001b[0m     \u001b[0;32mfor\u001b[0m \u001b[0mi\u001b[0m \u001b[0;32min\u001b[0m \u001b[0mrange\u001b[0m\u001b[0;34m(\u001b[0m\u001b[0;36m1024\u001b[0m\u001b[0;34m)\u001b[0m\u001b[0;34m:\u001b[0m\u001b[0;34m\u001b[0m\u001b[0;34m\u001b[0m\u001b[0m\n",
            "\u001b[0;32m/usr/local/lib/python3.7/dist-packages/gym/wrappers/monitor.py\u001b[0m in \u001b[0;36mreset\u001b[0;34m(self, **kwargs)\u001b[0m\n\u001b[1;32m     37\u001b[0m         \u001b[0mself\u001b[0m\u001b[0;34m.\u001b[0m\u001b[0m_before_reset\u001b[0m\u001b[0;34m(\u001b[0m\u001b[0;34m)\u001b[0m\u001b[0;34m\u001b[0m\u001b[0;34m\u001b[0m\u001b[0m\n\u001b[1;32m     38\u001b[0m         \u001b[0mobservation\u001b[0m \u001b[0;34m=\u001b[0m \u001b[0mself\u001b[0m\u001b[0;34m.\u001b[0m\u001b[0menv\u001b[0m\u001b[0;34m.\u001b[0m\u001b[0mreset\u001b[0m\u001b[0;34m(\u001b[0m\u001b[0;34m**\u001b[0m\u001b[0mkwargs\u001b[0m\u001b[0;34m)\u001b[0m\u001b[0;34m\u001b[0m\u001b[0;34m\u001b[0m\u001b[0m\n\u001b[0;32m---> 39\u001b[0;31m         \u001b[0mself\u001b[0m\u001b[0;34m.\u001b[0m\u001b[0m_after_reset\u001b[0m\u001b[0;34m(\u001b[0m\u001b[0mobservation\u001b[0m\u001b[0;34m)\u001b[0m\u001b[0;34m\u001b[0m\u001b[0;34m\u001b[0m\u001b[0m\n\u001b[0m\u001b[1;32m     40\u001b[0m \u001b[0;34m\u001b[0m\u001b[0m\n\u001b[1;32m     41\u001b[0m         \u001b[0;32mreturn\u001b[0m \u001b[0mobservation\u001b[0m\u001b[0;34m\u001b[0m\u001b[0;34m\u001b[0m\u001b[0m\n",
            "\u001b[0;32m/usr/local/lib/python3.7/dist-packages/gym/wrappers/monitor.py\u001b[0m in \u001b[0;36m_after_reset\u001b[0;34m(self, observation)\u001b[0m\n\u001b[1;32m    183\u001b[0m         \u001b[0mself\u001b[0m\u001b[0;34m.\u001b[0m\u001b[0mstats_recorder\u001b[0m\u001b[0;34m.\u001b[0m\u001b[0mafter_reset\u001b[0m\u001b[0;34m(\u001b[0m\u001b[0mobservation\u001b[0m\u001b[0;34m)\u001b[0m\u001b[0;34m\u001b[0m\u001b[0;34m\u001b[0m\u001b[0m\n\u001b[1;32m    184\u001b[0m \u001b[0;34m\u001b[0m\u001b[0m\n\u001b[0;32m--> 185\u001b[0;31m         \u001b[0mself\u001b[0m\u001b[0;34m.\u001b[0m\u001b[0mreset_video_recorder\u001b[0m\u001b[0;34m(\u001b[0m\u001b[0;34m)\u001b[0m\u001b[0;34m\u001b[0m\u001b[0;34m\u001b[0m\u001b[0m\n\u001b[0m\u001b[1;32m    186\u001b[0m \u001b[0;34m\u001b[0m\u001b[0m\n\u001b[1;32m    187\u001b[0m         \u001b[0;31m# Bump *after* all reset activity has finished\u001b[0m\u001b[0;34m\u001b[0m\u001b[0;34m\u001b[0m\u001b[0;34m\u001b[0m\u001b[0m\n",
            "\u001b[0;32m/usr/local/lib/python3.7/dist-packages/gym/wrappers/monitor.py\u001b[0m in \u001b[0;36mreset_video_recorder\u001b[0;34m(self)\u001b[0m\n\u001b[1;32m    204\u001b[0m             \u001b[0menabled\u001b[0m\u001b[0;34m=\u001b[0m\u001b[0mself\u001b[0m\u001b[0;34m.\u001b[0m\u001b[0m_video_enabled\u001b[0m\u001b[0;34m(\u001b[0m\u001b[0;34m)\u001b[0m\u001b[0;34m,\u001b[0m\u001b[0;34m\u001b[0m\u001b[0;34m\u001b[0m\u001b[0m\n\u001b[1;32m    205\u001b[0m         )\n\u001b[0;32m--> 206\u001b[0;31m         \u001b[0mself\u001b[0m\u001b[0;34m.\u001b[0m\u001b[0mvideo_recorder\u001b[0m\u001b[0;34m.\u001b[0m\u001b[0mcapture_frame\u001b[0m\u001b[0;34m(\u001b[0m\u001b[0;34m)\u001b[0m\u001b[0;34m\u001b[0m\u001b[0;34m\u001b[0m\u001b[0m\n\u001b[0m\u001b[1;32m    207\u001b[0m \u001b[0;34m\u001b[0m\u001b[0m\n\u001b[1;32m    208\u001b[0m     \u001b[0;32mdef\u001b[0m \u001b[0m_close_video_recorder\u001b[0m\u001b[0;34m(\u001b[0m\u001b[0mself\u001b[0m\u001b[0;34m)\u001b[0m\u001b[0;34m:\u001b[0m\u001b[0;34m\u001b[0m\u001b[0;34m\u001b[0m\u001b[0m\n",
            "\u001b[0;32m/usr/local/lib/python3.7/dist-packages/gym/wrappers/monitoring/video_recorder.py\u001b[0m in \u001b[0;36mcapture_frame\u001b[0;34m(self)\u001b[0m\n\u001b[1;32m     99\u001b[0m \u001b[0;34m\u001b[0m\u001b[0m\n\u001b[1;32m    100\u001b[0m         \u001b[0mrender_mode\u001b[0m \u001b[0;34m=\u001b[0m \u001b[0;34m'ansi'\u001b[0m \u001b[0;32mif\u001b[0m \u001b[0mself\u001b[0m\u001b[0;34m.\u001b[0m\u001b[0mansi_mode\u001b[0m \u001b[0;32melse\u001b[0m \u001b[0;34m'rgb_array'\u001b[0m\u001b[0;34m\u001b[0m\u001b[0;34m\u001b[0m\u001b[0m\n\u001b[0;32m--> 101\u001b[0;31m         \u001b[0mframe\u001b[0m \u001b[0;34m=\u001b[0m \u001b[0mself\u001b[0m\u001b[0;34m.\u001b[0m\u001b[0menv\u001b[0m\u001b[0;34m.\u001b[0m\u001b[0mrender\u001b[0m\u001b[0;34m(\u001b[0m\u001b[0mmode\u001b[0m\u001b[0;34m=\u001b[0m\u001b[0mrender_mode\u001b[0m\u001b[0;34m)\u001b[0m\u001b[0;34m\u001b[0m\u001b[0;34m\u001b[0m\u001b[0m\n\u001b[0m\u001b[1;32m    102\u001b[0m \u001b[0;34m\u001b[0m\u001b[0m\n\u001b[1;32m    103\u001b[0m         \u001b[0;32mif\u001b[0m \u001b[0mframe\u001b[0m \u001b[0;32mis\u001b[0m \u001b[0;32mNone\u001b[0m\u001b[0;34m:\u001b[0m\u001b[0;34m\u001b[0m\u001b[0;34m\u001b[0m\u001b[0m\n",
            "\u001b[0;32m/usr/local/lib/python3.7/dist-packages/gym/core.py\u001b[0m in \u001b[0;36mrender\u001b[0;34m(self, mode, **kwargs)\u001b[0m\n\u001b[1;32m    238\u001b[0m \u001b[0;34m\u001b[0m\u001b[0m\n\u001b[1;32m    239\u001b[0m     \u001b[0;32mdef\u001b[0m \u001b[0mrender\u001b[0m\u001b[0;34m(\u001b[0m\u001b[0mself\u001b[0m\u001b[0;34m,\u001b[0m \u001b[0mmode\u001b[0m\u001b[0;34m=\u001b[0m\u001b[0;34m'human'\u001b[0m\u001b[0;34m,\u001b[0m \u001b[0;34m**\u001b[0m\u001b[0mkwargs\u001b[0m\u001b[0;34m)\u001b[0m\u001b[0;34m:\u001b[0m\u001b[0;34m\u001b[0m\u001b[0;34m\u001b[0m\u001b[0m\n\u001b[0;32m--> 240\u001b[0;31m         \u001b[0;32mreturn\u001b[0m \u001b[0mself\u001b[0m\u001b[0;34m.\u001b[0m\u001b[0menv\u001b[0m\u001b[0;34m.\u001b[0m\u001b[0mrender\u001b[0m\u001b[0;34m(\u001b[0m\u001b[0mmode\u001b[0m\u001b[0;34m,\u001b[0m \u001b[0;34m**\u001b[0m\u001b[0mkwargs\u001b[0m\u001b[0;34m)\u001b[0m\u001b[0;34m\u001b[0m\u001b[0;34m\u001b[0m\u001b[0m\n\u001b[0m\u001b[1;32m    241\u001b[0m \u001b[0;34m\u001b[0m\u001b[0m\n\u001b[1;32m    242\u001b[0m     \u001b[0;32mdef\u001b[0m \u001b[0mclose\u001b[0m\u001b[0;34m(\u001b[0m\u001b[0mself\u001b[0m\u001b[0;34m)\u001b[0m\u001b[0;34m:\u001b[0m\u001b[0;34m\u001b[0m\u001b[0;34m\u001b[0m\u001b[0m\n",
            "\u001b[0;32m/usr/local/lib/python3.7/dist-packages/gym/envs/classic_control/acrobot.py\u001b[0m in \u001b[0;36mrender\u001b[0;34m(self, mode)\u001b[0m\n\u001b[1;32m    175\u001b[0m \u001b[0;34m\u001b[0m\u001b[0m\n\u001b[1;32m    176\u001b[0m     \u001b[0;32mdef\u001b[0m \u001b[0mrender\u001b[0m\u001b[0;34m(\u001b[0m\u001b[0mself\u001b[0m\u001b[0;34m,\u001b[0m \u001b[0mmode\u001b[0m\u001b[0;34m=\u001b[0m\u001b[0;34m'human'\u001b[0m\u001b[0;34m)\u001b[0m\u001b[0;34m:\u001b[0m\u001b[0;34m\u001b[0m\u001b[0;34m\u001b[0m\u001b[0m\n\u001b[0;32m--> 177\u001b[0;31m         \u001b[0;32mfrom\u001b[0m \u001b[0mgym\u001b[0m\u001b[0;34m.\u001b[0m\u001b[0menvs\u001b[0m\u001b[0;34m.\u001b[0m\u001b[0mclassic_control\u001b[0m \u001b[0;32mimport\u001b[0m \u001b[0mrendering\u001b[0m\u001b[0;34m\u001b[0m\u001b[0;34m\u001b[0m\u001b[0m\n\u001b[0m\u001b[1;32m    178\u001b[0m \u001b[0;34m\u001b[0m\u001b[0m\n\u001b[1;32m    179\u001b[0m         \u001b[0ms\u001b[0m \u001b[0;34m=\u001b[0m \u001b[0mself\u001b[0m\u001b[0;34m.\u001b[0m\u001b[0mstate\u001b[0m\u001b[0;34m\u001b[0m\u001b[0;34m\u001b[0m\u001b[0m\n",
            "\u001b[0;32m/usr/local/lib/python3.7/dist-packages/gym/envs/classic_control/rendering.py\u001b[0m in \u001b[0;36m<module>\u001b[0;34m\u001b[0m\n\u001b[1;32m     23\u001b[0m \u001b[0;34m\u001b[0m\u001b[0m\n\u001b[1;32m     24\u001b[0m \u001b[0;32mtry\u001b[0m\u001b[0;34m:\u001b[0m\u001b[0;34m\u001b[0m\u001b[0;34m\u001b[0m\u001b[0m\n\u001b[0;32m---> 25\u001b[0;31m     \u001b[0;32mfrom\u001b[0m \u001b[0mpyglet\u001b[0m\u001b[0;34m.\u001b[0m\u001b[0mgl\u001b[0m \u001b[0;32mimport\u001b[0m \u001b[0;34m*\u001b[0m\u001b[0;34m\u001b[0m\u001b[0;34m\u001b[0m\u001b[0m\n\u001b[0m\u001b[1;32m     26\u001b[0m \u001b[0;32mexcept\u001b[0m \u001b[0mImportError\u001b[0m \u001b[0;32mas\u001b[0m \u001b[0me\u001b[0m\u001b[0;34m:\u001b[0m\u001b[0;34m\u001b[0m\u001b[0;34m\u001b[0m\u001b[0m\n\u001b[1;32m     27\u001b[0m     raise ImportError('''\n",
            "\u001b[0;32m/usr/local/lib/python3.7/dist-packages/pyglet/gl/__init__.py\u001b[0m in \u001b[0;36m<module>\u001b[0;34m\u001b[0m\n\u001b[1;32m    233\u001b[0m \u001b[0;32melif\u001b[0m \u001b[0mcompat_platform\u001b[0m \u001b[0;34m==\u001b[0m \u001b[0;34m'darwin'\u001b[0m\u001b[0;34m:\u001b[0m\u001b[0;34m\u001b[0m\u001b[0;34m\u001b[0m\u001b[0m\n\u001b[1;32m    234\u001b[0m     \u001b[0;32mfrom\u001b[0m \u001b[0;34m.\u001b[0m\u001b[0mcocoa\u001b[0m \u001b[0;32mimport\u001b[0m \u001b[0mCocoaConfig\u001b[0m \u001b[0;32mas\u001b[0m \u001b[0mConfig\u001b[0m\u001b[0;34m\u001b[0m\u001b[0;34m\u001b[0m\u001b[0m\n\u001b[0;32m--> 235\u001b[0;31m \u001b[0;32mdel\u001b[0m \u001b[0mbase\u001b[0m  \u001b[0;31m# noqa: F821\u001b[0m\u001b[0;34m\u001b[0m\u001b[0;34m\u001b[0m\u001b[0m\n\u001b[0m\u001b[1;32m    236\u001b[0m \u001b[0;34m\u001b[0m\u001b[0m\n\u001b[1;32m    237\u001b[0m \u001b[0;34m\u001b[0m\u001b[0m\n",
            "\u001b[0;31mNameError\u001b[0m: name 'base' is not defined"
          ]
        }
      ],
      "source": [
        "# Displays a video of the policy.\n",
        "# Feel free to use this as a template for debugging.\n",
        "\n",
        "env = wrap_env(gym.make('Acrobot-v1'))\n",
        "\n",
        "num_steps = []\n",
        "for _ in range(10):\n",
        "    observation = env.reset()\n",
        "    step = 0\n",
        "    for i in range(1024):    \n",
        "        action = agent.get_action(observation)[0].tolist()\n",
        "        observation, reward, done, info = env.step(action)    \n",
        "        if done:\n",
        "            step = i\n",
        "            break\n",
        "    num_steps.append(step)\n",
        "\n",
        "env.close()\n",
        "\n",
        "print('Num steps:', num_steps)\n",
        "show_video()"
      ]
    },
    {
      "cell_type": "markdown",
      "metadata": {
        "id": "JydJYRtqJuun"
      },
      "source": [
        "**Question (10 pts):** Will Ben Bitdittle have enough time to train a policy on the real robot using the same PPO implementation as above? Note that each simulation step is equivalent to 0.2 seconds of time on the real robot.\n",
        "\n",
        "**Answer:** The policy takes ~ 50,000 steps to converge, which would require $50,000\\times0.2 = 10,000$ seconds, which amounts to about 167 minutes. Since Ben can only book 20 minute slots, he will not have enough time. "
      ]
    },
    {
      "cell_type": "markdown",
      "metadata": {
        "id": "wsihixQ1Kb9l"
      },
      "source": [
        "# The Sim2Real Gap\n",
        "\n",
        "Ben is devastated by the above result; how will he train a policy for the Acrobot if it won't converge in his allocated lab time?  \n",
        "\n",
        "One idea is to simply train a policy in simulation, then evaluate that policy on the real robot (which takes far less time than training from scratch).  Let's try this out, using the environment `AcrobotTargetEnv-v0` as a stand-in for the real world."
      ]
    },
    {
      "cell_type": "code",
      "execution_count": 7,
      "metadata": {
        "id": "FPGpKByoyLih"
      },
      "outputs": [],
      "source": [
        "### TODO: evaluate the agent from the simulation environment (\"Acrobot-v1\") in\n",
        "### the real world environment (\"AcrobotTargetEnv-v0\"). Be sure to run at least 10 trials\n",
        "### Report mean and standard deviation. (10 pts)\n",
        "def eval_agent(agent,environment,num_trials=10):\n",
        "  num_steps = []\n",
        "  for _ in range(num_trials):\n",
        "      observation = environment.reset()\n",
        "      step = 0\n",
        "      for i in range(1024):    \n",
        "          action = agent.get_action(observation)[0].tolist()\n",
        "          observation, reward, done, info = environment.step(action)    \n",
        "          if done:\n",
        "              step = i\n",
        "              break\n",
        "      num_steps.append(step)\n",
        "      environment.close()\n",
        "\n",
        "  print(\"Mean number of steps: \", np.mean(num_steps))\n",
        "  print(\"Standard deviation of number of steps: \", np.std(num_steps))\n",
        "  #show_video()\n",
        "\n",
        "target_env = wrap_env(gym.make('AcrobotTargetEnv-v0'))\n",
        "eval_agent(agent,target_env)"
      ]
    },
    {
      "cell_type": "markdown",
      "metadata": {
        "id": "G8V27--aLto7"
      },
      "source": [
        "**Question (10 pts):** How does the policy trained in simulation perform when evaluated on the \"real\" robot?  If there's a difference in performance, postulate why that might be.\n",
        "\n",
        "**Answer**: When evaluated on the real robot, the policy performs worse, with the mean number of steps to completion being more than twice the mean for the `Acrobot-v1` environment. This difference is due to the fact that the policy is optimized for a different environment than the one it was trained on. The actions taken by the agent in the new environment are therefore further from optimal and reaching the goal takes longer as a result."
      ]
    },
    {
      "cell_type": "markdown",
      "metadata": {
        "id": "rqFbqFqcNDlE"
      },
      "source": [
        "# System Identification\n",
        "\n",
        "One reason for the gap Ben observed is a mismatch between physical parameters in the simulation and in the real world.  If you look at the [code for the Acrobot simulation](https://github.com/openai/gym/blob/master/gym/envs/classic_control/acrobot.py), you'll notice a series of parameters on lines 138-149 that define the simulator dynamics.  Perhaps a measurement error was made for one or more of these values, leading to a simulation that does not reflect reality.  One family of solutions for fixing these sorts of issues is *system identification*, which provides us tools for finding the correct values of these parameters from data. \n",
        "\n",
        "In this section, you will use a gradient-free numerical optimizer of choice to improve upon the parameters in the Acrobot simulation, with the goal of most closely matching the real world `AcrobotTargetEnv-v0` environment.\n",
        "\n",
        "Start by generating data of tuples (`env.state`, action, obs) from the real world environment, `AcrobotTargetEnv-v0`, over which to perform your system identification. Later, we'll want the best robot parameters such that when we apply the recorded action when the environment state is the recorded `env.state`, we get as close to the recorded obs as possible.\n",
        "\n",
        "You can generate as much data as you'd like as long as you don't use more than 20 minutes of robot time (e.g., $\\frac{20\\text{ minutes}}{0.2\\text{ seconds/timestep}} =6000\\text{ timesteps}$ )."
      ]
    },
    {
      "cell_type": "code",
      "execution_count": 10,
      "metadata": {
        "id": "chxmu_KBPUsu"
      },
      "outputs": [],
      "source": [
        "q_shape = 4\n",
        "u_shape = 1\n",
        "obs_shape = 6\n",
        "dataset = {\n",
        "    \"env_state\": np.zeros((6000,q_shape)),\n",
        "    \"action\": np.zeros((6000,u_shape)),\n",
        "    \"new_obs\": np.zeros((6000,obs_shape)),\n",
        "}\n",
        "\n",
        "### TODO: generate your data for system ID (10 pts)\n",
        "\n",
        "#use bad agent to get more varied samples of environment\n",
        "#crude_agent, _ = train_ppo(env_name=\"Acrobot-v1\", max_steps=5000)\n",
        "\n",
        "target_env = wrap_env(gym.make('AcrobotTargetEnv-v0'))\n",
        "step = 0 \n",
        "while step < 6000:\n",
        "    observation = target_env.reset()\n",
        "    for i in range(1000):    \n",
        "        dataset['env_state'][step,:] = np.copy(target_env.state)\n",
        "        action = np.random.randint(3)\n",
        "        dataset['action'][step,:] = action\n",
        "        observation, reward, done, info = target_env.step(action)    \n",
        "        dataset['new_obs'][step,:] = observation\n",
        "        step += 1\n",
        "        if (done) or (step == 6000):\n",
        "            break\n",
        "    target_env.close()"
      ]
    },
    {
      "cell_type": "markdown",
      "metadata": {
        "id": "9_nKxSPDWrgE"
      },
      "source": [
        "Now, try to find parameters that yield new observations that best match your dataset.  There are a number of optimization methods to do this, but for our purposes let's do a simple random search of values in the neighborhood of those that we already have. Specifically, let's randomly and individually scale these parameters from 90% to 110% of their default values and see what combination yields the best performance.\n",
        "\n",
        "To evaluate your randomly sampled parameters, load the parameters into your `AcrobatSystemIDEnv` and see if for the same environment state and action, how much the next observations differ in terms of L2-norm."
      ]
    },
    {
      "cell_type": "code",
      "execution_count": 16,
      "metadata": {
        "id": "PIVuqN-0QxLk"
      },
      "outputs": [],
      "source": [
        "class AcrobotSystemIDEnv(AcrobotEnv):\n",
        "    def __init__(self, *args, **kwargs):\n",
        "        for param in ['dt', 'LINK_LENGTH_1', 'LINK_LENGTH_2', 'LINK_MASS_1', \n",
        "                      'LINK_MASS_2', 'LINK_COM_POS_1', 'LINK_COM_POS_2', \n",
        "                      'LINK_MOI', 'MAX_VEL_1', 'MAX_VEL_2']:\n",
        "            if param in kwargs:\n",
        "                setattr(self, param, kwargs[param])\n",
        "                del kwargs[param]\n",
        "\n",
        "        super().__init__(*args, **kwargs)\n",
        "\n",
        "best_params = {\n",
        "    'dt' : 0,\n",
        "    'LINK_LENGTH_1' : 0,\n",
        "    'LINK_LENGTH_2' : 0,\n",
        "    'LINK_MASS_1' : 0,\n",
        "    'LINK_MASS_2' : 0,\n",
        "    'LINK_COM_POS_1' : 0,\n",
        "    'LINK_COM_POS_2' : 0,\n",
        "    'LINK_MOI' : 0,\n",
        "    'MAX_VEL_1' : 0,\n",
        "    'MAX_VEL_2' : 0,    \n",
        "}\n",
        "\n",
        "\n",
        "\n",
        "### TODO: find parameters of AcrobotSystemIDEnv that match the data in `dataset`,\n",
        "### and populate them into `best_params` (30 pts)\n",
        "default_params = {\n",
        "    'dt' : 0.2,\n",
        "    'LINK_LENGTH_1' : 1.0,  # [m]\n",
        "    'LINK_LENGTH_2' : 1.0,  # [m]\n",
        "    'LINK_MASS_1' : 1.0,  #: [kg] mass of link 1\n",
        "    'LINK_MASS_2' : 1.0,  #: [kg] mass of link 2\n",
        "    'LINK_COM_POS_1' : 0.5,  #: [m] position of the center of mass of link 1\n",
        "    'LINK_COM_POS_2' : 0.5,  #: [m] position of the center of mass of link 2\n",
        "    'LINK_MOI' : 1.0,  #: moments of inertia for both links\n",
        "    'MAX_VEL_1' : 4 * np.pi,\n",
        "    'MAX_VEL_2' : 9 * np.pi\n",
        "}\n",
        "\n",
        "def gen_random_params(params,lb=0.9,ub=1.1):\n",
        "  out = dict(params) \n",
        "  for key in out:\n",
        "    scale_factor = np.random.uniform(low = lb, high = ub)\n",
        "    out[key] = out[key]*scale_factor\n",
        "  return out\n",
        "\n",
        "def find_best_params(default_params,trials=1000):\n",
        "  state_data, action_data, obs_data = dataset['env_state'], dataset['action'], dataset['new_obs']\n",
        "  T = len(action_data)\n",
        "  O = obs_data.shape[1]\n",
        "  min_diff = np.inf\n",
        "  for _ in range(trials):\n",
        "    random_params = gen_random_params(default_params)\n",
        "    random_env = AcrobotSystemIDEnv(**random_params)\n",
        "    preds = np.zeros((T,O))\n",
        "    for i, tup in enumerate(zip(state_data, action_data)):\n",
        "      state, action = tup\n",
        "      random_env.state = state\n",
        "      pred, _, _, _ = random_env.step(int(action[0]))\n",
        "      preds[i,:] = pred\n",
        "    diff = np.linalg.norm(preds-obs_data)\n",
        "    if diff < min_diff:\n",
        "      min_diff = diff\n",
        "      best_params = dict(random_params)\n",
        "    return best_params\n",
        "\n",
        "best_params = find_best_params(default_params, trials = 10**7)"
      ]
    },
    {
      "cell_type": "markdown",
      "metadata": {
        "id": "uNW1yYwyVm2i"
      },
      "source": [
        "Awesome!  Let's now try to train a policy in a simulation environment with those params loaded, `AcrobotSystemIDSolvedEnv`, and see if we do any better."
      ]
    },
    {
      "cell_type": "code",
      "execution_count": 12,
      "metadata": {
        "id": "OGlDEVt2VFJu",
        "outputId": "fb04b7a2-cf9f-42b2-bc5d-816115fac781",
        "colab": {
          "base_uri": "https://localhost:8080/"
        }
      },
      "outputs": [
        {
          "output_type": "stream",
          "name": "stderr",
          "text": [
            "\u001b[32m[INFO]\u001b[0m[2022-03-11 22:20:46]: \u001b[32mAlogrithm type:<class 'easyrl.configs.ppo_config.PPOConfig'>\u001b[0m\n",
            "\u001b[32m[INFO]\u001b[0m[2022-03-11 22:20:46]: \u001b[32mCreating 1 environments.\u001b[0m\n",
            "\u001b[31m[ERROR]\u001b[0m[2022-03-11 22:20:46]: \u001b[31mNot a valid git repo: /usr/local/lib/python3.7/dist-packages\u001b[0m\n"
          ]
        },
        {
          "output_type": "stream",
          "name": "stdout",
          "text": [
            "====================================\n",
            "      Device:cpu\n",
            "      Total number of steps:100000\n",
            "====================================\n",
            "Setting dt to 0.21789678074359065\n",
            "Setting LINK_LENGTH_1 to 1.0729281676913638\n",
            "Setting LINK_LENGTH_2 to 1.023210809887444\n",
            "Setting LINK_MASS_1 to 1.068281447350042\n",
            "Setting LINK_MASS_2 to 0.9419384289442977\n",
            "Setting LINK_COM_POS_1 to 0.5374028822863437\n",
            "Setting LINK_COM_POS_2 to 0.5367307509674641\n",
            "Setting LINK_MOI to 0.9496224496960126\n",
            "Setting MAX_VEL_1 to 12.587415048411202\n",
            "Setting MAX_VEL_2 to 30.704650088563636\n"
          ]
        },
        {
          "output_type": "stream",
          "name": "stderr",
          "text": [
            "\u001b[32m[INFO]\u001b[0m[2022-03-11 22:20:48]: \u001b[32mExploration steps: 0\u001b[0m\n",
            "\u001b[32m[INFO]\u001b[0m[2022-03-11 22:20:48]: \u001b[32mSaving checkpoint: /content/data/AcrobotSystemIDSolvedEnv-v0/seed_0/model/ckpt_000000000000.pt.\u001b[0m\n",
            "\u001b[32m[INFO]\u001b[0m[2022-03-11 22:20:48]: \u001b[32mSaving checkpoint: /content/data/AcrobotSystemIDSolvedEnv-v0/seed_0/model/model_best.pt.\u001b[0m\n",
            "\u001b[32m[INFO]\u001b[0m[2022-03-11 22:21:12]: \u001b[32mExploration steps: 20480\u001b[0m\n",
            "\u001b[32m[INFO]\u001b[0m[2022-03-11 22:21:12]: \u001b[32mSaving checkpoint: /content/data/AcrobotSystemIDSolvedEnv-v0/seed_0/model/ckpt_000000020480.pt.\u001b[0m\n",
            "\u001b[32m[INFO]\u001b[0m[2022-03-11 22:21:36]: \u001b[32mExploration steps: 40960\u001b[0m\n",
            "\u001b[32m[INFO]\u001b[0m[2022-03-11 22:21:36]: \u001b[32mSaving checkpoint: /content/data/AcrobotSystemIDSolvedEnv-v0/seed_0/model/ckpt_000000040960.pt.\u001b[0m\n",
            "\u001b[32m[INFO]\u001b[0m[2022-03-11 22:21:36]: \u001b[32mSaving checkpoint: /content/data/AcrobotSystemIDSolvedEnv-v0/seed_0/model/model_best.pt.\u001b[0m\n",
            "\u001b[32m[INFO]\u001b[0m[2022-03-11 22:21:59]: \u001b[32mExploration steps: 61440\u001b[0m\n",
            "\u001b[32m[INFO]\u001b[0m[2022-03-11 22:21:59]: \u001b[32mSaving checkpoint: /content/data/AcrobotSystemIDSolvedEnv-v0/seed_0/model/ckpt_000000061440.pt.\u001b[0m\n",
            "\u001b[32m[INFO]\u001b[0m[2022-03-11 22:21:59]: \u001b[32mSaving checkpoint: /content/data/AcrobotSystemIDSolvedEnv-v0/seed_0/model/model_best.pt.\u001b[0m\n",
            "\u001b[32m[INFO]\u001b[0m[2022-03-11 22:22:22]: \u001b[32mExploration steps: 81920\u001b[0m\n",
            "\u001b[32m[INFO]\u001b[0m[2022-03-11 22:22:22]: \u001b[32mSaving checkpoint: /content/data/AcrobotSystemIDSolvedEnv-v0/seed_0/model/ckpt_000000081920.pt.\u001b[0m\n",
            "\u001b[32m[INFO]\u001b[0m[2022-03-11 22:22:22]: \u001b[32mSaving checkpoint: /content/data/AcrobotSystemIDSolvedEnv-v0/seed_0/model/model_best.pt.\u001b[0m\n"
          ]
        }
      ],
      "source": [
        "class AcrobotSystemIDSolvedEnv(AcrobotEnv):\n",
        "    def __init__(self, *args, **kwargs):\n",
        "        for param in best_params:\n",
        "            print('Setting', param, 'to', best_params[param])\n",
        "            setattr(self, param, best_params[param])\n",
        "\n",
        "        super().__init__(*args, **kwargs)\n",
        "\n",
        "env_name = 'AcrobotSystemIDSolvedEnv-v0'\n",
        "if env_name in registry.env_specs:\n",
        "    del registry.env_specs[env_name]\n",
        "register(\n",
        "    id=env_name,\n",
        "    entry_point=f'{__name__}:AcrobotSystemIDSolvedEnv',\n",
        ")\n",
        "\n",
        "sysid_agent, sysid_save_dir = train_ppo(env_name='AcrobotSystemIDSolvedEnv-v0', max_steps=100000)"
      ]
    },
    {
      "cell_type": "code",
      "execution_count": 13,
      "metadata": {
        "id": "Adcgdryusph8",
        "outputId": "36ffae6c-c1cf-47c3-b98a-2ab190b1155c",
        "colab": {
          "base_uri": "https://localhost:8080/",
          "height": 283
        }
      },
      "outputs": [
        {
          "output_type": "execute_result",
          "data": {
            "text/plain": [
              "[<matplotlib.lines.Line2D at 0x7fe828524510>]"
            ]
          },
          "metadata": {},
          "execution_count": 13
        },
        {
          "output_type": "display_data",
          "data": {
            "text/plain": [
              "<Figure size 432x288 with 1 Axes>"
            ],
            "image/png": "[encoded data removed]"
          },
          "metadata": {
            "needs_background": "light"
          }
        }
      ],
      "source": [
        "sysid_steps, sysid_returns = read_tf_log(sysid_save_dir)\n",
        "plt.plot(sysid_steps, sysid_returns)\n",
        "#This performance achieved when OG agent only trained on 5k steps"
      ]
    },
    {
      "cell_type": "code",
      "execution_count": 14,
      "metadata": {
        "id": "KDG9bsMlWQXW",
        "outputId": "041e1244-0d03-4532-fa37-cf0208a8ea5a",
        "colab": {
          "base_uri": "https://localhost:8080/"
        }
      },
      "outputs": [
        {
          "output_type": "stream",
          "name": "stdout",
          "text": [
            "Mean number of steps:  199.28\n",
            "Standard deviation of number of steps:  50.13264006612857\n"
          ]
        }
      ],
      "source": [
        "### TODO: evaluate the agent from the sysid simulation environment \n",
        "### (\"AcrobotSystemIDSolvedEnv-v0\") in the real world environment\n",
        "### (\"AcrobotTargetEnv-v0\"). Be sure to run at least 10 trials.\n",
        "### Report mean and standard deviation. (10 pts)\n",
        "target_env = wrap_env(gym.make('AcrobotTargetEnv-v0'))\n",
        "eval_agent(sysid_agent,target_env,num_trials=100)"
      ]
    },
    {
      "cell_type": "code",
      "source": [
        " #evaluate sysid agent on training environment \n",
        "training_env = AcrobotSystemIDSolvedEnv()\n",
        "eval_agent(sysid_agent,training_env)"
      ],
      "metadata": {
        "id": "7r7dUgeE902p",
        "outputId": "cf72794a-a8ee-45b7-f84e-4fc95e064642",
        "colab": {
          "base_uri": "https://localhost:8080/"
        }
      },
      "execution_count": null,
      "outputs": [
        {
          "output_type": "stream",
          "name": "stdout",
          "text": [
            "Setting dt to 0.21789678074359065\n",
            "Setting LINK_LENGTH_1 to 1.0729281676913638\n",
            "Setting LINK_LENGTH_2 to 1.023210809887444\n",
            "Setting LINK_MASS_1 to 1.068281447350042\n",
            "Setting LINK_MASS_2 to 0.9419384289442977\n",
            "Setting LINK_COM_POS_1 to 0.5374028822863437\n",
            "Setting LINK_COM_POS_2 to 0.5367307509674641\n",
            "Setting LINK_MOI to 0.9496224496960126\n",
            "Setting MAX_VEL_1 to 12.587415048411202\n",
            "Setting MAX_VEL_2 to 30.704650088563636\n",
            "Mean number of steps:  83.8\n",
            "Standard deviation of number of steps:  17.29624236647949\n"
          ]
        }
      ]
    },
    {
      "cell_type": "markdown",
      "metadata": {
        "id": "hCbqafVCXNfT"
      },
      "source": [
        "**Question (10 pts):** How does the sysid agent perform when transferred on the \"real\" robot in comparison to our baseline agent trained in the \"sim\" (`Acrobot-v1`)?\n",
        "\n",
        "**Answer:** The sysid agent performs significantly better than the baseline agent. The mean number of steps taken to complete the task is 101.1 (compared to 193.5 for the baseline agent) and the standard deviation is 18.6 (compared to 45.2 for the baseline agent)\n",
        "\n",
        "**Question (10 pts):** How does the sysid agent perform when evaluated in its training env, `AcrobotSystemIDSolvedEnv-v0`. You may find plotting the returns during training to be helpful using `read_tf_log`? \n",
        "\n",
        "**Answer:** \n",
        "The sysid agent actually performs worse in its training environment than the baseline agent. The baseline agent converges to a reward of around -100, whilst the sysid agent converges to a reward of about -200.\n",
        "\n",
        "**Question (10 pts):** Do you still observe a sim2real gap?  If so, why might that be, and how could it be further minimized? \n",
        "\n",
        "**Answer:** Yes there is a still a gap, since the agent obtains a much lower reward of XX in its training environment. To reduce the gap, we could regularize the training procedure or apply domain randomization."
      ]
    },
    {
      "cell_type": "markdown",
      "metadata": {
        "id": "jnHlR3QxME1B"
      },
      "source": [
        "# Domain Randomization\n",
        "\n",
        "Fortunately, Ben's professor has another solution to improve the quality of transfer between simulation and reality: *domain randomization*.  A good summary of the concept can be found in the [original paper](https://arxiv.org/abs/1710.06537)'s abstract:\n",
        "\n",
        "> Due to modeling error, strategies that are successful in simulation may not transfer to their real world counterparts. In this paper, we demonstrate a simple method to bridge this \"reality gap\". By randomizing the dynamics of the simulator during training, we are able to develop policies that are capable of adapting to very different dynamics, including ones that differ significantly from the dynamics on which the policies were trained. This adaptivity enables the policies to generalize to the dynamics of the real world without any training on the physical system.\n",
        "\n",
        "Let's now implement dynamics randomization for Acrobot. \n"
      ]
    },
    {
      "cell_type": "code",
      "execution_count": 15,
      "metadata": {
        "id": "E2z9JFBdDR5i"
      },
      "outputs": [],
      "source": [
        "class AcrobotDREnv(AcrobotEnv):\n",
        "    def reset(self):\n",
        "        obs = super().reset()\n",
        "\n",
        "        ### TODO: randomize the dynamics parameters from the defaults slightly\n",
        "        ### similar to the sysid section (invidually and randomly scale 80% to 120%) (30 pts)\n",
        "        for key in best_params:\n",
        "          scale_factor = np.random.uniform(low=0.8,high=1.2)\n",
        "          setattr(self ,key, scale_factor*getattr(self,key))\n",
        "        ### ENDTODO\n",
        "\n",
        "        return obs\n",
        "\n",
        "env_name = 'AcrobotDREnv-v0'\n",
        "if env_name in registry.env_specs:\n",
        "    del registry.env_specs[env_name]\n",
        "register(\n",
        "    id=env_name,\n",
        "    entry_point=f'{__name__}:AcrobotDREnv',\n",
        ")"
      ]
    },
    {
      "cell_type": "code",
      "execution_count": null,
      "metadata": {
        "id": "ot_4MYCV4s8u",
        "outputId": "9516efc1-6734-4559-f9ca-78a4b3a536af",
        "colab": {
          "base_uri": "https://localhost:8080/"
        }
      },
      "outputs": [
        {
          "output_type": "stream",
          "name": "stderr",
          "text": [
            "\u001b[32m[INFO]\u001b[0m[2022-03-11 03:42:36]: \u001b[32mAlogrithm type:<class 'easyrl.configs.ppo_config.PPOConfig'>\u001b[0m\n",
            "\u001b[32m[INFO]\u001b[0m[2022-03-11 03:42:36]: \u001b[32mCreating 1 environments.\u001b[0m\n",
            "\u001b[31m[ERROR]\u001b[0m[2022-03-11 03:42:36]: \u001b[31mNot a valid git repo: /usr/local/lib/python3.7/dist-packages\u001b[0m\n"
          ]
        },
        {
          "output_type": "stream",
          "name": "stdout",
          "text": [
            "====================================\n",
            "      Device:cpu\n",
            "      Total number of steps:100000\n",
            "====================================\n"
          ]
        },
        {
          "output_type": "stream",
          "name": "stderr",
          "text": [
            "\u001b[32m[INFO]\u001b[0m[2022-03-11 03:42:38]: \u001b[32mExploration steps: 0\u001b[0m\n",
            "\u001b[32m[INFO]\u001b[0m[2022-03-11 03:42:38]: \u001b[32mSaving checkpoint: /content/data/AcrobotDREnv-v0/seed_0/model/ckpt_000000000000.pt.\u001b[0m\n",
            "\u001b[32m[INFO]\u001b[0m[2022-03-11 03:42:38]: \u001b[32mSaving checkpoint: /content/data/AcrobotDREnv-v0/seed_0/model/model_best.pt.\u001b[0m\n",
            "\u001b[32m[INFO]\u001b[0m[2022-03-11 03:43:06]: \u001b[32mExploration steps: 20480\u001b[0m\n",
            "\u001b[32m[INFO]\u001b[0m[2022-03-11 03:43:06]: \u001b[32mSaving checkpoint: /content/data/AcrobotDREnv-v0/seed_0/model/ckpt_000000020480.pt.\u001b[0m\n",
            "\u001b[32m[INFO]\u001b[0m[2022-03-11 03:43:32]: \u001b[32mExploration steps: 40960\u001b[0m\n",
            "\u001b[32m[INFO]\u001b[0m[2022-03-11 03:43:32]: \u001b[32mSaving checkpoint: /content/data/AcrobotDREnv-v0/seed_0/model/ckpt_000000040960.pt.\u001b[0m\n",
            "\u001b[32m[INFO]\u001b[0m[2022-03-11 03:43:32]: \u001b[32mSaving checkpoint: /content/data/AcrobotDREnv-v0/seed_0/model/model_best.pt.\u001b[0m\n",
            "\u001b[32m[INFO]\u001b[0m[2022-03-11 03:43:59]: \u001b[32mExploration steps: 61440\u001b[0m\n",
            "\u001b[32m[INFO]\u001b[0m[2022-03-11 03:43:59]: \u001b[32mSaving checkpoint: /content/data/AcrobotDREnv-v0/seed_0/model/ckpt_000000061440.pt.\u001b[0m\n",
            "\u001b[32m[INFO]\u001b[0m[2022-03-11 03:44:25]: \u001b[32mExploration steps: 81920\u001b[0m\n",
            "\u001b[32m[INFO]\u001b[0m[2022-03-11 03:44:25]: \u001b[32mSaving checkpoint: /content/data/AcrobotDREnv-v0/seed_0/model/ckpt_000000081920.pt.\u001b[0m\n"
          ]
        }
      ],
      "source": [
        "dr_agent, dr_save_dir = train_ppo(env_name='AcrobotDREnv-v0')"
      ]
    },
    {
      "cell_type": "code",
      "execution_count": null,
      "metadata": {
        "id": "cYXzH_7Msph-",
        "outputId": "cb2d707c-8cf7-4727-fce2-8351439d6d38",
        "colab": {
          "base_uri": "https://localhost:8080/",
          "height": 282
        }
      },
      "outputs": [
        {
          "output_type": "execute_result",
          "data": {
            "text/plain": [
              "[<matplotlib.lines.Line2D at 0x7f1b2cbf9990>]"
            ]
          },
          "metadata": {},
          "execution_count": 21
        },
        {
          "output_type": "display_data",
          "data": {
            "image/png": "[encoded data removed]",
            "text/plain": [
              "<Figure size 432x288 with 1 Axes>"
            ]
          },
          "metadata": {
            "needs_background": "light"
          }
        }
      ],
      "source": [
        "dr_steps, dr_returns = read_tf_log(dr_save_dir)\n",
        "plt.plot(dr_steps, dr_returns)"
      ]
    },
    {
      "cell_type": "code",
      "execution_count": null,
      "metadata": {
        "id": "9whnEtC_aKik",
        "outputId": "b5ec3d12-1fcd-407e-8610-eee4e8366da1",
        "colab": {
          "base_uri": "https://localhost:8080/"
        }
      },
      "outputs": [
        {
          "output_type": "stream",
          "name": "stdout",
          "text": [
            "Mean number of steps:  229.0\n",
            "Standard deviation of number of steps:  92.575374695434\n"
          ]
        }
      ],
      "source": [
        "### TODO: evaluate the agent from the DR simulation environment \n",
        "### (\"AcrobotDREnv-v0\") in the real world environment\n",
        "### (\"AcrobotTargetEnv-v0\").  Make sure to run at least 10 trials.\n",
        "### Report mean and standard deviation. (10 pts)\n",
        "target_env = wrap_env(gym.make('AcrobotTargetEnv-v0'))\n",
        "eval_agent(dr_agent,target_env,num_trials=10)"
      ]
    },
    {
      "cell_type": "markdown",
      "metadata": {
        "id": "VRvqbOi1ajx-"
      },
      "source": [
        "**Question (10 pts):** How does the DR agent perform when evaluated in its training env, `AcrobotDREnv-v0`. You may find plotting the returns during training to be helpful using `read_tf_log`?\n",
        "\n",
        "**Answer:** \n",
        "\n",
        "**Question (10 pts):**:  How does the DR agent perform in comparison to the sysid agent when transferred to our real world environment? Why is this so?\n",
        "\n",
        "**Answer**: The DR agent performs worse. This is probably because our system identification was close enough to the real world, so that training on this environment prepared the agent better than training on many random environments."
      ]
    },
    {
      "cell_type": "markdown",
      "metadata": {
        "id": "VI7eLLlTrHcY"
      },
      "source": [
        "## Robustness vs Performance Tradeoff\n",
        "\n",
        "Next, try making your domain randomization less varied by narrowing the distributions of parameters you sample from. Perhaps we introduced too much randomization last round to train a more robust policy in exchange for some potential performance. Instead of scaling the parameters by 80% to 110%, only scale them from 95% to 105%."
      ]
    },
    {
      "cell_type": "code",
      "execution_count": null,
      "metadata": {
        "id": "O2zl9vrRrfkK",
        "colab": {
          "base_uri": "https://localhost:8080/",
          "height": 684
        },
        "outputId": "1d6d8762-2632-42c8-bb2d-b93361f516de"
      },
      "outputs": [
        {
          "output_type": "stream",
          "name": "stderr",
          "text": [
            "\u001b[32m[INFO]\u001b[0m[2022-03-11 03:45:17]: \u001b[32mAlogrithm type:<class 'easyrl.configs.ppo_config.PPOConfig'>\u001b[0m\n",
            "\u001b[32m[INFO]\u001b[0m[2022-03-11 03:45:17]: \u001b[32mCreating 1 environments.\u001b[0m\n",
            "\u001b[31m[ERROR]\u001b[0m[2022-03-11 03:45:17]: \u001b[31mNot a valid git repo: /usr/local/lib/python3.7/dist-packages\u001b[0m\n"
          ]
        },
        {
          "output_type": "stream",
          "name": "stdout",
          "text": [
            "====================================\n",
            "      Device:cpu\n",
            "      Total number of steps:100000\n",
            "====================================\n"
          ]
        },
        {
          "output_type": "stream",
          "name": "stderr",
          "text": [
            "\u001b[32m[INFO]\u001b[0m[2022-03-11 03:45:19]: \u001b[32mExploration steps: 0\u001b[0m\n",
            "\u001b[32m[INFO]\u001b[0m[2022-03-11 03:45:19]: \u001b[32mSaving checkpoint: /content/data/AcrobotDRCompareEnv-v0/seed_0/model/ckpt_000000000000.pt.\u001b[0m\n",
            "\u001b[32m[INFO]\u001b[0m[2022-03-11 03:45:19]: \u001b[32mSaving checkpoint: /content/data/AcrobotDRCompareEnv-v0/seed_0/model/model_best.pt.\u001b[0m\n",
            "\u001b[32m[INFO]\u001b[0m[2022-03-11 03:45:47]: \u001b[32mExploration steps: 20480\u001b[0m\n",
            "\u001b[32m[INFO]\u001b[0m[2022-03-11 03:45:47]: \u001b[32mSaving checkpoint: /content/data/AcrobotDRCompareEnv-v0/seed_0/model/ckpt_000000020480.pt.\u001b[0m\n",
            "\u001b[32m[INFO]\u001b[0m[2022-03-11 03:45:47]: \u001b[32mSaving checkpoint: /content/data/AcrobotDRCompareEnv-v0/seed_0/model/model_best.pt.\u001b[0m\n",
            "\u001b[32m[INFO]\u001b[0m[2022-03-11 03:46:13]: \u001b[32mExploration steps: 40960\u001b[0m\n",
            "\u001b[32m[INFO]\u001b[0m[2022-03-11 03:46:13]: \u001b[32mSaving checkpoint: /content/data/AcrobotDRCompareEnv-v0/seed_0/model/ckpt_000000040960.pt.\u001b[0m\n",
            "\u001b[32m[INFO]\u001b[0m[2022-03-11 03:46:13]: \u001b[32mSaving checkpoint: /content/data/AcrobotDRCompareEnv-v0/seed_0/model/model_best.pt.\u001b[0m\n",
            "\u001b[32m[INFO]\u001b[0m[2022-03-11 03:46:38]: \u001b[32mExploration steps: 61440\u001b[0m\n",
            "\u001b[32m[INFO]\u001b[0m[2022-03-11 03:46:38]: \u001b[32mSaving checkpoint: /content/data/AcrobotDRCompareEnv-v0/seed_0/model/ckpt_000000061440.pt.\u001b[0m\n",
            "\u001b[32m[INFO]\u001b[0m[2022-03-11 03:46:38]: \u001b[32mSaving checkpoint: /content/data/AcrobotDRCompareEnv-v0/seed_0/model/model_best.pt.\u001b[0m\n",
            "\u001b[32m[INFO]\u001b[0m[2022-03-11 03:47:04]: \u001b[32mExploration steps: 81920\u001b[0m\n",
            "\u001b[32m[INFO]\u001b[0m[2022-03-11 03:47:04]: \u001b[32mSaving checkpoint: /content/data/AcrobotDRCompareEnv-v0/seed_0/model/ckpt_000000081920.pt.\u001b[0m\n",
            "\u001b[32m[INFO]\u001b[0m[2022-03-11 03:47:04]: \u001b[32mSaving checkpoint: /content/data/AcrobotDRCompareEnv-v0/seed_0/model/model_best.pt.\u001b[0m\n"
          ]
        },
        {
          "output_type": "execute_result",
          "data": {
            "text/plain": [
              "[<matplotlib.lines.Line2D at 0x7f1b2cd39610>]"
            ]
          },
          "metadata": {},
          "execution_count": 24
        },
        {
          "output_type": "display_data",
          "data": {
            "image/png": "[encoded data removed]",
            "text/plain": [
              "<Figure size 432x288 with 1 Axes>"
            ]
          },
          "metadata": {
            "needs_background": "light"
          }
        }
      ],
      "source": [
        "class AcrobotDRCompareEnv(AcrobotEnv):\n",
        "    def reset(self):\n",
        "        obs = super().reset()\n",
        "\n",
        "        ### TODO: randomize the dynamics parameters (10 pts)\n",
        "        for key in best_params:\n",
        "          scale_factor = np.random.uniform(low=0.95,high=1.05)\n",
        "          setattr(self ,key, scale_factor*getattr(self,key))\n",
        "        ### ENDTODO\n",
        "        return obs\n",
        "\n",
        "env_name = 'AcrobotDRCompareEnv-v0'\n",
        "if env_name in registry.env_specs:\n",
        "    del registry.env_specs[env_name]\n",
        "register(\n",
        "    id=env_name,\n",
        "    entry_point=f'{__name__}:AcrobotDRCompareEnv',\n",
        ")\n",
        "\n",
        "dr_compare_agent, dr_compare_save_dir = train_ppo(env_name='AcrobotDRCompareEnv-v0')\n",
        "dr_compare_steps, dr_compare_returns = read_tf_log(dr_compare_save_dir)\n",
        "plt.plot(dr_compare_steps, dr_compare_returns)"
      ]
    },
    {
      "cell_type": "code",
      "execution_count": null,
      "metadata": {
        "id": "D8KDRY6tr_p5",
        "colab": {
          "base_uri": "https://localhost:8080/"
        },
        "outputId": "ed56c42a-5f9c-4fb8-d858-3cbe983e1d09"
      },
      "outputs": [
        {
          "output_type": "stream",
          "name": "stdout",
          "text": [
            "Mean number of steps:  170.2\n",
            "Standard deviation of number of steps:  60.98819557914466\n"
          ]
        }
      ],
      "source": [
        "### TODO: evaluate the dr_compare_agent in the real world environment\n",
        "### (\"AcrobotTargetEnv-v0\").  Make sure to run at least 10 trials.\n",
        "### Report mean and standard deviation. (10 pts)\n",
        "target_env = wrap_env(gym.make('AcrobotTargetEnv-v0'))\n",
        "eval_agent(dr_compare_agent,target_env,num_trials=10)"
      ]
    },
    {
      "cell_type": "markdown",
      "metadata": {
        "id": "hyK6vjIqsVsN"
      },
      "source": [
        "**Question (10 pts):** Does narrowing the range of domain randomization help with transfer to reality? Why?\n",
        "\n",
        "**Answer**: Narrowing the range helps because the values we sample are close to the ones observed in the real world. Having a narrower range opens you up to being less robust, but it seems that for this application the [0.8,1.2] range was trading off too much performance."
      ]
    },
    {
      "cell_type": "markdown",
      "metadata": {
        "id": "KHWNqcwSspiF"
      },
      "source": [
        "# Knowledge Distillation \n",
        "\n",
        "Unfortunately, the velocity sensors on the lab's Acrobat broke and are no longer usable. Thus, all of Ben's agents trained thus far that account for velocity in the state space can no longer function.\n",
        "\n",
        "Fortunately, Ben's professor has yet another idea to allow for transfer between simulation and reality: *knowledge distillation*. A summary of this idea can be found [here](https://intellabs.github.io/distiller/knowledge_distillation.html):\n",
        "\n",
        "> Knowledge distillation is model compression method in which a small model is trained to mimic a pre-trained, larger model (or ensemble of models). This training setting is sometimes referred to as \"teacher-student\", where the large model is the teacher and the small model is the student (we'll be using these terms interchangeably).\n",
        "\n",
        "This scenario is common when in simulation, we can have privileged information that may not be possible in reality (more sensors, perfect state estimation, etc.).\n",
        "\n",
        "In our case, we could train a teacher network in simulation with full access to a simulated robot with working velocity sensors. We would then train our student network with a more limited state space to predict actions that match that of the teacher. Let's try to implement this."
      ]
    },
    {
      "cell_type": "code",
      "execution_count": 11,
      "metadata": {
        "id": "nZcyZPdHspiG"
      },
      "outputs": [],
      "source": [
        "# defining our environments\n",
        "class NoVelocityAcrobotEnv(AcrobotEnv):\n",
        "    book_or_nips = \"book\"    \n",
        "    \n",
        "    def __init__(self):\n",
        "        AcrobotEnv.__init__(self)\n",
        "        high = np.array(\n",
        "            [1.0, 1.0, 1.0, 1.0], dtype=np.float32\n",
        "        )\n",
        "        low = -high\n",
        "        self.observation_space = spaces.Box(low=low, high=high, dtype=np.float32)\n",
        "        \n",
        "    def _get_ob(self):\n",
        "        s = self.state\n",
        "        assert s is not None, \"Call reset before using AcrobotEnv object.\"\n",
        "\n",
        "        obs = np.array(\n",
        "            [\n",
        "                np.cos(s[0]), np.sin(s[0]), np.cos(s[1]), np.sin(s[1]), # no velocity\n",
        "            ], dtype=np.float32\n",
        "        )\n",
        "                    \n",
        "        return obs\n",
        "\n",
        "class NoVelocityAcrobotTargetEnv(NoVelocityAcrobotEnv):\n",
        "    book_or_nips = \"nips\"    \n",
        "    \n",
        "        \n",
        "env_name = 'NoVelocityAcrobot-v0'\n",
        "if env_name in registry.env_specs:\n",
        "    del registry.env_specs[env_name]\n",
        "register(\n",
        "    id=env_name,\n",
        "    entry_point=f'{__name__}:NoVelocityAcrobotEnv',\n",
        ")\n",
        "\n",
        "env_name = 'NoVelocityAcrobotTarget-v0'\n",
        "if env_name in registry.env_specs:\n",
        "    del registry.env_specs[env_name]\n",
        "register(\n",
        "    id=env_name,\n",
        "    entry_point=f'{__name__}:NoVelocityAcrobotTargetEnv',\n",
        ")"
      ]
    },
    {
      "cell_type": "code",
      "execution_count": 7,
      "metadata": {
        "id": "FhZlocC8spiG",
        "colab": {
          "base_uri": "https://localhost:8080/",
          "height": 676
        },
        "outputId": "989fc22d-1a39-4436-b50e-3ad6f463b01f"
      },
      "outputs": [
        {
          "output_type": "stream",
          "name": "stderr",
          "text": [
            "\u001b[32m[INFO]\u001b[0m[2022-03-11 22:47:42]: \u001b[32mAlogrithm type:<class 'easyrl.configs.ppo_config.PPOConfig'>\u001b[0m\n",
            "\u001b[32m[INFO]\u001b[0m[2022-03-11 22:47:42]: \u001b[32mCreating 1 environments.\u001b[0m\n",
            "\u001b[31m[ERROR]\u001b[0m[2022-03-11 22:47:42]: \u001b[31mNot a valid git repo: /usr/local/lib/python3.7/dist-packages\u001b[0m\n"
          ]
        },
        {
          "output_type": "stream",
          "name": "stdout",
          "text": [
            "====================================\n",
            "      Device:cpu\n",
            "      Total number of steps:100000\n",
            "====================================\n"
          ]
        },
        {
          "output_type": "stream",
          "name": "stderr",
          "text": [
            "\u001b[32m[INFO]\u001b[0m[2022-03-11 22:47:46]: \u001b[32mExploration steps: 0\u001b[0m\n",
            "\u001b[32m[INFO]\u001b[0m[2022-03-11 22:47:46]: \u001b[32mSaving checkpoint: /content/data/Acrobot-v1/seed_0/model/ckpt_000000000000.pt.\u001b[0m\n",
            "\u001b[32m[INFO]\u001b[0m[2022-03-11 22:47:46]: \u001b[32mSaving checkpoint: /content/data/Acrobot-v1/seed_0/model/model_best.pt.\u001b[0m\n",
            "\u001b[32m[INFO]\u001b[0m[2022-03-11 22:48:10]: \u001b[32mExploration steps: 20480\u001b[0m\n",
            "\u001b[32m[INFO]\u001b[0m[2022-03-11 22:48:10]: \u001b[32mSaving checkpoint: /content/data/Acrobot-v1/seed_0/model/ckpt_000000020480.pt.\u001b[0m\n",
            "\u001b[32m[INFO]\u001b[0m[2022-03-11 22:48:10]: \u001b[32mSaving checkpoint: /content/data/Acrobot-v1/seed_0/model/model_best.pt.\u001b[0m\n",
            "\u001b[32m[INFO]\u001b[0m[2022-03-11 22:48:34]: \u001b[32mExploration steps: 40960\u001b[0m\n",
            "\u001b[32m[INFO]\u001b[0m[2022-03-11 22:48:34]: \u001b[32mSaving checkpoint: /content/data/Acrobot-v1/seed_0/model/ckpt_000000040960.pt.\u001b[0m\n",
            "\u001b[32m[INFO]\u001b[0m[2022-03-11 22:48:34]: \u001b[32mSaving checkpoint: /content/data/Acrobot-v1/seed_0/model/model_best.pt.\u001b[0m\n",
            "\u001b[32m[INFO]\u001b[0m[2022-03-11 22:48:58]: \u001b[32mExploration steps: 61440\u001b[0m\n",
            "\u001b[32m[INFO]\u001b[0m[2022-03-11 22:48:58]: \u001b[32mSaving checkpoint: /content/data/Acrobot-v1/seed_0/model/ckpt_000000061440.pt.\u001b[0m\n",
            "\u001b[32m[INFO]\u001b[0m[2022-03-11 22:48:58]: \u001b[32mSaving checkpoint: /content/data/Acrobot-v1/seed_0/model/model_best.pt.\u001b[0m\n",
            "\u001b[32m[INFO]\u001b[0m[2022-03-11 22:49:22]: \u001b[32mExploration steps: 81920\u001b[0m\n",
            "\u001b[32m[INFO]\u001b[0m[2022-03-11 22:49:22]: \u001b[32mSaving checkpoint: /content/data/Acrobot-v1/seed_0/model/ckpt_000000081920.pt.\u001b[0m\n",
            "\u001b[32m[INFO]\u001b[0m[2022-03-11 22:49:22]: \u001b[32mSaving checkpoint: /content/data/Acrobot-v1/seed_0/model/model_best.pt.\u001b[0m\n"
          ]
        },
        {
          "output_type": "execute_result",
          "data": {
            "text/plain": [
              "[<matplotlib.lines.Line2D at 0x7f99499faf50>]"
            ]
          },
          "metadata": {},
          "execution_count": 7
        },
        {
          "output_type": "display_data",
          "data": {
            "text/plain": [
              "<Figure size 432x288 with 1 Axes>"
            ],
            "image/png": "[encoded data removed]"
          },
          "metadata": {
            "needs_background": "light"
          }
        }
      ],
      "source": [
        "# get our vanilla agent trained on the full simulated basic env\n",
        "# if you have this cached from Q1 no need to re-train, just run `teacher_agent = agent`\n",
        "# in practice, we could use one of our better agents (e.g., the agent trained on domain randomization\n",
        "# or sysid) but let's use the basic agent for simplicity\n",
        "\n",
        "teacher_agent, teacher_save_dir = train_ppo(env_name=\"Acrobot-v1\")\n",
        "teacher_steps, teacher_returns = read_tf_log(teacher_save_dir)\n",
        "plt.plot(teacher_steps, teacher_returns)\n",
        "\n",
        "#teacher_agent = agent"
      ]
    },
    {
      "cell_type": "markdown",
      "metadata": {
        "id": "_VI85BBTspiG"
      },
      "source": [
        "Now that we have our teacher, let's generate a dataset of observations and policy outputs that we'll try to get our student to later match. Note that solely training on executed *actions* is insufficient, so we'll need to store the parameters of our `Categorical` distribution (the logits representing each of the 3 discrete actions) for every given observation."
      ]
    },
    {
      "cell_type": "code",
      "execution_count": 28,
      "metadata": {
        "id": "mA1Jpj4BspiG"
      },
      "outputs": [],
      "source": [
        "num_transitions = 20000\n",
        "\n",
        "stud_dataset = {\n",
        "    'obs': np.zeros((num_transitions, 6)),\n",
        "    'dist_params': np.zeros((num_transitions, 3)),   \n",
        "}\n",
        "\n",
        "class StudentObsActionDataset(torch.utils.data.Dataset):\n",
        "    def __init__(self, stud_dataset):\n",
        "        self.states = stud_dataset['obs']\n",
        "        self.params = stud_dataset['dist_params']\n",
        "        \n",
        "    def __len__(self):\n",
        "        return self.states.shape[0]\n",
        "\n",
        "    def __getitem__(self, idx):\n",
        "        sample = dict()\n",
        "        sample['state'] = self.states[idx][:4] # no velocity information\n",
        "        sample['dist_params'] = self.params[idx]\n",
        "        return sample\n",
        "\n",
        "\n",
        "### TODO: Collect offline dataset of teacher observations and policy outputs\n",
        "###       from our simulated environment, `Acrobot-v1` which has access to the velocity (30 pts)\n",
        "'''\n",
        "note: to get an action out of our `PPOAgent` object, you can pass an observation as a \n",
        "tensor to the teacher_agent's actor to get a `Categorical` distribution\n",
        "'''\n",
        "env = wrap_env(gym.make('Acrobot-v1'))\n",
        "\n",
        "step = 0\n",
        "while step < num_transitions:\n",
        "    observation = env.reset()\n",
        "    for i in range(1024):\n",
        "        stud_dataset['obs'][step,:] = observation\n",
        "        observation = torch.tensor(observation).float()\n",
        "        dist, _ = teacher_agent.actor.forward(observation)\n",
        "        stud_dataset['dist_params'][step,:] = np.array(dist.logits.cpu().detach())\n",
        "        action = teacher_agent.get_action(observation)[0].tolist()\n",
        "        observation, reward, done, info = env.step(action)    \n",
        "        step += 1\n",
        "        if done or step == num_transitions:\n",
        "            break\n",
        "    env.close()\n",
        "#####################################\n",
        "\n",
        "dset = StudentObsActionDataset(stud_dataset)"
      ]
    },
    {
      "cell_type": "markdown",
      "metadata": {
        "id": "MEpK6eU3spiG"
      },
      "source": [
        "Awesome, now that we have our offline dataset, we just need our student policy (which will take in observations without velocities) to output the same distribution over discrete actions! Note that our `StudentObsActionDataset` wrapper is removing velocities for you already."
      ]
    },
    {
      "cell_type": "code",
      "execution_count": 29,
      "metadata": {
        "id": "0DmRuMj1spiH",
        "colab": {
          "base_uri": "https://localhost:8080/",
          "height": 300
        },
        "outputId": "8e8a4453-056d-47f9-af4d-bdef6c32460b"
      },
      "outputs": [
        {
          "output_type": "stream",
          "name": "stderr",
          "text": [
            "Epoch: 100%|██████████| 50/50 [00:30<00:00,  1.64it/s, loss=5.59]\n"
          ]
        },
        {
          "output_type": "execute_result",
          "data": {
            "text/plain": [
              "[<matplotlib.lines.Line2D at 0x7f97a9e72ad0>]"
            ]
          },
          "metadata": {},
          "execution_count": 29
        },
        {
          "output_type": "display_data",
          "data": {
            "text/plain": [
              "<Figure size 432x288 with 1 Axes>"
            ],
            "image/png": "[encoded data removed]"
          },
          "metadata": {
            "needs_background": "light"
          }
        }
      ],
      "source": [
        "# model \n",
        "student_body = MLP(\n",
        "    input_size=4, # no more angular velocity\n",
        "    hidden_sizes=[64, 64],\n",
        "    output_size=64,\n",
        "    hidden_act=nn.Tanh,\n",
        "    output_act=nn.Tanh\n",
        ")\n",
        "act_size = env.action_space.n\n",
        "student = CategoricalPolicy(\n",
        "    student_body,\n",
        "    in_features=64,\n",
        "    action_dim=act_size\n",
        ").to(cfg.alg.device)\n",
        "\n",
        "# setup\n",
        "optimizer = torch.optim.Adam(student.parameters(), lr=0.0005)\n",
        "max_epochs = 50\n",
        "dataloader = torch.utils.data.DataLoader(dset, batch_size=256, shuffle=True)\n",
        "criterion = torch.nn.MSELoss()\n",
        "\n",
        "# train loop\n",
        "pbar = tqdm(range(max_epochs), desc='Epoch')\n",
        "losses = []\n",
        "for iter in pbar:\n",
        "    avg_loss = []\n",
        "    for batch_idx, sample in enumerate(dataloader):\n",
        "        states = sample['state'].float().to(cfg.alg.device)\n",
        "        expert_logits = sample['dist_params'].float().to(cfg.alg.device)\n",
        "\n",
        "        ### TODO: optimize the student outputs with respect to the data (10 pts)\n",
        "        student_dist, _ = student(states)\n",
        "        student_logits = student_dist.logits\n",
        "        #loss = F.cross_entropy(student_logits, expert_logits)\n",
        "        L = nn.CrossEntropyLoss()\n",
        "        #loss = L(student_logits, expert_logits)*-1\n",
        "        loss = criterion(student_logits,expert_logits)\n",
        "        optimizer.zero_grad()\n",
        "        loss.backward()\n",
        "        optimizer.step()\n",
        "        ####\n",
        "        \n",
        "        pbar.set_postfix({'loss': loss.item()})\n",
        "        losses.append(loss.item())\n",
        "\n",
        "plt.plot(losses)\n"
      ]
    },
    {
      "cell_type": "markdown",
      "metadata": {
        "id": "jZ96V-Y9spiH"
      },
      "source": [
        "Let's evaluate the performance of our trained student in a simulated environment with no velocity in the state before we try evaluating it on our real robot with broken velocity sensors."
      ]
    },
    {
      "cell_type": "code",
      "execution_count": 30,
      "metadata": {
        "id": "2Dr769ZTspiH",
        "outputId": "947c2a76-8fa2-4433-fd36-80eca4b10278",
        "colab": {
          "base_uri": "https://localhost:8080/"
        }
      },
      "outputs": [
        {
          "output_type": "stream",
          "name": "stdout",
          "text": [
            "0\n",
            "1\n",
            "2\n",
            "3\n",
            "4\n",
            "5\n",
            "6\n",
            "7\n",
            "8\n",
            "9\n",
            "10\n",
            "11\n",
            "12\n",
            "13\n",
            "14\n",
            "15\n",
            "16\n",
            "17\n",
            "18\n",
            "19\n",
            "20\n",
            "21\n",
            "22\n",
            "23\n",
            "24\n",
            "25\n",
            "26\n",
            "27\n",
            "28\n",
            "29\n",
            "30\n",
            "31\n",
            "32\n",
            "33\n",
            "34\n",
            "35\n",
            "36\n",
            "37\n",
            "38\n",
            "39\n",
            "40\n",
            "41\n",
            "42\n",
            "43\n",
            "44\n",
            "45\n",
            "46\n",
            "47\n",
            "48\n",
            "49\n"
          ]
        }
      ],
      "source": [
        "student.eval()\n",
        "\n",
        "### TODO: Evaluate the student on `NoVelocityAcrobot-v0`. Be sure to run at least 10 trials\n",
        "### Report mean and standard deviation. (10 pts)\n",
        "# target_env = wrap_env(gym.make('NoVelocityAcrobot-v0'))\n",
        "# student_agent = PPOAgent(actor=student.eval(),critic=teacher_agent.critic, env=target_env)\n",
        "# eval_agent(student_agent,target_env)\n",
        "\n",
        "env = wrap_env(gym.make('NoVelocityAcrobot-v0'))\n",
        "\n",
        "num_steps = []\n",
        "for i in range(50):\n",
        "    print(i)\n",
        "    observation = env.reset()\n",
        "    step = 0\n",
        "    for i in range(1024):    \n",
        "        action = student(torch.tensor(observation))[0].sample()\n",
        "        observation, reward, done, info = env.step(action.tolist())    \n",
        "        if done:\n",
        "            step = i\n",
        "            break\n",
        "    num_steps.append(step)\n",
        "    env.close()\n"
      ]
    },
    {
      "cell_type": "code",
      "source": [
        "print(np.mean(num_steps)) #mean = 136, std = 80"
      ],
      "metadata": {
        "id": "s-kxJWiPefTN",
        "outputId": "157b8e41-e77e-412a-b374-653023969a68",
        "colab": {
          "base_uri": "https://localhost:8080/"
        }
      },
      "execution_count": 33,
      "outputs": [
        {
          "output_type": "stream",
          "name": "stdout",
          "text": [
            "139.56\n"
          ]
        }
      ]
    },
    {
      "cell_type": "code",
      "execution_count": 19,
      "metadata": {
        "id": "PfxWvstvspiH",
        "outputId": "47c88da2-1689-457e-cf18-ee59b377e6ed",
        "colab": {
          "base_uri": "https://localhost:8080/"
        }
      },
      "outputs": [
        {
          "output_type": "stream",
          "name": "stdout",
          "text": [
            "0\n",
            "1\n",
            "2\n",
            "3\n",
            "4\n",
            "5\n",
            "6\n",
            "7\n",
            "8\n",
            "9\n",
            "10\n",
            "11\n",
            "12\n",
            "13\n",
            "14\n",
            "15\n",
            "16\n",
            "17\n",
            "18\n",
            "19\n",
            "20\n",
            "21\n",
            "22\n",
            "23\n",
            "24\n",
            "25\n",
            "26\n",
            "27\n",
            "28\n",
            "29\n",
            "30\n",
            "31\n",
            "32\n",
            "33\n",
            "34\n",
            "35\n",
            "36\n",
            "37\n",
            "38\n",
            "39\n",
            "40\n",
            "41\n",
            "42\n",
            "43\n",
            "44\n",
            "45\n",
            "46\n",
            "47\n",
            "48\n",
            "49\n"
          ]
        }
      ],
      "source": [
        "student.eval()\n",
        "\n",
        "### TODO: Evaluate the student on `NoVelocityAcrobotTarget-v0`. Be sure to run at least 10 trials.\n",
        "### Report mean and standard deviation. (10 pts)\n",
        "env = wrap_env(gym.make('NoVelocityAcrobot-v0'))\n",
        "\n",
        "num_steps = []\n",
        "for i in range(50):\n",
        "    print(i)\n",
        "    observation = env.reset()\n",
        "    step = 0\n",
        "    for i in range(1024):    \n",
        "        action = student(torch.tensor(observation))[0].sample()\n",
        "        observation, reward, done, info = env.step(action.tolist())    \n",
        "        if done:\n",
        "            step = i\n",
        "            break\n",
        "    num_steps.append(step)\n",
        "    env.close()\n"
      ]
    },
    {
      "cell_type": "code",
      "source": [
        "np.mean(num_steps) #mean = 389, std = 166"
      ],
      "metadata": {
        "id": "LDUFra0rMTHC",
        "outputId": "fe77a5d7-df42-4990-a7ac-01d60371c7f0",
        "colab": {
          "base_uri": "https://localhost:8080/"
        }
      },
      "execution_count": 22,
      "outputs": [
        {
          "output_type": "execute_result",
          "data": {
            "text/plain": [
              "162.5"
            ]
          },
          "metadata": {},
          "execution_count": 22
        }
      ]
    },
    {
      "cell_type": "markdown",
      "metadata": {
        "id": "NKJr8rCispiH"
      },
      "source": [
        "**Question (10 pts):**:  How does the student agent perform in the simulated environment without velocity (`NoVelocityAcrobot-v0`) in comparison to the teacher on the same environment with velocity measurements (`Acrobot-v1`)? \n",
        "\n",
        "**Answer**: \n",
        "\n",
        "**Question (10 pts):**:  How does the student agent perform in the target environment without velocity (`NoVelocityAcrobotTarget-v0`) in comparison to the other agents we've trained so far? Why is this so?\n",
        "\n",
        "**Answer**: "
      ]
    },
    {
      "cell_type": "markdown",
      "metadata": {
        "id": "67SxHujFbDFA"
      },
      "source": [
        "# Results Comparison\n",
        "\n",
        "Make a single plot comparing the results of transferring an agent using our three methods to reality: the naive simulation (`Acrobot-v1`), system identification (`AcrobotSystemIDSolvedEnv`), and domain randomization (`AcrobotDREnv-v0` and `AcrobotDRCompareEnv-v0`). We won't include our knowledge distillation method as the student uses a different state space which makes it a different comparison.\n",
        "\n",
        "As always, be sure to communicate both the mean and variance of your results. Be creative in how you present these results; what is the best way of illustrating the relative strengths and weaknesses of these methods, and making the plot clearly communicate the experiments that were run?\n",
        "\n",
        "(30 pts)"
      ]
    },
    {
      "cell_type": "code",
      "execution_count": null,
      "metadata": {
        "id": "QqdzcGzcbhS7"
      },
      "outputs": [],
      "source": [
        "### todo: make pretty plots.\n"
      ]
    },
    {
      "cell_type": "markdown",
      "metadata": {
        "id": "QLcgjC1HcNFe"
      },
      "source": [
        "# Survey (bonus points, 10 pts)\n",
        "Please fill out [this anonymous survey](https://docs.google.com/forms/d/e/1FAIpQLSeG6LstBLYq61NeFfhXja6Lu9-roPpEiIFP8gkJ-5fNygwrKw/viewform?usp=sf_link) and enter the code below to receive credit. Thanks!\n",
        "\n",
        "**Bonus code:** "
      ]
    },
    {
      "cell_type": "code",
      "execution_count": null,
      "metadata": {
        "id": "vyChpYKvspiI"
      },
      "outputs": [],
      "source": [
        ""
      ]
    },
    {
      "cell_type": "markdown",
      "source": [
        "# Submission\n",
        "Generate an HTML for submission by running the cell below, ensuring that your plots/code/figures show up nicely and modifying the notebook path as needed to match your Google Drive set up. Alternatively you can run the `jupyer nbconvert` commands on your local machine after downloading this notebook as an `ipynb`."
      ],
      "metadata": {
        "id": "yGpo3i1r6rBr"
      }
    },
    {
      "cell_type": "code",
      "source": [
        "from google.colab import drive\n",
        "\n",
        "drive.mount('/content/drive/')\n",
        "!jupyter nbconvert --to html '/content/drive/My Drive/path_to_notebook.ipynb'"
      ],
      "metadata": {
        "id": "E-eI8oQG68mf"
      },
      "execution_count": null,
      "outputs": []
    }
  ],
  "metadata": {
    "colab": {
      "collapsed_sections": [],
      "name": "sim2real.ipynb",
      "provenance": [],
      "machine_shape": "hm",
      "include_colab_link": true
    },
    "kernelspec": {
      "display_name": "Python 3 (ipykernel)",
      "language": "python",
      "name": "python3"
    },
    "language_info": {
      "codemirror_mode": {
        "name": "ipython",
        "version": 3
      },
      "file_extension": ".py",
      "mimetype": "text/x-python",
      "name": "python",
      "nbconvert_exporter": "python",
      "pygments_lexer": "ipython3",
      "version": "3.8.6"
    }
  },
  "nbformat": 4,
  "nbformat_minor": 0
}