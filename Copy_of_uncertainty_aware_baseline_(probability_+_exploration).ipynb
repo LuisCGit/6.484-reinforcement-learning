{
  "cells": [
    {
      "cell_type": "markdown",
      "metadata": {
        "id": "view-in-github",
        "colab_type": "text"
      },
      "source": [
        "<a href=\"https://colab.research.google.com/github/LuisCGit/6.484-reinforcement-learning/blob/main/Copy_of_uncertainty_aware_baseline_(probability_%2B_exploration).ipynb\" target=\"_parent\"><img src=\"https://colab.research.google.com/assets/colab-badge.svg\" alt=\"Open In Colab\"/></a>"
      ]
    },
    {
      "cell_type": "markdown",
      "metadata": {
        "id": "7AGouWesMiIR"
      },
      "source": [
        "# Spring 2022 6.484 Computational Sensorimotor Learning Assignment 2\n",
        "\n",
        "In this assignment, we will implement model-free RL algorithms from scratch to solve `DoorKeyEnv5x5`.  We will cover:\n",
        "\n",
        "\n",
        "* REINFORCE\n",
        "* Vanilla Policy Gradient (VPG)\n",
        "* Generalized Advantage Estimation (GAE)\n",
        "* Proximal Policy Optimization (PPO)\n",
        "\n",
        "You will need to **answer the bolded questions** and **fill in the missing code snippets** (marked by **TODO**).\n",
        "\n",
        "There are (approximately) **150** total points to be had in this PSET.  `ctrl-f` for \"pts\" to ensure you don't miss questions.\n",
        "\n",
        "**_Please fill in your name below:_**\n",
        "\n",
        "**Name**: Luis Costa Laveron"
      ]
    },
    {
      "cell_type": "markdown",
      "metadata": {
        "id": "RRdsOe1INwSL"
      },
      "source": [
        "## Setup\n",
        "\n",
        "The following code sets up requirements, imports, and helper functions (you can ignore this)."
      ]
    },
    {
      "cell_type": "code",
      "execution_count": 2,
      "metadata": {
        "id": "jX9eHiRsbDdX"
      },
      "outputs": [],
      "source": [
        "!pip install gym-minigrid &>/dev/null"
      ]
    },
    {
      "cell_type": "code",
      "execution_count": 16,
      "metadata": {
        "id": "oZDM2oukbDdc"
      },
      "outputs": [],
      "source": [
        "import torch\n",
        "import torch.nn as nn\n",
        "from torch.distributions.categorical import Categorical\n",
        "import torch.nn.functional as F\n",
        "import gym_minigrid\n",
        "import numpy as np\n",
        "import matplotlib.pyplot as plt\n",
        "import gym\n",
        "from tqdm.notebook import tqdm\n",
        "from gym_minigrid.envs.doorkey import DoorKeyEnv\n",
        "import pandas as pd\n",
        "import itertools\n",
        "import random\n",
        "import seaborn as sns\n",
        "import math\n",
        "import pickle"
      ]
    },
    {
      "cell_type": "code",
      "execution_count": 4,
      "metadata": {
        "id": "P6yYDc3bN6DU"
      },
      "outputs": [],
      "source": [
        "# Function from https://github.com/ikostrikov/pytorch-a2c-ppo-acktr/blob/master/model.py\n",
        "def init_params(m):\n",
        "    classname = m.__class__.__name__\n",
        "    if classname.find(\"Linear\") != -1:\n",
        "        m.weight.data.normal_(0, 1)\n",
        "        m.weight.data *= 1 / torch.sqrt(m.weight.data.pow(2).sum(1, keepdim=True))\n",
        "        if m.bias is not None:\n",
        "            m.bias.data.fill_(0)\n",
        "\n",
        "def preprocess_obss(obss, device=None):\n",
        "    if isinstance(obss, dict):\n",
        "        images = np.array([obss[\"image\"]])\n",
        "    else:\n",
        "        images = np.array([o[\"image\"] for o in obss])\n",
        "    \n",
        "    return torch.tensor(images, device=device, dtype=torch.float)\n",
        "\n",
        "class DoorKeyEnv5x5(DoorKeyEnv):\n",
        "    def __init__(self):\n",
        "        super().__init__(size=5)\n",
        "    \n",
        "    def _reward(self):\n",
        "        \"\"\"\n",
        "        Compute the reward to be given upon success\n",
        "        \"\"\"\n",
        "        return 1"
      ]
    },
    {
      "cell_type": "code",
      "execution_count": 5,
      "metadata": {
        "id": "Dl6tYW2aJ3Ji"
      },
      "outputs": [],
      "source": [
        "class Config:\n",
        "    def __init__(self,\n",
        "                score_threshold=0.93,\n",
        "                discount=0.995,\n",
        "                lr=1e-3,\n",
        "                max_grad_norm=0.5,\n",
        "                log_interval=10,\n",
        "                max_episodes=2000,\n",
        "                gae_lambda=0.95,\n",
        "                use_critic=False,\n",
        "                clip_ratio=0.2,\n",
        "                target_kl=0.01,\n",
        "                train_ac_iters=5,\n",
        "                use_discounted_reward=False,\n",
        "                entropy_coef=0.01,\n",
        "                use_gae=False):\n",
        "        \n",
        "        self.score_threshold = score_threshold\n",
        "        self.discount = discount\n",
        "        self.lr = lr\n",
        "        self.max_grad_norm = max_grad_norm\n",
        "        self.log_interval = log_interval\n",
        "        self.max_episodes = max_episodes\n",
        "        self.use_critic = use_critic\n",
        "        self.clip_ratio = clip_ratio\n",
        "        self.target_kl = target_kl\n",
        "        self.train_ac_iters = train_ac_iters\n",
        "        self.gae_lambda=gae_lambda\n",
        "        self.use_discounted_reward=use_discounted_reward\n",
        "        self.entropy_coef = entropy_coef\n",
        "        self.use_gae = use_gae"
      ]
    },
    {
      "cell_type": "markdown",
      "metadata": {
        "id": "98WOwXCKP54C"
      },
      "source": [
        "# Task (Environment)\n",
        "\n",
        "In this assignment, we will work with the `DoorKeyEnv5x5` environment from [gym_miniworld](https://github.com/maximecb/gym-minigrid). This environment is a $5\\times 5$ gridworld. The agent needs to pick up the key, open the door, and then go the the green cell. The agent gets a $+1$ reward if it reaches the green cell, and a $0$ reward otherwise.\n",
        "\n",
        "The environment is visually shown below:\n",
        "\n",
        "![image.png](data:image/png;base64,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)"
      ]
    },
    {
      "cell_type": "code",
      "execution_count": 6,
      "metadata": {
        "id": "CvgnCnitP54D"
      },
      "outputs": [],
      "source": [
        "env = DoorKeyEnv5x5()"
      ]
    },
    {
      "cell_type": "markdown",
      "metadata": {
        "id": "HD17fnXWP54D"
      },
      "source": [
        "**Question**: What does `env.reset()` return? What does each item returned mean? What's the shape of the image in the observation? How about the action space? What does each action mean? (Hint: You may find the source code of gym_minigrid helpful.) (10 pts)\n",
        "\n",
        "**A**: `env.reset()` returns an observation variable, which is a dictionary that contains the current view of the environment (as an image)., agent's facing direction (0: right, 1: down, 2: left, 3: up), a mission description as a string. The current view of the environment has a similar format as a normal 3-channel image (shape: $7\\times7\\times3$), but it is not an actual image. The values are not pixels. Each value represents a state of the object on that location. Checkout [the source code](https://github.com/maximecb/gym-minigrid/blob/master/gym_minigrid/minigrid.py) for more details. The action space is $7$-dimensional: 0: turn left, 1: turn right, 2: forward, 3: pickup an object, 4: drop an object, 5: activate an object, 6: done completing task."
      ]
    },
    {
      "cell_type": "markdown",
      "metadata": {
        "id": "mBTY5ky9N8uC"
      },
      "source": [
        "# Model\n",
        "\n",
        "In Deep Q-Learning, we estimated the value function for each (state, action) pair. In policy gradients, we will directly learn a policy: i.e, for each state, predict an action!  We call this policy network the *actor*.\n",
        "\n",
        "Our *actor* will take in as input the `DoorKeyEnv5x5` observation (a 7x7x3 image), and output a categorical distribution over all possible actions.  To choose an action, we will sample from this distribution.  We suggest implementing the actor network to contain a few convolutional layers, followed by a few fully-connected layers.\n",
        "\n",
        "In addition to the actor network, later questions in the PSET require estimating the value network, called the *critic*.  The critic estimates total future reward, much like DQN in PSET 3, but is notably *on-policy*, meaning it's reward estimates are conditioned on the actor. We will use the critic to reduce variance in the policy gradient estimate. We will get to that soon. \n",
        "\n",
        "We have provided you a reference architecture to use for your actor-critic networks. Note that we have separate networks for each that do not share weights, as this has been shown to empirically improve performance. Also note that the policy outputs a `torch.distributions.categorical.Categorical` object.\n"
      ]
    },
    {
      "cell_type": "code",
      "execution_count": 7,
      "metadata": {
        "id": "fTpcS-cYbDdd"
      },
      "outputs": [],
      "source": [
        "#https://discuss.pytorch.org/t/how-can-i-connect-a-new-neural-network-after-a-trained-neural-network-and-optimize-them-together/48293/4\n",
        "class Critic(nn.Module):\n",
        "  def __init__(self):\n",
        "    super().__init__()\n",
        "    self.conv = nn.Sequential(\n",
        "                        nn.Conv2d(3, 16, (2, 2)),\n",
        "                        nn.ReLU(),\n",
        "                        nn.MaxPool2d((2, 2)),\n",
        "                        nn.Conv2d(16, 32, (2, 2)),\n",
        "                        nn.ReLU(),\n",
        "                        nn.Conv2d(32, 64, (2, 2)),\n",
        "                        nn.ReLU()\n",
        "                      )\n",
        "    self.lin = nn.Sequential(\n",
        "                        nn.Linear(64, 64),\n",
        "                        nn.Tanh(),\n",
        "                        nn.Linear(64, 1)\n",
        "                      )\n",
        "  def forward(self, obs):\n",
        "    conv_in = obs.transpose(1, 3).transpose(2, 3)\n",
        "    y = self.conv(conv_in)\n",
        "    embedding = y.reshape(y.shape[0], -1)\n",
        "    v = self.lin(embedding).squeeze(1)\n",
        "    return v\n",
        "\n",
        "\n",
        "\n",
        "class ACModel(nn.Module):\n",
        "    def __init__(self, num_actions, use_critic=False,num_critics=1):\n",
        "        super().__init__()\n",
        "        self.use_critic = use_critic\n",
        "        self.num_critics = num_critics\n",
        "\n",
        "        ##### TODO: initialize actor and critic networks #######\n",
        "        \n",
        "        # Define actor's model\n",
        "        self.image_conv_actor = nn.Sequential(\n",
        "            nn.Conv2d(3, 16, (2, 2)),\n",
        "            nn.ReLU(),\n",
        "            nn.MaxPool2d((2, 2)),\n",
        "            nn.Conv2d(16, 32, (2, 2)),\n",
        "            nn.ReLU(),\n",
        "            nn.Conv2d(32, 64, (2, 2)),\n",
        "            nn.ReLU()\n",
        "        )\n",
        "        self.actor = nn.Sequential(\n",
        "            nn.Linear(64, 64),\n",
        "            nn.Tanh(),\n",
        "            nn.Linear(64, num_actions)\n",
        "        )\n",
        "\n",
        "        # Define critic's model\n",
        "        if self.use_critic:\n",
        "            critics = nn.ModuleList()\n",
        "            for i in range(num_critics):\n",
        "              critics.append(Critic())\n",
        "            self.critics = critics\n",
        "        ########################################################\n",
        "\n",
        "        # Initialize parameters correctly (don't remove this!)\n",
        "        self.apply(init_params)\n",
        "\n",
        "    def forward(self, obs):\n",
        "        conv_in = obs.transpose(1, 3).transpose(2, 3) # reshape into expected order\n",
        "\n",
        "        dist, value = None, None\n",
        "        ##### TODO: produce Categorical action distribtuion and critic value output #####\n",
        "        ##### if self.use_critic is false, return all zeros for value ###################\n",
        "        x = self.image_conv_actor(conv_in)\n",
        "        embedding = x.reshape(x.shape[0], -1)\n",
        "\n",
        "        x = self.actor(embedding)\n",
        "        dist = Categorical(logits=F.log_softmax(x, dim=1))\n",
        "\n",
        "        if self.use_critic:\n",
        "            # y = self.image_conv_critic(conv_in)\n",
        "            # embedding = y.reshape(y.shape[0], -1)\n",
        "\n",
        "            # value = self.critic(embedding).squeeze(1)\n",
        "            value = torch.zeros((x.shape[0], self.num_critics), device=x.device)\n",
        "            for i, critic in enumerate(self.critics):\n",
        "              value[:,i] = critic(obs)\n",
        "        else:\n",
        "            value = torch.zeros((x.shape[0], 1), device=x.device)\n",
        "        ##################################################################################\n",
        "\n",
        "        return dist, value"
      ]
    },
    {
      "cell_type": "markdown",
      "metadata": {
        "id": "I9mwBFZ3RowL"
      },
      "source": [
        "# Model Evaluation\n",
        "\n",
        "The following code runs the actor critic model `acmodel` for one episode, and returns a dictionary with all the relevant information from the rollout.  It relies on placeholders below for `compute_advantage_gae` and `compute_discounted_return`: you can ignore these for now, and just evaluate through to the next section.  However, it might be useful to review this code just to make sure you understand what's going on."
      ]
    },
    {
      "cell_type": "code",
      "execution_count": 8,
      "metadata": {
        "id": "d-Wv0yZDR-cZ"
      },
      "outputs": [],
      "source": [
        "def compute_advantage_gae(values, rewards, T, gae_lambda, discount, pbar, uncertainty_aware = True):\n",
        "    vars = values.var(dim=1)\n",
        "    values = values.mean(dim=1)\n",
        "    advantages = torch.zeros_like(values)\n",
        "\n",
        "    #### TODO: populate GAE in advantages over T timesteps (10 pts) ############\n",
        "    for i in reversed(range(T)):\n",
        "        next_value = values[i+1]\n",
        "        next_advantage = advantages[i+1]\n",
        "\n",
        "        delta = rewards[i] + args.discount * next_value  - values[i]\n",
        "        advantages[i] = delta + args.discount * args.gae_lambda * next_advantage \n",
        "    ############################################################################\n",
        "    #print(\"OLD ADV: \", advantages)\n",
        "    if uncertainty_aware:\n",
        "      advantages = advantages * torch.exp(1/math.log(pbar+2) * vars - vars)\n",
        "    #print(\"NEW ADV: \", advantages)\n",
        "    return advantages[:T]"
      ]
    },
    {
      "cell_type": "code",
      "execution_count": 9,
      "metadata": {
        "id": "67XzIFyRSARg"
      },
      "outputs": [],
      "source": [
        "def compute_discounted_return(rewards, discount, device=None):\n",
        "    returns = torch.zeros(*rewards.shape, device=device)\n",
        "\n",
        "    #### TODO: populate discounted reward trajectory (10 pts) ############\n",
        "    R = 0\n",
        "    for t in reversed(range((rewards.shape[0]))):\n",
        "        R = rewards[t] + discount * R\n",
        "        returns[t] = R\n",
        "    ######################################################################\n",
        "\n",
        "    return returns"
      ]
    },
    {
      "cell_type": "code",
      "execution_count": 10,
      "metadata": {
        "id": "ekC6vsRzbDdd"
      },
      "outputs": [],
      "source": [
        "def collect_experiences(env, acmodel, args, pbar, device=None):\n",
        "    \"\"\"Collects rollouts and computes advantages.\n",
        "    Returns\n",
        "    -------\n",
        "    exps : dict\n",
        "        Contains actions, rewards, advantages etc as attributes.\n",
        "        Each attribute, e.g. `exps['reward']` has a shape\n",
        "        (self.num_frames, ...).\n",
        "    logs : dict\n",
        "        Useful stats about the training process, including the average\n",
        "        reward, policy loss, value loss, etc.\n",
        "    \"\"\"\n",
        "\n",
        "\n",
        "    MAX_FRAMES_PER_EP = 300\n",
        "    shape = (MAX_FRAMES_PER_EP, )\n",
        "\n",
        "    actions = torch.zeros(*shape, device=device, dtype=torch.int)\n",
        "    values = torch.zeros((MAX_FRAMES_PER_EP, acmodel.num_critics), device=device)\n",
        "    rewards = torch.zeros(*shape, device=device)\n",
        "    log_probs = torch.zeros(*shape, device=device)\n",
        "    obss = [None]*MAX_FRAMES_PER_EP\n",
        "\n",
        "    obs = env.reset()\n",
        "\n",
        "    total_return = 0\n",
        "\n",
        "    T = 0\n",
        "\n",
        "    while True:\n",
        "        # Do one agent-environment interaction\n",
        "\n",
        "        preprocessed_obs = preprocess_obss(obs, device=device)\n",
        "        \n",
        "        with torch.no_grad():\n",
        "            dist, value = acmodel(preprocessed_obs)\n",
        "        action = dist.sample()[0]\n",
        "\n",
        "\n",
        "        obss[T] = obs\n",
        "        obs, reward, done, _ = env.step(action.item())\n",
        "\n",
        "\n",
        "        # Update experiences values\n",
        "        actions[T] = action\n",
        "        values[T] = value\n",
        "        rewards[T] = reward\n",
        "        log_probs[T] = dist.log_prob(action)\n",
        "\n",
        "\n",
        "        total_return += reward\n",
        "        T += 1\n",
        "\n",
        "        if done:\n",
        "            break\n",
        "\n",
        "    discounted_reward = compute_discounted_return(rewards[:T], args.discount, device)\n",
        "    if acmodel.num_critics == 1:\n",
        "      advantage_gae=compute_advantage_gae(values, rewards, T, args.gae_lambda, args.discount, pbar = pbar, uncertainty_aware = False)\n",
        "    else:\n",
        "      advantage_gae=compute_advantage_gae(values, rewards, T, args.gae_lambda, args.discount, pbar = pbar, uncertainty_aware = True)\n",
        "    exps = dict(\n",
        "        obs = preprocess_obss([\n",
        "            obss[i]\n",
        "            for i in range(T)\n",
        "        ], device=device),\n",
        "        action = actions[:T],\n",
        "        value  = values[:T],\n",
        "        reward = rewards[:T],\n",
        "        advantage = discounted_reward-values[:T,:].mean(dim=1),\n",
        "        log_prob = log_probs[:T],\n",
        "        discounted_reward = discounted_reward,\n",
        "        advantage_gae=advantage_gae\n",
        "    )\n",
        "\n",
        "    logs = {\n",
        "        \"return_per_episode\": total_return,\n",
        "        \"num_frames\": T\n",
        "    }\n",
        "\n",
        "    return exps, logs"
      ]
    },
    {
      "cell_type": "markdown",
      "metadata": {
        "id": "XfKUViEGbDde"
      },
      "source": [
        "# REINFORCE\n",
        "\n",
        "Now comes the fun part!  Using the `collect_experiences` function and `ACModel`, we will implement vanilla policy gradients.  The following function takes in an `optimizer`, `ACModel`, batch of experience `sb`, and some arguments `args` (see `Config` in setup for fields and default values), and should perform a policy gradients parameter update using the observed experience.\n",
        "\n",
        "Fill in todos below to implement vanilla policy gradients (20 pts)."
      ]
    },
    {
      "cell_type": "markdown",
      "metadata": {
        "id": "zvcEFkasu2PA"
      },
      "source": [
        ""
      ]
    },
    {
      "cell_type": "code",
      "execution_count": 11,
      "metadata": {
        "id": "bzrKmjywSE0H"
      },
      "outputs": [],
      "source": [
        "def update_parameters_reinforce(optimizer, acmodel, sb, args):\n",
        "    def _compute_policy_loss(logps, returns):\n",
        "        policy_loss = torch.tensor(0)\n",
        "\n",
        "        #### TODO: complete policy loss (10 pts) ###\n",
        "        policy_loss = -(logps * returns).mean()\n",
        "        ############################################\n",
        "\n",
        "        return policy_loss\n",
        "\n",
        "\n",
        "    logps, reward = None, None\n",
        "    \n",
        "    ### TODO: compute logps and reward from acmodel, sb['obs'], sb['action'], and sb['reward'] ###\n",
        "    ### If args.use_discounted_reward is True, use sb['discounted_reward'] instead. ##############\n",
        "    ### (10 pts) #########################################\n",
        "    dist, _= acmodel(sb['obs'])           \n",
        "    logps = dist.log_prob(sb['action']) \n",
        "\n",
        "    # NOTE: simply setting rewards = sb['reward'] is also sufficient for full credit due to \n",
        "    # some abiguities on our part\n",
        "    if args.use_discounted_reward:\n",
        "        reward = sb['discounted_reward']\n",
        "    else:\n",
        "        rewards = sb['reward']\n",
        "        rewards_len = rewards.size()[0]\n",
        "        returns = np.zeros((rewards_len)).astype(np.float32)\n",
        "        R = 0\n",
        "        for t in reversed(range((rewards_len))):\n",
        "            R = rewards[t] + R\n",
        "            returns[t] = R\n",
        "        reward = torch.from_numpy(returns).to(sb['reward'].device)\n",
        "    ##############################################################################################\n",
        "\n",
        "    policy_loss = _compute_policy_loss(logps, reward)\n",
        "    update_policy_loss = policy_loss.item()\n",
        "\n",
        "    # Update actor-critic\n",
        "    optimizer.zero_grad()\n",
        "    policy_loss.backward()\n",
        "    \n",
        "    # Perform gradient clipping for stability\n",
        "    for p in acmodel.parameters():\n",
        "        if p.grad is None:\n",
        "            print(\"Make sure you're not instantiating any critic variables when the critic is not used\")\n",
        "    update_grad_norm = sum(p.grad.data.norm(2) ** 2 for p in acmodel.parameters()) ** 0.5\n",
        "    torch.nn.utils.clip_grad_norm_(acmodel.parameters(), args.max_grad_norm)\n",
        "    optimizer.step()\n",
        "\n",
        "    # Log some values\n",
        "    logs = {\n",
        "        \"policy_loss\": update_policy_loss,\n",
        "        \"grad_norm\": update_grad_norm\n",
        "    }\n",
        "\n",
        "    return logs"
      ]
    },
    {
      "cell_type": "markdown",
      "metadata": {
        "id": "OC--D8zMVBtW"
      },
      "source": [
        "Now, let's try to run our implementation.  The following experiment harness is written for you, and will run sequential episodes of policy gradients until `args.max_episodes` timesteps are exceeded or the rolling average reward (over the last 100 episodes is greater than `args.score_threshold`. It is expected to get highly variable results, and we'll visualize some of this variability at the end.\n",
        "\n",
        "The method accepts as arguments a `Config` object `args`, and a `parameter_update` method (such as `update_parameters_reinforce`)."
      ]
    },
    {
      "cell_type": "code",
      "execution_count": 12,
      "metadata": {
        "id": "HiPziB2AbDdf"
      },
      "outputs": [],
      "source": [
        "# def run_experiment(args, parameter_update):\n",
        "#     device = torch.device(\"cuda\" if torch.cuda.is_available() else \"cpu\")\n",
        "#     env = DoorKeyEnv5x5()\n",
        "\n",
        "#     acmodel = ACModel(env.action_space.n, use_critic=args.use_critic, num_critics = args.num_critics)\n",
        "#     acmodel.to(device)\n",
        "\n",
        "#     is_solved = False\n",
        "    \n",
        "#     SMOOTH_REWARD_WINDOW = 50\n",
        "\n",
        "#     pd_logs, rewards = [], [0]*SMOOTH_REWARD_WINDOW\n",
        "#     actor_params = itertools.islice(acmodel.parameters(), 5)\n",
        "#     #critics_params = itertools.islice(acmodel.parameters(), 5, 5*(acmodel.num_critics+1), 1)\n",
        "#     optimizer_actor = torch.optim.Adam(actor_params, lr=args.lr)\n",
        "#     #optimizer_critic = torch.optim.Adam(critics_params, lr=args.lr)\n",
        "#     num_frames = 0\n",
        "\n",
        "#     pbar = tqdm(range(args.max_episodes))\n",
        "#     for update in pbar:\n",
        "#         #exps, logs1 = collect_experiences(env, acmodel, args, device)\n",
        "#         exp_batch = [collect_experiences(env, acmodel, args, pbar = update, device) for _ in range(args.batch_size)]\n",
        "#         for i, (exp, logs) in enumerate(exp_batch):\n",
        "#           #update policy on exp \n",
        "#           logs_actor = parameter_update(optimizer_actor, acmodel, exp, args, target_params = \"actor\")\n",
        "#           #log data\n",
        "#           rewards.append(logs[\"return_per_episode\"])\n",
        "#           num_frames += logs[\"num_frames\"]\n",
        "#           smooth_reward = np.mean(rewards[-SMOOTH_REWARD_WINDOW:])\n",
        "\n",
        "#           data = {'episode':update*args.batch_size + i, 'num_frames':num_frames, 'smooth_reward':smooth_reward,\n",
        "#                 'reward':logs[\"return_per_episode\"], 'policy_loss':logs_actor[\"policy_loss\"]}\n",
        "#           if args.use_critic:\n",
        "#             data['value_loss'] = logs_actor[\"value_loss\"]\n",
        "#           pd_logs.append(data)\n",
        "#           pbar.set_postfix(data)\n",
        "#           # Early terminate\n",
        "#           if smooth_reward >= args.score_threshold:\n",
        "#               is_solved = True\n",
        "#               break\n",
        "\n",
        "#         if is_solved: break\n",
        "#         for b in range(acmodel.num_critics):\n",
        "#           boot_D = [random.choice(exp_batch) for _ in exp_batch]\n",
        "#           for exp, logs in boot_D:\n",
        "#             critic_params = acmodel.critics[b].parameters()\n",
        "#             optimizer_critic = torch.optim.Adam(critic_params, lr=args.lr)\n",
        "#             logs_critic = parameter_update(optimizer_critic, acmodel, exp, args, target_params = \"critic\",critic_index = b)\n",
        "\n",
        "#         #logs = {**exp_batch[-1][1], **logs_actor}\n",
        "\n",
        "#         #num_frames += logs[\"num_frames\"]\n",
        "        \n",
        "#         #rewards.append(logs[\"return_per_episode\"])\n",
        "        \n",
        "\n",
        "#         # data = {'episode':update*batch_size, 'num_frames':num_frames, 'smooth_reward':smooth_reward,\n",
        "#         #         'reward':logs[\"return_per_episode\"], 'policy_loss':logs[\"policy_loss\"]}\n",
        "        \n",
        "#         # if args.use_critic:\n",
        "#         #     data['value_loss'] = logs[\"value_loss\"]\n",
        "\n",
        "#         # pd_logs.append(data)\n",
        "\n",
        "#         # pbar.set_postfix(data)\n",
        "\n",
        "\n",
        "#     if is_solved:\n",
        "#         print('Solved!')\n",
        "    \n",
        "#     return pd.DataFrame(pd_logs).set_index('episode')\n"
      ]
    },
    {
      "cell_type": "code",
      "source": [
        "def run_experiment(args, parameter_update):\n",
        "    device = torch.device(\"cuda\" if torch.cuda.is_available() else \"cpu\")\n",
        "    env = DoorKeyEnv5x5()\n",
        "\n",
        "    acmodel = ACModel(env.action_space.n, use_critic=args.use_critic, num_critics = args.num_critics)\n",
        "    acmodel.to(device)\n",
        "\n",
        "    is_solved = False\n",
        "    \n",
        "    SMOOTH_REWARD_WINDOW = 50\n",
        "\n",
        "    pd_logs, rewards = [], [0]*SMOOTH_REWARD_WINDOW\n",
        "    actor_params = acmodel.parameters()\n",
        "    optimizer_actor = torch.optim.Adam(actor_params, lr=args.lr)\n",
        "    num_frames = 0\n",
        "\n",
        "    pbar = tqdm(range(args.max_episodes))\n",
        "    for update in pbar:\n",
        "        exp, logs = collect_experiences(env, acmodel, args, update, device)\n",
        "        logs_actor = parameter_update(optimizer_actor, acmodel, exp, args, target_params = \"actor\")\n",
        "        #log data\n",
        "        rewards.append(logs[\"return_per_episode\"])\n",
        "        num_frames += logs[\"num_frames\"]\n",
        "        smooth_reward = np.mean(rewards[-SMOOTH_REWARD_WINDOW:])\n",
        "        data = {'episode':update, 'num_frames':num_frames, 'smooth_reward':smooth_reward,\n",
        "                'reward':logs[\"return_per_episode\"], 'policy_loss':logs_actor[\"policy_loss\"]}\n",
        "          \n",
        "        if args.use_critic:\n",
        "          data['value_loss'] = logs_actor[\"value_loss\"]\n",
        "        pd_logs.append(data)\n",
        "        pbar.set_postfix(data)\n",
        "        # Early terminate\n",
        "        if smooth_reward >= args.score_threshold:\n",
        "            is_solved = True\n",
        "            break\n",
        "        if is_solved: break\n",
        "        for b in range(acmodel.num_critics):\n",
        "          if (np.random.random() <= 0.67) or (acmodel.num_critics == 1):\n",
        "            critic_params = acmodel.critics[b].parameters()\n",
        "            optimizer_critic = torch.optim.Adam(critic_params, lr=args.lr)\n",
        "            logs_critic = parameter_update(optimizer_critic, acmodel, exp, args, target_params = \"critic\",critic_index = b)\n",
        "\n",
        "    if is_solved:\n",
        "        print('Solved!')\n",
        "    \n",
        "    return pd.DataFrame(pd_logs).set_index('episode')\n"
      ],
      "metadata": {
        "id": "eSfAaWCV-3Zc"
      },
      "execution_count": 13,
      "outputs": []
    },
    {
      "cell_type": "markdown",
      "metadata": {
        "id": "mt63uqbfVmxl"
      },
      "source": [
        "## Run Reinforce\n",
        "\n",
        "Great!  Now let's run our implementation, and see how we do."
      ]
    },
    {
      "cell_type": "code",
      "execution_count": null,
      "metadata": {
        "colab": {
          "base_uri": "https://localhost:8080/",
          "height": 385
        },
        "id": "mPxIilNE4NXf",
        "outputId": "a055ca74-d66c-4efc-85a3-f7c09e523b05"
      },
      "outputs": [
        {
          "output_type": "error",
          "ename": "AttributeError",
          "evalue": "ignored",
          "traceback": [
            "\u001b[0;31m---------------------------------------------------------------------------\u001b[0m",
            "\u001b[0;31mAttributeError\u001b[0m                            Traceback (most recent call last)",
            "\u001b[0;32m<ipython-input-12-a669e7cca383>\u001b[0m in \u001b[0;36m<module>\u001b[0;34m()\u001b[0m\n\u001b[1;32m      1\u001b[0m \u001b[0margs\u001b[0m \u001b[0;34m=\u001b[0m \u001b[0mConfig\u001b[0m\u001b[0;34m(\u001b[0m\u001b[0;34m)\u001b[0m\u001b[0;34m\u001b[0m\u001b[0;34m\u001b[0m\u001b[0m\n\u001b[0;32m----> 2\u001b[0;31m \u001b[0mdf\u001b[0m \u001b[0;34m=\u001b[0m \u001b[0mrun_experiment\u001b[0m\u001b[0;34m(\u001b[0m\u001b[0margs\u001b[0m\u001b[0;34m,\u001b[0m \u001b[0mupdate_parameters_reinforce\u001b[0m\u001b[0;34m)\u001b[0m\u001b[0;34m\u001b[0m\u001b[0;34m\u001b[0m\u001b[0m\n\u001b[0m\u001b[1;32m      3\u001b[0m \u001b[0;34m\u001b[0m\u001b[0m\n\u001b[1;32m      4\u001b[0m \u001b[0mdf\u001b[0m\u001b[0;34m.\u001b[0m\u001b[0mplot\u001b[0m\u001b[0;34m(\u001b[0m\u001b[0mx\u001b[0m\u001b[0;34m=\u001b[0m\u001b[0;34m'num_frames'\u001b[0m\u001b[0;34m,\u001b[0m \u001b[0my\u001b[0m\u001b[0;34m=\u001b[0m\u001b[0;34m'reward'\u001b[0m\u001b[0;34m)\u001b[0m\u001b[0;34m\u001b[0m\u001b[0;34m\u001b[0m\u001b[0m\n",
            "\u001b[0;32m<ipython-input-11-0de057bdae1f>\u001b[0m in \u001b[0;36mrun_experiment\u001b[0;34m(args, parameter_update)\u001b[0m\n\u001b[1;32m      3\u001b[0m     \u001b[0menv\u001b[0m \u001b[0;34m=\u001b[0m \u001b[0mDoorKeyEnv5x5\u001b[0m\u001b[0;34m(\u001b[0m\u001b[0;34m)\u001b[0m\u001b[0;34m\u001b[0m\u001b[0;34m\u001b[0m\u001b[0m\n\u001b[1;32m      4\u001b[0m \u001b[0;34m\u001b[0m\u001b[0m\n\u001b[0;32m----> 5\u001b[0;31m     \u001b[0macmodel\u001b[0m \u001b[0;34m=\u001b[0m \u001b[0mACModel\u001b[0m\u001b[0;34m(\u001b[0m\u001b[0menv\u001b[0m\u001b[0;34m.\u001b[0m\u001b[0maction_space\u001b[0m\u001b[0;34m.\u001b[0m\u001b[0mn\u001b[0m\u001b[0;34m,\u001b[0m \u001b[0muse_critic\u001b[0m\u001b[0;34m=\u001b[0m\u001b[0margs\u001b[0m\u001b[0;34m.\u001b[0m\u001b[0muse_critic\u001b[0m\u001b[0;34m,\u001b[0m \u001b[0mnum_critics\u001b[0m \u001b[0;34m=\u001b[0m \u001b[0margs\u001b[0m\u001b[0;34m.\u001b[0m\u001b[0mnum_critics\u001b[0m\u001b[0;34m)\u001b[0m\u001b[0;34m\u001b[0m\u001b[0;34m\u001b[0m\u001b[0m\n\u001b[0m\u001b[1;32m      6\u001b[0m     \u001b[0macmodel\u001b[0m\u001b[0;34m.\u001b[0m\u001b[0mto\u001b[0m\u001b[0;34m(\u001b[0m\u001b[0mdevice\u001b[0m\u001b[0;34m)\u001b[0m\u001b[0;34m\u001b[0m\u001b[0;34m\u001b[0m\u001b[0m\n\u001b[1;32m      7\u001b[0m \u001b[0;34m\u001b[0m\u001b[0m\n",
            "\u001b[0;31mAttributeError\u001b[0m: 'Config' object has no attribute 'num_critics'"
          ]
        }
      ],
      "source": [
        "args = Config()\n",
        "df = run_experiment(args, update_parameters_reinforce)\n",
        "\n",
        "df.plot(x='num_frames', y='reward')"
      ]
    },
    {
      "cell_type": "code",
      "execution_count": null,
      "metadata": {
        "colab": {
          "base_uri": "https://localhost:8080/"
        },
        "id": "t4woYuSzR3Aw",
        "outputId": "58e5ea5a-b78a-485c-a513-c2e2654028ee"
      },
      "outputs": [
        {
          "output_type": "error",
          "ename": "NameError",
          "evalue": "ignored",
          "traceback": [
            "\u001b[0;31m---------------------------------------------------------------------------\u001b[0m",
            "\u001b[0;31mNameError\u001b[0m                                 Traceback (most recent call last)",
            "\u001b[0;32m<ipython-input-28-a669e7cca383>\u001b[0m in \u001b[0;36m<module>\u001b[0;34m()\u001b[0m\n\u001b[1;32m      1\u001b[0m \u001b[0margs\u001b[0m \u001b[0;34m=\u001b[0m \u001b[0mConfig\u001b[0m\u001b[0;34m(\u001b[0m\u001b[0;34m)\u001b[0m\u001b[0;34m\u001b[0m\u001b[0;34m\u001b[0m\u001b[0m\n\u001b[0;32m----> 2\u001b[0;31m \u001b[0mdf\u001b[0m \u001b[0;34m=\u001b[0m \u001b[0mrun_experiment\u001b[0m\u001b[0;34m(\u001b[0m\u001b[0margs\u001b[0m\u001b[0;34m,\u001b[0m \u001b[0mupdate_parameters_reinforce\u001b[0m\u001b[0;34m)\u001b[0m\u001b[0;34m\u001b[0m\u001b[0;34m\u001b[0m\u001b[0m\n\u001b[0m\u001b[1;32m      3\u001b[0m \u001b[0;34m\u001b[0m\u001b[0m\n\u001b[1;32m      4\u001b[0m \u001b[0mdf\u001b[0m\u001b[0;34m.\u001b[0m\u001b[0mplot\u001b[0m\u001b[0;34m(\u001b[0m\u001b[0mx\u001b[0m\u001b[0;34m=\u001b[0m\u001b[0;34m'num_frames'\u001b[0m\u001b[0;34m,\u001b[0m \u001b[0my\u001b[0m\u001b[0;34m=\u001b[0m\u001b[0;34m'reward'\u001b[0m\u001b[0;34m)\u001b[0m\u001b[0;34m\u001b[0m\u001b[0;34m\u001b[0m\u001b[0m\n",
            "\u001b[0;32m<ipython-input-26-7fef0ede01b1>\u001b[0m in \u001b[0;36mrun_experiment\u001b[0;34m(args, parameter_update)\u001b[0m\n\u001b[1;32m     14\u001b[0m     \u001b[0moptimizer\u001b[0m \u001b[0;34m=\u001b[0m \u001b[0mtorch\u001b[0m\u001b[0;34m.\u001b[0m\u001b[0moptim\u001b[0m\u001b[0;34m.\u001b[0m\u001b[0mAdam\u001b[0m\u001b[0;34m(\u001b[0m\u001b[0macmodel\u001b[0m\u001b[0;34m.\u001b[0m\u001b[0mparameters\u001b[0m\u001b[0;34m(\u001b[0m\u001b[0;34m)\u001b[0m\u001b[0;34m,\u001b[0m \u001b[0mlr\u001b[0m\u001b[0;34m=\u001b[0m\u001b[0margs\u001b[0m\u001b[0;34m.\u001b[0m\u001b[0mlr\u001b[0m\u001b[0;34m)\u001b[0m\u001b[0;34m\u001b[0m\u001b[0;34m\u001b[0m\u001b[0m\n\u001b[1;32m     15\u001b[0m     \u001b[0;31m#print(\"acmodel.parameters() : \", acmodel.parameters())\u001b[0m\u001b[0;34m\u001b[0m\u001b[0;34m\u001b[0m\u001b[0;34m\u001b[0m\u001b[0m\n\u001b[0;32m---> 16\u001b[0;31m     \u001b[0mprint\u001b[0m\u001b[0;34m(\u001b[0m\u001b[0;34m\"length acmodel.parameters(): \"\u001b[0m\u001b[0;34m,\u001b[0m \u001b[0mlen\u001b[0m\u001b[0;34m(\u001b[0m\u001b[0;34m[\u001b[0m\u001b[0mx\u001b[0m \u001b[0;32mfor\u001b[0m \u001b[0mx\u001b[0m \u001b[0;32min\u001b[0m \u001b[0mmodel\u001b[0m\u001b[0;34m.\u001b[0m\u001b[0mparameters\u001b[0m\u001b[0;34m(\u001b[0m\u001b[0;34m)\u001b[0m\u001b[0;34m]\u001b[0m\u001b[0;34m)\u001b[0m\u001b[0;34m)\u001b[0m\u001b[0;34m\u001b[0m\u001b[0;34m\u001b[0m\u001b[0m\n\u001b[0m\u001b[1;32m     17\u001b[0m \u001b[0;34m\u001b[0m\u001b[0m\n\u001b[1;32m     18\u001b[0m     \u001b[0;32mfor\u001b[0m \u001b[0mp\u001b[0m \u001b[0;32min\u001b[0m \u001b[0macmodel\u001b[0m\u001b[0;34m.\u001b[0m\u001b[0mparameters\u001b[0m\u001b[0;34m(\u001b[0m\u001b[0;34m)\u001b[0m\u001b[0;34m:\u001b[0m\u001b[0;34m\u001b[0m\u001b[0;34m\u001b[0m\u001b[0m\n",
            "\u001b[0;31mNameError\u001b[0m: name 'model' is not defined"
          ]
        }
      ],
      "source": [
        "args = Config()\n",
        "df = run_experiment(args, update_parameters_reinforce)\n",
        "\n",
        "df.plot(x='num_frames', y='reward')"
      ]
    },
    {
      "cell_type": "markdown",
      "metadata": {
        "id": "e-cVKxayYY1B"
      },
      "source": [
        "## REINFORCE with Discounted Reward\n",
        "\n",
        "Uh oh! Even after 300,000 steps, our policy does not converge. One reason for failure is the way rewards are generated in the real-world. In an ideal world, the agent would be rewarded at every timestep in a manner that perfectly corresponded to the quality of the action taken in a particular state.  However, this is rarely the case; for example, in Doorkey we only get reward at the very end of the episode (i.e., the sparse reward scenario).\n",
        "\n",
        "In DQN, we tackle this with a discount factor `gamma` on future rewards.  In policy gradients, we'll simply rewrite all of our step rewards to be discounted from the past episode reward.\n",
        "\n",
        "Fill in `compute_discounted_return` code block above, then run code cell below to see the effect of discounted reward trajectories.  This should converge, so if it doesn't, you've made an error (although try re-running the cell a few times first to make sure it's not a bad random seed). (10 pts)\n",
        "\n"
      ]
    },
    {
      "cell_type": "code",
      "execution_count": null,
      "metadata": {
        "colab": {
          "base_uri": "https://localhost:8080/",
          "height": 330,
          "referenced_widgets": [
            "8af70ce07a4c4f49b85d9fd1b83ec3b8",
            "6f49a564b53943218a7363cfbb3f2504",
            "1e0aea80bd814c89ab28d67fafe27a01",
            "ecb94a3be8214c36af90a557612f741f",
            "ac372afd08bc465cb8754fa29c6c323d",
            "7ebce1e5de904962bbf5a9a70d9283c8",
            "e551c50b92ae4a649ea93e0c2af07604",
            "d17e3d318a5e4427966e1e2d914d646c",
            "16ea176c5aeb4622960088553b86a241",
            "b8b6d22859a54f0c842fb5a597834081",
            "f528eae4a8ee43aea913f81ee133669f"
          ]
        },
        "id": "4fDIhCpeZxdd",
        "outputId": "be640c52-a99d-4edc-ce73-9b44e2094d19"
      },
      "outputs": [
        {
          "data": {
            "application/vnd.jupyter.widget-view+json": {
              "model_id": "8af70ce07a4c4f49b85d9fd1b83ec3b8",
              "version_major": 2,
              "version_minor": 0
            },
            "text/plain": [
              "  0%|          | 0/2000 [00:00<?, ?it/s]"
            ]
          },
          "metadata": {},
          "output_type": "display_data"
        },
        {
          "data": {
            "text/plain": [
              "<matplotlib.axes._subplots.AxesSubplot at 0x7fd694374810>"
            ]
          },
          "execution_count": 14,
          "metadata": {},
          "output_type": "execute_result"
        },
        {
          "data": {
            "image/png": "[encoded data removed]",
            "text/plain": [
              "<Figure size 432x288 with 1 Axes>"
            ]
          },
          "metadata": {},
          "output_type": "display_data"
        }
      ],
      "source": [
        "args = Config(use_discounted_reward=True)\n",
        "df = run_experiment(args, update_parameters_reinforce)\n",
        "\n",
        "df.plot(x='num_frames', y=['reward', 'smooth_reward'])"
      ]
    },
    {
      "cell_type": "code",
      "execution_count": null,
      "metadata": {
        "colab": {
          "base_uri": "https://localhost:8080/",
          "height": 347,
          "referenced_widgets": [
            "53492ba321f848919ec8777965023ddf",
            "db785b97bfc9421980272115331a4d30",
            "fa0714f1c1f34e2d86d4c47581469357",
            "cb38a3f44ded40b9881ebe9664ff6ce9",
            "4e0cabbe84c44cf48c364595ac1ebcf8",
            "d40b4969a3e244bf8de3889bdcce7a58",
            "a8e267f8eb224876a7fb8477b4a79083",
            "6ce0b7e030214309bb37d0025c4703e8",
            "07d3e9fdd0c749d3852e656571791667",
            "0ff3bddb64d5450998740912bc90796a",
            "51b9afbdddd14a74aa40b4cced6e30f9"
          ]
        },
        "id": "rq2jMSo-fmap",
        "outputId": "50bfd852-b40e-46ad-f008-45b4eb1f3ec8"
      },
      "outputs": [
        {
          "data": {
            "application/vnd.jupyter.widget-view+json": {
              "model_id": "53492ba321f848919ec8777965023ddf",
              "version_major": 2,
              "version_minor": 0
            },
            "text/plain": [
              "  0%|          | 0/2000 [00:00<?, ?it/s]"
            ]
          },
          "metadata": {},
          "output_type": "display_data"
        },
        {
          "name": "stdout",
          "output_type": "stream",
          "text": [
            "Solved!\n"
          ]
        },
        {
          "data": {
            "text/plain": [
              "<matplotlib.axes._subplots.AxesSubplot at 0x7fd694885b90>"
            ]
          },
          "execution_count": 15,
          "metadata": {},
          "output_type": "execute_result"
        },
        {
          "data": {
            "image/png": "[encoded data removed]",
            "text/plain": [
              "<Figure size 432x288 with 1 Axes>"
            ]
          },
          "metadata": {},
          "output_type": "display_data"
        }
      ],
      "source": [
        "args = Config(use_discounted_reward=True)\n",
        "df = run_experiment(args, update_parameters_reinforce)\n",
        "\n",
        "df.plot(x='num_frames', y=['reward', 'smooth_reward'])"
      ]
    },
    {
      "cell_type": "markdown",
      "metadata": {
        "id": "1lWHQpkubqpM"
      },
      "source": [
        "# Vanilla Policy Gradients\n",
        "\n",
        "You may have noticed that the REINFORCE training curve is extremely unstable. It's time to bring in our *critic*!  We can prove from the Expected Grad-Log-Prob (EGLP) lemma that we can subtract any function $b(x)$ from our reward without changing our policy in expectation:"
      ]
    },
    {
      "cell_type": "markdown",
      "metadata": {
        "id": "f8PdtlQTbDdg"
      },
      "source": [
        "![image.png](data:image/png;base64,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)"
      ]
    },
    {
      "cell_type": "markdown",
      "metadata": {
        "id": "8OSRQMGGqfUj"
      },
      "source": [
        "### Baseline Proof\n",
        "\n",
        "**Question**: Prove that adding a baseline doesn't change the policy in expectation using the EGLP lemma.  This can be a loose proof as long as you convey the intutition. (10 pts)\n",
        "\n",
        "**Proof**: Distributing the gradient log probability term to the two components (sum of rewards minus the baseline) and with the linearity of the expectatino operator, we get our typical policy gradient with a second term. $b(s_t)$ does not depend on the policy parameters so we can move it outside of the gradient and expectation. Using the EGLP lemma, we'll have $b$ times the gradient of 1 which is 0, so this second term does not change our gradient."
      ]
    },
    {
      "cell_type": "markdown",
      "metadata": {
        "id": "kNXJ4XqNbs0n"
      },
      "source": [
        "Empirically, using the on-policy value function as the baseline ($b$) reduces variance in the policy gradient sample estimate, leading to faster and more stable learning.  We can estimate the $b$ using an L2 loss to the true rewards (or in our case, the discounted rewards), and constitutes an additional loss term in the overall objective. The baseline substracted return term, $R(s_{t'},a_{t'},s_{t' + 1}) - b(s_t)$ is already computed for you, and is referred to as the *advantage*."
      ]
    },
    {
      "cell_type": "code",
      "execution_count": null,
      "metadata": {
        "id": "mM4Rqfe9bDdi"
      },
      "outputs": [],
      "source": [
        "def update_parameters_with_baseline(optimizer, acmodel, sb, args):\n",
        "    def _compute_policy_loss_with_baseline(logps, advantages):\n",
        "        policy_loss = 0\n",
        "\n",
        "        ### TODO: implement the policy loss (5 pts) ##############\n",
        "        policy_loss = -(logps * advantages).mean()\n",
        "        ##################################################\n",
        "        \n",
        "        return policy_loss\n",
        "    \n",
        "    def _compute_value_loss(values, returns):\n",
        "        value_loss = 0\n",
        "\n",
        "        ### TODO: implement the value loss (5 pts) ###############\n",
        "        value_loss = (values - returns).pow(2).mean()\n",
        "        ##################################################\n",
        "\n",
        "        return value_loss\n",
        "\n",
        "    logps, advantage, values, reward = None, None, None, None\n",
        "\n",
        "    ### TODO: populate the policy and value loss computation fields using acmodel, sb['obs'], sb['action], and sb['discounted_reward']\n",
        "    ### For the advantage term, use sb['advantage_gae'] if args.use_gae is True, and sb['advantage'] otherwise.\n",
        "    ### 10 pts\n",
        "    dist, values = acmodel(sb['obs'])\n",
        "    logps = dist.log_prob(sb['action'])\n",
        "    advantage = sb['advantage_gae'] if args.use_gae else sb['advantage']\n",
        "    reward = sb['discounted_reward']\n",
        "    ####################################################################################################\n",
        "\n",
        "    policy_loss = _compute_policy_loss_with_baseline(logps, advantage)\n",
        "    value_loss = _compute_value_loss(values, reward)\n",
        "    loss = policy_loss + value_loss\n",
        "\n",
        "    update_policy_loss = policy_loss.item()\n",
        "    update_value_loss = value_loss.item()\n",
        "\n",
        "    # Update actor-critic\n",
        "    optimizer.zero_grad()\n",
        "    loss.backward()\n",
        "    update_grad_norm = sum(p.grad.data.norm(2) ** 2 for p in acmodel.parameters()) ** 0.5\n",
        "    torch.nn.utils.clip_grad_norm_(acmodel.parameters(), args.max_grad_norm)\n",
        "    optimizer.step()\n",
        "\n",
        "    # Log some values\n",
        "\n",
        "    logs = {\n",
        "        \"policy_loss\": update_policy_loss,\n",
        "        \"value_loss\": update_value_loss,\n",
        "        \"grad_norm\": update_grad_norm\n",
        "    }\n",
        "\n",
        "    return logs"
      ]
    },
    {
      "cell_type": "markdown",
      "metadata": {
        "id": "Vcftj9PpbDdi"
      },
      "source": [
        "## Run REINFORCE with baseline\n",
        "\n",
        "If you did everything right, you should be able to run the below cell to run the vanilla policy gradients implementation with baseline.  This should be somewhat more stable than without the baseline, and likely converge faster.\n"
      ]
    },
    {
      "cell_type": "code",
      "execution_count": null,
      "metadata": {
        "colab": {
          "base_uri": "https://localhost:8080/",
          "height": 347,
          "referenced_widgets": [
            "fef34ddbbc154959999b4b94a47297a8",
            "286ad20438f64ddebe5ed7a924eaf12b",
            "7a31c1c6d25f4b32b548633cd81028fe",
            "776be9904b9a4b9f9b89f11c00ad41b6",
            "3fd20892839a454fa579bf30cdd7642a",
            "20b7a6d6082a47a4a53594ab70205fb5",
            "cffa2961c8bc4e4f91a1b1e49920e821",
            "db7dd3432ac04e948e95c4f5194cd12b",
            "d2e6fd29f9544102af1a0148262c4fbd",
            "5a651c81c1fe4f4c916c8022cf0812e3",
            "bbddc0f67569429db405a0e90625d60d"
          ]
        },
        "id": "ygISg6VJbDdi",
        "outputId": "e9293017-95f3-4333-bef9-cc0f5567a386"
      },
      "outputs": [
        {
          "data": {
            "application/vnd.jupyter.widget-view+json": {
              "model_id": "fef34ddbbc154959999b4b94a47297a8",
              "version_major": 2,
              "version_minor": 0
            },
            "text/plain": [
              "  0%|          | 0/2000 [00:00<?, ?it/s]"
            ]
          },
          "metadata": {},
          "output_type": "display_data"
        },
        {
          "name": "stdout",
          "output_type": "stream",
          "text": [
            "Solved!\n"
          ]
        },
        {
          "data": {
            "text/plain": [
              "<matplotlib.axes._subplots.AxesSubplot at 0x7fd69423cb50>"
            ]
          },
          "execution_count": 17,
          "metadata": {},
          "output_type": "execute_result"
        },
        {
          "data": {
            "image/png": "[encoded data removed]",
            "text/plain": [
              "<Figure size 432x288 with 1 Axes>"
            ]
          },
          "metadata": {},
          "output_type": "display_data"
        }
      ],
      "source": [
        "args = Config(use_critic=True)\n",
        "df_baseline = run_experiment(args, update_parameters_with_baseline)\n",
        "\n",
        "df_baseline.plot(x='num_frames', y=['reward', 'smooth_reward'])"
      ]
    },
    {
      "cell_type": "markdown",
      "metadata": {
        "id": "HhfHluYAfTKC"
      },
      "source": [
        "# Reinforce with GAE\n",
        "\n",
        "The advantage we computed above seemed to work, and hopefully improved our results!  Fortunately, we can do even better.  The paper [Generalized Advantage Estimation](https://arxiv.org/abs/1506.02438) describes a nifty method for building a strong advantage estimate (see formula 16 in the paper) that empirically outperforms a naive subtraction (and includes reward shaping).\n",
        "\n",
        "Fill in the `compute_advantage_gae` method above according to the formula in the paper (10 pts), and then run the below cell.  GAE should further improve convergence time and stability."
      ]
    },
    {
      "cell_type": "code",
      "execution_count": null,
      "metadata": {
        "colab": {
          "base_uri": "https://localhost:8080/",
          "height": 380,
          "referenced_widgets": [
            "a794b25c7bb440269ac9aa50089bcefd",
            "bef430469970497eb281913feee65c03",
            "b91e15fc82b740f5896fc90bfa218ea6",
            "5e3a4f8af6f24a7aa02a6cbf8658f58a",
            "10988ae4bbd047bfa661d772af1ee4f2",
            "71adfcc9020e48e49f9e3d919ef5116a",
            "2a93166db77c44f193cee6065ff70145",
            "485661086d92447fa7e78c431bd799e0",
            "72a08bcff8c243788d8170c1046dde81",
            "cf98b69434924dd387f3516767fb4c4d",
            "6f2a2b4b16e84e04b01f71d83deeaa80"
          ]
        },
        "id": "vcfHPVV5JmGb",
        "outputId": "02c913da-ddc7-47a6-bf85-4e5d1ab50b08"
      },
      "outputs": [
        {
          "output_type": "display_data",
          "data": {
            "application/vnd.jupyter.widget-view+json": {
              "model_id": "a794b25c7bb440269ac9aa50089bcefd",
              "version_minor": 0,
              "version_major": 2
            },
            "text/plain": [
              "  0%|          | 0/2000 [00:00<?, ?it/s]"
            ]
          },
          "metadata": {}
        },
        {
          "output_type": "stream",
          "name": "stdout",
          "text": [
            "Solved!\n"
          ]
        },
        {
          "output_type": "execute_result",
          "data": {
            "text/plain": [
              "<matplotlib.axes._subplots.AxesSubplot at 0x7f84305579d0>"
            ]
          },
          "metadata": {},
          "execution_count": 30
        },
        {
          "output_type": "display_data",
          "data": {
            "image/png": "[encoded data removed]",
            "text/plain": [
              "<Figure size 432x288 with 1 Axes>"
            ]
          },
          "metadata": {}
        }
      ],
      "source": [
        "args = Config(use_critic=True, use_gae=True)\n",
        "df_gae = run_experiment(args, update_parameters_with_baseline)\n",
        "\n",
        "df_gae.plot(x='num_frames', y=['reward', 'smooth_reward'])"
      ]
    },
    {
      "cell_type": "markdown",
      "metadata": {
        "id": "5BoRwiFabDdi"
      },
      "source": [
        "# Proximal Policy Optimization\n",
        "\n",
        "Our work is not yet done!  There are some surprisingly powerful additional tweaks we can make to our GAE implementation to further improve performance.\n",
        "\n",
        "The current standard in policy gradients today is [Proximal Policy Optimization](https://arxiv.org/abs/1707.06347), which improves on GAE by taking multiply policy update steps per minibatch, enabled by policy update clipping (this is a specific variant called *PPO-Clip*).  This leads to greater sample efficiency, as larger steps can be taken from the same data samples.\n",
        "\n",
        "We've implemented most of PPO for you: all that's left for you are the policy and value loss computations (note that you'll have to evaluate the `acmodel` each time you compute them).  Note that for the policy loss, we also ask that you return the approximate KL divergence between the new and old action distributions notated as `approx_kl`; this is used to facilitate an early stopping condition in policy updates. This [blog post](http://joschu.net/blog/kl-approx.html) shares a simple formula for approximating KL divergence that you can use."
      ]
    },
    {
      "cell_type": "markdown",
      "metadata": {
        "id": "JFLxFbVwkBrk"
      },
      "source": [
        "![image.png](data:image/png;base64,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) "
      ]
    },
    {
      "cell_type": "markdown",
      "metadata": {
        "id": "EVLAZZI0KsUq"
      },
      "source": [
        "where ![Screen Shot 2022-02-18 at 9.10.48 AM.png](data:image/png;base64,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)"
      ]
    },
    {
      "cell_type": "markdown",
      "metadata": {
        "id": "Vd9PZXJu6X6W"
      },
      "source": [
        "A commonly used technique is to add entropy regularization for policy gradient methods as shown in equation 2 of [this paper](https://arxiv.org/pdf/1611.01626.pdf), and there is some discussion of entropy regularization in this [reference tutorial](https://arxiv.org/pdf/1805.00909.pdf). You should compute the policy loss as defined above and also add in an entropy term for the updated policy (note that we've provided to you an entropy coefficient in `args.entropy_coef`)."
      ]
    },
    {
      "cell_type": "code",
      "execution_count": 14,
      "metadata": {
        "id": "Eb84WAVpbDdi"
      },
      "outputs": [],
      "source": [
        "def update_parameters_ppo(optimizer, acmodel, sb, args, target_params,critic_index = 1):\n",
        "    def _compute_policy_loss_ppo(obs, old_logp, actions, advantages):\n",
        "        policy_loss, approx_kl = 0, 0\n",
        "\n",
        "        ### TODO: implement PPO policy loss computation (30 pts).  #######\n",
        "        # approx kl 5\n",
        "        # a few ways to approximate - \n",
        "        #  k1 = -logr\n",
        "        #  k2 = logr ** 2 / 2\n",
        "        #  k3 = (logr.exp() - 1) - logr\n",
        "        #  or p * log(p/q)\n",
        "        # entropy term 5 \n",
        "        # ratio clamping/clipping 10\n",
        "        # remaining correctness 10\n",
        "        new_dist, _ = acmodel(obs)\n",
        "        new_logp = new_dist.log_prob(actions)\n",
        "\n",
        "        ratio = torch.exp(new_logp - old_logp)\n",
        "        clip_adv = torch.clamp(ratio, 1-args.clip_ratio, 1+args.clip_ratio) * advantages\n",
        "\n",
        "        entropy_loss = -args.entropy_coef * new_dist.entropy().mean()\n",
        "        policy_loss = -(torch.min(ratio*advantages, clip_adv)).mean() \n",
        "        policy_loss += entropy_loss\n",
        "\n",
        "        approx_kl = 0.5 * ((old_logp - new_logp).mean().item()) ** 2\n",
        "\n",
        "        ##################################################################\n",
        "        \n",
        "        return policy_loss, approx_kl\n",
        "    \n",
        "    def _compute_value_loss(obs, returns, critic_index):\n",
        "        ### TODO: implement PPO value loss computation (10 pts) ##########\n",
        "        returns = returns.repeat(acmodel.num_critics,1).T\n",
        "        _, values = acmodel(obs)\n",
        "        value_loss = (values[:,critic_index] - returns[:,critic_index]).pow(2).mean()\n",
        "        ##################################################################\n",
        "\n",
        "        return value_loss\n",
        "\n",
        "\n",
        "    dist, _ = acmodel(sb['obs'])            \n",
        "    old_logp = dist.log_prob(sb['action']).detach()\n",
        "    \n",
        "    advantage = sb['advantage_gae'] if args.use_gae else sb['advantage']\n",
        "\n",
        "    policy_loss, _ = _compute_policy_loss_ppo(sb['obs'], old_logp, sb['action'], advantage)\n",
        "    #value_loss = _compute_value_loss(sb['obs'], sb['discounted_reward'], critic_index = critic_index)\n",
        "\n",
        "    for i in range(args.train_ac_iters):\n",
        "        optimizer.zero_grad()\n",
        "        loss_pi, approx_kl = _compute_policy_loss_ppo(sb['obs'], old_logp, sb['action'], advantage)\n",
        "        if target_params == \"actor\": \n",
        "          loss = loss_pi\n",
        "        else:\n",
        "          loss_v = _compute_value_loss(sb['obs'], sb['discounted_reward'],critic_index = critic_index)\n",
        "          loss = loss_v\n",
        "\n",
        "        if approx_kl > 1.5 * args.target_kl:\n",
        "            break\n",
        "        \n",
        "        loss.backward(retain_graph=True)\n",
        "        optimizer.step()\n",
        "    \n",
        "    update_policy_loss = policy_loss.item()\n",
        "    #update_value_loss = value_loss.item()\n",
        "\n",
        "    logs = {\n",
        "        \"policy_loss\": update_policy_loss,\n",
        "        \"value_loss\": 69,\n",
        "    }\n",
        "\n",
        "    return logs"
      ]
    },
    {
      "cell_type": "code",
      "execution_count": null,
      "metadata": {
        "colab": {
          "base_uri": "https://localhost:8080/",
          "height": 407,
          "referenced_widgets": [
            "540768a8715a4f928e3554594602c9ec",
            "9325cbc3ea7644b2b4efe1ce6dfc2618",
            "a5e304719a214561b059e6392e59b0f6",
            "1102d6a7a4a5421190e19184c53c528b",
            "4685361ffbf44027ba4cfbeddcf82048",
            "4c37d992e79c4809946486dba88abe8c",
            "e69f1d0b2a9b436d8a94f1d3034c67b6",
            "e66b4f501f294046baab98735bb5ee85",
            "3be1bee05b2c41d8aba68d5e2653541b",
            "5e7c16629b3344848cd88d6edbc7dd22",
            "24b8dc2c7b8b4f259ce213ad9d542cd2"
          ]
        },
        "id": "ElBRzBVdbDdj",
        "scrolled": false,
        "outputId": "692b8ff0-002d-4004-c206-69d047cbc124"
      },
      "outputs": [
        {
          "output_type": "display_data",
          "data": {
            "text/plain": [
              "  0%|          | 0/2000 [00:00<?, ?it/s]"
            ],
            "application/vnd.jupyter.widget-view+json": {
              "version_major": 2,
              "version_minor": 0,
              "model_id": "540768a8715a4f928e3554594602c9ec"
            }
          },
          "metadata": {}
        },
        {
          "output_type": "error",
          "ename": "KeyboardInterrupt",
          "evalue": "ignored",
          "traceback": [
            "\u001b[0;31m---------------------------------------------------------------------------\u001b[0m",
            "\u001b[0;31mKeyboardInterrupt\u001b[0m                         Traceback (most recent call last)",
            "\u001b[0;32m<ipython-input-20-f4e4e67d3b1e>\u001b[0m in \u001b[0;36m<module>\u001b[0;34m()\u001b[0m\n\u001b[1;32m      2\u001b[0m \u001b[0margs\u001b[0m\u001b[0;34m.\u001b[0m\u001b[0mnum_critics\u001b[0m \u001b[0;34m=\u001b[0m \u001b[0;36m10\u001b[0m\u001b[0;34m\u001b[0m\u001b[0;34m\u001b[0m\u001b[0m\n\u001b[1;32m      3\u001b[0m \u001b[0margs\u001b[0m\u001b[0;34m.\u001b[0m\u001b[0mbatch_size\u001b[0m \u001b[0;34m=\u001b[0m \u001b[0;36m4\u001b[0m\u001b[0;34m\u001b[0m\u001b[0;34m\u001b[0m\u001b[0m\n\u001b[0;32m----> 4\u001b[0;31m \u001b[0mdf_ppo\u001b[0m \u001b[0;34m=\u001b[0m \u001b[0mrun_experiment\u001b[0m\u001b[0;34m(\u001b[0m\u001b[0margs\u001b[0m\u001b[0;34m,\u001b[0m \u001b[0mupdate_parameters_ppo\u001b[0m\u001b[0;34m)\u001b[0m\u001b[0;34m\u001b[0m\u001b[0;34m\u001b[0m\u001b[0m\n\u001b[0m\u001b[1;32m      5\u001b[0m \u001b[0;34m\u001b[0m\u001b[0m\n\u001b[1;32m      6\u001b[0m \u001b[0mdf_ppo\u001b[0m\u001b[0;34m.\u001b[0m\u001b[0mplot\u001b[0m\u001b[0;34m(\u001b[0m\u001b[0mx\u001b[0m\u001b[0;34m=\u001b[0m\u001b[0;34m'num_frames'\u001b[0m\u001b[0;34m,\u001b[0m \u001b[0my\u001b[0m\u001b[0;34m=\u001b[0m\u001b[0;34m[\u001b[0m\u001b[0;34m'reward'\u001b[0m\u001b[0;34m,\u001b[0m \u001b[0;34m'smooth_reward'\u001b[0m\u001b[0;34m]\u001b[0m\u001b[0;34m)\u001b[0m\u001b[0;34m\u001b[0m\u001b[0;34m\u001b[0m\u001b[0m\n",
            "\u001b[0;32m<ipython-input-12-1eae051122b3>\u001b[0m in \u001b[0;36mrun_experiment\u001b[0;34m(args, parameter_update)\u001b[0m\n\u001b[1;32m     39\u001b[0m             \u001b[0mcritic_params\u001b[0m \u001b[0;34m=\u001b[0m \u001b[0macmodel\u001b[0m\u001b[0;34m.\u001b[0m\u001b[0mcritics\u001b[0m\u001b[0;34m[\u001b[0m\u001b[0mb\u001b[0m\u001b[0;34m]\u001b[0m\u001b[0;34m.\u001b[0m\u001b[0mparameters\u001b[0m\u001b[0;34m(\u001b[0m\u001b[0;34m)\u001b[0m\u001b[0;34m\u001b[0m\u001b[0;34m\u001b[0m\u001b[0m\n\u001b[1;32m     40\u001b[0m             \u001b[0moptimizer_critic\u001b[0m \u001b[0;34m=\u001b[0m \u001b[0mtorch\u001b[0m\u001b[0;34m.\u001b[0m\u001b[0moptim\u001b[0m\u001b[0;34m.\u001b[0m\u001b[0mAdam\u001b[0m\u001b[0;34m(\u001b[0m\u001b[0mcritic_params\u001b[0m\u001b[0;34m,\u001b[0m \u001b[0mlr\u001b[0m\u001b[0;34m=\u001b[0m\u001b[0margs\u001b[0m\u001b[0;34m.\u001b[0m\u001b[0mlr\u001b[0m\u001b[0;34m)\u001b[0m\u001b[0;34m\u001b[0m\u001b[0;34m\u001b[0m\u001b[0m\n\u001b[0;32m---> 41\u001b[0;31m             \u001b[0mlogs_critic\u001b[0m \u001b[0;34m=\u001b[0m \u001b[0mparameter_update\u001b[0m\u001b[0;34m(\u001b[0m\u001b[0moptimizer_critic\u001b[0m\u001b[0;34m,\u001b[0m \u001b[0macmodel\u001b[0m\u001b[0;34m,\u001b[0m \u001b[0mexp\u001b[0m\u001b[0;34m,\u001b[0m \u001b[0margs\u001b[0m\u001b[0;34m,\u001b[0m \u001b[0mtarget_params\u001b[0m \u001b[0;34m=\u001b[0m \u001b[0;34m\"critic\"\u001b[0m\u001b[0;34m,\u001b[0m\u001b[0mcritic_index\u001b[0m \u001b[0;34m=\u001b[0m \u001b[0mb\u001b[0m\u001b[0;34m)\u001b[0m\u001b[0;34m\u001b[0m\u001b[0;34m\u001b[0m\u001b[0m\n\u001b[0m\u001b[1;32m     42\u001b[0m \u001b[0;34m\u001b[0m\u001b[0m\n\u001b[1;32m     43\u001b[0m     \u001b[0;32mif\u001b[0m \u001b[0mis_solved\u001b[0m\u001b[0;34m:\u001b[0m\u001b[0;34m\u001b[0m\u001b[0;34m\u001b[0m\u001b[0m\n",
            "\u001b[0;32m<ipython-input-13-df2d0045dfa3>\u001b[0m in \u001b[0;36mupdate_parameters_ppo\u001b[0;34m(optimizer, acmodel, sb, args, target_params, critic_index)\u001b[0m\n\u001b[1;32m     53\u001b[0m           \u001b[0mloss\u001b[0m \u001b[0;34m=\u001b[0m \u001b[0mloss_pi\u001b[0m\u001b[0;34m\u001b[0m\u001b[0;34m\u001b[0m\u001b[0m\n\u001b[1;32m     54\u001b[0m         \u001b[0;32melse\u001b[0m\u001b[0;34m:\u001b[0m\u001b[0;34m\u001b[0m\u001b[0;34m\u001b[0m\u001b[0m\n\u001b[0;32m---> 55\u001b[0;31m           \u001b[0mloss_v\u001b[0m \u001b[0;34m=\u001b[0m \u001b[0m_compute_value_loss\u001b[0m\u001b[0;34m(\u001b[0m\u001b[0msb\u001b[0m\u001b[0;34m[\u001b[0m\u001b[0;34m'obs'\u001b[0m\u001b[0;34m]\u001b[0m\u001b[0;34m,\u001b[0m \u001b[0msb\u001b[0m\u001b[0;34m[\u001b[0m\u001b[0;34m'discounted_reward'\u001b[0m\u001b[0;34m]\u001b[0m\u001b[0;34m,\u001b[0m\u001b[0mcritic_index\u001b[0m \u001b[0;34m=\u001b[0m \u001b[0mcritic_index\u001b[0m\u001b[0;34m)\u001b[0m\u001b[0;34m\u001b[0m\u001b[0;34m\u001b[0m\u001b[0m\n\u001b[0m\u001b[1;32m     56\u001b[0m           \u001b[0mloss\u001b[0m \u001b[0;34m=\u001b[0m \u001b[0mloss_v\u001b[0m\u001b[0;34m\u001b[0m\u001b[0;34m\u001b[0m\u001b[0m\n\u001b[1;32m     57\u001b[0m \u001b[0;34m\u001b[0m\u001b[0m\n",
            "\u001b[0;32m<ipython-input-13-df2d0045dfa3>\u001b[0m in \u001b[0;36m_compute_value_loss\u001b[0;34m(obs, returns, critic_index)\u001b[0m\n\u001b[1;32m     32\u001b[0m         \u001b[0;31m### TODO: implement PPO value loss computation (10 pts) ##########\u001b[0m\u001b[0;34m\u001b[0m\u001b[0;34m\u001b[0m\u001b[0;34m\u001b[0m\u001b[0m\n\u001b[1;32m     33\u001b[0m         \u001b[0mreturns\u001b[0m \u001b[0;34m=\u001b[0m \u001b[0mreturns\u001b[0m\u001b[0;34m.\u001b[0m\u001b[0mrepeat\u001b[0m\u001b[0;34m(\u001b[0m\u001b[0macmodel\u001b[0m\u001b[0;34m.\u001b[0m\u001b[0mnum_critics\u001b[0m\u001b[0;34m,\u001b[0m\u001b[0;36m1\u001b[0m\u001b[0;34m)\u001b[0m\u001b[0;34m.\u001b[0m\u001b[0mT\u001b[0m\u001b[0;34m\u001b[0m\u001b[0;34m\u001b[0m\u001b[0m\n\u001b[0;32m---> 34\u001b[0;31m         \u001b[0m_\u001b[0m\u001b[0;34m,\u001b[0m \u001b[0mvalues\u001b[0m \u001b[0;34m=\u001b[0m \u001b[0macmodel\u001b[0m\u001b[0;34m(\u001b[0m\u001b[0mobs\u001b[0m\u001b[0;34m)\u001b[0m\u001b[0;34m\u001b[0m\u001b[0;34m\u001b[0m\u001b[0m\n\u001b[0m\u001b[1;32m     35\u001b[0m         \u001b[0mvalue_loss\u001b[0m \u001b[0;34m=\u001b[0m \u001b[0;34m(\u001b[0m\u001b[0mvalues\u001b[0m\u001b[0;34m[\u001b[0m\u001b[0;34m:\u001b[0m\u001b[0;34m,\u001b[0m\u001b[0mcritic_index\u001b[0m\u001b[0;34m]\u001b[0m \u001b[0;34m-\u001b[0m \u001b[0mreturns\u001b[0m\u001b[0;34m[\u001b[0m\u001b[0;34m:\u001b[0m\u001b[0;34m,\u001b[0m\u001b[0mcritic_index\u001b[0m\u001b[0;34m]\u001b[0m\u001b[0;34m)\u001b[0m\u001b[0;34m.\u001b[0m\u001b[0mpow\u001b[0m\u001b[0;34m(\u001b[0m\u001b[0;36m2\u001b[0m\u001b[0;34m)\u001b[0m\u001b[0;34m.\u001b[0m\u001b[0mmean\u001b[0m\u001b[0;34m(\u001b[0m\u001b[0;34m)\u001b[0m\u001b[0;34m\u001b[0m\u001b[0;34m\u001b[0m\u001b[0m\n\u001b[1;32m     36\u001b[0m         \u001b[0;31m##################################################################\u001b[0m\u001b[0;34m\u001b[0m\u001b[0;34m\u001b[0m\u001b[0;34m\u001b[0m\u001b[0m\n",
            "\u001b[0;32m/usr/local/lib/python3.7/dist-packages/torch/nn/modules/module.py\u001b[0m in \u001b[0;36m_call_impl\u001b[0;34m(self, *input, **kwargs)\u001b[0m\n\u001b[1;32m   1108\u001b[0m         if not (self._backward_hooks or self._forward_hooks or self._forward_pre_hooks or _global_backward_hooks\n\u001b[1;32m   1109\u001b[0m                 or _global_forward_hooks or _global_forward_pre_hooks):\n\u001b[0;32m-> 1110\u001b[0;31m             \u001b[0;32mreturn\u001b[0m \u001b[0mforward_call\u001b[0m\u001b[0;34m(\u001b[0m\u001b[0;34m*\u001b[0m\u001b[0minput\u001b[0m\u001b[0;34m,\u001b[0m \u001b[0;34m**\u001b[0m\u001b[0mkwargs\u001b[0m\u001b[0;34m)\u001b[0m\u001b[0;34m\u001b[0m\u001b[0;34m\u001b[0m\u001b[0m\n\u001b[0m\u001b[1;32m   1111\u001b[0m         \u001b[0;31m# Do not call functions when jit is used\u001b[0m\u001b[0;34m\u001b[0m\u001b[0;34m\u001b[0m\u001b[0;34m\u001b[0m\u001b[0m\n\u001b[1;32m   1112\u001b[0m         \u001b[0mfull_backward_hooks\u001b[0m\u001b[0;34m,\u001b[0m \u001b[0mnon_full_backward_hooks\u001b[0m \u001b[0;34m=\u001b[0m \u001b[0;34m[\u001b[0m\u001b[0;34m]\u001b[0m\u001b[0;34m,\u001b[0m \u001b[0;34m[\u001b[0m\u001b[0;34m]\u001b[0m\u001b[0;34m\u001b[0m\u001b[0;34m\u001b[0m\u001b[0m\n",
            "\u001b[0;32m<ipython-input-6-c2487b00cecc>\u001b[0m in \u001b[0;36mforward\u001b[0;34m(self, obs)\u001b[0m\n\u001b[1;32m     80\u001b[0m             \u001b[0mvalue\u001b[0m \u001b[0;34m=\u001b[0m \u001b[0mtorch\u001b[0m\u001b[0;34m.\u001b[0m\u001b[0mzeros\u001b[0m\u001b[0;34m(\u001b[0m\u001b[0;34m(\u001b[0m\u001b[0mx\u001b[0m\u001b[0;34m.\u001b[0m\u001b[0mshape\u001b[0m\u001b[0;34m[\u001b[0m\u001b[0;36m0\u001b[0m\u001b[0;34m]\u001b[0m\u001b[0;34m,\u001b[0m \u001b[0mself\u001b[0m\u001b[0;34m.\u001b[0m\u001b[0mnum_critics\u001b[0m\u001b[0;34m)\u001b[0m\u001b[0;34m,\u001b[0m \u001b[0mdevice\u001b[0m\u001b[0;34m=\u001b[0m\u001b[0mx\u001b[0m\u001b[0;34m.\u001b[0m\u001b[0mdevice\u001b[0m\u001b[0;34m)\u001b[0m\u001b[0;34m\u001b[0m\u001b[0;34m\u001b[0m\u001b[0m\n\u001b[1;32m     81\u001b[0m             \u001b[0;32mfor\u001b[0m \u001b[0mi\u001b[0m\u001b[0;34m,\u001b[0m \u001b[0mcritic\u001b[0m \u001b[0;32min\u001b[0m \u001b[0menumerate\u001b[0m\u001b[0;34m(\u001b[0m\u001b[0mself\u001b[0m\u001b[0;34m.\u001b[0m\u001b[0mcritics\u001b[0m\u001b[0;34m)\u001b[0m\u001b[0;34m:\u001b[0m\u001b[0;34m\u001b[0m\u001b[0;34m\u001b[0m\u001b[0m\n\u001b[0;32m---> 82\u001b[0;31m               \u001b[0mvalue\u001b[0m\u001b[0;34m[\u001b[0m\u001b[0;34m:\u001b[0m\u001b[0;34m,\u001b[0m\u001b[0mi\u001b[0m\u001b[0;34m]\u001b[0m \u001b[0;34m=\u001b[0m \u001b[0mcritic\u001b[0m\u001b[0;34m(\u001b[0m\u001b[0mobs\u001b[0m\u001b[0;34m)\u001b[0m\u001b[0;34m\u001b[0m\u001b[0;34m\u001b[0m\u001b[0m\n\u001b[0m\u001b[1;32m     83\u001b[0m         \u001b[0;32melse\u001b[0m\u001b[0;34m:\u001b[0m\u001b[0;34m\u001b[0m\u001b[0;34m\u001b[0m\u001b[0m\n\u001b[1;32m     84\u001b[0m             \u001b[0mvalue\u001b[0m \u001b[0;34m=\u001b[0m \u001b[0mtorch\u001b[0m\u001b[0;34m.\u001b[0m\u001b[0mzeros\u001b[0m\u001b[0;34m(\u001b[0m\u001b[0;34m(\u001b[0m\u001b[0mx\u001b[0m\u001b[0;34m.\u001b[0m\u001b[0mshape\u001b[0m\u001b[0;34m[\u001b[0m\u001b[0;36m0\u001b[0m\u001b[0;34m]\u001b[0m\u001b[0;34m,\u001b[0m \u001b[0;36m1\u001b[0m\u001b[0;34m)\u001b[0m\u001b[0;34m,\u001b[0m \u001b[0mdevice\u001b[0m\u001b[0;34m=\u001b[0m\u001b[0mx\u001b[0m\u001b[0;34m.\u001b[0m\u001b[0mdevice\u001b[0m\u001b[0;34m)\u001b[0m\u001b[0;34m\u001b[0m\u001b[0;34m\u001b[0m\u001b[0m\n",
            "\u001b[0;32m/usr/local/lib/python3.7/dist-packages/torch/nn/modules/module.py\u001b[0m in \u001b[0;36m_call_impl\u001b[0;34m(self, *input, **kwargs)\u001b[0m\n\u001b[1;32m   1108\u001b[0m         if not (self._backward_hooks or self._forward_hooks or self._forward_pre_hooks or _global_backward_hooks\n\u001b[1;32m   1109\u001b[0m                 or _global_forward_hooks or _global_forward_pre_hooks):\n\u001b[0;32m-> 1110\u001b[0;31m             \u001b[0;32mreturn\u001b[0m \u001b[0mforward_call\u001b[0m\u001b[0;34m(\u001b[0m\u001b[0;34m*\u001b[0m\u001b[0minput\u001b[0m\u001b[0;34m,\u001b[0m \u001b[0;34m**\u001b[0m\u001b[0mkwargs\u001b[0m\u001b[0;34m)\u001b[0m\u001b[0;34m\u001b[0m\u001b[0;34m\u001b[0m\u001b[0m\n\u001b[0m\u001b[1;32m   1111\u001b[0m         \u001b[0;31m# Do not call functions when jit is used\u001b[0m\u001b[0;34m\u001b[0m\u001b[0;34m\u001b[0m\u001b[0;34m\u001b[0m\u001b[0m\n\u001b[1;32m   1112\u001b[0m         \u001b[0mfull_backward_hooks\u001b[0m\u001b[0;34m,\u001b[0m \u001b[0mnon_full_backward_hooks\u001b[0m \u001b[0;34m=\u001b[0m \u001b[0;34m[\u001b[0m\u001b[0;34m]\u001b[0m\u001b[0;34m,\u001b[0m \u001b[0;34m[\u001b[0m\u001b[0;34m]\u001b[0m\u001b[0;34m\u001b[0m\u001b[0;34m\u001b[0m\u001b[0m\n",
            "\u001b[0;32m<ipython-input-6-c2487b00cecc>\u001b[0m in \u001b[0;36mforward\u001b[0;34m(self, obs)\u001b[0m\n\u001b[1;32m     21\u001b[0m     \u001b[0my\u001b[0m \u001b[0;34m=\u001b[0m \u001b[0mself\u001b[0m\u001b[0;34m.\u001b[0m\u001b[0mconv\u001b[0m\u001b[0;34m(\u001b[0m\u001b[0mconv_in\u001b[0m\u001b[0;34m)\u001b[0m\u001b[0;34m\u001b[0m\u001b[0;34m\u001b[0m\u001b[0m\n\u001b[1;32m     22\u001b[0m     \u001b[0membedding\u001b[0m \u001b[0;34m=\u001b[0m \u001b[0my\u001b[0m\u001b[0;34m.\u001b[0m\u001b[0mreshape\u001b[0m\u001b[0;34m(\u001b[0m\u001b[0my\u001b[0m\u001b[0;34m.\u001b[0m\u001b[0mshape\u001b[0m\u001b[0;34m[\u001b[0m\u001b[0;36m0\u001b[0m\u001b[0;34m]\u001b[0m\u001b[0;34m,\u001b[0m \u001b[0;34m-\u001b[0m\u001b[0;36m1\u001b[0m\u001b[0;34m)\u001b[0m\u001b[0;34m\u001b[0m\u001b[0;34m\u001b[0m\u001b[0m\n\u001b[0;32m---> 23\u001b[0;31m     \u001b[0mv\u001b[0m \u001b[0;34m=\u001b[0m \u001b[0mself\u001b[0m\u001b[0;34m.\u001b[0m\u001b[0mlin\u001b[0m\u001b[0;34m(\u001b[0m\u001b[0membedding\u001b[0m\u001b[0;34m)\u001b[0m\u001b[0;34m.\u001b[0m\u001b[0msqueeze\u001b[0m\u001b[0;34m(\u001b[0m\u001b[0;36m1\u001b[0m\u001b[0;34m)\u001b[0m\u001b[0;34m\u001b[0m\u001b[0;34m\u001b[0m\u001b[0m\n\u001b[0m\u001b[1;32m     24\u001b[0m     \u001b[0;32mreturn\u001b[0m \u001b[0mv\u001b[0m\u001b[0;34m\u001b[0m\u001b[0;34m\u001b[0m\u001b[0m\n\u001b[1;32m     25\u001b[0m \u001b[0;34m\u001b[0m\u001b[0m\n",
            "\u001b[0;32m/usr/local/lib/python3.7/dist-packages/torch/nn/modules/module.py\u001b[0m in \u001b[0;36m_call_impl\u001b[0;34m(self, *input, **kwargs)\u001b[0m\n\u001b[1;32m   1108\u001b[0m         if not (self._backward_hooks or self._forward_hooks or self._forward_pre_hooks or _global_backward_hooks\n\u001b[1;32m   1109\u001b[0m                 or _global_forward_hooks or _global_forward_pre_hooks):\n\u001b[0;32m-> 1110\u001b[0;31m             \u001b[0;32mreturn\u001b[0m \u001b[0mforward_call\u001b[0m\u001b[0;34m(\u001b[0m\u001b[0;34m*\u001b[0m\u001b[0minput\u001b[0m\u001b[0;34m,\u001b[0m \u001b[0;34m**\u001b[0m\u001b[0mkwargs\u001b[0m\u001b[0;34m)\u001b[0m\u001b[0;34m\u001b[0m\u001b[0;34m\u001b[0m\u001b[0m\n\u001b[0m\u001b[1;32m   1111\u001b[0m         \u001b[0;31m# Do not call functions when jit is used\u001b[0m\u001b[0;34m\u001b[0m\u001b[0;34m\u001b[0m\u001b[0;34m\u001b[0m\u001b[0m\n\u001b[1;32m   1112\u001b[0m         \u001b[0mfull_backward_hooks\u001b[0m\u001b[0;34m,\u001b[0m \u001b[0mnon_full_backward_hooks\u001b[0m \u001b[0;34m=\u001b[0m \u001b[0;34m[\u001b[0m\u001b[0;34m]\u001b[0m\u001b[0;34m,\u001b[0m \u001b[0;34m[\u001b[0m\u001b[0;34m]\u001b[0m\u001b[0;34m\u001b[0m\u001b[0;34m\u001b[0m\u001b[0m\n",
            "\u001b[0;32m/usr/local/lib/python3.7/dist-packages/torch/nn/modules/container.py\u001b[0m in \u001b[0;36mforward\u001b[0;34m(self, input)\u001b[0m\n\u001b[1;32m    139\u001b[0m     \u001b[0;32mdef\u001b[0m \u001b[0mforward\u001b[0m\u001b[0;34m(\u001b[0m\u001b[0mself\u001b[0m\u001b[0;34m,\u001b[0m \u001b[0minput\u001b[0m\u001b[0;34m)\u001b[0m\u001b[0;34m:\u001b[0m\u001b[0;34m\u001b[0m\u001b[0;34m\u001b[0m\u001b[0m\n\u001b[1;32m    140\u001b[0m         \u001b[0;32mfor\u001b[0m \u001b[0mmodule\u001b[0m \u001b[0;32min\u001b[0m \u001b[0mself\u001b[0m\u001b[0;34m:\u001b[0m\u001b[0;34m\u001b[0m\u001b[0;34m\u001b[0m\u001b[0m\n\u001b[0;32m--> 141\u001b[0;31m             \u001b[0minput\u001b[0m \u001b[0;34m=\u001b[0m \u001b[0mmodule\u001b[0m\u001b[0;34m(\u001b[0m\u001b[0minput\u001b[0m\u001b[0;34m)\u001b[0m\u001b[0;34m\u001b[0m\u001b[0;34m\u001b[0m\u001b[0m\n\u001b[0m\u001b[1;32m    142\u001b[0m         \u001b[0;32mreturn\u001b[0m \u001b[0minput\u001b[0m\u001b[0;34m\u001b[0m\u001b[0;34m\u001b[0m\u001b[0m\n\u001b[1;32m    143\u001b[0m \u001b[0;34m\u001b[0m\u001b[0m\n",
            "\u001b[0;32m/usr/local/lib/python3.7/dist-packages/torch/nn/modules/module.py\u001b[0m in \u001b[0;36m_call_impl\u001b[0;34m(self, *input, **kwargs)\u001b[0m\n\u001b[1;32m   1103\u001b[0m \u001b[0;34m\u001b[0m\u001b[0m\n\u001b[1;32m   1104\u001b[0m     \u001b[0;32mdef\u001b[0m \u001b[0m_call_impl\u001b[0m\u001b[0;34m(\u001b[0m\u001b[0mself\u001b[0m\u001b[0;34m,\u001b[0m \u001b[0;34m*\u001b[0m\u001b[0minput\u001b[0m\u001b[0;34m,\u001b[0m \u001b[0;34m**\u001b[0m\u001b[0mkwargs\u001b[0m\u001b[0;34m)\u001b[0m\u001b[0;34m:\u001b[0m\u001b[0;34m\u001b[0m\u001b[0;34m\u001b[0m\u001b[0m\n\u001b[0;32m-> 1105\u001b[0;31m         \u001b[0mforward_call\u001b[0m \u001b[0;34m=\u001b[0m \u001b[0;34m(\u001b[0m\u001b[0mself\u001b[0m\u001b[0;34m.\u001b[0m\u001b[0m_slow_forward\u001b[0m \u001b[0;32mif\u001b[0m \u001b[0mtorch\u001b[0m\u001b[0;34m.\u001b[0m\u001b[0m_C\u001b[0m\u001b[0;34m.\u001b[0m\u001b[0m_get_tracing_state\u001b[0m\u001b[0;34m(\u001b[0m\u001b[0;34m)\u001b[0m \u001b[0;32melse\u001b[0m \u001b[0mself\u001b[0m\u001b[0;34m.\u001b[0m\u001b[0mforward\u001b[0m\u001b[0;34m)\u001b[0m\u001b[0;34m\u001b[0m\u001b[0;34m\u001b[0m\u001b[0m\n\u001b[0m\u001b[1;32m   1106\u001b[0m         \u001b[0;31m# If we don't have any hooks, we want to skip the rest of the logic in\u001b[0m\u001b[0;34m\u001b[0m\u001b[0;34m\u001b[0m\u001b[0;34m\u001b[0m\u001b[0m\n\u001b[1;32m   1107\u001b[0m         \u001b[0;31m# this function, and just call forward.\u001b[0m\u001b[0;34m\u001b[0m\u001b[0;34m\u001b[0m\u001b[0;34m\u001b[0m\u001b[0m\n",
            "\u001b[0;31mKeyboardInterrupt\u001b[0m: "
          ]
        }
      ],
      "source": [
        "args = Config(use_critic=True, use_gae=True)\n",
        "args.num_critics = 10\n",
        "args.batch_size = 4\n",
        "df_ppo = run_experiment(args, update_parameters_ppo)\n",
        "\n",
        "df_ppo.plot(x='num_frames', y=['reward', 'smooth_reward'])"
      ]
    },
    {
      "cell_type": "code",
      "source": [
        "num_seeds = 5\n",
        "df_master = pd.DataFrame()\n",
        "for i in range(num_seeds):\n",
        "  #Only 1 critic (Vanilla PPO)\n",
        "  args = Config(use_critic=True, use_gae=True)\n",
        "  args.num_critics = 1\n",
        "  # args.batch_size = 4\n",
        "  df_ppo = run_experiment(args, update_parameters_ppo)\n",
        "  df_ppo['Algorithm'] = 'PPO'\n",
        "  df_ppo['Seed'] = i\n",
        "  df_ppo['episode'] = np.arange(df_ppo.shape[0])\n",
        "  df_master = pd.concat((df_master,df_ppo),ignore_index=True)\n",
        "  #10 critics\n",
        "  args = Config(use_critic=True, use_gae=True)\n",
        "  args.num_critics = 10\n",
        "  # args.batch_size = 4\n",
        "  df_var_ppo = run_experiment(args, update_parameters_ppo)\n",
        "  df_var_ppo['Algorithm'] = 'Var PPO'\n",
        "  df_var_ppo['Seed'] = i\n",
        "  df_var_ppo['episode'] = np.arange(df_var_ppo.shape[0])\n",
        "  df_master = pd.concat((df_master,df_var_ppo),ignore_index=True)"
      ],
      "metadata": {
        "colab": {
          "base_uri": "https://localhost:8080/",
          "height": 49,
          "referenced_widgets": [
            "043eabae337a450e89ff621d446b177f",
            "2e2aad81060f4cec95822d7ff1f81675",
            "31c420a29c884ecba7dbf1b114eaf796",
            "913ddd053125466abb37576109395ca2",
            "6fa3f3fc494a4a57b41c4804d173a7f9",
            "185263b96651402ab1290b8c35a1fcf8",
            "a01a2d61c78c4194ac478f10fd1cdfb9",
            "8d88bfa1e94a445fa147f071e9b1d88a",
            "c59c2519da59444ca95b3c6887309db3",
            "b4ec00b1879747d7ac71eb68a7dbec33",
            "e18a1670cdab4d19ae6a011cdffa8937"
          ]
        },
        "id": "cFfom0NWxWib",
        "outputId": "9f320070-eb00-4fe2-84fa-61f07ca8a84f"
      },
      "execution_count": null,
      "outputs": [
        {
          "output_type": "display_data",
          "data": {
            "text/plain": [
              "  0%|          | 0/2000 [00:00<?, ?it/s]"
            ],
            "application/vnd.jupyter.widget-view+json": {
              "version_major": 2,
              "version_minor": 0,
              "model_id": "043eabae337a450e89ff621d446b177f"
            }
          },
          "metadata": {}
        }
      ]
    },
    {
      "cell_type": "code",
      "source": [
        "with open('df_master_probability (1).pkl', 'rb') as f:\n",
        "  df_master = pickle.load(f)"
      ],
      "metadata": {
        "id": "J_F_OyGqxOdr"
      },
      "execution_count": 17,
      "outputs": []
    },
    {
      "cell_type": "code",
      "source": [
        "df_master.groupby([\"Algorithm\", \"Seed\"], as_index = False).max().groupby('Algorithm').mean()['episode']"
      ],
      "metadata": {
        "id": "KPu8CsUkzWyg",
        "outputId": "04487ea0-0116-4289-9f3d-f463024294f9",
        "colab": {
          "base_uri": "https://localhost:8080/"
        }
      },
      "execution_count": 24,
      "outputs": [
        {
          "output_type": "execute_result",
          "data": {
            "text/plain": [
              "Algorithm\n",
              "baseline       225.000000\n",
              "explore        164.666667\n",
              "exponential    217.833333\n",
              "sharpe         368.000000\n",
              "threshold      146.000000\n",
              "Name: episode, dtype: float64"
            ]
          },
          "metadata": {},
          "execution_count": 24
        }
      ]
    },
    {
      "cell_type": "code",
      "source": [
        "df_master.groupby([\"Algorithm\", \"Seed\"], as_index = False).max().groupby('Algorithm').std()['episode']"
      ],
      "metadata": {
        "id": "biW69p7J0QGY",
        "outputId": "2e989a80-513c-441c-adeb-9dc6692cca6a",
        "colab": {
          "base_uri": "https://localhost:8080/"
        }
      },
      "execution_count": 26,
      "outputs": [
        {
          "output_type": "execute_result",
          "data": {
            "text/plain": [
              "Algorithm\n",
              "baseline       42.787849\n",
              "explore        43.509386\n",
              "exponential    78.657273\n",
              "sharpe         60.817761\n",
              "threshold      32.292414\n",
              "Name: episode, dtype: float64"
            ]
          },
          "metadata": {},
          "execution_count": 26
        }
      ]
    },
    {
      "cell_type": "code",
      "source": [
        "df_master['Seed'].unique()"
      ],
      "metadata": {
        "id": "YoV0mbgmzTBL",
        "outputId": "01d7c379-5c43-452b-e214-d09627b5d094",
        "colab": {
          "base_uri": "https://localhost:8080/"
        }
      },
      "execution_count": 27,
      "outputs": [
        {
          "output_type": "execute_result",
          "data": {
            "text/plain": [
              "array([0, 1, 2, 3, 4, 5])"
            ]
          },
          "metadata": {},
          "execution_count": 27
        }
      ]
    },
    {
      "cell_type": "code",
      "source": [
        "sns.lineplot(data=df_master, x=\"episode\", y=\"smooth_reward\", hue=\"Algorithm\",estimator=\"mean\").set(\n",
        "    title='Comparison of Various Model-Free RL Algorithms on DoorKey')"
      ],
      "metadata": {
        "id": "BMqRyypBVEjx",
        "outputId": "e49c39a6-a1f1-423d-cf6e-2b4da46d0880",
        "colab": {
          "base_uri": "https://localhost:8080/",
          "height": 312
        }
      },
      "execution_count": 18,
      "outputs": [
        {
          "output_type": "execute_result",
          "data": {
            "text/plain": [
              "[Text(0.5, 1.0, 'Comparison of Various Model-Free RL Algorithms on DoorKey')]"
            ]
          },
          "metadata": {},
          "execution_count": 18
        },
        {
          "output_type": "display_data",
          "data": {
            "text/plain": [
              "<Figure size 432x288 with 1 Axes>"
            ],
            "image/png": "[encoded data removed]"
          },
          "metadata": {
            "needs_background": "light"
          }
        }
      ]
    },
    {
      "cell_type": "markdown",
      "metadata": {
        "id": "TC25PuG1oE0z"
      },
      "source": [
        "# Fancy Plots\n",
        "\n",
        "If you've gotten to this point, congrats: you've succesfully implemented REINFORCE, VPG, GAE, and PPO!  While we've been able to anecdotally compare their performance, we don't have any sense of *scientific rigor*.  Notably, given the variance you've likely seen between runs of these models, a single run may not reflect how strong a model really is.\n",
        "\n",
        "For this problem, train each of these 4 methods using multiple seeds (at least 5, but more if you feel you need them).  Then, generate a high quality reward curve plot comparing each algorithm.  The plot should be clean and legible, and clearly demonstrate the performance and variance of each of the approaches.  As an example, see Figure 3 of the PPO paper (although we're only evaluating on a single environment).\n",
        "\n",
        "Be creative and make something pretty: it matters for good science!\n",
        "\n",
        "**Note:** you should leave a few hours for this to run."
      ]
    },
    {
      "cell_type": "code",
      "execution_count": null,
      "metadata": {
        "id": "aXgEr5bDpCB6"
      },
      "outputs": [],
      "source": [
        "### TODO: generate your master comparison plot (30 pts)\n",
        "import time\n",
        "\n",
        "start = time.time()\n",
        "\n",
        "'''\n",
        "REINFORCE\n",
        "'''\n",
        "end = time.time()\n",
        "print(f\"[{end - start}] starting reinforce experiments\")\n",
        "args = Config(score_threshold=1.1)\n",
        "df_reinforce_1 = run_experiment(args, update_parameters_reinforce)\n",
        "df_reinforce_2 = run_experiment(args, update_parameters_reinforce)\n",
        "end = time.time()\n",
        "print(f\"[{end - start}] finished 2 reinforce experiments\")\n",
        "df_reinforce_3 = run_experiment(args, update_parameters_reinforce)\n",
        "df_reinforce_4 = run_experiment(args, update_parameters_reinforce)\n",
        "df_reinforce_5 = run_experiment(args, update_parameters_reinforce)\n",
        "\n",
        "'''\n",
        "REINFORCE with baseline\n",
        "'''\n",
        "end = time.time()\n",
        "print(f\"[{end - start}] starting reinforce with baseline experiments\")\n",
        "args = Config(use_critic=True, score_threshold=1.1)\n",
        "df_baseline_1 = run_experiment(args, update_parameters_with_baseline)\n",
        "df_baseline_2 = run_experiment(args, update_parameters_with_baseline)\n",
        "print(f\"[{end - start}] finished 2 reinforce with baseline experiments\")\n",
        "df_baseline_3 = run_experiment(args, update_parameters_with_baseline)\n",
        "df_baseline_4 = run_experiment(args, update_parameters_with_baseline)\n",
        "df_baseline_5 = run_experiment(args, update_parameters_with_baseline)\n",
        "\n",
        "'''\n",
        "REINFORCE with GAE baseline\n",
        "'''\n",
        "end = time.time()\n",
        "print(f\"[{end - start}] starting reinforce with gae baseline experiments\")\n",
        "args = Config(use_critic=True, use_gae=True, score_threshold=1.1)\n",
        "df_gae_1 = run_experiment(args, update_parameters_with_baseline)\n",
        "df_gae_2 = run_experiment(args, update_parameters_with_baseline)\n",
        "print(f\"[{end - start}] finished 2 reinforce with gae baseline experiments\")\n",
        "df_gae_3 = run_experiment(args, update_parameters_with_baseline)\n",
        "df_gae_4 = run_experiment(args, update_parameters_with_baseline)\n",
        "df_gae_5 = run_experiment(args, update_parameters_with_baseline)\n",
        "\n",
        "'''\n",
        "PPO\n",
        "'''\n",
        "end = time.time()\n",
        "print(f\"[{end - start}] starting ppo experiments\")\n",
        "args = Config(use_critic=True, use_gae=True, score_threshold=1.1)\n",
        "df_ppo_1 = run_experiment(args, update_parameters_ppo)\n",
        "df_ppo_2 = run_experiment(args, update_parameters_ppo)\n",
        "print(f\"[{end - start}] finished 2 ppo experiments\")\n",
        "df_ppo_3 = run_experiment(args, update_parameters_ppo)\n",
        "df_ppo_4 = run_experiment(args, update_parameters_ppo)\n",
        "df_ppo_5 = run_experiment(args, update_parameters_ppo)"
      ]
    },
    {
      "cell_type": "code",
      "execution_count": null,
      "metadata": {
        "id": "t0yXu7BU-wdL",
        "colab": {
          "base_uri": "https://localhost:8080/"
        },
        "outputId": "15744dd0-7280-4b52-91c3-6d379f8b6eca"
      },
      "outputs": [
        {
          "output_type": "stream",
          "name": "stdout",
          "text": [
            "Drive already mounted at /content/drive; to attempt to forcibly remount, call drive.mount(\"/content/drive\", force_remount=True).\n"
          ]
        }
      ],
      "source": [
        "from google.colab import drive \n",
        "drive.mount('/content/drive')\n",
        "\n",
        "save_path = '/content/drive/My Drive/Public/'\n",
        "save = False\n",
        "load = True\n",
        "if save:\n",
        "  '''\n",
        "  REINFORCE \n",
        "  '''\n",
        "  df_reinforce_1.to_csv(f'{save_path}1_reinforce_1.csv')\n",
        "  df_reinforce_2.to_csv(f'{save_path}1_reinforce_2.csv')\n",
        "  df_reinforce_3.to_csv(f'{save_path}1_reinforce_3.csv')\n",
        "  df_reinforce_4.to_csv(f'{save_path}1_reinforce_4.csv')\n",
        "  df_reinforce_5.to_csv(f'{save_path}1_reinforce_5.csv')\n",
        "\n",
        "  '''\n",
        "  REINFORCE with baseline\n",
        "  '''\n",
        "  df_baseline_1.to_csv(f'{save_path}2_baseline_1.csv')\n",
        "  df_baseline_2.to_csv(f'{save_path}2_baseline_2.csv')\n",
        "  df_baseline_3.to_csv(f'{save_path}2_baseline_3.csv')\n",
        "  df_baseline_4.to_csv(f'{save_path}2_baseline_4.csv')\n",
        "  df_baseline_5.to_csv(f'{save_path}2_baseline_5.csv')\n",
        "\n",
        "  '''\n",
        "  REINFORCE with GAE baseline\n",
        "  '''\n",
        "  df_gae_1.to_csv(f'{save_path}3_gae_1.csv')\n",
        "  df_gae_2.to_csv(f'{save_path}3_gae_2.csv')\n",
        "  df_gae_3.to_csv(f'{save_path}3_gae_3.csv')\n",
        "  df_gae_4.to_csv(f'{save_path}3_gae_4.csv')\n",
        "  df_gae_5.to_csv(f'{save_path}3_gae_5.csv')\n",
        "\n",
        "  '''\n",
        "  PPO\n",
        "  '''\n",
        "  df_ppo_1.to_csv(f'{save_path}4_ppo_1.csv')\n",
        "  df_ppo_2.to_csv(f'{save_path}4_ppo_2.csv')\n",
        "  df_ppo_3.to_csv(f'{save_path}4_ppo_3.csv')\n",
        "  df_ppo_4.to_csv(f'{save_path}4_ppo_4.csv')\n",
        "  df_ppo_5.to_csv(f'{save_path}4_ppo_5.csv')\n",
        "elif load:\n",
        "  '''\n",
        "  REINFORCE \n",
        "  '''\n",
        "  pd.DataFrame\n",
        "  df_reinforce_1 = pd.read_csv(f'{save_path}1_reinforce_1.csv')\n",
        "  df_reinforce_2 = pd.read_csv(f'{save_path}1_reinforce_2.csv')\n",
        "  df_reinforce_3 = pd.read_csv(f'{save_path}1_reinforce_3.csv')\n",
        "  df_reinforce_4 = pd.read_csv(f'{save_path}1_reinforce_4.csv')\n",
        "  df_reinforce_5 = pd.read_csv(f'{save_path}1_reinforce_5.csv')\n",
        "\n",
        "  '''\n",
        "  REINFORCE with baseline\n",
        "  '''\n",
        "  df_baseline_1 = pd.read_csv(f'{save_path}2_baseline_1.csv')\n",
        "  df_baseline_2 = pd.read_csv(f'{save_path}2_baseline_2.csv')\n",
        "  df_baseline_3 = pd.read_csv(f'{save_path}2_baseline_3.csv')\n",
        "  df_baseline_4 = pd.read_csv(f'{save_path}2_baseline_4.csv')\n",
        "  df_baseline_5 = pd.read_csv(f'{save_path}2_baseline_5.csv')\n",
        "\n",
        "  '''\n",
        "  REINFORCE with GAE baseline\n",
        "  '''\n",
        "  df_gae_1 = pd.read_csv(f'{save_path}3_gae_1.csv')\n",
        "  df_gae_2 = pd.read_csv(f'{save_path}3_gae_2.csv')\n",
        "  df_gae_3 = pd.read_csv(f'{save_path}3_gae_3.csv')\n",
        "  df_gae_4 = pd.read_csv(f'{save_path}3_gae_4.csv')\n",
        "  df_gae_5 = pd.read_csv(f'{save_path}3_gae_5.csv')\n",
        "\n",
        "  '''\n",
        "  PPO\n",
        "  '''\n",
        "  df_ppo_1 = pd.read_csv(f'{save_path}4_ppo_1.csv')\n",
        "  df_ppo_2 = pd.read_csv(f'{save_path}4_ppo_2.csv')\n",
        "  df_ppo_3 = pd.read_csv(f'{save_path}4_ppo_3.csv')\n",
        "  df_ppo_4 = pd.read_csv(f'{save_path}4_ppo_4.csv')\n",
        "  df_ppo_5 = pd.read_csv(f'{save_path}4_ppo_5.csv')\n",
        "\n"
      ]
    },
    {
      "cell_type": "code",
      "execution_count": null,
      "metadata": {
        "id": "XCUbX2jSBU8M"
      },
      "outputs": [],
      "source": [
        "episodes = [i for i in range(len(df_ppo_1))]\n",
        "ppo_smooth_reward = [df['smooth_reward'] for df in [df_ppo_1, df_ppo_2, df_ppo_3, df_ppo_4, df_ppo_5]]\n",
        "reinforce_gae_smooth_reward = [df['smooth_reward'] for df in [df_gae_1, df_gae_2, df_gae_3, df_gae_4, df_gae_5]]\n",
        "reinforce_baseline_smooth_reward = [df['smooth_reward'] for df in [df_baseline_1, df_baseline_2, df_baseline_3, df_baseline_4, df_baseline_5]]\n",
        "reinforce_smooth_reward = [df['smooth_reward'] for df in [df_reinforce_1, df_reinforce_2, df_reinforce_3, df_reinforce_4, df_reinforce_5]]\n",
        "\n",
        "ppo_np = np.vstack(ppo_smooth_reward)\n",
        "reinforce_gae_np = np.vstack(reinforce_gae_smooth_reward)\n",
        "reinforce_baseline_np = np.vstack(reinforce_baseline_smooth_reward)\n",
        "reinforce_np = np.vstack(reinforce_smooth_reward)\n",
        "\n",
        "ppo_mean = np.mean(ppo_np, axis=0)\n",
        "ppo_std = np.std(ppo_np, axis=0)\n",
        "gae_mean = np.mean(reinforce_gae_np, axis=0)\n",
        "gae_std = np.std(reinforce_gae_np, axis=0)\n",
        "baseline_mean = np.mean(reinforce_baseline_np, axis=0)\n",
        "baseline_std = np.std(reinforce_baseline_np, axis=0)\n",
        "reinforce_mean = np.mean(reinforce_np, axis=0)\n",
        "reinforce_std = np.std(reinforce_np, axis=0)\n"
      ]
    },
    {
      "cell_type": "code",
      "execution_count": null,
      "metadata": {
        "id": "oMvkOiixJy6P",
        "colab": {
          "base_uri": "https://localhost:8080/",
          "height": 285
        },
        "outputId": "a6478f63-5274-4119-8ef4-867bf1b37027"
      },
      "outputs": [
        {
          "output_type": "display_data",
          "data": {
            "image/png": "[encoded data removed]",
            "text/plain": [
              "<Figure size 432x288 with 1 Axes>"
            ]
          },
          "metadata": {}
        }
      ],
      "source": [
        "import seaborn as sns\n",
        "sns.set()\n",
        "\n",
        "plt.plot(episodes, ppo_mean, label='ppo')\n",
        "plt.fill_between(episodes, ppo_mean - ppo_std, ppo_mean + ppo_std, alpha=0.2)\n",
        "\n",
        "plt.plot(episodes, gae_mean, label='gae')\n",
        "plt.fill_between(episodes, gae_mean - gae_std, gae_mean + gae_std, alpha=0.2)\n",
        "\n",
        "plt.plot(episodes, baseline_mean, label='vpg')\n",
        "plt.fill_between(episodes, baseline_mean - baseline_std, baseline_mean + baseline_std, alpha=0.2)\n",
        "\n",
        "plt.plot(episodes, reinforce_mean, label='reinforce')\n",
        "plt.fill_between(episodes, reinforce_mean - reinforce_std, reinforce_mean + reinforce_std, alpha=0.2)\n",
        "\n",
        "plt.xlabel('Episode')\n",
        "plt.ylabel('Smoothed Reward')\n",
        "plt.legend()\n",
        "plt.show()\n"
      ]
    },
    {
      "cell_type": "markdown",
      "metadata": {
        "id": "x9q6j-VUVv9P"
      },
      "source": [
        "# Survey (bonus points, 10 pts)\n",
        "Please fill out [this anonymous survey](https://docs.google.com/forms/d/e/1FAIpQLSd_ZbQryW1NqcLHg8I0zbe4_WDyQ_MNCsJRg3GxBgk1-8cr2w/viewform?usp=sf_link) and enter the code below to receive credit. Thanks!"
      ]
    },
    {
      "cell_type": "markdown",
      "metadata": {
        "id": "gcbA53cCV0RD"
      },
      "source": [
        "**Code:** variance_reduction"
      ]
    }
  ],
  "metadata": {
    "accelerator": "GPU",
    "colab": {
      "collapsed_sections": [],
      "name": "Copy of uncertainty_aware_baseline (probability + exploration).ipynb",
      "provenance": [],
      "include_colab_link": true
    },
    "kernelspec": {
      "display_name": "Python 3 (ipykernel)",
      "language": "python",
      "name": "python3"
    },
    "language_info": {
      "codemirror_mode": {
        "name": "ipython",
        "version": 3
      },
      "file_extension": ".py",
      "mimetype": "text/x-python",
      "name": "python",
      "nbconvert_exporter": "python",
      "pygments_lexer": "ipython3",
      "version": "3.8.6"
    },
    "widgets": {
      "application/vnd.jupyter.widget-state+json": {
        "07d3e9fdd0c749d3852e656571791667": {
          "model_module": "@jupyter-widgets/controls",
          "model_module_version": "1.5.0",
          "model_name": "ProgressStyleModel",
          "state": {
            "_model_module": "@jupyter-widgets/controls",
            "_model_module_version": "1.5.0",
            "_model_name": "ProgressStyleModel",
            "_view_count": null,
            "_view_module": "@jupyter-widgets/base",
            "_view_module_version": "1.2.0",
            "_view_name": "StyleView",
            "bar_color": null,
            "description_width": ""
          }
        },
        "0ff3bddb64d5450998740912bc90796a": {
          "model_module": "@jupyter-widgets/base",
          "model_module_version": "1.2.0",
          "model_name": "LayoutModel",
          "state": {
            "_model_module": "@jupyter-widgets/base",
            "_model_module_version": "1.2.0",
            "_model_name": "LayoutModel",
            "_view_count": null,
            "_view_module": "@jupyter-widgets/base",
            "_view_module_version": "1.2.0",
            "_view_name": "LayoutView",
            "align_content": null,
            "align_items": null,
            "align_self": null,
            "border": null,
            "bottom": null,
            "display": null,
            "flex": null,
            "flex_flow": null,
            "grid_area": null,
            "grid_auto_columns": null,
            "grid_auto_flow": null,
            "grid_auto_rows": null,
            "grid_column": null,
            "grid_gap": null,
            "grid_row": null,
            "grid_template_areas": null,
            "grid_template_columns": null,
            "grid_template_rows": null,
            "height": null,
            "justify_content": null,
            "justify_items": null,
            "left": null,
            "margin": null,
            "max_height": null,
            "max_width": null,
            "min_height": null,
            "min_width": null,
            "object_fit": null,
            "object_position": null,
            "order": null,
            "overflow": null,
            "overflow_x": null,
            "overflow_y": null,
            "padding": null,
            "right": null,
            "top": null,
            "visibility": null,
            "width": null
          }
        },
        "16ea176c5aeb4622960088553b86a241": {
          "model_module": "@jupyter-widgets/controls",
          "model_module_version": "1.5.0",
          "model_name": "ProgressStyleModel",
          "state": {
            "_model_module": "@jupyter-widgets/controls",
            "_model_module_version": "1.5.0",
            "_model_name": "ProgressStyleModel",
            "_view_count": null,
            "_view_module": "@jupyter-widgets/base",
            "_view_module_version": "1.2.0",
            "_view_name": "StyleView",
            "bar_color": null,
            "description_width": ""
          }
        },
        "1e0aea80bd814c89ab28d67fafe27a01": {
          "model_module": "@jupyter-widgets/controls",
          "model_module_version": "1.5.0",
          "model_name": "FloatProgressModel",
          "state": {
            "_dom_classes": [],
            "_model_module": "@jupyter-widgets/controls",
            "_model_module_version": "1.5.0",
            "_model_name": "FloatProgressModel",
            "_view_count": null,
            "_view_module": "@jupyter-widgets/controls",
            "_view_module_version": "1.5.0",
            "_view_name": "ProgressView",
            "bar_style": "success",
            "description": "",
            "description_tooltip": null,
            "layout": "IPY_MODEL_d17e3d318a5e4427966e1e2d914d646c",
            "max": 2000,
            "min": 0,
            "orientation": "horizontal",
            "style": "IPY_MODEL_16ea176c5aeb4622960088553b86a241",
            "value": 2000
          }
        },
        "20b7a6d6082a47a4a53594ab70205fb5": {
          "model_module": "@jupyter-widgets/base",
          "model_module_version": "1.2.0",
          "model_name": "LayoutModel",
          "state": {
            "_model_module": "@jupyter-widgets/base",
            "_model_module_version": "1.2.0",
            "_model_name": "LayoutModel",
            "_view_count": null,
            "_view_module": "@jupyter-widgets/base",
            "_view_module_version": "1.2.0",
            "_view_name": "LayoutView",
            "align_content": null,
            "align_items": null,
            "align_self": null,
            "border": null,
            "bottom": null,
            "display": null,
            "flex": null,
            "flex_flow": null,
            "grid_area": null,
            "grid_auto_columns": null,
            "grid_auto_flow": null,
            "grid_auto_rows": null,
            "grid_column": null,
            "grid_gap": null,
            "grid_row": null,
            "grid_template_areas": null,
            "grid_template_columns": null,
            "grid_template_rows": null,
            "height": null,
            "justify_content": null,
            "justify_items": null,
            "left": null,
            "margin": null,
            "max_height": null,
            "max_width": null,
            "min_height": null,
            "min_width": null,
            "object_fit": null,
            "object_position": null,
            "order": null,
            "overflow": null,
            "overflow_x": null,
            "overflow_y": null,
            "padding": null,
            "right": null,
            "top": null,
            "visibility": null,
            "width": null
          }
        },
        "286ad20438f64ddebe5ed7a924eaf12b": {
          "model_module": "@jupyter-widgets/controls",
          "model_module_version": "1.5.0",
          "model_name": "HTMLModel",
          "state": {
            "_dom_classes": [],
            "_model_module": "@jupyter-widgets/controls",
            "_model_module_version": "1.5.0",
            "_model_name": "HTMLModel",
            "_view_count": null,
            "_view_module": "@jupyter-widgets/controls",
            "_view_module_version": "1.5.0",
            "_view_name": "HTMLView",
            "description": "",
            "description_tooltip": null,
            "layout": "IPY_MODEL_20b7a6d6082a47a4a53594ab70205fb5",
            "placeholder": "​",
            "style": "IPY_MODEL_cffa2961c8bc4e4f91a1b1e49920e821",
            "value": " 42%"
          }
        },
        "3fd20892839a454fa579bf30cdd7642a": {
          "model_module": "@jupyter-widgets/base",
          "model_module_version": "1.2.0",
          "model_name": "LayoutModel",
          "state": {
            "_model_module": "@jupyter-widgets/base",
            "_model_module_version": "1.2.0",
            "_model_name": "LayoutModel",
            "_view_count": null,
            "_view_module": "@jupyter-widgets/base",
            "_view_module_version": "1.2.0",
            "_view_name": "LayoutView",
            "align_content": null,
            "align_items": null,
            "align_self": null,
            "border": null,
            "bottom": null,
            "display": null,
            "flex": null,
            "flex_flow": null,
            "grid_area": null,
            "grid_auto_columns": null,
            "grid_auto_flow": null,
            "grid_auto_rows": null,
            "grid_column": null,
            "grid_gap": null,
            "grid_row": null,
            "grid_template_areas": null,
            "grid_template_columns": null,
            "grid_template_rows": null,
            "height": null,
            "justify_content": null,
            "justify_items": null,
            "left": null,
            "margin": null,
            "max_height": null,
            "max_width": null,
            "min_height": null,
            "min_width": null,
            "object_fit": null,
            "object_position": null,
            "order": null,
            "overflow": null,
            "overflow_x": null,
            "overflow_y": null,
            "padding": null,
            "right": null,
            "top": null,
            "visibility": null,
            "width": null
          }
        },
        "4e0cabbe84c44cf48c364595ac1ebcf8": {
          "model_module": "@jupyter-widgets/base",
          "model_module_version": "1.2.0",
          "model_name": "LayoutModel",
          "state": {
            "_model_module": "@jupyter-widgets/base",
            "_model_module_version": "1.2.0",
            "_model_name": "LayoutModel",
            "_view_count": null,
            "_view_module": "@jupyter-widgets/base",
            "_view_module_version": "1.2.0",
            "_view_name": "LayoutView",
            "align_content": null,
            "align_items": null,
            "align_self": null,
            "border": null,
            "bottom": null,
            "display": null,
            "flex": null,
            "flex_flow": null,
            "grid_area": null,
            "grid_auto_columns": null,
            "grid_auto_flow": null,
            "grid_auto_rows": null,
            "grid_column": null,
            "grid_gap": null,
            "grid_row": null,
            "grid_template_areas": null,
            "grid_template_columns": null,
            "grid_template_rows": null,
            "height": null,
            "justify_content": null,
            "justify_items": null,
            "left": null,
            "margin": null,
            "max_height": null,
            "max_width": null,
            "min_height": null,
            "min_width": null,
            "object_fit": null,
            "object_position": null,
            "order": null,
            "overflow": null,
            "overflow_x": null,
            "overflow_y": null,
            "padding": null,
            "right": null,
            "top": null,
            "visibility": null,
            "width": null
          }
        },
        "51b9afbdddd14a74aa40b4cced6e30f9": {
          "model_module": "@jupyter-widgets/controls",
          "model_module_version": "1.5.0",
          "model_name": "DescriptionStyleModel",
          "state": {
            "_model_module": "@jupyter-widgets/controls",
            "_model_module_version": "1.5.0",
            "_model_name": "DescriptionStyleModel",
            "_view_count": null,
            "_view_module": "@jupyter-widgets/base",
            "_view_module_version": "1.2.0",
            "_view_name": "StyleView",
            "description_width": ""
          }
        },
        "53492ba321f848919ec8777965023ddf": {
          "model_module": "@jupyter-widgets/controls",
          "model_module_version": "1.5.0",
          "model_name": "HBoxModel",
          "state": {
            "_dom_classes": [],
            "_model_module": "@jupyter-widgets/controls",
            "_model_module_version": "1.5.0",
            "_model_name": "HBoxModel",
            "_view_count": null,
            "_view_module": "@jupyter-widgets/controls",
            "_view_module_version": "1.5.0",
            "_view_name": "HBoxView",
            "box_style": "",
            "children": [
              "IPY_MODEL_db785b97bfc9421980272115331a4d30",
              "IPY_MODEL_fa0714f1c1f34e2d86d4c47581469357",
              "IPY_MODEL_cb38a3f44ded40b9881ebe9664ff6ce9"
            ],
            "layout": "IPY_MODEL_4e0cabbe84c44cf48c364595ac1ebcf8"
          }
        },
        "5a651c81c1fe4f4c916c8022cf0812e3": {
          "model_module": "@jupyter-widgets/base",
          "model_module_version": "1.2.0",
          "model_name": "LayoutModel",
          "state": {
            "_model_module": "@jupyter-widgets/base",
            "_model_module_version": "1.2.0",
            "_model_name": "LayoutModel",
            "_view_count": null,
            "_view_module": "@jupyter-widgets/base",
            "_view_module_version": "1.2.0",
            "_view_name": "LayoutView",
            "align_content": null,
            "align_items": null,
            "align_self": null,
            "border": null,
            "bottom": null,
            "display": null,
            "flex": null,
            "flex_flow": null,
            "grid_area": null,
            "grid_auto_columns": null,
            "grid_auto_flow": null,
            "grid_auto_rows": null,
            "grid_column": null,
            "grid_gap": null,
            "grid_row": null,
            "grid_template_areas": null,
            "grid_template_columns": null,
            "grid_template_rows": null,
            "height": null,
            "justify_content": null,
            "justify_items": null,
            "left": null,
            "margin": null,
            "max_height": null,
            "max_width": null,
            "min_height": null,
            "min_width": null,
            "object_fit": null,
            "object_position": null,
            "order": null,
            "overflow": null,
            "overflow_x": null,
            "overflow_y": null,
            "padding": null,
            "right": null,
            "top": null,
            "visibility": null,
            "width": null
          }
        },
        "6ce0b7e030214309bb37d0025c4703e8": {
          "model_module": "@jupyter-widgets/base",
          "model_module_version": "1.2.0",
          "model_name": "LayoutModel",
          "state": {
            "_model_module": "@jupyter-widgets/base",
            "_model_module_version": "1.2.0",
            "_model_name": "LayoutModel",
            "_view_count": null,
            "_view_module": "@jupyter-widgets/base",
            "_view_module_version": "1.2.0",
            "_view_name": "LayoutView",
            "align_content": null,
            "align_items": null,
            "align_self": null,
            "border": null,
            "bottom": null,
            "display": null,
            "flex": null,
            "flex_flow": null,
            "grid_area": null,
            "grid_auto_columns": null,
            "grid_auto_flow": null,
            "grid_auto_rows": null,
            "grid_column": null,
            "grid_gap": null,
            "grid_row": null,
            "grid_template_areas": null,
            "grid_template_columns": null,
            "grid_template_rows": null,
            "height": null,
            "justify_content": null,
            "justify_items": null,
            "left": null,
            "margin": null,
            "max_height": null,
            "max_width": null,
            "min_height": null,
            "min_width": null,
            "object_fit": null,
            "object_position": null,
            "order": null,
            "overflow": null,
            "overflow_x": null,
            "overflow_y": null,
            "padding": null,
            "right": null,
            "top": null,
            "visibility": null,
            "width": null
          }
        },
        "6f49a564b53943218a7363cfbb3f2504": {
          "model_module": "@jupyter-widgets/controls",
          "model_module_version": "1.5.0",
          "model_name": "HTMLModel",
          "state": {
            "_dom_classes": [],
            "_model_module": "@jupyter-widgets/controls",
            "_model_module_version": "1.5.0",
            "_model_name": "HTMLModel",
            "_view_count": null,
            "_view_module": "@jupyter-widgets/controls",
            "_view_module_version": "1.5.0",
            "_view_name": "HTMLView",
            "description": "",
            "description_tooltip": null,
            "layout": "IPY_MODEL_7ebce1e5de904962bbf5a9a70d9283c8",
            "placeholder": "​",
            "style": "IPY_MODEL_e551c50b92ae4a649ea93e0c2af07604",
            "value": "100%"
          }
        },
        "776be9904b9a4b9f9b89f11c00ad41b6": {
          "model_module": "@jupyter-widgets/controls",
          "model_module_version": "1.5.0",
          "model_name": "HTMLModel",
          "state": {
            "_dom_classes": [],
            "_model_module": "@jupyter-widgets/controls",
            "_model_module_version": "1.5.0",
            "_model_name": "HTMLModel",
            "_view_count": null,
            "_view_module": "@jupyter-widgets/controls",
            "_view_module_version": "1.5.0",
            "_view_name": "HTMLView",
            "description": "",
            "description_tooltip": null,
            "layout": "IPY_MODEL_5a651c81c1fe4f4c916c8022cf0812e3",
            "placeholder": "​",
            "style": "IPY_MODEL_bbddc0f67569429db405a0e90625d60d",
            "value": " 839/2000 [08:03&lt;03:13,  6.00it/s, episode=839, num_frames=160954, smooth_reward=0.94, reward=1, policy_loss=-.104, value_loss=0.0138]"
          }
        },
        "7a31c1c6d25f4b32b548633cd81028fe": {
          "model_module": "@jupyter-widgets/controls",
          "model_module_version": "1.5.0",
          "model_name": "FloatProgressModel",
          "state": {
            "_dom_classes": [],
            "_model_module": "@jupyter-widgets/controls",
            "_model_module_version": "1.5.0",
            "_model_name": "FloatProgressModel",
            "_view_count": null,
            "_view_module": "@jupyter-widgets/controls",
            "_view_module_version": "1.5.0",
            "_view_name": "ProgressView",
            "bar_style": "danger",
            "description": "",
            "description_tooltip": null,
            "layout": "IPY_MODEL_db7dd3432ac04e948e95c4f5194cd12b",
            "max": 2000,
            "min": 0,
            "orientation": "horizontal",
            "style": "IPY_MODEL_d2e6fd29f9544102af1a0148262c4fbd",
            "value": 839
          }
        },
        "7ebce1e5de904962bbf5a9a70d9283c8": {
          "model_module": "@jupyter-widgets/base",
          "model_module_version": "1.2.0",
          "model_name": "LayoutModel",
          "state": {
            "_model_module": "@jupyter-widgets/base",
            "_model_module_version": "1.2.0",
            "_model_name": "LayoutModel",
            "_view_count": null,
            "_view_module": "@jupyter-widgets/base",
            "_view_module_version": "1.2.0",
            "_view_name": "LayoutView",
            "align_content": null,
            "align_items": null,
            "align_self": null,
            "border": null,
            "bottom": null,
            "display": null,
            "flex": null,
            "flex_flow": null,
            "grid_area": null,
            "grid_auto_columns": null,
            "grid_auto_flow": null,
            "grid_auto_rows": null,
            "grid_column": null,
            "grid_gap": null,
            "grid_row": null,
            "grid_template_areas": null,
            "grid_template_columns": null,
            "grid_template_rows": null,
            "height": null,
            "justify_content": null,
            "justify_items": null,
            "left": null,
            "margin": null,
            "max_height": null,
            "max_width": null,
            "min_height": null,
            "min_width": null,
            "object_fit": null,
            "object_position": null,
            "order": null,
            "overflow": null,
            "overflow_x": null,
            "overflow_y": null,
            "padding": null,
            "right": null,
            "top": null,
            "visibility": null,
            "width": null
          }
        },
        "8af70ce07a4c4f49b85d9fd1b83ec3b8": {
          "model_module": "@jupyter-widgets/controls",
          "model_module_version": "1.5.0",
          "model_name": "HBoxModel",
          "state": {
            "_dom_classes": [],
            "_model_module": "@jupyter-widgets/controls",
            "_model_module_version": "1.5.0",
            "_model_name": "HBoxModel",
            "_view_count": null,
            "_view_module": "@jupyter-widgets/controls",
            "_view_module_version": "1.5.0",
            "_view_name": "HBoxView",
            "box_style": "",
            "children": [
              "IPY_MODEL_6f49a564b53943218a7363cfbb3f2504",
              "IPY_MODEL_1e0aea80bd814c89ab28d67fafe27a01",
              "IPY_MODEL_ecb94a3be8214c36af90a557612f741f"
            ],
            "layout": "IPY_MODEL_ac372afd08bc465cb8754fa29c6c323d"
          }
        },
        "a8e267f8eb224876a7fb8477b4a79083": {
          "model_module": "@jupyter-widgets/controls",
          "model_module_version": "1.5.0",
          "model_name": "DescriptionStyleModel",
          "state": {
            "_model_module": "@jupyter-widgets/controls",
            "_model_module_version": "1.5.0",
            "_model_name": "DescriptionStyleModel",
            "_view_count": null,
            "_view_module": "@jupyter-widgets/base",
            "_view_module_version": "1.2.0",
            "_view_name": "StyleView",
            "description_width": ""
          }
        },
        "ac372afd08bc465cb8754fa29c6c323d": {
          "model_module": "@jupyter-widgets/base",
          "model_module_version": "1.2.0",
          "model_name": "LayoutModel",
          "state": {
            "_model_module": "@jupyter-widgets/base",
            "_model_module_version": "1.2.0",
            "_model_name": "LayoutModel",
            "_view_count": null,
            "_view_module": "@jupyter-widgets/base",
            "_view_module_version": "1.2.0",
            "_view_name": "LayoutView",
            "align_content": null,
            "align_items": null,
            "align_self": null,
            "border": null,
            "bottom": null,
            "display": null,
            "flex": null,
            "flex_flow": null,
            "grid_area": null,
            "grid_auto_columns": null,
            "grid_auto_flow": null,
            "grid_auto_rows": null,
            "grid_column": null,
            "grid_gap": null,
            "grid_row": null,
            "grid_template_areas": null,
            "grid_template_columns": null,
            "grid_template_rows": null,
            "height": null,
            "justify_content": null,
            "justify_items": null,
            "left": null,
            "margin": null,
            "max_height": null,
            "max_width": null,
            "min_height": null,
            "min_width": null,
            "object_fit": null,
            "object_position": null,
            "order": null,
            "overflow": null,
            "overflow_x": null,
            "overflow_y": null,
            "padding": null,
            "right": null,
            "top": null,
            "visibility": null,
            "width": null
          }
        },
        "b8b6d22859a54f0c842fb5a597834081": {
          "model_module": "@jupyter-widgets/base",
          "model_module_version": "1.2.0",
          "model_name": "LayoutModel",
          "state": {
            "_model_module": "@jupyter-widgets/base",
            "_model_module_version": "1.2.0",
            "_model_name": "LayoutModel",
            "_view_count": null,
            "_view_module": "@jupyter-widgets/base",
            "_view_module_version": "1.2.0",
            "_view_name": "LayoutView",
            "align_content": null,
            "align_items": null,
            "align_self": null,
            "border": null,
            "bottom": null,
            "display": null,
            "flex": null,
            "flex_flow": null,
            "grid_area": null,
            "grid_auto_columns": null,
            "grid_auto_flow": null,
            "grid_auto_rows": null,
            "grid_column": null,
            "grid_gap": null,
            "grid_row": null,
            "grid_template_areas": null,
            "grid_template_columns": null,
            "grid_template_rows": null,
            "height": null,
            "justify_content": null,
            "justify_items": null,
            "left": null,
            "margin": null,
            "max_height": null,
            "max_width": null,
            "min_height": null,
            "min_width": null,
            "object_fit": null,
            "object_position": null,
            "order": null,
            "overflow": null,
            "overflow_x": null,
            "overflow_y": null,
            "padding": null,
            "right": null,
            "top": null,
            "visibility": null,
            "width": null
          }
        },
        "bbddc0f67569429db405a0e90625d60d": {
          "model_module": "@jupyter-widgets/controls",
          "model_module_version": "1.5.0",
          "model_name": "DescriptionStyleModel",
          "state": {
            "_model_module": "@jupyter-widgets/controls",
            "_model_module_version": "1.5.0",
            "_model_name": "DescriptionStyleModel",
            "_view_count": null,
            "_view_module": "@jupyter-widgets/base",
            "_view_module_version": "1.2.0",
            "_view_name": "StyleView",
            "description_width": ""
          }
        },
        "cb38a3f44ded40b9881ebe9664ff6ce9": {
          "model_module": "@jupyter-widgets/controls",
          "model_module_version": "1.5.0",
          "model_name": "HTMLModel",
          "state": {
            "_dom_classes": [],
            "_model_module": "@jupyter-widgets/controls",
            "_model_module_version": "1.5.0",
            "_model_name": "HTMLModel",
            "_view_count": null,
            "_view_module": "@jupyter-widgets/controls",
            "_view_module_version": "1.5.0",
            "_view_name": "HTMLView",
            "description": "",
            "description_tooltip": null,
            "layout": "IPY_MODEL_0ff3bddb64d5450998740912bc90796a",
            "placeholder": "​",
            "style": "IPY_MODEL_51b9afbdddd14a74aa40b4cced6e30f9",
            "value": " 535/2000 [03:15&lt;02:13, 11.00it/s, episode=535, num_frames=82912, smooth_reward=0.94, reward=1, policy_loss=0.941]"
          }
        },
        "cffa2961c8bc4e4f91a1b1e49920e821": {
          "model_module": "@jupyter-widgets/controls",
          "model_module_version": "1.5.0",
          "model_name": "DescriptionStyleModel",
          "state": {
            "_model_module": "@jupyter-widgets/controls",
            "_model_module_version": "1.5.0",
            "_model_name": "DescriptionStyleModel",
            "_view_count": null,
            "_view_module": "@jupyter-widgets/base",
            "_view_module_version": "1.2.0",
            "_view_name": "StyleView",
            "description_width": ""
          }
        },
        "d17e3d318a5e4427966e1e2d914d646c": {
          "model_module": "@jupyter-widgets/base",
          "model_module_version": "1.2.0",
          "model_name": "LayoutModel",
          "state": {
            "_model_module": "@jupyter-widgets/base",
            "_model_module_version": "1.2.0",
            "_model_name": "LayoutModel",
            "_view_count": null,
            "_view_module": "@jupyter-widgets/base",
            "_view_module_version": "1.2.0",
            "_view_name": "LayoutView",
            "align_content": null,
            "align_items": null,
            "align_self": null,
            "border": null,
            "bottom": null,
            "display": null,
            "flex": null,
            "flex_flow": null,
            "grid_area": null,
            "grid_auto_columns": null,
            "grid_auto_flow": null,
            "grid_auto_rows": null,
            "grid_column": null,
            "grid_gap": null,
            "grid_row": null,
            "grid_template_areas": null,
            "grid_template_columns": null,
            "grid_template_rows": null,
            "height": null,
            "justify_content": null,
            "justify_items": null,
            "left": null,
            "margin": null,
            "max_height": null,
            "max_width": null,
            "min_height": null,
            "min_width": null,
            "object_fit": null,
            "object_position": null,
            "order": null,
            "overflow": null,
            "overflow_x": null,
            "overflow_y": null,
            "padding": null,
            "right": null,
            "top": null,
            "visibility": null,
            "width": null
          }
        },
        "d2e6fd29f9544102af1a0148262c4fbd": {
          "model_module": "@jupyter-widgets/controls",
          "model_module_version": "1.5.0",
          "model_name": "ProgressStyleModel",
          "state": {
            "_model_module": "@jupyter-widgets/controls",
            "_model_module_version": "1.5.0",
            "_model_name": "ProgressStyleModel",
            "_view_count": null,
            "_view_module": "@jupyter-widgets/base",
            "_view_module_version": "1.2.0",
            "_view_name": "StyleView",
            "bar_color": null,
            "description_width": ""
          }
        },
        "d40b4969a3e244bf8de3889bdcce7a58": {
          "model_module": "@jupyter-widgets/base",
          "model_module_version": "1.2.0",
          "model_name": "LayoutModel",
          "state": {
            "_model_module": "@jupyter-widgets/base",
            "_model_module_version": "1.2.0",
            "_model_name": "LayoutModel",
            "_view_count": null,
            "_view_module": "@jupyter-widgets/base",
            "_view_module_version": "1.2.0",
            "_view_name": "LayoutView",
            "align_content": null,
            "align_items": null,
            "align_self": null,
            "border": null,
            "bottom": null,
            "display": null,
            "flex": null,
            "flex_flow": null,
            "grid_area": null,
            "grid_auto_columns": null,
            "grid_auto_flow": null,
            "grid_auto_rows": null,
            "grid_column": null,
            "grid_gap": null,
            "grid_row": null,
            "grid_template_areas": null,
            "grid_template_columns": null,
            "grid_template_rows": null,
            "height": null,
            "justify_content": null,
            "justify_items": null,
            "left": null,
            "margin": null,
            "max_height": null,
            "max_width": null,
            "min_height": null,
            "min_width": null,
            "object_fit": null,
            "object_position": null,
            "order": null,
            "overflow": null,
            "overflow_x": null,
            "overflow_y": null,
            "padding": null,
            "right": null,
            "top": null,
            "visibility": null,
            "width": null
          }
        },
        "db785b97bfc9421980272115331a4d30": {
          "model_module": "@jupyter-widgets/controls",
          "model_module_version": "1.5.0",
          "model_name": "HTMLModel",
          "state": {
            "_dom_classes": [],
            "_model_module": "@jupyter-widgets/controls",
            "_model_module_version": "1.5.0",
            "_model_name": "HTMLModel",
            "_view_count": null,
            "_view_module": "@jupyter-widgets/controls",
            "_view_module_version": "1.5.0",
            "_view_name": "HTMLView",
            "description": "",
            "description_tooltip": null,
            "layout": "IPY_MODEL_d40b4969a3e244bf8de3889bdcce7a58",
            "placeholder": "​",
            "style": "IPY_MODEL_a8e267f8eb224876a7fb8477b4a79083",
            "value": " 27%"
          }
        },
        "db7dd3432ac04e948e95c4f5194cd12b": {
          "model_module": "@jupyter-widgets/base",
          "model_module_version": "1.2.0",
          "model_name": "LayoutModel",
          "state": {
            "_model_module": "@jupyter-widgets/base",
            "_model_module_version": "1.2.0",
            "_model_name": "LayoutModel",
            "_view_count": null,
            "_view_module": "@jupyter-widgets/base",
            "_view_module_version": "1.2.0",
            "_view_name": "LayoutView",
            "align_content": null,
            "align_items": null,
            "align_self": null,
            "border": null,
            "bottom": null,
            "display": null,
            "flex": null,
            "flex_flow": null,
            "grid_area": null,
            "grid_auto_columns": null,
            "grid_auto_flow": null,
            "grid_auto_rows": null,
            "grid_column": null,
            "grid_gap": null,
            "grid_row": null,
            "grid_template_areas": null,
            "grid_template_columns": null,
            "grid_template_rows": null,
            "height": null,
            "justify_content": null,
            "justify_items": null,
            "left": null,
            "margin": null,
            "max_height": null,
            "max_width": null,
            "min_height": null,
            "min_width": null,
            "object_fit": null,
            "object_position": null,
            "order": null,
            "overflow": null,
            "overflow_x": null,
            "overflow_y": null,
            "padding": null,
            "right": null,
            "top": null,
            "visibility": null,
            "width": null
          }
        },
        "e551c50b92ae4a649ea93e0c2af07604": {
          "model_module": "@jupyter-widgets/controls",
          "model_module_version": "1.5.0",
          "model_name": "DescriptionStyleModel",
          "state": {
            "_model_module": "@jupyter-widgets/controls",
            "_model_module_version": "1.5.0",
            "_model_name": "DescriptionStyleModel",
            "_view_count": null,
            "_view_module": "@jupyter-widgets/base",
            "_view_module_version": "1.2.0",
            "_view_name": "StyleView",
            "description_width": ""
          }
        },
        "ecb94a3be8214c36af90a557612f741f": {
          "model_module": "@jupyter-widgets/controls",
          "model_module_version": "1.5.0",
          "model_name": "HTMLModel",
          "state": {
            "_dom_classes": [],
            "_model_module": "@jupyter-widgets/controls",
            "_model_module_version": "1.5.0",
            "_model_name": "HTMLModel",
            "_view_count": null,
            "_view_module": "@jupyter-widgets/controls",
            "_view_module_version": "1.5.0",
            "_view_name": "HTMLView",
            "description": "",
            "description_tooltip": null,
            "layout": "IPY_MODEL_b8b6d22859a54f0c842fb5a597834081",
            "placeholder": "​",
            "style": "IPY_MODEL_f528eae4a8ee43aea913f81ee133669f",
            "value": " 2000/2000 [19:31&lt;00:00,  1.72it/s, episode=1999, num_frames=498522, smooth_reward=0, reward=0, policy_loss=-]"
          }
        },
        "f528eae4a8ee43aea913f81ee133669f": {
          "model_module": "@jupyter-widgets/controls",
          "model_module_version": "1.5.0",
          "model_name": "DescriptionStyleModel",
          "state": {
            "_model_module": "@jupyter-widgets/controls",
            "_model_module_version": "1.5.0",
            "_model_name": "DescriptionStyleModel",
            "_view_count": null,
            "_view_module": "@jupyter-widgets/base",
            "_view_module_version": "1.2.0",
            "_view_name": "StyleView",
            "description_width": ""
          }
        },
        "fa0714f1c1f34e2d86d4c47581469357": {
          "model_module": "@jupyter-widgets/controls",
          "model_module_version": "1.5.0",
          "model_name": "FloatProgressModel",
          "state": {
            "_dom_classes": [],
            "_model_module": "@jupyter-widgets/controls",
            "_model_module_version": "1.5.0",
            "_model_name": "FloatProgressModel",
            "_view_count": null,
            "_view_module": "@jupyter-widgets/controls",
            "_view_module_version": "1.5.0",
            "_view_name": "ProgressView",
            "bar_style": "danger",
            "description": "",
            "description_tooltip": null,
            "layout": "IPY_MODEL_6ce0b7e030214309bb37d0025c4703e8",
            "max": 2000,
            "min": 0,
            "orientation": "horizontal",
            "style": "IPY_MODEL_07d3e9fdd0c749d3852e656571791667",
            "value": 535
          }
        },
        "fef34ddbbc154959999b4b94a47297a8": {
          "model_module": "@jupyter-widgets/controls",
          "model_module_version": "1.5.0",
          "model_name": "HBoxModel",
          "state": {
            "_dom_classes": [],
            "_model_module": "@jupyter-widgets/controls",
            "_model_module_version": "1.5.0",
            "_model_name": "HBoxModel",
            "_view_count": null,
            "_view_module": "@jupyter-widgets/controls",
            "_view_module_version": "1.5.0",
            "_view_name": "HBoxView",
            "box_style": "",
            "children": [
              "IPY_MODEL_286ad20438f64ddebe5ed7a924eaf12b",
              "IPY_MODEL_7a31c1c6d25f4b32b548633cd81028fe",
              "IPY_MODEL_776be9904b9a4b9f9b89f11c00ad41b6"
            ],
            "layout": "IPY_MODEL_3fd20892839a454fa579bf30cdd7642a"
          }
        },
        "a794b25c7bb440269ac9aa50089bcefd": {
          "model_module": "@jupyter-widgets/controls",
          "model_name": "HBoxModel",
          "model_module_version": "1.5.0",
          "state": {
            "_view_name": "HBoxView",
            "_dom_classes": [],
            "_model_name": "HBoxModel",
            "_view_module": "@jupyter-widgets/controls",
            "_model_module_version": "1.5.0",
            "_view_count": null,
            "_view_module_version": "1.5.0",
            "box_style": "",
            "layout": "IPY_MODEL_bef430469970497eb281913feee65c03",
            "_model_module": "@jupyter-widgets/controls",
            "children": [
              "IPY_MODEL_b91e15fc82b740f5896fc90bfa218ea6",
              "IPY_MODEL_5e3a4f8af6f24a7aa02a6cbf8658f58a",
              "IPY_MODEL_10988ae4bbd047bfa661d772af1ee4f2"
            ]
          }
        },
        "bef430469970497eb281913feee65c03": {
          "model_module": "@jupyter-widgets/base",
          "model_name": "LayoutModel",
          "model_module_version": "1.2.0",
          "state": {
            "_view_name": "LayoutView",
            "grid_template_rows": null,
            "right": null,
            "justify_content": null,
            "_view_module": "@jupyter-widgets/base",
            "overflow": null,
            "_model_module_version": "1.2.0",
            "_view_count": null,
            "flex_flow": null,
            "width": null,
            "min_width": null,
            "border": null,
            "align_items": null,
            "bottom": null,
            "_model_module": "@jupyter-widgets/base",
            "top": null,
            "grid_column": null,
            "overflow_y": null,
            "overflow_x": null,
            "grid_auto_flow": null,
            "grid_area": null,
            "grid_template_columns": null,
            "flex": null,
            "_model_name": "LayoutModel",
            "justify_items": null,
            "grid_row": null,
            "max_height": null,
            "align_content": null,
            "visibility": null,
            "align_self": null,
            "height": null,
            "min_height": null,
            "padding": null,
            "grid_auto_rows": null,
            "grid_gap": null,
            "max_width": null,
            "order": null,
            "_view_module_version": "1.2.0",
            "grid_template_areas": null,
            "object_position": null,
            "object_fit": null,
            "grid_auto_columns": null,
            "margin": null,
            "display": null,
            "left": null
          }
        },
        "b91e15fc82b740f5896fc90bfa218ea6": {
          "model_module": "@jupyter-widgets/controls",
          "model_name": "HTMLModel",
          "model_module_version": "1.5.0",
          "state": {
            "_view_name": "HTMLView",
            "style": "IPY_MODEL_71adfcc9020e48e49f9e3d919ef5116a",
            "_dom_classes": [],
            "description": "",
            "_model_name": "HTMLModel",
            "placeholder": "​",
            "_view_module": "@jupyter-widgets/controls",
            "_model_module_version": "1.5.0",
            "value": " 10%",
            "_view_count": null,
            "_view_module_version": "1.5.0",
            "description_tooltip": null,
            "_model_module": "@jupyter-widgets/controls",
            "layout": "IPY_MODEL_2a93166db77c44f193cee6065ff70145"
          }
        },
        "5e3a4f8af6f24a7aa02a6cbf8658f58a": {
          "model_module": "@jupyter-widgets/controls",
          "model_name": "FloatProgressModel",
          "model_module_version": "1.5.0",
          "state": {
            "_view_name": "ProgressView",
            "style": "IPY_MODEL_485661086d92447fa7e78c431bd799e0",
            "_dom_classes": [],
            "description": "",
            "_model_name": "FloatProgressModel",
            "bar_style": "danger",
            "max": 2000,
            "_view_module": "@jupyter-widgets/controls",
            "_model_module_version": "1.5.0",
            "value": 209,
            "_view_count": null,
            "_view_module_version": "1.5.0",
            "orientation": "horizontal",
            "min": 0,
            "description_tooltip": null,
            "_model_module": "@jupyter-widgets/controls",
            "layout": "IPY_MODEL_72a08bcff8c243788d8170c1046dde81"
          }
        },
        "10988ae4bbd047bfa661d772af1ee4f2": {
          "model_module": "@jupyter-widgets/controls",
          "model_name": "HTMLModel",
          "model_module_version": "1.5.0",
          "state": {
            "_view_name": "HTMLView",
            "style": "IPY_MODEL_cf98b69434924dd387f3516767fb4c4d",
            "_dom_classes": [],
            "description": "",
            "_model_name": "HTMLModel",
            "placeholder": "​",
            "_view_module": "@jupyter-widgets/controls",
            "_model_module_version": "1.5.0",
            "value": " 209/2000 [01:22&lt;06:49,  4.38it/s, episode=209, num_frames=37128, smooth_reward=0.94, reward=1, policy_loss=-.0509, value_loss=0.0185]",
            "_view_count": null,
            "_view_module_version": "1.5.0",
            "description_tooltip": null,
            "_model_module": "@jupyter-widgets/controls",
            "layout": "IPY_MODEL_6f2a2b4b16e84e04b01f71d83deeaa80"
          }
        },
        "71adfcc9020e48e49f9e3d919ef5116a": {
          "model_module": "@jupyter-widgets/controls",
          "model_name": "DescriptionStyleModel",
          "model_module_version": "1.5.0",
          "state": {
            "_view_name": "StyleView",
            "_model_name": "DescriptionStyleModel",
            "description_width": "",
            "_view_module": "@jupyter-widgets/base",
            "_model_module_version": "1.5.0",
            "_view_count": null,
            "_view_module_version": "1.2.0",
            "_model_module": "@jupyter-widgets/controls"
          }
        },
        "2a93166db77c44f193cee6065ff70145": {
          "model_module": "@jupyter-widgets/base",
          "model_name": "LayoutModel",
          "model_module_version": "1.2.0",
          "state": {
            "_view_name": "LayoutView",
            "grid_template_rows": null,
            "right": null,
            "justify_content": null,
            "_view_module": "@jupyter-widgets/base",
            "overflow": null,
            "_model_module_version": "1.2.0",
            "_view_count": null,
            "flex_flow": null,
            "width": null,
            "min_width": null,
            "border": null,
            "align_items": null,
            "bottom": null,
            "_model_module": "@jupyter-widgets/base",
            "top": null,
            "grid_column": null,
            "overflow_y": null,
            "overflow_x": null,
            "grid_auto_flow": null,
            "grid_area": null,
            "grid_template_columns": null,
            "flex": null,
            "_model_name": "LayoutModel",
            "justify_items": null,
            "grid_row": null,
            "max_height": null,
            "align_content": null,
            "visibility": null,
            "align_self": null,
            "height": null,
            "min_height": null,
            "padding": null,
            "grid_auto_rows": null,
            "grid_gap": null,
            "max_width": null,
            "order": null,
            "_view_module_version": "1.2.0",
            "grid_template_areas": null,
            "object_position": null,
            "object_fit": null,
            "grid_auto_columns": null,
            "margin": null,
            "display": null,
            "left": null
          }
        },
        "485661086d92447fa7e78c431bd799e0": {
          "model_module": "@jupyter-widgets/controls",
          "model_name": "ProgressStyleModel",
          "model_module_version": "1.5.0",
          "state": {
            "_view_name": "StyleView",
            "_model_name": "ProgressStyleModel",
            "description_width": "",
            "_view_module": "@jupyter-widgets/base",
            "_model_module_version": "1.5.0",
            "_view_count": null,
            "_view_module_version": "1.2.0",
            "bar_color": null,
            "_model_module": "@jupyter-widgets/controls"
          }
        },
        "72a08bcff8c243788d8170c1046dde81": {
          "model_module": "@jupyter-widgets/base",
          "model_name": "LayoutModel",
          "model_module_version": "1.2.0",
          "state": {
            "_view_name": "LayoutView",
            "grid_template_rows": null,
            "right": null,
            "justify_content": null,
            "_view_module": "@jupyter-widgets/base",
            "overflow": null,
            "_model_module_version": "1.2.0",
            "_view_count": null,
            "flex_flow": null,
            "width": null,
            "min_width": null,
            "border": null,
            "align_items": null,
            "bottom": null,
            "_model_module": "@jupyter-widgets/base",
            "top": null,
            "grid_column": null,
            "overflow_y": null,
            "overflow_x": null,
            "grid_auto_flow": null,
            "grid_area": null,
            "grid_template_columns": null,
            "flex": null,
            "_model_name": "LayoutModel",
            "justify_items": null,
            "grid_row": null,
            "max_height": null,
            "align_content": null,
            "visibility": null,
            "align_self": null,
            "height": null,
            "min_height": null,
            "padding": null,
            "grid_auto_rows": null,
            "grid_gap": null,
            "max_width": null,
            "order": null,
            "_view_module_version": "1.2.0",
            "grid_template_areas": null,
            "object_position": null,
            "object_fit": null,
            "grid_auto_columns": null,
            "margin": null,
            "display": null,
            "left": null
          }
        },
        "cf98b69434924dd387f3516767fb4c4d": {
          "model_module": "@jupyter-widgets/controls",
          "model_name": "DescriptionStyleModel",
          "model_module_version": "1.5.0",
          "state": {
            "_view_name": "StyleView",
            "_model_name": "DescriptionStyleModel",
            "description_width": "",
            "_view_module": "@jupyter-widgets/base",
            "_model_module_version": "1.5.0",
            "_view_count": null,
            "_view_module_version": "1.2.0",
            "_model_module": "@jupyter-widgets/controls"
          }
        },
        "6f2a2b4b16e84e04b01f71d83deeaa80": {
          "model_module": "@jupyter-widgets/base",
          "model_name": "LayoutModel",
          "model_module_version": "1.2.0",
          "state": {
            "_view_name": "LayoutView",
            "grid_template_rows": null,
            "right": null,
            "justify_content": null,
            "_view_module": "@jupyter-widgets/base",
            "overflow": null,
            "_model_module_version": "1.2.0",
            "_view_count": null,
            "flex_flow": null,
            "width": null,
            "min_width": null,
            "border": null,
            "align_items": null,
            "bottom": null,
            "_model_module": "@jupyter-widgets/base",
            "top": null,
            "grid_column": null,
            "overflow_y": null,
            "overflow_x": null,
            "grid_auto_flow": null,
            "grid_area": null,
            "grid_template_columns": null,
            "flex": null,
            "_model_name": "LayoutModel",
            "justify_items": null,
            "grid_row": null,
            "max_height": null,
            "align_content": null,
            "visibility": null,
            "align_self": null,
            "height": null,
            "min_height": null,
            "padding": null,
            "grid_auto_rows": null,
            "grid_gap": null,
            "max_width": null,
            "order": null,
            "_view_module_version": "1.2.0",
            "grid_template_areas": null,
            "object_position": null,
            "object_fit": null,
            "grid_auto_columns": null,
            "margin": null,
            "display": null,
            "left": null
          }
        },
        "540768a8715a4f928e3554594602c9ec": {
          "model_module": "@jupyter-widgets/controls",
          "model_name": "HBoxModel",
          "model_module_version": "1.5.0",
          "state": {
            "_dom_classes": [],
            "_model_module": "@jupyter-widgets/controls",
            "_model_module_version": "1.5.0",
            "_model_name": "HBoxModel",
            "_view_count": null,
            "_view_module": "@jupyter-widgets/controls",
            "_view_module_version": "1.5.0",
            "_view_name": "HBoxView",
            "box_style": "",
            "children": [
              "IPY_MODEL_9325cbc3ea7644b2b4efe1ce6dfc2618",
              "IPY_MODEL_a5e304719a214561b059e6392e59b0f6",
              "IPY_MODEL_1102d6a7a4a5421190e19184c53c528b"
            ],
            "layout": "IPY_MODEL_4685361ffbf44027ba4cfbeddcf82048"
          }
        },
        "9325cbc3ea7644b2b4efe1ce6dfc2618": {
          "model_module": "@jupyter-widgets/controls",
          "model_name": "HTMLModel",
          "model_module_version": "1.5.0",
          "state": {
            "_dom_classes": [],
            "_model_module": "@jupyter-widgets/controls",
            "_model_module_version": "1.5.0",
            "_model_name": "HTMLModel",
            "_view_count": null,
            "_view_module": "@jupyter-widgets/controls",
            "_view_module_version": "1.5.0",
            "_view_name": "HTMLView",
            "description": "",
            "description_tooltip": null,
            "layout": "IPY_MODEL_4c37d992e79c4809946486dba88abe8c",
            "placeholder": "​",
            "style": "IPY_MODEL_e69f1d0b2a9b436d8a94f1d3034c67b6",
            "value": "  0%"
          }
        },
        "a5e304719a214561b059e6392e59b0f6": {
          "model_module": "@jupyter-widgets/controls",
          "model_name": "FloatProgressModel",
          "model_module_version": "1.5.0",
          "state": {
            "_dom_classes": [],
            "_model_module": "@jupyter-widgets/controls",
            "_model_module_version": "1.5.0",
            "_model_name": "FloatProgressModel",
            "_view_count": null,
            "_view_module": "@jupyter-widgets/controls",
            "_view_module_version": "1.5.0",
            "_view_name": "ProgressView",
            "bar_style": "danger",
            "description": "",
            "description_tooltip": null,
            "layout": "IPY_MODEL_e66b4f501f294046baab98735bb5ee85",
            "max": 2000,
            "min": 0,
            "orientation": "horizontal",
            "style": "IPY_MODEL_3be1bee05b2c41d8aba68d5e2653541b",
            "value": 2
          }
        },
        "1102d6a7a4a5421190e19184c53c528b": {
          "model_module": "@jupyter-widgets/controls",
          "model_name": "HTMLModel",
          "model_module_version": "1.5.0",
          "state": {
            "_dom_classes": [],
            "_model_module": "@jupyter-widgets/controls",
            "_model_module_version": "1.5.0",
            "_model_name": "HTMLModel",
            "_view_count": null,
            "_view_module": "@jupyter-widgets/controls",
            "_view_module_version": "1.5.0",
            "_view_name": "HTMLView",
            "description": "",
            "description_tooltip": null,
            "layout": "IPY_MODEL_5e7c16629b3344848cd88d6edbc7dd22",
            "placeholder": "​",
            "style": "IPY_MODEL_24b8dc2c7b8b4f259ce213ad9d542cd2",
            "value": " 2/2000 [00:10&lt;2:10:32,  3.92s/it, episode=2, num_frames=750, smooth_reward=0, reward=0, policy_loss=-.021, value_loss=69]"
          }
        },
        "4685361ffbf44027ba4cfbeddcf82048": {
          "model_module": "@jupyter-widgets/base",
          "model_name": "LayoutModel",
          "model_module_version": "1.2.0",
          "state": {
            "_model_module": "@jupyter-widgets/base",
            "_model_module_version": "1.2.0",
            "_model_name": "LayoutModel",
            "_view_count": null,
            "_view_module": "@jupyter-widgets/base",
            "_view_module_version": "1.2.0",
            "_view_name": "LayoutView",
            "align_content": null,
            "align_items": null,
            "align_self": null,
            "border": null,
            "bottom": null,
            "display": null,
            "flex": null,
            "flex_flow": null,
            "grid_area": null,
            "grid_auto_columns": null,
            "grid_auto_flow": null,
            "grid_auto_rows": null,
            "grid_column": null,
            "grid_gap": null,
            "grid_row": null,
            "grid_template_areas": null,
            "grid_template_columns": null,
            "grid_template_rows": null,
            "height": null,
            "justify_content": null,
            "justify_items": null,
            "left": null,
            "margin": null,
            "max_height": null,
            "max_width": null,
            "min_height": null,
            "min_width": null,
            "object_fit": null,
            "object_position": null,
            "order": null,
            "overflow": null,
            "overflow_x": null,
            "overflow_y": null,
            "padding": null,
            "right": null,
            "top": null,
            "visibility": null,
            "width": null
          }
        },
        "4c37d992e79c4809946486dba88abe8c": {
          "model_module": "@jupyter-widgets/base",
          "model_name": "LayoutModel",
          "model_module_version": "1.2.0",
          "state": {
            "_model_module": "@jupyter-widgets/base",
            "_model_module_version": "1.2.0",
            "_model_name": "LayoutModel",
            "_view_count": null,
            "_view_module": "@jupyter-widgets/base",
            "_view_module_version": "1.2.0",
            "_view_name": "LayoutView",
            "align_content": null,
            "align_items": null,
            "align_self": null,
            "border": null,
            "bottom": null,
            "display": null,
            "flex": null,
            "flex_flow": null,
            "grid_area": null,
            "grid_auto_columns": null,
            "grid_auto_flow": null,
            "grid_auto_rows": null,
            "grid_column": null,
            "grid_gap": null,
            "grid_row": null,
            "grid_template_areas": null,
            "grid_template_columns": null,
            "grid_template_rows": null,
            "height": null,
            "justify_content": null,
            "justify_items": null,
            "left": null,
            "margin": null,
            "max_height": null,
            "max_width": null,
            "min_height": null,
            "min_width": null,
            "object_fit": null,
            "object_position": null,
            "order": null,
            "overflow": null,
            "overflow_x": null,
            "overflow_y": null,
            "padding": null,
            "right": null,
            "top": null,
            "visibility": null,
            "width": null
          }
        },
        "e69f1d0b2a9b436d8a94f1d3034c67b6": {
          "model_module": "@jupyter-widgets/controls",
          "model_name": "DescriptionStyleModel",
          "model_module_version": "1.5.0",
          "state": {
            "_model_module": "@jupyter-widgets/controls",
            "_model_module_version": "1.5.0",
            "_model_name": "DescriptionStyleModel",
            "_view_count": null,
            "_view_module": "@jupyter-widgets/base",
            "_view_module_version": "1.2.0",
            "_view_name": "StyleView",
            "description_width": ""
          }
        },
        "e66b4f501f294046baab98735bb5ee85": {
          "model_module": "@jupyter-widgets/base",
          "model_name": "LayoutModel",
          "model_module_version": "1.2.0",
          "state": {
            "_model_module": "@jupyter-widgets/base",
            "_model_module_version": "1.2.0",
            "_model_name": "LayoutModel",
            "_view_count": null,
            "_view_module": "@jupyter-widgets/base",
            "_view_module_version": "1.2.0",
            "_view_name": "LayoutView",
            "align_content": null,
            "align_items": null,
            "align_self": null,
            "border": null,
            "bottom": null,
            "display": null,
            "flex": null,
            "flex_flow": null,
            "grid_area": null,
            "grid_auto_columns": null,
            "grid_auto_flow": null,
            "grid_auto_rows": null,
            "grid_column": null,
            "grid_gap": null,
            "grid_row": null,
            "grid_template_areas": null,
            "grid_template_columns": null,
            "grid_template_rows": null,
            "height": null,
            "justify_content": null,
            "justify_items": null,
            "left": null,
            "margin": null,
            "max_height": null,
            "max_width": null,
            "min_height": null,
            "min_width": null,
            "object_fit": null,
            "object_position": null,
            "order": null,
            "overflow": null,
            "overflow_x": null,
            "overflow_y": null,
            "padding": null,
            "right": null,
            "top": null,
            "visibility": null,
            "width": null
          }
        },
        "3be1bee05b2c41d8aba68d5e2653541b": {
          "model_module": "@jupyter-widgets/controls",
          "model_name": "ProgressStyleModel",
          "model_module_version": "1.5.0",
          "state": {
            "_model_module": "@jupyter-widgets/controls",
            "_model_module_version": "1.5.0",
            "_model_name": "ProgressStyleModel",
            "_view_count": null,
            "_view_module": "@jupyter-widgets/base",
            "_view_module_version": "1.2.0",
            "_view_name": "StyleView",
            "bar_color": null,
            "description_width": ""
          }
        },
        "5e7c16629b3344848cd88d6edbc7dd22": {
          "model_module": "@jupyter-widgets/base",
          "model_name": "LayoutModel",
          "model_module_version": "1.2.0",
          "state": {
            "_model_module": "@jupyter-widgets/base",
            "_model_module_version": "1.2.0",
            "_model_name": "LayoutModel",
            "_view_count": null,
            "_view_module": "@jupyter-widgets/base",
            "_view_module_version": "1.2.0",
            "_view_name": "LayoutView",
            "align_content": null,
            "align_items": null,
            "align_self": null,
            "border": null,
            "bottom": null,
            "display": null,
            "flex": null,
            "flex_flow": null,
            "grid_area": null,
            "grid_auto_columns": null,
            "grid_auto_flow": null,
            "grid_auto_rows": null,
            "grid_column": null,
            "grid_gap": null,
            "grid_row": null,
            "grid_template_areas": null,
            "grid_template_columns": null,
            "grid_template_rows": null,
            "height": null,
            "justify_content": null,
            "justify_items": null,
            "left": null,
            "margin": null,
            "max_height": null,
            "max_width": null,
            "min_height": null,
            "min_width": null,
            "object_fit": null,
            "object_position": null,
            "order": null,
            "overflow": null,
            "overflow_x": null,
            "overflow_y": null,
            "padding": null,
            "right": null,
            "top": null,
            "visibility": null,
            "width": null
          }
        },
        "24b8dc2c7b8b4f259ce213ad9d542cd2": {
          "model_module": "@jupyter-widgets/controls",
          "model_name": "DescriptionStyleModel",
          "model_module_version": "1.5.0",
          "state": {
            "_model_module": "@jupyter-widgets/controls",
            "_model_module_version": "1.5.0",
            "_model_name": "DescriptionStyleModel",
            "_view_count": null,
            "_view_module": "@jupyter-widgets/base",
            "_view_module_version": "1.2.0",
            "_view_name": "StyleView",
            "description_width": ""
          }
        },
        "043eabae337a450e89ff621d446b177f": {
          "model_module": "@jupyter-widgets/controls",
          "model_name": "HBoxModel",
          "model_module_version": "1.5.0",
          "state": {
            "_dom_classes": [],
            "_model_module": "@jupyter-widgets/controls",
            "_model_module_version": "1.5.0",
            "_model_name": "HBoxModel",
            "_view_count": null,
            "_view_module": "@jupyter-widgets/controls",
            "_view_module_version": "1.5.0",
            "_view_name": "HBoxView",
            "box_style": "",
            "children": [
              "IPY_MODEL_2e2aad81060f4cec95822d7ff1f81675",
              "IPY_MODEL_31c420a29c884ecba7dbf1b114eaf796",
              "IPY_MODEL_913ddd053125466abb37576109395ca2"
            ],
            "layout": "IPY_MODEL_6fa3f3fc494a4a57b41c4804d173a7f9"
          }
        },
        "2e2aad81060f4cec95822d7ff1f81675": {
          "model_module": "@jupyter-widgets/controls",
          "model_name": "HTMLModel",
          "model_module_version": "1.5.0",
          "state": {
            "_dom_classes": [],
            "_model_module": "@jupyter-widgets/controls",
            "_model_module_version": "1.5.0",
            "_model_name": "HTMLModel",
            "_view_count": null,
            "_view_module": "@jupyter-widgets/controls",
            "_view_module_version": "1.5.0",
            "_view_name": "HTMLView",
            "description": "",
            "description_tooltip": null,
            "layout": "IPY_MODEL_185263b96651402ab1290b8c35a1fcf8",
            "placeholder": "​",
            "style": "IPY_MODEL_a01a2d61c78c4194ac478f10fd1cdfb9",
            "value": "  4%"
          }
        },
        "31c420a29c884ecba7dbf1b114eaf796": {
          "model_module": "@jupyter-widgets/controls",
          "model_name": "FloatProgressModel",
          "model_module_version": "1.5.0",
          "state": {
            "_dom_classes": [],
            "_model_module": "@jupyter-widgets/controls",
            "_model_module_version": "1.5.0",
            "_model_name": "FloatProgressModel",
            "_view_count": null,
            "_view_module": "@jupyter-widgets/controls",
            "_view_module_version": "1.5.0",
            "_view_name": "ProgressView",
            "bar_style": "",
            "description": "",
            "description_tooltip": null,
            "layout": "IPY_MODEL_8d88bfa1e94a445fa147f071e9b1d88a",
            "max": 2000,
            "min": 0,
            "orientation": "horizontal",
            "style": "IPY_MODEL_c59c2519da59444ca95b3c6887309db3",
            "value": 75
          }
        },
        "913ddd053125466abb37576109395ca2": {
          "model_module": "@jupyter-widgets/controls",
          "model_name": "HTMLModel",
          "model_module_version": "1.5.0",
          "state": {
            "_dom_classes": [],
            "_model_module": "@jupyter-widgets/controls",
            "_model_module_version": "1.5.0",
            "_model_name": "HTMLModel",
            "_view_count": null,
            "_view_module": "@jupyter-widgets/controls",
            "_view_module_version": "1.5.0",
            "_view_name": "HTMLView",
            "description": "",
            "description_tooltip": null,
            "layout": "IPY_MODEL_b4ec00b1879747d7ac71eb68a7dbec33",
            "placeholder": "​",
            "style": "IPY_MODEL_e18a1670cdab4d19ae6a011cdffa8937",
            "value": " 75/2000 [01:03&lt;27:21,  1.17it/s, episode=74, num_frames=17623, smooth_reward=0.22, reward=0, policy_loss=-.0195, value_loss=69]"
          }
        },
        "6fa3f3fc494a4a57b41c4804d173a7f9": {
          "model_module": "@jupyter-widgets/base",
          "model_name": "LayoutModel",
          "model_module_version": "1.2.0",
          "state": {
            "_model_module": "@jupyter-widgets/base",
            "_model_module_version": "1.2.0",
            "_model_name": "LayoutModel",
            "_view_count": null,
            "_view_module": "@jupyter-widgets/base",
            "_view_module_version": "1.2.0",
            "_view_name": "LayoutView",
            "align_content": null,
            "align_items": null,
            "align_self": null,
            "border": null,
            "bottom": null,
            "display": null,
            "flex": null,
            "flex_flow": null,
            "grid_area": null,
            "grid_auto_columns": null,
            "grid_auto_flow": null,
            "grid_auto_rows": null,
            "grid_column": null,
            "grid_gap": null,
            "grid_row": null,
            "grid_template_areas": null,
            "grid_template_columns": null,
            "grid_template_rows": null,
            "height": null,
            "justify_content": null,
            "justify_items": null,
            "left": null,
            "margin": null,
            "max_height": null,
            "max_width": null,
            "min_height": null,
            "min_width": null,
            "object_fit": null,
            "object_position": null,
            "order": null,
            "overflow": null,
            "overflow_x": null,
            "overflow_y": null,
            "padding": null,
            "right": null,
            "top": null,
            "visibility": null,
            "width": null
          }
        },
        "185263b96651402ab1290b8c35a1fcf8": {
          "model_module": "@jupyter-widgets/base",
          "model_name": "LayoutModel",
          "model_module_version": "1.2.0",
          "state": {
            "_model_module": "@jupyter-widgets/base",
            "_model_module_version": "1.2.0",
            "_model_name": "LayoutModel",
            "_view_count": null,
            "_view_module": "@jupyter-widgets/base",
            "_view_module_version": "1.2.0",
            "_view_name": "LayoutView",
            "align_content": null,
            "align_items": null,
            "align_self": null,
            "border": null,
            "bottom": null,
            "display": null,
            "flex": null,
            "flex_flow": null,
            "grid_area": null,
            "grid_auto_columns": null,
            "grid_auto_flow": null,
            "grid_auto_rows": null,
            "grid_column": null,
            "grid_gap": null,
            "grid_row": null,
            "grid_template_areas": null,
            "grid_template_columns": null,
            "grid_template_rows": null,
            "height": null,
            "justify_content": null,
            "justify_items": null,
            "left": null,
            "margin": null,
            "max_height": null,
            "max_width": null,
            "min_height": null,
            "min_width": null,
            "object_fit": null,
            "object_position": null,
            "order": null,
            "overflow": null,
            "overflow_x": null,
            "overflow_y": null,
            "padding": null,
            "right": null,
            "top": null,
            "visibility": null,
            "width": null
          }
        },
        "a01a2d61c78c4194ac478f10fd1cdfb9": {
          "model_module": "@jupyter-widgets/controls",
          "model_name": "DescriptionStyleModel",
          "model_module_version": "1.5.0",
          "state": {
            "_model_module": "@jupyter-widgets/controls",
            "_model_module_version": "1.5.0",
            "_model_name": "DescriptionStyleModel",
            "_view_count": null,
            "_view_module": "@jupyter-widgets/base",
            "_view_module_version": "1.2.0",
            "_view_name": "StyleView",
            "description_width": ""
          }
        },
        "8d88bfa1e94a445fa147f071e9b1d88a": {
          "model_module": "@jupyter-widgets/base",
          "model_name": "LayoutModel",
          "model_module_version": "1.2.0",
          "state": {
            "_model_module": "@jupyter-widgets/base",
            "_model_module_version": "1.2.0",
            "_model_name": "LayoutModel",
            "_view_count": null,
            "_view_module": "@jupyter-widgets/base",
            "_view_module_version": "1.2.0",
            "_view_name": "LayoutView",
            "align_content": null,
            "align_items": null,
            "align_self": null,
            "border": null,
            "bottom": null,
            "display": null,
            "flex": null,
            "flex_flow": null,
            "grid_area": null,
            "grid_auto_columns": null,
            "grid_auto_flow": null,
            "grid_auto_rows": null,
            "grid_column": null,
            "grid_gap": null,
            "grid_row": null,
            "grid_template_areas": null,
            "grid_template_columns": null,
            "grid_template_rows": null,
            "height": null,
            "justify_content": null,
            "justify_items": null,
            "left": null,
            "margin": null,
            "max_height": null,
            "max_width": null,
            "min_height": null,
            "min_width": null,
            "object_fit": null,
            "object_position": null,
            "order": null,
            "overflow": null,
            "overflow_x": null,
            "overflow_y": null,
            "padding": null,
            "right": null,
            "top": null,
            "visibility": null,
            "width": null
          }
        },
        "c59c2519da59444ca95b3c6887309db3": {
          "model_module": "@jupyter-widgets/controls",
          "model_name": "ProgressStyleModel",
          "model_module_version": "1.5.0",
          "state": {
            "_model_module": "@jupyter-widgets/controls",
            "_model_module_version": "1.5.0",
            "_model_name": "ProgressStyleModel",
            "_view_count": null,
            "_view_module": "@jupyter-widgets/base",
            "_view_module_version": "1.2.0",
            "_view_name": "StyleView",
            "bar_color": null,
            "description_width": ""
          }
        },
        "b4ec00b1879747d7ac71eb68a7dbec33": {
          "model_module": "@jupyter-widgets/base",
          "model_name": "LayoutModel",
          "model_module_version": "1.2.0",
          "state": {
            "_model_module": "@jupyter-widgets/base",
            "_model_module_version": "1.2.0",
            "_model_name": "LayoutModel",
            "_view_count": null,
            "_view_module": "@jupyter-widgets/base",
            "_view_module_version": "1.2.0",
            "_view_name": "LayoutView",
            "align_content": null,
            "align_items": null,
            "align_self": null,
            "border": null,
            "bottom": null,
            "display": null,
            "flex": null,
            "flex_flow": null,
            "grid_area": null,
            "grid_auto_columns": null,
            "grid_auto_flow": null,
            "grid_auto_rows": null,
            "grid_column": null,
            "grid_gap": null,
            "grid_row": null,
            "grid_template_areas": null,
            "grid_template_columns": null,
            "grid_template_rows": null,
            "height": null,
            "justify_content": null,
            "justify_items": null,
            "left": null,
            "margin": null,
            "max_height": null,
            "max_width": null,
            "min_height": null,
            "min_width": null,
            "object_fit": null,
            "object_position": null,
            "order": null,
            "overflow": null,
            "overflow_x": null,
            "overflow_y": null,
            "padding": null,
            "right": null,
            "top": null,
            "visibility": null,
            "width": null
          }
        },
        "e18a1670cdab4d19ae6a011cdffa8937": {
          "model_module": "@jupyter-widgets/controls",
          "model_name": "DescriptionStyleModel",
          "model_module_version": "1.5.0",
          "state": {
            "_model_module": "@jupyter-widgets/controls",
            "_model_module_version": "1.5.0",
            "_model_name": "DescriptionStyleModel",
            "_view_count": null,
            "_view_module": "@jupyter-widgets/base",
            "_view_module_version": "1.2.0",
            "_view_name": "StyleView",
            "description_width": ""
          }
        }
      }
    }
  },
  "nbformat": 4,
  "nbformat_minor": 0
}