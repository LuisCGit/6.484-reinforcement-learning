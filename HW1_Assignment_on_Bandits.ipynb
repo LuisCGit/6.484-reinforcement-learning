{
  "nbformat": 4,
  "nbformat_minor": 0,
  "metadata": {
    "colab": {
      "name": "HW1_Assignment_on_Bandits.ipynb",
      "provenance": [],
      "collapsed_sections": [],
      "include_colab_link": true
    },
    "kernelspec": {
      "name": "python3",
      "display_name": "Python 3"
    },
    "widgets": {
      "application/vnd.jupyter.widget-state+json": {
        "1fb827bb611c4062af7b85283540d13c": {
          "model_module": "@jupyter-widgets/controls",
          "model_name": "HBoxModel",
          "model_module_version": "1.5.0",
          "state": {
            "_view_name": "HBoxView",
            "_dom_classes": [],
            "_model_name": "HBoxModel",
            "_view_module": "@jupyter-widgets/controls",
            "_model_module_version": "1.5.0",
            "_view_count": null,
            "_view_module_version": "1.5.0",
            "box_style": "",
            "layout": "IPY_MODEL_3248a243cc894b268744bfb6f2246f67",
            "_model_module": "@jupyter-widgets/controls",
            "children": [
              "IPY_MODEL_6ffe2e1f3c274c3d89be9dc2674e8469",
              "IPY_MODEL_4610fb24be8c4c62a3f0818244b4bea4",
              "IPY_MODEL_599149340fbc408eae5c910c30c6d933"
            ]
          }
        },
        "3248a243cc894b268744bfb6f2246f67": {
          "model_module": "@jupyter-widgets/base",
          "model_name": "LayoutModel",
          "model_module_version": "1.2.0",
          "state": {
            "_view_name": "LayoutView",
            "grid_template_rows": null,
            "right": null,
            "justify_content": null,
            "_view_module": "@jupyter-widgets/base",
            "overflow": null,
            "_model_module_version": "1.2.0",
            "_view_count": null,
            "flex_flow": null,
            "width": null,
            "min_width": null,
            "border": null,
            "align_items": null,
            "bottom": null,
            "_model_module": "@jupyter-widgets/base",
            "top": null,
            "grid_column": null,
            "overflow_y": null,
            "overflow_x": null,
            "grid_auto_flow": null,
            "grid_area": null,
            "grid_template_columns": null,
            "flex": null,
            "_model_name": "LayoutModel",
            "justify_items": null,
            "grid_row": null,
            "max_height": null,
            "align_content": null,
            "visibility": null,
            "align_self": null,
            "height": null,
            "min_height": null,
            "padding": null,
            "grid_auto_rows": null,
            "grid_gap": null,
            "max_width": null,
            "order": null,
            "_view_module_version": "1.2.0",
            "grid_template_areas": null,
            "object_position": null,
            "object_fit": null,
            "grid_auto_columns": null,
            "margin": null,
            "display": null,
            "left": null
          }
        },
        "6ffe2e1f3c274c3d89be9dc2674e8469": {
          "model_module": "@jupyter-widgets/controls",
          "model_name": "HTMLModel",
          "model_module_version": "1.5.0",
          "state": {
            "_view_name": "HTMLView",
            "style": "IPY_MODEL_c1ae7cfca1ea403fa54b15bbf7f4f8db",
            "_dom_classes": [],
            "description": "",
            "_model_name": "HTMLModel",
            "placeholder": "​",
            "_view_module": "@jupyter-widgets/controls",
            "_model_module_version": "1.5.0",
            "value": "Alg:Random: 100%",
            "_view_count": null,
            "_view_module_version": "1.5.0",
            "description_tooltip": null,
            "_model_module": "@jupyter-widgets/controls",
            "layout": "IPY_MODEL_aaf544f37fbe4ac9a895b50eb762af1a"
          }
        },
        "4610fb24be8c4c62a3f0818244b4bea4": {
          "model_module": "@jupyter-widgets/controls",
          "model_name": "FloatProgressModel",
          "model_module_version": "1.5.0",
          "state": {
            "_view_name": "ProgressView",
            "style": "IPY_MODEL_6eb02c4fac4d4f69865f2eac08ec0db5",
            "_dom_classes": [],
            "description": "",
            "_model_name": "FloatProgressModel",
            "bar_style": "success",
            "max": 1,
            "_view_module": "@jupyter-widgets/controls",
            "_model_module_version": "1.5.0",
            "value": 1,
            "_view_count": null,
            "_view_module_version": "1.5.0",
            "orientation": "horizontal",
            "min": 0,
            "description_tooltip": null,
            "_model_module": "@jupyter-widgets/controls",
            "layout": "IPY_MODEL_bfb114de93e14d188536b1e14376f4a9"
          }
        },
        "599149340fbc408eae5c910c30c6d933": {
          "model_module": "@jupyter-widgets/controls",
          "model_name": "HTMLModel",
          "model_module_version": "1.5.0",
          "state": {
            "_view_name": "HTMLView",
            "style": "IPY_MODEL_bb9fa897c20c4889b2cb6957a6c99c8d",
            "_dom_classes": [],
            "description": "",
            "_model_name": "HTMLModel",
            "placeholder": "​",
            "_view_module": "@jupyter-widgets/controls",
            "_model_module_version": "1.5.0",
            "value": " 1/1 [00:04&lt;00:00,  4.10s/it]",
            "_view_count": null,
            "_view_module_version": "1.5.0",
            "description_tooltip": null,
            "_model_module": "@jupyter-widgets/controls",
            "layout": "IPY_MODEL_58e0cfc6a6144f3286fd4b96d6abb167"
          }
        },
        "c1ae7cfca1ea403fa54b15bbf7f4f8db": {
          "model_module": "@jupyter-widgets/controls",
          "model_name": "DescriptionStyleModel",
          "model_module_version": "1.5.0",
          "state": {
            "_view_name": "StyleView",
            "_model_name": "DescriptionStyleModel",
            "description_width": "",
            "_view_module": "@jupyter-widgets/base",
            "_model_module_version": "1.5.0",
            "_view_count": null,
            "_view_module_version": "1.2.0",
            "_model_module": "@jupyter-widgets/controls"
          }
        },
        "aaf544f37fbe4ac9a895b50eb762af1a": {
          "model_module": "@jupyter-widgets/base",
          "model_name": "LayoutModel",
          "model_module_version": "1.2.0",
          "state": {
            "_view_name": "LayoutView",
            "grid_template_rows": null,
            "right": null,
            "justify_content": null,
            "_view_module": "@jupyter-widgets/base",
            "overflow": null,
            "_model_module_version": "1.2.0",
            "_view_count": null,
            "flex_flow": null,
            "width": null,
            "min_width": null,
            "border": null,
            "align_items": null,
            "bottom": null,
            "_model_module": "@jupyter-widgets/base",
            "top": null,
            "grid_column": null,
            "overflow_y": null,
            "overflow_x": null,
            "grid_auto_flow": null,
            "grid_area": null,
            "grid_template_columns": null,
            "flex": null,
            "_model_name": "LayoutModel",
            "justify_items": null,
            "grid_row": null,
            "max_height": null,
            "align_content": null,
            "visibility": null,
            "align_self": null,
            "height": null,
            "min_height": null,
            "padding": null,
            "grid_auto_rows": null,
            "grid_gap": null,
            "max_width": null,
            "order": null,
            "_view_module_version": "1.2.0",
            "grid_template_areas": null,
            "object_position": null,
            "object_fit": null,
            "grid_auto_columns": null,
            "margin": null,
            "display": null,
            "left": null
          }
        },
        "6eb02c4fac4d4f69865f2eac08ec0db5": {
          "model_module": "@jupyter-widgets/controls",
          "model_name": "ProgressStyleModel",
          "model_module_version": "1.5.0",
          "state": {
            "_view_name": "StyleView",
            "_model_name": "ProgressStyleModel",
            "description_width": "",
            "_view_module": "@jupyter-widgets/base",
            "_model_module_version": "1.5.0",
            "_view_count": null,
            "_view_module_version": "1.2.0",
            "bar_color": null,
            "_model_module": "@jupyter-widgets/controls"
          }
        },
        "bfb114de93e14d188536b1e14376f4a9": {
          "model_module": "@jupyter-widgets/base",
          "model_name": "LayoutModel",
          "model_module_version": "1.2.0",
          "state": {
            "_view_name": "LayoutView",
            "grid_template_rows": null,
            "right": null,
            "justify_content": null,
            "_view_module": "@jupyter-widgets/base",
            "overflow": null,
            "_model_module_version": "1.2.0",
            "_view_count": null,
            "flex_flow": null,
            "width": null,
            "min_width": null,
            "border": null,
            "align_items": null,
            "bottom": null,
            "_model_module": "@jupyter-widgets/base",
            "top": null,
            "grid_column": null,
            "overflow_y": null,
            "overflow_x": null,
            "grid_auto_flow": null,
            "grid_area": null,
            "grid_template_columns": null,
            "flex": null,
            "_model_name": "LayoutModel",
            "justify_items": null,
            "grid_row": null,
            "max_height": null,
            "align_content": null,
            "visibility": null,
            "align_self": null,
            "height": null,
            "min_height": null,
            "padding": null,
            "grid_auto_rows": null,
            "grid_gap": null,
            "max_width": null,
            "order": null,
            "_view_module_version": "1.2.0",
            "grid_template_areas": null,
            "object_position": null,
            "object_fit": null,
            "grid_auto_columns": null,
            "margin": null,
            "display": null,
            "left": null
          }
        },
        "bb9fa897c20c4889b2cb6957a6c99c8d": {
          "model_module": "@jupyter-widgets/controls",
          "model_name": "DescriptionStyleModel",
          "model_module_version": "1.5.0",
          "state": {
            "_view_name": "StyleView",
            "_model_name": "DescriptionStyleModel",
            "description_width": "",
            "_view_module": "@jupyter-widgets/base",
            "_model_module_version": "1.5.0",
            "_view_count": null,
            "_view_module_version": "1.2.0",
            "_model_module": "@jupyter-widgets/controls"
          }
        },
        "58e0cfc6a6144f3286fd4b96d6abb167": {
          "model_module": "@jupyter-widgets/base",
          "model_name": "LayoutModel",
          "model_module_version": "1.2.0",
          "state": {
            "_view_name": "LayoutView",
            "grid_template_rows": null,
            "right": null,
            "justify_content": null,
            "_view_module": "@jupyter-widgets/base",
            "overflow": null,
            "_model_module_version": "1.2.0",
            "_view_count": null,
            "flex_flow": null,
            "width": null,
            "min_width": null,
            "border": null,
            "align_items": null,
            "bottom": null,
            "_model_module": "@jupyter-widgets/base",
            "top": null,
            "grid_column": null,
            "overflow_y": null,
            "overflow_x": null,
            "grid_auto_flow": null,
            "grid_area": null,
            "grid_template_columns": null,
            "flex": null,
            "_model_name": "LayoutModel",
            "justify_items": null,
            "grid_row": null,
            "max_height": null,
            "align_content": null,
            "visibility": null,
            "align_self": null,
            "height": null,
            "min_height": null,
            "padding": null,
            "grid_auto_rows": null,
            "grid_gap": null,
            "max_width": null,
            "order": null,
            "_view_module_version": "1.2.0",
            "grid_template_areas": null,
            "object_position": null,
            "object_fit": null,
            "grid_auto_columns": null,
            "margin": null,
            "display": null,
            "left": null
          }
        },
        "db647b771e394ca590c6e07da517636d": {
          "model_module": "@jupyter-widgets/controls",
          "model_name": "HBoxModel",
          "model_module_version": "1.5.0",
          "state": {
            "_view_name": "HBoxView",
            "_dom_classes": [],
            "_model_name": "HBoxModel",
            "_view_module": "@jupyter-widgets/controls",
            "_model_module_version": "1.5.0",
            "_view_count": null,
            "_view_module_version": "1.5.0",
            "box_style": "",
            "layout": "IPY_MODEL_c2aeb4f3e81c4269925677d4dff55d18",
            "_model_module": "@jupyter-widgets/controls",
            "children": [
              "IPY_MODEL_a3dbde0fa71340aca6f4d65b96763fe7",
              "IPY_MODEL_ab0979dedd15430d98816c0beee6e8ff",
              "IPY_MODEL_754166b93ae8406c8be610ecd0e9f341"
            ]
          }
        },
        "c2aeb4f3e81c4269925677d4dff55d18": {
          "model_module": "@jupyter-widgets/base",
          "model_name": "LayoutModel",
          "model_module_version": "1.2.0",
          "state": {
            "_view_name": "LayoutView",
            "grid_template_rows": null,
            "right": null,
            "justify_content": null,
            "_view_module": "@jupyter-widgets/base",
            "overflow": null,
            "_model_module_version": "1.2.0",
            "_view_count": null,
            "flex_flow": null,
            "width": null,
            "min_width": null,
            "border": null,
            "align_items": null,
            "bottom": null,
            "_model_module": "@jupyter-widgets/base",
            "top": null,
            "grid_column": null,
            "overflow_y": null,
            "overflow_x": null,
            "grid_auto_flow": null,
            "grid_area": null,
            "grid_template_columns": null,
            "flex": null,
            "_model_name": "LayoutModel",
            "justify_items": null,
            "grid_row": null,
            "max_height": null,
            "align_content": null,
            "visibility": null,
            "align_self": null,
            "height": null,
            "min_height": null,
            "padding": null,
            "grid_auto_rows": null,
            "grid_gap": null,
            "max_width": null,
            "order": null,
            "_view_module_version": "1.2.0",
            "grid_template_areas": null,
            "object_position": null,
            "object_fit": null,
            "grid_auto_columns": null,
            "margin": null,
            "display": null,
            "left": null
          }
        },
        "a3dbde0fa71340aca6f4d65b96763fe7": {
          "model_module": "@jupyter-widgets/controls",
          "model_name": "HTMLModel",
          "model_module_version": "1.5.0",
          "state": {
            "_view_name": "HTMLView",
            "style": "IPY_MODEL_945560bd5ccb420b89dba114f906cb24",
            "_dom_classes": [],
            "description": "",
            "_model_name": "HTMLModel",
            "placeholder": "​",
            "_view_module": "@jupyter-widgets/controls",
            "_model_module_version": "1.5.0",
            "value": "Runs: 100%",
            "_view_count": null,
            "_view_module_version": "1.5.0",
            "description_tooltip": null,
            "_model_module": "@jupyter-widgets/controls",
            "layout": "IPY_MODEL_6ff78a19716145b0a4ee9fb9f882d00f"
          }
        },
        "ab0979dedd15430d98816c0beee6e8ff": {
          "model_module": "@jupyter-widgets/controls",
          "model_name": "FloatProgressModel",
          "model_module_version": "1.5.0",
          "state": {
            "_view_name": "ProgressView",
            "style": "IPY_MODEL_94d045daff9d4110a5a834c08553f4fd",
            "_dom_classes": [],
            "description": "",
            "_model_name": "FloatProgressModel",
            "bar_style": "success",
            "max": 1000,
            "_view_module": "@jupyter-widgets/controls",
            "_model_module_version": "1.5.0",
            "value": 1000,
            "_view_count": null,
            "_view_module_version": "1.5.0",
            "orientation": "horizontal",
            "min": 0,
            "description_tooltip": null,
            "_model_module": "@jupyter-widgets/controls",
            "layout": "IPY_MODEL_d70553165a4040ea9b4358c3be250a5e"
          }
        },
        "754166b93ae8406c8be610ecd0e9f341": {
          "model_module": "@jupyter-widgets/controls",
          "model_name": "HTMLModel",
          "model_module_version": "1.5.0",
          "state": {
            "_view_name": "HTMLView",
            "style": "IPY_MODEL_340896cd99284a45b2e33e6aac1ae3f1",
            "_dom_classes": [],
            "description": "",
            "_model_name": "HTMLModel",
            "placeholder": "​",
            "_view_module": "@jupyter-widgets/controls",
            "_model_module_version": "1.5.0",
            "value": " 1000/1000 [00:03&lt;00:00, 255.96it/s]",
            "_view_count": null,
            "_view_module_version": "1.5.0",
            "description_tooltip": null,
            "_model_module": "@jupyter-widgets/controls",
            "layout": "IPY_MODEL_a62a6198df3f48ceb8a69e1f2c7c319a"
          }
        },
        "945560bd5ccb420b89dba114f906cb24": {
          "model_module": "@jupyter-widgets/controls",
          "model_name": "DescriptionStyleModel",
          "model_module_version": "1.5.0",
          "state": {
            "_view_name": "StyleView",
            "_model_name": "DescriptionStyleModel",
            "description_width": "",
            "_view_module": "@jupyter-widgets/base",
            "_model_module_version": "1.5.0",
            "_view_count": null,
            "_view_module_version": "1.2.0",
            "_model_module": "@jupyter-widgets/controls"
          }
        },
        "6ff78a19716145b0a4ee9fb9f882d00f": {
          "model_module": "@jupyter-widgets/base",
          "model_name": "LayoutModel",
          "model_module_version": "1.2.0",
          "state": {
            "_view_name": "LayoutView",
            "grid_template_rows": null,
            "right": null,
            "justify_content": null,
            "_view_module": "@jupyter-widgets/base",
            "overflow": null,
            "_model_module_version": "1.2.0",
            "_view_count": null,
            "flex_flow": null,
            "width": null,
            "min_width": null,
            "border": null,
            "align_items": null,
            "bottom": null,
            "_model_module": "@jupyter-widgets/base",
            "top": null,
            "grid_column": null,
            "overflow_y": null,
            "overflow_x": null,
            "grid_auto_flow": null,
            "grid_area": null,
            "grid_template_columns": null,
            "flex": null,
            "_model_name": "LayoutModel",
            "justify_items": null,
            "grid_row": null,
            "max_height": null,
            "align_content": null,
            "visibility": null,
            "align_self": null,
            "height": null,
            "min_height": null,
            "padding": null,
            "grid_auto_rows": null,
            "grid_gap": null,
            "max_width": null,
            "order": null,
            "_view_module_version": "1.2.0",
            "grid_template_areas": null,
            "object_position": null,
            "object_fit": null,
            "grid_auto_columns": null,
            "margin": null,
            "display": null,
            "left": null
          }
        },
        "94d045daff9d4110a5a834c08553f4fd": {
          "model_module": "@jupyter-widgets/controls",
          "model_name": "ProgressStyleModel",
          "model_module_version": "1.5.0",
          "state": {
            "_view_name": "StyleView",
            "_model_name": "ProgressStyleModel",
            "description_width": "",
            "_view_module": "@jupyter-widgets/base",
            "_model_module_version": "1.5.0",
            "_view_count": null,
            "_view_module_version": "1.2.0",
            "bar_color": null,
            "_model_module": "@jupyter-widgets/controls"
          }
        },
        "d70553165a4040ea9b4358c3be250a5e": {
          "model_module": "@jupyter-widgets/base",
          "model_name": "LayoutModel",
          "model_module_version": "1.2.0",
          "state": {
            "_view_name": "LayoutView",
            "grid_template_rows": null,
            "right": null,
            "justify_content": null,
            "_view_module": "@jupyter-widgets/base",
            "overflow": null,
            "_model_module_version": "1.2.0",
            "_view_count": null,
            "flex_flow": null,
            "width": null,
            "min_width": null,
            "border": null,
            "align_items": null,
            "bottom": null,
            "_model_module": "@jupyter-widgets/base",
            "top": null,
            "grid_column": null,
            "overflow_y": null,
            "overflow_x": null,
            "grid_auto_flow": null,
            "grid_area": null,
            "grid_template_columns": null,
            "flex": null,
            "_model_name": "LayoutModel",
            "justify_items": null,
            "grid_row": null,
            "max_height": null,
            "align_content": null,
            "visibility": null,
            "align_self": null,
            "height": null,
            "min_height": null,
            "padding": null,
            "grid_auto_rows": null,
            "grid_gap": null,
            "max_width": null,
            "order": null,
            "_view_module_version": "1.2.0",
            "grid_template_areas": null,
            "object_position": null,
            "object_fit": null,
            "grid_auto_columns": null,
            "margin": null,
            "display": null,
            "left": null
          }
        },
        "340896cd99284a45b2e33e6aac1ae3f1": {
          "model_module": "@jupyter-widgets/controls",
          "model_name": "DescriptionStyleModel",
          "model_module_version": "1.5.0",
          "state": {
            "_view_name": "StyleView",
            "_model_name": "DescriptionStyleModel",
            "description_width": "",
            "_view_module": "@jupyter-widgets/base",
            "_model_module_version": "1.5.0",
            "_view_count": null,
            "_view_module_version": "1.2.0",
            "_model_module": "@jupyter-widgets/controls"
          }
        },
        "a62a6198df3f48ceb8a69e1f2c7c319a": {
          "model_module": "@jupyter-widgets/base",
          "model_name": "LayoutModel",
          "model_module_version": "1.2.0",
          "state": {
            "_view_name": "LayoutView",
            "grid_template_rows": null,
            "right": null,
            "justify_content": null,
            "_view_module": "@jupyter-widgets/base",
            "overflow": null,
            "_model_module_version": "1.2.0",
            "_view_count": null,
            "flex_flow": null,
            "width": null,
            "min_width": null,
            "border": null,
            "align_items": null,
            "bottom": null,
            "_model_module": "@jupyter-widgets/base",
            "top": null,
            "grid_column": null,
            "overflow_y": null,
            "overflow_x": null,
            "grid_auto_flow": null,
            "grid_area": null,
            "grid_template_columns": null,
            "flex": null,
            "_model_name": "LayoutModel",
            "justify_items": null,
            "grid_row": null,
            "max_height": null,
            "align_content": null,
            "visibility": null,
            "align_self": null,
            "height": null,
            "min_height": null,
            "padding": null,
            "grid_auto_rows": null,
            "grid_gap": null,
            "max_width": null,
            "order": null,
            "_view_module_version": "1.2.0",
            "grid_template_areas": null,
            "object_position": null,
            "object_fit": null,
            "grid_auto_columns": null,
            "margin": null,
            "display": null,
            "left": null
          }
        }
      }
    }
  },
  "cells": [
    {
      "cell_type": "markdown",
      "metadata": {
        "id": "view-in-github",
        "colab_type": "text"
      },
      "source": [
        "<a href=\"https://colab.research.google.com/github/LuisCGit/6.484-reinforcement-learning/blob/main/HW1_Assignment_on_Bandits.ipynb\" target=\"_parent\"><img src=\"https://colab.research.google.com/assets/colab-badge.svg\" alt=\"Open In Colab\"/></a>"
      ]
    },
    {
      "cell_type": "markdown",
      "metadata": {
        "id": "LJRLreWTa4T6"
      },
      "source": [
        "# Spring 2022 6.484 Computational Sensorimotor Learning Assignment 1\n",
        "In this assignment, we will learn about multi-armed and contextual bandits.  You will need to <font color='blue'>answer the bolded questions</font> and <font color='blue'>fill in the missing code snippets (marked by **TODO**)</font>.\n",
        "\n",
        "There are 170 total points in this assignment, scaled to be worth 6.25% of your final grade."
      ]
    },
    {
      "cell_type": "markdown",
      "metadata": {
        "id": "npS0XcTswcD3"
      },
      "source": [
        "### Setup\n",
        "\n",
        "Ignore the following skeleton code (imports, plotting)."
      ]
    },
    {
      "cell_type": "code",
      "metadata": {
        "id": "L7NqIj2Ok7YT"
      },
      "source": [
        "%matplotlib inline\n",
        "import numpy as np\n",
        "import random\n",
        "import time\n",
        "import os\n",
        "import gym\n",
        "import json\n",
        "import matplotlib.pyplot as plt\n",
        "import matplotlib as mpl\n",
        "import seaborn as sns\n",
        "import pandas as pd\n",
        "\n",
        "\n",
        "from copy import deepcopy\n",
        "from tqdm.notebook import tqdm\n",
        "from dataclasses import dataclass\n",
        "from typing import Any\n",
        "mpl.rcParams['figure.dpi']= 100"
      ],
      "execution_count": 1,
      "outputs": []
    },
    {
      "cell_type": "code",
      "metadata": {
        "id": "lhWjpbrMlEHS"
      },
      "source": [
        "# some util functions\n",
        "def plot(logs, x_key, y_key, legend_key, **kwargs):\n",
        "    nums = len(logs[legend_key].unique())\n",
        "    palette = sns.color_palette(\"hls\", nums)\n",
        "    if 'palette' not in kwargs:\n",
        "        kwargs['palette'] = palette\n",
        "    ax = sns.lineplot(x=x_key, y=y_key, data=logs, hue=legend_key, **kwargs)\n",
        "    return ax\n",
        "\n",
        "def set_random_seed(seed):\n",
        "    np.random.seed(seed)\n",
        "    random.seed(seed)\n",
        "\n",
        "# set random seed\n",
        "seed = 0\n",
        "set_random_seed(seed=seed)"
      ],
      "execution_count": 2,
      "outputs": []
    },
    {
      "cell_type": "markdown",
      "metadata": {
        "id": "bnoCSsdTmEaH"
      },
      "source": [
        "# Multi-armed bandits\n",
        "\n",
        "Let us define a multi-armed bandit scenario with 10 arms.  There are two slightly different formulations that are useful: \n",
        "\n",
        "- Stochastic Case: Each arm has a reward of 1, with probability $p \\in [0, 1]$.\n",
        "- Deterministic Case:  Each arm has a reward $r \\in [0,1]$, but the same reward is obtained for every pull. \n",
        "\n",
        "\n",
        "In this assignment, we will work through the stochastic case.  The same insights would apply to the deterministic scenario with variable rewards or even to stochastic setups with variable rewards. \n",
        "\n",
        "To define our bandit, we arbitrarily select probabilities $p$ for each arm and save them as `probs`.\n",
        "\n"
      ]
    },
    {
      "cell_type": "code",
      "metadata": {
        "id": "ECiVDc_ElLPa",
        "outputId": "f3bfb29f-f50e-458a-d81f-adbbfb23aea3",
        "colab": {
          "base_uri": "https://localhost:8080/"
        }
      },
      "source": [
        "numArms = 10\n",
        "probs = [np.random.random() for i in range(numArms)]\n",
        "print(probs)"
      ],
      "execution_count": 9,
      "outputs": [
        {
          "output_type": "stream",
          "name": "stdout",
          "text": [
            "[0.7917250380826646, 0.5288949197529045, 0.5680445610939323, 0.925596638292661, 0.07103605819788694, 0.08712929970154071, 0.02021839744032572, 0.832619845547938, 0.7781567509498505, 0.8700121482468192]\n"
          ]
        }
      ]
    },
    {
      "cell_type": "markdown",
      "metadata": {
        "id": "6-pVugphxnhP"
      },
      "source": [
        "We then define an environment to evaluate different agent strategies."
      ]
    },
    {
      "cell_type": "code",
      "metadata": {
        "id": "1S47Fz2em1DV"
      },
      "source": [
        "#To simulate a realistic Bandit scenario, we will make use of the BanditEnv.\n",
        "@dataclass\n",
        "class BanditEnv:\n",
        "    probs: np.ndarray # probabilities of giving positive reward for each arm\n",
        "\n",
        "    def step(self, action):\n",
        "        # Pull arm and get stochastic reward (1 for success, 0 for failure)\n",
        "        return 1 if (np.random.random()  < self.probs[action]) else 0"
      ],
      "execution_count": 10,
      "outputs": []
    },
    {
      "cell_type": "code",
      "metadata": {
        "id": "Th8QN6oswC3B"
      },
      "source": [
        "#Code for running the bandit environment. \n",
        "@dataclass\n",
        "class BanditEngine:\n",
        "    probs: np.ndarray\n",
        "    max_steps: int\n",
        "    agent: Any\n",
        "\n",
        "    def __post_init__(self):\n",
        "        self.env = BanditEnv(probs=self.probs)\n",
        "    \n",
        "    def run(self, n_runs=1):\n",
        "        log = []\n",
        "        for i in tqdm(range(n_runs), desc='Runs'):\n",
        "            run_rewards = []\n",
        "            run_actions = []\n",
        "            self.agent.reset()\n",
        "            for t in range(self.max_steps):\n",
        "                action = self.agent.get_action()\n",
        "                reward = self.env.step(action)\n",
        "                self.agent.update_Q(action, reward)\n",
        "                run_actions.append(action)\n",
        "                run_rewards.append(reward)\n",
        "            data = {'reward': run_rewards, \n",
        "                    'action': run_actions, \n",
        "                    'step': np.arange(len(run_rewards))}\n",
        "            if hasattr(self.agent, 'epsilon'):\n",
        "                data['epsilon'] = self.agent.epsilon\n",
        "            run_log = pd.DataFrame(data)\n",
        "            log.append(run_log)\n",
        "        return log"
      ],
      "execution_count": 11,
      "outputs": []
    },
    {
      "cell_type": "code",
      "metadata": {
        "id": "9QH8Z6wKwIcO"
      },
      "source": [
        "#Code for aggregrating results of running an agent in the bandit environment. \n",
        "def bandit_sweep(agents, probs, labels, n_runs=2000, max_steps=500):\n",
        "    logs = dict()\n",
        "    pbar = tqdm(agents)\n",
        "    for idx, agent in enumerate(pbar):\n",
        "        pbar.set_description(f'Alg:{labels[idx]}')\n",
        "        engine = BanditEngine(probs=probs, max_steps=max_steps, agent=agent)\n",
        "        ep_log = engine.run(n_runs)\n",
        "        ep_log = pd.concat(ep_log, ignore_index=True)\n",
        "        ep_log['Alg'] = labels[idx]\n",
        "        logs[f'{labels[idx]}'] = ep_log\n",
        "    logs = pd.concat(logs, ignore_index=True)\n",
        "    return logs\n"
      ],
      "execution_count": 12,
      "outputs": []
    },
    {
      "cell_type": "markdown",
      "metadata": {
        "id": "xj5SyR93v4AR"
      },
      "source": [
        "Credits: The code for Multi-Arm Bandits is inspired from\n",
        "\n",
        "* https://github.com/ShangtongZhang/reinforcement-learning-an-introduction/blob/master/chapter02/ten_armed_testbed.py\n",
        "\n",
        "* https://github.com/lilianweng/multi-armed-bandit/blob/master/solvers.py"
      ]
    },
    {
      "cell_type": "markdown",
      "metadata": {
        "id": "Q-RZwbMCbcjR"
      },
      "source": [
        "## Oracle Agent\n",
        "\n",
        "The best agent we could possibly build is one that has access to all the necessary information to make an optimal decision, even if that information would not be available in a real world problem.  We call this an \"oracle agent.\"  \n",
        "\n",
        "Imagine you were to build an Oracle agent for the stochastic multi-armed bandits problem defined by `probs`.  What reward would you get from this agent in expectation?"
      ]
    },
    {
      "cell_type": "code",
      "metadata": {
        "id": "P4XPPVotba9q",
        "outputId": "63000d7f-618c-4470-fc12-7a1d6182cc23",
        "colab": {
          "base_uri": "https://localhost:8080/"
        }
      },
      "source": [
        "#### TODO: find the maximum return with priviledged infromation about the reward distribution [5pts] ####\n",
        "\n",
        "##################################\n",
        "max_steps = 500\n",
        "oracleReward = max_steps*max(probs)\n",
        "print (f'Max possible reward {oracleReward}')"
      ],
      "execution_count": 14,
      "outputs": [
        {
          "output_type": "stream",
          "name": "stdout",
          "text": [
            "Max possible reward 462.7983191463305\n"
          ]
        }
      ]
    },
    {
      "cell_type": "markdown",
      "metadata": {
        "id": "3ogXvpFvtgVV"
      },
      "source": [
        "## Random Agent\n",
        "\n",
        "That's pretty high reward!  However, let's say that we don't have access to `probs`, and that the only information we can learn about the environment is through interaction.  This is more akin to a real world bandits problem.\n",
        "\n",
        "One baseline agent we should construct is one that chooses a random action at every timestep.  Fill in the `TODO` in the below agent code to implement this behavior."
      ]
    },
    {
      "cell_type": "code",
      "metadata": {
        "id": "Sk8d5opRwBHn"
      },
      "source": [
        "#As a baseline, lets first construct a baseline agent that chooses a random action at every timestep. \n",
        "#We will measure how much better we can do. \n",
        "@dataclass\n",
        "class RandomAgent:\n",
        "    num_actions: int\n",
        "\n",
        "    def __post_init__(self):\n",
        "        self.reset()\n",
        "\n",
        "    def reset(self):\n",
        "        self.t = 0\n",
        "        self.action_counts = np.zeros(self.num_actions, dtype=np.int) # action counts n(a)\n",
        "        self.Q = np.zeros(self.num_actions, dtype=np.float) # action value Q(a)\n",
        "\n",
        "    def update_Q(self, action, reward):\n",
        "        pass\n",
        "\n",
        "    def get_action(self):\n",
        "        self.t += 1\n",
        "        #### TODO: get a random action index [5pts]####\n",
        "        ##################################\n",
        "\n",
        "        selected_action = np.random.randint(self.num_actions) # placeholder\n",
        "        return selected_action"
      ],
      "execution_count": 27,
      "outputs": []
    },
    {
      "cell_type": "code",
      "metadata": {
        "id": "Xg98tgFxxekp",
        "outputId": "ec074e08-1256-4368-81ff-19b4f95c7d33",
        "colab": {
          "base_uri": "https://localhost:8080/",
          "height": 81,
          "referenced_widgets": [
            "1fb827bb611c4062af7b85283540d13c",
            "3248a243cc894b268744bfb6f2246f67",
            "6ffe2e1f3c274c3d89be9dc2674e8469",
            "4610fb24be8c4c62a3f0818244b4bea4",
            "599149340fbc408eae5c910c30c6d933",
            "c1ae7cfca1ea403fa54b15bbf7f4f8db",
            "aaf544f37fbe4ac9a895b50eb762af1a",
            "6eb02c4fac4d4f69865f2eac08ec0db5",
            "bfb114de93e14d188536b1e14376f4a9",
            "bb9fa897c20c4889b2cb6957a6c99c8d",
            "58e0cfc6a6144f3286fd4b96d6abb167",
            "db647b771e394ca590c6e07da517636d",
            "c2aeb4f3e81c4269925677d4dff55d18",
            "a3dbde0fa71340aca6f4d65b96763fe7",
            "ab0979dedd15430d98816c0beee6e8ff",
            "754166b93ae8406c8be610ecd0e9f341",
            "945560bd5ccb420b89dba114f906cb24",
            "6ff78a19716145b0a4ee9fb9f882d00f",
            "94d045daff9d4110a5a834c08553f4fd",
            "d70553165a4040ea9b4358c3be250a5e",
            "340896cd99284a45b2e33e6aac1ae3f1",
            "a62a6198df3f48ceb8a69e1f2c7c319a"
          ]
        }
      },
      "source": [
        "#Create the random agent.\n",
        "agent = RandomAgent(num_actions=len(probs))\n",
        "'''\n",
        "In order to measure average behavior of the agent, we are going to run the agent\n",
        "multiple times and compute the mean reward. The number of runs will be denoted \n",
        "by the variable `n_runs`. The default value is set to 1000, but feel free to reduce it\n",
        "it if its taking too much time. \n",
        "'''\n",
        "n_runs = 1000\n",
        "logs = bandit_sweep([agent], probs, ['Random'], n_runs=n_runs)"
      ],
      "execution_count": 28,
      "outputs": [
        {
          "output_type": "display_data",
          "data": {
            "application/vnd.jupyter.widget-view+json": {
              "model_id": "1fb827bb611c4062af7b85283540d13c",
              "version_minor": 0,
              "version_major": 2
            },
            "text/plain": [
              "  0%|          | 0/1 [00:00<?, ?it/s]"
            ]
          },
          "metadata": {}
        },
        {
          "output_type": "display_data",
          "data": {
            "application/vnd.jupyter.widget-view+json": {
              "model_id": "db647b771e394ca590c6e07da517636d",
              "version_minor": 0,
              "version_major": 2
            },
            "text/plain": [
              "Runs:   0%|          | 0/1000 [00:00<?, ?it/s]"
            ]
          },
          "metadata": {}
        }
      ]
    },
    {
      "cell_type": "code",
      "metadata": {
        "id": "qecj5KXmOTJq",
        "outputId": "3488ad1e-ab21-457c-dde0-5db3ad439dfc",
        "colab": {
          "base_uri": "https://localhost:8080/",
          "height": 296
        }
      },
      "source": [
        "#### TODO: plot the reward curve of a random agent, and the average reward of all arms [5pts]####\n",
        "\n",
        "###############################\n",
        "def plot_avg_reward(logs, x_key, y_key, legend_key, **kwargs):\n",
        "    logs = logs.groupby(\"step\").mean()\n",
        "    nums = len(logs[legend_key].unique())\n",
        "    palette = sns.color_palette(\"hls\", nums)\n",
        "    if 'palette' not in kwargs:\n",
        "        kwargs['palette'] = palette\n",
        "    ax = sns.lineplot(x=x_key, y=y_key, data=logs, **kwargs)\n",
        "    return ax\n",
        "\n",
        "ax = plot_avg_reward(logs, \"step\", \"reward\", \"action\")\n",
        "ax.axhline(y=np.mean(probs),color=\"red\",label = \"average r\")\n",
        "# for i in range(len(probs)):\n",
        "#   ax.axhline(y=probs[i],color=\"g\")"
      ],
      "execution_count": 46,
      "outputs": [
        {
          "output_type": "execute_result",
          "data": {
            "text/plain": [
              "<matplotlib.lines.Line2D at 0x7f20d0f82750>"
            ]
          },
          "metadata": {},
          "execution_count": 46
        },
        {
          "output_type": "display_data",
          "data": {
            "image/png": "[encoded data removed]",
            "text/plain": [
              "<Figure size 432x288 with 1 Axes>"
            ]
          },
          "metadata": {
            "needs_background": "light"
          }
        }
      ]
    },
    {
      "cell_type": "code",
      "source": [
        "logs.groupby(\"step\").mean()"
      ],
      "metadata": {
        "id": "gycDeGWNug9V",
        "outputId": "d6d86077-7534-4f38-fe17-0f03af6b38a0",
        "colab": {
          "base_uri": "https://localhost:8080/",
          "height": 455
        }
      },
      "execution_count": 39,
      "outputs": [
        {
          "output_type": "execute_result",
          "data": {
            "text/html": [
              "\n",
              "  <div id=\"df-8f450525-0217-4f3b-9ced-f2d55974379c\">\n",
              "    <div class=\"colab-df-container\">\n",
              "      <div>\n",
              "<style scoped>\n",
              "    .dataframe tbody tr th:only-of-type {\n",
              "        vertical-align: middle;\n",
              "    }\n",
              "\n",
              "    .dataframe tbody tr th {\n",
              "        vertical-align: top;\n",
              "    }\n",
              "\n",
              "    .dataframe thead th {\n",
              "        text-align: right;\n",
              "    }\n",
              "</style>\n",
              "<table border=\"1\" class=\"dataframe\">\n",
              "  <thead>\n",
              "    <tr style=\"text-align: right;\">\n",
              "      <th></th>\n",
              "      <th>reward</th>\n",
              "      <th>action</th>\n",
              "    </tr>\n",
              "    <tr>\n",
              "      <th>step</th>\n",
              "      <th></th>\n",
              "      <th></th>\n",
              "    </tr>\n",
              "  </thead>\n",
              "  <tbody>\n",
              "    <tr>\n",
              "      <th>0</th>\n",
              "      <td>0.560</td>\n",
              "      <td>4.602</td>\n",
              "    </tr>\n",
              "    <tr>\n",
              "      <th>1</th>\n",
              "      <td>0.536</td>\n",
              "      <td>4.451</td>\n",
              "    </tr>\n",
              "    <tr>\n",
              "      <th>2</th>\n",
              "      <td>0.548</td>\n",
              "      <td>4.359</td>\n",
              "    </tr>\n",
              "    <tr>\n",
              "      <th>3</th>\n",
              "      <td>0.556</td>\n",
              "      <td>4.491</td>\n",
              "    </tr>\n",
              "    <tr>\n",
              "      <th>4</th>\n",
              "      <td>0.539</td>\n",
              "      <td>4.528</td>\n",
              "    </tr>\n",
              "    <tr>\n",
              "      <th>...</th>\n",
              "      <td>...</td>\n",
              "      <td>...</td>\n",
              "    </tr>\n",
              "    <tr>\n",
              "      <th>495</th>\n",
              "      <td>0.557</td>\n",
              "      <td>4.468</td>\n",
              "    </tr>\n",
              "    <tr>\n",
              "      <th>496</th>\n",
              "      <td>0.554</td>\n",
              "      <td>4.635</td>\n",
              "    </tr>\n",
              "    <tr>\n",
              "      <th>497</th>\n",
              "      <td>0.554</td>\n",
              "      <td>4.497</td>\n",
              "    </tr>\n",
              "    <tr>\n",
              "      <th>498</th>\n",
              "      <td>0.508</td>\n",
              "      <td>4.444</td>\n",
              "    </tr>\n",
              "    <tr>\n",
              "      <th>499</th>\n",
              "      <td>0.556</td>\n",
              "      <td>4.355</td>\n",
              "    </tr>\n",
              "  </tbody>\n",
              "</table>\n",
              "<p>500 rows × 2 columns</p>\n",
              "</div>\n",
              "      <button class=\"colab-df-convert\" onclick=\"convertToInteractive('df-8f450525-0217-4f3b-9ced-f2d55974379c')\"\n",
              "              title=\"Convert this dataframe to an interactive table.\"\n",
              "              style=\"display:none;\">\n",
              "        \n",
              "  <svg xmlns=\"http://www.w3.org/2000/svg\" height=\"24px\"viewBox=\"0 0 24 24\"\n",
              "       width=\"24px\">\n",
              "    <path d=\"M0 0h24v24H0V0z\" fill=\"none\"/>\n",
              "    <path d=\"M18.56 5.44l.94 2.06.94-2.06 2.06-.94-2.06-.94-.94-2.06-.94 2.06-2.06.94zm-11 1L8.5 8.5l.94-2.06 2.06-.94-2.06-.94L8.5 2.5l-.94 2.06-2.06.94zm10 10l.94 2.06.94-2.06 2.06-.94-2.06-.94-.94-2.06-.94 2.06-2.06.94z\"/><path d=\"M17.41 7.96l-1.37-1.37c-.4-.4-.92-.59-1.43-.59-.52 0-1.04.2-1.43.59L10.3 9.45l-7.72 7.72c-.78.78-.78 2.05 0 2.83L4 21.41c.39.39.9.59 1.41.59.51 0 1.02-.2 1.41-.59l7.78-7.78 2.81-2.81c.8-.78.8-2.07 0-2.86zM5.41 20L4 18.59l7.72-7.72 1.47 1.35L5.41 20z\"/>\n",
              "  </svg>\n",
              "      </button>\n",
              "      \n",
              "  <style>\n",
              "    .colab-df-container {\n",
              "      display:flex;\n",
              "      flex-wrap:wrap;\n",
              "      gap: 12px;\n",
              "    }\n",
              "\n",
              "    .colab-df-convert {\n",
              "      background-color: #E8F0FE;\n",
              "      border: none;\n",
              "      border-radius: 50%;\n",
              "      cursor: pointer;\n",
              "      display: none;\n",
              "      fill: #1967D2;\n",
              "      height: 32px;\n",
              "      padding: 0 0 0 0;\n",
              "      width: 32px;\n",
              "    }\n",
              "\n",
              "    .colab-df-convert:hover {\n",
              "      background-color: #E2EBFA;\n",
              "      box-shadow: 0px 1px 2px rgba(60, 64, 67, 0.3), 0px 1px 3px 1px rgba(60, 64, 67, 0.15);\n",
              "      fill: #174EA6;\n",
              "    }\n",
              "\n",
              "    [theme=dark] .colab-df-convert {\n",
              "      background-color: #3B4455;\n",
              "      fill: #D2E3FC;\n",
              "    }\n",
              "\n",
              "    [theme=dark] .colab-df-convert:hover {\n",
              "      background-color: #434B5C;\n",
              "      box-shadow: 0px 1px 3px 1px rgba(0, 0, 0, 0.15);\n",
              "      filter: drop-shadow(0px 1px 2px rgba(0, 0, 0, 0.3));\n",
              "      fill: #FFFFFF;\n",
              "    }\n",
              "  </style>\n",
              "\n",
              "      <script>\n",
              "        const buttonEl =\n",
              "          document.querySelector('#df-8f450525-0217-4f3b-9ced-f2d55974379c button.colab-df-convert');\n",
              "        buttonEl.style.display =\n",
              "          google.colab.kernel.accessAllowed ? 'block' : 'none';\n",
              "\n",
              "        async function convertToInteractive(key) {\n",
              "          const element = document.querySelector('#df-8f450525-0217-4f3b-9ced-f2d55974379c');\n",
              "          const dataTable =\n",
              "            await google.colab.kernel.invokeFunction('convertToInteractive',\n",
              "                                                     [key], {});\n",
              "          if (!dataTable) return;\n",
              "\n",
              "          const docLinkHtml = 'Like what you see? Visit the ' +\n",
              "            '<a target=\"_blank\" href=https://colab.research.google.com/notebooks/data_table.ipynb>data table notebook</a>'\n",
              "            + ' to learn more about interactive tables.';\n",
              "          element.innerHTML = '';\n",
              "          dataTable['output_type'] = 'display_data';\n",
              "          await google.colab.output.renderOutput(dataTable, element);\n",
              "          const docLink = document.createElement('div');\n",
              "          docLink.innerHTML = docLinkHtml;\n",
              "          element.appendChild(docLink);\n",
              "        }\n",
              "      </script>\n",
              "    </div>\n",
              "  </div>\n",
              "  "
            ],
            "text/plain": [
              "      reward  action\n",
              "step                \n",
              "0      0.560   4.602\n",
              "1      0.536   4.451\n",
              "2      0.548   4.359\n",
              "3      0.556   4.491\n",
              "4      0.539   4.528\n",
              "...      ...     ...\n",
              "495    0.557   4.468\n",
              "496    0.554   4.635\n",
              "497    0.554   4.497\n",
              "498    0.508   4.444\n",
              "499    0.556   4.355\n",
              "\n",
              "[500 rows x 2 columns]"
            ]
          },
          "metadata": {},
          "execution_count": 39
        }
      ]
    },
    {
      "cell_type": "markdown",
      "metadata": {
        "id": "gBXkVnvVcINh"
      },
      "source": [
        "**Analyzing the Results:** \n",
        "- On the x-axis is the number of steps taken by the agent. \n",
        "- On the y-axis is the average reward after $i$ steps.\n",
        "\n",
        "The reward obtained by the random agent is far less that the oracle agent. Regret is defined as the difference between the the reward collected by oracle and the agent under consideration. In the above example, regret is about 0.35. \n",
        "\n",
        "**Note:** that if you use a different random seed to run experiments, you might get a slighly different value of regret. Treat this as a ball park figure. "
      ]
    },
    {
      "cell_type": "markdown",
      "metadata": {
        "id": "RvYYu1S705iQ"
      },
      "source": [
        "## Explore First Agent\n",
        "\n",
        "In the class we discussed an algorithm to solve bandits where, \n",
        "- For the first N (defined as `max_explore` in the code) steps the agent takes random actions. \n",
        "- The agent identifies the best arm based on these N steps and then only chooses the best arm. \n",
        "\n",
        "We will now implement this agent below.  Fill in the missing code in `update_Q` and `get_action`.  We will store the average reward for each action in the variable `self.Q`, and the count of how many times we've taken each action in `self.action_counts`."
      ]
    },
    {
      "cell_type": "code",
      "metadata": {
        "id": "GTOhqhA4CQL6"
      },
      "source": [
        "#Lets now construct the explore first agent  \n",
        "@dataclass\n",
        "class ExploreFirstAgent:\n",
        "    num_actions: int\n",
        "    max_explore: int\n",
        "\n",
        "    def __post_init__(self):\n",
        "        self.reset()\n",
        "\n",
        "    def reset(self):\n",
        "        self.t = 0\n",
        "        self.action_counts = np.zeros(self.num_actions, dtype=np.int) # action counts n(a)\n",
        "        self.Q = np.zeros(self.num_actions, dtype=np.float) # action value Q(a)\n",
        "\n",
        "    def update_Q(self, action, reward):\n",
        "        # Update Q action-value given (action, reward)\n",
        "        # HINT: Keep track of how good each arm is\n",
        "        #### TODO: update Q value [5pts] ####\n",
        "        self.action_counts[actoind]\n",
        "\n",
        "        ##################################\n",
        "\n",
        "    def get_action(self):\n",
        "        self.t += 1\n",
        "        #### TODO: get action [5pts] ####\n",
        "        selected_action = 0 # placeholder\n",
        "        ##################################\n",
        "\n",
        "        return selected_action        "
      ],
      "execution_count": null,
      "outputs": []
    },
    {
      "cell_type": "markdown",
      "metadata": {
        "id": "bai_aCyb0uqD"
      },
      "source": [
        "Great! Now we'll instantiate the engine, and run it with $N=5$ (five steps of exploration, followed by entirely greedy policy)."
      ]
    },
    {
      "cell_type": "code",
      "metadata": {
        "id": "HziwYmDZK8J5"
      },
      "source": [
        "max_explore = 5\n",
        "agent = ExploreFirstAgent(num_actions=len(probs), max_explore=max_explore)\n",
        "logs = bandit_sweep([agent], probs, ['Explore First 5'], n_runs=1000, max_steps=500)\n",
        "plot(logs, x_key='step', y_key='reward', legend_key='Alg', estimator='mean', ci=None)"
      ],
      "execution_count": null,
      "outputs": []
    },
    {
      "cell_type": "markdown",
      "metadata": {
        "id": "FsxhwkOHZEp1"
      },
      "source": [
        "### Explore First v.s. Random Agent\n",
        "\n",
        "The results clearly show that the explore first agent performs better than the random agent. However, it still performs much worse than the oracle. How can we improve our performance? \n",
        "\n",
        "If there are 10 possible actions but the agent only explores for 5 steps, then it is likely it won't find the best arm.  Thus, the policy will be suboptimal. Let's see what happens when we allow the agent to explore for more steps. \n"
      ]
    },
    {
      "cell_type": "code",
      "metadata": {
        "id": "vf7iB1VCQkV1"
      },
      "source": [
        "'''\n",
        "What happens if we allow the agent to explore for only 5, 10, 50, 100, 200 steps respectively?\n",
        "'''\n",
        "max_explore_steps = [5, 10, 50, 100, 200]\n",
        "n_runs = 1000\n",
        "#### TODO: run ExploreFirstAgent with different max_explore steps, and plot the reward curves [10pts]####\n",
        "\n",
        "#########################################"
      ],
      "execution_count": null,
      "outputs": []
    },
    {
      "cell_type": "markdown",
      "metadata": {
        "id": "Gv1fjJ6B2dlc"
      },
      "source": [
        "**Analyzing the Results** \n",
        "\n",
        "- Notice that for all agents there is a jump in performance. This corresponds to the time point when they switch from explore only to exploit mode. \n",
        "\n",
        "- The agents that explore for 5, 10 steps are unable to accurately identify the best arm everytime. Their scores are lower than that of agents exploring for 50 or 100 steps. These agents find the optimal arm. "
      ]
    },
    {
      "cell_type": "markdown",
      "metadata": {
        "id": "vCl2YW3C3ZLr"
      },
      "source": [
        "**Moving to More Realistic Scenarios**\n",
        "\n",
        "**Question (5pts)**:\n",
        "It's unclear how long the agent should explore before switching to exploit mode.  Can you come up with a strategy to choose a good value of `max_explore`? Can we use such a strategy to deploy a product?\n",
        "\n",
        "**Answer**: \n"
      ]
    },
    {
      "cell_type": "markdown",
      "metadata": {
        "id": "x87xNSz_t21T"
      },
      "source": [
        "## UCB Agent\n",
        "\n",
        "Rather than having a fixed delineation between exploration and exploitation, an agent should be able to figure out when to explore and when to exploit.  This leads us to the UCB agent that we discussed in class. \n",
        "\n",
        "Implement the `update_Q` and `get_action` methods for a UCB agent using the course notes."
      ]
    },
    {
      "cell_type": "code",
      "metadata": {
        "id": "Q0FPg7pYQm_I"
      },
      "source": [
        "#### UCB Agent #### \n",
        "@dataclass\n",
        "class UCBAgent:\n",
        "    num_actions: int\n",
        "\n",
        "    def __post_init__(self):\n",
        "        self.reset()\n",
        "\n",
        "    def reset(self):\n",
        "        self.t = 0\n",
        "        self.action_counts = np.zeros(self.num_actions, dtype=np.int) # action counts n(a)\n",
        "        self.Q = np.zeros(self.num_actions, dtype=np.float) # action value Q(a)\n",
        "\n",
        "    def update_Q(self, action, reward):\n",
        "        # Update Q action-value given (action, reward)\n",
        "        #### TODO: Calculate the Q-value [5pts] ####\n",
        "\n",
        "        ###############################\n",
        "        \n",
        "    def get_action(self):\n",
        "        self.t += 1\n",
        "        ## HINT: To avoid a division by zero, you can add a small delta>0 to the denominator\n",
        "        #### TODO: Calculate the exploration bonus [5pts] ####\n",
        "        exploration_bonus = 0 # placeholder\n",
        "        ###########################################\n",
        "        Q_explore = self.Q + exploration_bonus\n",
        "        return np.random.choice(np.where(Q_explore == Q_explore.max())[0])"
      ],
      "execution_count": null,
      "outputs": []
    },
    {
      "cell_type": "code",
      "metadata": {
        "id": "XrHjDcHrRKt5"
      },
      "source": [
        "#Define the UCB Agent\n",
        "agentUCB = UCBAgent(num_actions=len(probs))\n",
        "#Compute Performance\n",
        "logs = bandit_sweep([agentUCB], probs, ['UCB'], n_runs=1000, max_steps=500)\n",
        "#Plot Performance\n",
        "plot(logs, x_key='step', y_key='reward', legend_key='Alg', estimator='mean', ci=None)"
      ],
      "execution_count": null,
      "outputs": []
    },
    {
      "cell_type": "markdown",
      "metadata": {
        "id": "XUe1pKzC58Bt"
      },
      "source": [
        "### UCB v/s Explore-First\n",
        "\n",
        "Now let's compare the reward curves of the `UCB` agent and `Explore First` agent with `max_explore=5`."
      ]
    },
    {
      "cell_type": "markdown",
      "metadata": {
        "id": "9FvVQJIh4e-Z"
      },
      "source": [
        "**Analyzing the Results**\n",
        "\n",
        "**Question [5pts]**: Why does the UCB algorithm learn slowly (even after 500 steps, the agent still does not reach the maximum reward)?\n",
        "\n",
        "**Answer**:\n"
      ]
    },
    {
      "cell_type": "code",
      "metadata": {
        "id": "IBZcVkX7RxVx"
      },
      "source": [
        "#Now we will compare the UCB agent against the ExploreFirst Agent that only explores for 5 steps.\n",
        "#### TODO: run both algorithms and plot the reward curves (max_explore=5) [10pts] ####\n",
        "#### use legends ['UCB', 'Explore First 5'] respectively \n",
        "#### run each algorithm 1000 times (n_runs=1000), and max_steps=1000\n",
        "\n",
        "##################################"
      ],
      "execution_count": null,
      "outputs": []
    },
    {
      "cell_type": "markdown",
      "metadata": {
        "id": "mvdCHeD_6QDj"
      },
      "source": [
        "**Result Analysis:** UCB outperforms the greedy Explore First agent that only explores for 5 steps. \n",
        "\n",
        "What happens if we allow the agent to explore for more steps?  Run the Explore First agent for 20 steps, and compare the reward to the UCB agent."
      ]
    },
    {
      "cell_type": "code",
      "metadata": {
        "id": "tcMlCj38T0eV"
      },
      "source": [
        "#Lets compare UCB with an agent that explores for twenty steps.\n",
        "#### TODO: run both algorithms and plot the reward curves (max_explore=20) [10pts] #### \n",
        "#### use legends ['UCB', 'Explore First 20'] respectively\n",
        "#### run each algorithm 1000 times (n_runs=1000), and max_steps=1000\n",
        "\n",
        "##################################"
      ],
      "execution_count": null,
      "outputs": []
    },
    {
      "cell_type": "markdown",
      "metadata": {
        "id": "iJDZTED5T-zV"
      },
      "source": [
        "**Question**: In the lecture we studied that the UCB algorithm is optimal. Why then does Explore First perform better?**\n",
        "\n",
        "**Answer**: "
      ]
    },
    {
      "cell_type": "markdown",
      "metadata": {
        "id": "YVudBSud49Jb"
      },
      "source": [
        "### Skewed Arms Scenario:\n",
        "\n",
        "In the previous example, the probability of each arm providing a return was sampled uniformly from $[0,1]$. Because there were only 10 arms, and some arms had similar returns, by performing 20 random actions it is possible to find the best arm by chance. However, if the reward distributions are very skewed (e.g., only one arm returns rewards with high probability, say 0.9), or there are more arms, more actions may be necessary. In this case the initial exploration phase may not succeed at finding the best arm. Lets see this in practice below. "
      ]
    },
    {
      "cell_type": "code",
      "metadata": {
        "id": "NBZonK7fVaVQ"
      },
      "source": [
        "skewedProbs = [0.1, 0.2, 0.15, 0.21, 0.3, 0.05, 0.9, 0.13, 0.17, 0.07, 0.01, 0.01, 0.01, 0.01, 0.01, 0.01, 0.01, 0.01, 0.01, 0.01]\n",
        "#### TODO: compare the reward curves of UCBAgent and ExploreFirstAgent (max_explore=len(skewedProbs)) [10pts] ####\n",
        "#### sweep with n_runs=1000, max_steps=1000\n",
        "\n",
        "###################################"
      ],
      "execution_count": null,
      "outputs": []
    },
    {
      "cell_type": "markdown",
      "metadata": {
        "id": "hUtsHpvsVZX7"
      },
      "source": [
        "In this case, UCB performs better than *Explore First (20)*. It is because exploring for 20 steps is insufficient for this problem. This problem again illustrates that unless one has access to privileged information about the problem, UCB performs the best! \n",
        "\n",
        "Also notice that UCB's reward is still increasing and it hasn't converged to the optimal action yet. Try varying the maximum number of steps to see when UCB converges to the optimal / oracle policy. \n",
        "\n",
        "In other words, `max_explore` is a hyperparameter. Without \"tuning\" it, the method may perform well on some problem instances and poorly on others. An advantage of UCB is its lack of hyperparameters. Next, we'll consider another hyperparameter, $\\epsilon$."
      ]
    },
    {
      "cell_type": "markdown",
      "metadata": {
        "id": "M8hoeDpluL1D"
      },
      "source": [
        "## Epsilon-greedy Agent\n",
        "\n",
        "Another popular method of simultaneoulsy exploring/exploiting is $\\epsilon$-greedy exploration. The main idea is to:\n",
        "- Sample the (estimated) best action with probability $1-\\epsilon$\n",
        "- Perform a random action with probability $\\epsilon$ \n",
        "\n",
        "By changing $\\epsilon$, we can control if the agent is conservative or exploratory. We will now implement this agent. "
      ]
    },
    {
      "cell_type": "code",
      "metadata": {
        "id": "Fn_YpUt2YRRV"
      },
      "source": [
        "##EpsilonGreedy Agent\n",
        "@dataclass\n",
        "class EpsilonGreedyAgent:\n",
        "    num_actions: int\n",
        "    epsilon: float = 0.1\n",
        "\n",
        "    def __post_init__(self):\n",
        "        self.reset()\n",
        "\n",
        "    def reset(self):\n",
        "        self.action_counts = np.zeros(self.num_actions, dtype=np.int) # action counts n(a)\n",
        "        self.Q = np.zeros(self.num_actions, dtype=np.float) # action value Q(a)\n",
        "\n",
        "    def update_Q(self, action, reward):\n",
        "        # Update Q action-value given (action, reward)\n",
        "        self.action_counts[action] += 1\n",
        "        self.Q[action] += (1.0 / self.action_counts[action]) * (reward - self.Q[action])\n",
        "\n",
        "    def get_action(self):\n",
        "        # Epsilon-greedy policy\n",
        "        #### TODO: Code for exploration [5pts] ####\n",
        "        selected_action = 0 # placeholder\n",
        "        ##################################\n",
        "\n",
        "        return selected_action"
      ],
      "execution_count": null,
      "outputs": []
    },
    {
      "cell_type": "markdown",
      "metadata": {
        "id": "-2iHG2uj_B97"
      },
      "source": [
        "**Analyzing Epsilon-Greedy Agents** \n",
        "\n",
        "Notice that the reward of all agents gradually increases (except for $\\epsilon=0$, which is an extremely greedy agent). Also, notice that reward is maxmium for $\\epsilon=0.1$ but decreases for higher values. \n",
        "\n",
        "**Question [5pts]**: Why is the reward lower for higher-values of $\\epsilon$?\n",
        "\n",
        "**Answer**:  \n",
        "\n",
        "\n",
        "**Question [5pts]**: To overcome the issue above, one can try setting $\\epsilon=0$ after some time or adaptively chaning $\\epsilon$. Can you suggest a strategy for varying $\\epsilon$ with time $T$?\n",
        "\n",
        "**Answer**: \n",
        "\n",
        "**Consider**: Compare $\\epsilon$-greedy with UCB and the tradeoffs. "
      ]
    },
    {
      "cell_type": "code",
      "metadata": {
        "id": "PIVpOkS67o8P"
      },
      "source": [
        "#### TODO: show reward curves of an EpsilonGreedyAgent with epsilon=[0, 0.1, 0.2, 0.4] [10pts]####\n",
        "\n",
        "###########################################"
      ],
      "execution_count": null,
      "outputs": []
    },
    {
      "cell_type": "markdown",
      "metadata": {
        "id": "67iQcpLGs1Nz"
      },
      "source": [
        "# Contextual bandits\n",
        "\n",
        "In this section, we will deal with contextual bandits problem. In contextual bandits, we use contextual information about the observed subject to make subject-specific decisions.  The algorithm we will implement is called [LinUCB](https://arxiv.org/pdf/1003.0146.pdf).\n",
        "\n",
        "As an example, imagine we have a website with 10 products that we'd like to promote. Whenever a user enters the website, the website promotes one product to the user. If the user clicks the product link, then it's a successful promotion (reward is $1$). Otherwise, it's a failed promotion (reward is $0$). Our goal is to optimize the click through rate (CTR), and thus optimize our $$$. \n",
        "\n",
        "We will use a dataset from [here](http://www.cs.columbia.edu/~jebara/6998/dataset.txt) to explore contextual bandits.  The dataset contains a pre-logged array of shape $[10000, 102]$. Each row represents a data point at time step $t$ where $t\\in[0, 9999]$. The first column represents the index of the arm $a_t$ that's chosen ($10$ arms in total). The second column represents the reward $r_t\\in\\{0,1\\}$ received for taking the selected arm. The last $100$ columns represent the context feature vector. \n",
        "\n",
        "The following code is inspired by [this code repository](https://github.com/kfoofw/bandit_simulations)."
      ]
    },
    {
      "cell_type": "code",
      "metadata": {
        "id": "GS5mRam_uU0a"
      },
      "source": [
        "# Download the dataset\n",
        "!wget http://www.cs.columbia.edu/~jebara/6998/dataset.txt"
      ],
      "execution_count": null,
      "outputs": []
    },
    {
      "cell_type": "code",
      "metadata": {
        "id": "ubGU1b1sKBxc"
      },
      "source": [
        "# load in the dataset\n",
        "#### TODO: load in the dataset.txt, and extract the data as a numpy array of shape [10000, 102] ####\n",
        "data = pd.read_csv('dataset.txt', sep=\" \", header=None)\n",
        "data = data.iloc[:, :-1]\n",
        "print(f'Dataset shape:{data.shape}')\n",
        "data[0] -= 1 # we use 0-based numbering\n",
        "data = data.to_numpy()"
      ],
      "execution_count": null,
      "outputs": []
    },
    {
      "cell_type": "code",
      "metadata": {
        "id": "kIyg3CmnS9W6"
      },
      "source": [
        "#### Contextual bandit environment ####\n",
        "@dataclass\n",
        "class ContextualBanditEnv:\n",
        "    dataset: Any\n",
        "    t: int = 0\n",
        "\n",
        "    def step(self, action):\n",
        "        # if the action matches the recorded action in the dataset, it will\n",
        "        # return the recorded reward in the dataset. Otherwise, it will return\n",
        "        # a reward of None\n",
        "        if action == self.dataset[self.t, 0]:\n",
        "            reward = self.dataset[self.t, 1]\n",
        "        else:\n",
        "            reward = None\n",
        "        self.t += 1\n",
        "        return reward\n",
        "    \n",
        "    def reset(self):\n",
        "        self.t = 0"
      ],
      "execution_count": null,
      "outputs": []
    },
    {
      "cell_type": "markdown",
      "metadata": {
        "id": "PSkHxoXI7NxV"
      },
      "source": [
        "Fill in the missing code below to implement the LinUCB agent."
      ]
    },
    {
      "cell_type": "code",
      "metadata": {
        "id": "9CaIHWbxKSRB"
      },
      "source": [
        "#### LinUCB Agent #### \n",
        "@dataclass\n",
        "class LinUCBAgent:\n",
        "    num_actions: int\n",
        "    alpha: float\n",
        "    feature_dim: int\n",
        "\n",
        "    def __post_init__(self):\n",
        "        self.reset()\n",
        "\n",
        "    def reset(self):\n",
        "        self.As = [np.identity(self.feature_dim) for i in range(self.num_actions)]\n",
        "        self.bs = [np.zeros([self.feature_dim, 1]) for i in range(self.num_actions)]\n",
        "      \n",
        "    def get_ucb(self, action, state):\n",
        "        #### TODO: compute the UCB of the selected action/arm, and the context information [5pts] ####\n",
        "\n",
        "        return p\n",
        "\n",
        "    def update_params(self, action, reward, state):\n",
        "        #### update A matrix and b matrix given the observed reward, ####\n",
        "        #### selected action, and the context feature                ####\n",
        "        if reward is None:\n",
        "            return        \n",
        "        #### TODO: update A and b matrices of the selected arm [5pts] ####\n",
        "\n",
        "        \n",
        "    def get_action(self, state):\n",
        "        #### find the action given the context information ####\n",
        "\n",
        "        #### TODO: get the UCB estimates for all actions [5pts] ####\n",
        "\n",
        "        #### TODO: choose an arm a_t=\\arg\\max_a(p_{t,a}) with ties broken arbitrarily [5pts] ####\n",
        "        selected_action = 0 # placeholder\n",
        "\n",
        "        return selected_action\n"
      ],
      "execution_count": null,
      "outputs": []
    },
    {
      "cell_type": "code",
      "metadata": {
        "id": "5-nzuQgFpqSC"
      },
      "source": [
        "#Code for running the contextual bandit environment. \n",
        "@dataclass\n",
        "class CtxBanditEngine:\n",
        "    dataset: Any\n",
        "    agent: Any\n",
        "\n",
        "    def __post_init__(self):\n",
        "        self.env = ContextualBanditEnv(dataset=self.dataset)\n",
        "    \n",
        "    def run(self, n_runs=1):\n",
        "        log = []\n",
        "        for i in tqdm(range(n_runs), desc='Runs'):\n",
        "            # we only record the time steps when the selected arm matches the arm in the pre-logged data\n",
        "            aligned_ctr = []\n",
        "            ret_val = 0\n",
        "            valid_time_steps = 0\n",
        "            self.env.reset()\n",
        "            self.agent.reset()\n",
        "            for t in tqdm(range(self.dataset.shape[0]), desc='Time'):\n",
        "                state=self.dataset[t, 2:]\n",
        "                action = self.agent.get_action(state=state)\n",
        "                reward = self.env.step(action)\n",
        "                self.agent.update_params(action, reward, state=state)\n",
        "                if reward is not None:\n",
        "                    ret_val += reward\n",
        "                    valid_time_steps += 1\n",
        "                    aligned_ctr.append(ret_val / float(valid_time_steps))\n",
        "            data = {'aligned_ctr': aligned_ctr, \n",
        "                    'step': np.arange(len(aligned_ctr))}\n",
        "            if hasattr(self.agent, 'alpha'):\n",
        "                data['alpha'] = self.agent.alpha\n",
        "            run_log = pd.DataFrame(data)\n",
        "            log.append(run_log)\n",
        "        return log"
      ],
      "execution_count": null,
      "outputs": []
    },
    {
      "cell_type": "code",
      "metadata": {
        "id": "IHuRQByTKStT"
      },
      "source": [
        "#Code for aggregrating results of running an agent in the contextual bandit environment. \n",
        "def ctxbandit_sweep(alphas, dataset, n_runs=2000):\n",
        "    logs = dict()\n",
        "    pbar = tqdm(alphas)\n",
        "    for idx, alpha in enumerate(pbar):\n",
        "        pbar.set_description(f'alpha:{alpha}')\n",
        "        agent = LinUCBAgent(num_actions=10, feature_dim=100, alpha=alpha)\n",
        "        engine = CtxBanditEngine(dataset=dataset, agent=agent)\n",
        "        ep_log = engine.run(n_runs)\n",
        "        ep_log = pd.concat(ep_log, ignore_index=True)\n",
        "        ep_log['alpha'] = alpha\n",
        "        logs[f'{alpha}'] = ep_log\n",
        "    logs = pd.concat(logs, ignore_index=True)\n",
        "    return logs"
      ],
      "execution_count": null,
      "outputs": []
    },
    {
      "cell_type": "code",
      "metadata": {
        "id": "9CzDa5NLszFb"
      },
      "source": [
        "#### TODO: run the sweep with alpha = [0, 0.01, 0.1, 0.5] and n_runs=1 [5pts] ####\n",
        "\n",
        "#########################################"
      ],
      "execution_count": null,
      "outputs": []
    },
    {
      "cell_type": "code",
      "metadata": {
        "id": "vmGCmMGnYQ17"
      },
      "source": [
        "plot(logs, x_key='step', y_key='aligned_ctr', legend_key='alpha', estimator='mean', ci=None)"
      ],
      "execution_count": null,
      "outputs": []
    },
    {
      "cell_type": "markdown",
      "metadata": {
        "id": "c6ZuIGloOkmR"
      },
      "source": [
        "**Question [5pts]**: What does $\\alpha$ affect in LinUCB?\n",
        "\n",
        "**Answer**: \n",
        "\n",
        "**Question [5pts]**: Do the reward curves change with $\\alpha$? If yes, why? If not, why not?\n",
        "\n",
        "**Answer**: "
      ]
    },
    {
      "cell_type": "code",
      "metadata": {
        "id": "jKE5FDwhy8tk"
      },
      "source": [
        "#### TODO: modify the UCB agent in the multi-armed bandits, and compare the\n",
        "#### aligned_ctr curves between bandit, and contextual bandit with alpha as 0, 0.01, 0.5  [10pts] ####\n"
      ],
      "execution_count": null,
      "outputs": []
    },
    {
      "cell_type": "markdown",
      "metadata": {
        "id": "Tz01_1DF-IrL"
      },
      "source": [
        "**Question [20pts]**: Does LinUCB outperform UCB? If yes, explain why. If not, explain why not. \n",
        "\n",
        "**Answer**: "
      ]
    },
    {
      "cell_type": "code",
      "metadata": {
        "id": "Mtr_xFAh-fQc"
      },
      "source": [
        ""
      ],
      "execution_count": null,
      "outputs": []
    }
  ]
}