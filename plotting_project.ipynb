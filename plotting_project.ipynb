{
  "cells": [
    {
      "cell_type": "markdown",
      "metadata": {
        "id": "view-in-github",
        "colab_type": "text"
      },
      "source": [
        "<a href=\"https://colab.research.google.com/github/LuisCGit/6.484-reinforcement-learning/blob/main/plotting_project.ipynb\" target=\"_parent\"><img src=\"https://colab.research.google.com/assets/colab-badge.svg\" alt=\"Open In Colab\"/></a>"
      ]
    },
    {
      "cell_type": "markdown",
      "metadata": {
        "id": "SKQ4bH7qMGrA"
      },
      "source": [
        "# Making the Most of your Colab Subscription\n",
        "\n"
      ]
    },
    {
      "cell_type": "markdown",
      "metadata": {
        "id": "QMMqmdiYMkvi"
      },
      "source": [
        "## Faster GPUs\n",
        "\n",
        "With Colab Pro you have priority access to our fastest GPUs and with Pro+ even more so. For example, you may get a T4 or P100 GPU at times when most users of standard Colab receive a slower K80 GPU. You can see what GPU you've been assigned at any time by executing the following cell.\n",
        "\n",
        "If the execution result of running the code cell below is \"Not connected to a GPU\", you can change the runtime by going to Runtime > Change runtime type in the menu to enable a GPU accelerator, and then re-execute the code cell."
      ]
    },
    {
      "cell_type": "code",
      "execution_count": null,
      "metadata": {
        "id": "23TOba33L4qf"
      },
      "outputs": [],
      "source": [
        "gpu_info = !nvidia-smi\n",
        "gpu_info = '\\n'.join(gpu_info)\n",
        "if gpu_info.find('failed') >= 0:\n",
        "  print('Not connected to a GPU')\n",
        "else:\n",
        "  print(gpu_info)"
      ]
    },
    {
      "cell_type": "markdown",
      "metadata": {
        "id": "Sa-IrJS1aRVJ"
      },
      "source": [
        "In order to use a GPU with your notebook, select the Runtime > Change runtime type menu, and then set the hardware accelerator dropdown to GPU."
      ]
    },
    {
      "cell_type": "markdown",
      "metadata": {
        "id": "65MSuHKqNeBZ"
      },
      "source": [
        "## More memory\n",
        "\n",
        "With Colab Pro you have the option to access high-memory VMs when they are available, and with Pro+ even more so. To set your notebook preference to use a high-memory runtime, select the Runtime > 'Change runtime type' menu, and then select High-RAM in the Runtime shape dropdown.\n",
        "\n",
        "You can see how much memory you have available at any time by running the following code cell.\n",
        "\n",
        "\n",
        "\n",
        "If the execution result of running the code cell below is \"Not using a high-RAM runtime\", then you can enable a high-RAM runtime via Runtime > Change runtime type in the menu. Then select High-RAM in the Runtime shape dropdown. After, re-execute the code cell.\n"
      ]
    },
    {
      "cell_type": "code",
      "execution_count": null,
      "metadata": {
        "id": "V1G82GuO-tez"
      },
      "outputs": [],
      "source": [
        "from psutil import virtual_memory\n",
        "ram_gb = virtual_memory().total / 1e9\n",
        "print('Your runtime has {:.1f} gigabytes of available RAM\\n'.format(ram_gb))\n",
        "\n",
        "if ram_gb < 20:\n",
        "  print('Not using a high-RAM runtime')\n",
        "else:\n",
        "  print('You are using a high-RAM runtime!')"
      ]
    },
    {
      "cell_type": "markdown",
      "metadata": {
        "id": "BJW8Qi-pPpep"
      },
      "source": [
        "## Longer runtimes\n",
        "\n",
        "All Colab runtimes are reset after some period of time (which is faster if the runtime isn't executing code). While Colab Pro subscribers still have limits, these will be roughly twice the limits for non-subscribers, with even more stability for Pro+."
      ]
    },
    {
      "cell_type": "markdown",
      "metadata": {
        "id": "uLlTRcMM_h0k"
      },
      "source": [
        "## Resource limits in Colab Pro\n",
        "\n",
        "Your resources are not unlimited in Colab. To make the most of Colab Pro and Pro+, please avoid using resources when you don't need them. For example, only use a GPU or high-RAM runtime when required, and close Colab tabs when finished.\n"
      ]
    },
    {
      "cell_type": "markdown",
      "metadata": {
        "id": "mm8FzEidvPs6"
      },
      "source": [
        "## Send us feedback!\n",
        "\n",
        "If you have any feedback for us, please let us know. The best way to send feedback is by using the Help > 'Send feedback...' menu. If you encounter usage limits in Colab Pro consider subscribing to Pro+. If you are interested in unlimited pay as you go usage to remove all imposed limits, please do let us know.\n",
        "\n",
        "If you encounter errors or other issues with billing (payments) for Colab Pro or Pro+, please email [colab-billing@google.com](mailto:colab-billing@google.com)."
      ]
    },
    {
      "cell_type": "markdown",
      "metadata": {
        "id": "qB3bdLe8jkAa"
      },
      "source": [
        "## More Resources\n",
        "\n",
        "### Working with Notebooks in Colab\n",
        "- [Overview of Colaboratory](/notebooks/basic_features_overview.ipynb)\n",
        "- [Guide to Markdown](/notebooks/markdown_guide.ipynb)\n",
        "- [Importing libraries and installing dependencies](/notebooks/snippets/importing_libraries.ipynb)\n",
        "- [Saving and loading notebooks in GitHub](https://colab.research.google.com/github/googlecolab/colabtools/blob/master/notebooks/colab-github-demo.ipynb)\n",
        "- [Interactive forms](/notebooks/forms.ipynb)\n",
        "- [Interactive widgets](/notebooks/widgets.ipynb)\n",
        "- <img src=\"/img/new.png\" height=\"20px\" align=\"left\" hspace=\"4px\" alt=\"New\"></img>\n",
        " [TensorFlow 2 in Colab](/notebooks/tensorflow_version.ipynb)\n",
        "\n",
        "<a name=\"working-with-data\"></a>\n",
        "### Working with Data\n",
        "- [Loading data: Drive, Sheets, and Google Cloud Storage](/notebooks/io.ipynb) \n",
        "- [Charts: visualizing data](/notebooks/charts.ipynb)\n",
        "- [Getting started with BigQuery](/notebooks/bigquery.ipynb)\n",
        "\n",
        "### Machine Learning Crash Course\n",
        "These are a few of the notebooks from Google's online Machine Learning course. See the [full course website](https://developers.google.com/machine-learning/crash-course/) for more.\n",
        "- [Intro to Pandas DataFrame](https://colab.research.google.com/github/google/eng-edu/blob/main/ml/cc/exercises/pandas_dataframe_ultraquick_tutorial.ipynb)\n",
        "- [Linear regression with tf.keras using synthetic data](https://colab.research.google.com/github/google/eng-edu/blob/main/ml/cc/exercises/linear_regression_with_synthetic_data.ipynb)\n",
        "\n",
        "\n",
        "<a name=\"using-accelerated-hardware\"></a>\n",
        "### Using Accelerated Hardware\n",
        "- [TensorFlow with GPUs](/notebooks/gpu.ipynb)\n",
        "- [TensorFlow with TPUs](/notebooks/tpu.ipynb)"
      ]
    },
    {
      "cell_type": "markdown",
      "metadata": {
        "id": "RFm2S0Gijqo8"
      },
      "source": [
        "<a name=\"machine-learning-examples\"></a>\n",
        "\n",
        "## Machine Learning Examples\n",
        "\n",
        "To see end-to-end examples of the interactive machine learning analyses that Colaboratory makes possible, check out these  tutorials using models from [TensorFlow Hub](https://tfhub.dev).\n",
        "\n",
        "A few featured examples:\n",
        "\n",
        "- [Retraining an Image Classifier](https://tensorflow.org/hub/tutorials/tf2_image_retraining): Build a Keras model on top of a pre-trained image classifier to distinguish flowers.\n",
        "- [Text Classification](https://tensorflow.org/hub/tutorials/tf2_text_classification): Classify IMDB movie reviews as either *positive* or *negative*.\n",
        "- [Style Transfer](https://tensorflow.org/hub/tutorials/tf2_arbitrary_image_stylization): Use deep learning to transfer style between images.\n",
        "- [Multilingual Universal Sentence Encoder Q&A](https://tensorflow.org/hub/tutorials/retrieval_with_tf_hub_universal_encoder_qa): Use a machine learning model to answer questions from the SQuAD dataset.\n",
        "- [Video Interpolation](https://tensorflow.org/hub/tutorials/tweening_conv3d): Predict what happened in a video between the first and the last frame.\n"
      ]
    },
    {
      "cell_type": "code",
      "source": [
        "import seaborn as sns\n",
        "import pickle\n",
        "import numpy as np"
      ],
      "metadata": {
        "id": "Jb2I7gQ1Q8oM"
      },
      "execution_count": 38,
      "outputs": []
    },
    {
      "cell_type": "code",
      "source": [
        "with open('/content/probability_all_envs2 (2).pkl', 'rb') as f:\n",
        "  df_master = pickle.load(f)"
      ],
      "metadata": {
        "id": "GzfPfBbKQ9wj"
      },
      "execution_count": 33,
      "outputs": []
    },
    {
      "cell_type": "code",
      "source": [
        "df['Seed'].unique()"
      ],
      "metadata": {
        "id": "FPZ3jiknRcGP",
        "outputId": "4b553b3a-9a2a-4719-bb4c-d01149760f32",
        "colab": {
          "base_uri": "https://localhost:8080/"
        }
      },
      "execution_count": null,
      "outputs": [
        {
          "output_type": "execute_result",
          "data": {
            "text/plain": [
              "array([0, 1, 2, 3, 4, 5])"
            ]
          },
          "metadata": {},
          "execution_count": 9
        }
      ]
    },
    {
      "cell_type": "code",
      "source": [
        "df_master.head()"
      ],
      "metadata": {
        "id": "47Ui-Db1Tsn0",
        "outputId": "e39ddf0a-2485-4e64-9c04-1811b064e14d",
        "colab": {
          "base_uri": "https://localhost:8080/",
          "height": 206
        }
      },
      "execution_count": null,
      "outputs": [
        {
          "output_type": "execute_result",
          "data": {
            "text/plain": [
              "   num_frames  smooth_reward  reward  policy_loss  value_loss Algorithm  Seed  \\\n",
              "0         250            0.0       0    -0.031460          69   explore     0   \n",
              "1         500            0.0       0    -0.029851          69   explore     0   \n",
              "2         750            0.0       0    -0.021226          69   explore     0   \n",
              "3        1000            0.0       0    -0.020180          69   explore     0   \n",
              "4        1250            0.0       0    -0.022323          69   explore     0   \n",
              "\n",
              "   episode  \n",
              "0        0  \n",
              "1        1  \n",
              "2        2  \n",
              "3        3  \n",
              "4        4  "
            ],
            "text/html": [
              "\n",
              "  <div id=\"df-8185ad59-80ef-434d-a646-04821619e039\">\n",
              "    <div class=\"colab-df-container\">\n",
              "      <div>\n",
              "<style scoped>\n",
              "    .dataframe tbody tr th:only-of-type {\n",
              "        vertical-align: middle;\n",
              "    }\n",
              "\n",
              "    .dataframe tbody tr th {\n",
              "        vertical-align: top;\n",
              "    }\n",
              "\n",
              "    .dataframe thead th {\n",
              "        text-align: right;\n",
              "    }\n",
              "</style>\n",
              "<table border=\"1\" class=\"dataframe\">\n",
              "  <thead>\n",
              "    <tr style=\"text-align: right;\">\n",
              "      <th></th>\n",
              "      <th>num_frames</th>\n",
              "      <th>smooth_reward</th>\n",
              "      <th>reward</th>\n",
              "      <th>policy_loss</th>\n",
              "      <th>value_loss</th>\n",
              "      <th>Algorithm</th>\n",
              "      <th>Seed</th>\n",
              "      <th>episode</th>\n",
              "    </tr>\n",
              "  </thead>\n",
              "  <tbody>\n",
              "    <tr>\n",
              "      <th>0</th>\n",
              "      <td>250</td>\n",
              "      <td>0.0</td>\n",
              "      <td>0</td>\n",
              "      <td>-0.031460</td>\n",
              "      <td>69</td>\n",
              "      <td>explore</td>\n",
              "      <td>0</td>\n",
              "      <td>0</td>\n",
              "    </tr>\n",
              "    <tr>\n",
              "      <th>1</th>\n",
              "      <td>500</td>\n",
              "      <td>0.0</td>\n",
              "      <td>0</td>\n",
              "      <td>-0.029851</td>\n",
              "      <td>69</td>\n",
              "      <td>explore</td>\n",
              "      <td>0</td>\n",
              "      <td>1</td>\n",
              "    </tr>\n",
              "    <tr>\n",
              "      <th>2</th>\n",
              "      <td>750</td>\n",
              "      <td>0.0</td>\n",
              "      <td>0</td>\n",
              "      <td>-0.021226</td>\n",
              "      <td>69</td>\n",
              "      <td>explore</td>\n",
              "      <td>0</td>\n",
              "      <td>2</td>\n",
              "    </tr>\n",
              "    <tr>\n",
              "      <th>3</th>\n",
              "      <td>1000</td>\n",
              "      <td>0.0</td>\n",
              "      <td>0</td>\n",
              "      <td>-0.020180</td>\n",
              "      <td>69</td>\n",
              "      <td>explore</td>\n",
              "      <td>0</td>\n",
              "      <td>3</td>\n",
              "    </tr>\n",
              "    <tr>\n",
              "      <th>4</th>\n",
              "      <td>1250</td>\n",
              "      <td>0.0</td>\n",
              "      <td>0</td>\n",
              "      <td>-0.022323</td>\n",
              "      <td>69</td>\n",
              "      <td>explore</td>\n",
              "      <td>0</td>\n",
              "      <td>4</td>\n",
              "    </tr>\n",
              "  </tbody>\n",
              "</table>\n",
              "</div>\n",
              "      <button class=\"colab-df-convert\" onclick=\"convertToInteractive('df-8185ad59-80ef-434d-a646-04821619e039')\"\n",
              "              title=\"Convert this dataframe to an interactive table.\"\n",
              "              style=\"display:none;\">\n",
              "        \n",
              "  <svg xmlns=\"http://www.w3.org/2000/svg\" height=\"24px\"viewBox=\"0 0 24 24\"\n",
              "       width=\"24px\">\n",
              "    <path d=\"M0 0h24v24H0V0z\" fill=\"none\"/>\n",
              "    <path d=\"M18.56 5.44l.94 2.06.94-2.06 2.06-.94-2.06-.94-.94-2.06-.94 2.06-2.06.94zm-11 1L8.5 8.5l.94-2.06 2.06-.94-2.06-.94L8.5 2.5l-.94 2.06-2.06.94zm10 10l.94 2.06.94-2.06 2.06-.94-2.06-.94-.94-2.06-.94 2.06-2.06.94z\"/><path d=\"M17.41 7.96l-1.37-1.37c-.4-.4-.92-.59-1.43-.59-.52 0-1.04.2-1.43.59L10.3 9.45l-7.72 7.72c-.78.78-.78 2.05 0 2.83L4 21.41c.39.39.9.59 1.41.59.51 0 1.02-.2 1.41-.59l7.78-7.78 2.81-2.81c.8-.78.8-2.07 0-2.86zM5.41 20L4 18.59l7.72-7.72 1.47 1.35L5.41 20z\"/>\n",
              "  </svg>\n",
              "      </button>\n",
              "      \n",
              "  <style>\n",
              "    .colab-df-container {\n",
              "      display:flex;\n",
              "      flex-wrap:wrap;\n",
              "      gap: 12px;\n",
              "    }\n",
              "\n",
              "    .colab-df-convert {\n",
              "      background-color: #E8F0FE;\n",
              "      border: none;\n",
              "      border-radius: 50%;\n",
              "      cursor: pointer;\n",
              "      display: none;\n",
              "      fill: #1967D2;\n",
              "      height: 32px;\n",
              "      padding: 0 0 0 0;\n",
              "      width: 32px;\n",
              "    }\n",
              "\n",
              "    .colab-df-convert:hover {\n",
              "      background-color: #E2EBFA;\n",
              "      box-shadow: 0px 1px 2px rgba(60, 64, 67, 0.3), 0px 1px 3px 1px rgba(60, 64, 67, 0.15);\n",
              "      fill: #174EA6;\n",
              "    }\n",
              "\n",
              "    [theme=dark] .colab-df-convert {\n",
              "      background-color: #3B4455;\n",
              "      fill: #D2E3FC;\n",
              "    }\n",
              "\n",
              "    [theme=dark] .colab-df-convert:hover {\n",
              "      background-color: #434B5C;\n",
              "      box-shadow: 0px 1px 3px 1px rgba(0, 0, 0, 0.15);\n",
              "      filter: drop-shadow(0px 1px 2px rgba(0, 0, 0, 0.3));\n",
              "      fill: #FFFFFF;\n",
              "    }\n",
              "  </style>\n",
              "\n",
              "      <script>\n",
              "        const buttonEl =\n",
              "          document.querySelector('#df-8185ad59-80ef-434d-a646-04821619e039 button.colab-df-convert');\n",
              "        buttonEl.style.display =\n",
              "          google.colab.kernel.accessAllowed ? 'block' : 'none';\n",
              "\n",
              "        async function convertToInteractive(key) {\n",
              "          const element = document.querySelector('#df-8185ad59-80ef-434d-a646-04821619e039');\n",
              "          const dataTable =\n",
              "            await google.colab.kernel.invokeFunction('convertToInteractive',\n",
              "                                                     [key], {});\n",
              "          if (!dataTable) return;\n",
              "\n",
              "          const docLinkHtml = 'Like what you see? Visit the ' +\n",
              "            '<a target=\"_blank\" href=https://colab.research.google.com/notebooks/data_table.ipynb>data table notebook</a>'\n",
              "            + ' to learn more about interactive tables.';\n",
              "          element.innerHTML = '';\n",
              "          dataTable['output_type'] = 'display_data';\n",
              "          await google.colab.output.renderOutput(dataTable, element);\n",
              "          const docLink = document.createElement('div');\n",
              "          docLink.innerHTML = docLinkHtml;\n",
              "          element.appendChild(docLink);\n",
              "        }\n",
              "      </script>\n",
              "    </div>\n",
              "  </div>\n",
              "  "
            ]
          },
          "metadata": {},
          "execution_count": 10
        }
      ]
    },
    {
      "cell_type": "code",
      "source": [
        "sns.lineplot(data=df_master, x=\"episode\", y=\"smooth_reward\", hue=\"Algorithm\",estimator=\"mean\").set(\n",
        "    title='Comparison of Various Model-Free RL Algorithms on DoorKey')"
      ],
      "metadata": {
        "id": "Uxv0H_IcRdhx",
        "outputId": "05d0e8fd-c3d6-497a-9c65-e58cffd14384",
        "colab": {
          "base_uri": "https://localhost:8080/",
          "height": 312
        }
      },
      "execution_count": null,
      "outputs": [
        {
          "output_type": "execute_result",
          "data": {
            "text/plain": [
              "[Text(0.5, 1.0, 'Comparison of Various Model-Free RL Algorithms on DoorKey')]"
            ]
          },
          "metadata": {},
          "execution_count": 7
        },
        {
          "output_type": "display_data",
          "data": {
            "text/plain": [
              "<Figure size 432x288 with 1 Axes>"
            ],
            "image/png": "[encoded data removed]"
          },
          "metadata": {
            "needs_background": "light"
          }
        }
      ]
    },
    {
      "cell_type": "code",
      "source": [
        "envs = df_master['environment'].unique()\n",
        "env = envs[0]\n",
        "df = df_master[df_master['environment'] == env]\n",
        "df.groupby([\"Algorithm\", \"Seed\"], as_index = False).max().groupby('Algorithm').mean()['episode']"
      ],
      "metadata": {
        "id": "fgd2ur_8s18S",
        "outputId": "dacf4e4d-2742-4e69-b556-f734907aef21",
        "colab": {
          "base_uri": "https://localhost:8080/"
        }
      },
      "execution_count": 54,
      "outputs": [
        {
          "output_type": "execute_result",
          "data": {
            "text/plain": [
              "Algorithm\n",
              "Baseline       72.833333\n",
              "explore        59.800000\n",
              "exponential    63.200000\n",
              "threshold      67.833333\n",
              "Name: episode, dtype: float64"
            ]
          },
          "metadata": {},
          "execution_count": 54
        }
      ]
    },
    {
      "cell_type": "code",
      "source": [
        "df.groupby([\"Algorithm\", \"Seed\"], as_index = False).max().groupby('Algorithm').std()['episode']"
      ],
      "metadata": {
        "id": "PRaOEagjtttw",
        "outputId": "41858762-b307-4114-d6aa-78c8d9463165",
        "colab": {
          "base_uri": "https://localhost:8080/"
        }
      },
      "execution_count": 56,
      "outputs": [
        {
          "output_type": "execute_result",
          "data": {
            "text/plain": [
              "Algorithm\n",
              "Baseline       15.904926\n",
              "explore        11.432410\n",
              "exponential    13.863621\n",
              "threshold      11.107055\n",
              "Name: episode, dtype: float64"
            ]
          },
          "metadata": {},
          "execution_count": 56
        }
      ]
    },
    {
      "cell_type": "code",
      "source": [
        "envs = df_master['environment'].unique()\n",
        "env = envs[1]\n",
        "df = df_master[df_master['environment'] == env]\n",
        "df.groupby([\"Algorithm\", \"Seed\"], as_index = False).max().groupby('Algorithm').mean()['episode']"
      ],
      "metadata": {
        "id": "jtUFTTw0tFe6",
        "outputId": "79e5b8e1-0c96-4bda-dc20-3a5c43bc0f0b",
        "colab": {
          "base_uri": "https://localhost:8080/"
        }
      },
      "execution_count": 57,
      "outputs": [
        {
          "output_type": "execute_result",
          "data": {
            "text/plain": [
              "Algorithm\n",
              "Baseline       191.833333\n",
              "explore        150.600000\n",
              "exponential    229.400000\n",
              "threshold      358.000000\n",
              "Name: episode, dtype: float64"
            ]
          },
          "metadata": {},
          "execution_count": 57
        }
      ]
    },
    {
      "cell_type": "code",
      "source": [
        "df.groupby([\"Algorithm\", \"Seed\"], as_index = False).max().groupby('Algorithm').std()['episode']"
      ],
      "metadata": {
        "id": "IGrsj9jGuUOH",
        "outputId": "2544da2d-bb54-4a85-94bd-596343802b77",
        "colab": {
          "base_uri": "https://localhost:8080/"
        }
      },
      "execution_count": 59,
      "outputs": [
        {
          "output_type": "execute_result",
          "data": {
            "text/plain": [
              "Algorithm\n",
              "Baseline        42.006745\n",
              "explore         37.266607\n",
              "exponential     46.548899\n",
              "threshold      339.129474\n",
              "Name: episode, dtype: float64"
            ]
          },
          "metadata": {},
          "execution_count": 59
        }
      ]
    },
    {
      "cell_type": "code",
      "source": [
        "envs = df_master['environment'].unique()\n",
        "env = envs[2]\n",
        "df = df_master[df_master['environment'] == env]\n",
        "df.groupby([\"Algorithm\", \"Seed\"], as_index = False).max().groupby('Algorithm').mean()['episode']"
      ],
      "metadata": {
        "id": "5SSVIMxltHrd",
        "outputId": "c8ea4b8c-8ff1-481d-e3e8-3e1a32ad8cae",
        "colab": {
          "base_uri": "https://localhost:8080/"
        }
      },
      "execution_count": 60,
      "outputs": [
        {
          "output_type": "execute_result",
          "data": {
            "text/plain": [
              "Algorithm\n",
              "Baseline        420.333333\n",
              "explore         480.000000\n",
              "exponential    1090.000000\n",
              "threshold       442.333333\n",
              "Name: episode, dtype: float64"
            ]
          },
          "metadata": {},
          "execution_count": 60
        }
      ]
    },
    {
      "cell_type": "code",
      "source": [
        "df.groupby([\"Algorithm\", \"Seed\"], as_index = False).max().groupby('Algorithm').std()['episode']"
      ],
      "metadata": {
        "id": "pnPG09hbuvFk",
        "outputId": "e2f643d9-a3ba-4c75-f339-d237e04d7d0e",
        "colab": {
          "base_uri": "https://localhost:8080/"
        }
      },
      "execution_count": 63,
      "outputs": [
        {
          "output_type": "execute_result",
          "data": {
            "text/plain": [
              "Algorithm\n",
              "Baseline         87.399466\n",
              "explore         217.654543\n",
              "exponential    1165.075319\n",
              "threshold       134.468832\n",
              "Name: episode, dtype: float64"
            ]
          },
          "metadata": {},
          "execution_count": 63
        }
      ]
    },
    {
      "cell_type": "code",
      "source": [
        "df = df_master[df_master['environment'] == envs[2]]\n",
        "S = len(df_master['Seed'].unique())\n",
        "E = len(df_master['episode'].unique())\n",
        "fulls = []\n",
        "for alg in [\"explore\", 'exponential', 'threshold', 'baseline']:\n",
        "  avg = np.zeros((S,E))\n",
        "  for seed in range(S):\n",
        "      full = np.zeros((E,))\n",
        "      y = df[(df['Algorithm'] == alg) & (df['Seed'] == seed )]['smooth_reward'].values\n",
        "      full[:len(y)] = y\n",
        "      for i in range(len(y), len(full)):\n",
        "        full[i] = 0.94\n",
        "      avg[seed] = full\n",
        "  fulls.append(np.mean(avg, axis = 0))\n",
        "  "
      ],
      "metadata": {
        "id": "7b5vMlkwRspy"
      },
      "execution_count": 61,
      "outputs": []
    },
    {
      "cell_type": "code",
      "source": [
        "algs = [\"explore\", 'exponential', 'threshold', 'baseline']\n",
        "for i, avg in enumerate(fulls):\n",
        "  plt.plot(np.arange(E), avg, label = algs[i])\n",
        "plt.legend()\n",
        "plt.xlabel(\"episode\")\n",
        "plt.ylabel(\"smooth_reward\")\n",
        "plt.title(\"Performance of PPO variants on 5x5 DoorKey\")\n",
        "plt.savefig(\"elite.png\")"
      ],
      "metadata": {
        "id": "a1E3my3YVK-q",
        "outputId": "805684fa-8665-4d34-d25b-37c3ea3d5323",
        "colab": {
          "base_uri": "https://localhost:8080/",
          "height": 295
        }
      },
      "execution_count": 49,
      "outputs": [
        {
          "output_type": "display_data",
          "data": {
            "text/plain": [
              "<Figure size 432x288 with 1 Axes>"
            ],
            "image/png": "[encoded data removed]"
          },
          "metadata": {
            "needs_background": "light"
          }
        }
      ]
    },
    {
      "cell_type": "code",
      "source": [
        "df"
      ],
      "metadata": {
        "id": "0jye9P5Msb5G",
        "outputId": "fb83140a-854f-4220-d2bd-be0849b28a8d",
        "colab": {
          "base_uri": "https://localhost:8080/",
          "height": 424
        }
      },
      "execution_count": 45,
      "outputs": [
        {
          "output_type": "execute_result",
          "data": {
            "text/plain": [
              "       num_frames  smooth_reward  reward  policy_loss  value_loss  Algorithm  \\\n",
              "677           360           0.00       0    -0.025428          69  threshold   \n",
              "678           720           0.00       0    -0.022342          69  threshold   \n",
              "679          1080           0.00       0    -0.020929          69  threshold   \n",
              "680          1440           0.00       0    -0.021304          69  threshold   \n",
              "681          1800           0.00       0    -0.020633          69  threshold   \n",
              "...           ...            ...     ...          ...         ...        ...   \n",
              "19745      110368           0.90       1     0.009484          69   Baseline   \n",
              "19746      110411           0.90       1    -0.052287          69   Baseline   \n",
              "19747      110482           0.92       1     0.004422          69   Baseline   \n",
              "19748      110581           0.92       1     0.020683          69   Baseline   \n",
              "19749      110675           0.94       1    -0.000373          69   Baseline   \n",
              "\n",
              "       Seed              environment  episode  \n",
              "677       1  MiniGrid-DoorKey-6x6-v0        0  \n",
              "678       1  MiniGrid-DoorKey-6x6-v0        1  \n",
              "679       1  MiniGrid-DoorKey-6x6-v0        2  \n",
              "680       1  MiniGrid-DoorKey-6x6-v0        3  \n",
              "681       1  MiniGrid-DoorKey-6x6-v0        4  \n",
              "...     ...                      ...      ...  \n",
              "19745     6  MiniGrid-DoorKey-6x6-v0      358  \n",
              "19746     6  MiniGrid-DoorKey-6x6-v0      359  \n",
              "19747     6  MiniGrid-DoorKey-6x6-v0      360  \n",
              "19748     6  MiniGrid-DoorKey-6x6-v0      361  \n",
              "19749     6  MiniGrid-DoorKey-6x6-v0      362  \n",
              "\n",
              "[13048 rows x 9 columns]"
            ],
            "text/html": [
              "\n",
              "  <div id=\"df-d920e458-65f6-4bb6-ad45-0a570e73d572\">\n",
              "    <div class=\"colab-df-container\">\n",
              "      <div>\n",
              "<style scoped>\n",
              "    .dataframe tbody tr th:only-of-type {\n",
              "        vertical-align: middle;\n",
              "    }\n",
              "\n",
              "    .dataframe tbody tr th {\n",
              "        vertical-align: top;\n",
              "    }\n",
              "\n",
              "    .dataframe thead th {\n",
              "        text-align: right;\n",
              "    }\n",
              "</style>\n",
              "<table border=\"1\" class=\"dataframe\">\n",
              "  <thead>\n",
              "    <tr style=\"text-align: right;\">\n",
              "      <th></th>\n",
              "      <th>num_frames</th>\n",
              "      <th>smooth_reward</th>\n",
              "      <th>reward</th>\n",
              "      <th>policy_loss</th>\n",
              "      <th>value_loss</th>\n",
              "      <th>Algorithm</th>\n",
              "      <th>Seed</th>\n",
              "      <th>environment</th>\n",
              "      <th>episode</th>\n",
              "    </tr>\n",
              "  </thead>\n",
              "  <tbody>\n",
              "    <tr>\n",
              "      <th>677</th>\n",
              "      <td>360</td>\n",
              "      <td>0.00</td>\n",
              "      <td>0</td>\n",
              "      <td>-0.025428</td>\n",
              "      <td>69</td>\n",
              "      <td>threshold</td>\n",
              "      <td>1</td>\n",
              "      <td>MiniGrid-DoorKey-6x6-v0</td>\n",
              "      <td>0</td>\n",
              "    </tr>\n",
              "    <tr>\n",
              "      <th>678</th>\n",
              "      <td>720</td>\n",
              "      <td>0.00</td>\n",
              "      <td>0</td>\n",
              "      <td>-0.022342</td>\n",
              "      <td>69</td>\n",
              "      <td>threshold</td>\n",
              "      <td>1</td>\n",
              "      <td>MiniGrid-DoorKey-6x6-v0</td>\n",
              "      <td>1</td>\n",
              "    </tr>\n",
              "    <tr>\n",
              "      <th>679</th>\n",
              "      <td>1080</td>\n",
              "      <td>0.00</td>\n",
              "      <td>0</td>\n",
              "      <td>-0.020929</td>\n",
              "      <td>69</td>\n",
              "      <td>threshold</td>\n",
              "      <td>1</td>\n",
              "      <td>MiniGrid-DoorKey-6x6-v0</td>\n",
              "      <td>2</td>\n",
              "    </tr>\n",
              "    <tr>\n",
              "      <th>680</th>\n",
              "      <td>1440</td>\n",
              "      <td>0.00</td>\n",
              "      <td>0</td>\n",
              "      <td>-0.021304</td>\n",
              "      <td>69</td>\n",
              "      <td>threshold</td>\n",
              "      <td>1</td>\n",
              "      <td>MiniGrid-DoorKey-6x6-v0</td>\n",
              "      <td>3</td>\n",
              "    </tr>\n",
              "    <tr>\n",
              "      <th>681</th>\n",
              "      <td>1800</td>\n",
              "      <td>0.00</td>\n",
              "      <td>0</td>\n",
              "      <td>-0.020633</td>\n",
              "      <td>69</td>\n",
              "      <td>threshold</td>\n",
              "      <td>1</td>\n",
              "      <td>MiniGrid-DoorKey-6x6-v0</td>\n",
              "      <td>4</td>\n",
              "    </tr>\n",
              "    <tr>\n",
              "      <th>...</th>\n",
              "      <td>...</td>\n",
              "      <td>...</td>\n",
              "      <td>...</td>\n",
              "      <td>...</td>\n",
              "      <td>...</td>\n",
              "      <td>...</td>\n",
              "      <td>...</td>\n",
              "      <td>...</td>\n",
              "      <td>...</td>\n",
              "    </tr>\n",
              "    <tr>\n",
              "      <th>19745</th>\n",
              "      <td>110368</td>\n",
              "      <td>0.90</td>\n",
              "      <td>1</td>\n",
              "      <td>0.009484</td>\n",
              "      <td>69</td>\n",
              "      <td>Baseline</td>\n",
              "      <td>6</td>\n",
              "      <td>MiniGrid-DoorKey-6x6-v0</td>\n",
              "      <td>358</td>\n",
              "    </tr>\n",
              "    <tr>\n",
              "      <th>19746</th>\n",
              "      <td>110411</td>\n",
              "      <td>0.90</td>\n",
              "      <td>1</td>\n",
              "      <td>-0.052287</td>\n",
              "      <td>69</td>\n",
              "      <td>Baseline</td>\n",
              "      <td>6</td>\n",
              "      <td>MiniGrid-DoorKey-6x6-v0</td>\n",
              "      <td>359</td>\n",
              "    </tr>\n",
              "    <tr>\n",
              "      <th>19747</th>\n",
              "      <td>110482</td>\n",
              "      <td>0.92</td>\n",
              "      <td>1</td>\n",
              "      <td>0.004422</td>\n",
              "      <td>69</td>\n",
              "      <td>Baseline</td>\n",
              "      <td>6</td>\n",
              "      <td>MiniGrid-DoorKey-6x6-v0</td>\n",
              "      <td>360</td>\n",
              "    </tr>\n",
              "    <tr>\n",
              "      <th>19748</th>\n",
              "      <td>110581</td>\n",
              "      <td>0.92</td>\n",
              "      <td>1</td>\n",
              "      <td>0.020683</td>\n",
              "      <td>69</td>\n",
              "      <td>Baseline</td>\n",
              "      <td>6</td>\n",
              "      <td>MiniGrid-DoorKey-6x6-v0</td>\n",
              "      <td>361</td>\n",
              "    </tr>\n",
              "    <tr>\n",
              "      <th>19749</th>\n",
              "      <td>110675</td>\n",
              "      <td>0.94</td>\n",
              "      <td>1</td>\n",
              "      <td>-0.000373</td>\n",
              "      <td>69</td>\n",
              "      <td>Baseline</td>\n",
              "      <td>6</td>\n",
              "      <td>MiniGrid-DoorKey-6x6-v0</td>\n",
              "      <td>362</td>\n",
              "    </tr>\n",
              "  </tbody>\n",
              "</table>\n",
              "<p>13048 rows × 9 columns</p>\n",
              "</div>\n",
              "      <button class=\"colab-df-convert\" onclick=\"convertToInteractive('df-d920e458-65f6-4bb6-ad45-0a570e73d572')\"\n",
              "              title=\"Convert this dataframe to an interactive table.\"\n",
              "              style=\"display:none;\">\n",
              "        \n",
              "  <svg xmlns=\"http://www.w3.org/2000/svg\" height=\"24px\"viewBox=\"0 0 24 24\"\n",
              "       width=\"24px\">\n",
              "    <path d=\"M0 0h24v24H0V0z\" fill=\"none\"/>\n",
              "    <path d=\"M18.56 5.44l.94 2.06.94-2.06 2.06-.94-2.06-.94-.94-2.06-.94 2.06-2.06.94zm-11 1L8.5 8.5l.94-2.06 2.06-.94-2.06-.94L8.5 2.5l-.94 2.06-2.06.94zm10 10l.94 2.06.94-2.06 2.06-.94-2.06-.94-.94-2.06-.94 2.06-2.06.94z\"/><path d=\"M17.41 7.96l-1.37-1.37c-.4-.4-.92-.59-1.43-.59-.52 0-1.04.2-1.43.59L10.3 9.45l-7.72 7.72c-.78.78-.78 2.05 0 2.83L4 21.41c.39.39.9.59 1.41.59.51 0 1.02-.2 1.41-.59l7.78-7.78 2.81-2.81c.8-.78.8-2.07 0-2.86zM5.41 20L4 18.59l7.72-7.72 1.47 1.35L5.41 20z\"/>\n",
              "  </svg>\n",
              "      </button>\n",
              "      \n",
              "  <style>\n",
              "    .colab-df-container {\n",
              "      display:flex;\n",
              "      flex-wrap:wrap;\n",
              "      gap: 12px;\n",
              "    }\n",
              "\n",
              "    .colab-df-convert {\n",
              "      background-color: #E8F0FE;\n",
              "      border: none;\n",
              "      border-radius: 50%;\n",
              "      cursor: pointer;\n",
              "      display: none;\n",
              "      fill: #1967D2;\n",
              "      height: 32px;\n",
              "      padding: 0 0 0 0;\n",
              "      width: 32px;\n",
              "    }\n",
              "\n",
              "    .colab-df-convert:hover {\n",
              "      background-color: #E2EBFA;\n",
              "      box-shadow: 0px 1px 2px rgba(60, 64, 67, 0.3), 0px 1px 3px 1px rgba(60, 64, 67, 0.15);\n",
              "      fill: #174EA6;\n",
              "    }\n",
              "\n",
              "    [theme=dark] .colab-df-convert {\n",
              "      background-color: #3B4455;\n",
              "      fill: #D2E3FC;\n",
              "    }\n",
              "\n",
              "    [theme=dark] .colab-df-convert:hover {\n",
              "      background-color: #434B5C;\n",
              "      box-shadow: 0px 1px 3px 1px rgba(0, 0, 0, 0.15);\n",
              "      filter: drop-shadow(0px 1px 2px rgba(0, 0, 0, 0.3));\n",
              "      fill: #FFFFFF;\n",
              "    }\n",
              "  </style>\n",
              "\n",
              "      <script>\n",
              "        const buttonEl =\n",
              "          document.querySelector('#df-d920e458-65f6-4bb6-ad45-0a570e73d572 button.colab-df-convert');\n",
              "        buttonEl.style.display =\n",
              "          google.colab.kernel.accessAllowed ? 'block' : 'none';\n",
              "\n",
              "        async function convertToInteractive(key) {\n",
              "          const element = document.querySelector('#df-d920e458-65f6-4bb6-ad45-0a570e73d572');\n",
              "          const dataTable =\n",
              "            await google.colab.kernel.invokeFunction('convertToInteractive',\n",
              "                                                     [key], {});\n",
              "          if (!dataTable) return;\n",
              "\n",
              "          const docLinkHtml = 'Like what you see? Visit the ' +\n",
              "            '<a target=\"_blank\" href=https://colab.research.google.com/notebooks/data_table.ipynb>data table notebook</a>'\n",
              "            + ' to learn more about interactive tables.';\n",
              "          element.innerHTML = '';\n",
              "          dataTable['output_type'] = 'display_data';\n",
              "          await google.colab.output.renderOutput(dataTable, element);\n",
              "          const docLink = document.createElement('div');\n",
              "          docLink.innerHTML = docLinkHtml;\n",
              "          element.appendChild(docLink);\n",
              "        }\n",
              "      </script>\n",
              "    </div>\n",
              "  </div>\n",
              "  "
            ]
          },
          "metadata": {},
          "execution_count": 45
        }
      ]
    },
    {
      "cell_type": "code",
      "source": [
        "import matplotlib.pyplot as plt"
      ],
      "metadata": {
        "id": "NXY7_SHDTv1A"
      },
      "execution_count": 42,
      "outputs": []
    },
    {
      "cell_type": "code",
      "source": [
        "import numpy as np"
      ],
      "metadata": {
        "id": "HSUI6XCDUGVC"
      },
      "execution_count": null,
      "outputs": []
    },
    {
      "cell_type": "code",
      "source": [
        "import "
      ],
      "metadata": {
        "id": "beS_WJJkUYCH"
      },
      "execution_count": null,
      "outputs": []
    }
  ],
  "metadata": {
    "colab": {
      "collapsed_sections": [],
      "name": "Making the Most of your Colab Subscription",
      "provenance": [],
      "include_colab_link": true
    },
    "kernelspec": {
      "display_name": "Python 3",
      "name": "python3"
    }
  },
  "nbformat": 4,
  "nbformat_minor": 0
}